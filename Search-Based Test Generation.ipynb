{
 "cells": [
  {
   "cell_type": "markdown",
   "metadata": {
    "slideshow": {
     "slide_type": "slide"
    }
   },
   "source": [
    "# Search-Based Test Generation"
   ]
  },
  {
   "cell_type": "code",
   "execution_count": 1,
   "metadata": {
    "slideshow": {
     "slide_type": "skip"
    }
   },
   "outputs": [],
   "source": [
    "import random\n",
    "import matplotlib.pyplot as plt\n",
    "import numpy as np\n",
    "from mpl_toolkits.mplot3d import Axes3D"
   ]
  },
  {
   "cell_type": "markdown",
   "metadata": {
    "slideshow": {
     "slide_type": "skip"
    }
   },
   "source": [
    "## The Test Data Generation Problem"
   ]
  },
  {
   "cell_type": "markdown",
   "metadata": {
    "slideshow": {
     "slide_type": "skip"
    }
   },
   "source": [
    "The problem we will consider in this chapter is the following: Given an entry point to a program (a function), we want to find values for the parameters of this function such that the execution of the function reaches a particular point in the program. In other words, we aim to find a test input to the program that covers a target statement. We will then generalise this problem to finding test inputs to cover _all_ statements in the program."
   ]
  },
  {
   "cell_type": "markdown",
   "metadata": {
    "slideshow": {
     "slide_type": "skip"
    }
   },
   "source": [
    "Assume we are aiming to test the following function under test:"
   ]
  },
  {
   "cell_type": "code",
   "execution_count": 2,
   "metadata": {
    "slideshow": {
     "slide_type": "fragment"
    }
   },
   "outputs": [],
   "source": [
    "def test_me(x, y):\n",
    "    if x == 2 * (y + 1):\n",
    "        return True\n",
    "    else:\n",
    "        return False"
   ]
  },
  {
   "cell_type": "markdown",
   "metadata": {
    "slideshow": {
     "slide_type": "skip"
    }
   },
   "source": [
    "The `test_me` function has two input parameters, `x`and `y`, and it returns `True` or `False` depending on how the parameters relate:"
   ]
  },
  {
   "cell_type": "code",
   "execution_count": 3,
   "metadata": {
    "slideshow": {
     "slide_type": "skip"
    }
   },
   "outputs": [
    {
     "data": {
      "text/plain": [
       "False"
      ]
     },
     "execution_count": 3,
     "metadata": {},
     "output_type": "execute_result"
    }
   ],
   "source": [
    "test_me(10, 10)"
   ]
  },
  {
   "cell_type": "code",
   "execution_count": 4,
   "metadata": {
    "slideshow": {
     "slide_type": "skip"
    }
   },
   "outputs": [
    {
     "data": {
      "text/plain": [
       "True"
      ]
     },
     "execution_count": 4,
     "metadata": {},
     "output_type": "execute_result"
    }
   ],
   "source": [
    "test_me(22, 10)"
   ]
  },
  {
   "cell_type": "markdown",
   "metadata": {
    "slideshow": {
     "slide_type": "skip"
    }
   },
   "source": [
    "In order to address the test generation problem as a search problem, we need to decide on an encoding, and derive appropriate search operators. It is possible to use bitvectors like we did on previous problems; however, a simpler interpretation of the parameters of a function is a list of the actual parameters. That is, we encode a test input as a list of parameters; we will start by assuming that all parameters are numeric."
   ]
  },
  {
   "cell_type": "markdown",
   "metadata": {
    "slideshow": {
     "slide_type": "skip"
    }
   },
   "source": [
    "The representation for inputs of this function is lists of length two, one element for `x` and one for `y`. As numeric values in Python are unbounded, we need to decide on some finite bounds for these values, e.g.:"
   ]
  },
  {
   "cell_type": "code",
   "execution_count": 5,
   "metadata": {
    "slideshow": {
     "slide_type": "slide"
    }
   },
   "outputs": [],
   "source": [
    "MAX=1000\n",
    "MIN=-MAX"
   ]
  },
  {
   "cell_type": "markdown",
   "metadata": {
    "slideshow": {
     "slide_type": "skip"
    }
   },
   "source": [
    "For generating inputs we can now uniformly sample in the range (MIN, MAX). The length of the vector shall be the number of parameters of the function under test. Rather than hard coding such a parameter, we can also make our approach generalise better by using inspection to determine how many parameters the function under test has:"
   ]
  },
  {
   "cell_type": "code",
   "execution_count": 6,
   "metadata": {
    "scrolled": true,
    "slideshow": {
     "slide_type": "fragment"
    }
   },
   "outputs": [
    {
     "data": {
      "text/plain": [
       "2"
      ]
     },
     "execution_count": 6,
     "metadata": {},
     "output_type": "execute_result"
    }
   ],
   "source": [
    "from inspect import signature\n",
    "sig = signature(test_me)\n",
    "num_parameters = len(sig.parameters)\n",
    "num_parameters"
   ]
  },
  {
   "cell_type": "markdown",
   "metadata": {
    "slideshow": {
     "slide_type": "skip"
    }
   },
   "source": [
    "As usual, we will define the representation implicitly using a function that produces random instances."
   ]
  },
  {
   "cell_type": "code",
   "execution_count": 7,
   "metadata": {
    "slideshow": {
     "slide_type": "slide"
    }
   },
   "outputs": [],
   "source": [
    "def get_random_individual():\n",
    "    return [random.randint(MIN, MAX) for _ in range(num_parameters)]"
   ]
  },
  {
   "cell_type": "code",
   "execution_count": 8,
   "metadata": {
    "slideshow": {
     "slide_type": "fragment"
    }
   },
   "outputs": [
    {
     "data": {
      "text/plain": [
       "[440, -101]"
      ]
     },
     "execution_count": 8,
     "metadata": {},
     "output_type": "execute_result"
    }
   ],
   "source": [
    "get_random_individual()"
   ]
  },
  {
   "cell_type": "markdown",
   "metadata": {
    "slideshow": {
     "slide_type": "skip"
    }
   },
   "source": [
    "We need to define search operators matching this representation. To apply local search, we need to define the neighbourhood. For example, we could define one upper and one lower neighbour for each parameter:\n",
    "\n",
    "- `x-1, y`\n",
    "- `x+1, y`\n",
    "- `x, y+1`\n",
    "- `x, y-1`"
   ]
  },
  {
   "cell_type": "code",
   "execution_count": 9,
   "metadata": {
    "slideshow": {
     "slide_type": "slide"
    }
   },
   "outputs": [],
   "source": [
    "def get_neighbours(individual):\n",
    "    neighbours = []\n",
    "    for p in range(len(individual)):\n",
    "        if individual[p] > MIN:\n",
    "            neighbour = individual[:]\n",
    "            neighbour[p] = individual[p] - 1\n",
    "            neighbours.append(neighbour)\n",
    "        if individual[p] < MAX:\n",
    "            neighbour = individual[:]\n",
    "            neighbour[p] = individual[p] + 1\n",
    "            neighbours.append(neighbour)\n",
    "            \n",
    "    return neighbours"
   ]
  },
  {
   "cell_type": "code",
   "execution_count": 10,
   "metadata": {
    "slideshow": {
     "slide_type": "subslide"
    }
   },
   "outputs": [
    {
     "data": {
      "text/plain": [
       "[419, -321]"
      ]
     },
     "execution_count": 10,
     "metadata": {},
     "output_type": "execute_result"
    }
   ],
   "source": [
    "x = get_random_individual()\n",
    "x"
   ]
  },
  {
   "cell_type": "code",
   "execution_count": 11,
   "metadata": {
    "slideshow": {
     "slide_type": "fragment"
    }
   },
   "outputs": [
    {
     "data": {
      "text/plain": [
       "[[418, -321], [420, -321], [419, -322], [419, -320]]"
      ]
     },
     "execution_count": 11,
     "metadata": {},
     "output_type": "execute_result"
    }
   ],
   "source": [
    "get_neighbours(x)"
   ]
  },
  {
   "cell_type": "markdown",
   "metadata": {
    "slideshow": {
     "slide_type": "skip"
    }
   },
   "source": [
    "Before we can apply search, we also need to define a fitness function.  Suppose that we are interested in covering the `True` branch of the if-condition in the `test_me()` function, i.e. `x == 2 * (y + 1)`.\n",
    "\n",
    "How close is a given input tuple for this function from reaching the target branch? Let's consider an arbitrary point in the search space, e.g. `(274, 153)`. The if-condition compares the following values:"
   ]
  },
  {
   "cell_type": "code",
   "execution_count": 12,
   "metadata": {
    "slideshow": {
     "slide_type": "skip"
    }
   },
   "outputs": [
    {
     "data": {
      "text/plain": [
       "(274, 308)"
      ]
     },
     "execution_count": 12,
     "metadata": {},
     "output_type": "execute_result"
    }
   ],
   "source": [
    "x = 274\n",
    "y = 153\n",
    "x, 2 * (y + 1)"
   ]
  },
  {
   "cell_type": "markdown",
   "metadata": {
    "slideshow": {
     "slide_type": "skip"
    }
   },
   "source": [
    "In order to make the branch true, both values need to be the same. Thus, the more they differ, the further we are away from making the comparison true, and the less they differ, the closer we are from making the comparison true. Thus, we can quantify \"how false\" the comparison is by calculating the difference between `x` and `2 * (y + 1)`. Thus, we can calculate this distance as `abs(x - 2 * (y + 1))`:"
   ]
  },
  {
   "cell_type": "code",
   "execution_count": 13,
   "metadata": {
    "slideshow": {
     "slide_type": "slide"
    }
   },
   "outputs": [],
   "source": [
    "def calculate_distance(x, y):\n",
    "    return abs(x - 2 * (y + 1))"
   ]
  },
  {
   "cell_type": "code",
   "execution_count": 14,
   "metadata": {
    "slideshow": {
     "slide_type": "fragment"
    }
   },
   "outputs": [
    {
     "data": {
      "text/plain": [
       "34"
      ]
     },
     "execution_count": 14,
     "metadata": {},
     "output_type": "execute_result"
    }
   ],
   "source": [
    "calculate_distance(274, 153)"
   ]
  },
  {
   "cell_type": "markdown",
   "metadata": {
    "slideshow": {
     "slide_type": "skip"
    }
   },
   "source": [
    "We can use this distance value as our fitness function, since we can nicely measure how close we are to an optimal solution. Note, however, that \"better\" doesn't mean \"bigger\" in this case; the smaller the distance the better. This is not a problem, since any algorithm that can maximize a value can also be made to minimize it instead.\n",
    "\n",
    "For each value in the search space of integer tuples, this distance value defines the elevation in our search landscape. Since our example search space is two-dimensional, the search landscape is three-dimensional and we can plot it to see what it looks like:"
   ]
  },
  {
   "cell_type": "code",
   "execution_count": 15,
   "metadata": {
    "slideshow": {
     "slide_type": "subslide"
    }
   },
   "outputs": [
    {
     "data": {
      "image/png": "[encoded data removed]",
      "text/plain": [
       "<Figure size 432x288 with 1 Axes>"
      ]
     },
     "metadata": {
      "needs_background": "light"
     },
     "output_type": "display_data"
    }
   ],
   "source": [
    "x = np.outer(np.linspace(-10, 10, 30), np.ones(30))\n",
    "y = x.copy().T\n",
    "z = calculate_distance(x, y)\n",
    "\n",
    "fig = plt.figure()\n",
    "ax = plt.axes(projection='3d')\n",
    "\n",
    "ax.plot_surface(x, y, z, cmap=plt.cm.jet, rstride=1, cstride=1, linewidth=0);"
   ]
  },
  {
   "cell_type": "markdown",
   "metadata": {
    "slideshow": {
     "slide_type": "skip"
    }
   },
   "source": [
    "The optimal values, i.e. those that make the if-condition true, have fitness value 0 and can be clearly seen at the bottom of the plot. The further away from the optimal values, the higher elevated the points in the search space."
   ]
  },
  {
   "cell_type": "markdown",
   "metadata": {
    "slideshow": {
     "slide_type": "skip"
    }
   },
   "source": [
    "This distance can serve as our fitness function if we aim to cover the true branch of the program in our example:"
   ]
  },
  {
   "cell_type": "code",
   "execution_count": 16,
   "metadata": {
    "slideshow": {
     "slide_type": "slide"
    }
   },
   "outputs": [],
   "source": [
    "def get_fitness(individual):\n",
    "    x = individual[0]\n",
    "    y = individual[1]\n",
    "    return abs(x - 2 * (y + 1))"
   ]
  },
  {
   "cell_type": "markdown",
   "metadata": {
    "slideshow": {
     "slide_type": "skip"
    }
   },
   "source": [
    "We can now use any local search algorithm we have defined previously, with only one modification: In the prior examples where we applied local search we were always maximising fitness values; now we are minimising, so a hillclimber, for example, should only move to neighbours with _smaller_ fitness values:"
   ]
  },
  {
   "cell_type": "code",
   "execution_count": 17,
   "metadata": {
    "slideshow": {
     "slide_type": "skip"
    }
   },
   "outputs": [],
   "source": [
    "max_steps = 10000\n",
    "fitness_values = []"
   ]
  },
  {
   "cell_type": "markdown",
   "metadata": {
    "slideshow": {
     "slide_type": "skip"
    }
   },
   "source": [
    "Let's use a steepest ascent hillclimber:"
   ]
  },
  {
   "cell_type": "code",
   "execution_count": 18,
   "metadata": {
    "slideshow": {
     "slide_type": "slide"
    }
   },
   "outputs": [],
   "source": [
    "def hillclimbing():\n",
    "\n",
    "    current = get_random_individual()\n",
    "    fitness = get_fitness(current)\n",
    "    best = current[:]\n",
    "    best_fitness = fitness\n",
    "    print(f\"Starting at fitness {best_fitness}: {current}\")\n",
    "\n",
    "    step = 0\n",
    "    while step < max_steps and best_fitness > 0:\n",
    "        neighbours = [(x, get_fitness(x)) for x in get_neighbours(current)]\n",
    "        best_neighbour, neighbour_fitness = min(neighbours, key=lambda i: i[1])\n",
    "        step += len(neighbours)        \n",
    "        fitness_values.extend([best_fitness] * len(neighbours))\n",
    "        if neighbour_fitness < fitness:\n",
    "            current = best_neighbour\n",
    "            fitness = neighbour_fitness\n",
    "            if fitness < best_fitness:\n",
    "                best = current[:]\n",
    "                best_fitness = fitness\n",
    "                #print(f\"Iteration {step}, fitness {best_fitness}: {best}\")\n",
    "        else:\n",
    "            # Random restart if no neighbour is better\n",
    "            current = get_random_individual()\n",
    "            fitness = get_fitness(current)\n",
    "            step += 1\n",
    "            if fitness < best_fitness:\n",
    "                #print(f\"Iteration {step}, fitness {best_fitness}: {best}\")\n",
    "                best = current[:]\n",
    "                best_fitness = fitness\n",
    "            fitness_values.append(best_fitness)\n",
    "\n",
    "\n",
    "    print(f\"Solution fitness after {step} fitness evaluations: {best_fitness}: {best}\")\n",
    "    return best"
   ]
  },
  {
   "cell_type": "code",
   "execution_count": 19,
   "metadata": {
    "slideshow": {
     "slide_type": "subslide"
    }
   },
   "outputs": [
    {
     "name": "stdout",
     "output_type": "stream",
     "text": [
      "Starting at fitness 1839: [-555, 641]\n",
      "Solution fitness after 3680 fitness evaluations: 0: [-554, -278]\n"
     ]
    },
    {
     "data": {
      "text/plain": [
       "[-554, -278]"
      ]
     },
     "execution_count": 19,
     "metadata": {},
     "output_type": "execute_result"
    }
   ],
   "source": [
    "fitness_values = []\n",
    "hillclimbing()"
   ]
  },
  {
   "cell_type": "code",
   "execution_count": 20,
   "metadata": {
    "scrolled": true,
    "slideshow": {
     "slide_type": "subslide"
    }
   },
   "outputs": [
    {
     "data": {
      "text/plain": [
       "[<matplotlib.lines.Line2D at 0x11cb95550>]"
      ]
     },
     "execution_count": 20,
     "metadata": {},
     "output_type": "execute_result"
    },
    {
     "data": {
      "image/png": "[encoded data removed]",
      "text/plain": [
       "<Figure size 432x288 with 1 Axes>"
      ]
     },
     "metadata": {
      "needs_background": "light"
     },
     "output_type": "display_data"
    }
   ],
   "source": [
    "plt.plot(fitness_values)"
   ]
  },
  {
   "cell_type": "markdown",
   "metadata": {
    "slideshow": {
     "slide_type": "skip"
    }
   },
   "source": [
    "Since there are no local optima, the hillclimber will easily find the solution, even without restarts. However, this can take a while, in particular if we use a larger input space:"
   ]
  },
  {
   "cell_type": "code",
   "execution_count": 21,
   "metadata": {
    "slideshow": {
     "slide_type": "slide"
    }
   },
   "outputs": [],
   "source": [
    "MAX=100000\n",
    "MIN=-MAX"
   ]
  },
  {
   "cell_type": "code",
   "execution_count": 22,
   "metadata": {
    "slideshow": {
     "slide_type": "fragment"
    }
   },
   "outputs": [
    {
     "name": "stdout",
     "output_type": "stream",
     "text": [
      "Starting at fitness 109939: [5827, 57882]\n",
      "Solution fitness after 10000 fitness evaluations: 104939: [5827, 55382]\n"
     ]
    },
    {
     "data": {
      "text/plain": [
       "[<matplotlib.lines.Line2D at 0x11cbaf8b0>]"
      ]
     },
     "execution_count": 22,
     "metadata": {},
     "output_type": "execute_result"
    },
    {
     "data": {
      "image/png": "[encoded data removed]",
      "text/plain": [
       "<Figure size 432x288 with 1 Axes>"
      ]
     },
     "metadata": {
      "needs_background": "light"
     },
     "output_type": "display_data"
    }
   ],
   "source": [
    "fitness_values = []\n",
    "hillclimbing()\n",
    "plt.plot(fitness_values)"
   ]
  },
  {
   "cell_type": "markdown",
   "metadata": {
    "slideshow": {
     "slide_type": "skip"
    }
   },
   "source": [
    "Unless the randomly chosen initial point is already close to an optimal solution, the hillclimber is going to be hopeless in moving through the search space within a reasonable number of iterations."
   ]
  },
  {
   "cell_type": "markdown",
   "metadata": {
    "slideshow": {
     "slide_type": "slide"
    }
   },
   "source": [
    "## Alternating Variable Method"
   ]
  },
  {
   "cell_type": "markdown",
   "metadata": {
    "slideshow": {
     "slide_type": "skip"
    }
   },
   "source": [
    "The search problem represented by the `test_me` function has an easy fitness landscape with no local optima. However, it still takes quite long to reach the optimum, depending on where the random starting point lies in the search space. This is because the neighbourhood for real program inputs can be quite large, depending on the number of parameters, and even just the search space for each parameter individually can already be very large. In our example we restricted `MAX` and `MIN` to a very narrow range, but imagine doing this for 32 bit integers. Both these problems are addressed with an adapted version of our hillclimber known as the _Alternating Variable Method_, which differs from the hillclimber in two ways: \n",
    "1. Rather than considering the neighbourhood of all input parameters at once, we apply search to each parameter individually in turn\n",
    "2. Rather than taking only small steps of size 1, we allow larger jumps in the search space."
   ]
  },
  {
   "cell_type": "markdown",
   "metadata": {
    "slideshow": {
     "slide_type": "skip"
    }
   },
   "source": [
    "Let's first consider the second aspect, larger jumps in the search space. The idea is to apply a _pattern_ search where we first decide on a direction in the search space to move, and then apply increasingly larger steps in that direction as long as the fitness improves. We only consider a single parameter, thus the \"direction\" simply refers to whether one increases or decreases this value. The function thus takes (1) the individual on which to perform the search, (2) a particular parameter we are considering, (3) the direction of the search, and (4) the starting fitness values. "
   ]
  },
  {
   "cell_type": "code",
   "execution_count": 23,
   "metadata": {
    "slideshow": {
     "slide_type": "fragment"
    }
   },
   "outputs": [],
   "source": [
    "def pattern_search(individual, parameter, direction, fitness):\n",
    "    print(f\"-> {individual}, direction {direction}, fitness {fitness}\")\n",
    "\n",
    "    individual[parameter] = individual[parameter] + direction\n",
    "    new_fitness = get_fitness(individual)\n",
    "    if new_fitness < fitness:\n",
    "        fitness_values.append(new_fitness)\n",
    "        return pattern_search(individual, parameter, 2 * direction, new_fitness)\n",
    "    else:\n",
    "        # If fitness is not better we overshot. Undo last move, and return\n",
    "        fitness_values.append(fitness)\n",
    "        individual[parameter] = individual[parameter] - direction\n",
    "        return fitness"
   ]
  },
  {
   "cell_type": "markdown",
   "metadata": {
    "slideshow": {
     "slide_type": "skip"
    }
   },
   "source": [
    "For example, let's assume `y` is a large value(1000), and `x` is considerably smaller. For our example function, the optimal value for `x` would thus be at 2200. Applying the search to `x` we thus need to move in the positive direction (`1`), and the function will do this with increasing steps until it \"overshoots\"."
   ]
  },
  {
   "cell_type": "code",
   "execution_count": 24,
   "metadata": {
    "slideshow": {
     "slide_type": "slide"
    }
   },
   "outputs": [
    {
     "name": "stdout",
     "output_type": "stream",
     "text": [
      "-> [0, 1000], direction 1, fitness 2002\n",
      "-> [1, 1000], direction 2, fitness 2001\n",
      "-> [3, 1000], direction 4, fitness 1999\n",
      "-> [7, 1000], direction 8, fitness 1995\n",
      "-> [15, 1000], direction 16, fitness 1987\n",
      "-> [31, 1000], direction 32, fitness 1971\n",
      "-> [63, 1000], direction 64, fitness 1939\n",
      "-> [127, 1000], direction 128, fitness 1875\n",
      "-> [255, 1000], direction 256, fitness 1747\n",
      "-> [511, 1000], direction 512, fitness 1491\n",
      "-> [1023, 1000], direction 1024, fitness 979\n",
      "-> [2047, 1000], direction 2048, fitness 45\n"
     ]
    },
    {
     "data": {
      "text/plain": [
       "45"
      ]
     },
     "execution_count": 24,
     "metadata": {},
     "output_type": "execute_result"
    }
   ],
   "source": [
    "x = [0, 1000]\n",
    "f = get_fitness(x)\n",
    "pattern_search(x, 0, 1, get_fitness(x))"
   ]
  },
  {
   "cell_type": "markdown",
   "metadata": {
    "slideshow": {
     "slide_type": "skip"
    }
   },
   "source": [
    "If `x` is larger than `y` we would need to move in the other direction, and the search does this until it undershoots the target of 2200:"
   ]
  },
  {
   "cell_type": "code",
   "execution_count": 25,
   "metadata": {
    "slideshow": {
     "slide_type": "subslide"
    }
   },
   "outputs": [
    {
     "name": "stdout",
     "output_type": "stream",
     "text": [
      "-> [10000, 1000], direction -1, fitness 7998\n",
      "-> [9999, 1000], direction -2, fitness 7997\n",
      "-> [9997, 1000], direction -4, fitness 7995\n",
      "-> [9993, 1000], direction -8, fitness 7991\n",
      "-> [9985, 1000], direction -16, fitness 7983\n",
      "-> [9969, 1000], direction -32, fitness 7967\n",
      "-> [9937, 1000], direction -64, fitness 7935\n",
      "-> [9873, 1000], direction -128, fitness 7871\n",
      "-> [9745, 1000], direction -256, fitness 7743\n",
      "-> [9489, 1000], direction -512, fitness 7487\n",
      "-> [8977, 1000], direction -1024, fitness 6975\n",
      "-> [7953, 1000], direction -2048, fitness 5951\n",
      "-> [5905, 1000], direction -4096, fitness 3903\n",
      "-> [1809, 1000], direction -8192, fitness 193\n"
     ]
    },
    {
     "data": {
      "text/plain": [
       "193"
      ]
     },
     "execution_count": 25,
     "metadata": {},
     "output_type": "execute_result"
    }
   ],
   "source": [
    "x = [10000, 1000]\n",
    "f = get_fitness(x)\n",
    "pattern_search(x, 0, -1, get_fitness(x))"
   ]
  },
  {
   "cell_type": "markdown",
   "metadata": {
    "slideshow": {
     "slide_type": "skip"
    }
   },
   "source": [
    "The AVM algorithm applies the pattern search as follows:\n",
    "1. Start with the first parameter\n",
    "2. Probe the neighbourhood of the parameter to find the direction of the search\n",
    "3. Apply pattern search in that direction\n",
    "4. Repeat probing + pattern search until no more improvement can be made\n",
    "5. Move to the next parameter, and go to step 2\n",
    "\n",
    "Like a regular hillclimber, the search may get stuck in local optima and needs to use random restarts. The algorithm is stuck if it probed all parameters in sequence and none of the parameters allowed a move that improved fitness."
   ]
  },
  {
   "cell_type": "code",
   "execution_count": 26,
   "metadata": {
    "slideshow": {
     "slide_type": "slide"
    }
   },
   "outputs": [],
   "source": [
    "def probe_and_search(individual, parameter, fitness):\n",
    "    new_parameters = individual[:]\n",
    "    value = new_parameters[parameter]\n",
    "    new_fitness = fitness\n",
    "    # Try +1\n",
    "    new_parameters[parameter] = individual[parameter] + 1\n",
    "    print(f\"Trying +1 at fitness {fitness}: {new_parameters}\")\n",
    "    new_fitness = get_fitness(new_parameters)\n",
    "    if new_fitness < fitness:\n",
    "        fitness_values.append(new_fitness)\n",
    "        new_fitness = pattern_search(new_parameters, parameter, 2, new_fitness)\n",
    "    else:\n",
    "        # Try -1\n",
    "        fitness_values.append(fitness)\n",
    "        new_parameters[parameter] = individual[parameter] - 1\n",
    "        print(f\"Trying -1 at fitness {fitness}: {new_parameters}\")\n",
    "        new_fitness = get_fitness(new_parameters)\n",
    "        if new_fitness < fitness:\n",
    "            fitness_values.append(new_fitness)\n",
    "            new_fitness = pattern_search(new_parameters, parameter, -2, new_fitness)\n",
    "        else:\n",
    "            fitness_values.append(fitness)\n",
    "            new_parameters[parameter] = individual[parameter]\n",
    "            new_fitness = fitness\n",
    "            \n",
    "    return new_parameters, new_fitness"
   ]
  },
  {
   "cell_type": "code",
   "execution_count": 27,
   "metadata": {
    "slideshow": {
     "slide_type": "slide"
    }
   },
   "outputs": [],
   "source": [
    "def avm():\n",
    "\n",
    "    current = get_random_individual()\n",
    "    fitness = get_fitness(current)\n",
    "    best = current[:]\n",
    "    best_fitness = fitness\n",
    "    fitness_values.clear()\n",
    "    fitness_values.append(best_fitness)\n",
    "    print(f\"Starting at fitness {best_fitness}: {current}\")\n",
    "\n",
    "    step = 0\n",
    "    changed = True\n",
    "    while len(fitness_values) < max_steps and best_fitness > 0:\n",
    "        # Random restart\n",
    "        if not changed:\n",
    "            current = get_random_individual()\n",
    "            print(f\"Random restart at {current}\")\n",
    "            fitness = get_fitness(current)\n",
    "            fitness_values.append(fitness)\n",
    "            \n",
    "        at_least_one_parameter_changed = True\n",
    "        while at_least_one_parameter_changed:\n",
    "            at_least_one_parameter_changed = False\n",
    "            parameter = 0\n",
    "            while parameter < len(current):\n",
    "                print(f\"Current parameter: {parameter}\")\n",
    "                new_parameters, new_fitness = probe_and_search(current, parameter, fitness)\n",
    "                if current != new_parameters:\n",
    "                    # Keep on searching\n",
    "                    at_least_one_parameter_changed = True\n",
    "                    current = new_parameters\n",
    "                    fitness = new_fitness\n",
    "                    if fitness < best_fitness:\n",
    "                        best_fitness = fitness\n",
    "                        best = current[:]\n",
    "                else:\n",
    "                    parameter += 1\n",
    "\n",
    "    print(f\"Solution fitness {best_fitness}: {best}\")\n",
    "    return best"
   ]
  },
  {
   "cell_type": "code",
   "execution_count": 28,
   "metadata": {
    "slideshow": {
     "slide_type": "slide"
    }
   },
   "outputs": [
    {
     "name": "stdout",
     "output_type": "stream",
     "text": [
      "Starting at fitness 31918: [44838, 6459]\n",
      "Current parameter: 0\n",
      "Trying +1 at fitness 31918: [44839, 6459]\n",
      "Trying -1 at fitness 31918: [44837, 6459]\n",
      "-> [44837, 6459], direction -2, fitness 31917\n",
      "-> [44835, 6459], direction -4, fitness 31915\n",
      "-> [44831, 6459], direction -8, fitness 31911\n",
      "-> [44823, 6459], direction -16, fitness 31903\n",
      "-> [44807, 6459], direction -32, fitness 31887\n",
      "-> [44775, 6459], direction -64, fitness 31855\n",
      "-> [44711, 6459], direction -128, fitness 31791\n",
      "-> [44583, 6459], direction -256, fitness 31663\n",
      "-> [44327, 6459], direction -512, fitness 31407\n",
      "-> [43815, 6459], direction -1024, fitness 30895\n",
      "-> [42791, 6459], direction -2048, fitness 29871\n",
      "-> [40743, 6459], direction -4096, fitness 27823\n",
      "-> [36647, 6459], direction -8192, fitness 23727\n",
      "-> [28455, 6459], direction -16384, fitness 15535\n",
      "-> [12071, 6459], direction -32768, fitness 849\n",
      "Current parameter: 0\n",
      "Trying +1 at fitness 849: [12072, 6459]\n",
      "-> [12072, 6459], direction 2, fitness 848\n",
      "-> [12074, 6459], direction 4, fitness 846\n",
      "-> [12078, 6459], direction 8, fitness 842\n",
      "-> [12086, 6459], direction 16, fitness 834\n",
      "-> [12102, 6459], direction 32, fitness 818\n",
      "-> [12134, 6459], direction 64, fitness 786\n",
      "-> [12198, 6459], direction 128, fitness 722\n",
      "-> [12326, 6459], direction 256, fitness 594\n",
      "-> [12582, 6459], direction 512, fitness 338\n",
      "-> [13094, 6459], direction 1024, fitness 174\n",
      "Current parameter: 0\n",
      "Trying +1 at fitness 174: [13095, 6459]\n",
      "Trying -1 at fitness 174: [13093, 6459]\n",
      "-> [13093, 6459], direction -2, fitness 173\n",
      "-> [13091, 6459], direction -4, fitness 171\n",
      "-> [13087, 6459], direction -8, fitness 167\n",
      "-> [13079, 6459], direction -16, fitness 159\n",
      "-> [13063, 6459], direction -32, fitness 143\n",
      "-> [13031, 6459], direction -64, fitness 111\n",
      "-> [12967, 6459], direction -128, fitness 47\n",
      "Current parameter: 0\n",
      "Trying +1 at fitness 47: [12968, 6459]\n",
      "Trying -1 at fitness 47: [12966, 6459]\n",
      "-> [12966, 6459], direction -2, fitness 46\n",
      "-> [12964, 6459], direction -4, fitness 44\n",
      "-> [12960, 6459], direction -8, fitness 40\n",
      "-> [12952, 6459], direction -16, fitness 32\n",
      "-> [12936, 6459], direction -32, fitness 16\n",
      "Current parameter: 0\n",
      "Trying +1 at fitness 16: [12937, 6459]\n",
      "Trying -1 at fitness 16: [12935, 6459]\n",
      "-> [12935, 6459], direction -2, fitness 15\n",
      "-> [12933, 6459], direction -4, fitness 13\n",
      "-> [12929, 6459], direction -8, fitness 9\n",
      "-> [12921, 6459], direction -16, fitness 1\n",
      "Current parameter: 0\n",
      "Trying +1 at fitness 1: [12922, 6459]\n",
      "Trying -1 at fitness 1: [12920, 6459]\n",
      "-> [12920, 6459], direction -2, fitness 0\n",
      "Current parameter: 0\n",
      "Trying +1 at fitness 0: [12921, 6459]\n",
      "Trying -1 at fitness 0: [12919, 6459]\n",
      "Current parameter: 1\n",
      "Trying +1 at fitness 0: [12920, 6460]\n",
      "Trying -1 at fitness 0: [12920, 6458]\n",
      "Current parameter: 0\n",
      "Trying +1 at fitness 0: [12921, 6459]\n",
      "Trying -1 at fitness 0: [12919, 6459]\n",
      "Current parameter: 1\n",
      "Trying +1 at fitness 0: [12920, 6460]\n",
      "Trying -1 at fitness 0: [12920, 6458]\n",
      "Solution fitness 0: [12920, 6459]\n"
     ]
    },
    {
     "data": {
      "text/plain": [
       "[12920, 6459]"
      ]
     },
     "execution_count": 28,
     "metadata": {},
     "output_type": "execute_result"
    }
   ],
   "source": [
    "fitness_values = []\n",
    "avm()"
   ]
  },
  {
   "cell_type": "code",
   "execution_count": 29,
   "metadata": {
    "slideshow": {
     "slide_type": "subslide"
    }
   },
   "outputs": [
    {
     "data": {
      "text/plain": [
       "[<matplotlib.lines.Line2D at 0x11cc49d60>]"
      ]
     },
     "execution_count": 29,
     "metadata": {},
     "output_type": "execute_result"
    },
    {
     "data": {
      "image/png": "[encoded data removed]",
      "text/plain": [
       "<Figure size 432x288 with 1 Axes>"
      ]
     },
     "metadata": {
      "needs_background": "light"
     },
     "output_type": "display_data"
    }
   ],
   "source": [
    "plt.plot(fitness_values)"
   ]
  },
  {
   "cell_type": "markdown",
   "metadata": {
    "slideshow": {
     "slide_type": "skip"
    }
   },
   "source": [
    "The pattern search even works efficiently if we increase the size of the search space to 64-bit numbers:"
   ]
  },
  {
   "cell_type": "code",
   "execution_count": 30,
   "metadata": {
    "slideshow": {
     "slide_type": "slide"
    }
   },
   "outputs": [],
   "source": [
    "MAX=2**32\n",
    "MIN=-MAX"
   ]
  },
  {
   "cell_type": "code",
   "execution_count": 31,
   "metadata": {
    "scrolled": false,
    "slideshow": {
     "slide_type": "fragment"
    }
   },
   "outputs": [
    {
     "name": "stdout",
     "output_type": "stream",
     "text": [
      "Starting at fitness 2726248929: [3857672731, 3291960829]\n",
      "Current parameter: 0\n",
      "Trying +1 at fitness 2726248929: [3857672732, 3291960829]\n",
      "-> [3857672732, 3291960829], direction 2, fitness 2726248928\n",
      "-> [3857672734, 3291960829], direction 4, fitness 2726248926\n",
      "-> [3857672738, 3291960829], direction 8, fitness 2726248922\n",
      "-> [3857672746, 3291960829], direction 16, fitness 2726248914\n",
      "-> [3857672762, 3291960829], direction 32, fitness 2726248898\n",
      "-> [3857672794, 3291960829], direction 64, fitness 2726248866\n",
      "-> [3857672858, 3291960829], direction 128, fitness 2726248802\n",
      "-> [3857672986, 3291960829], direction 256, fitness 2726248674\n",
      "-> [3857673242, 3291960829], direction 512, fitness 2726248418\n",
      "-> [3857673754, 3291960829], direction 1024, fitness 2726247906\n",
      "-> [3857674778, 3291960829], direction 2048, fitness 2726246882\n",
      "-> [3857676826, 3291960829], direction 4096, fitness 2726244834\n",
      "-> [3857680922, 3291960829], direction 8192, fitness 2726240738\n",
      "-> [3857689114, 3291960829], direction 16384, fitness 2726232546\n",
      "-> [3857705498, 3291960829], direction 32768, fitness 2726216162\n",
      "-> [3857738266, 3291960829], direction 65536, fitness 2726183394\n",
      "-> [3857803802, 3291960829], direction 131072, fitness 2726117858\n",
      "-> [3857934874, 3291960829], direction 262144, fitness 2725986786\n",
      "-> [3858197018, 3291960829], direction 524288, fitness 2725724642\n",
      "-> [3858721306, 3291960829], direction 1048576, fitness 2725200354\n",
      "-> [3859769882, 3291960829], direction 2097152, fitness 2724151778\n",
      "-> [3861867034, 3291960829], direction 4194304, fitness 2722054626\n",
      "-> [3866061338, 3291960829], direction 8388608, fitness 2717860322\n",
      "-> [3874449946, 3291960829], direction 16777216, fitness 2709471714\n",
      "-> [3891227162, 3291960829], direction 33554432, fitness 2692694498\n",
      "-> [3924781594, 3291960829], direction 67108864, fitness 2659140066\n",
      "-> [3991890458, 3291960829], direction 134217728, fitness 2592031202\n",
      "-> [4126108186, 3291960829], direction 268435456, fitness 2457813474\n",
      "-> [4394543642, 3291960829], direction 536870912, fitness 2189378018\n",
      "-> [4931414554, 3291960829], direction 1073741824, fitness 1652507106\n",
      "-> [6005156378, 3291960829], direction 2147483648, fitness 578765282\n",
      "Current parameter: 0\n",
      "Trying +1 at fitness 578765282: [6005156379, 3291960829]\n",
      "-> [6005156379, 3291960829], direction 2, fitness 578765281\n",
      "-> [6005156381, 3291960829], direction 4, fitness 578765279\n",
      "-> [6005156385, 3291960829], direction 8, fitness 578765275\n",
      "-> [6005156393, 3291960829], direction 16, fitness 578765267\n",
      "-> [6005156409, 3291960829], direction 32, fitness 578765251\n",
      "-> [6005156441, 3291960829], direction 64, fitness 578765219\n",
      "-> [6005156505, 3291960829], direction 128, fitness 578765155\n",
      "-> [6005156633, 3291960829], direction 256, fitness 578765027\n",
      "-> [6005156889, 3291960829], direction 512, fitness 578764771\n",
      "-> [6005157401, 3291960829], direction 1024, fitness 578764259\n",
      "-> [6005158425, 3291960829], direction 2048, fitness 578763235\n",
      "-> [6005160473, 3291960829], direction 4096, fitness 578761187\n",
      "-> [6005164569, 3291960829], direction 8192, fitness 578757091\n",
      "-> [6005172761, 3291960829], direction 16384, fitness 578748899\n",
      "-> [6005189145, 3291960829], direction 32768, fitness 578732515\n",
      "-> [6005221913, 3291960829], direction 65536, fitness 578699747\n",
      "-> [6005287449, 3291960829], direction 131072, fitness 578634211\n",
      "-> [6005418521, 3291960829], direction 262144, fitness 578503139\n",
      "-> [6005680665, 3291960829], direction 524288, fitness 578240995\n",
      "-> [6006204953, 3291960829], direction 1048576, fitness 577716707\n",
      "-> [6007253529, 3291960829], direction 2097152, fitness 576668131\n",
      "-> [6009350681, 3291960829], direction 4194304, fitness 574570979\n",
      "-> [6013544985, 3291960829], direction 8388608, fitness 570376675\n",
      "-> [6021933593, 3291960829], direction 16777216, fitness 561988067\n",
      "-> [6038710809, 3291960829], direction 33554432, fitness 545210851\n",
      "-> [6072265241, 3291960829], direction 67108864, fitness 511656419\n",
      "-> [6139374105, 3291960829], direction 134217728, fitness 444547555\n",
      "-> [6273591833, 3291960829], direction 268435456, fitness 310329827\n",
      "-> [6542027289, 3291960829], direction 536870912, fitness 41894371\n",
      "Current parameter: 0\n",
      "Trying +1 at fitness 41894371: [6542027290, 3291960829]\n",
      "-> [6542027290, 3291960829], direction 2, fitness 41894370\n",
      "-> [6542027292, 3291960829], direction 4, fitness 41894368\n",
      "-> [6542027296, 3291960829], direction 8, fitness 41894364\n",
      "-> [6542027304, 3291960829], direction 16, fitness 41894356\n",
      "-> [6542027320, 3291960829], direction 32, fitness 41894340\n",
      "-> [6542027352, 3291960829], direction 64, fitness 41894308\n",
      "-> [6542027416, 3291960829], direction 128, fitness 41894244\n",
      "-> [6542027544, 3291960829], direction 256, fitness 41894116\n",
      "-> [6542027800, 3291960829], direction 512, fitness 41893860\n",
      "-> [6542028312, 3291960829], direction 1024, fitness 41893348\n",
      "-> [6542029336, 3291960829], direction 2048, fitness 41892324\n",
      "-> [6542031384, 3291960829], direction 4096, fitness 41890276\n",
      "-> [6542035480, 3291960829], direction 8192, fitness 41886180\n",
      "-> [6542043672, 3291960829], direction 16384, fitness 41877988\n",
      "-> [6542060056, 3291960829], direction 32768, fitness 41861604\n",
      "-> [6542092824, 3291960829], direction 65536, fitness 41828836\n",
      "-> [6542158360, 3291960829], direction 131072, fitness 41763300\n",
      "-> [6542289432, 3291960829], direction 262144, fitness 41632228\n",
      "-> [6542551576, 3291960829], direction 524288, fitness 41370084\n",
      "-> [6543075864, 3291960829], direction 1048576, fitness 40845796\n",
      "-> [6544124440, 3291960829], direction 2097152, fitness 39797220\n",
      "-> [6546221592, 3291960829], direction 4194304, fitness 37700068\n",
      "-> [6550415896, 3291960829], direction 8388608, fitness 33505764\n",
      "-> [6558804504, 3291960829], direction 16777216, fitness 25117156\n",
      "-> [6575581720, 3291960829], direction 33554432, fitness 8339940\n",
      "Current parameter: 0\n",
      "Trying +1 at fitness 8339940: [6575581721, 3291960829]\n",
      "-> [6575581721, 3291960829], direction 2, fitness 8339939\n",
      "-> [6575581723, 3291960829], direction 4, fitness 8339937\n",
      "-> [6575581727, 3291960829], direction 8, fitness 8339933\n",
      "-> [6575581735, 3291960829], direction 16, fitness 8339925\n",
      "-> [6575581751, 3291960829], direction 32, fitness 8339909\n",
      "-> [6575581783, 3291960829], direction 64, fitness 8339877\n",
      "-> [6575581847, 3291960829], direction 128, fitness 8339813\n",
      "-> [6575581975, 3291960829], direction 256, fitness 8339685\n",
      "-> [6575582231, 3291960829], direction 512, fitness 8339429\n",
      "-> [6575582743, 3291960829], direction 1024, fitness 8338917\n",
      "-> [6575583767, 3291960829], direction 2048, fitness 8337893\n",
      "-> [6575585815, 3291960829], direction 4096, fitness 8335845\n",
      "-> [6575589911, 3291960829], direction 8192, fitness 8331749\n",
      "-> [6575598103, 3291960829], direction 16384, fitness 8323557\n",
      "-> [6575614487, 3291960829], direction 32768, fitness 8307173\n",
      "-> [6575647255, 3291960829], direction 65536, fitness 8274405\n",
      "-> [6575712791, 3291960829], direction 131072, fitness 8208869\n",
      "-> [6575843863, 3291960829], direction 262144, fitness 8077797\n",
      "-> [6576106007, 3291960829], direction 524288, fitness 7815653\n",
      "-> [6576630295, 3291960829], direction 1048576, fitness 7291365\n",
      "-> [6577678871, 3291960829], direction 2097152, fitness 6242789\n",
      "-> [6579776023, 3291960829], direction 4194304, fitness 4145637\n",
      "-> [6583970327, 3291960829], direction 8388608, fitness 48667\n",
      "Current parameter: 0\n",
      "Trying +1 at fitness 48667: [6583970328, 3291960829]\n",
      "Trying -1 at fitness 48667: [6583970326, 3291960829]\n",
      "-> [6583970326, 3291960829], direction -2, fitness 48666\n",
      "-> [6583970324, 3291960829], direction -4, fitness 48664\n",
      "-> [6583970320, 3291960829], direction -8, fitness 48660\n",
      "-> [6583970312, 3291960829], direction -16, fitness 48652\n",
      "-> [6583970296, 3291960829], direction -32, fitness 48636\n",
      "-> [6583970264, 3291960829], direction -64, fitness 48604\n",
      "-> [6583970200, 3291960829], direction -128, fitness 48540\n",
      "-> [6583970072, 3291960829], direction -256, fitness 48412\n",
      "-> [6583969816, 3291960829], direction -512, fitness 48156\n",
      "-> [6583969304, 3291960829], direction -1024, fitness 47644\n",
      "-> [6583968280, 3291960829], direction -2048, fitness 46620\n",
      "-> [6583966232, 3291960829], direction -4096, fitness 44572\n",
      "-> [6583962136, 3291960829], direction -8192, fitness 40476\n",
      "-> [6583953944, 3291960829], direction -16384, fitness 32284\n",
      "-> [6583937560, 3291960829], direction -32768, fitness 15900\n",
      "Current parameter: 0\n",
      "Trying +1 at fitness 15900: [6583937561, 3291960829]\n",
      "Trying -1 at fitness 15900: [6583937559, 3291960829]\n",
      "-> [6583937559, 3291960829], direction -2, fitness 15899\n",
      "-> [6583937557, 3291960829], direction -4, fitness 15897\n",
      "-> [6583937553, 3291960829], direction -8, fitness 15893\n",
      "-> [6583937545, 3291960829], direction -16, fitness 15885\n",
      "-> [6583937529, 3291960829], direction -32, fitness 15869\n",
      "-> [6583937497, 3291960829], direction -64, fitness 15837\n",
      "-> [6583937433, 3291960829], direction -128, fitness 15773\n",
      "-> [6583937305, 3291960829], direction -256, fitness 15645\n",
      "-> [6583937049, 3291960829], direction -512, fitness 15389\n",
      "-> [6583936537, 3291960829], direction -1024, fitness 14877\n",
      "-> [6583935513, 3291960829], direction -2048, fitness 13853\n",
      "-> [6583933465, 3291960829], direction -4096, fitness 11805\n",
      "-> [6583929369, 3291960829], direction -8192, fitness 7709\n",
      "-> [6583921177, 3291960829], direction -16384, fitness 483\n",
      "Current parameter: 0\n",
      "Trying +1 at fitness 483: [6583921178, 3291960829]\n",
      "-> [6583921178, 3291960829], direction 2, fitness 482\n",
      "-> [6583921180, 3291960829], direction 4, fitness 480\n",
      "-> [6583921184, 3291960829], direction 8, fitness 476\n",
      "-> [6583921192, 3291960829], direction 16, fitness 468\n",
      "-> [6583921208, 3291960829], direction 32, fitness 452\n",
      "-> [6583921240, 3291960829], direction 64, fitness 420\n",
      "-> [6583921304, 3291960829], direction 128, fitness 356\n",
      "-> [6583921432, 3291960829], direction 256, fitness 228\n",
      "-> [6583921688, 3291960829], direction 512, fitness 28\n",
      "Current parameter: 0\n",
      "Trying +1 at fitness 28: [6583921689, 3291960829]\n",
      "Trying -1 at fitness 28: [6583921687, 3291960829]\n",
      "-> [6583921687, 3291960829], direction -2, fitness 27\n",
      "-> [6583921685, 3291960829], direction -4, fitness 25\n",
      "-> [6583921681, 3291960829], direction -8, fitness 21\n",
      "-> [6583921673, 3291960829], direction -16, fitness 13\n",
      "-> [6583921657, 3291960829], direction -32, fitness 3\n",
      "Current parameter: 0\n",
      "Trying +1 at fitness 3: [6583921658, 3291960829]\n",
      "-> [6583921658, 3291960829], direction 2, fitness 2\n",
      "-> [6583921660, 3291960829], direction 4, fitness 0\n",
      "Current parameter: 0\n",
      "Trying +1 at fitness 0: [6583921661, 3291960829]\n",
      "Trying -1 at fitness 0: [6583921659, 3291960829]\n",
      "Current parameter: 1\n",
      "Trying +1 at fitness 0: [6583921660, 3291960830]\n",
      "Trying -1 at fitness 0: [6583921660, 3291960828]\n",
      "Current parameter: 0\n",
      "Trying +1 at fitness 0: [6583921661, 3291960829]\n",
      "Trying -1 at fitness 0: [6583921659, 3291960829]\n",
      "Current parameter: 1\n",
      "Trying +1 at fitness 0: [6583921660, 3291960830]\n",
      "Trying -1 at fitness 0: [6583921660, 3291960828]\n",
      "Solution fitness 0: [6583921660, 3291960829]\n"
     ]
    },
    {
     "data": {
      "text/plain": [
       "[6583921660, 3291960829]"
      ]
     },
     "execution_count": 31,
     "metadata": {},
     "output_type": "execute_result"
    }
   ],
   "source": [
    "fitness_values = []\n",
    "avm()"
   ]
  },
  {
   "cell_type": "code",
   "execution_count": 32,
   "metadata": {
    "slideshow": {
     "slide_type": "subslide"
    }
   },
   "outputs": [
    {
     "data": {
      "text/plain": [
       "[<matplotlib.lines.Line2D at 0x11cca62b0>]"
      ]
     },
     "execution_count": 32,
     "metadata": {},
     "output_type": "execute_result"
    },
    {
     "data": {
      "image/png": "[encoded data removed]",
      "text/plain": [
       "<Figure size 432x288 with 1 Axes>"
      ]
     },
     "metadata": {
      "needs_background": "light"
     },
     "output_type": "display_data"
    }
   ],
   "source": [
    "plt.plot(fitness_values)"
   ]
  },
  {
   "cell_type": "markdown",
   "metadata": {
    "slideshow": {
     "slide_type": "slide"
    }
   },
   "source": [
    "## Program Instrumentation"
   ]
  },
  {
   "cell_type": "markdown",
   "metadata": {
    "slideshow": {
     "slide_type": "skip"
    }
   },
   "source": [
    "Deriving fitness functions is not quite so easy. Of course we could come up with an equation that captures the relation between the sides of the triangle, but then essentially we would need to reproduce the entire program logic again in a function, which certainly does not help generalising to other programs. For example, consider how the fitness function would look like if the comparison was not made on the input parameters, but on values derived through computation within the function under test. Ideally, what we would want is to be able to pick a point in the program and come up with a fitness function automatically that describes how close we are to reaching this point."
   ]
  },
  {
   "cell_type": "markdown",
   "metadata": {
    "slideshow": {
     "slide_type": "skip"
    }
   },
   "source": [
    "There are two central ideas in order to achieve this:\n",
    "\n",
    "- First, rather than trying to guess how close a program inputs gets to a target statement, we simply _run_ the program with the input and observe how close it actually gets.\n",
    "\n",
    "- Second, during the execution we keep track of distance estimates like the one we calculated for the `test_me` function whenever we come across conditional statements."
   ]
  },
  {
   "cell_type": "markdown",
   "metadata": {
    "slideshow": {
     "slide_type": "skip"
    }
   },
   "source": [
    "In order to observe what an execution does, we need to *instrument* the program: We add new code immediately before or after the branching condition to keep track of the values observed and calculate the distance using these values."
   ]
  },
  {
   "cell_type": "markdown",
   "metadata": {
    "slideshow": {
     "slide_type": "skip"
    }
   },
   "source": [
    "Let's first consider what is done here conceptually. We first define a global variable in which we will store the distance, so that we can access it after the execution:"
   ]
  },
  {
   "cell_type": "code",
   "execution_count": 33,
   "metadata": {
    "slideshow": {
     "slide_type": "slide"
    }
   },
   "outputs": [],
   "source": [
    "distance = 0"
   ]
  },
  {
   "cell_type": "markdown",
   "metadata": {
    "slideshow": {
     "slide_type": "skip"
    }
   },
   "source": [
    "Now the instrumented version just has to update the global variable immediately before executing the branching condition:"
   ]
  },
  {
   "cell_type": "code",
   "execution_count": 34,
   "metadata": {
    "slideshow": {
     "slide_type": "fragment"
    }
   },
   "outputs": [],
   "source": [
    "def test_me_instrumented(x, y):\n",
    "    global distance\n",
    "    distance = abs(x - 2 * (y + 1))\n",
    "    if x == 2 * (y + 1):\n",
    "        return True\n",
    "    else:\n",
    "        return False"
   ]
  },
  {
   "cell_type": "markdown",
   "metadata": {
    "slideshow": {
     "slide_type": "skip"
    }
   },
   "source": [
    "Let's try this out for a couple of example values:"
   ]
  },
  {
   "cell_type": "code",
   "execution_count": 35,
   "metadata": {
    "slideshow": {
     "slide_type": "fragment"
    }
   },
   "outputs": [
    {
     "data": {
      "text/plain": [
       "2"
      ]
     },
     "execution_count": 35,
     "metadata": {},
     "output_type": "execute_result"
    }
   ],
   "source": [
    "test_me_instrumented(0, 0)\n",
    "distance"
   ]
  },
  {
   "cell_type": "code",
   "execution_count": 36,
   "metadata": {
    "slideshow": {
     "slide_type": "skip"
    }
   },
   "outputs": [
    {
     "data": {
      "text/plain": [
       "0"
      ]
     },
     "execution_count": 36,
     "metadata": {},
     "output_type": "execute_result"
    }
   ],
   "source": [
    "test_me_instrumented(22, 10)\n",
    "distance"
   ]
  },
  {
   "cell_type": "markdown",
   "metadata": {
    "slideshow": {
     "slide_type": "fragment"
    }
   },
   "source": [
    "Using this instrumented version of `test_me()`, we can define a fitness function which simply calculates the distance for the condition being true:"
   ]
  },
  {
   "cell_type": "code",
   "execution_count": 37,
   "metadata": {
    "slideshow": {
     "slide_type": "subslide"
    }
   },
   "outputs": [],
   "source": [
    "def get_fitness(individual):\n",
    "    global distance\n",
    "    test_me_instrumented(*individual)\n",
    "    fitness = distance\n",
    "    return fitness"
   ]
  },
  {
   "cell_type": "markdown",
   "metadata": {
    "slideshow": {
     "slide_type": "skip"
    }
   },
   "source": [
    "Let's try this on some example inputs:"
   ]
  },
  {
   "cell_type": "code",
   "execution_count": 38,
   "metadata": {
    "slideshow": {
     "slide_type": "skip"
    }
   },
   "outputs": [
    {
     "data": {
      "text/plain": [
       "2"
      ]
     },
     "execution_count": 38,
     "metadata": {},
     "output_type": "execute_result"
    }
   ],
   "source": [
    "get_fitness([0, 0])"
   ]
  },
  {
   "cell_type": "markdown",
   "metadata": {
    "slideshow": {
     "slide_type": "skip"
    }
   },
   "source": [
    "When we have reached the target branch, the distance will be 0:"
   ]
  },
  {
   "cell_type": "code",
   "execution_count": 39,
   "metadata": {
    "slideshow": {
     "slide_type": "fragment"
    }
   },
   "outputs": [
    {
     "data": {
      "text/plain": [
       "0"
      ]
     },
     "execution_count": 39,
     "metadata": {},
     "output_type": "execute_result"
    }
   ],
   "source": [
    "get_fitness([22, 10])"
   ]
  },
  {
   "cell_type": "markdown",
   "metadata": {
    "slideshow": {
     "slide_type": "skip"
    }
   },
   "source": [
    "When implementing the instrumentation, we need to consider that the branching condition may have side-effects. For example, suppose that the branching condition were `x == 2 * foo(y)`, where `foo()` is a function that takes an integer as input. Naively instrumenting would lead to the following code:\n",
    "\n",
    "```\n",
    "    distance = abs(x - 2 * foo(y))\n",
    "\tif x == 2 * foo(y):\n",
    "\t...\n",
    "```"
   ]
  },
  {
   "cell_type": "markdown",
   "metadata": {
    "slideshow": {
     "slide_type": "skip"
    }
   },
   "source": [
    "Thus, the instrumentation would lead to `foo()` being executed *twice*. Suppose `foo()` changes the state of the system (e.g., by printing something, accessing the file system, changing some state variables, etc.), then clearly invoking `foo()` a second time is a bad idea. One way to overcome this problem is to _transform_ the conditions, rather than _adding_ tracing calls. For example, one can create temporary variables that hold the values necessary for the distance calculation and then use these in the branching condition:\n",
    "\n",
    "```\n",
    "\ttmp1 = x\n",
    "\ttmp2 = 2 * foo(y)\n",
    "\tdistance = compute_distance(tmp1, tmp2)\n",
    "\tif tmp1 == tmp2:\n",
    "\t...\n",
    "```"
   ]
  },
  {
   "cell_type": "code",
   "execution_count": 40,
   "metadata": {
    "slideshow": {
     "slide_type": "slide"
    }
   },
   "outputs": [],
   "source": [
    "def evaluate_equals(op1, op2):\n",
    "    global distance\n",
    "    distance = abs(op1 - op2)\n",
    "    if distance == 0:\n",
    "        return True\n",
    "    else:\n",
    "        return False;"
   ]
  },
  {
   "cell_type": "markdown",
   "metadata": {
    "slideshow": {
     "slide_type": "skip"
    }
   },
   "source": [
    "Now the aim would be to transform the program automatically such that it looks like so:"
   ]
  },
  {
   "cell_type": "code",
   "execution_count": 41,
   "metadata": {
    "slideshow": {
     "slide_type": "subslide"
    }
   },
   "outputs": [],
   "source": [
    "def test_me_instrumented(x, y):\n",
    "    tmp1 = x\n",
    "    tmp2 = 2 * (y + 1)    \n",
    "    if evaluate_equals(tmp1, tmp2):\n",
    "        return True\n",
    "    else:\n",
    "        return False"
   ]
  },
  {
   "cell_type": "markdown",
   "metadata": {
    "slideshow": {
     "slide_type": "skip"
    }
   },
   "source": [
    "Replacing comparisons automatically is actually quite easy in Python, using the abstract syntax tree (AST) of the program. In the AST, a comparison will typically be a tree node with an operator attribute and two children for the left-hand and right-hand operators. To replace such comparisons with a call to `calculate_distance()` one simply needs to replace the comparison node in the AST with a function call node, and this is what the `BranchTransformer` class does using a NodeTransformer from Python's `ast` module:"
   ]
  },
  {
   "cell_type": "code",
   "execution_count": 42,
   "metadata": {
    "slideshow": {
     "slide_type": "skip"
    }
   },
   "outputs": [],
   "source": [
    "import ast"
   ]
  },
  {
   "cell_type": "code",
   "execution_count": 43,
   "metadata": {
    "slideshow": {
     "slide_type": "slide"
    }
   },
   "outputs": [],
   "source": [
    "class BranchTransformer(ast.NodeTransformer):\n",
    "\n",
    "    def visit_FunctionDef(self, node):\n",
    "        node.name = node.name + \"_instrumented\"\n",
    "        return self.generic_visit(node)\n",
    "\n",
    "    def visit_Compare(self, node):\n",
    "        if not isinstance(node.ops[0], ast.Eq):\n",
    "            return node\n",
    "\n",
    "        return ast.Call(func=ast.Name(\"evaluate_equals\", ast.Load()),\n",
    "                        args=[node.left,\n",
    "                              node.comparators[0]],\n",
    "                        keywords=[],\n",
    "                        starargs=None,\n",
    "                        kwargs=None)"
   ]
  },
  {
   "cell_type": "markdown",
   "metadata": {
    "slideshow": {
     "slide_type": "skip"
    }
   },
   "source": [
    "The `BranchTransformer` parses a target Python program using the built-in parser `ast.parse()`, which returns the AST. Python provides an API to traverse and modify this AST. To replace the comparison with a function call we use an `ast.NodeTransformer`, which uses the visitor pattern where there is one `visit_*` function for each type of node in the AST. As we are interested in replacing comparisons, we override `visit_Compare`, where instead of the original comparison node we return a new node of type `ast.Func`, which is a function call node. The first parameter of this node is the name of the function `calculate_distance`, and the arguments are the two operands that our `calculate_distance` function expects.\n",
    "\n",
    "You will notice that we also override `visit_FunctionDef`; this is just to change the name of the method by appending `_instrumented`, so that we can continue to use the original function together with the instrumented one."
   ]
  },
  {
   "cell_type": "markdown",
   "metadata": {
    "slideshow": {
     "slide_type": "skip"
    }
   },
   "source": [
    "The following code parses the source code of the `test_me()` function to an AST, then transforms it, and prints it out again (using the `to_source()` function from the `astor` library):"
   ]
  },
  {
   "cell_type": "code",
   "execution_count": 44,
   "metadata": {
    "slideshow": {
     "slide_type": "skip"
    }
   },
   "outputs": [],
   "source": [
    "import inspect\n",
    "import ast\n",
    "import astor"
   ]
  },
  {
   "cell_type": "code",
   "execution_count": 45,
   "metadata": {
    "slideshow": {
     "slide_type": "subslide"
    }
   },
   "outputs": [
    {
     "name": "stdout",
     "output_type": "stream",
     "text": [
      "def test_me_instrumented(x, y):\n",
      "    if evaluate_equals(x, 2 * (y + 1)):\n",
      "        return True\n",
      "    else:\n",
      "        return False\n",
      "\n"
     ]
    }
   ],
   "source": [
    "source = inspect.getsource(test_me)\n",
    "node = ast.parse(source)\n",
    "BranchTransformer().visit(node)\n",
    "\n",
    "# Make sure the line numbers are ok before printing\n",
    "node = ast.fix_missing_locations(node)\n",
    "print(astor.to_source(node))"
   ]
  },
  {
   "cell_type": "markdown",
   "metadata": {
    "slideshow": {
     "slide_type": "skip"
    }
   },
   "source": [
    "To calculate a fitness value with the instrumented version, we need to compile the instrumented AST again, which is done using Python's `compile()` function. We then need to make the compiled function accessible, for which we first retrieve the current module from `sys.modules`, and then add the compiled code of the instrumented function to the list of functions of the current module using `exec`. After this, the `cgi_decode_instrumented()` function can be accessed."
   ]
  },
  {
   "cell_type": "code",
   "execution_count": 46,
   "metadata": {
    "slideshow": {
     "slide_type": "skip"
    }
   },
   "outputs": [],
   "source": [
    "import sys"
   ]
  },
  {
   "cell_type": "code",
   "execution_count": 47,
   "metadata": {
    "slideshow": {
     "slide_type": "slide"
    }
   },
   "outputs": [],
   "source": [
    "def create_instrumented_function(f):\n",
    "    source = inspect.getsource(f)\n",
    "    node = ast.parse(source)\n",
    "    node = BranchTransformer().visit(node)\n",
    "\n",
    "    # Make sure the line numbers are ok so that it compiles\n",
    "    node = ast.fix_missing_locations(node)\n",
    "\n",
    "    # Compile and add the instrumented function to the current module\n",
    "    current_module = sys.modules[__name__]\n",
    "    code = compile(node, filename=\"<ast>\", mode=\"exec\")\n",
    "    exec(code, current_module.__dict__)"
   ]
  },
  {
   "cell_type": "code",
   "execution_count": 48,
   "metadata": {
    "slideshow": {
     "slide_type": "subslide"
    }
   },
   "outputs": [],
   "source": [
    "create_instrumented_function(test_me)"
   ]
  },
  {
   "cell_type": "code",
   "execution_count": 49,
   "metadata": {
    "slideshow": {
     "slide_type": "fragment"
    }
   },
   "outputs": [
    {
     "data": {
      "text/plain": [
       "False"
      ]
     },
     "execution_count": 49,
     "metadata": {},
     "output_type": "execute_result"
    }
   ],
   "source": [
    "test_me_instrumented(0, 0)"
   ]
  },
  {
   "cell_type": "code",
   "execution_count": 50,
   "metadata": {
    "slideshow": {
     "slide_type": "fragment"
    }
   },
   "outputs": [
    {
     "data": {
      "text/plain": [
       "2"
      ]
     },
     "execution_count": 50,
     "metadata": {},
     "output_type": "execute_result"
    }
   ],
   "source": [
    "distance"
   ]
  },
  {
   "cell_type": "code",
   "execution_count": 51,
   "metadata": {
    "slideshow": {
     "slide_type": "fragment"
    }
   },
   "outputs": [
    {
     "data": {
      "text/plain": [
       "True"
      ]
     },
     "execution_count": 51,
     "metadata": {},
     "output_type": "execute_result"
    }
   ],
   "source": [
    "test_me_instrumented(22, 10)"
   ]
  },
  {
   "cell_type": "code",
   "execution_count": 52,
   "metadata": {
    "slideshow": {
     "slide_type": "fragment"
    }
   },
   "outputs": [
    {
     "data": {
      "text/plain": [
       "0"
      ]
     },
     "execution_count": 52,
     "metadata": {},
     "output_type": "execute_result"
    }
   ],
   "source": [
    "distance"
   ]
  },
  {
   "cell_type": "markdown",
   "metadata": {
    "slideshow": {
     "slide_type": "skip"
    }
   },
   "source": [
    "The estimate for any relational comparison of two values is defined in terms of the _branch distance_. Our `evaluate_equals` function indeed implements the branch distance function for an equality comparison. To generalise this we need similar estimates for other types of relational comparisons. Furthermore, we also have to consider the distance to such conditions evaluating to false, not just to true. Thus, each if-condition actually has two distance estimates, one to estimate how close it is to being true, and one how close it is to being false. If the condition is true, then the true distance is 0; if the condition is false, then the false distance is 0. That is, in a comparison `a == b`, if `a` is smaller than `b`, then the false distance is `0` by definition. \n",
    "\n",
    "The following table shows how to calculate the distance for different types of comparisons:\n",
    "\n",
    "| Condition | Distance True | Distance False |\n",
    "| ------------- |:-------------:| -----:|\n",
    "| a == b      | abs(a - b) | 1 |\n",
    "| a != b      | 1          | abs(a - b) |\n",
    "| a < b       | b - a + 1  | a - b      |\n",
    "| a <= b      | b - a      | a - b + 1  |\n",
    "| a > b       | a - b + 1  | b - a      |\n",
    "\n",
    "\n",
    "Note that several of the calculations add a constant `1`. The reason for this is quite simple: Suppose we want to have `a < b` evaluate to true, and let `a = 27` and `b = 27`. The condition is not true, but simply taking the difference would give us a result of `0`. To avoid this, we have to add a constant value. It is not important whether this value is `1` -- any positive constant works."
   ]
  },
  {
   "cell_type": "markdown",
   "metadata": {
    "slideshow": {
     "slide_type": "skip"
    }
   },
   "source": [
    "We generalise our `evaluate_equals` function to an `evaluate_condition` function that takes the operator as an additional parameter, and then implements the above table. In contrast to the previous `calculate_equals`, we will now calculate both, the true and the false distance:"
   ]
  },
  {
   "cell_type": "code",
   "execution_count": 53,
   "metadata": {
    "slideshow": {
     "slide_type": "slide"
    }
   },
   "outputs": [],
   "source": [
    "def evaluate_condition(op, lhs, rhs):\n",
    "    distance_true = 0\n",
    "    distance_false = 0\n",
    "    if op == \"Eq\":\n",
    "        if lhs == rhs:\n",
    "            distance_false = 1\n",
    "        else:\n",
    "            distance_true = abs(lhs - rhs)\n",
    "\n",
    "    # ... code for other types of conditions\n",
    "\n",
    "    if distance_true == 0:\n",
    "        return True\n",
    "    else:\n",
    "        return False"
   ]
  },
  {
   "cell_type": "markdown",
   "metadata": {
    "slideshow": {
     "slide_type": "skip"
    }
   },
   "source": [
    "Let's consider a slightly larger function under test. We will use the well known triangle example, originating in Glenford Meyer's classical Art of Software Testing book "
   ]
  },
  {
   "cell_type": "code",
   "execution_count": 54,
   "metadata": {
    "slideshow": {
     "slide_type": "slide"
    }
   },
   "outputs": [],
   "source": [
    "def triangle(a, b, c):\n",
    "    if a <= 0 or b <= 0 or c <= 0:\n",
    "        return 4 # invalid\n",
    "    \n",
    "    if a + b <= c or a + c <= b or b + c <= a:\n",
    "        return 4 # invalid\n",
    "    \n",
    "    if a == b and b == c:\n",
    "        return 1 # equilateral\n",
    "    \n",
    "    if a == b or b == c or a == c:\n",
    "        return 2 # isosceles\n",
    "    \n",
    "    return 3 # scalene"
   ]
  },
  {
   "cell_type": "markdown",
   "metadata": {
    "slideshow": {
     "slide_type": "skip"
    }
   },
   "source": [
    "The function takes as input the length of the three sides of a triangle, and returns a number representing the type of triangle:"
   ]
  },
  {
   "cell_type": "code",
   "execution_count": 55,
   "metadata": {
    "slideshow": {
     "slide_type": "skip"
    }
   },
   "outputs": [
    {
     "data": {
      "text/plain": [
       "1"
      ]
     },
     "execution_count": 55,
     "metadata": {},
     "output_type": "execute_result"
    }
   ],
   "source": [
    "triangle(4,4,4)"
   ]
  },
  {
   "cell_type": "markdown",
   "metadata": {
    "slideshow": {
     "slide_type": "skip"
    }
   },
   "source": [
    "Adapting our representation is easy, we just need to correctly set the number of parameters:"
   ]
  },
  {
   "cell_type": "code",
   "execution_count": 56,
   "metadata": {
    "slideshow": {
     "slide_type": "skip"
    }
   },
   "outputs": [
    {
     "data": {
      "text/plain": [
       "3"
      ]
     },
     "execution_count": 56,
     "metadata": {},
     "output_type": "execute_result"
    }
   ],
   "source": [
    "sig = signature(triangle)\n",
    "num_parameters = len(sig.parameters)\n",
    "num_parameters"
   ]
  },
  {
   "cell_type": "markdown",
   "metadata": {
    "slideshow": {
     "slide_type": "skip"
    }
   },
   "source": [
    "For the `triangle` function, however, we have multiple if-conditions; we have to add instrumentation to each of these using `evaluate_condition`. We also need to generalise from our global `distance` variable, since we now have two distance values per branch, and potentially multiple branches. Furthermore, a condition might be executed multiple times within a single execution (e.g., if it is in a loop), so rather than storing all values, we will only keep the _minimum_ value observed for each condition:"
   ]
  },
  {
   "cell_type": "code",
   "execution_count": 57,
   "metadata": {
    "slideshow": {
     "slide_type": "slide"
    }
   },
   "outputs": [],
   "source": [
    "distances_true = {}\n",
    "distances_false = {}"
   ]
  },
  {
   "cell_type": "code",
   "execution_count": 58,
   "metadata": {
    "slideshow": {
     "slide_type": "fragment"
    }
   },
   "outputs": [],
   "source": [
    "def update_maps(condition_num, d_true, d_false):\n",
    "    global distances_true, distances_false\n",
    "\n",
    "    if condition_num in distances_true.keys():\n",
    "        distances_true[condition_num] = min(distances_true[condition_num], d_true)\n",
    "    else:\n",
    "        distances_true[condition_num] = d_true\n",
    "\n",
    "    if condition_num in distances_false.keys():\n",
    "        distances_false[condition_num] = min(distances_false[condition_num], d_false)\n",
    "    else:\n",
    "        distances_false[condition_num] = d_false"
   ]
  },
  {
   "cell_type": "markdown",
   "metadata": {
    "slideshow": {
     "slide_type": "skip"
    }
   },
   "source": [
    "Now we need to finish implementing the `evaluate_condition` function. We add yet another parameter to denote the ID of the branch we are instrumenting:"
   ]
  },
  {
   "cell_type": "code",
   "execution_count": 59,
   "metadata": {
    "slideshow": {
     "slide_type": "slide"
    }
   },
   "outputs": [],
   "source": [
    "def evaluate_condition(num, op, lhs, rhs):\n",
    "    distance_true = 0\n",
    "    distance_false = 0\n",
    "\n",
    "    # Make sure the distance can be calculated on number and character\n",
    "    # comparisons (needed for cgi_decode later)\n",
    "    if isinstance(lhs, str):\n",
    "        lhs = ord(lhs)\n",
    "    if isinstance(rhs, str):\n",
    "        rhs = ord(rhs)\n",
    "\n",
    "    if op == \"Eq\":\n",
    "        if lhs == rhs:\n",
    "            distance_false = 1\n",
    "        else:\n",
    "            distance_true = abs(lhs - rhs)\n",
    "\n",
    "    elif op == \"Gt\":\n",
    "        if lhs > rhs:\n",
    "            distance_false = lhs - rhs\n",
    "        else:\n",
    "            distance_true = rhs - lhs + 1\n",
    "    elif op == \"Lt\":\n",
    "        if lhs < rhs:\n",
    "            distance_false = rhs - lhs\n",
    "        else:\n",
    "            distance_true = lhs - rhs + 1\n",
    "    elif op == \"LtE\":\n",
    "        if lhs <= rhs:\n",
    "            distance_false = rhs - lhs + 1\n",
    "        else:\n",
    "            distance_true = lhs - rhs\n",
    "    # ...\n",
    "    # handle other comparison operators\n",
    "    # ...\n",
    "\n",
    "    elif op == \"In\":\n",
    "        minimum = sys.maxsize\n",
    "        for elem in rhs.keys():\n",
    "            distance = abs(lhs - ord(elem))\n",
    "            if distance < minimum:\n",
    "                minimum = distance\n",
    "\n",
    "        distance_true = minimum\n",
    "        if distance_true == 0:\n",
    "            distance_false = 1\n",
    "    else:\n",
    "        assert False\n",
    "\n",
    "    update_maps(num, normalise(distance_true), normalise(distance_false))\n",
    "\n",
    "    if distance_true == 0:\n",
    "        return True\n",
    "    else:\n",
    "        return False"
   ]
  },
  {
   "cell_type": "markdown",
   "metadata": {
    "slideshow": {
     "slide_type": "skip"
    }
   },
   "source": [
    "We need to normalise branch distances since different comparisons will be on different scales, and this would bias the search. We will use the normalisaction function defined in the previous chapter:"
   ]
  },
  {
   "cell_type": "code",
   "execution_count": 60,
   "metadata": {
    "slideshow": {
     "slide_type": "subslide"
    }
   },
   "outputs": [],
   "source": [
    "def normalise(x):\n",
    "    return x / (1.0 + x)"
   ]
  },
  {
   "cell_type": "markdown",
   "metadata": {
    "slideshow": {
     "slide_type": "skip"
    }
   },
   "source": [
    "We also need to extend our instrumentation function to take care of all comparisons, and not just equality comparisons:"
   ]
  },
  {
   "cell_type": "code",
   "execution_count": 61,
   "metadata": {
    "slideshow": {
     "slide_type": "slide"
    }
   },
   "outputs": [],
   "source": [
    "import ast\n",
    "class BranchTransformer(ast.NodeTransformer):\n",
    "\n",
    "    branch_num = 0\n",
    "\n",
    "    def visit_FunctionDef(self, node):\n",
    "        node.name = node.name + \"_instrumented\"\n",
    "        return self.generic_visit(node)\n",
    "\n",
    "    def visit_Compare(self, node):\n",
    "        if node.ops[0] in [ast.Is, ast.IsNot, ast.In, ast.NotIn]:\n",
    "            return node\n",
    "\n",
    "        self.branch_num += 1\n",
    "        return ast.Call(func=ast.Name(\"evaluate_condition\", ast.Load()),\n",
    "                        args=[ast.Num(self.branch_num - 1),\n",
    "                              ast.Str(node.ops[0].__class__.__name__),\n",
    "                              node.left,\n",
    "                              node.comparators[0]],\n",
    "                        keywords=[],\n",
    "                        starargs=None,\n",
    "                        kwargs=None)"
   ]
  },
  {
   "cell_type": "markdown",
   "metadata": {
    "slideshow": {
     "slide_type": "skip"
    }
   },
   "source": [
    "We can now take a look at the instrumented version of `triangle`:"
   ]
  },
  {
   "cell_type": "code",
   "execution_count": 62,
   "metadata": {
    "slideshow": {
     "slide_type": "slide"
    }
   },
   "outputs": [
    {
     "name": "stdout",
     "output_type": "stream",
     "text": [
      "def triangle_instrumented(a, b, c):\n",
      "    if evaluate_condition(0, 'LtE', a, 0) or evaluate_condition(1, 'LtE', b, 0\n",
      "        ) or evaluate_condition(2, 'LtE', c, 0):\n",
      "        return 4\n",
      "    if evaluate_condition(3, 'LtE', a + b, c) or evaluate_condition(4,\n",
      "        'LtE', a + c, b) or evaluate_condition(5, 'LtE', b + c, a):\n",
      "        return 4\n",
      "    if evaluate_condition(6, 'Eq', a, b) and evaluate_condition(7, 'Eq', b, c):\n",
      "        return 1\n",
      "    if evaluate_condition(8, 'Eq', a, b) or evaluate_condition(9, 'Eq', b, c\n",
      "        ) or evaluate_condition(10, 'Eq', a, c):\n",
      "        return 2\n",
      "    return 3\n",
      "\n"
     ]
    }
   ],
   "source": [
    "source = inspect.getsource(triangle)\n",
    "node = ast.parse(source)\n",
    "transformer = BranchTransformer()\n",
    "transformer.visit(node)\n",
    "\n",
    "# Make sure the line numbers are ok before printing\n",
    "node = ast.fix_missing_locations(node)\n",
    "print(astor.to_source(node))\n",
    "num_branches = transformer.branch_num"
   ]
  },
  {
   "cell_type": "markdown",
   "metadata": {
    "slideshow": {
     "slide_type": "skip"
    }
   },
   "source": [
    "To define an executable version of the instrumented triangle function, we can use our `create_instrumented_function` function again:"
   ]
  },
  {
   "cell_type": "code",
   "execution_count": 63,
   "metadata": {
    "slideshow": {
     "slide_type": "slide"
    }
   },
   "outputs": [],
   "source": [
    "create_instrumented_function(triangle)"
   ]
  },
  {
   "cell_type": "code",
   "execution_count": 64,
   "metadata": {
    "slideshow": {
     "slide_type": "fragment"
    }
   },
   "outputs": [
    {
     "data": {
      "text/plain": [
       "1"
      ]
     },
     "execution_count": 64,
     "metadata": {},
     "output_type": "execute_result"
    }
   ],
   "source": [
    "triangle_instrumented(4, 4, 4)"
   ]
  },
  {
   "cell_type": "code",
   "execution_count": 65,
   "metadata": {
    "slideshow": {
     "slide_type": "fragment"
    }
   },
   "outputs": [
    {
     "data": {
      "text/plain": [
       "{0: 0.8, 1: 0.8, 2: 0.8, 3: 0.8, 4: 0.8, 5: 0.8, 6: 0.0, 7: 0.0}"
      ]
     },
     "execution_count": 65,
     "metadata": {},
     "output_type": "execute_result"
    }
   ],
   "source": [
    "distances_true"
   ]
  },
  {
   "cell_type": "code",
   "execution_count": 66,
   "metadata": {
    "slideshow": {
     "slide_type": "fragment"
    }
   },
   "outputs": [
    {
     "data": {
      "text/plain": [
       "{0: 0.0, 1: 0.0, 2: 0.0, 3: 0.0, 4: 0.0, 5: 0.0, 6: 0.5, 7: 0.5}"
      ]
     },
     "execution_count": 66,
     "metadata": {},
     "output_type": "execute_result"
    }
   ],
   "source": [
    "distances_false"
   ]
  },
  {
   "cell_type": "markdown",
   "metadata": {
    "slideshow": {
     "slide_type": "skip"
    }
   },
   "source": [
    "The branch distance functions above are defined only for atomic comparisons. However, in the `triangle` program all of the atomic comparisons are part of larger predicates, joined together by `and` and `or` connectors. \n",
    "\n",
    "For conjunctions the branch distance is defined such that the distance to make `A and B` true equals the sum of the branch distances for `A` and `B`, as both of the two conditions would need to be true. Similarly, the branch distance to make `A or B` true would be the _minimum_ of the two branch distances of `A` and `B`, as it suffices if one of the two conditions is true to make the entire expression true (and the false distance would be the sum of false distances of the conditions). For a negation `not A`, we can simply switch from the true distance to the false distance, or vice versa. Since predicates can consist of nested conditions, one would need to recursively calculate the branch distance.\n"
   ]
  },
  {
   "cell_type": "markdown",
   "metadata": {
    "slideshow": {
     "slide_type": "skip"
    }
   },
   "source": [
    "Assume we want to find an input that covers the third if-condition, i.e., it produces a triangle where all sides have equal length. Considering instrumented version of the triangle function we printed above, in order for this if-condition to evaluate to true we require conditions 0, 1, 2, 3, 4, and 5 to evaluate to false, and 6 and 7 to evaluate to true. Thus, the fitness function for this branch would be the sum of false distances for branches 0-5, and true distances for branches 6 and 7."
   ]
  },
  {
   "cell_type": "code",
   "execution_count": 67,
   "metadata": {
    "slideshow": {
     "slide_type": "slide"
    }
   },
   "outputs": [],
   "source": [
    "def get_fitness(x):\n",
    "    # Reset any distance values from previous executions\n",
    "    global distances_true, distances_false\n",
    "    distances_true = {x: 1.0 for x in range(10)}\n",
    "    distances_false = {x: 1.0 for x in range(10)}\n",
    "\n",
    "    # Run the function under test\n",
    "    triangle_instrumented(*x)\n",
    "\n",
    "    # Sum up branch distances\n",
    "    fitness = 0.0\n",
    "    for branch in [6, 7]:\n",
    "        fitness += distances_true[branch]\n",
    "\n",
    "    for branch in [0, 1, 2, 3, 4, 5]:\n",
    "        fitness += distances_false[branch]\n",
    "\n",
    "    return fitness"
   ]
  },
  {
   "cell_type": "code",
   "execution_count": 68,
   "metadata": {
    "slideshow": {
     "slide_type": "fragment"
    }
   },
   "outputs": [
    {
     "data": {
      "text/plain": [
       "0.0"
      ]
     },
     "execution_count": 68,
     "metadata": {},
     "output_type": "execute_result"
    }
   ],
   "source": [
    "get_fitness([5,5,5])"
   ]
  },
  {
   "cell_type": "code",
   "execution_count": 69,
   "metadata": {
    "slideshow": {
     "slide_type": "skip"
    }
   },
   "outputs": [
    {
     "data": {
      "text/plain": [
       "7.999999999565542"
      ]
     },
     "execution_count": 69,
     "metadata": {},
     "output_type": "execute_result"
    }
   ],
   "source": [
    "get_fitness(get_random_individual())"
   ]
  },
  {
   "cell_type": "code",
   "execution_count": 70,
   "metadata": {
    "slideshow": {
     "slide_type": "slide"
    }
   },
   "outputs": [
    {
     "name": "stdout",
     "output_type": "stream",
     "text": [
      "Starting at fitness 7.999860840523239: [-7184, -6805, -7238]\n",
      "Solution fitness after 10002 fitness evaluations: 7.9998188077550285: [-5517, -6805, -7238]\n"
     ]
    },
    {
     "data": {
      "text/plain": [
       "[-5517, -6805, -7238]"
      ]
     },
     "execution_count": 70,
     "metadata": {},
     "output_type": "execute_result"
    }
   ],
   "source": [
    "MAX=10000\n",
    "MIN=-MAX\n",
    "fitness_values = []\n",
    "max_gen = 1000\n",
    "hillclimbing()"
   ]
  },
  {
   "cell_type": "code",
   "execution_count": 71,
   "metadata": {
    "scrolled": true,
    "slideshow": {
     "slide_type": "subslide"
    }
   },
   "outputs": [
    {
     "data": {
      "text/plain": [
       "[<matplotlib.lines.Line2D at 0x11cd49400>]"
      ]
     },
     "execution_count": 71,
     "metadata": {},
     "output_type": "execute_result"
    },
    {
     "data": {
      "image/png": "[encoded data removed]",
      "text/plain": [
       "<Figure size 432x288 with 1 Axes>"
      ]
     },
     "metadata": {
      "needs_background": "light"
     },
     "output_type": "display_data"
    }
   ],
   "source": [
    "plt.plot(fitness_values)"
   ]
  },
  {
   "cell_type": "code",
   "execution_count": 72,
   "metadata": {
    "slideshow": {
     "slide_type": "slide"
    }
   },
   "outputs": [
    {
     "name": "stdout",
     "output_type": "stream",
     "text": [
      "Starting at fitness 5.9714285714285715: [5651, 4419, -33]\n",
      "Current parameter: 0\n",
      "Trying +1 at fitness 5.9714285714285715: [5652, 4419, -33]\n",
      "Trying -1 at fitness 5.9714285714285715: [5650, 4419, -33]\n",
      "Current parameter: 1\n",
      "Trying +1 at fitness 5.9714285714285715: [5651, 4420, -33]\n",
      "Trying -1 at fitness 5.9714285714285715: [5651, 4418, -33]\n",
      "Current parameter: 2\n",
      "Trying +1 at fitness 5.9714285714285715: [5651, 4419, -32]\n",
      "-> [5651, 4419, -32], direction 2, fitness 5.970588235294118\n",
      "-> [5651, 4419, -30], direction 4, fitness 5.96875\n",
      "-> [5651, 4419, -26], direction 8, fitness 5.964285714285714\n",
      "-> [5651, 4419, -18], direction 16, fitness 5.95\n",
      "-> [5651, 4419, -2], direction 32, fitness 5.75\n",
      "-> [5651, 4419, 30], direction 64, fitness 2.999169435215947\n",
      "-> [5651, 4419, 94], direction 128, fitness 2.9991228070175437\n",
      "-> [5651, 4419, 222], direction 256, fitness 2.9990118577075098\n",
      "-> [5651, 4419, 478], direction 512, fitness 2.998677248677249\n",
      "-> [5651, 4419, 990], direction 1024, fitness 2.9959016393442623\n",
      "-> [5651, 4419, 2014], direction 2048, fitness 1.9991889699918897\n",
      "Current parameter: 2\n",
      "Trying +1 at fitness 1.9991889699918897: [5651, 4419, 2015]\n",
      "Trying -1 at fitness 1.9991889699918897: [5651, 4419, 2013]\n",
      "Current parameter: 0\n",
      "Trying +1 at fitness 1.9991889699918897: [5652, 4419, 2014]\n",
      "Trying -1 at fitness 1.9991889699918897: [5650, 4419, 2014]\n",
      "-> [5650, 4419, 2014], direction -2, fitness 1.9991883116883118\n",
      "-> [5648, 4419, 2014], direction -4, fitness 1.9991869918699186\n",
      "-> [5644, 4419, 2014], direction -8, fitness 1.9991843393148452\n",
      "-> [5636, 4419, 2014], direction -16, fitness 1.9991789819376025\n",
      "-> [5620, 4419, 2014], direction -32, fitness 1.9991680532445923\n",
      "-> [5588, 4419, 2014], direction -64, fitness 1.9991452991452991\n",
      "-> [5524, 4419, 2014], direction -128, fitness 1.9990958408679926\n",
      "-> [5396, 4419, 2014], direction -256, fitness 1.9989775051124745\n",
      "-> [5140, 4419, 2014], direction -512, fitness 1.9986149584487536\n",
      "-> [4628, 4419, 2014], direction -1024, fitness 1.9952380952380953\n",
      "Current parameter: 0\n",
      "Trying +1 at fitness 1.9952380952380953: [4629, 4419, 2014]\n",
      "Trying -1 at fitness 1.9952380952380953: [4627, 4419, 2014]\n",
      "-> [4627, 4419, 2014], direction -2, fitness 1.9952153110047846\n",
      "-> [4625, 4419, 2014], direction -4, fitness 1.9951690821256038\n",
      "-> [4621, 4419, 2014], direction -8, fitness 1.9950738916256157\n",
      "-> [4613, 4419, 2014], direction -16, fitness 1.994871794871795\n",
      "-> [4597, 4419, 2014], direction -32, fitness 1.994413407821229\n",
      "-> [4565, 4419, 2014], direction -64, fitness 1.9931972789115646\n",
      "-> [4501, 4419, 2014], direction -128, fitness 1.9879518072289155\n",
      "-> [4373, 4419, 2014], direction -256, fitness 1.978723404255319\n",
      "Current parameter: 0\n",
      "Trying +1 at fitness 1.978723404255319: [4374, 4419, 2014]\n",
      "-> [4374, 4419, 2014], direction 2, fitness 1.9782608695652173\n",
      "-> [4376, 4419, 2014], direction 4, fitness 1.9772727272727273\n",
      "-> [4380, 4419, 2014], direction 8, fitness 1.975\n",
      "-> [4388, 4419, 2014], direction 16, fitness 1.96875\n",
      "-> [4404, 4419, 2014], direction 32, fitness 1.9375\n",
      "Current parameter: 0\n",
      "Trying +1 at fitness 1.9375: [4405, 4419, 2014]\n",
      "-> [4405, 4419, 2014], direction 2, fitness 1.9333333333333333\n",
      "-> [4407, 4419, 2014], direction 4, fitness 1.9230769230769231\n",
      "-> [4411, 4419, 2014], direction 8, fitness 1.8888888888888888\n",
      "-> [4419, 4419, 2014], direction 16, fitness 0.9995843724023276\n",
      "Current parameter: 0\n",
      "Trying +1 at fitness 0.9995843724023276: [4420, 4419, 2014]\n",
      "Trying -1 at fitness 0.9995843724023276: [4418, 4419, 2014]\n",
      "Current parameter: 1\n",
      "Trying +1 at fitness 0.9995843724023276: [4419, 4420, 2014]\n",
      "Trying -1 at fitness 0.9995843724023276: [4419, 4418, 2014]\n",
      "Current parameter: 2\n",
      "Trying +1 at fitness 0.9995843724023276: [4419, 4419, 2015]\n",
      "-> [4419, 4419, 2015], direction 2, fitness 0.9995841995841996\n",
      "-> [4419, 4419, 2017], direction 4, fitness 0.9995838535164377\n",
      "-> [4419, 4419, 2021], direction 8, fitness 0.9995831596498541\n",
      "-> [4419, 4419, 2029], direction 16, fitness 0.999581764951903\n",
      "-> [4419, 4419, 2045], direction 32, fitness 0.999578947368421\n",
      "-> [4419, 4419, 2077], direction 64, fitness 0.9995731967562953\n",
      "-> [4419, 4419, 2141], direction 128, fitness 0.9995612110574813\n",
      "-> [4419, 4419, 2269], direction 256, fitness 0.99953509995351\n",
      "-> [4419, 4419, 2525], direction 512, fitness 0.9994722955145119\n",
      "-> [4419, 4419, 3037], direction 1024, fitness 0.9992769342010123\n",
      "-> [4419, 4419, 4061], direction 2048, fitness 0.9972144846796658\n",
      "Current parameter: 2\n",
      "Trying +1 at fitness 0.9972144846796658: [4419, 4419, 4062]\n",
      "-> [4419, 4419, 4062], direction 2, fitness 0.9972067039106145\n",
      "-> [4419, 4419, 4064], direction 4, fitness 0.9971910112359551\n",
      "-> [4419, 4419, 4068], direction 8, fitness 0.9971590909090909\n",
      "-> [4419, 4419, 4076], direction 16, fitness 0.997093023255814\n",
      "-> [4419, 4419, 4092], direction 32, fitness 0.9969512195121951\n",
      "-> [4419, 4419, 4124], direction 64, fitness 0.9966216216216216\n",
      "-> [4419, 4419, 4188], direction 128, fitness 0.9956896551724138\n",
      "-> [4419, 4419, 4316], direction 256, fitness 0.9903846153846154\n",
      "Current parameter: 2\n",
      "Trying +1 at fitness 0.9903846153846154: [4419, 4419, 4317]\n",
      "-> [4419, 4419, 4317], direction 2, fitness 0.9902912621359223\n",
      "-> [4419, 4419, 4319], direction 4, fitness 0.9900990099009901\n",
      "-> [4419, 4419, 4323], direction 8, fitness 0.9896907216494846\n",
      "-> [4419, 4419, 4331], direction 16, fitness 0.9887640449438202\n",
      "-> [4419, 4419, 4347], direction 32, fitness 0.9863013698630136\n",
      "-> [4419, 4419, 4379], direction 64, fitness 0.975609756097561\n",
      "-> [4419, 4419, 4443], direction 128, fitness 0.96\n",
      "Current parameter: 2\n",
      "Trying +1 at fitness 0.96: [4419, 4419, 4444]\n",
      "Trying -1 at fitness 0.96: [4419, 4419, 4442]\n",
      "-> [4419, 4419, 4442], direction -2, fitness 0.9583333333333334\n",
      "-> [4419, 4419, 4440], direction -4, fitness 0.9545454545454546\n",
      "-> [4419, 4419, 4436], direction -8, fitness 0.9444444444444444\n",
      "-> [4419, 4419, 4428], direction -16, fitness 0.9\n",
      "-> [4419, 4419, 4412], direction -32, fitness 0.875\n",
      "Current parameter: 2\n",
      "Trying +1 at fitness 0.875: [4419, 4419, 4413]\n",
      "-> [4419, 4419, 4413], direction 2, fitness 0.8571428571428571\n",
      "-> [4419, 4419, 4415], direction 4, fitness 0.8\n",
      "-> [4419, 4419, 4419], direction 8, fitness 0.0\n",
      "Current parameter: 2\n",
      "Trying +1 at fitness 0.0: [4419, 4419, 4420]\n",
      "Trying -1 at fitness 0.0: [4419, 4419, 4418]\n",
      "Current parameter: 0\n",
      "Trying +1 at fitness 0.0: [4420, 4419, 4419]\n",
      "Trying -1 at fitness 0.0: [4418, 4419, 4419]\n",
      "Current parameter: 1\n",
      "Trying +1 at fitness 0.0: [4419, 4420, 4419]\n",
      "Trying -1 at fitness 0.0: [4419, 4418, 4419]\n",
      "Current parameter: 2\n",
      "Trying +1 at fitness 0.0: [4419, 4419, 4420]\n",
      "Trying -1 at fitness 0.0: [4419, 4419, 4418]\n",
      "Solution fitness 0.0: [4419, 4419, 4419]\n"
     ]
    },
    {
     "data": {
      "text/plain": [
       "[4419, 4419, 4419]"
      ]
     },
     "execution_count": 72,
     "metadata": {},
     "output_type": "execute_result"
    }
   ],
   "source": [
    "fitness_values = []\n",
    "avm()"
   ]
  },
  {
   "cell_type": "code",
   "execution_count": 73,
   "metadata": {
    "scrolled": true,
    "slideshow": {
     "slide_type": "subslide"
    }
   },
   "outputs": [
    {
     "data": {
      "text/plain": [
       "[<matplotlib.lines.Line2D at 0x11cdb24c0>]"
      ]
     },
     "execution_count": 73,
     "metadata": {},
     "output_type": "execute_result"
    },
    {
     "data": {
      "image/png": "[encoded data removed]",
      "text/plain": [
       "<Figure size 432x288 with 1 Axes>"
      ]
     },
     "metadata": {
      "needs_background": "light"
     },
     "output_type": "display_data"
    }
   ],
   "source": [
    "plt.plot(fitness_values)"
   ]
  },
  {
   "cell_type": "markdown",
   "metadata": {
    "slideshow": {
     "slide_type": "skip"
    }
   },
   "source": [
    "Besides the local search algorithms, we can also use evolutionary search in order to find solutions to our test generation problem. We therefore need to define the usual search operators:"
   ]
  },
  {
   "cell_type": "code",
   "execution_count": 74,
   "metadata": {
    "slideshow": {
     "slide_type": "skip"
    }
   },
   "outputs": [],
   "source": [
    "tournament_size = 3\n",
    "def tournament_selection(population):\n",
    "    candidates = random.sample(population, tournament_size)        \n",
    "    winner = min(candidates, key=lambda x: get_fitness(x))\n",
    "    return winner"
   ]
  },
  {
   "cell_type": "code",
   "execution_count": 75,
   "metadata": {
    "slideshow": {
     "slide_type": "skip"
    }
   },
   "outputs": [],
   "source": [
    "elite_size = 2\n",
    "def elitism(population):\n",
    "    population.sort(key=lambda k: get_fitness(k))\n",
    "    return population[:elite_size]"
   ]
  },
  {
   "cell_type": "code",
   "execution_count": 76,
   "metadata": {
    "slideshow": {
     "slide_type": "slide"
    }
   },
   "outputs": [],
   "source": [
    "def mutate(solution):\n",
    "    P_mutate = 1/len(solution)\n",
    "    mutated = solution[:]\n",
    "    for position in range(len(solution)):\n",
    "        if random.random() < P_mutate:\n",
    "            mutated[position] = int(random.gauss(mutated[position], 20))\n",
    "    return mutated"
   ]
  },
  {
   "cell_type": "code",
   "execution_count": 77,
   "metadata": {
    "slideshow": {
     "slide_type": "skip"
    }
   },
   "outputs": [],
   "source": [
    "def singlepoint_crossover(parent1, parent2):\n",
    "    pos = random.randint(0, len(parent1))\n",
    "    offspring1 = parent1[:pos] + parent2[pos:]\n",
    "    offspring2 = parent2[:pos] + parent1[pos:]\n",
    "    return (offspring1, offspring2)"
   ]
  },
  {
   "cell_type": "code",
   "execution_count": 78,
   "metadata": {
    "slideshow": {
     "slide_type": "skip"
    }
   },
   "outputs": [],
   "source": [
    "population_size = 20\n",
    "P_xover = 0.7\n",
    "max_gen = 100\n",
    "selection = tournament_selection\n",
    "crossover = singlepoint_crossover\n",
    "MAX=1000\n",
    "MIN=-MAX"
   ]
  },
  {
   "cell_type": "code",
   "execution_count": 79,
   "metadata": {
    "slideshow": {
     "slide_type": "skip"
    }
   },
   "outputs": [],
   "source": [
    "def ga():\n",
    "    population = [get_random_individual() for _ in range(population_size)]\n",
    "    best_fitness = sys.maxsize\n",
    "    for p in population:\n",
    "        fitness = get_fitness(p)\n",
    "        if fitness < best_fitness:\n",
    "            best_fitness = fitness\n",
    "            best_solution = p\n",
    "    print(f\"Iteration 0, best fitness: {best_fitness}\")\n",
    "\n",
    "    for iteration in range(max_gen):\n",
    "        fitness_values.append(best_fitness)\n",
    "        new_population = elitism(population)\n",
    "        while len(new_population) < len(population):\n",
    "            parent1 = selection(population)\n",
    "            parent2 = selection(population)\n",
    "\n",
    "            if random.random() < P_xover:\n",
    "                offspring1, offspring2 = crossover(parent1, parent2)\n",
    "            else:\n",
    "                offspring1, offspring2 = parent1, parent2\n",
    "\n",
    "            offspring1 = mutate(offspring1)\n",
    "            offspring2 = mutate(offspring2)\n",
    "            \n",
    "            new_population.append(offspring1)\n",
    "            new_population.append(offspring2)\n",
    "\n",
    "        population = new_population\n",
    "        for p in population:\n",
    "            fitness = get_fitness(p)\n",
    "            if fitness < best_fitness:\n",
    "                best_fitness = fitness\n",
    "                best_solution = p\n",
    "        print(f\"Iteration {iteration}, best fitness: {best_fitness}, size {len(best_solution)}\")\n",
    "\n",
    "    return best_solution"
   ]
  },
  {
   "cell_type": "code",
   "execution_count": 80,
   "metadata": {
    "slideshow": {
     "slide_type": "slide"
    }
   },
   "outputs": [
    {
     "name": "stdout",
     "output_type": "stream",
     "text": [
      "Iteration 0, best fitness: 3.997245179063361\n",
      "Iteration 0, best fitness: 1.9931506849315068, size 3\n",
      "Iteration 1, best fitness: 1.9931506849315068, size 3\n",
      "Iteration 2, best fitness: 1.992, size 3\n",
      "Iteration 3, best fitness: 1.9915966386554622, size 3\n",
      "Iteration 4, best fitness: 1.9886363636363638, size 3\n",
      "Iteration 5, best fitness: 1.9836065573770492, size 3\n",
      "Iteration 6, best fitness: 1.96875, size 3\n",
      "Iteration 7, best fitness: 1.9629629629629628, size 3\n",
      "Iteration 8, best fitness: 1.9090909090909092, size 3\n",
      "Iteration 9, best fitness: 1.8, size 3\n",
      "Iteration 10, best fitness: 1.8, size 3\n",
      "Iteration 11, best fitness: 1.5, size 3\n",
      "Iteration 12, best fitness: 1.5, size 3\n",
      "Iteration 13, best fitness: 1.5, size 3\n",
      "Iteration 14, best fitness: 1.5, size 3\n",
      "Iteration 15, best fitness: 0.9974293059125964, size 3\n",
      "Iteration 16, best fitness: 0.9973958333333334, size 3\n",
      "Iteration 17, best fitness: 0.9973958333333334, size 3\n",
      "Iteration 18, best fitness: 0.9973190348525469, size 3\n",
      "Iteration 19, best fitness: 0.9973190348525469, size 3\n",
      "Iteration 20, best fitness: 0.9973190348525469, size 3\n",
      "Iteration 21, best fitness: 0.9972826086956522, size 3\n",
      "Iteration 22, best fitness: 0.9972144846796658, size 3\n",
      "Iteration 23, best fitness: 0.9971590909090909, size 3\n",
      "Iteration 24, best fitness: 0.9970674486803519, size 3\n",
      "Iteration 25, best fitness: 0.9970674486803519, size 3\n",
      "Iteration 26, best fitness: 0.9969512195121951, size 3\n",
      "Iteration 27, best fitness: 0.9969512195121951, size 3\n",
      "Iteration 28, best fitness: 0.9966777408637874, size 3\n",
      "Iteration 29, best fitness: 0.9966777408637874, size 3\n",
      "Iteration 30, best fitness: 0.9966777408637874, size 3\n",
      "Iteration 31, best fitness: 0.9964285714285714, size 3\n",
      "Iteration 32, best fitness: 0.9964285714285714, size 3\n",
      "Iteration 33, best fitness: 0.9964285714285714, size 3\n",
      "Iteration 34, best fitness: 0.9963636363636363, size 3\n",
      "Iteration 35, best fitness: 0.9963636363636363, size 3\n",
      "Iteration 36, best fitness: 0.9963636363636363, size 3\n",
      "Iteration 37, best fitness: 0.9963636363636363, size 3\n",
      "Iteration 38, best fitness: 0.9963636363636363, size 3\n",
      "Iteration 39, best fitness: 0.9963636363636363, size 3\n",
      "Iteration 40, best fitness: 0.9962121212121212, size 3\n",
      "Iteration 41, best fitness: 0.9962121212121212, size 3\n",
      "Iteration 42, best fitness: 0.9962121212121212, size 3\n",
      "Iteration 43, best fitness: 0.9962121212121212, size 3\n",
      "Iteration 44, best fitness: 0.9958333333333333, size 3\n",
      "Iteration 45, best fitness: 0.9958333333333333, size 3\n",
      "Iteration 46, best fitness: 0.9946808510638298, size 3\n",
      "Iteration 47, best fitness: 0.9946808510638298, size 3\n",
      "Iteration 48, best fitness: 0.9931506849315068, size 3\n",
      "Iteration 49, best fitness: 0.9930555555555556, size 3\n",
      "Iteration 50, best fitness: 0.9930555555555556, size 3\n",
      "Iteration 51, best fitness: 0.9930555555555556, size 3\n",
      "Iteration 52, best fitness: 0.9930555555555556, size 3\n",
      "Iteration 53, best fitness: 0.9930555555555556, size 3\n",
      "Iteration 54, best fitness: 0.9925925925925926, size 3\n",
      "Iteration 55, best fitness: 0.9923076923076923, size 3\n",
      "Iteration 56, best fitness: 0.9921875, size 3\n",
      "Iteration 57, best fitness: 0.9888888888888889, size 3\n",
      "Iteration 58, best fitness: 0.9888888888888889, size 3\n",
      "Iteration 59, best fitness: 0.9888888888888889, size 3\n",
      "Iteration 60, best fitness: 0.9888888888888889, size 3\n",
      "Iteration 61, best fitness: 0.9888888888888889, size 3\n",
      "Iteration 62, best fitness: 0.9863013698630136, size 3\n",
      "Iteration 63, best fitness: 0.9863013698630136, size 3\n",
      "Iteration 64, best fitness: 0.9863013698630136, size 3\n",
      "Iteration 65, best fitness: 0.9782608695652174, size 3\n",
      "Iteration 66, best fitness: 0.9782608695652174, size 3\n",
      "Iteration 67, best fitness: 0.9782608695652174, size 3\n",
      "Iteration 68, best fitness: 0.9782608695652174, size 3\n",
      "Iteration 69, best fitness: 0.9782608695652174, size 3\n",
      "Iteration 70, best fitness: 0.9545454545454546, size 3\n",
      "Iteration 71, best fitness: 0.9545454545454546, size 3\n",
      "Iteration 72, best fitness: 0.9090909090909091, size 3\n",
      "Iteration 73, best fitness: 0.5, size 3\n",
      "Iteration 74, best fitness: 0.5, size 3\n",
      "Iteration 75, best fitness: 0.0, size 3\n",
      "Iteration 76, best fitness: 0.0, size 3\n",
      "Iteration 77, best fitness: 0.0, size 3\n",
      "Iteration 78, best fitness: 0.0, size 3\n",
      "Iteration 79, best fitness: 0.0, size 3\n",
      "Iteration 80, best fitness: 0.0, size 3\n",
      "Iteration 81, best fitness: 0.0, size 3\n",
      "Iteration 82, best fitness: 0.0, size 3\n",
      "Iteration 83, best fitness: 0.0, size 3\n",
      "Iteration 84, best fitness: 0.0, size 3\n",
      "Iteration 85, best fitness: 0.0, size 3\n",
      "Iteration 86, best fitness: 0.0, size 3\n",
      "Iteration 87, best fitness: 0.0, size 3\n",
      "Iteration 88, best fitness: 0.0, size 3\n",
      "Iteration 89, best fitness: 0.0, size 3\n",
      "Iteration 90, best fitness: 0.0, size 3\n",
      "Iteration 91, best fitness: 0.0, size 3\n",
      "Iteration 92, best fitness: 0.0, size 3\n",
      "Iteration 93, best fitness: 0.0, size 3\n",
      "Iteration 94, best fitness: 0.0, size 3\n",
      "Iteration 95, best fitness: 0.0, size 3\n",
      "Iteration 96, best fitness: 0.0, size 3\n",
      "Iteration 97, best fitness: 0.0, size 3\n",
      "Iteration 98, best fitness: 0.0, size 3\n",
      "Iteration 99, best fitness: 0.0, size 3\n"
     ]
    },
    {
     "data": {
      "text/plain": [
       "[793, 793, 793]"
      ]
     },
     "execution_count": 80,
     "metadata": {},
     "output_type": "execute_result"
    }
   ],
   "source": [
    "fitness_values = []\n",
    "ga()"
   ]
  },
  {
   "cell_type": "code",
   "execution_count": 81,
   "metadata": {
    "slideshow": {
     "slide_type": "subslide"
    }
   },
   "outputs": [
    {
     "data": {
      "text/plain": [
       "[<matplotlib.lines.Line2D at 0x11ce0f070>]"
      ]
     },
     "execution_count": 81,
     "metadata": {},
     "output_type": "execute_result"
    },
    {
     "data": {
      "image/png": "[encoded data removed]",
      "text/plain": [
       "<Figure size 432x288 with 1 Axes>"
      ]
     },
     "metadata": {
      "needs_background": "light"
     },
     "output_type": "display_data"
    }
   ],
   "source": [
    "plt.plot(fitness_values)"
   ]
  },
  {
   "cell_type": "markdown",
   "metadata": {
    "slideshow": {
     "slide_type": "skip"
    }
   },
   "source": [
    "We set `MAX` to a value as low as 1000, because the optimisation with our small mutational steps may take long to achieve that multiple values are equal, which some of the branches of the triangle program require (such as the one we are optimising for currently). Different mutation operators may yield different results: For example, rather than just adding random noise to the individual parameters, we can also probabilistically copy values from other parameters:"
   ]
  },
  {
   "cell_type": "code",
   "execution_count": 82,
   "metadata": {
    "slideshow": {
     "slide_type": "slide"
    }
   },
   "outputs": [],
   "source": [
    "def mutate(solution):\n",
    "    P_mutate = 1/len(solution)\n",
    "    mutated = solution[:]\n",
    "    for position in range(len(solution)):\n",
    "        if random.random() < P_mutate:\n",
    "            if random.random() < 0.9:\n",
    "                mutated[position] = int(random.gauss(mutated[position], 20))\n",
    "            else:\n",
    "                mutated[position] = random.choice(solution)\n",
    "    return mutated"
   ]
  },
  {
   "cell_type": "markdown",
   "metadata": {
    "slideshow": {
     "slide_type": "skip"
    }
   },
   "source": [
    "Let's see the performance of the resulting algorithm:"
   ]
  },
  {
   "cell_type": "code",
   "execution_count": 83,
   "metadata": {
    "slideshow": {
     "slide_type": "subslide"
    }
   },
   "outputs": [
    {
     "name": "stdout",
     "output_type": "stream",
     "text": [
      "Iteration 0, best fitness: 1.9997737556561086\n",
      "Iteration 0, best fitness: 1.9997730882686635, size 3\n",
      "Iteration 1, best fitness: 1.9997730882686635, size 3\n",
      "Iteration 2, best fitness: 1.9991928974979822, size 3\n",
      "Iteration 3, best fitness: 1.9991928974979822, size 3\n",
      "Iteration 4, best fitness: 1.999186330349878, size 3\n",
      "Iteration 5, best fitness: 1.999186330349878, size 3\n",
      "Iteration 6, best fitness: 1.9991694352159468, size 3\n",
      "Iteration 7, best fitness: 0.9997679275934092, size 3\n",
      "Iteration 8, best fitness: 0.9997672253258846, size 3\n",
      "Iteration 9, best fitness: 0.9997665732959851, size 3\n",
      "Iteration 10, best fitness: 0.9997657531037714, size 3\n",
      "Iteration 11, best fitness: 0.0, size 3\n",
      "Iteration 12, best fitness: 0.0, size 3\n",
      "Iteration 13, best fitness: 0.0, size 3\n",
      "Iteration 14, best fitness: 0.0, size 3\n",
      "Iteration 15, best fitness: 0.0, size 3\n",
      "Iteration 16, best fitness: 0.0, size 3\n",
      "Iteration 17, best fitness: 0.0, size 3\n",
      "Iteration 18, best fitness: 0.0, size 3\n",
      "Iteration 19, best fitness: 0.0, size 3\n",
      "Iteration 20, best fitness: 0.0, size 3\n",
      "Iteration 21, best fitness: 0.0, size 3\n",
      "Iteration 22, best fitness: 0.0, size 3\n",
      "Iteration 23, best fitness: 0.0, size 3\n",
      "Iteration 24, best fitness: 0.0, size 3\n",
      "Iteration 25, best fitness: 0.0, size 3\n",
      "Iteration 26, best fitness: 0.0, size 3\n",
      "Iteration 27, best fitness: 0.0, size 3\n",
      "Iteration 28, best fitness: 0.0, size 3\n",
      "Iteration 29, best fitness: 0.0, size 3\n",
      "Iteration 30, best fitness: 0.0, size 3\n",
      "Iteration 31, best fitness: 0.0, size 3\n",
      "Iteration 32, best fitness: 0.0, size 3\n",
      "Iteration 33, best fitness: 0.0, size 3\n",
      "Iteration 34, best fitness: 0.0, size 3\n",
      "Iteration 35, best fitness: 0.0, size 3\n",
      "Iteration 36, best fitness: 0.0, size 3\n",
      "Iteration 37, best fitness: 0.0, size 3\n",
      "Iteration 38, best fitness: 0.0, size 3\n",
      "Iteration 39, best fitness: 0.0, size 3\n",
      "Iteration 40, best fitness: 0.0, size 3\n",
      "Iteration 41, best fitness: 0.0, size 3\n",
      "Iteration 42, best fitness: 0.0, size 3\n",
      "Iteration 43, best fitness: 0.0, size 3\n",
      "Iteration 44, best fitness: 0.0, size 3\n",
      "Iteration 45, best fitness: 0.0, size 3\n",
      "Iteration 46, best fitness: 0.0, size 3\n",
      "Iteration 47, best fitness: 0.0, size 3\n",
      "Iteration 48, best fitness: 0.0, size 3\n",
      "Iteration 49, best fitness: 0.0, size 3\n",
      "Iteration 50, best fitness: 0.0, size 3\n",
      "Iteration 51, best fitness: 0.0, size 3\n",
      "Iteration 52, best fitness: 0.0, size 3\n",
      "Iteration 53, best fitness: 0.0, size 3\n",
      "Iteration 54, best fitness: 0.0, size 3\n",
      "Iteration 55, best fitness: 0.0, size 3\n",
      "Iteration 56, best fitness: 0.0, size 3\n",
      "Iteration 57, best fitness: 0.0, size 3\n",
      "Iteration 58, best fitness: 0.0, size 3\n",
      "Iteration 59, best fitness: 0.0, size 3\n",
      "Iteration 60, best fitness: 0.0, size 3\n",
      "Iteration 61, best fitness: 0.0, size 3\n",
      "Iteration 62, best fitness: 0.0, size 3\n",
      "Iteration 63, best fitness: 0.0, size 3\n",
      "Iteration 64, best fitness: 0.0, size 3\n",
      "Iteration 65, best fitness: 0.0, size 3\n",
      "Iteration 66, best fitness: 0.0, size 3\n",
      "Iteration 67, best fitness: 0.0, size 3\n",
      "Iteration 68, best fitness: 0.0, size 3\n",
      "Iteration 69, best fitness: 0.0, size 3\n",
      "Iteration 70, best fitness: 0.0, size 3\n",
      "Iteration 71, best fitness: 0.0, size 3\n",
      "Iteration 72, best fitness: 0.0, size 3\n",
      "Iteration 73, best fitness: 0.0, size 3\n",
      "Iteration 74, best fitness: 0.0, size 3\n",
      "Iteration 75, best fitness: 0.0, size 3\n",
      "Iteration 76, best fitness: 0.0, size 3\n",
      "Iteration 77, best fitness: 0.0, size 3\n",
      "Iteration 78, best fitness: 0.0, size 3\n",
      "Iteration 79, best fitness: 0.0, size 3\n",
      "Iteration 80, best fitness: 0.0, size 3\n",
      "Iteration 81, best fitness: 0.0, size 3\n",
      "Iteration 82, best fitness: 0.0, size 3\n",
      "Iteration 83, best fitness: 0.0, size 3\n",
      "Iteration 84, best fitness: 0.0, size 3\n",
      "Iteration 85, best fitness: 0.0, size 3\n",
      "Iteration 86, best fitness: 0.0, size 3\n",
      "Iteration 87, best fitness: 0.0, size 3\n",
      "Iteration 88, best fitness: 0.0, size 3\n",
      "Iteration 89, best fitness: 0.0, size 3\n",
      "Iteration 90, best fitness: 0.0, size 3\n",
      "Iteration 91, best fitness: 0.0, size 3\n",
      "Iteration 92, best fitness: 0.0, size 3\n",
      "Iteration 93, best fitness: 0.0, size 3\n",
      "Iteration 94, best fitness: 0.0, size 3\n",
      "Iteration 95, best fitness: 0.0, size 3\n",
      "Iteration 96, best fitness: 0.0, size 3\n",
      "Iteration 97, best fitness: 0.0, size 3\n",
      "Iteration 98, best fitness: 0.0, size 3\n",
      "Iteration 99, best fitness: 0.0, size 3\n"
     ]
    },
    {
     "data": {
      "text/plain": [
       "[11751, 11751, 11751]"
      ]
     },
     "execution_count": 83,
     "metadata": {},
     "output_type": "execute_result"
    }
   ],
   "source": [
    "fitness_values = []\n",
    "MAX=100000\n",
    "MIN=-MAX\n",
    "ga()"
   ]
  },
  {
   "cell_type": "code",
   "execution_count": 84,
   "metadata": {
    "slideshow": {
     "slide_type": "subslide"
    }
   },
   "outputs": [
    {
     "data": {
      "text/plain": [
       "[<matplotlib.lines.Line2D at 0x11ce60910>]"
      ]
     },
     "execution_count": 84,
     "metadata": {},
     "output_type": "execute_result"
    },
    {
     "data": {
      "image/png": "[encoded data removed]",
      "text/plain": [
       "<Figure size 432x288 with 1 Axes>"
      ]
     },
     "metadata": {
      "needs_background": "light"
     },
     "output_type": "display_data"
    }
   ],
   "source": [
    "plt.plot(fitness_values)"
   ]
  },
  {
   "cell_type": "markdown",
   "metadata": {
    "slideshow": {
     "slide_type": "skip"
    }
   },
   "source": [
    "In our fitness function, we manually determined which branches need to evaluate which way, and how to sum up the fitness functions. In practice, this can be automated by combining the branch distance metric with the _approach level_, which was introduced (originally named approximation level) in this paper:\n",
    "\n",
    "Wegener, J., Baresel, A., & Sthamer, H. (2001). Evolutionary test environment for automatic structural testing. Information and software technology, 43(14), 841-854.\n",
    "\n",
    "The approach level calculates the distances of an execution from a target node in terms of graph distances on the control dependence graph. However, we will not cover the approach level in this chapter."
   ]
  },
  {
   "cell_type": "markdown",
   "metadata": {
    "slideshow": {
     "slide_type": "slide"
    }
   },
   "source": [
    "## Whole Test Suite Optimisation"
   ]
  },
  {
   "cell_type": "markdown",
   "metadata": {
    "slideshow": {
     "slide_type": "skip"
    }
   },
   "source": [
    "Besides the question of how the best fitness function for a coverage goal looks like, there are some related questions: How much time should we spend on optimising for each coverage goal? It is possible that some coverage goals are infeasible (e.g., dead code, or or infeasible branches), so any time spent on these is wasted, while it may be missing for other goals that are feasible but would need more time. Test cases typically cover multiple goals at the same time; even if a test is optimised for one specific line or branch, it may coincidentally cover others along the execution. Thus, the order in which we select coverage goals for optimisation may influence the overall result, and the number of tests we require. In principle, one way to address these issues would be by casting test generation as a multi-objective optimisation problem, and aiming to produce tests for _all_ coverage goals at the same time. However, there is an issue with this: Multi-objective algorithms like the ones we considered in the previous chapter typically work well on 2-3 objectives, but code will generally have many more coverage objectives, rendering classical multi-objective algorithms infeasible (Pareto-dominance happens rarely with higher numbers of objectives). We will therefore now consider some alternatives."
   ]
  },
  {
   "cell_type": "markdown",
   "metadata": {
    "slideshow": {
     "slide_type": "skip"
    }
   },
   "source": [
    "The first alternative we consider is to switch our representation: Rather than optimising individual test cases for individual coverage objectives, we optimise entire test _suites_ to cover _all_ coverage objectives at the same time. Our encoding thus should describe multiple tests. But how many? This is very much problem specific. Thus, rather than hard coding the number of tests, we will only define an upper bound, and let the search decide what is the necessary number of tests."
   ]
  },
  {
   "cell_type": "code",
   "execution_count": 85,
   "metadata": {
    "slideshow": {
     "slide_type": "slide"
    }
   },
   "outputs": [],
   "source": [
    "num_tests = 30"
   ]
  },
  {
   "cell_type": "code",
   "execution_count": 86,
   "metadata": {
    "slideshow": {
     "slide_type": "fragment"
    }
   },
   "outputs": [],
   "source": [
    "def get_random_individual():\n",
    "    num = random.randint(1, num_tests)\n",
    "    return [[random.randint(MIN, MAX) for _ in range(num_parameters)] for _ in range(num)]"
   ]
  },
  {
   "cell_type": "markdown",
   "metadata": {
    "slideshow": {
     "slide_type": "skip"
    }
   },
   "source": [
    "When applying mutation, we need to be able to modify individual tests as before. To keep things challenging, we will not use our optimised mutation that copies parameters, but aim to achieve the entire optimisation just using small steps:"
   ]
  },
  {
   "cell_type": "code",
   "execution_count": 87,
   "metadata": {
    "slideshow": {
     "slide_type": "subslide"
    }
   },
   "outputs": [],
   "source": [
    "def mutate_test(solution):\n",
    "    P_mutate = 1/len(solution)\n",
    "    mutated = solution[:]\n",
    "    for position in range(len(solution)):\n",
    "        if random.random() < P_mutate:\n",
    "            mutated[position] = int(random.gauss(mutated[position], 20))\n",
    "            \n",
    "    return mutated"
   ]
  },
  {
   "cell_type": "markdown",
   "metadata": {
    "slideshow": {
     "slide_type": "skip"
    }
   },
   "source": [
    "However, modifying tests is only one of the things we can do when mutating our actual individuals, which consist of multiple tests. Besides modifying existing tests, we can also delete or add tests:"
   ]
  },
  {
   "cell_type": "code",
   "execution_count": 88,
   "metadata": {
    "slideshow": {
     "slide_type": "subslide"
    }
   },
   "outputs": [],
   "source": [
    "def mutate(solution):\n",
    "    P_mutate = 1/len(solution)\n",
    "    mutated = []\n",
    "    for position in range(len(solution)):\n",
    "        if random.random() >= P_mutate:\n",
    "            mutated.append(solution[position][:])\n",
    "\n",
    "    for position in range(len(mutated)):\n",
    "        if random.random() < P_mutate:\n",
    "            mutated[position] = mutate_test(mutated[position])\n",
    "\n",
    "    ALPHA = 1/3\n",
    "    count = 1\n",
    "    while random.random() < ALPHA ** count and len(mutated) < num_tests:\n",
    "        count += 1\n",
    "        mutated.append([random.randint(MIN, MAX) for _ in range(num_parameters)])\n",
    "    \n",
    "    return mutated"
   ]
  },
  {
   "cell_type": "markdown",
   "metadata": {
    "slideshow": {
     "slide_type": "skip"
    }
   },
   "source": [
    "With a certain probability, each of the tests can be removed from a test suite; similarly, each remaining test may be mutated like we mutated tests previously. Finally, with a probability `ALPHA` we insert a new test; if we do so, we insert another one with probability `ALPHA`$^2$, and so on."
   ]
  },
  {
   "cell_type": "markdown",
   "metadata": {
    "slideshow": {
     "slide_type": "skip"
    }
   },
   "source": [
    "The variable size has some knock-on effects. In particular, we need to make sure that our individuals don't grow without bounds, so we adapt the other operators accordingly. When applying crossover, we pick a relative position and then cut the individuals at their relative position, such that no offspring becomes longer than the longest parent:"
   ]
  },
  {
   "cell_type": "code",
   "execution_count": 89,
   "metadata": {
    "slideshow": {
     "slide_type": "slide"
    }
   },
   "outputs": [],
   "source": [
    "def relative_crossover(parent1, parent2):\n",
    "    pos = random.random()\n",
    "    pos1 = int(len(parent1) * pos)\n",
    "    pos2 = int(len(parent2) * pos)\n",
    "    offspring1 = parent1[:pos1] + parent2[pos2:]\n",
    "    offspring2 = parent2[:pos2] + parent1[pos1:]\n",
    "    return (offspring1, offspring2)"
   ]
  },
  {
   "cell_type": "markdown",
   "metadata": {
    "slideshow": {
     "slide_type": "skip"
    }
   },
   "source": [
    "When selecting individuals, we apply a secondary criterion: For any two individuals with equal fitness function, we prefer the shorter one:"
   ]
  },
  {
   "cell_type": "code",
   "execution_count": 90,
   "metadata": {
    "slideshow": {
     "slide_type": "slide"
    }
   },
   "outputs": [],
   "source": [
    "tournament_size = 3\n",
    "def tournament_selection(population, n=tournament_size):\n",
    "    candidates = random.sample(population, n)        \n",
    "    winner = min(candidates, key=lambda x: (get_fitness(x), len(x)))    \n",
    "                \n",
    "    return winner"
   ]
  },
  {
   "cell_type": "markdown",
   "metadata": {
    "slideshow": {
     "slide_type": "skip"
    }
   },
   "source": [
    "The criterion also has to hold when we apply elitism -- we don't only want the test suites with the best fitness, but we also want the smallest test suites:"
   ]
  },
  {
   "cell_type": "code",
   "execution_count": 91,
   "metadata": {
    "slideshow": {
     "slide_type": "subslide"
    }
   },
   "outputs": [],
   "source": [
    "elite_size = 2\n",
    "def elitism(population):\n",
    "    population.sort(key=lambda k: (get_fitness(k), len(k)))\n",
    "    return population[:elite_size]"
   ]
  },
  {
   "cell_type": "markdown",
   "metadata": {
    "slideshow": {
     "slide_type": "skip"
    }
   },
   "source": [
    "Finally, the only thing that remains to be done is defining the fitness function. Since we want to cover _everything_ we simply need to make sure that every single branch is covered at least once in a test suite. A branch is covered if its minimum branch distance is 0; thus, if everything is covered, then the sum of minimal branch distances should be 0."
   ]
  },
  {
   "cell_type": "markdown",
   "metadata": {
    "slideshow": {
     "slide_type": "skip"
    }
   },
   "source": [
    "There is one special case: If an if-statement is executed only once, then optimising the true/false distance may lead to a suboptimal, oscillising evolution. We therefore also count how often each if-condition was executed. If it was only executed once, then the fitness value for that branch needs to be higher than if it was executed twice. For this, we extend our `update_maps` function to also keep track of the execution count:"
   ]
  },
  {
   "cell_type": "code",
   "execution_count": 92,
   "metadata": {
    "slideshow": {
     "slide_type": "slide"
    }
   },
   "outputs": [],
   "source": [
    "condition_count = {}\n",
    "def update_maps(condition_num, d_true, d_false):\n",
    "    global distances_true, distances_false, condition_count\n",
    "\n",
    "    if condition_num in condition_count.keys():\n",
    "        condition_count[condition_num] = condition_count[condition_num] + 1\n",
    "    else:\n",
    "        condition_count[condition_num] = 1\n",
    "        \n",
    "    if condition_num in distances_true.keys():\n",
    "        distances_true[condition_num] = min(\n",
    "            distances_true[condition_num], d_true)\n",
    "    else:\n",
    "        distances_true[condition_num] = d_true\n",
    "\n",
    "    if condition_num in distances_false.keys():\n",
    "        distances_false[condition_num] = min(\n",
    "            distances_false[condition_num], d_false)\n",
    "    else:\n",
    "        distances_false[condition_num] = d_false"
   ]
  },
  {
   "cell_type": "markdown",
   "metadata": {
    "slideshow": {
     "slide_type": "skip"
    }
   },
   "source": [
    "The actual fitness function now is the sum of minimal distances after all tests have been executed. If an if-condition was not executed at all, then the true distance and the false distance will be 1, resulting in a sum of 2 for the if-condition. If the condition was covered only once, we set the fitness to exactly 1. If the condition was executed more than once, then at least either the true or false distance has to be 0, such that in sum, true and false distances will be less than 0."
   ]
  },
  {
   "cell_type": "code",
   "execution_count": 93,
   "metadata": {
    "slideshow": {
     "slide_type": "slide"
    }
   },
   "outputs": [],
   "source": [
    "def get_fitness(x):\n",
    "    # Reset any distance values from previous executions\n",
    "    global distances_true, distances_false, condition_count\n",
    "    distances_true =  {x: 1.0 for x in range(num_branches)}\n",
    "    distances_false = {x: 1.0 for x in range(num_branches)}\n",
    "    condition_count = {x:   0 for x in range(num_branches)}\n",
    "\n",
    "    # Run the function under test\n",
    "    for test in x:\n",
    "        triangle_instrumented(*test)\n",
    "\n",
    "    # Sum up branch distances\n",
    "    fitness = 0.0\n",
    "    for branch in range(num_branches):\n",
    "        if condition_count[branch] == 1:\n",
    "            fitness += 1\n",
    "        else:\n",
    "            fitness += distances_true[branch]\n",
    "            fitness += distances_false[branch]\n",
    "\n",
    "    return fitness"
   ]
  },
  {
   "cell_type": "markdown",
   "metadata": {
    "slideshow": {
     "slide_type": "skip"
    }
   },
   "source": [
    "Now we have all components in place in order to run the search."
   ]
  },
  {
   "cell_type": "code",
   "execution_count": 94,
   "metadata": {
    "slideshow": {
     "slide_type": "slide"
    }
   },
   "outputs": [
    {
     "name": "stdout",
     "output_type": "stream",
     "text": [
      "Iteration 0, best fitness: 5.930355859094177\n",
      "Iteration 0, best fitness: 5.930355859094177, size 29\n",
      "Iteration 1, best fitness: 5.904575956019079, size 27\n",
      "Iteration 2, best fitness: 5.904575956019079, size 27\n",
      "Iteration 3, best fitness: 5.904575956019079, size 27\n",
      "Iteration 4, best fitness: 5.896478790027177, size 26\n",
      "Iteration 5, best fitness: 5.896478790027177, size 26\n",
      "Iteration 6, best fitness: 5.878641554798637, size 27\n",
      "Iteration 7, best fitness: 5.839598997493734, size 26\n",
      "Iteration 8, best fitness: 5.636405529953917, size 26\n",
      "Iteration 9, best fitness: 5.636405529953917, size 26\n",
      "Iteration 10, best fitness: 4.9110275689223055, size 25\n",
      "Iteration 11, best fitness: 4.9110275689223055, size 25\n",
      "Iteration 12, best fitness: 4.708821233411397, size 27\n",
      "Iteration 13, best fitness: 4.708821233411397, size 27\n",
      "Iteration 14, best fitness: 4.708821233411397, size 27\n",
      "Iteration 15, best fitness: 4.708112874779541, size 23\n",
      "Iteration 16, best fitness: 3.994535519125683, size 24\n",
      "Iteration 17, best fitness: 3.994535519125683, size 24\n",
      "Iteration 18, best fitness: 3.994535519125683, size 24\n",
      "Iteration 19, best fitness: 3.988235294117647, size 25\n",
      "Iteration 20, best fitness: 3.988235294117647, size 25\n",
      "Iteration 21, best fitness: 3.988235294117647, size 25\n",
      "Iteration 22, best fitness: 3.986666666666667, size 24\n",
      "Iteration 23, best fitness: 3.986666666666667, size 24\n",
      "Iteration 24, best fitness: 3.984375, size 23\n",
      "Iteration 25, best fitness: 3.984375, size 23\n",
      "Iteration 26, best fitness: 3.984375, size 23\n",
      "Iteration 27, best fitness: 2.0, size 23\n",
      "Iteration 28, best fitness: 1.984375, size 23\n",
      "Iteration 29, best fitness: 1.9166666666666665, size 23\n",
      "Iteration 30, best fitness: 1.9090909090909092, size 25\n",
      "Iteration 31, best fitness: 1.9090909090909092, size 25\n",
      "Iteration 32, best fitness: 1.8333333333333335, size 22\n",
      "Iteration 33, best fitness: 1.8333333333333335, size 22\n",
      "Iteration 34, best fitness: 1.8333333333333335, size 22\n",
      "Iteration 35, best fitness: 1.8333333333333335, size 22\n",
      "Iteration 36, best fitness: 1.827956989247312, size 20\n",
      "Iteration 37, best fitness: 1.827956989247312, size 20\n",
      "Iteration 38, best fitness: 1.827956989247312, size 20\n",
      "Iteration 39, best fitness: 1.661290322580645, size 22\n",
      "Iteration 40, best fitness: 1.661290322580645, size 22\n",
      "Iteration 41, best fitness: 1.6608527131782944, size 22\n",
      "Iteration 42, best fitness: 1.6608527131782944, size 22\n",
      "Iteration 43, best fitness: 1.6608527131782944, size 22\n",
      "Iteration 44, best fitness: 1.6608527131782944, size 22\n",
      "Iteration 45, best fitness: 1.6608527131782944, size 22\n",
      "Iteration 46, best fitness: 1.6608527131782944, size 22\n",
      "Iteration 47, best fitness: 1.6608527131782944, size 22\n",
      "Iteration 48, best fitness: 1.6608527131782944, size 22\n",
      "Iteration 49, best fitness: 1.6608527131782944, size 22\n",
      "Iteration 50, best fitness: 1.6608527131782944, size 22\n",
      "Iteration 51, best fitness: 1.6608527131782944, size 22\n",
      "Iteration 52, best fitness: 1.6608527131782944, size 22\n",
      "Iteration 53, best fitness: 1.6608527131782944, size 22\n",
      "Iteration 54, best fitness: 1.6608527131782944, size 22\n",
      "Iteration 55, best fitness: 0.9941860465116279, size 18\n",
      "Iteration 56, best fitness: 0.9941860465116279, size 18\n",
      "Iteration 57, best fitness: 0.9941860465116279, size 18\n",
      "Iteration 58, best fitness: 0.9941860465116279, size 18\n",
      "Iteration 59, best fitness: 0.9941860465116279, size 18\n",
      "Iteration 60, best fitness: 0.9941860465116279, size 18\n",
      "Iteration 61, best fitness: 0.9941860465116279, size 18\n",
      "Iteration 62, best fitness: 0.9941860465116279, size 18\n",
      "Iteration 63, best fitness: 0.9941860465116279, size 18\n",
      "Iteration 64, best fitness: 0.9941860465116279, size 18\n",
      "Iteration 65, best fitness: 0.9941860465116279, size 18\n",
      "Iteration 66, best fitness: 0.9941860465116279, size 18\n",
      "Iteration 67, best fitness: 0.9916666666666667, size 16\n",
      "Iteration 68, best fitness: 0.9916666666666667, size 16\n",
      "Iteration 69, best fitness: 0.9916666666666667, size 16\n",
      "Iteration 70, best fitness: 0.9916666666666667, size 16\n",
      "Iteration 71, best fitness: 0.9916666666666667, size 16\n",
      "Iteration 72, best fitness: 0.9916666666666667, size 16\n",
      "Iteration 73, best fitness: 0.9916666666666667, size 16\n",
      "Iteration 74, best fitness: 0.9916666666666667, size 16\n",
      "Iteration 75, best fitness: 0.9916666666666667, size 16\n",
      "Iteration 76, best fitness: 0.9916666666666667, size 16\n",
      "Iteration 77, best fitness: 0.9916666666666667, size 16\n",
      "Iteration 78, best fitness: 0.9916666666666667, size 16\n",
      "Iteration 79, best fitness: 0.9916666666666667, size 16\n",
      "Iteration 80, best fitness: 0.9906542056074766, size 13\n",
      "Iteration 81, best fitness: 0.9906542056074766, size 13\n",
      "Iteration 82, best fitness: 0.9906542056074766, size 13\n",
      "Iteration 83, best fitness: 0.9906542056074766, size 13\n",
      "Iteration 84, best fitness: 0.9906542056074766, size 13\n",
      "Iteration 85, best fitness: 0.9906542056074766, size 13\n",
      "Iteration 86, best fitness: 0.9906542056074766, size 13\n",
      "Iteration 87, best fitness: 0.9906542056074766, size 13\n",
      "Iteration 88, best fitness: 0.9906542056074766, size 13\n",
      "Iteration 89, best fitness: 0.9906542056074766, size 13\n",
      "Iteration 90, best fitness: 0.9906542056074766, size 13\n",
      "Iteration 91, best fitness: 0.9906542056074766, size 13\n",
      "Iteration 92, best fitness: 0.9906542056074766, size 13\n",
      "Iteration 93, best fitness: 0.9906542056074766, size 13\n",
      "Iteration 94, best fitness: 0.9906542056074766, size 13\n",
      "Iteration 95, best fitness: 0.9906542056074766, size 13\n",
      "Iteration 96, best fitness: 0.9906542056074766, size 13\n",
      "Iteration 97, best fitness: 0.9906542056074766, size 13\n",
      "Iteration 98, best fitness: 0.9906542056074766, size 13\n",
      "Iteration 99, best fitness: 0.9906542056074766, size 13\n",
      "Iteration 100, best fitness: 0.9906542056074766, size 13\n",
      "Iteration 101, best fitness: 0.9906542056074766, size 13\n",
      "Iteration 102, best fitness: 0.9906542056074766, size 13\n",
      "Iteration 103, best fitness: 0.9905660377358491, size 13\n",
      "Iteration 104, best fitness: 0.9905660377358491, size 13\n",
      "Iteration 105, best fitness: 0.9905660377358491, size 13\n",
      "Iteration 106, best fitness: 0.9905660377358491, size 13\n",
      "Iteration 107, best fitness: 0.9905660377358491, size 13\n",
      "Iteration 108, best fitness: 0.9830508474576272, size 11\n",
      "Iteration 109, best fitness: 0.9830508474576272, size 11\n",
      "Iteration 110, best fitness: 0.9830508474576272, size 11\n",
      "Iteration 111, best fitness: 0.9830508474576272, size 11\n",
      "Iteration 112, best fitness: 0.9830508474576272, size 11\n",
      "Iteration 113, best fitness: 0.9830508474576272, size 11\n",
      "Iteration 114, best fitness: 0.9830508474576272, size 11\n",
      "Iteration 115, best fitness: 0.9830508474576272, size 11\n",
      "Iteration 116, best fitness: 0.9830508474576272, size 11\n",
      "Iteration 117, best fitness: 0.9830508474576272, size 11\n",
      "Iteration 118, best fitness: 0.9830508474576272, size 11\n",
      "Iteration 119, best fitness: 0.9830508474576272, size 11\n",
      "Iteration 120, best fitness: 0.9830508474576272, size 11\n",
      "Iteration 121, best fitness: 0.9830508474576272, size 11\n",
      "Iteration 122, best fitness: 0.9830508474576272, size 11\n",
      "Iteration 123, best fitness: 0.9830508474576272, size 11\n",
      "Iteration 124, best fitness: 0.9830508474576272, size 11\n",
      "Iteration 125, best fitness: 0.9830508474576272, size 11\n",
      "Iteration 126, best fitness: 0.9830508474576272, size 11\n",
      "Iteration 127, best fitness: 0.9830508474576272, size 11\n",
      "Iteration 128, best fitness: 0.9830508474576272, size 11\n",
      "Iteration 129, best fitness: 0.9830508474576272, size 11\n",
      "Iteration 130, best fitness: 0.967741935483871, size 13\n",
      "Iteration 131, best fitness: 0.967741935483871, size 13\n",
      "Iteration 132, best fitness: 0.967741935483871, size 13\n",
      "Iteration 133, best fitness: 0.967741935483871, size 13\n",
      "Iteration 134, best fitness: 0.967741935483871, size 13\n",
      "Iteration 135, best fitness: 0.967741935483871, size 13\n",
      "Iteration 136, best fitness: 0.967741935483871, size 13\n",
      "Iteration 137, best fitness: 0.967741935483871, size 13\n",
      "Iteration 138, best fitness: 0.967741935483871, size 13\n",
      "Iteration 139, best fitness: 0.967741935483871, size 13\n",
      "Iteration 140, best fitness: 0.967741935483871, size 13\n",
      "Iteration 141, best fitness: 0.967741935483871, size 13\n",
      "Iteration 142, best fitness: 0.967741935483871, size 13\n",
      "Iteration 143, best fitness: 0.9375, size 14\n",
      "Iteration 144, best fitness: 0.9375, size 14\n",
      "Iteration 145, best fitness: 0.9166666666666666, size 15\n",
      "Iteration 146, best fitness: 0.9166666666666666, size 15\n",
      "Iteration 147, best fitness: 0.9166666666666666, size 15\n",
      "Iteration 148, best fitness: 0.8333333333333334, size 17\n"
     ]
    },
    {
     "name": "stdout",
     "output_type": "stream",
     "text": [
      "Iteration 149, best fitness: 0.8333333333333334, size 17\n",
      "Iteration 150, best fitness: 0.8333333333333334, size 17\n",
      "Iteration 151, best fitness: 0.8333333333333334, size 17\n",
      "Iteration 152, best fitness: 0.8333333333333334, size 17\n",
      "Iteration 153, best fitness: 0.8333333333333334, size 17\n",
      "Iteration 154, best fitness: 0.8333333333333334, size 17\n",
      "Iteration 155, best fitness: 0.8333333333333334, size 17\n",
      "Iteration 156, best fitness: 0.8333333333333334, size 17\n",
      "Iteration 157, best fitness: 0.8333333333333334, size 17\n",
      "Iteration 158, best fitness: 0.8333333333333334, size 17\n",
      "Iteration 159, best fitness: 0.8333333333333334, size 17\n",
      "Iteration 160, best fitness: 0.8333333333333334, size 17\n",
      "Iteration 161, best fitness: 0.8333333333333334, size 17\n",
      "Iteration 162, best fitness: 0.8333333333333334, size 17\n",
      "Iteration 163, best fitness: 0.8333333333333334, size 17\n",
      "Iteration 164, best fitness: 0.8333333333333334, size 17\n",
      "Iteration 165, best fitness: 0.8333333333333334, size 17\n",
      "Iteration 166, best fitness: 0.8333333333333334, size 17\n",
      "Iteration 167, best fitness: 0.8333333333333334, size 17\n",
      "Iteration 168, best fitness: 0.8333333333333334, size 17\n",
      "Iteration 169, best fitness: 0.8333333333333334, size 17\n",
      "Iteration 170, best fitness: 0.8333333333333334, size 17\n",
      "Iteration 171, best fitness: 0.8333333333333334, size 17\n",
      "Iteration 172, best fitness: 0.8333333333333334, size 17\n",
      "Iteration 173, best fitness: 0.8333333333333334, size 17\n",
      "Iteration 174, best fitness: 0.8333333333333334, size 17\n",
      "Iteration 175, best fitness: 0.8333333333333334, size 17\n",
      "Iteration 176, best fitness: 0.8333333333333334, size 17\n",
      "Iteration 177, best fitness: 0.8333333333333334, size 17\n",
      "Iteration 178, best fitness: 0.8333333333333334, size 17\n",
      "Iteration 179, best fitness: 0.8333333333333334, size 17\n",
      "Iteration 180, best fitness: 0.8333333333333334, size 17\n",
      "Iteration 181, best fitness: 0.8333333333333334, size 17\n",
      "Iteration 182, best fitness: 0.8333333333333334, size 17\n",
      "Iteration 183, best fitness: 0.8333333333333334, size 17\n",
      "Iteration 184, best fitness: 0.8333333333333334, size 17\n",
      "Iteration 185, best fitness: 0.8333333333333334, size 17\n",
      "Iteration 186, best fitness: 0.8333333333333334, size 17\n",
      "Iteration 187, best fitness: 0.8333333333333334, size 17\n",
      "Iteration 188, best fitness: 0.8333333333333334, size 17\n",
      "Iteration 189, best fitness: 0.8333333333333334, size 17\n",
      "Iteration 190, best fitness: 0.8333333333333334, size 17\n",
      "Iteration 191, best fitness: 0.8333333333333334, size 17\n",
      "Iteration 192, best fitness: 0.8333333333333334, size 17\n",
      "Iteration 193, best fitness: 0.8333333333333334, size 17\n",
      "Iteration 194, best fitness: 0.8333333333333334, size 17\n",
      "Iteration 195, best fitness: 0.5, size 13\n",
      "Iteration 196, best fitness: 0.5, size 13\n",
      "Iteration 197, best fitness: 0.5, size 13\n",
      "Iteration 198, best fitness: 0.5, size 13\n",
      "Iteration 199, best fitness: 0.5, size 13\n",
      "Iteration 200, best fitness: 0.5, size 13\n",
      "Iteration 201, best fitness: 0.5, size 13\n",
      "Iteration 202, best fitness: 0.5, size 13\n",
      "Iteration 203, best fitness: 0.5, size 13\n",
      "Iteration 204, best fitness: 0.5, size 13\n",
      "Iteration 205, best fitness: 0.5, size 13\n",
      "Iteration 206, best fitness: 0.5, size 13\n",
      "Iteration 207, best fitness: 0.5, size 13\n",
      "Iteration 208, best fitness: 0.5, size 13\n",
      "Iteration 209, best fitness: 0.5, size 13\n",
      "Iteration 210, best fitness: 0.5, size 13\n",
      "Iteration 211, best fitness: 0.5, size 13\n",
      "Iteration 212, best fitness: 0.5, size 13\n",
      "Iteration 213, best fitness: 0.5, size 13\n",
      "Iteration 214, best fitness: 0.5, size 13\n",
      "Iteration 215, best fitness: 0.5, size 13\n",
      "Iteration 216, best fitness: 0.5, size 13\n",
      "Iteration 217, best fitness: 0.5, size 13\n",
      "Iteration 218, best fitness: 0.5, size 13\n",
      "Iteration 219, best fitness: 0.5, size 13\n",
      "Iteration 220, best fitness: 0.5, size 13\n",
      "Iteration 221, best fitness: 0.5, size 13\n",
      "Iteration 222, best fitness: 0.5, size 13\n",
      "Iteration 223, best fitness: 0.5, size 13\n",
      "Iteration 224, best fitness: 0.5, size 13\n",
      "Iteration 225, best fitness: 0.5, size 13\n",
      "Iteration 226, best fitness: 0.5, size 13\n",
      "Iteration 227, best fitness: 0.5, size 13\n",
      "Iteration 228, best fitness: 0.5, size 13\n",
      "Iteration 229, best fitness: 0.5, size 13\n",
      "Iteration 230, best fitness: 0.5, size 13\n",
      "Iteration 231, best fitness: 0.5, size 13\n",
      "Iteration 232, best fitness: 0.5, size 13\n",
      "Iteration 233, best fitness: 0.5, size 13\n",
      "Iteration 234, best fitness: 0.5, size 13\n",
      "Iteration 235, best fitness: 0.5, size 13\n",
      "Iteration 236, best fitness: 0.5, size 13\n",
      "Iteration 237, best fitness: 0.5, size 13\n",
      "Iteration 238, best fitness: 0.5, size 13\n",
      "Iteration 239, best fitness: 0.5, size 13\n",
      "Iteration 240, best fitness: 0.5, size 13\n",
      "Iteration 241, best fitness: 0.5, size 13\n",
      "Iteration 242, best fitness: 0.5, size 13\n",
      "Iteration 243, best fitness: 0.5, size 13\n",
      "Iteration 244, best fitness: 0.5, size 13\n",
      "Iteration 245, best fitness: 0.5, size 13\n",
      "Iteration 246, best fitness: 0.5, size 13\n",
      "Iteration 247, best fitness: 0.5, size 13\n",
      "Iteration 248, best fitness: 0.5, size 13\n",
      "Iteration 249, best fitness: 0.5, size 13\n",
      "Iteration 250, best fitness: 0.5, size 13\n",
      "Iteration 251, best fitness: 0.5, size 13\n",
      "Iteration 252, best fitness: 0.5, size 13\n",
      "Iteration 253, best fitness: 0.5, size 13\n",
      "Iteration 254, best fitness: 0.5, size 13\n",
      "Iteration 255, best fitness: 0.5, size 13\n",
      "Iteration 256, best fitness: 0.5, size 13\n",
      "Iteration 257, best fitness: 0.5, size 13\n",
      "Iteration 258, best fitness: 0.5, size 13\n",
      "Iteration 259, best fitness: 0.5, size 13\n",
      "Iteration 260, best fitness: 0.5, size 13\n",
      "Iteration 261, best fitness: 0.5, size 13\n",
      "Iteration 262, best fitness: 0.5, size 13\n",
      "Iteration 263, best fitness: 0.5, size 13\n",
      "Iteration 264, best fitness: 0.5, size 13\n",
      "Iteration 265, best fitness: 0.5, size 13\n",
      "Iteration 266, best fitness: 0.5, size 13\n",
      "Iteration 267, best fitness: 0.5, size 13\n",
      "Iteration 268, best fitness: 0.5, size 13\n",
      "Iteration 269, best fitness: 0.5, size 13\n",
      "Iteration 270, best fitness: 0.5, size 13\n",
      "Iteration 271, best fitness: 0.5, size 13\n",
      "Iteration 272, best fitness: 0.5, size 13\n",
      "Iteration 273, best fitness: 0.5, size 13\n",
      "Iteration 274, best fitness: 0.5, size 13\n",
      "Iteration 275, best fitness: 0.5, size 13\n",
      "Iteration 276, best fitness: 0.5, size 13\n",
      "Iteration 277, best fitness: 0.5, size 13\n",
      "Iteration 278, best fitness: 0.5, size 13\n",
      "Iteration 279, best fitness: 0.5, size 13\n",
      "Iteration 280, best fitness: 0.5, size 13\n",
      "Iteration 281, best fitness: 0.5, size 13\n",
      "Iteration 282, best fitness: 0.5, size 13\n",
      "Iteration 283, best fitness: 0.5, size 13\n",
      "Iteration 284, best fitness: 0.5, size 13\n",
      "Iteration 285, best fitness: 0.5, size 13\n",
      "Iteration 286, best fitness: 0.5, size 13\n",
      "Iteration 287, best fitness: 0.5, size 13\n",
      "Iteration 288, best fitness: 0.5, size 13\n",
      "Iteration 289, best fitness: 0.5, size 13\n",
      "Iteration 290, best fitness: 0.5, size 13\n",
      "Iteration 291, best fitness: 0.5, size 13\n",
      "Iteration 292, best fitness: 0.5, size 13\n",
      "Iteration 293, best fitness: 0.5, size 13\n",
      "Iteration 294, best fitness: 0.5, size 13\n",
      "Iteration 295, best fitness: 0.5, size 13\n",
      "Iteration 296, best fitness: 0.5, size 13\n",
      "Iteration 297, best fitness: 0.5, size 13\n",
      "Iteration 298, best fitness: 0.5, size 13\n",
      "Iteration 299, best fitness: 0.5, size 13\n",
      "Iteration 300, best fitness: 0.5, size 13\n",
      "Iteration 301, best fitness: 0.5, size 13\n",
      "Iteration 302, best fitness: 0.5, size 13\n",
      "Iteration 303, best fitness: 0.5, size 13\n",
      "Iteration 304, best fitness: 0.5, size 13\n",
      "Iteration 305, best fitness: 0.5, size 13\n",
      "Iteration 306, best fitness: 0.5, size 13\n",
      "Iteration 307, best fitness: 0.5, size 13\n",
      "Iteration 308, best fitness: 0.5, size 13\n",
      "Iteration 309, best fitness: 0.5, size 13\n",
      "Iteration 310, best fitness: 0.5, size 13\n",
      "Iteration 311, best fitness: 0.5, size 13\n",
      "Iteration 312, best fitness: 0.5, size 13\n",
      "Iteration 313, best fitness: 0.5, size 13\n",
      "Iteration 314, best fitness: 0.5, size 13\n",
      "Iteration 315, best fitness: 0.5, size 13\n",
      "Iteration 316, best fitness: 0.5, size 13\n",
      "Iteration 317, best fitness: 0.5, size 13\n",
      "Iteration 318, best fitness: 0.5, size 13\n",
      "Iteration 319, best fitness: 0.5, size 13\n",
      "Iteration 320, best fitness: 0.5, size 13\n",
      "Iteration 321, best fitness: 0.5, size 13\n",
      "Iteration 322, best fitness: 0.5, size 13\n",
      "Iteration 323, best fitness: 0.5, size 13\n",
      "Iteration 324, best fitness: 0.5, size 13\n",
      "Iteration 325, best fitness: 0.5, size 13\n",
      "Iteration 326, best fitness: 0.5, size 13\n",
      "Iteration 327, best fitness: 0.5, size 13\n",
      "Iteration 328, best fitness: 0.5, size 13\n",
      "Iteration 329, best fitness: 0.5, size 13\n",
      "Iteration 330, best fitness: 0.5, size 13\n",
      "Iteration 331, best fitness: 0.5, size 13\n"
     ]
    },
    {
     "name": "stdout",
     "output_type": "stream",
     "text": [
      "Iteration 332, best fitness: 0.5, size 13\n",
      "Iteration 333, best fitness: 0.5, size 13\n",
      "Iteration 334, best fitness: 0.5, size 13\n",
      "Iteration 335, best fitness: 0.5, size 13\n",
      "Iteration 336, best fitness: 0.5, size 13\n",
      "Iteration 337, best fitness: 0.5, size 13\n",
      "Iteration 338, best fitness: 0.5, size 13\n",
      "Iteration 339, best fitness: 0.5, size 13\n",
      "Iteration 340, best fitness: 0.5, size 13\n",
      "Iteration 341, best fitness: 0.5, size 13\n",
      "Iteration 342, best fitness: 0.5, size 13\n",
      "Iteration 343, best fitness: 0.5, size 13\n",
      "Iteration 344, best fitness: 0.5, size 13\n",
      "Iteration 345, best fitness: 0.5, size 13\n",
      "Iteration 346, best fitness: 0.5, size 13\n",
      "Iteration 347, best fitness: 0.5, size 13\n",
      "Iteration 348, best fitness: 0.5, size 13\n",
      "Iteration 349, best fitness: 0.5, size 13\n",
      "Iteration 350, best fitness: 0.5, size 13\n",
      "Iteration 351, best fitness: 0.5, size 13\n",
      "Iteration 352, best fitness: 0.5, size 13\n",
      "Iteration 353, best fitness: 0.5, size 13\n",
      "Iteration 354, best fitness: 0.5, size 13\n",
      "Iteration 355, best fitness: 0.5, size 13\n",
      "Iteration 356, best fitness: 0.5, size 13\n",
      "Iteration 357, best fitness: 0.5, size 13\n",
      "Iteration 358, best fitness: 0.5, size 13\n",
      "Iteration 359, best fitness: 0.5, size 13\n",
      "Iteration 360, best fitness: 0.5, size 13\n",
      "Iteration 361, best fitness: 0.5, size 13\n",
      "Iteration 362, best fitness: 0.5, size 13\n",
      "Iteration 363, best fitness: 0.5, size 13\n",
      "Iteration 364, best fitness: 0.5, size 13\n",
      "Iteration 365, best fitness: 0.5, size 13\n",
      "Iteration 366, best fitness: 0.5, size 13\n",
      "Iteration 367, best fitness: 0.5, size 13\n",
      "Iteration 368, best fitness: 0.5, size 13\n",
      "Iteration 369, best fitness: 0.5, size 13\n",
      "Iteration 370, best fitness: 0.5, size 13\n",
      "Iteration 371, best fitness: 0.5, size 13\n",
      "Iteration 372, best fitness: 0.5, size 13\n",
      "Iteration 373, best fitness: 0.5, size 13\n",
      "Iteration 374, best fitness: 0.5, size 13\n",
      "Iteration 375, best fitness: 0.5, size 13\n",
      "Iteration 376, best fitness: 0.5, size 13\n",
      "Iteration 377, best fitness: 0.5, size 13\n",
      "Iteration 378, best fitness: 0.5, size 13\n",
      "Iteration 379, best fitness: 0.5, size 13\n",
      "Iteration 380, best fitness: 0.5, size 13\n",
      "Iteration 381, best fitness: 0.5, size 13\n",
      "Iteration 382, best fitness: 0.5, size 13\n",
      "Iteration 383, best fitness: 0.5, size 13\n",
      "Iteration 384, best fitness: 0.5, size 13\n",
      "Iteration 385, best fitness: 0.5, size 13\n",
      "Iteration 386, best fitness: 0.5, size 13\n",
      "Iteration 387, best fitness: 0.5, size 13\n",
      "Iteration 388, best fitness: 0.5, size 13\n",
      "Iteration 389, best fitness: 0.5, size 13\n",
      "Iteration 390, best fitness: 0.5, size 13\n",
      "Iteration 391, best fitness: 0.5, size 13\n",
      "Iteration 392, best fitness: 0.5, size 13\n",
      "Iteration 393, best fitness: 0.5, size 13\n",
      "Iteration 394, best fitness: 0.5, size 13\n",
      "Iteration 395, best fitness: 0.5, size 13\n",
      "Iteration 396, best fitness: 0.5, size 13\n",
      "Iteration 397, best fitness: 0.5, size 13\n",
      "Iteration 398, best fitness: 0.5, size 13\n",
      "Iteration 399, best fitness: 0.5, size 13\n",
      "Iteration 400, best fitness: 0.5, size 13\n",
      "Iteration 401, best fitness: 0.5, size 13\n",
      "Iteration 402, best fitness: 0.5, size 13\n",
      "Iteration 403, best fitness: 0.5, size 13\n",
      "Iteration 404, best fitness: 0.5, size 13\n",
      "Iteration 405, best fitness: 0.5, size 13\n",
      "Iteration 406, best fitness: 0.5, size 13\n",
      "Iteration 407, best fitness: 0.5, size 13\n",
      "Iteration 408, best fitness: 0.5, size 13\n",
      "Iteration 409, best fitness: 0.5, size 13\n",
      "Iteration 410, best fitness: 0.5, size 13\n",
      "Iteration 411, best fitness: 0.5, size 13\n",
      "Iteration 412, best fitness: 0.5, size 13\n",
      "Iteration 413, best fitness: 0.5, size 13\n",
      "Iteration 414, best fitness: 0.5, size 13\n",
      "Iteration 415, best fitness: 0.5, size 13\n",
      "Iteration 416, best fitness: 0.5, size 13\n",
      "Iteration 417, best fitness: 0.5, size 13\n",
      "Iteration 418, best fitness: 0.5, size 13\n",
      "Iteration 419, best fitness: 0.5, size 13\n",
      "Iteration 420, best fitness: 0.5, size 13\n",
      "Iteration 421, best fitness: 0.5, size 13\n",
      "Iteration 422, best fitness: 0.5, size 13\n",
      "Iteration 423, best fitness: 0.5, size 13\n",
      "Iteration 424, best fitness: 0.5, size 13\n",
      "Iteration 425, best fitness: 0.5, size 13\n",
      "Iteration 426, best fitness: 0.5, size 13\n",
      "Iteration 427, best fitness: 0.5, size 13\n",
      "Iteration 428, best fitness: 0.5, size 13\n",
      "Iteration 429, best fitness: 0.5, size 13\n",
      "Iteration 430, best fitness: 0.5, size 13\n",
      "Iteration 431, best fitness: 0.5, size 13\n",
      "Iteration 432, best fitness: 0.5, size 13\n",
      "Iteration 433, best fitness: 0.5, size 13\n",
      "Iteration 434, best fitness: 0.5, size 13\n",
      "Iteration 435, best fitness: 0.5, size 13\n",
      "Iteration 436, best fitness: 0.5, size 13\n",
      "Iteration 437, best fitness: 0.5, size 13\n",
      "Iteration 438, best fitness: 0.5, size 13\n",
      "Iteration 439, best fitness: 0.5, size 13\n",
      "Iteration 440, best fitness: 0.5, size 13\n",
      "Iteration 441, best fitness: 0.5, size 13\n",
      "Iteration 442, best fitness: 0.5, size 13\n",
      "Iteration 443, best fitness: 0.5, size 13\n",
      "Iteration 444, best fitness: 0.5, size 13\n",
      "Iteration 445, best fitness: 0.5, size 13\n",
      "Iteration 446, best fitness: 0.5, size 13\n",
      "Iteration 447, best fitness: 0.5, size 13\n",
      "Iteration 448, best fitness: 0.5, size 13\n",
      "Iteration 449, best fitness: 0.5, size 13\n",
      "Iteration 450, best fitness: 0.5, size 13\n",
      "Iteration 451, best fitness: 0.5, size 13\n",
      "Iteration 452, best fitness: 0.5, size 13\n",
      "Iteration 453, best fitness: 0.5, size 13\n",
      "Iteration 454, best fitness: 0.5, size 13\n",
      "Iteration 455, best fitness: 0.5, size 13\n",
      "Iteration 456, best fitness: 0.5, size 13\n",
      "Iteration 457, best fitness: 0.5, size 13\n",
      "Iteration 458, best fitness: 0.5, size 13\n",
      "Iteration 459, best fitness: 0.5, size 13\n",
      "Iteration 460, best fitness: 0.5, size 13\n",
      "Iteration 461, best fitness: 0.5, size 13\n",
      "Iteration 462, best fitness: 0.5, size 13\n",
      "Iteration 463, best fitness: 0.5, size 13\n",
      "Iteration 464, best fitness: 0.5, size 13\n",
      "Iteration 465, best fitness: 0.5, size 13\n",
      "Iteration 466, best fitness: 0.5, size 13\n",
      "Iteration 467, best fitness: 0.5, size 13\n",
      "Iteration 468, best fitness: 0.5, size 13\n",
      "Iteration 469, best fitness: 0.5, size 13\n",
      "Iteration 470, best fitness: 0.5, size 13\n",
      "Iteration 471, best fitness: 0.5, size 13\n",
      "Iteration 472, best fitness: 0.5, size 13\n",
      "Iteration 473, best fitness: 0.5, size 13\n",
      "Iteration 474, best fitness: 0.5, size 13\n",
      "Iteration 475, best fitness: 0.5, size 13\n",
      "Iteration 476, best fitness: 0.5, size 13\n",
      "Iteration 477, best fitness: 0.5, size 13\n",
      "Iteration 478, best fitness: 0.5, size 13\n",
      "Iteration 479, best fitness: 0.5, size 13\n",
      "Iteration 480, best fitness: 0.5, size 13\n",
      "Iteration 481, best fitness: 0.5, size 13\n",
      "Iteration 482, best fitness: 0.5, size 13\n",
      "Iteration 483, best fitness: 0.5, size 13\n",
      "Iteration 484, best fitness: 0.5, size 13\n",
      "Iteration 485, best fitness: 0.5, size 13\n",
      "Iteration 486, best fitness: 0.5, size 13\n",
      "Iteration 487, best fitness: 0.5, size 13\n",
      "Iteration 488, best fitness: 0.5, size 13\n",
      "Iteration 489, best fitness: 0.5, size 13\n",
      "Iteration 490, best fitness: 0.5, size 13\n",
      "Iteration 491, best fitness: 0.5, size 13\n",
      "Iteration 492, best fitness: 0.5, size 13\n",
      "Iteration 493, best fitness: 0.5, size 13\n",
      "Iteration 494, best fitness: 0.5, size 13\n",
      "Iteration 495, best fitness: 0.5, size 13\n",
      "Iteration 496, best fitness: 0.0, size 16\n",
      "Iteration 497, best fitness: 0.0, size 16\n",
      "Iteration 498, best fitness: 0.0, size 16\n",
      "Iteration 499, best fitness: 0.0, size 16\n"
     ]
    },
    {
     "data": {
      "text/plain": [
       "[[286, 649, 982],\n",
       " [895, 108, 29],\n",
       " [648, 759, 759],\n",
       " [911, 873, 911],\n",
       " [829, 833, 924],\n",
       " [961, 961, 960],\n",
       " [961, 961, 961],\n",
       " [961, 961, 960],\n",
       " [957, 961, 963],\n",
       " [961, 961, 960],\n",
       " [251, 392, -564],\n",
       " [299, 751, 176],\n",
       " [-559, -380, -188],\n",
       " [602, -204, 140],\n",
       " [-196, 876, 592],\n",
       " [194, -756, 933]]"
      ]
     },
     "execution_count": 94,
     "metadata": {},
     "output_type": "execute_result"
    }
   ],
   "source": [
    "max_gen=500\n",
    "MAX=1000\n",
    "MIN=-MAX\n",
    "crossover = relative_crossover\n",
    "tournament_size = 5\n",
    "population_size = 50\n",
    "fitness_values = []\n",
    "ga()"
   ]
  },
  {
   "cell_type": "code",
   "execution_count": 95,
   "metadata": {
    "scrolled": false,
    "slideshow": {
     "slide_type": "subslide"
    }
   },
   "outputs": [
    {
     "data": {
      "text/plain": [
       "[<matplotlib.lines.Line2D at 0x11cbd51c0>]"
      ]
     },
     "execution_count": 95,
     "metadata": {},
     "output_type": "execute_result"
    },
    {
     "data": {
      "image/png": "[encoded data removed]",
      "text/plain": [
       "<Figure size 432x288 with 1 Axes>"
      ]
     },
     "metadata": {
      "needs_background": "light"
     },
     "output_type": "display_data"
    }
   ],
   "source": [
    "plt.plot(fitness_values)"
   ]
  },
  {
   "cell_type": "markdown",
   "metadata": {
    "slideshow": {
     "slide_type": "skip"
    }
   },
   "source": [
    "There are some drawbacks to this approach: Once we have a test for a coverage goal, we are actually no longer interested in optimising tests for it (except for the case of minimising the overall test suite size). However, since we are optimising test suites, we always keep around all tests for all goals in the population. Usually, when you run whole test suite optimisation on our triangle example it will converge to cover most goals quickly except for the case of an equilateral triangle. Once it has reached that point the search needs to pick a test case to mutate that is not needed to satisfy another coverage goal, and then by chance mutate it such that the result is three equal sides. The chances of this happening are low, and the algorithm will not always produce 100% coverage unless waiting very long. We will therefore consider an improved approach next."
   ]
  },
  {
   "cell_type": "markdown",
   "metadata": {
    "slideshow": {
     "slide_type": "slide"
    }
   },
   "source": [
    "## Many-Objective Optimisation"
   ]
  },
  {
   "cell_type": "markdown",
   "metadata": {
    "slideshow": {
     "slide_type": "skip"
    }
   },
   "source": [
    "Since we are attempting to evolve tests for multiple coverage goals, it would be tempting to use multi-objective optimisation algorithms. However, the MOEAs we have considered previously are all based on the central concept of domination. With increasing number of objectives, however, dominance becomes increasingly rare, and there are too many non-dominated individuals. For example, in a population of size 20 with NSGA-II, after combining the parent and offspring populations, if there are more than 20 non-dominated individuals, then Pareto sorting has no effect on parent selection, and there exists no selective pressure towards the Pareto front. Therefore, traditional MOEAs are usually only applied to problems with 2-3 objectives. Optimisation with more than 3 objectives are known as _many-objective_ optimisation problems. There are extensions of the MOEAs we have considered to the many objective scenario such as NSGA-III or Two ARchives2:\n",
    "\n",
    "- Deb, K., & Jain, H. (2013). An evolutionary many-objective optimization algorithm using reference-point-based nondominated sorting approach, part I: solving problems with box constraints. IEEE transactions on evolutionary computation, 18(4), 577-601.\n",
    "\n",
    "- Wang, H., Jiao, L., & Yao, X. (2014). Two_Arch2: An improved two-archive algorithm for many-objective optimization. IEEE Transactions on Evolutionary Computation, 19(4), 524-541.\n",
    "\n",
    "However, even such many objective optimisation algorithms can only cope with only up to ~20 objectives, whereas in test generation there can be hundreds of coverage goals to optimise for."
   ]
  },
  {
   "cell_type": "markdown",
   "metadata": {
    "slideshow": {
     "slide_type": "fragment"
    }
   },
   "source": [
    "### MOSA"
   ]
  },
  {
   "cell_type": "markdown",
   "metadata": {
    "slideshow": {
     "slide_type": "skip"
    }
   },
   "source": [
    "The Many-Objective Sorting Algorithm (MOSA) is an extension of the NSGA-II algorithm specifically tailored \n",
    "\n",
    "Panichella, A., Kifetew, F. M., & Tonella, P. (2015, April). Reformulating branch coverage as a many-objective optimization problem. In 2015 IEEE 8th international conference on software testing, verification and validation (ICST) (pp. 1-10). IEEE.\n"
   ]
  },
  {
   "cell_type": "markdown",
   "metadata": {
    "slideshow": {
     "slide_type": "skip"
    }
   },
   "source": [
    "MOSA is built on NSGA-II, and includes a preference criterion: Given a branch $b$, a test case $x$ is preferred over another test case $y$ if and only if the values of the distance function $f$ for $b$ satisfy the condition $f(x) < f(y)$. This preference criterion is used to distinguish between test cases within a set of non-dominated individuals."
   ]
  },
  {
   "cell_type": "markdown",
   "metadata": {
    "slideshow": {
     "slide_type": "skip"
    }
   },
   "source": [
    "In order to more conveniently handle the many-objective setting let's capture the notion of coverage goals explicitly (in the previous examples this was implicitly done in the fitness function, where we only considered an individual goal or the sum of all goals):"
   ]
  },
  {
   "cell_type": "code",
   "execution_count": 96,
   "metadata": {
    "slideshow": {
     "slide_type": "fragment"
    }
   },
   "outputs": [],
   "source": [
    "class Goal:\n",
    "    def __init__(self, branch, value):\n",
    "        self.branch = branch\n",
    "        self.value  = value\n",
    "    \n",
    "    def get_distance(self, test):\n",
    "        return test.distances[self]\n",
    "    \n",
    "    def is_coveredby(self, test):\n",
    "        return test.distances[self] == 0\n",
    "    \n",
    "    def __str__(self):\n",
    "        return f\"Branch {self.branch}/{self.value}\""
   ]
  },
  {
   "cell_type": "markdown",
   "metadata": {
    "slideshow": {
     "slide_type": "skip"
    }
   },
   "source": [
    "Our instrumentation gives us a number of branches, but technically, these are conditions and each condition can evaluate to true and to false, thus our coverage goals are as follows:"
   ]
  },
  {
   "cell_type": "code",
   "execution_count": 97,
   "metadata": {
    "slideshow": {
     "slide_type": "skip"
    }
   },
   "outputs": [],
   "source": [
    "goals = [Goal(num, val) for num in range(num_branches) for val in [True, False]]"
   ]
  },
  {
   "cell_type": "markdown",
   "metadata": {
    "slideshow": {
     "slide_type": "skip"
    }
   },
   "source": [
    "In order to avoid redundant fitness calculations, we will also use our wrapper class to cache fitness values:"
   ]
  },
  {
   "cell_type": "code",
   "execution_count": 98,
   "metadata": {
    "slideshow": {
     "slide_type": "skip"
    }
   },
   "outputs": [],
   "source": [
    "class L(list):\n",
    "    \"\"\"\n",
    "    A subclass of list that can accept additional attributes.\n",
    "    Should be able to be used just like a regular list.\n",
    "    \"\"\"\n",
    "    def __new__(self, *args, **kwargs):\n",
    "        return super(L, self).__new__(self, args, kwargs)\n",
    "\n",
    "    def __init__(self, *args, **kwargs):\n",
    "        if len(args) == 1 and hasattr(args[0], '__iter__'):\n",
    "            list.__init__(self, args[0])\n",
    "        else:\n",
    "            list.__init__(self, args)\n",
    "        self.__dict__.update(kwargs)\n",
    "\n",
    "    def __call__(self, **kwargs):\n",
    "        self.__dict__.update(kwargs)\n",
    "        return self"
   ]
  },
  {
   "cell_type": "markdown",
   "metadata": {
    "slideshow": {
     "slide_type": "skip"
    }
   },
   "source": [
    "In the many objective scenario, we are back to optimising _test cases_ rather than test suites:"
   ]
  },
  {
   "cell_type": "code",
   "execution_count": 99,
   "metadata": {
    "slideshow": {
     "slide_type": "slide"
    }
   },
   "outputs": [],
   "source": [
    "def get_random_individual():\n",
    "    individual = L([random.randint(MIN, MAX) for _ in range(num_parameters)])\n",
    "    evaluate(individual)\n",
    "    return individual"
   ]
  },
  {
   "cell_type": "code",
   "execution_count": 100,
   "metadata": {
    "slideshow": {
     "slide_type": "fragment"
    }
   },
   "outputs": [],
   "source": [
    "def mutate(solution):\n",
    "    P_mutate = 1/len(solution)\n",
    "    mutated = L(solution[:])\n",
    "    for position in range(len(solution)):\n",
    "        if random.random() < P_mutate:\n",
    "            if random.random() < 0.9:\n",
    "                mutated[position] = int(random.gauss(mutated[position], 20))\n",
    "            else:\n",
    "                mutated[position] = random.randint(MIN, MAX)\n",
    "            \n",
    "    evaluate(mutated)\n",
    "    return mutated"
   ]
  },
  {
   "cell_type": "markdown",
   "metadata": {
    "slideshow": {
     "slide_type": "skip"
    }
   },
   "source": [
    "Let's also return to the regular single point crossover, since we are no longer optimising test suites, but test cases."
   ]
  },
  {
   "cell_type": "code",
   "execution_count": 101,
   "metadata": {
    "slideshow": {
     "slide_type": "skip"
    }
   },
   "outputs": [],
   "source": [
    "crossover = singlepoint_crossover"
   ]
  },
  {
   "cell_type": "markdown",
   "metadata": {
    "slideshow": {
     "slide_type": "skip"
    }
   },
   "source": [
    "We will simply use the branch distance for each of the goals again (technically, this could be refined to also include the approach level). Thus, to calculate all fitness values we need to execute a test, and store the according branch distances in a map:"
   ]
  },
  {
   "cell_type": "code",
   "execution_count": 102,
   "metadata": {
    "slideshow": {
     "slide_type": "slide"
    }
   },
   "outputs": [],
   "source": [
    "def evaluate(individual):\n",
    "    global distances_true, distances_false\n",
    "    distances_true =  {x: 1.0 for x in range(num_branches)}\n",
    "    distances_false = {x: 1.0 for x in range(num_branches)}\n",
    "\n",
    "    triangle_instrumented(*individual)\n",
    "\n",
    "    individual.distances = {}\n",
    "    for goal in goals:\n",
    "        if goal.value:\n",
    "            individual.distances[goal] = distances_true[goal.branch]\n",
    "        else:\n",
    "            individual.distances[goal] = distances_false[goal.branch]"
   ]
  },
  {
   "cell_type": "markdown",
   "metadata": {
    "slideshow": {
     "slide_type": "skip"
    }
   },
   "source": [
    "The MOSA algorithm is a variation of NSGA-II. We thus need to define the regular notion of dominance, adapted to our setting with `Goals`:"
   ]
  },
  {
   "cell_type": "code",
   "execution_count": 103,
   "metadata": {
    "slideshow": {
     "slide_type": "slide"
    }
   },
   "outputs": [],
   "source": [
    "def dominates(solution1, solution2):\n",
    "    for goal in goals:\n",
    "        if solution1.distances[goal] > solution2.distances[goal]:\n",
    "            return False\n",
    "\n",
    "    for goal in goals:\n",
    "        if solution1.distances[goal] < solution2.distances[goal]:\n",
    "            return True\n",
    "\n",
    "    return False"
   ]
  },
  {
   "cell_type": "markdown",
   "metadata": {
    "slideshow": {
     "slide_type": "skip"
    }
   },
   "source": [
    "Using the dominance relation, we can apply the fast non-dominated sort algorithm we already know from NSGA-II in order to sort a population into fronts:"
   ]
  },
  {
   "cell_type": "code",
   "execution_count": 104,
   "metadata": {
    "slideshow": {
     "slide_type": "slide"
    }
   },
   "outputs": [],
   "source": [
    "def fast_non_dominated_sort(solutions):\n",
    "    front = [[]]\n",
    "\n",
    "    S = [[] for _ in range(len(solutions))]\n",
    "    n = [0 for _ in range(len(solutions))]\n",
    "\n",
    "    for p in range(len(solutions)):\n",
    "        S[p] = []\n",
    "        n[p] = 0\n",
    "        for q in range(len(solutions)):\n",
    "            if dominates(solutions[p], solutions[q]):\n",
    "                S[p].append(q)\n",
    "            elif dominates(solutions[q], solutions[p]):\n",
    "                n[p] = n[p] + 1\n",
    "\n",
    "        if n[p] == 0:\n",
    "            front[0].append(p)\n",
    "            solutions[p].rank = 0\n",
    "\n",
    "    i = 0\n",
    "    while front[i]:\n",
    "        Q = []\n",
    "        for p in front[i]:\n",
    "            for q in S[p]:\n",
    "                n[q] = n[q] - 1\n",
    "                if n[q] == 0:\n",
    "                    Q.append(q)\n",
    "                    solutions[q].rank = i + 1\n",
    "        i = i + 1\n",
    "        front.append(Q)\n",
    "\n",
    "    del front[len(front) - 1]\n",
    "    return front"
   ]
  },
  {
   "cell_type": "markdown",
   "metadata": {
    "slideshow": {
     "slide_type": "skip"
    }
   },
   "source": [
    "There are two major differences to NSGA-II now: Rather than just using the non-dominated sorted fronts directly, MOSA first applies the preference criterion to find the tests that are preferrable for the goals not yet covered. In order to keep track of which goals have already been satisfied, MOSA uses an archive to store satisfied coverage goals with the corresponding tests."
   ]
  },
  {
   "cell_type": "code",
   "execution_count": 105,
   "metadata": {
    "slideshow": {
     "slide_type": "slide"
    }
   },
   "outputs": [],
   "source": [
    "def update_archive(archive, population):\n",
    "    \n",
    "    # Ignores secondary criterion because length is fixed here\n",
    "    for test in population:\n",
    "        for goal in goals:\n",
    "            if goal in archive:\n",
    "                continue\n",
    "            if goal.is_coveredby(test):\n",
    "                archive[goal] = L(test[:])\n",
    "                print(f\"Covered goal {goal}: {test}\")"
   ]
  },
  {
   "cell_type": "markdown",
   "metadata": {
    "slideshow": {
     "slide_type": "skip"
    }
   },
   "source": [
    "As the archive can tell us which goals are covered and which are not, the prefernce sorting can focus on those individuals that are not covered yet. For each uncovered goal, the best individual is put into a special first front. All other individuals are sorted according to regular non-dominated sorting:"
   ]
  },
  {
   "cell_type": "code",
   "execution_count": 106,
   "metadata": {
    "slideshow": {
     "slide_type": "slide"
    }
   },
   "outputs": [],
   "source": [
    "def preference_sorting(population, archive):\n",
    "    # First front consists of best test per branch\n",
    "    \n",
    "    fronts = []\n",
    "    f0 = []\n",
    "    uncovered_branches = []\n",
    "    # Only consider uncovered branches?\n",
    "    for goal in goals:\n",
    "        if goal not in archive:\n",
    "            best = min(population, key=lambda t: goal.get_distance(t))\n",
    "            if best not in f0:\n",
    "                f0.append(best)\n",
    "\n",
    "    for t in f0:\n",
    "        t.rank = 0\n",
    "    \n",
    "    fronts.append(f0)\n",
    "    \n",
    "    remaining = [x for x in population if not x in f0]\n",
    "    \n",
    "    # Remaining tests: \n",
    "    if remaining:\n",
    "        # Calculate non-dominance only using uncovered branches\n",
    "        remaining_fronts = fast_non_dominated_sort(remaining)\n",
    "        for i in range(len(remaining_fronts)):\n",
    "            front = [remaining[index] for index in remaining_fronts[i]]\n",
    "            for t in front:\n",
    "                t.rank = i + 1\n",
    "            fronts.append(front)\n",
    "    \n",
    "    return fronts"
   ]
  },
  {
   "cell_type": "markdown",
   "metadata": {
    "slideshow": {
     "slide_type": "skip"
    }
   },
   "source": [
    "The sorting of individuals within a front based on their crowding distance is the same we used previously, and only has to be adapted to consider our `Goal` implementation:"
   ]
  },
  {
   "cell_type": "code",
   "execution_count": 107,
   "metadata": {
    "slideshow": {
     "slide_type": "slide"
    }
   },
   "outputs": [],
   "source": [
    "def calculate_crowding_distance_and_sort(front):\n",
    "\n",
    "    if not front:\n",
    "        return\n",
    "    distance = [0 for _ in range(0,len(front))]\n",
    "\n",
    "    for goal in goals:\n",
    "        data = [(x, front[x].distances[goal]) for x in range(len(front))]\n",
    "        sorted_front = sorted(data, key=lambda tup: tup[1])\n",
    "        range_fitness = sorted_front[-1][1] - sorted_front[0][1]\n",
    "        if range_fitness > 0.0:\n",
    "            distance[sorted_front[0][0]] = sys.maxsize\n",
    "            distance[sorted_front[-1][0]] = sys.maxsize\n",
    "\n",
    "            for k in range(1,len(front)-1):\n",
    "                index = sorted_front[k][0]\n",
    "                distance[index] = distance[index] + (sorted_front[k+1][1] - sorted_front[k-1][1]) / range_fitness\n",
    "\n",
    "    for k in range(0, len(front)):\n",
    "        front[k].distance = distance[k]\n",
    "\n",
    "    front.sort(key = lambda i: i.distance, reverse=True)"
   ]
  },
  {
   "cell_type": "markdown",
   "metadata": {
    "slideshow": {
     "slide_type": "skip"
    }
   },
   "source": [
    "Since we now have ranks based on preference sorting and we have a crowding distance, we can use the binary rank tournament selection operator we already know from NSGA-II:"
   ]
  },
  {
   "cell_type": "code",
   "execution_count": 108,
   "metadata": {
    "slideshow": {
     "slide_type": "slide"
    }
   },
   "outputs": [],
   "source": [
    "def binary_rank_tournament(population):\n",
    "    individual1 = random.choice(population)\n",
    "    individual2 = random.choice(population)\n",
    "\n",
    "    if individual1.rank < individual2.rank:\n",
    "        return individual1\n",
    "    elif individual1.rank > individual2.rank:\n",
    "        return individual2\n",
    "    else:\n",
    "        return max([individual1, individual2], key = lambda i: i.distance)"
   ]
  },
  {
   "cell_type": "markdown",
   "metadata": {
    "slideshow": {
     "slide_type": "skip"
    }
   },
   "source": [
    "Using the selection operator, we can also breed new generations:"
   ]
  },
  {
   "cell_type": "code",
   "execution_count": 109,
   "metadata": {
    "slideshow": {
     "slide_type": "slide"
    }
   },
   "outputs": [],
   "source": [
    "def generate_offspring(population):\n",
    "    offspring_population = []\n",
    "    while len(offspring_population) < len(population):\n",
    "        parent1 = binary_rank_tournament(population)\n",
    "        parent2 = binary_rank_tournament(population)\n",
    "        if random.random() < P_xover:\n",
    "            offspring1, offspring2 = crossover(parent1, parent2)\n",
    "        else:\n",
    "            offspring1, offspring2 = parent1, parent2\n",
    "            \n",
    "        offspring1 = mutate(offspring1)\n",
    "        offspring2 = mutate(offspring2)\n",
    "\n",
    "        offspring_population.append(offspring1)\n",
    "        offspring_population.append(offspring2)\n",
    "\n",
    "    return offspring_population"
   ]
  },
  {
   "cell_type": "markdown",
   "metadata": {
    "slideshow": {
     "slide_type": "skip"
    }
   },
   "source": [
    "We also need to derive the initial population:"
   ]
  },
  {
   "cell_type": "code",
   "execution_count": 110,
   "metadata": {
    "slideshow": {
     "slide_type": "slide"
    }
   },
   "outputs": [],
   "source": [
    "def get_initial_population(archive):\n",
    "    population = [get_random_individual() for _ in range(population_size)]\n",
    "    update_archive(archive, population)\n",
    "    fronts = preference_sorting(population, archive)\n",
    "    for front in fronts:\n",
    "        calculate_crowding_distance_and_sort(front)\n",
    "\n",
    "    return population"
   ]
  },
  {
   "cell_type": "markdown",
   "metadata": {
    "slideshow": {
     "slide_type": "skip"
    }
   },
   "source": [
    "Now we have all components in place and can implement the actual algorithm, which only slightly differs from NSGA-II. The final solution are the contents of the archive."
   ]
  },
  {
   "cell_type": "code",
   "execution_count": 111,
   "metadata": {
    "slideshow": {
     "slide_type": "slide"
    }
   },
   "outputs": [],
   "source": [
    "def mosa():\n",
    "    archive = {}\n",
    "    population = get_initial_population(archive)\n",
    "    update_archive(archive, population)\n",
    "    preference_sorting(population, archive)\n",
    "\n",
    "\n",
    "    for iteration in range(max_gen):\n",
    "        uncovered = 0\n",
    "        for goal in goals:\n",
    "            if not goal in archive:\n",
    "                uncovered += 1\n",
    "\n",
    "        if uncovered > 0:\n",
    "            print(f\"Iteration {iteration}, missing goals: {uncovered}\")\n",
    "\n",
    "        offspring_population = generate_offspring(population)\n",
    "        combined = population + offspring_population\n",
    "        \n",
    "        fronts = preference_sorting(combined, archive)\n",
    "        population = []\n",
    "\n",
    "        for front in fronts:\n",
    "            calculate_crowding_distance_and_sort(front)\n",
    "\n",
    "            for t in front:\n",
    "                population.append(t)\n",
    "                if len(population) == population_size:\n",
    "                    break\n",
    "            if len(population) == population_size:\n",
    "                break\n",
    "\n",
    "        update_archive(archive, population)\n",
    "        \n",
    "\n",
    "    return archive"
   ]
  },
  {
   "cell_type": "code",
   "execution_count": 112,
   "metadata": {
    "scrolled": false,
    "slideshow": {
     "slide_type": "slide"
    }
   },
   "outputs": [
    {
     "name": "stdout",
     "output_type": "stream",
     "text": [
      "Covered goal Branch 0/True: [-355, 5270, 3507]\n",
      "Covered goal Branch 0/False: [8011, -5539, -1403]\n",
      "Covered goal Branch 1/True: [8011, -5539, -1403]\n",
      "Covered goal Branch 1/False: [1517, 9747, -9387]\n",
      "Covered goal Branch 2/True: [1517, 9747, -9387]\n",
      "Covered goal Branch 2/False: [1408, 288, 4543]\n",
      "Covered goal Branch 3/True: [1408, 288, 4543]\n",
      "Covered goal Branch 3/False: [9658, 3957, 8739]\n",
      "Covered goal Branch 4/False: [9658, 3957, 8739]\n",
      "Covered goal Branch 5/False: [9658, 3957, 8739]\n",
      "Covered goal Branch 6/False: [9658, 3957, 8739]\n",
      "Covered goal Branch 8/False: [9658, 3957, 8739]\n",
      "Covered goal Branch 9/False: [9658, 3957, 8739]\n",
      "Covered goal Branch 10/False: [9658, 3957, 8739]\n",
      "Iteration 0, missing goals: 8\n",
      "Iteration 1, missing goals: 8\n",
      "Covered goal Branch 5/True: [9658, 3975, 3686]\n",
      "Iteration 2, missing goals: 7\n",
      "Iteration 3, missing goals: 7\n",
      "Covered goal Branch 4/True: [4808, 9908, 3661]\n",
      "Iteration 4, missing goals: 6\n",
      "Iteration 5, missing goals: 6\n",
      "Iteration 6, missing goals: 6\n",
      "Iteration 7, missing goals: 6\n",
      "Iteration 8, missing goals: 6\n",
      "Iteration 9, missing goals: 6\n",
      "Iteration 10, missing goals: 6\n",
      "Iteration 11, missing goals: 6\n",
      "Iteration 12, missing goals: 6\n",
      "Iteration 13, missing goals: 6\n",
      "Iteration 14, missing goals: 6\n",
      "Iteration 15, missing goals: 6\n",
      "Iteration 16, missing goals: 6\n",
      "Covered goal Branch 10/True: [1399, 202, 1399]\n",
      "Iteration 17, missing goals: 5\n",
      "Iteration 18, missing goals: 5\n",
      "Iteration 19, missing goals: 5\n",
      "Iteration 20, missing goals: 5\n",
      "Iteration 21, missing goals: 5\n",
      "Iteration 22, missing goals: 5\n",
      "Iteration 23, missing goals: 5\n",
      "Iteration 24, missing goals: 5\n",
      "Covered goal Branch 9/True: [1399, 4581, 4581]\n",
      "Iteration 25, missing goals: 4\n",
      "Iteration 26, missing goals: 4\n",
      "Iteration 27, missing goals: 4\n",
      "Covered goal Branch 6/True: [795, 795, 1506]\n",
      "Covered goal Branch 7/False: [795, 795, 1506]\n",
      "Covered goal Branch 8/True: [795, 795, 1506]\n",
      "Iteration 28, missing goals: 1\n",
      "Iteration 29, missing goals: 1\n",
      "Iteration 30, missing goals: 1\n",
      "Iteration 31, missing goals: 1\n",
      "Iteration 32, missing goals: 1\n",
      "Iteration 33, missing goals: 1\n",
      "Iteration 34, missing goals: 1\n",
      "Iteration 35, missing goals: 1\n",
      "Iteration 36, missing goals: 1\n",
      "Iteration 37, missing goals: 1\n",
      "Iteration 38, missing goals: 1\n",
      "Iteration 39, missing goals: 1\n",
      "Iteration 40, missing goals: 1\n",
      "Iteration 41, missing goals: 1\n",
      "Iteration 42, missing goals: 1\n",
      "Iteration 43, missing goals: 1\n",
      "Iteration 44, missing goals: 1\n",
      "Iteration 45, missing goals: 1\n",
      "Iteration 46, missing goals: 1\n",
      "Iteration 47, missing goals: 1\n",
      "Iteration 48, missing goals: 1\n",
      "Iteration 49, missing goals: 1\n",
      "Iteration 50, missing goals: 1\n",
      "Iteration 51, missing goals: 1\n",
      "Iteration 52, missing goals: 1\n",
      "Iteration 53, missing goals: 1\n",
      "Iteration 54, missing goals: 1\n",
      "Iteration 55, missing goals: 1\n",
      "Iteration 56, missing goals: 1\n",
      "Iteration 57, missing goals: 1\n",
      "Iteration 58, missing goals: 1\n",
      "Iteration 59, missing goals: 1\n",
      "Iteration 60, missing goals: 1\n",
      "Iteration 61, missing goals: 1\n",
      "Iteration 62, missing goals: 1\n",
      "Iteration 63, missing goals: 1\n",
      "Iteration 64, missing goals: 1\n",
      "Iteration 65, missing goals: 1\n",
      "Iteration 66, missing goals: 1\n",
      "Iteration 67, missing goals: 1\n",
      "Iteration 68, missing goals: 1\n",
      "Iteration 69, missing goals: 1\n",
      "Iteration 70, missing goals: 1\n",
      "Iteration 71, missing goals: 1\n",
      "Iteration 72, missing goals: 1\n",
      "Iteration 73, missing goals: 1\n",
      "Iteration 74, missing goals: 1\n",
      "Iteration 75, missing goals: 1\n",
      "Iteration 76, missing goals: 1\n",
      "Iteration 77, missing goals: 1\n",
      "Iteration 78, missing goals: 1\n",
      "Iteration 79, missing goals: 1\n",
      "Iteration 80, missing goals: 1\n",
      "Iteration 81, missing goals: 1\n",
      "Iteration 82, missing goals: 1\n",
      "Iteration 83, missing goals: 1\n",
      "Iteration 84, missing goals: 1\n",
      "Iteration 85, missing goals: 1\n",
      "Iteration 86, missing goals: 1\n",
      "Iteration 87, missing goals: 1\n",
      "Iteration 88, missing goals: 1\n",
      "Iteration 89, missing goals: 1\n",
      "Iteration 90, missing goals: 1\n",
      "Iteration 91, missing goals: 1\n",
      "Iteration 92, missing goals: 1\n",
      "Iteration 93, missing goals: 1\n",
      "Iteration 94, missing goals: 1\n",
      "Iteration 95, missing goals: 1\n",
      "Iteration 96, missing goals: 1\n",
      "Iteration 97, missing goals: 1\n",
      "Iteration 98, missing goals: 1\n",
      "Iteration 99, missing goals: 1\n",
      "Iteration 100, missing goals: 1\n",
      "Iteration 101, missing goals: 1\n",
      "Iteration 102, missing goals: 1\n",
      "Iteration 103, missing goals: 1\n",
      "Iteration 104, missing goals: 1\n",
      "Iteration 105, missing goals: 1\n",
      "Covered goal Branch 7/True: [795, 795, 795]\n",
      "Goal Branch 0/True: [-355, 5270, 3507]\n",
      "Goal Branch 0/False: [8011, -5539, -1403]\n",
      "Goal Branch 1/True: [8011, -5539, -1403]\n",
      "Goal Branch 1/False: [1517, 9747, -9387]\n",
      "Goal Branch 2/True: [1517, 9747, -9387]\n",
      "Goal Branch 2/False: [1408, 288, 4543]\n",
      "Goal Branch 3/True: [1408, 288, 4543]\n",
      "Goal Branch 3/False: [9658, 3957, 8739]\n",
      "Goal Branch 4/False: [9658, 3957, 8739]\n",
      "Goal Branch 5/False: [9658, 3957, 8739]\n",
      "Goal Branch 6/False: [9658, 3957, 8739]\n",
      "Goal Branch 8/False: [9658, 3957, 8739]\n",
      "Goal Branch 9/False: [9658, 3957, 8739]\n",
      "Goal Branch 10/False: [9658, 3957, 8739]\n",
      "Goal Branch 5/True: [9658, 3975, 3686]\n",
      "Goal Branch 4/True: [4808, 9908, 3661]\n",
      "Goal Branch 10/True: [1399, 202, 1399]\n",
      "Goal Branch 9/True: [1399, 4581, 4581]\n",
      "Goal Branch 6/True: [795, 795, 1506]\n",
      "Goal Branch 7/False: [795, 795, 1506]\n",
      "Goal Branch 8/True: [795, 795, 1506]\n",
      "Goal Branch 7/True: [795, 795, 795]\n"
     ]
    }
   ],
   "source": [
    "max_gen=500\n",
    "MAX=10000\n",
    "MIN=-MAX\n",
    "result = mosa()\n",
    "for goal, test in result.items():\n",
    "    print(f\"Goal {goal}: {test}\")"
   ]
  },
  {
   "cell_type": "markdown",
   "metadata": {
    "slideshow": {
     "slide_type": "slide"
    }
   },
   "source": [
    "### MIO"
   ]
  },
  {
   "cell_type": "markdown",
   "metadata": {
    "slideshow": {
     "slide_type": "skip"
    }
   },
   "source": [
    "The Many Independent Objective search algorithm (MIO) addresses the problem that in test generation the number of objectives can be very large, and even with MOSA it will likely not be possible to achieve 100% coverage. Instead, the search tries to focus on those goals that are most promising, given the resources available.\n",
    "\n",
    "Arcuri, A. (2017, September). Many independent objective (MIO) algorithm for test suite generation. In International symposium on search based software engineering (pp. 3-17). Springer, Cham.\n"
   ]
  },
  {
   "cell_type": "markdown",
   "metadata": {
    "slideshow": {
     "slide_type": "skip"
    }
   },
   "source": [
    "The MIO algorithm is based on a simple (1+1)EA and maintains an archive of tests. In the archive, for each coverage goal there is a population of $n$ tests. Thus, for $z$ coverage goals there can be up to $n×z$ tests in the archive\n",
    "at the same time. The archive is initially empty, and the first individual is generated randomly. Once there are tests in the archive, MIO probabilistically either samples a new random test, or chooses a test from the archive and mutates a copy of it. For each new/mutated test the fitness is calculated, and the test is added to the archive if needed."
   ]
  },
  {
   "cell_type": "markdown",
   "metadata": {
    "slideshow": {
     "slide_type": "skip"
    }
   },
   "source": [
    "Updating the archive with a test is based a heuristic function that is calculated for each coverage goal. If a goal is covered by a new test, then the archive for that test is replaced with that individual test. If the goal is already covered, then the existing covering test is only replaced if it is better in some other dimension (e.g. size, although that does not apply in or scenario). If the heuristic value is the worst possible value (e.g., the relevant branch predicate is not executed at all and there is no branch distance), then that test is not a candidate for the archive of that goal; else, the test is added to the archive for that goal if the maximum number of tests in that archive has not exceeded a maximum size. If the maximum size is reached, then the new test replaces the worst test in the archive, if it has a better heuristic value."
   ]
  },
  {
   "cell_type": "code",
   "execution_count": 113,
   "metadata": {
    "slideshow": {
     "slide_type": "slide"
    }
   },
   "outputs": [],
   "source": [
    "archive_size = 10\n",
    "def update_mio_archive(archive, t):\n",
    "    for goal in goals:\n",
    "        if goal in archive and len(archive[goal]) == 1 and goal.is_coveredby(archive[goal][0]):\n",
    "            # Goal is already covered\n",
    "            continue\n",
    "        h = goal.get_distance(t)\n",
    "        if h == 0:\n",
    "            # Keep only that test, remove all others            \n",
    "            print(f\"Goal {goal} covered by {t}\")\n",
    "            archive[goal] = [t]\n",
    "\n",
    "        elif h < 1:\n",
    "            if goal not in archive:\n",
    "                archive[goal] = [t]\n",
    "            elif len(archive[goal]) < archive_size and not t in archive[goal]:\n",
    "                archive[goal].append(t)\n",
    "            elif h < goal.get_distance(archive[goal][-1]):\n",
    "                # Replace worst, if this one is better\n",
    "                del archive[goal][-1]\n",
    "                archive[goal].append(t)\n",
    "                \n",
    "            archive[goal].sort(key = lambda t: goal.get_distance(t))"
   ]
  },
  {
   "cell_type": "markdown",
   "metadata": {
    "slideshow": {
     "slide_type": "skip"
    }
   },
   "source": [
    "When sampling a test from the archive in order to produce a new offspring, the algorithm first randomly selects an uncovered goal, and then randomly selects a test for that goal from the archive. If the archive contains no tests for uncovered goals, then it randomly selects a covered goal and uses that test."
   ]
  },
  {
   "cell_type": "code",
   "execution_count": 114,
   "metadata": {
    "slideshow": {
     "slide_type": "slide"
    }
   },
   "outputs": [],
   "source": [
    "def sample_archive(archive):\n",
    "    uncovered_goals = []\n",
    "    for goal, tests in archive.items():\n",
    "        if len(tests) == 1 and goal.is_coveredby(tests[0]):\n",
    "            continue\n",
    "        elif len(tests) > 0:\n",
    "            uncovered_goals.append(goal)\n",
    "            \n",
    "    if not uncovered_goals:\n",
    "        for goal, tests in archive.items():\n",
    "            if len(tests) > 0:\n",
    "                uncovered_goals.append(goal)\n",
    "                \n",
    "    goal = random.choice(uncovered_goals)\n",
    "    \n",
    "    # Now choose one test randomly for \"goal\" in archive\n",
    "    return random.choice(archive[goal])"
   ]
  },
  {
   "cell_type": "markdown",
   "metadata": {
    "slideshow": {
     "slide_type": "skip"
    }
   },
   "source": [
    "As a further improvement of the sampling process, MIO implements feedback directed sampling: The idea is that goals for which we recently achieved an improvement should be preferred, since there is potential to reach a test there, whereas goals for which no improvement has recently been achieved are either difficult or infeasible, and should thus be postponed until the easier targets have been covered. To achieve this, we add a `sample_counter` which counts how often sampling was applied to each goal. Whenever a new test for a goal is added to the archive, the counter is reset to 0. Then, we can rank the goals by their counter, and choose the goal with the lowest counter. To integrate the counter, we need to update our `update_archive` function. While making this change, we also keep track if the archive has been changed, which we will need later:"
   ]
  },
  {
   "cell_type": "code",
   "execution_count": 115,
   "metadata": {
    "slideshow": {
     "slide_type": "slide"
    }
   },
   "outputs": [],
   "source": [
    "sample_counter = {}"
   ]
  },
  {
   "cell_type": "code",
   "execution_count": 116,
   "metadata": {
    "slideshow": {
     "slide_type": "fragment"
    }
   },
   "outputs": [],
   "source": [
    "archive_size = 10\n",
    "def update_mio_archive(archive, t):\n",
    "    updated = False\n",
    "    for goal in goals:\n",
    "        if goal in archive and len(archive[goal]) == 1 and goal.is_coveredby(archive[goal][0]):\n",
    "            # Goal is already covered\n",
    "            continue\n",
    "        h = goal.get_distance(t)\n",
    "        if h == 0:\n",
    "            # Keep only that test, remove all others            \n",
    "            print(f\"Goal {goal} covered by {t}\")\n",
    "            sample_counter[goal] = 0\n",
    "            archive[goal] = [t]\n",
    "            updated = True\n",
    "\n",
    "        elif h < 1:\n",
    "            if goal not in archive:\n",
    "                sample_counter[goal] = 0\n",
    "                archive[goal] = [t]\n",
    "                updated = True\n",
    "            elif len(archive[goal]) < archive_size and not t in archive[goal]:\n",
    "                sample_counter[goal] = 0\n",
    "                updated = True\n",
    "                archive[goal].append(t)\n",
    "            elif h < goal.get_distance(archive[goal][-1]):\n",
    "                # Replace worst, if this one is better\n",
    "                del archive[goal][-1]\n",
    "                sample_counter[goal] = 0\n",
    "                archive[goal].append(t)\n",
    "                updated = True\n",
    "                \n",
    "            archive[goal].sort(key = lambda t: goal.get_distance(t))\n",
    "            \n",
    "    return updated"
   ]
  },
  {
   "cell_type": "markdown",
   "metadata": {
    "slideshow": {
     "slide_type": "skip"
    }
   },
   "source": [
    "Accordingly, we can now update the sampling method to consider the counter:"
   ]
  },
  {
   "cell_type": "code",
   "execution_count": 117,
   "metadata": {
    "slideshow": {
     "slide_type": "slide"
    }
   },
   "outputs": [],
   "source": [
    "def sample_archive(archive):\n",
    "    uncovered_goals = []    \n",
    "    for goal, tests in archive.items():\n",
    "        if len(tests) == 1 and goal.is_coveredby(tests[0]):\n",
    "            continue\n",
    "        elif len(tests) > 0:\n",
    "            uncovered_goals.append(goal)\n",
    "            \n",
    "    if not uncovered_goals:        \n",
    "        for goal, tests in archive.items():            \n",
    "            if len(tests) > 0:\n",
    "                uncovered_goals.append(goal)\n",
    "    \n",
    "    # Shuffle first such that in the case of ties\n",
    "    # we still have some variation\n",
    "    random.shuffle(uncovered_goals)\n",
    "    uncovered_goals.sort(key = lambda g: sample_counter[g])\n",
    "\n",
    "    goal = uncovered_goals[0]\n",
    "    sample_counter[goal] += 1\n",
    "    \n",
    "    # Now choose one test randomly for \"goal\" in archive\n",
    "    return random.choice(archive[goal])"
   ]
  },
  {
   "cell_type": "markdown",
   "metadata": {
    "slideshow": {
     "slide_type": "skip"
    }
   },
   "source": [
    "At the end of the search, for each goal which has exactly one test in the archive and that test covers the goal, this test is part of the resulting test suite:"
   ]
  },
  {
   "cell_type": "code",
   "execution_count": 118,
   "metadata": {
    "slideshow": {
     "slide_type": "slide"
    }
   },
   "outputs": [],
   "source": [
    "def get_solutions(archive):\n",
    "    test_suite = {}\n",
    "    for goal, tests in archive.items():\n",
    "        if len(tests) == 1 and goal.is_coveredby(tests[0]):\n",
    "            test_suite[goal] = tests[0]\n",
    "    return test_suite"
   ]
  },
  {
   "cell_type": "markdown",
   "metadata": {
    "slideshow": {
     "slide_type": "skip"
    }
   },
   "source": [
    "The algorithm itself is now very simple:"
   ]
  },
  {
   "cell_type": "code",
   "execution_count": 119,
   "metadata": {
    "slideshow": {
     "slide_type": "slide"
    }
   },
   "outputs": [],
   "source": [
    "P_sample = 0.7\n",
    "\n",
    "def mio():\n",
    "    archive = {}\n",
    "    \n",
    "    for step in range(max_gen * population_size):\n",
    "        if random.random() < P_sample or len(archive) == 0:\n",
    "            current = get_random_individual()\n",
    "        else:\n",
    "            current = sample_archive(archive)\n",
    "            current = mutate(current)\n",
    "\n",
    "        update_mio_archive(archive, current)\n",
    "        \n",
    "    return get_solutions(archive)\n",
    "    "
   ]
  },
  {
   "cell_type": "code",
   "execution_count": 120,
   "metadata": {
    "scrolled": true,
    "slideshow": {
     "slide_type": "subslide"
    }
   },
   "outputs": [
    {
     "name": "stdout",
     "output_type": "stream",
     "text": [
      "Goal Branch 0/False covered by [5740, -907, -9088]\n",
      "Goal Branch 1/True covered by [5740, -907, -9088]\n",
      "Goal Branch 0/True covered by [-1671, -1412, -197]\n",
      "Goal Branch 1/False covered by [4130, 9785, -3803]\n",
      "Goal Branch 2/True covered by [4130, 9785, -3803]\n",
      "Goal Branch 2/False covered by [2297, 1798, 6250]\n",
      "Goal Branch 3/True covered by [2297, 1798, 6250]\n",
      "Goal Branch 3/False covered by [2347, 564, 2318]\n",
      "Goal Branch 4/False covered by [2347, 564, 2318]\n",
      "Goal Branch 5/False covered by [2347, 564, 2318]\n",
      "Goal Branch 6/False covered by [2347, 564, 2318]\n",
      "Goal Branch 8/False covered by [2347, 564, 2318]\n",
      "Goal Branch 9/False covered by [2347, 564, 2318]\n",
      "Goal Branch 10/False covered by [2347, 564, 2318]\n",
      "Goal Branch 5/True covered by [7891, 5656, 863]\n",
      "Goal Branch 4/True covered by [693, 6864, 3063]\n",
      "Goal Branch 9/True covered by [2398, 2065, 2065]\n",
      "Goal Branch 6/True covered by [9906, 9906, 6749]\n",
      "Goal Branch 7/False covered by [9906, 9906, 6749]\n",
      "Goal Branch 8/True covered by [9906, 9906, 6749]\n",
      "Goal Branch 10/True covered by [2330, 577, 2330]\n",
      "Goal Branch 7/True covered by [9906, 9906, 9906]\n",
      "22\n",
      "Goal Branch 0/True: [-1671, -1412, -197]\n",
      "Goal Branch 0/False: [5740, -907, -9088]\n",
      "Goal Branch 1/True: [5740, -907, -9088]\n",
      "Goal Branch 1/False: [4130, 9785, -3803]\n",
      "Goal Branch 2/True: [4130, 9785, -3803]\n",
      "Goal Branch 2/False: [2297, 1798, 6250]\n",
      "Goal Branch 3/True: [2297, 1798, 6250]\n",
      "Goal Branch 3/False: [2347, 564, 2318]\n",
      "Goal Branch 4/True: [693, 6864, 3063]\n",
      "Goal Branch 4/False: [2347, 564, 2318]\n",
      "Goal Branch 5/True: [7891, 5656, 863]\n",
      "Goal Branch 5/False: [2347, 564, 2318]\n",
      "Goal Branch 6/True: [9906, 9906, 6749]\n",
      "Goal Branch 6/False: [2347, 564, 2318]\n",
      "Goal Branch 8/True: [9906, 9906, 6749]\n",
      "Goal Branch 8/False: [2347, 564, 2318]\n",
      "Goal Branch 9/True: [2398, 2065, 2065]\n",
      "Goal Branch 9/False: [2347, 564, 2318]\n",
      "Goal Branch 10/True: [2330, 577, 2330]\n",
      "Goal Branch 10/False: [2347, 564, 2318]\n",
      "Goal Branch 7/True: [9906, 9906, 9906]\n",
      "Goal Branch 7/False: [9906, 9906, 6749]\n"
     ]
    }
   ],
   "source": [
    "sample_counter = {}\n",
    "result = mio()\n",
    "print(len(result))\n",
    "for goal, test in result.items():\n",
    "    print(f\"Goal {goal}: {test}\")"
   ]
  },
  {
   "cell_type": "markdown",
   "metadata": {
    "slideshow": {
     "slide_type": "skip"
    }
   },
   "source": [
    "As a further refinement, MIO can take into account that, during initial phases of the search more exploration is generally needed, while later phases should focus on exploitation. More exploration means that the probability of sampling a new, random test should be higher, while focusing on exploitation would reduce that probability and focus on improving fewer existing individuals, thus also reducing the archive size. MIO therefore defines two sets of parameters: The probability of sampling new tests, the size of the archive, and the number of mutations applied to the same individual with their initial values, and their values once the focused phase begins:"
   ]
  },
  {
   "cell_type": "code",
   "execution_count": 121,
   "metadata": {
    "slideshow": {
     "slide_type": "slide"
    }
   },
   "outputs": [],
   "source": [
    "P_sample_focused = 0\n",
    "P_sample_first = 0.5\n",
    "\n",
    "archive_size_focused = 10\n",
    "archive_size_first = 10\n",
    "\n",
    "mutations_focused = 10\n",
    "mutations_first = 1\n",
    "\n",
    "# Percentage of search budget spent when focused phase should begin\n",
    "F = 0.5"
   ]
  },
  {
   "cell_type": "markdown",
   "metadata": {
    "slideshow": {
     "slide_type": "skip"
    }
   },
   "source": [
    "From the initial phase to the beginning of the focused phase, the parameters are gradually moved towards their focused values:"
   ]
  },
  {
   "cell_type": "code",
   "execution_count": 122,
   "metadata": {
    "slideshow": {
     "slide_type": "subslide"
    }
   },
   "outputs": [],
   "source": [
    "focused = False\n",
    "def update_parameters(steps, archive):\n",
    "    global focused, P_sample, archive_size, num_mutations, F\n",
    "    progress = steps / (max_gen * population_size)\n",
    "    progress_until_focused = progress / F;\n",
    "    if progress > F:\n",
    "        P_sample = P_sample_focused\n",
    "        archive_size = archive_size_focused\n",
    "        num_mutations = mutations_focused\n",
    "        if not focused:\n",
    "            print(f\"Entering focused phase\")\n",
    "            focused = True\n",
    "    else:\n",
    "        pps = P_sample\n",
    "        pas = archive_size\n",
    "        pnm = num_mutations\n",
    "        \n",
    "        P_sample = P_sample_first + (P_sample_focused - P_sample_first) * progress_until_focused\n",
    "        archive_size = int(archive_size_first + (archive_size_focused - archive_size_first) * progress_until_focused)\n",
    "        num_mutations = int(mutations_first + (mutations_focused - mutations_first) * progress_until_focused)\n",
    "        \n",
    "        if pas != archive_size:\n",
    "            # Crop archives if necessary\n",
    "            for goal in goals:\n",
    "                if goal in archive:\n",
    "                    while len(archive[goal]) > archive_size:\n",
    "                        # Delete worst\n",
    "                        del archive[goal][-1]"
   ]
  },
  {
   "cell_type": "markdown",
   "metadata": {
    "slideshow": {
     "slide_type": "skip"
    }
   },
   "source": [
    "The updated MIO algorithm needs to update the parameters, and also consider the case that the current individual can be mutated multiple times:"
   ]
  },
  {
   "cell_type": "code",
   "execution_count": 123,
   "metadata": {
    "slideshow": {
     "slide_type": "slide"
    }
   },
   "outputs": [],
   "source": [
    "import copy\n",
    "P_sample = 0.7\n",
    "archive_size = 10\n",
    "num_mutations = 1\n",
    "F = 0.5\n",
    "def mio():\n",
    "    sample_counter = {}\n",
    "    archive = {}\n",
    "    update_parameters(0, archive)\n",
    "    current_mutations = 0\n",
    "    current = None\n",
    "    \n",
    "    for step in range(max_gen * population_size):\n",
    "        if current and current_mutations < num_mutations:\n",
    "            offspring = mutate(current)\n",
    "            current_mutations += 1\n",
    "        elif random.random() < P_sample or len(archive) == 0:\n",
    "            offspring = get_random_individual()\n",
    "            current_mutations = 1\n",
    "        else:\n",
    "            offspring = sample_archive(archive)\n",
    "            offspring = mutate(offspring)\n",
    "            current_mutations = 1\n",
    "\n",
    "        update_parameters(step, archive)\n",
    "        result = update_mio_archive(archive, offspring)\n",
    "        if result:\n",
    "            current = copy.deepcopy(offspring)\n",
    "        \n",
    "    return get_solutions(archive)"
   ]
  },
  {
   "cell_type": "code",
   "execution_count": 124,
   "metadata": {
    "scrolled": false,
    "slideshow": {
     "slide_type": "slide"
    }
   },
   "outputs": [
    {
     "name": "stdout",
     "output_type": "stream",
     "text": [
      "Goal Branch 0/False covered by [1339, -8142, 8209]\n",
      "Goal Branch 1/True covered by [1339, -8142, 8209]\n",
      "Goal Branch 0/True covered by [-5710, 2071, -3596]\n",
      "Goal Branch 1/False covered by [5082, 7951, -6382]\n",
      "Goal Branch 2/True covered by [5082, 7951, -6382]\n",
      "Goal Branch 2/False covered by [3383, 2804, 9231]\n",
      "Goal Branch 3/True covered by [3383, 2804, 9231]\n",
      "Goal Branch 3/False covered by [8627, 7994, 954]\n",
      "Goal Branch 4/False covered by [8627, 7994, 954]\n",
      "Goal Branch 5/False covered by [8627, 7994, 954]\n",
      "Goal Branch 6/False covered by [8627, 7994, 954]\n",
      "Goal Branch 8/False covered by [8627, 7994, 954]\n",
      "Goal Branch 9/False covered by [8627, 7994, 954]\n",
      "Goal Branch 10/False covered by [8627, 7994, 954]\n",
      "Goal Branch 4/True covered by [1469, 7994, 933]\n",
      "Goal Branch 5/True covered by [7621, 5327, 2175]\n",
      "Goal Branch 10/True covered by [5457, 5996, 5457]\n",
      "Goal Branch 9/True covered by [4195, 8803, 8803]\n",
      "Goal Branch 6/True covered by [5705, 5705, 7124]\n",
      "Goal Branch 7/False covered by [5705, 5705, 7124]\n",
      "Goal Branch 8/True covered by [5705, 5705, 7124]\n",
      "Goal Branch 7/True covered by [5718, 5718, 5718]\n",
      "Entering focused phase\n",
      "22\n",
      "Goal Branch 0/True: [-5710, 2071, -3596]\n",
      "Goal Branch 0/False: [1339, -8142, 8209]\n",
      "Goal Branch 1/True: [1339, -8142, 8209]\n",
      "Goal Branch 1/False: [5082, 7951, -6382]\n",
      "Goal Branch 2/True: [5082, 7951, -6382]\n",
      "Goal Branch 2/False: [3383, 2804, 9231]\n",
      "Goal Branch 3/True: [3383, 2804, 9231]\n",
      "Goal Branch 3/False: [8627, 7994, 954]\n",
      "Goal Branch 4/True: [1469, 7994, 933]\n",
      "Goal Branch 4/False: [8627, 7994, 954]\n",
      "Goal Branch 5/True: [7621, 5327, 2175]\n",
      "Goal Branch 5/False: [8627, 7994, 954]\n",
      "Goal Branch 6/True: [5705, 5705, 7124]\n",
      "Goal Branch 6/False: [8627, 7994, 954]\n",
      "Goal Branch 8/True: [5705, 5705, 7124]\n",
      "Goal Branch 8/False: [8627, 7994, 954]\n",
      "Goal Branch 9/True: [4195, 8803, 8803]\n",
      "Goal Branch 9/False: [8627, 7994, 954]\n",
      "Goal Branch 10/True: [5457, 5996, 5457]\n",
      "Goal Branch 10/False: [8627, 7994, 954]\n",
      "Goal Branch 7/True: [5718, 5718, 5718]\n",
      "Goal Branch 7/False: [5705, 5705, 7124]\n"
     ]
    }
   ],
   "source": [
    "sample_counter = {}\n",
    "focused = False\n",
    "result = mio()\n",
    "print(len(result))\n",
    "for goal, test in result.items():\n",
    "    print(f\"Goal {goal}: {test}\")"
   ]
  },
  {
   "cell_type": "markdown",
   "metadata": {
    "slideshow": {
     "slide_type": "slide"
    }
   },
   "source": [
    "### Evaluation"
   ]
  },
  {
   "cell_type": "markdown",
   "metadata": {
    "slideshow": {
     "slide_type": "skip"
    }
   },
   "source": [
    "The hypervolume is less suitable to evaluate the results of these algorithms -- in MIO we don't have an explicit Pareto front, and even though in MOSA we do have a first front, test cases that do not quite cover a coverage goal are of no practical use. The metric we therefore consider is the number of coverage goals satisfied. For our implementations of MIO and MOSA we can see this number from the number of tests in a test suite."
   ]
  },
  {
   "cell_type": "code",
   "execution_count": 125,
   "metadata": {
    "slideshow": {
     "slide_type": "slide"
    }
   },
   "outputs": [],
   "source": [
    "from IPython.utils import io\n",
    "\n",
    "def run_times(algorithm, repetitions):\n",
    "    global fitness_values, diversity_values, ims\n",
    "    result = []\n",
    "    for i in range(repetitions):\n",
    "        with io.capture_output() as captured: \n",
    "            testsuite = algorithm()\n",
    "        result.append(len(testsuite) / len(goals))\n",
    "    return result"
   ]
  },
  {
   "cell_type": "markdown",
   "metadata": {
    "slideshow": {
     "slide_type": "skip"
    }
   },
   "source": [
    "Let's increase the difficulty of the search problem somewhat so we can actually see some differences:"
   ]
  },
  {
   "cell_type": "code",
   "execution_count": 126,
   "metadata": {
    "slideshow": {
     "slide_type": "fragment"
    }
   },
   "outputs": [],
   "source": [
    "MAX=1000000\n",
    "MIN=-MAX"
   ]
  },
  {
   "cell_type": "code",
   "execution_count": 127,
   "metadata": {
    "slideshow": {
     "slide_type": "slide"
    }
   },
   "outputs": [
    {
     "data": {
      "text/plain": [
       "[Text(1, 0, 'MIO'), Text(2, 0, 'MOSA')]"
      ]
     },
     "execution_count": 127,
     "metadata": {},
     "output_type": "execute_result"
    },
    {
     "data": {
      "image/png": "[encoded data removed]",
      "text/plain": [
       "<Figure size 432x288 with 1 Axes>"
      ]
     },
     "metadata": {
      "needs_background": "light"
     },
     "output_type": "display_data"
    }
   ],
   "source": [
    "results = {\"MIO\"  : run_times(mio, 10), \n",
    "           \"MOSA\" : run_times(mosa, 10)}\n",
    "fig, ax = plt.subplots()\n",
    "ax.boxplot(results.values())\n",
    "ax.set_xticklabels(results.keys())"
   ]
  },
  {
   "cell_type": "markdown",
   "metadata": {
    "slideshow": {
     "slide_type": "slide"
    }
   },
   "source": [
    "### Variable Length Tests"
   ]
  },
  {
   "cell_type": "markdown",
   "metadata": {
    "slideshow": {
     "slide_type": "skip"
    }
   },
   "source": [
    "The `cgi_decode()` function originates in the book _Pezzè, M., & Young, M. (2008). Software testing and analysis: process, principles, and techniques. John Wiley & Sons._, and we will use the Python implementation used in the [Fuzzingbook](https://www.fuzzingbook.org/). It takes as input a string using the CGI encoding common for HTTP-Get queries, and returns a decoded string."
   ]
  },
  {
   "cell_type": "code",
   "execution_count": 128,
   "metadata": {
    "slideshow": {
     "slide_type": "fragment"
    }
   },
   "outputs": [],
   "source": [
    "def cgi_decode(s):\n",
    "    \"\"\"Decode the CGI-encoded string `s`:\n",
    "       * replace \"+\" by \" \"\n",
    "       * replace \"%xx\" by the character with hex number xx.\n",
    "       Return the decoded string.  Raise `ValueError` for invalid inputs.\"\"\"\n",
    "\n",
    "    # Mapping of hex digits to their integer values\n",
    "    hex_values = {\n",
    "        '0': 0, '1': 1, '2': 2, '3': 3, '4': 4,\n",
    "        '5': 5, '6': 6, '7': 7, '8': 8, '9': 9,\n",
    "        'a': 10, 'b': 11, 'c': 12, 'd': 13, 'e': 14, 'f': 15,\n",
    "        'A': 10, 'B': 11, 'C': 12, 'D': 13, 'E': 14, 'F': 15,\n",
    "    }\n",
    "\n",
    "    t = \"\"\n",
    "    i = 0\n",
    "    while i < len(s):\n",
    "        c = s[i]\n",
    "        if c == '+':\n",
    "            t += ' '\n",
    "        elif c == '%':\n",
    "            digit_high, digit_low = s[i + 1], s[i + 2]\n",
    "            i += 2\n",
    "            if digit_high in hex_values and digit_low in hex_values:\n",
    "                v = hex_values[digit_high] * 16 + hex_values[digit_low]\n",
    "                t += chr(v)\n",
    "            else:\n",
    "                raise ValueError(\"Invalid encoding\")\n",
    "        else:\n",
    "            t += c\n",
    "        i += 1\n",
    "    return t"
   ]
  },
  {
   "cell_type": "markdown",
   "metadata": {
    "slideshow": {
     "slide_type": "skip"
    }
   },
   "source": [
    "As usual, we can apply the source transformation to calculate our branch distances and determine the total number of goals:"
   ]
  },
  {
   "cell_type": "code",
   "execution_count": 129,
   "metadata": {
    "slideshow": {
     "slide_type": "slide"
    }
   },
   "outputs": [
    {
     "name": "stdout",
     "output_type": "stream",
     "text": [
      "def cgi_decode_instrumented(s):\n",
      "    \"\"\"Decode the CGI-encoded string `s`:\n",
      "       * replace \"+\" by \" \"\n",
      "       * replace \"%xx\" by the character with hex number xx.\n",
      "       Return the decoded string.  Raise `ValueError` for invalid inputs.\"\"\"\n",
      "    hex_values = {'0': 0, '1': 1, '2': 2, '3': 3, '4': 4, '5': 5, '6': 6,\n",
      "        '7': 7, '8': 8, '9': 9, 'a': 10, 'b': 11, 'c': 12, 'd': 13, 'e': 14,\n",
      "        'f': 15, 'A': 10, 'B': 11, 'C': 12, 'D': 13, 'E': 14, 'F': 15}\n",
      "    t = ''\n",
      "    i = 0\n",
      "    while evaluate_condition(0, 'Lt', i, len(s)):\n",
      "        c = s[i]\n",
      "        if evaluate_condition(1, 'Eq', c, '+'):\n",
      "            t += ' '\n",
      "        elif evaluate_condition(2, 'Eq', c, '%'):\n",
      "            digit_high, digit_low = s[i + 1], s[i + 2]\n",
      "            i += 2\n",
      "            if evaluate_condition(3, 'In', digit_high, hex_values\n",
      "                ) and evaluate_condition(4, 'In', digit_low, hex_values):\n",
      "                v = hex_values[digit_high] * 16 + hex_values[digit_low]\n",
      "                t += chr(v)\n",
      "            else:\n",
      "                raise ValueError('Invalid encoding')\n",
      "        else:\n",
      "            t += c\n",
      "        i += 1\n",
      "    return t\n",
      "\n"
     ]
    }
   ],
   "source": [
    "source = inspect.getsource(cgi_decode)\n",
    "node = ast.parse(source)\n",
    "transformer = BranchTransformer()\n",
    "transformer.visit(node)\n",
    "node = ast.fix_missing_locations(node)\n",
    "num_branches = transformer.branch_num\n",
    "print(astor.to_source(node))"
   ]
  },
  {
   "cell_type": "code",
   "execution_count": 130,
   "metadata": {
    "slideshow": {
     "slide_type": "skip"
    }
   },
   "outputs": [],
   "source": [
    "create_instrumented_function(cgi_decode)"
   ]
  },
  {
   "cell_type": "code",
   "execution_count": 131,
   "metadata": {
    "slideshow": {
     "slide_type": "skip"
    }
   },
   "outputs": [
    {
     "data": {
      "text/plain": [
       "10"
      ]
     },
     "execution_count": 131,
     "metadata": {},
     "output_type": "execute_result"
    }
   ],
   "source": [
    "goals = [Goal(num, val) for num in range(num_branches) for val in [True, False]]\n",
    "len(goals)"
   ]
  },
  {
   "cell_type": "markdown",
   "metadata": {
    "slideshow": {
     "slide_type": "skip"
    }
   },
   "source": [
    "In order to apply search to this problem, we first need to update our `evaluate` function so that it calls `cgi_decoded_instrumented`. We also need to take into account that calling the function may throw an exception:"
   ]
  },
  {
   "cell_type": "code",
   "execution_count": 132,
   "metadata": {
    "slideshow": {
     "slide_type": "slide"
    }
   },
   "outputs": [],
   "source": [
    "def evaluate(individual):\n",
    "    global distances_true, distances_false\n",
    "    distances_true =  {x: 1.0 for x in range(num_branches)}\n",
    "    distances_false = {x: 1.0 for x in range(num_branches)}\n",
    "\n",
    "    try:\n",
    "        cgi_decode_instrumented(''.join(individual))\n",
    "    except:\n",
    "        pass\n",
    "\n",
    "    individual.distances = {}\n",
    "    for goal in goals:\n",
    "        if goal.value:\n",
    "            individual.distances[goal] = distances_true[goal.branch]\n",
    "        else:\n",
    "            individual.distances[goal] = distances_false[goal.branch]"
   ]
  },
  {
   "cell_type": "markdown",
   "metadata": {
    "slideshow": {
     "slide_type": "skip"
    }
   },
   "source": [
    "Now we need to decide on a representation. A simple way to encode strings is as a list of characters; this way, we don't need to make many changes to our existing operators. As another modification, we restrict the range to printable characters. However, what length should we use for our tests? If we fix the length, then we might end up with redundantly long strings. Therefore, let's use a variable size representation:"
   ]
  },
  {
   "cell_type": "code",
   "execution_count": 133,
   "metadata": {
    "slideshow": {
     "slide_type": "slide"
    }
   },
   "outputs": [],
   "source": [
    "string_length = 10\n",
    "def get_random_individual():\n",
    "    s = []\n",
    "    length = random.randint(1, string_length)\n",
    "    for i in range(string_length):\n",
    "        s.append(chr(random.randrange(32, 127)))\n",
    "    individual = L(s)\n",
    "\n",
    "    evaluate(individual)\n",
    "    return individual"
   ]
  },
  {
   "cell_type": "code",
   "execution_count": 134,
   "metadata": {
    "slideshow": {
     "slide_type": "subslide"
    }
   },
   "outputs": [],
   "source": [
    "def mutate(solution):\n",
    "    P_mutate = 1/len(solution) if solution else 0\n",
    "    result = []\n",
    "    for position in range(len(solution)):\n",
    "        if random.random() > P_mutate:\n",
    "            result.append(solution[position])\n",
    "    for position in range(len(result)):\n",
    "        if random.random() < P_mutate:\n",
    "            result[position] = chr(int(random.gauss(ord(result[position]), 100) % 65536))\n",
    "    ALPHA = 0.1\n",
    "    count = 1\n",
    "    while random.random() < ALPHA ** count and len(result) < string_length:\n",
    "        count += 1\n",
    "        pos = random.randint(0, len(result))\n",
    "        result.insert(pos, chr(random.randrange(32, 127)))\n",
    "            \n",
    "    mutated = L(result)\n",
    "    evaluate(mutated)\n",
    "    return mutated"
   ]
  },
  {
   "cell_type": "markdown",
   "metadata": {
    "slideshow": {
     "slide_type": "skip"
    }
   },
   "source": [
    "MOSA and MIO both allow for secondary optimisation criteria: If we have already covered a test goal but have now found a new test that is shorter, we can replace the existing test in the archive. We thus need to update the archive updating functions of both algorithms to take this into account:"
   ]
  },
  {
   "cell_type": "code",
   "execution_count": 135,
   "metadata": {
    "slideshow": {
     "slide_type": "slide"
    }
   },
   "outputs": [],
   "source": [
    "def update_archive(archive, population):\n",
    "    \n",
    "    for test in population:\n",
    "        for goal in goals:\n",
    "            if goal.is_coveredby(test):\n",
    "                if not goal in archive or len(test) < len(archive[goal]):\n",
    "                    archive[goal] = L(test[:])\n",
    "                    print(f\"Covered goal {goal}: {test}\")"
   ]
  },
  {
   "cell_type": "code",
   "execution_count": 136,
   "metadata": {
    "slideshow": {
     "slide_type": "slide"
    }
   },
   "outputs": [],
   "source": [
    "def update_mio_archive(archive, t):\n",
    "    updated = False\n",
    "    for goal in goals:\n",
    "        h = goal.get_distance(t)\n",
    "        if h == 0:\n",
    "            if not goal in archive or not goal.is_coveredby(archive[goal][0]):\n",
    "                print(f\"Goal {goal} covered by {t}: {goal in archive}\")\n",
    "                sample_counter[goal] = 0\n",
    "                archive[goal] = [t]\n",
    "                updated = True\n",
    "            elif goal.is_coveredby(archive[goal][0]):\n",
    "                # Goal is already covered\n",
    "                if len(t) < len(archive[goal][0]):\n",
    "                    sample_counter[goal] = 0\n",
    "                    archive[goal] = [t]\n",
    "                    updated = True\n",
    "\n",
    "        elif h < 1:\n",
    "            if goal in archive and len(archive[goal]) == 1 and goal.is_coveredby(archive[goal][0]):\n",
    "                # Goal is already covered\n",
    "                continue\n",
    "            if goal not in archive:\n",
    "                sample_counter[goal] = 0\n",
    "                archive[goal] = [t]\n",
    "                updated = True\n",
    "            elif len(archive[goal]) < archive_size and not t in archive[goal]:\n",
    "                sample_counter[goal] = 0\n",
    "                updated = True\n",
    "                archive[goal].append(t)\n",
    "            elif h < goal.get_distance(archive[goal][-1]):\n",
    "                # Replace worst, if this one is better\n",
    "                del archive[goal][-1]\n",
    "                sample_counter[goal] = 0\n",
    "                archive[goal].append(t)\n",
    "                updated = True\n",
    "                \n",
    "            archive[goal].sort(key = lambda t: goal.get_distance(t))\n",
    "            \n",
    "    return updated"
   ]
  },
  {
   "cell_type": "markdown",
   "metadata": {
    "slideshow": {
     "slide_type": "skip"
    }
   },
   "source": [
    "Without any further changes, we can now apply MOSA and MIO on this test generation problem:"
   ]
  },
  {
   "cell_type": "code",
   "execution_count": 137,
   "metadata": {
    "scrolled": false,
    "slideshow": {
     "slide_type": "slide"
    }
   },
   "outputs": [
    {
     "name": "stdout",
     "output_type": "stream",
     "text": [
      "Goal Branch 0/True covered by ['+', 't', '{', 'Y', 'I', 'S', '.', 'N', 'W', 'R']: False\n",
      "Goal Branch 0/False covered by ['+', 't', '{', 'Y', 'I', 'S', '.', 'N', 'W', 'R']: False\n",
      "Goal Branch 1/True covered by ['+', 't', '{', 'Y', 'I', 'S', '.', 'N', 'W', 'R']: False\n",
      "Goal Branch 1/False covered by ['+', 't', '{', 'Y', 'I', 'S', '.', 'N', 'W', 'R']: False\n",
      "Goal Branch 2/False covered by ['+', 't', '{', 'Y', 'I', 'S', '.', 'N', 'W', 'R']: False\n",
      "Goal Branch 2/True covered by ['N', '}', '$', '_', '%', 'A', '\\\\', 'w', '-', 'h']: True\n",
      "Goal Branch 3/True covered by ['N', '}', '$', '_', '%', 'A', '\\\\', 'w', '-', 'h']: False\n",
      "Goal Branch 4/False covered by ['N', '}', '$', '_', '%', 'A', '\\\\', 'w', '-', 'h']: False\n",
      "Goal Branch 3/False covered by [']', 's', '[', '|', 'g', '&', '2', '%', '>', '*']: True\n",
      "Goal Branch 4/True covered by ['N', '}', '%', 'A', '6', '\\\\', '-']: True\n",
      "10\n",
      "Goal Branch 0/True: ö\n",
      "Goal Branch 0/False: \n",
      "Goal Branch 1/True: +\n",
      "Goal Branch 1/False: ö\n",
      "Goal Branch 2/True: %\n",
      "Goal Branch 2/False: ö\n",
      "Goal Branch 3/True: %A-\n",
      "Goal Branch 3/False: %G&\n",
      "Goal Branch 4/True: %A0\n",
      "Goal Branch 4/False: %A-\n"
     ]
    }
   ],
   "source": [
    "result = mio()\n",
    "print(len(result))\n",
    "for goal, test in result.items():\n",
    "    print(f\"Goal {goal}: {''.join(test)}\")"
   ]
  },
  {
   "cell_type": "code",
   "execution_count": 138,
   "metadata": {
    "scrolled": true,
    "slideshow": {
     "slide_type": "subslide"
    }
   },
   "outputs": [
    {
     "name": "stdout",
     "output_type": "stream",
     "text": [
      "Covered goal Branch 0/True: ['{', '1', '6', 'I', '9', '4', '2', 'j', '2', '}']\n",
      "Covered goal Branch 0/False: ['{', '1', '6', 'I', '9', '4', '2', 'j', '2', '}']\n",
      "Covered goal Branch 1/False: ['{', '1', '6', 'I', '9', '4', '2', 'j', '2', '}']\n",
      "Covered goal Branch 2/False: ['{', '1', '6', 'I', '9', '4', '2', 'j', '2', '}']\n",
      "Covered goal Branch 1/True: ['T', ' ', '9', '0', 'I', '[', 'T', '+', ']', '(']\n",
      "Covered goal Branch 2/True: ['C', '+', 'k', '&', '-', 't', 'q', '%', '3', 'L']\n",
      "Covered goal Branch 3/True: ['C', '+', 'k', '&', '-', 't', 'q', '%', '3', 'L']\n",
      "Covered goal Branch 4/False: ['C', '+', 'k', '&', '-', 't', 'q', '%', '3', 'L']\n",
      "Covered goal Branch 3/False: ['f', '7', '%', 'k', '!', '+', '[', 'M', 'U', 'c']\n",
      "Iteration 0, missing goals: 1\n",
      "Covered goal Branch 0/True: ['C', '+', 'k', '&', 'k', '&', '\\uffc0', '2', 'w']\n",
      "Covered goal Branch 0/False: ['C', '+', 'k', '&', 'k', '&', '\\uffc0', '2', 'w']\n",
      "Covered goal Branch 1/True: ['C', '+', 'k', '&', 'k', '&', '\\uffc0', '2', 'w']\n",
      "Covered goal Branch 1/False: ['C', '+', 'k', '&', 'k', '&', '\\uffc0', '2', 'w']\n",
      "Covered goal Branch 2/False: ['C', '+', 'k', '&', 'k', '&', '\\uffc0', '2', 'w']\n",
      "Covered goal Branch 0/True: ['\"', 'k', 't', '%', '3', 'L']\n",
      "Covered goal Branch 1/False: ['\"', 'k', 't', '%', '3', 'L']\n",
      "Covered goal Branch 2/True: ['\"', 'k', 't', '%', '3', 'L']\n",
      "Covered goal Branch 2/False: ['\"', 'k', 't', '%', '3', 'L']\n",
      "Covered goal Branch 3/True: ['\"', 'k', 't', '%', '3', 'L']\n",
      "Covered goal Branch 4/False: ['\"', 'k', 't', '%', '3', 'L']\n",
      "Covered goal Branch 3/False: ['*', 't', '&', '%', \"'\", 'C', 'I', 'E', ' ']\n",
      "Covered goal Branch 3/False: ['P', '?', 'W', 'y', '%', '[', '`', '¦']\n",
      "Covered goal Branch 0/False: [\"'\", '#', 'õ', '+', '0', 'v', 'L', 'E']\n",
      "Covered goal Branch 1/True: [\"'\", '#', 'õ', '+', '0', 'v', 'L', 'E']\n",
      "Covered goal Branch 0/False: ['-', 'd', 'I', '\\x85', '&', '#', '\\\\']\n",
      "Iteration 1, missing goals: 1\n",
      "Covered goal Branch 3/False: ['\"', '\\ufffe', 't', '{', '%', 'L', '\\\\']\n",
      "Iteration 2, missing goals: 1\n",
      "Covered goal Branch 4/True: ['*', 't', '&', '1', '%', 'E', 'd', 'T']\n",
      "Covered goal Branch 0/False: ['P', 'z', '\\ufff0', '+', '2', '&']\n",
      "Covered goal Branch 1/True: ['P', 'z', '\\ufff0', '+', '2', '&']\n",
      "Covered goal Branch 3/False: ['C', '\\ufff1', '%', '[', '`', '¦']\n",
      "Covered goal Branch 4/True: ['*', 't', '1', '%', 'E', 'd', 'T']\n",
      "Covered goal Branch 0/True: ['&', '1', '%', 'E', '.']\n",
      "Covered goal Branch 1/False: ['&', '1', '%', 'E', '.']\n",
      "Covered goal Branch 2/True: ['&', '1', '%', 'E', '.']\n",
      "Covered goal Branch 2/False: ['&', '1', '%', 'E', '.']\n",
      "Covered goal Branch 3/True: ['&', '1', '%', 'E', '.']\n",
      "Covered goal Branch 4/False: ['&', '1', '%', 'E', '.']\n",
      "Covered goal Branch 4/True: ['C', '+', '%', 'E', 'd', 'T']\n",
      "Covered goal Branch 0/False: ['I', '+', '\\x1b', '&', '\\uffd9']\n",
      "Covered goal Branch 1/True: ['I', '+', '\\x1b', '&', '\\uffd9']\n",
      "Covered goal Branch 3/False: ['%', 'k', '+', 'ﾩ', '\\x16']\n",
      "Covered goal Branch 4/True: ['+', '%', 'E', 'd', 'T']\n",
      "Covered goal Branch 0/True: ['+', '%', 'E', '@']\n",
      "Covered goal Branch 1/True: ['+', '%', 'E', '@']\n",
      "Covered goal Branch 1/False: ['+', '%', 'E', '@']\n",
      "Covered goal Branch 2/True: ['+', '%', 'E', '@']\n",
      "Covered goal Branch 3/True: ['+', '%', 'E', '@']\n",
      "Covered goal Branch 4/False: ['+', '%', 'E', '@']\n",
      "Covered goal Branch 0/True: ['+', '\\x1c', '@']\n",
      "Covered goal Branch 0/False: ['+', '\\x1c', '@']\n",
      "Covered goal Branch 1/True: ['+', '\\x1c', '@']\n",
      "Covered goal Branch 1/False: ['+', '\\x1c', '@']\n",
      "Covered goal Branch 2/False: ['+', '\\x1c', '@']\n",
      "Covered goal Branch 0/True: ['+', '\"']\n",
      "Covered goal Branch 0/False: ['+', '\"']\n",
      "Covered goal Branch 1/True: ['+', '\"']\n",
      "Covered goal Branch 1/False: ['+', '\"']\n",
      "Covered goal Branch 2/False: ['+', '\"']\n",
      "10\n",
      "Goal Branch 0/True: +\"\n",
      "Goal Branch 0/False: +\"\n",
      "Goal Branch 1/False: +\"\n",
      "Goal Branch 2/False: +\"\n",
      "Goal Branch 1/True: +\"\n",
      "Goal Branch 2/True: +%E@\n",
      "Goal Branch 3/True: +%E@\n",
      "Goal Branch 4/False: +%E@\n",
      "Goal Branch 3/False: %k+ﾩ\u0016\n",
      "Goal Branch 4/True: +%EdT\n"
     ]
    }
   ],
   "source": [
    "result = mosa()\n",
    "print(len(result))\n",
    "for goal, test in result.items():\n",
    "    print(f\"Goal {goal}: {''.join(test)}\")"
   ]
  },
  {
   "cell_type": "markdown",
   "metadata": {
    "slideshow": {
     "slide_type": "skip"
    }
   },
   "source": [
    "In the final test suites, there should be tests containing the character `+`, there should be invalid hex codes, valid hexcodes, and some non-escaped characters. There will be some redundancy in the overall test suite: The same test may cover multiple goals. Minimising the final test suite further, however, is another optimisation problem."
   ]
  }
 ],
 "metadata": {
  "celltoolbar": "Slideshow",
  "kernelspec": {
   "display_name": "3.8.6",
   "language": "python",
   "name": "3.8.6"
  },
  "language_info": {
   "codemirror_mode": {
    "name": "ipython",
    "version": 3
   },
   "file_extension": ".py",
   "mimetype": "text/x-python",
   "name": "python",
   "nbconvert_exporter": "python",
   "pygments_lexer": "ipython3",
   "version": "3.8.6"
  }
 },
 "nbformat": 4,
 "nbformat_minor": 4
}
