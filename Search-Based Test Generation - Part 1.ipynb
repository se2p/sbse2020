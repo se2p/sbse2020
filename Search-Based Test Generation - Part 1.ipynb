{
 "cells": [
  {
   "cell_type": "markdown",
   "metadata": {},
   "source": [
    "# Search-Based Test Generation (Part 1)"
   ]
  },
  {
   "cell_type": "code",
   "execution_count": 1,
   "metadata": {},
   "outputs": [],
   "source": [
    "import random\n",
    "import matplotlib.pyplot as plt\n",
    "import numpy as np\n",
    "from mpl_toolkits.mplot3d import Axes3D"
   ]
  },
  {
   "cell_type": "markdown",
   "metadata": {},
   "source": [
    "## The Test Data Generation Problem"
   ]
  },
  {
   "cell_type": "markdown",
   "metadata": {},
   "source": [
    "The problem we will consider in this chapter is the following: Given an entry point to a program (a function), we want to find values for the parameters of this function such that the execution of the function reaches a particular point in the program. In other words, we aim to find a test input to the program that covers a target statement. We will then generalise this problem to finding test inputs to cover _all_ statements in the program."
   ]
  },
  {
   "cell_type": "markdown",
   "metadata": {},
   "source": [
    "Assume we are aiming to test the following function under test:"
   ]
  },
  {
   "cell_type": "code",
   "execution_count": 2,
   "metadata": {},
   "outputs": [],
   "source": [
    "def test_me(x, y):\n",
    "    if x == 2 * (y + 1):\n",
    "        return True\n",
    "    else:\n",
    "        return False"
   ]
  },
  {
   "cell_type": "markdown",
   "metadata": {},
   "source": [
    "The `test_me` function has two input parameters, `x`and `y`, and it returns `True` or `False` depending on how the parameters relate:"
   ]
  },
  {
   "cell_type": "code",
   "execution_count": 3,
   "metadata": {},
   "outputs": [
    {
     "data": {
      "text/plain": [
       "False"
      ]
     },
     "execution_count": 3,
     "metadata": {},
     "output_type": "execute_result"
    }
   ],
   "source": [
    "test_me(10, 10)"
   ]
  },
  {
   "cell_type": "code",
   "execution_count": 4,
   "metadata": {},
   "outputs": [
    {
     "data": {
      "text/plain": [
       "True"
      ]
     },
     "execution_count": 4,
     "metadata": {},
     "output_type": "execute_result"
    }
   ],
   "source": [
    "test_me(22, 10)"
   ]
  },
  {
   "cell_type": "markdown",
   "metadata": {},
   "source": [
    "In order to address the test generation problem as a search problem, we need to decide on an encoding, and derive appropriate search operators. It is possible to use bitvectors like we did on previous problems; however, a simpler interpretation of the parameters of a function is a list of the actual parameters. That is, we encode a test input as a list of parameters; we will start by assuming that all parameters are numeric."
   ]
  },
  {
   "cell_type": "markdown",
   "metadata": {},
   "source": [
    "The representation for inputs of this function is lists of length two, one element for `x` and one for `y`. As numeric values in Python are unbounded, we need to decide on some finite bounds for these values, e.g.:"
   ]
  },
  {
   "cell_type": "code",
   "execution_count": 5,
   "metadata": {},
   "outputs": [],
   "source": [
    "MAX=1000\n",
    "MIN=-MAX"
   ]
  },
  {
   "cell_type": "markdown",
   "metadata": {},
   "source": [
    "For generating inputs we can now uniformly sample in the range (MIN, MAX). The length of the vector shall be the number of parameters of the function under test. Rather than hard coding such a parameter, we can also make our approach generalise better by using inspection to determine how many parameters the function under test has:"
   ]
  },
  {
   "cell_type": "code",
   "execution_count": 6,
   "metadata": {
    "scrolled": true
   },
   "outputs": [
    {
     "data": {
      "text/plain": [
       "2"
      ]
     },
     "execution_count": 6,
     "metadata": {},
     "output_type": "execute_result"
    }
   ],
   "source": [
    "from inspect import signature\n",
    "sig = signature(test_me)\n",
    "num_parameters = len(sig.parameters)\n",
    "num_parameters"
   ]
  },
  {
   "cell_type": "markdown",
   "metadata": {},
   "source": [
    "As usual, we will define the representation implicitly using a function that produces random instances."
   ]
  },
  {
   "cell_type": "code",
   "execution_count": 7,
   "metadata": {},
   "outputs": [],
   "source": [
    "def get_random_individual():\n",
    "    return [random.randint(MIN, MAX) for _ in range(num_parameters)]"
   ]
  },
  {
   "cell_type": "code",
   "execution_count": 8,
   "metadata": {},
   "outputs": [
    {
     "data": {
      "text/plain": [
       "[-421, -73]"
      ]
     },
     "execution_count": 8,
     "metadata": {},
     "output_type": "execute_result"
    }
   ],
   "source": [
    "get_random_individual()"
   ]
  },
  {
   "cell_type": "markdown",
   "metadata": {},
   "source": [
    "We need to define search operators matching this representation. To apply local search, we need to define the neighbourhood. For example, we could define one upper and one lower neighbour for each parameter:\n",
    "\n",
    "- `x-1, y`\n",
    "- `x+1, y`\n",
    "- `x, y+1`\n",
    "- `x, y-1`"
   ]
  },
  {
   "cell_type": "code",
   "execution_count": 9,
   "metadata": {},
   "outputs": [],
   "source": [
    "def get_neighbours(individual):\n",
    "    neighbours = []\n",
    "    for p in range(len(individual)):\n",
    "        if individual[p] > MIN:\n",
    "            neighbour = individual[:]\n",
    "            neighbour[p] = individual[p] - 1\n",
    "            neighbours.append(neighbour)\n",
    "        if individual[p] < MAX:\n",
    "            neighbour = individual[:]\n",
    "            neighbour[p] = individual[p] + 1\n",
    "            neighbours.append(neighbour)\n",
    "            \n",
    "    return neighbours"
   ]
  },
  {
   "cell_type": "code",
   "execution_count": 10,
   "metadata": {},
   "outputs": [
    {
     "data": {
      "text/plain": [
       "[80, -479]"
      ]
     },
     "execution_count": 10,
     "metadata": {},
     "output_type": "execute_result"
    }
   ],
   "source": [
    "x = get_random_individual()\n",
    "x"
   ]
  },
  {
   "cell_type": "code",
   "execution_count": 11,
   "metadata": {},
   "outputs": [
    {
     "data": {
      "text/plain": [
       "[[79, -479], [81, -479], [80, -480], [80, -478]]"
      ]
     },
     "execution_count": 11,
     "metadata": {},
     "output_type": "execute_result"
    }
   ],
   "source": [
    "get_neighbours(x)"
   ]
  },
  {
   "cell_type": "markdown",
   "metadata": {},
   "source": [
    "Before we can apply search, we also need to define a fitness function.  Suppose that we are interested in covering the `True` branch of the if-condition in the `test_me()` function, i.e. `x == 2 * (y + 1)`.\n",
    "\n",
    "How close is a given input tuple for this function from reaching the target branch? Let's consider an arbitrary point in the search space, e.g. `(274, 153)`. The if-condition compares the following values:"
   ]
  },
  {
   "cell_type": "code",
   "execution_count": 12,
   "metadata": {},
   "outputs": [
    {
     "data": {
      "text/plain": [
       "(274, 308)"
      ]
     },
     "execution_count": 12,
     "metadata": {},
     "output_type": "execute_result"
    }
   ],
   "source": [
    "x = 274\n",
    "y = 153\n",
    "x, 2 * (y + 1)"
   ]
  },
  {
   "cell_type": "markdown",
   "metadata": {},
   "source": [
    "In order to make the branch true, both values need to be the same. Thus, the more they differ, the further we are away from making the comparison true, and the less they differ, the closer we are from making the comparison true. Thus, we can quantify \"how false\" the comparison is by calculating the difference between `x` and `2 * (y + 1)`. Thus, we can calculate this distance as `abs(x - 2 * (y + 1))`:"
   ]
  },
  {
   "cell_type": "code",
   "execution_count": 13,
   "metadata": {},
   "outputs": [],
   "source": [
    "def calculate_distance(x, y):\n",
    "    return abs(x - 2 * (y + 1))"
   ]
  },
  {
   "cell_type": "code",
   "execution_count": 14,
   "metadata": {},
   "outputs": [
    {
     "data": {
      "text/plain": [
       "34"
      ]
     },
     "execution_count": 14,
     "metadata": {},
     "output_type": "execute_result"
    }
   ],
   "source": [
    "calculate_distance(274, 153)"
   ]
  },
  {
   "cell_type": "markdown",
   "metadata": {},
   "source": [
    "We can use this distance value as our fitness function, since we can nicely measure how close we are to an optimal solution. Note, however, that \"better\" doesn't mean \"bigger\" in this case; the smaller the distance the better. This is not a problem, since any algorithm that can maximize a value can also be made to minimize it instead.\n",
    "\n",
    "For each value in the search space of integer tuples, this distance value defines the elevation in our search landscape. Since our example search space is two-dimensional, the search landscape is three-dimensional and we can plot it to see what it looks like:"
   ]
  },
  {
   "cell_type": "code",
   "execution_count": 15,
   "metadata": {},
   "outputs": [
    {
     "data": {
      "image/png": "[encoded data removed]",
      "text/plain": [
       "<Figure size 432x288 with 1 Axes>"
      ]
     },
     "metadata": {
      "needs_background": "light"
     },
     "output_type": "display_data"
    }
   ],
   "source": [
    "x = np.outer(np.linspace(-10, 10, 30), np.ones(30))\n",
    "y = x.copy().T\n",
    "z = calculate_distance(x, y)\n",
    "\n",
    "fig = plt.figure()\n",
    "ax = plt.axes(projection='3d')\n",
    "\n",
    "ax.plot_surface(x, y, z, cmap=plt.cm.jet, rstride=1, cstride=1, linewidth=0);"
   ]
  },
  {
   "cell_type": "markdown",
   "metadata": {},
   "source": [
    "The optimal values, i.e. those that make the if-condition true, have fitness value 0 and can be clearly seen at the bottom of the plot. The further away from the optimal values, the higher elevated the points in the search space."
   ]
  },
  {
   "cell_type": "markdown",
   "metadata": {},
   "source": [
    "This distance can serve as our fitness function if we aim to cover the true branch of the program in our example:"
   ]
  },
  {
   "cell_type": "code",
   "execution_count": 16,
   "metadata": {},
   "outputs": [],
   "source": [
    "def get_fitness(individual):\n",
    "    x = individual[0]\n",
    "    y = individual[1]\n",
    "    return abs(x - 2 * (y + 1))"
   ]
  },
  {
   "cell_type": "markdown",
   "metadata": {},
   "source": [
    "We can now use any local search algorithm we have defined previously, with only one modification: In the prior examples where we applied local search we were always maximising fitness values; now we are minimising, so a hillclimber, for example, should only move to neighbours with _smaller_ fitness values:"
   ]
  },
  {
   "cell_type": "code",
   "execution_count": 17,
   "metadata": {},
   "outputs": [],
   "source": [
    "max_steps = 10000\n",
    "fitness_values = []"
   ]
  },
  {
   "cell_type": "markdown",
   "metadata": {},
   "source": [
    "Let's use a steepest ascent hillclimber:"
   ]
  },
  {
   "cell_type": "code",
   "execution_count": 18,
   "metadata": {},
   "outputs": [],
   "source": [
    "def hillclimbing():\n",
    "\n",
    "    current = get_random_individual()\n",
    "    fitness = get_fitness(current)\n",
    "    best = current[:]\n",
    "    best_fitness = fitness\n",
    "    print(f\"Starting at fitness {best_fitness}: {current}\")\n",
    "\n",
    "    step = 0\n",
    "    while step < max_steps and best_fitness > 0:\n",
    "        neighbours = [(x, get_fitness(x)) for x in get_neighbours(current)]\n",
    "        best_neighbour, neighbour_fitness = min(neighbours, key=lambda i: i[1])\n",
    "        step += len(neighbours)        \n",
    "        fitness_values.extend([best_fitness] * len(neighbours))\n",
    "        if neighbour_fitness < fitness:\n",
    "            current = best_neighbour\n",
    "            fitness = neighbour_fitness\n",
    "            if fitness < best_fitness:\n",
    "                best = current[:]\n",
    "                best_fitness = fitness\n",
    "                #print(f\"Iteration {step}, fitness {best_fitness}: {best}\")\n",
    "        else:\n",
    "            # Random restart if no neighbour is better\n",
    "            current = get_random_individual()\n",
    "            fitness = get_fitness(current)\n",
    "            step += 1\n",
    "            if fitness < best_fitness:\n",
    "                #print(f\"Iteration {step}, fitness {best_fitness}: {best}\")\n",
    "                best = current[:]\n",
    "                best_fitness = fitness\n",
    "            fitness_values.append(best_fitness)\n",
    "\n",
    "\n",
    "    print(f\"Solution fitness after {step} fitness evaluations: {best_fitness}: {best}\")\n",
    "    return best"
   ]
  },
  {
   "cell_type": "code",
   "execution_count": 19,
   "metadata": {},
   "outputs": [
    {
     "name": "stdout",
     "output_type": "stream",
     "text": [
      "Starting at fitness 587: [659, 35]\n",
      "Solution fitness after 1176 fitness evaluations: 0: [658, 328]\n"
     ]
    },
    {
     "data": {
      "text/plain": [
       "[658, 328]"
      ]
     },
     "execution_count": 19,
     "metadata": {},
     "output_type": "execute_result"
    }
   ],
   "source": [
    "fitness_values = []\n",
    "hillclimbing()"
   ]
  },
  {
   "cell_type": "code",
   "execution_count": 20,
   "metadata": {
    "scrolled": true
   },
   "outputs": [
    {
     "data": {
      "text/plain": [
       "[<matplotlib.lines.Line2D at 0x1177c14c0>]"
      ]
     },
     "execution_count": 20,
     "metadata": {},
     "output_type": "execute_result"
    },
    {
     "data": {
      "image/png": "[encoded data removed]",
      "text/plain": [
       "<Figure size 432x288 with 1 Axes>"
      ]
     },
     "metadata": {
      "needs_background": "light"
     },
     "output_type": "display_data"
    }
   ],
   "source": [
    "plt.plot(fitness_values)"
   ]
  },
  {
   "cell_type": "markdown",
   "metadata": {},
   "source": [
    "Since there are no local optima, the hillclimber will easily find the solution, even without restarts. However, this can take a while, in particular if we use a larger input space:"
   ]
  },
  {
   "cell_type": "code",
   "execution_count": 21,
   "metadata": {},
   "outputs": [],
   "source": [
    "MAX=100000\n",
    "MIN=-MAX"
   ]
  },
  {
   "cell_type": "code",
   "execution_count": 22,
   "metadata": {},
   "outputs": [
    {
     "name": "stdout",
     "output_type": "stream",
     "text": [
      "Starting at fitness 133964: [25876, 79919]\n",
      "Solution fitness after 10000 fitness evaluations: 128964: [25876, 77419]\n"
     ]
    },
    {
     "data": {
      "text/plain": [
       "[<matplotlib.lines.Line2D at 0x117824070>]"
      ]
     },
     "execution_count": 22,
     "metadata": {},
     "output_type": "execute_result"
    },
    {
     "data": {
      "image/png": "[encoded data removed]",
      "text/plain": [
       "<Figure size 432x288 with 1 Axes>"
      ]
     },
     "metadata": {
      "needs_background": "light"
     },
     "output_type": "display_data"
    }
   ],
   "source": [
    "fitness_values = []\n",
    "hillclimbing()\n",
    "plt.plot(fitness_values)"
   ]
  },
  {
   "cell_type": "markdown",
   "metadata": {},
   "source": [
    "Unless the randomly chosen initial point is already close to an optimal solution, the hillclimber is going to be hopeless in moving through the search space within a reasonable number of iterations."
   ]
  },
  {
   "cell_type": "markdown",
   "metadata": {},
   "source": [
    "## Alternating Variable Method"
   ]
  },
  {
   "cell_type": "markdown",
   "metadata": {},
   "source": [
    "The search problem represented by the `test_me` function has an easy fitness landscape with no local optima. However, it still takes quite long to reach the optimum, depending on where the random starting point lies in the search space. This is because the neighbourhood for real program inputs can be quite large, depending on the number of parameters, and even just the search space for each parameter individually can already be very large. In our example we restricted `MAX` and `MIN` to a very narrow range, but imagine doing this for 32 bit integers. Both these problems are addressed with an adapted version of our hillclimber known as the _Alternating Variable Method_, which differs from the hillclimber in two ways: \n",
    "1. Rather than considering the neighbourhood of all input parameters at once, we apply search to each parameter individually in turn\n",
    "2. Rather than taking only small steps of size 1, we allow larger jumps in the search space."
   ]
  },
  {
   "cell_type": "markdown",
   "metadata": {},
   "source": [
    "Let's first consider the second aspect, larger jumps in the search space. The idea is to apply a _pattern_ search where we first decide on a direction in the search space to move, and then apply increasingly larger steps in that direction as long as the fitness improves. We only consider a single parameter, thus the \"direction\" simply refers to whether one increases or decreases this value. The function thus takes (1) the individual on which to perform the search, (2) a particular parameter we are considering, (3) the direction of the search, and (4) the starting fitness values. "
   ]
  },
  {
   "cell_type": "code",
   "execution_count": 23,
   "metadata": {},
   "outputs": [],
   "source": [
    "def pattern_search(individual, parameter, direction, fitness):\n",
    "    print(f\"-> {individual}, direction {direction}, fitness {fitness}\")\n",
    "\n",
    "    individual[parameter] = individual[parameter] + direction\n",
    "    new_fitness = get_fitness(individual)\n",
    "    if new_fitness < fitness:\n",
    "        fitness_values.append(new_fitness)\n",
    "        return pattern_search(individual, parameter, 2 * direction, new_fitness)\n",
    "    else:\n",
    "        # If fitness is not better we overshot. Undo last move, and return\n",
    "        fitness_values.append(fitness)\n",
    "        individual[parameter] = individual[parameter] - direction\n",
    "        return fitness"
   ]
  },
  {
   "cell_type": "markdown",
   "metadata": {},
   "source": [
    "For example, let's assume `y` is a large value(1000), and `x` is considerably smaller. For our example function, the optimal value for `x` would thus be at 2200. Applying the search to `x` we thus need to move in the positive direction (`1`), and the function will do this with increasing steps until it \"overshoots\"."
   ]
  },
  {
   "cell_type": "code",
   "execution_count": 24,
   "metadata": {},
   "outputs": [
    {
     "name": "stdout",
     "output_type": "stream",
     "text": [
      "-> [0, 1000], direction 1, fitness 2002\n",
      "-> [1, 1000], direction 2, fitness 2001\n",
      "-> [3, 1000], direction 4, fitness 1999\n",
      "-> [7, 1000], direction 8, fitness 1995\n",
      "-> [15, 1000], direction 16, fitness 1987\n",
      "-> [31, 1000], direction 32, fitness 1971\n",
      "-> [63, 1000], direction 64, fitness 1939\n",
      "-> [127, 1000], direction 128, fitness 1875\n",
      "-> [255, 1000], direction 256, fitness 1747\n",
      "-> [511, 1000], direction 512, fitness 1491\n",
      "-> [1023, 1000], direction 1024, fitness 979\n",
      "-> [2047, 1000], direction 2048, fitness 45\n"
     ]
    },
    {
     "data": {
      "text/plain": [
       "45"
      ]
     },
     "execution_count": 24,
     "metadata": {},
     "output_type": "execute_result"
    }
   ],
   "source": [
    "x = [0, 1000]\n",
    "f = get_fitness(x)\n",
    "pattern_search(x, 0, 1, get_fitness(x))"
   ]
  },
  {
   "cell_type": "markdown",
   "metadata": {},
   "source": [
    "If `x` is larger than `y` we would need to move in the other direction, and the search does this until it undershoots the target of 2200:"
   ]
  },
  {
   "cell_type": "code",
   "execution_count": 25,
   "metadata": {},
   "outputs": [
    {
     "name": "stdout",
     "output_type": "stream",
     "text": [
      "-> [10000, 1000], direction -1, fitness 7998\n",
      "-> [9999, 1000], direction -2, fitness 7997\n",
      "-> [9997, 1000], direction -4, fitness 7995\n",
      "-> [9993, 1000], direction -8, fitness 7991\n",
      "-> [9985, 1000], direction -16, fitness 7983\n",
      "-> [9969, 1000], direction -32, fitness 7967\n",
      "-> [9937, 1000], direction -64, fitness 7935\n",
      "-> [9873, 1000], direction -128, fitness 7871\n",
      "-> [9745, 1000], direction -256, fitness 7743\n",
      "-> [9489, 1000], direction -512, fitness 7487\n",
      "-> [8977, 1000], direction -1024, fitness 6975\n",
      "-> [7953, 1000], direction -2048, fitness 5951\n",
      "-> [5905, 1000], direction -4096, fitness 3903\n",
      "-> [1809, 1000], direction -8192, fitness 193\n"
     ]
    },
    {
     "data": {
      "text/plain": [
       "193"
      ]
     },
     "execution_count": 25,
     "metadata": {},
     "output_type": "execute_result"
    }
   ],
   "source": [
    "x = [10000, 1000]\n",
    "f = get_fitness(x)\n",
    "pattern_search(x, 0, -1, get_fitness(x))"
   ]
  },
  {
   "cell_type": "markdown",
   "metadata": {},
   "source": [
    "The AVM algorithm applies the pattern search as follows:\n",
    "1. Start with the first parameter\n",
    "2. Probe the neighbourhood of the parameter to find the direction of the search\n",
    "3. Apply pattern search in that direction\n",
    "4. Repeat probing + pattern search until no more improvement can be made\n",
    "5. Move to the next parameter, and go to step 2\n",
    "\n",
    "Like a regular hillclimber, the search may get stuck in local optima and needs to use random restarts. The algorithm is stuck if it probed all parameters in sequence and none of the parameters allowed a move that improved fitness."
   ]
  },
  {
   "cell_type": "code",
   "execution_count": 26,
   "metadata": {},
   "outputs": [],
   "source": [
    "def probe_and_search(individual, parameter, fitness):\n",
    "    new_parameters = individual[:]\n",
    "    value = new_parameters[parameter]\n",
    "    new_fitness = fitness\n",
    "    # Try +1\n",
    "    new_parameters[parameter] = individual[parameter] + 1\n",
    "    print(f\"Trying +1 at fitness {fitness}: {new_parameters}\")\n",
    "    new_fitness = get_fitness(new_parameters)\n",
    "    if new_fitness < fitness:\n",
    "        fitness_values.append(new_fitness)\n",
    "        new_fitness = pattern_search(new_parameters, parameter, 2, new_fitness)\n",
    "    else:\n",
    "        # Try -1\n",
    "        fitness_values.append(fitness)\n",
    "        new_parameters[parameter] = individual[parameter] - 1\n",
    "        print(f\"Trying -1 at fitness {fitness}: {new_parameters}\")\n",
    "        new_fitness = get_fitness(new_parameters)\n",
    "        if new_fitness < fitness:\n",
    "            fitness_values.append(new_fitness)\n",
    "            new_fitness = pattern_search(new_parameters, parameter, -2, new_fitness)\n",
    "        else:\n",
    "            fitness_values.append(fitness)\n",
    "            new_parameters[parameter] = individual[parameter]\n",
    "            new_fitness = fitness\n",
    "            \n",
    "    return new_parameters, new_fitness"
   ]
  },
  {
   "cell_type": "code",
   "execution_count": 27,
   "metadata": {},
   "outputs": [],
   "source": [
    "def avm():\n",
    "\n",
    "    current = get_random_individual()\n",
    "    fitness = get_fitness(current)\n",
    "    best = current[:]\n",
    "    best_fitness = fitness\n",
    "    fitness_values.clear()\n",
    "    fitness_values.append(best_fitness)\n",
    "    print(f\"Starting at fitness {best_fitness}: {current}\")\n",
    "\n",
    "    step = 0\n",
    "    changed = True\n",
    "    while len(fitness_values) < max_steps and best_fitness > 0:\n",
    "        # Random restart\n",
    "        if not changed:\n",
    "            current = get_random_individual()\n",
    "            print(f\"Random restart at {current}\")\n",
    "            fitness = get_fitness(current)\n",
    "            fitness_values.append(fitness)\n",
    "            \n",
    "        at_least_one_parameter_changed = True\n",
    "        while at_least_one_parameter_changed:\n",
    "            at_least_one_parameter_changed = False\n",
    "            parameter = 0\n",
    "            while parameter < len(current):\n",
    "                print(f\"Current parameter: {parameter}\")\n",
    "                new_parameters, new_fitness = probe_and_search(current, parameter, fitness)\n",
    "                if current != new_parameters:\n",
    "                    # Keep on searching\n",
    "                    at_least_one_parameter_changed = True\n",
    "                    current = new_parameters\n",
    "                    fitness = new_fitness\n",
    "                    if fitness < best_fitness:\n",
    "                        best_fitness = fitness\n",
    "                        best = current[:]\n",
    "                else:\n",
    "                    parameter += 1\n",
    "\n",
    "    print(f\"Solution fitness {best_fitness}: {best}\")\n",
    "    return best"
   ]
  },
  {
   "cell_type": "code",
   "execution_count": 28,
   "metadata": {},
   "outputs": [
    {
     "name": "stdout",
     "output_type": "stream",
     "text": [
      "Starting at fitness 94692: [-82556, -88625]\n",
      "Current parameter: 0\n",
      "Trying +1 at fitness 94692: [-82555, -88625]\n",
      "Trying -1 at fitness 94692: [-82557, -88625]\n",
      "-> [-82557, -88625], direction -2, fitness 94691\n",
      "-> [-82559, -88625], direction -4, fitness 94689\n",
      "-> [-82563, -88625], direction -8, fitness 94685\n",
      "-> [-82571, -88625], direction -16, fitness 94677\n",
      "-> [-82587, -88625], direction -32, fitness 94661\n",
      "-> [-82619, -88625], direction -64, fitness 94629\n",
      "-> [-82683, -88625], direction -128, fitness 94565\n",
      "-> [-82811, -88625], direction -256, fitness 94437\n",
      "-> [-83067, -88625], direction -512, fitness 94181\n",
      "-> [-83579, -88625], direction -1024, fitness 93669\n",
      "-> [-84603, -88625], direction -2048, fitness 92645\n",
      "-> [-86651, -88625], direction -4096, fitness 90597\n",
      "-> [-90747, -88625], direction -8192, fitness 86501\n",
      "-> [-98939, -88625], direction -16384, fitness 78309\n",
      "-> [-115323, -88625], direction -32768, fitness 61925\n",
      "-> [-148091, -88625], direction -65536, fitness 29157\n",
      "Current parameter: 0\n",
      "Trying +1 at fitness 29157: [-148090, -88625]\n",
      "Trying -1 at fitness 29157: [-148092, -88625]\n",
      "-> [-148092, -88625], direction -2, fitness 29156\n",
      "-> [-148094, -88625], direction -4, fitness 29154\n",
      "-> [-148098, -88625], direction -8, fitness 29150\n",
      "-> [-148106, -88625], direction -16, fitness 29142\n",
      "-> [-148122, -88625], direction -32, fitness 29126\n",
      "-> [-148154, -88625], direction -64, fitness 29094\n",
      "-> [-148218, -88625], direction -128, fitness 29030\n",
      "-> [-148346, -88625], direction -256, fitness 28902\n",
      "-> [-148602, -88625], direction -512, fitness 28646\n",
      "-> [-149114, -88625], direction -1024, fitness 28134\n",
      "-> [-150138, -88625], direction -2048, fitness 27110\n",
      "-> [-152186, -88625], direction -4096, fitness 25062\n",
      "-> [-156282, -88625], direction -8192, fitness 20966\n",
      "-> [-164474, -88625], direction -16384, fitness 12774\n",
      "-> [-180858, -88625], direction -32768, fitness 3610\n",
      "Current parameter: 0\n",
      "Trying +1 at fitness 3610: [-180857, -88625]\n",
      "-> [-180857, -88625], direction 2, fitness 3609\n",
      "-> [-180855, -88625], direction 4, fitness 3607\n",
      "-> [-180851, -88625], direction 8, fitness 3603\n",
      "-> [-180843, -88625], direction 16, fitness 3595\n",
      "-> [-180827, -88625], direction 32, fitness 3579\n",
      "-> [-180795, -88625], direction 64, fitness 3547\n",
      "-> [-180731, -88625], direction 128, fitness 3483\n",
      "-> [-180603, -88625], direction 256, fitness 3355\n",
      "-> [-180347, -88625], direction 512, fitness 3099\n",
      "-> [-179835, -88625], direction 1024, fitness 2587\n",
      "-> [-178811, -88625], direction 2048, fitness 1563\n",
      "-> [-176763, -88625], direction 4096, fitness 485\n",
      "Current parameter: 0\n",
      "Trying +1 at fitness 485: [-176762, -88625]\n",
      "Trying -1 at fitness 485: [-176764, -88625]\n",
      "-> [-176764, -88625], direction -2, fitness 484\n",
      "-> [-176766, -88625], direction -4, fitness 482\n",
      "-> [-176770, -88625], direction -8, fitness 478\n",
      "-> [-176778, -88625], direction -16, fitness 470\n",
      "-> [-176794, -88625], direction -32, fitness 454\n",
      "-> [-176826, -88625], direction -64, fitness 422\n",
      "-> [-176890, -88625], direction -128, fitness 358\n",
      "-> [-177018, -88625], direction -256, fitness 230\n",
      "-> [-177274, -88625], direction -512, fitness 26\n",
      "Current parameter: 0\n",
      "Trying +1 at fitness 26: [-177273, -88625]\n",
      "-> [-177273, -88625], direction 2, fitness 25\n",
      "-> [-177271, -88625], direction 4, fitness 23\n",
      "-> [-177267, -88625], direction 8, fitness 19\n",
      "-> [-177259, -88625], direction 16, fitness 11\n",
      "-> [-177243, -88625], direction 32, fitness 5\n",
      "Current parameter: 0\n",
      "Trying +1 at fitness 5: [-177242, -88625]\n",
      "Trying -1 at fitness 5: [-177244, -88625]\n",
      "-> [-177244, -88625], direction -2, fitness 4\n",
      "-> [-177246, -88625], direction -4, fitness 2\n",
      "Current parameter: 0\n",
      "Trying +1 at fitness 2: [-177245, -88625]\n",
      "Trying -1 at fitness 2: [-177247, -88625]\n",
      "-> [-177247, -88625], direction -2, fitness 1\n",
      "Current parameter: 0\n",
      "Trying +1 at fitness 1: [-177246, -88625]\n",
      "Trying -1 at fitness 1: [-177248, -88625]\n",
      "-> [-177248, -88625], direction -2, fitness 0\n",
      "Current parameter: 0\n",
      "Trying +1 at fitness 0: [-177247, -88625]\n",
      "Trying -1 at fitness 0: [-177249, -88625]\n",
      "Current parameter: 1\n",
      "Trying +1 at fitness 0: [-177248, -88624]\n",
      "Trying -1 at fitness 0: [-177248, -88626]\n",
      "Current parameter: 0\n",
      "Trying +1 at fitness 0: [-177247, -88625]\n",
      "Trying -1 at fitness 0: [-177249, -88625]\n",
      "Current parameter: 1\n",
      "Trying +1 at fitness 0: [-177248, -88624]\n",
      "Trying -1 at fitness 0: [-177248, -88626]\n",
      "Solution fitness 0: [-177248, -88625]\n"
     ]
    },
    {
     "data": {
      "text/plain": [
       "[-177248, -88625]"
      ]
     },
     "execution_count": 28,
     "metadata": {},
     "output_type": "execute_result"
    }
   ],
   "source": [
    "fitness_values = []\n",
    "avm()"
   ]
  },
  {
   "cell_type": "code",
   "execution_count": 29,
   "metadata": {},
   "outputs": [
    {
     "data": {
      "text/plain": [
       "[<matplotlib.lines.Line2D at 0x117877310>]"
      ]
     },
     "execution_count": 29,
     "metadata": {},
     "output_type": "execute_result"
    },
    {
     "data": {
      "image/png": "[encoded data removed]",
      "text/plain": [
       "<Figure size 432x288 with 1 Axes>"
      ]
     },
     "metadata": {
      "needs_background": "light"
     },
     "output_type": "display_data"
    }
   ],
   "source": [
    "plt.plot(fitness_values)"
   ]
  },
  {
   "cell_type": "markdown",
   "metadata": {},
   "source": [
    "The pattern search even works efficiently if we increase the size of the search space to 64-bit numbers:"
   ]
  },
  {
   "cell_type": "code",
   "execution_count": 30,
   "metadata": {},
   "outputs": [],
   "source": [
    "MAX=2**32\n",
    "MIN=-MAX"
   ]
  },
  {
   "cell_type": "code",
   "execution_count": 31,
   "metadata": {
    "scrolled": false
   },
   "outputs": [
    {
     "name": "stdout",
     "output_type": "stream",
     "text": [
      "Starting at fitness 2889427603: [2373508049, -257959778]\n",
      "Current parameter: 0\n",
      "Trying +1 at fitness 2889427603: [2373508050, -257959778]\n",
      "Trying -1 at fitness 2889427603: [2373508048, -257959778]\n",
      "-> [2373508048, -257959778], direction -2, fitness 2889427602\n",
      "-> [2373508046, -257959778], direction -4, fitness 2889427600\n",
      "-> [2373508042, -257959778], direction -8, fitness 2889427596\n",
      "-> [2373508034, -257959778], direction -16, fitness 2889427588\n",
      "-> [2373508018, -257959778], direction -32, fitness 2889427572\n",
      "-> [2373507986, -257959778], direction -64, fitness 2889427540\n",
      "-> [2373507922, -257959778], direction -128, fitness 2889427476\n",
      "-> [2373507794, -257959778], direction -256, fitness 2889427348\n",
      "-> [2373507538, -257959778], direction -512, fitness 2889427092\n",
      "-> [2373507026, -257959778], direction -1024, fitness 2889426580\n",
      "-> [2373506002, -257959778], direction -2048, fitness 2889425556\n",
      "-> [2373503954, -257959778], direction -4096, fitness 2889423508\n",
      "-> [2373499858, -257959778], direction -8192, fitness 2889419412\n",
      "-> [2373491666, -257959778], direction -16384, fitness 2889411220\n",
      "-> [2373475282, -257959778], direction -32768, fitness 2889394836\n",
      "-> [2373442514, -257959778], direction -65536, fitness 2889362068\n",
      "-> [2373376978, -257959778], direction -131072, fitness 2889296532\n",
      "-> [2373245906, -257959778], direction -262144, fitness 2889165460\n",
      "-> [2372983762, -257959778], direction -524288, fitness 2888903316\n",
      "-> [2372459474, -257959778], direction -1048576, fitness 2888379028\n",
      "-> [2371410898, -257959778], direction -2097152, fitness 2887330452\n",
      "-> [2369313746, -257959778], direction -4194304, fitness 2885233300\n",
      "-> [2365119442, -257959778], direction -8388608, fitness 2881038996\n",
      "-> [2356730834, -257959778], direction -16777216, fitness 2872650388\n",
      "-> [2339953618, -257959778], direction -33554432, fitness 2855873172\n",
      "-> [2306399186, -257959778], direction -67108864, fitness 2822318740\n",
      "-> [2239290322, -257959778], direction -134217728, fitness 2755209876\n",
      "-> [2105072594, -257959778], direction -268435456, fitness 2620992148\n",
      "-> [1836637138, -257959778], direction -536870912, fitness 2352556692\n",
      "-> [1299766226, -257959778], direction -1073741824, fitness 1815685780\n",
      "-> [226024402, -257959778], direction -2147483648, fitness 741943956\n",
      "Current parameter: 0\n",
      "Trying +1 at fitness 741943956: [226024403, -257959778]\n",
      "Trying -1 at fitness 741943956: [226024401, -257959778]\n",
      "-> [226024401, -257959778], direction -2, fitness 741943955\n",
      "-> [226024399, -257959778], direction -4, fitness 741943953\n",
      "-> [226024395, -257959778], direction -8, fitness 741943949\n",
      "-> [226024387, -257959778], direction -16, fitness 741943941\n",
      "-> [226024371, -257959778], direction -32, fitness 741943925\n",
      "-> [226024339, -257959778], direction -64, fitness 741943893\n",
      "-> [226024275, -257959778], direction -128, fitness 741943829\n",
      "-> [226024147, -257959778], direction -256, fitness 741943701\n",
      "-> [226023891, -257959778], direction -512, fitness 741943445\n",
      "-> [226023379, -257959778], direction -1024, fitness 741942933\n",
      "-> [226022355, -257959778], direction -2048, fitness 741941909\n",
      "-> [226020307, -257959778], direction -4096, fitness 741939861\n",
      "-> [226016211, -257959778], direction -8192, fitness 741935765\n",
      "-> [226008019, -257959778], direction -16384, fitness 741927573\n",
      "-> [225991635, -257959778], direction -32768, fitness 741911189\n",
      "-> [225958867, -257959778], direction -65536, fitness 741878421\n",
      "-> [225893331, -257959778], direction -131072, fitness 741812885\n",
      "-> [225762259, -257959778], direction -262144, fitness 741681813\n",
      "-> [225500115, -257959778], direction -524288, fitness 741419669\n",
      "-> [224975827, -257959778], direction -1048576, fitness 740895381\n",
      "-> [223927251, -257959778], direction -2097152, fitness 739846805\n",
      "-> [221830099, -257959778], direction -4194304, fitness 737749653\n",
      "-> [217635795, -257959778], direction -8388608, fitness 733555349\n",
      "-> [209247187, -257959778], direction -16777216, fitness 725166741\n",
      "-> [192469971, -257959778], direction -33554432, fitness 708389525\n",
      "-> [158915539, -257959778], direction -67108864, fitness 674835093\n",
      "-> [91806675, -257959778], direction -134217728, fitness 607726229\n",
      "-> [-42411053, -257959778], direction -268435456, fitness 473508501\n",
      "-> [-310846509, -257959778], direction -536870912, fitness 205073045\n",
      "Current parameter: 0\n",
      "Trying +1 at fitness 205073045: [-310846508, -257959778]\n",
      "Trying -1 at fitness 205073045: [-310846510, -257959778]\n",
      "-> [-310846510, -257959778], direction -2, fitness 205073044\n",
      "-> [-310846512, -257959778], direction -4, fitness 205073042\n",
      "-> [-310846516, -257959778], direction -8, fitness 205073038\n",
      "-> [-310846524, -257959778], direction -16, fitness 205073030\n",
      "-> [-310846540, -257959778], direction -32, fitness 205073014\n",
      "-> [-310846572, -257959778], direction -64, fitness 205072982\n",
      "-> [-310846636, -257959778], direction -128, fitness 205072918\n",
      "-> [-310846764, -257959778], direction -256, fitness 205072790\n",
      "-> [-310847020, -257959778], direction -512, fitness 205072534\n",
      "-> [-310847532, -257959778], direction -1024, fitness 205072022\n",
      "-> [-310848556, -257959778], direction -2048, fitness 205070998\n",
      "-> [-310850604, -257959778], direction -4096, fitness 205068950\n",
      "-> [-310854700, -257959778], direction -8192, fitness 205064854\n",
      "-> [-310862892, -257959778], direction -16384, fitness 205056662\n",
      "-> [-310879276, -257959778], direction -32768, fitness 205040278\n",
      "-> [-310912044, -257959778], direction -65536, fitness 205007510\n",
      "-> [-310977580, -257959778], direction -131072, fitness 204941974\n",
      "-> [-311108652, -257959778], direction -262144, fitness 204810902\n",
      "-> [-311370796, -257959778], direction -524288, fitness 204548758\n",
      "-> [-311895084, -257959778], direction -1048576, fitness 204024470\n",
      "-> [-312943660, -257959778], direction -2097152, fitness 202975894\n",
      "-> [-315040812, -257959778], direction -4194304, fitness 200878742\n",
      "-> [-319235116, -257959778], direction -8388608, fitness 196684438\n",
      "-> [-327623724, -257959778], direction -16777216, fitness 188295830\n",
      "-> [-344400940, -257959778], direction -33554432, fitness 171518614\n",
      "-> [-377955372, -257959778], direction -67108864, fitness 137964182\n",
      "-> [-445064236, -257959778], direction -134217728, fitness 70855318\n",
      "-> [-579281964, -257959778], direction -268435456, fitness 63362410\n",
      "Current parameter: 0\n",
      "Trying +1 at fitness 63362410: [-579281963, -257959778]\n",
      "-> [-579281963, -257959778], direction 2, fitness 63362409\n",
      "-> [-579281961, -257959778], direction 4, fitness 63362407\n",
      "-> [-579281957, -257959778], direction 8, fitness 63362403\n",
      "-> [-579281949, -257959778], direction 16, fitness 63362395\n",
      "-> [-579281933, -257959778], direction 32, fitness 63362379\n",
      "-> [-579281901, -257959778], direction 64, fitness 63362347\n",
      "-> [-579281837, -257959778], direction 128, fitness 63362283\n",
      "-> [-579281709, -257959778], direction 256, fitness 63362155\n",
      "-> [-579281453, -257959778], direction 512, fitness 63361899\n",
      "-> [-579280941, -257959778], direction 1024, fitness 63361387\n",
      "-> [-579279917, -257959778], direction 2048, fitness 63360363\n",
      "-> [-579277869, -257959778], direction 4096, fitness 63358315\n",
      "-> [-579273773, -257959778], direction 8192, fitness 63354219\n",
      "-> [-579265581, -257959778], direction 16384, fitness 63346027\n",
      "-> [-579249197, -257959778], direction 32768, fitness 63329643\n",
      "-> [-579216429, -257959778], direction 65536, fitness 63296875\n",
      "-> [-579150893, -257959778], direction 131072, fitness 63231339\n",
      "-> [-579019821, -257959778], direction 262144, fitness 63100267\n",
      "-> [-578757677, -257959778], direction 524288, fitness 62838123\n",
      "-> [-578233389, -257959778], direction 1048576, fitness 62313835\n",
      "-> [-577184813, -257959778], direction 2097152, fitness 61265259\n",
      "-> [-575087661, -257959778], direction 4194304, fitness 59168107\n",
      "-> [-570893357, -257959778], direction 8388608, fitness 54973803\n",
      "-> [-562504749, -257959778], direction 16777216, fitness 46585195\n",
      "-> [-545727533, -257959778], direction 33554432, fitness 29807979\n",
      "-> [-512173101, -257959778], direction 67108864, fitness 3746453\n",
      "Current parameter: 0\n",
      "Trying +1 at fitness 3746453: [-512173100, -257959778]\n",
      "Trying -1 at fitness 3746453: [-512173102, -257959778]\n",
      "-> [-512173102, -257959778], direction -2, fitness 3746452\n",
      "-> [-512173104, -257959778], direction -4, fitness 3746450\n",
      "-> [-512173108, -257959778], direction -8, fitness 3746446\n",
      "-> [-512173116, -257959778], direction -16, fitness 3746438\n",
      "-> [-512173132, -257959778], direction -32, fitness 3746422\n",
      "-> [-512173164, -257959778], direction -64, fitness 3746390\n",
      "-> [-512173228, -257959778], direction -128, fitness 3746326\n",
      "-> [-512173356, -257959778], direction -256, fitness 3746198\n",
      "-> [-512173612, -257959778], direction -512, fitness 3745942\n",
      "-> [-512174124, -257959778], direction -1024, fitness 3745430\n",
      "-> [-512175148, -257959778], direction -2048, fitness 3744406\n",
      "-> [-512177196, -257959778], direction -4096, fitness 3742358\n",
      "-> [-512181292, -257959778], direction -8192, fitness 3738262\n",
      "-> [-512189484, -257959778], direction -16384, fitness 3730070\n",
      "-> [-512205868, -257959778], direction -32768, fitness 3713686\n",
      "-> [-512238636, -257959778], direction -65536, fitness 3680918\n",
      "-> [-512304172, -257959778], direction -131072, fitness 3615382\n",
      "-> [-512435244, -257959778], direction -262144, fitness 3484310\n",
      "-> [-512697388, -257959778], direction -524288, fitness 3222166\n",
      "-> [-513221676, -257959778], direction -1048576, fitness 2697878\n",
      "-> [-514270252, -257959778], direction -2097152, fitness 1649302\n",
      "-> [-516367404, -257959778], direction -4194304, fitness 447850\n",
      "Current parameter: 0\n",
      "Trying +1 at fitness 447850: [-516367403, -257959778]\n",
      "-> [-516367403, -257959778], direction 2, fitness 447849\n",
      "-> [-516367401, -257959778], direction 4, fitness 447847\n",
      "-> [-516367397, -257959778], direction 8, fitness 447843\n",
      "-> [-516367389, -257959778], direction 16, fitness 447835\n",
      "-> [-516367373, -257959778], direction 32, fitness 447819\n",
      "-> [-516367341, -257959778], direction 64, fitness 447787\n",
      "-> [-516367277, -257959778], direction 128, fitness 447723\n",
      "-> [-516367149, -257959778], direction 256, fitness 447595\n",
      "-> [-516366893, -257959778], direction 512, fitness 447339\n",
      "-> [-516366381, -257959778], direction 1024, fitness 446827\n",
      "-> [-516365357, -257959778], direction 2048, fitness 445803\n",
      "-> [-516363309, -257959778], direction 4096, fitness 443755\n",
      "-> [-516359213, -257959778], direction 8192, fitness 439659\n",
      "-> [-516351021, -257959778], direction 16384, fitness 431467\n",
      "-> [-516334637, -257959778], direction 32768, fitness 415083\n",
      "-> [-516301869, -257959778], direction 65536, fitness 382315\n",
      "-> [-516236333, -257959778], direction 131072, fitness 316779\n",
      "-> [-516105261, -257959778], direction 262144, fitness 185707\n",
      "-> [-515843117, -257959778], direction 524288, fitness 76437\n",
      "Current parameter: 0\n",
      "Trying +1 at fitness 76437: [-515843116, -257959778]\n",
      "Trying -1 at fitness 76437: [-515843118, -257959778]\n",
      "-> [-515843118, -257959778], direction -2, fitness 76436\n",
      "-> [-515843120, -257959778], direction -4, fitness 76434\n",
      "-> [-515843124, -257959778], direction -8, fitness 76430\n",
      "-> [-515843132, -257959778], direction -16, fitness 76422\n",
      "-> [-515843148, -257959778], direction -32, fitness 76406\n",
      "-> [-515843180, -257959778], direction -64, fitness 76374\n",
      "-> [-515843244, -257959778], direction -128, fitness 76310\n",
      "-> [-515843372, -257959778], direction -256, fitness 76182\n",
      "-> [-515843628, -257959778], direction -512, fitness 75926\n",
      "-> [-515844140, -257959778], direction -1024, fitness 75414\n",
      "-> [-515845164, -257959778], direction -2048, fitness 74390\n",
      "-> [-515847212, -257959778], direction -4096, fitness 72342\n",
      "-> [-515851308, -257959778], direction -8192, fitness 68246\n",
      "-> [-515859500, -257959778], direction -16384, fitness 60054\n",
      "-> [-515875884, -257959778], direction -32768, fitness 43670\n",
      "-> [-515908652, -257959778], direction -65536, fitness 10902\n",
      "Current parameter: 0\n",
      "Trying +1 at fitness 10902: [-515908651, -257959778]\n",
      "Trying -1 at fitness 10902: [-515908653, -257959778]\n",
      "-> [-515908653, -257959778], direction -2, fitness 10901\n",
      "-> [-515908655, -257959778], direction -4, fitness 10899\n",
      "-> [-515908659, -257959778], direction -8, fitness 10895\n",
      "-> [-515908667, -257959778], direction -16, fitness 10887\n",
      "-> [-515908683, -257959778], direction -32, fitness 10871\n",
      "-> [-515908715, -257959778], direction -64, fitness 10839\n",
      "-> [-515908779, -257959778], direction -128, fitness 10775\n",
      "-> [-515908907, -257959778], direction -256, fitness 10647\n",
      "-> [-515909163, -257959778], direction -512, fitness 10391\n",
      "-> [-515909675, -257959778], direction -1024, fitness 9879\n",
      "-> [-515910699, -257959778], direction -2048, fitness 8855\n",
      "-> [-515912747, -257959778], direction -4096, fitness 6807\n",
      "-> [-515916843, -257959778], direction -8192, fitness 2711\n",
      "Current parameter: 0\n",
      "Trying +1 at fitness 2711: [-515916842, -257959778]\n",
      "Trying -1 at fitness 2711: [-515916844, -257959778]\n",
      "-> [-515916844, -257959778], direction -2, fitness 2710\n",
      "-> [-515916846, -257959778], direction -4, fitness 2708\n",
      "-> [-515916850, -257959778], direction -8, fitness 2704\n",
      "-> [-515916858, -257959778], direction -16, fitness 2696\n",
      "-> [-515916874, -257959778], direction -32, fitness 2680\n",
      "-> [-515916906, -257959778], direction -64, fitness 2648\n",
      "-> [-515916970, -257959778], direction -128, fitness 2584\n",
      "-> [-515917098, -257959778], direction -256, fitness 2456\n",
      "-> [-515917354, -257959778], direction -512, fitness 2200\n",
      "-> [-515917866, -257959778], direction -1024, fitness 1688\n",
      "-> [-515918890, -257959778], direction -2048, fitness 664\n",
      "Current parameter: 0\n",
      "Trying +1 at fitness 664: [-515918889, -257959778]\n",
      "Trying -1 at fitness 664: [-515918891, -257959778]\n",
      "-> [-515918891, -257959778], direction -2, fitness 663\n",
      "-> [-515918893, -257959778], direction -4, fitness 661\n",
      "-> [-515918897, -257959778], direction -8, fitness 657\n",
      "-> [-515918905, -257959778], direction -16, fitness 649\n",
      "-> [-515918921, -257959778], direction -32, fitness 633\n",
      "-> [-515918953, -257959778], direction -64, fitness 601\n",
      "-> [-515919017, -257959778], direction -128, fitness 537\n",
      "-> [-515919145, -257959778], direction -256, fitness 409\n",
      "-> [-515919401, -257959778], direction -512, fitness 153\n",
      "Current parameter: 0\n",
      "Trying +1 at fitness 153: [-515919400, -257959778]\n",
      "Trying -1 at fitness 153: [-515919402, -257959778]\n",
      "-> [-515919402, -257959778], direction -2, fitness 152\n",
      "-> [-515919404, -257959778], direction -4, fitness 150\n",
      "-> [-515919408, -257959778], direction -8, fitness 146\n",
      "-> [-515919416, -257959778], direction -16, fitness 138\n",
      "-> [-515919432, -257959778], direction -32, fitness 122\n",
      "-> [-515919464, -257959778], direction -64, fitness 90\n",
      "-> [-515919528, -257959778], direction -128, fitness 26\n",
      "Current parameter: 0\n",
      "Trying +1 at fitness 26: [-515919527, -257959778]\n",
      "Trying -1 at fitness 26: [-515919529, -257959778]\n",
      "-> [-515919529, -257959778], direction -2, fitness 25\n",
      "-> [-515919531, -257959778], direction -4, fitness 23\n",
      "-> [-515919535, -257959778], direction -8, fitness 19\n",
      "-> [-515919543, -257959778], direction -16, fitness 11\n",
      "-> [-515919559, -257959778], direction -32, fitness 5\n",
      "Current parameter: 0\n",
      "Trying +1 at fitness 5: [-515919558, -257959778]\n",
      "-> [-515919558, -257959778], direction 2, fitness 4\n",
      "-> [-515919556, -257959778], direction 4, fitness 2\n",
      "Current parameter: 0\n",
      "Trying +1 at fitness 2: [-515919555, -257959778]\n",
      "-> [-515919555, -257959778], direction 2, fitness 1\n",
      "Current parameter: 0\n",
      "Trying +1 at fitness 1: [-515919554, -257959778]\n",
      "-> [-515919554, -257959778], direction 2, fitness 0\n",
      "Current parameter: 0\n",
      "Trying +1 at fitness 0: [-515919553, -257959778]\n",
      "Trying -1 at fitness 0: [-515919555, -257959778]\n",
      "Current parameter: 1\n",
      "Trying +1 at fitness 0: [-515919554, -257959777]\n",
      "Trying -1 at fitness 0: [-515919554, -257959779]\n",
      "Current parameter: 0\n",
      "Trying +1 at fitness 0: [-515919553, -257959778]\n",
      "Trying -1 at fitness 0: [-515919555, -257959778]\n",
      "Current parameter: 1\n",
      "Trying +1 at fitness 0: [-515919554, -257959777]\n",
      "Trying -1 at fitness 0: [-515919554, -257959779]\n",
      "Solution fitness 0: [-515919554, -257959778]\n"
     ]
    },
    {
     "data": {
      "text/plain": [
       "[-515919554, -257959778]"
      ]
     },
     "execution_count": 31,
     "metadata": {},
     "output_type": "execute_result"
    }
   ],
   "source": [
    "fitness_values = []\n",
    "avm()"
   ]
  },
  {
   "cell_type": "code",
   "execution_count": 32,
   "metadata": {},
   "outputs": [
    {
     "data": {
      "text/plain": [
       "[<matplotlib.lines.Line2D at 0x1178bf910>]"
      ]
     },
     "execution_count": 32,
     "metadata": {},
     "output_type": "execute_result"
    },
    {
     "data": {
      "image/png": "[encoded data removed]",
      "text/plain": [
       "<Figure size 432x288 with 1 Axes>"
      ]
     },
     "metadata": {
      "needs_background": "light"
     },
     "output_type": "display_data"
    }
   ],
   "source": [
    "plt.plot(fitness_values)"
   ]
  },
  {
   "cell_type": "markdown",
   "metadata": {},
   "source": [
    "## Program Instrumentation"
   ]
  },
  {
   "cell_type": "markdown",
   "metadata": {},
   "source": [
    "Deriving fitness functions is not quite so easy. Of course we could come up with an equation that captures the relation between the sides of the triangle, but then essentially we would need to reproduce the entire program logic again in a function, which certainly does not help generalising to other programs. For example, consider how the fitness function would look like if the comparison was not made on the input parameters, but on values derived through computation within the function under test. Ideally, what we would want is to be able to pick a point in the program and come up with a fitness function automatically that describes how close we are to reaching this point."
   ]
  },
  {
   "cell_type": "markdown",
   "metadata": {},
   "source": [
    "There are two central ideas in order to achieve this:\n",
    "\n",
    "- First, rather than trying to guess how close a program inputs gets to a target statement, we simply _run_ the program with the input and observe how close it actually gets.\n",
    "\n",
    "- Second, during the execution we keep track of distance estimates like the one we calculated for the `test_me` function whenever we come across conditional statements."
   ]
  },
  {
   "cell_type": "markdown",
   "metadata": {},
   "source": [
    "In order to observe what an execution does, we need to *instrument* the program: We add new code immediately before or after the branching condition to keep track of the values observed and calculate the distance using these values."
   ]
  },
  {
   "cell_type": "markdown",
   "metadata": {},
   "source": [
    "Let's first consider what is done here conceptually. We first define a global variable in which we will store the distance, so that we can access it after the execution:"
   ]
  },
  {
   "cell_type": "code",
   "execution_count": 33,
   "metadata": {},
   "outputs": [],
   "source": [
    "distance = 0"
   ]
  },
  {
   "cell_type": "markdown",
   "metadata": {},
   "source": [
    "Now the instrumented version just has to update the global variable immediately before executing the branching condition:"
   ]
  },
  {
   "cell_type": "code",
   "execution_count": 34,
   "metadata": {},
   "outputs": [],
   "source": [
    "def test_me_instrumented(x, y):\n",
    "    global distance\n",
    "    distance = abs(x - 2 * (y + 1))\n",
    "    if x == 2 * (y + 1):\n",
    "        return True\n",
    "    else:\n",
    "        return False"
   ]
  },
  {
   "cell_type": "markdown",
   "metadata": {},
   "source": [
    "Let's try this out for a couple of example values:"
   ]
  },
  {
   "cell_type": "code",
   "execution_count": 35,
   "metadata": {},
   "outputs": [
    {
     "data": {
      "text/plain": [
       "2"
      ]
     },
     "execution_count": 35,
     "metadata": {},
     "output_type": "execute_result"
    }
   ],
   "source": [
    "test_me_instrumented(0, 0)\n",
    "distance"
   ]
  },
  {
   "cell_type": "code",
   "execution_count": 36,
   "metadata": {},
   "outputs": [
    {
     "data": {
      "text/plain": [
       "0"
      ]
     },
     "execution_count": 36,
     "metadata": {},
     "output_type": "execute_result"
    }
   ],
   "source": [
    "test_me_instrumented(22, 10)\n",
    "distance"
   ]
  },
  {
   "cell_type": "markdown",
   "metadata": {},
   "source": [
    "Using this instrumented version of `test_me()`, we can define a fitness function which simply calculates the distance for the condition being true:"
   ]
  },
  {
   "cell_type": "code",
   "execution_count": 37,
   "metadata": {},
   "outputs": [],
   "source": [
    "def get_fitness(individual):\n",
    "    global distance\n",
    "    test_me_instrumented(*individual)\n",
    "    fitness = distance\n",
    "    return fitness"
   ]
  },
  {
   "cell_type": "markdown",
   "metadata": {},
   "source": [
    "Let's try this on some example inputs:"
   ]
  },
  {
   "cell_type": "code",
   "execution_count": 38,
   "metadata": {},
   "outputs": [
    {
     "data": {
      "text/plain": [
       "2"
      ]
     },
     "execution_count": 38,
     "metadata": {},
     "output_type": "execute_result"
    }
   ],
   "source": [
    "get_fitness([0, 0])"
   ]
  },
  {
   "cell_type": "markdown",
   "metadata": {},
   "source": [
    "When we have reached the target branch, the distance will be 0:"
   ]
  },
  {
   "cell_type": "code",
   "execution_count": 39,
   "metadata": {},
   "outputs": [
    {
     "data": {
      "text/plain": [
       "0"
      ]
     },
     "execution_count": 39,
     "metadata": {},
     "output_type": "execute_result"
    }
   ],
   "source": [
    "get_fitness([22, 10])"
   ]
  },
  {
   "cell_type": "markdown",
   "metadata": {},
   "source": [
    "When implementing the instrumentation, we need to consider that the branching condition may have side-effects. For example, suppose that the branching condition were `x == 2 * foo(y)`, where `foo()` is a function that takes an integer as input. Naively instrumenting would lead to the following code:\n",
    "\n",
    "```\n",
    "    distance = abs(x - 2 * foo(y))\n",
    "\tif x == 2 * foo(y):\n",
    "\t...\n",
    "```"
   ]
  },
  {
   "cell_type": "markdown",
   "metadata": {},
   "source": [
    "Thus, the instrumentation would lead to `foo()` being executed *twice*. Suppose `foo()` changes the state of the system (e.g., by printing something, accessing the file system, changing some state variables, etc.), then clearly invoking `foo()` a second time is a bad idea. One way to overcome this problem is to _transform_ the conditions, rather than _adding_ tracing calls. For example, one can create temporary variables that hold the values necessary for the distance calculation and then use these in the branching condition:\n",
    "\n",
    "```\n",
    "\ttmp1 = x\n",
    "\ttmp2 = 2 * foo(y)\n",
    "\tdistance = compute_distance(tmp1, tmp2)\n",
    "\tif tmp1 == tmp2:\n",
    "\t...\n",
    "```"
   ]
  },
  {
   "cell_type": "code",
   "execution_count": 40,
   "metadata": {},
   "outputs": [],
   "source": [
    "def evaluate_equals(op1, op2):\n",
    "    global distance\n",
    "    distance = abs(op1 - op2)\n",
    "    if distance == 0:\n",
    "        return True\n",
    "    else:\n",
    "        return False;"
   ]
  },
  {
   "cell_type": "markdown",
   "metadata": {},
   "source": [
    "Now the aim would be to transform the program automatically such that it looks like so:"
   ]
  },
  {
   "cell_type": "code",
   "execution_count": 41,
   "metadata": {},
   "outputs": [],
   "source": [
    "def test_me_instrumented(x, y):\n",
    "    tmp1 = x\n",
    "    tmp2 = 2 * (y + 1)    \n",
    "    if evaluate_equals(tmp1, tmp2):\n",
    "        return True\n",
    "    else:\n",
    "        return False"
   ]
  },
  {
   "cell_type": "markdown",
   "metadata": {},
   "source": [
    "Replacing comparisons automatically is actually quite easy in Python, using the abstract syntax tree (AST) of the program. In the AST, a comparison will typically be a tree node with an operator attribute and two children for the left-hand and right-hand operators. To replace such comparisons with a call to `calculate_distance()` one simply needs to replace the comparison node in the AST with a function call node, and this is what the `BranchTransformer` class does using a NodeTransformer from Python's `ast` module:"
   ]
  },
  {
   "cell_type": "code",
   "execution_count": 42,
   "metadata": {},
   "outputs": [],
   "source": [
    "import ast"
   ]
  },
  {
   "cell_type": "code",
   "execution_count": 43,
   "metadata": {},
   "outputs": [],
   "source": [
    "class BranchTransformer(ast.NodeTransformer):\n",
    "\n",
    "    def visit_FunctionDef(self, node):\n",
    "        node.name = node.name + \"_instrumented\"\n",
    "        return self.generic_visit(node)\n",
    "\n",
    "    def visit_Compare(self, node):\n",
    "        if not isinstance(node.ops[0], ast.Eq):\n",
    "            return node\n",
    "\n",
    "        return ast.Call(func=ast.Name(\"evaluate_equals\", ast.Load()),\n",
    "                        args=[node.left,\n",
    "                              node.comparators[0]],\n",
    "                        keywords=[],\n",
    "                        starargs=None,\n",
    "                        kwargs=None)"
   ]
  },
  {
   "cell_type": "markdown",
   "metadata": {},
   "source": [
    "The `BranchTransformer` parses a target Python program using the built-in parser `ast.parse()`, which returns the AST. Python provides an API to traverse and modify this AST. To replace the comparison with a function call we use an `ast.NodeTransformer`, which uses the visitor pattern where there is one `visit_*` function for each type of node in the AST. As we are interested in replacing comparisons, we override `visit_Compare`, where instead of the original comparison node we return a new node of type `ast.Func`, which is a function call node. The first parameter of this node is the name of the function `calculate_distance`, and the arguments are the two operands that our `calculate_distance` function expects.\n",
    "\n",
    "You will notice that we also override `visit_FunctionDef`; this is just to change the name of the method by appending `_instrumented`, so that we can continue to use the original function together with the instrumented one."
   ]
  },
  {
   "cell_type": "markdown",
   "metadata": {},
   "source": [
    "The following code parses the source code of the `test_me()` function to an AST, then transforms it, and prints it out again (using the `to_source()` function from the `astor` library):"
   ]
  },
  {
   "cell_type": "code",
   "execution_count": 44,
   "metadata": {},
   "outputs": [],
   "source": [
    "import inspect\n",
    "import ast\n",
    "import astor"
   ]
  },
  {
   "cell_type": "code",
   "execution_count": 45,
   "metadata": {},
   "outputs": [
    {
     "name": "stdout",
     "output_type": "stream",
     "text": [
      "def test_me_instrumented(x, y):\n",
      "    if evaluate_equals(x, 2 * (y + 1)):\n",
      "        return True\n",
      "    else:\n",
      "        return False\n",
      "\n"
     ]
    }
   ],
   "source": [
    "source = inspect.getsource(test_me)\n",
    "node = ast.parse(source)\n",
    "BranchTransformer().visit(node)\n",
    "\n",
    "# Make sure the line numbers are ok before printing\n",
    "node = ast.fix_missing_locations(node)\n",
    "print(astor.to_source(node))"
   ]
  },
  {
   "cell_type": "markdown",
   "metadata": {},
   "source": [
    "To calculate a fitness value with the instrumented version, we need to compile the instrumented AST again, which is done using Python's `compile()` function. We then need to make the compiled function accessible, for which we first retrieve the current module from `sys.modules`, and then add the compiled code of the instrumented function to the list of functions of the current module using `exec`. After this, the `cgi_decode_instrumented()` function can be accessed."
   ]
  },
  {
   "cell_type": "code",
   "execution_count": 46,
   "metadata": {},
   "outputs": [],
   "source": [
    "import sys"
   ]
  },
  {
   "cell_type": "code",
   "execution_count": 47,
   "metadata": {},
   "outputs": [],
   "source": [
    "def create_instrumented_function(f):\n",
    "    source = inspect.getsource(f)\n",
    "    node = ast.parse(source)\n",
    "    node = BranchTransformer().visit(node)\n",
    "\n",
    "    # Make sure the line numbers are ok so that it compiles\n",
    "    node = ast.fix_missing_locations(node)\n",
    "\n",
    "    # Compile and add the instrumented function to the current module\n",
    "    current_module = sys.modules[__name__]\n",
    "    code = compile(node, filename=\"<ast>\", mode=\"exec\")\n",
    "    exec(code, current_module.__dict__)"
   ]
  },
  {
   "cell_type": "code",
   "execution_count": 48,
   "metadata": {},
   "outputs": [],
   "source": [
    "create_instrumented_function(test_me)"
   ]
  },
  {
   "cell_type": "code",
   "execution_count": 49,
   "metadata": {},
   "outputs": [
    {
     "data": {
      "text/plain": [
       "False"
      ]
     },
     "execution_count": 49,
     "metadata": {},
     "output_type": "execute_result"
    }
   ],
   "source": [
    "test_me_instrumented(0, 0)"
   ]
  },
  {
   "cell_type": "code",
   "execution_count": 50,
   "metadata": {},
   "outputs": [
    {
     "data": {
      "text/plain": [
       "2"
      ]
     },
     "execution_count": 50,
     "metadata": {},
     "output_type": "execute_result"
    }
   ],
   "source": [
    "distance"
   ]
  },
  {
   "cell_type": "code",
   "execution_count": 51,
   "metadata": {},
   "outputs": [
    {
     "data": {
      "text/plain": [
       "True"
      ]
     },
     "execution_count": 51,
     "metadata": {},
     "output_type": "execute_result"
    }
   ],
   "source": [
    "test_me_instrumented(22, 10)"
   ]
  },
  {
   "cell_type": "code",
   "execution_count": 52,
   "metadata": {},
   "outputs": [
    {
     "data": {
      "text/plain": [
       "0"
      ]
     },
     "execution_count": 52,
     "metadata": {},
     "output_type": "execute_result"
    }
   ],
   "source": [
    "distance"
   ]
  },
  {
   "cell_type": "markdown",
   "metadata": {},
   "source": [
    "The estimate for any relational comparison of two values is defined in terms of the _branch distance_. Our `evaluate_equals` function indeed implements the branch distance function for an equality comparison. To generalise this we need similar estimates for other types of relational comparisons. Furthermore, we also have to consider the distance to such conditions evaluating to false, not just to true. Thus, each if-condition actually has two distance estimates, one to estimate how close it is to being true, and one how close it is to being false. If the condition is true, then the true distance is 0; if the condition is false, then the false distance is 0. That is, in a comparison `a == b`, if `a` is smaller than `b`, then the false distance is `0` by definition. \n",
    "\n",
    "The following table shows how to calculate the distance for different types of comparisons:\n",
    "\n",
    "| Condition | Distance True | Distance False |\n",
    "| ------------- |:-------------:| -----:|\n",
    "| a == b      | abs(a - b) | 1 |\n",
    "| a != b      | 1          | abs(a - b) |\n",
    "| a < b       | b - a + 1  | a - b      |\n",
    "| a <= b      | b - a      | a - b + 1  |\n",
    "| a > b       | a - b + 1  | b - a      |\n",
    "\n",
    "\n",
    "Note that several of the calculations add a constant `1`. The reason for this is quite simple: Suppose we want to have `a < b` evaluate to true, and let `a = 27` and `b = 27`. The condition is not true, but simply taking the difference would give us a result of `0`. To avoid this, we have to add a constant value. It is not important whether this value is `1` -- any positive constant works."
   ]
  },
  {
   "cell_type": "markdown",
   "metadata": {},
   "source": [
    "We generalise our `evaluate_equals` function to an `evaluate_condition` function that takes the operator as an additional parameter, and then implements the above table. In contrast to the previous `calculate_equals`, we will now calculate both, the true and the false distance:"
   ]
  },
  {
   "cell_type": "code",
   "execution_count": 53,
   "metadata": {},
   "outputs": [],
   "source": [
    "def evaluate_condition(op, lhs, rhs):\n",
    "    distance_true = 0\n",
    "    distance_false = 0\n",
    "    if op == \"Eq\":\n",
    "        if lhs == rhs:\n",
    "            distance_false = 1\n",
    "        else:\n",
    "            distance_true = abs(lhs - rhs)\n",
    "\n",
    "    # ... code for other types of conditions\n",
    "\n",
    "    if distance_true == 0:\n",
    "        return True\n",
    "    else:\n",
    "        return False"
   ]
  },
  {
   "cell_type": "markdown",
   "metadata": {},
   "source": [
    "Let's consider a slightly larger function under test. We will use the well known triangle example, originating in Glenford Meyer's classical Art of Software Testing book "
   ]
  },
  {
   "cell_type": "code",
   "execution_count": 54,
   "metadata": {},
   "outputs": [],
   "source": [
    "def triangle(a, b, c):\n",
    "    if a <= 0 or b <= 0 or c <= 0:\n",
    "        return 4 # invalid\n",
    "    \n",
    "    if a + b <= c or a + c <= b or b + c <= a:\n",
    "        return 4 # invalid\n",
    "    \n",
    "    if a == b and b == c:\n",
    "        return 1 # equilateral\n",
    "    \n",
    "    if a == b or b == c or a == c:\n",
    "        return 2 # isosceles\n",
    "    \n",
    "    return 3 # scalene"
   ]
  },
  {
   "cell_type": "markdown",
   "metadata": {},
   "source": [
    "The function takes as input the length of the three sides of a triangle, and returns a number representing the type of triangle:"
   ]
  },
  {
   "cell_type": "code",
   "execution_count": 55,
   "metadata": {},
   "outputs": [
    {
     "data": {
      "text/plain": [
       "1"
      ]
     },
     "execution_count": 55,
     "metadata": {},
     "output_type": "execute_result"
    }
   ],
   "source": [
    "triangle(4,4,4)"
   ]
  },
  {
   "cell_type": "markdown",
   "metadata": {},
   "source": [
    "Adapting our representation is easy, we just need to correctly set the number of parameters:"
   ]
  },
  {
   "cell_type": "code",
   "execution_count": 56,
   "metadata": {},
   "outputs": [
    {
     "data": {
      "text/plain": [
       "3"
      ]
     },
     "execution_count": 56,
     "metadata": {},
     "output_type": "execute_result"
    }
   ],
   "source": [
    "sig = signature(triangle)\n",
    "num_parameters = len(sig.parameters)\n",
    "num_parameters"
   ]
  },
  {
   "cell_type": "markdown",
   "metadata": {},
   "source": [
    "For the `triangle` function, however, we have multiple if-conditions; we have to add instrumentation to each of these using `evaluate_condition`. We also need to generalise from our global `distance` variable, since we now have two distance values per branch, and potentially multiple branches. Furthermore, a condition might be executed multiple times within a single execution (e.g., if it is in a loop), so rather than storing all values, we will only keep the _minimum_ value observed for each condition:"
   ]
  },
  {
   "cell_type": "code",
   "execution_count": 57,
   "metadata": {},
   "outputs": [],
   "source": [
    "distances_true = {}\n",
    "distances_false = {}"
   ]
  },
  {
   "cell_type": "code",
   "execution_count": 58,
   "metadata": {},
   "outputs": [],
   "source": [
    "def update_maps(condition_num, d_true, d_false):\n",
    "    global distances_true, distances_false\n",
    "\n",
    "    if condition_num in distances_true.keys():\n",
    "        distances_true[condition_num] = min(distances_true[condition_num], d_true)\n",
    "    else:\n",
    "        distances_true[condition_num] = d_true\n",
    "\n",
    "    if condition_num in distances_false.keys():\n",
    "        distances_false[condition_num] = min(distances_false[condition_num], d_false)\n",
    "    else:\n",
    "        distances_false[condition_num] = d_false"
   ]
  },
  {
   "cell_type": "markdown",
   "metadata": {},
   "source": [
    "Now we need to finish implementing the `evaluate_condition` function. We add yet another parameter to denote the ID of the branch we are instrumenting:"
   ]
  },
  {
   "cell_type": "code",
   "execution_count": 59,
   "metadata": {},
   "outputs": [],
   "source": [
    "def evaluate_condition(num, op, lhs, rhs):\n",
    "    distance_true = 0\n",
    "    distance_false = 0\n",
    "\n",
    "    # Make sure the distance can be calculated on number and character\n",
    "    # comparisons (needed for cgi_decode later)\n",
    "    if isinstance(lhs, str):\n",
    "        lhs = ord(lhs)\n",
    "    if isinstance(rhs, str):\n",
    "        rhs = ord(rhs)\n",
    "\n",
    "    if op == \"Eq\":\n",
    "        if lhs == rhs:\n",
    "            distance_false = 1\n",
    "        else:\n",
    "            distance_true = abs(lhs - rhs)\n",
    "\n",
    "    elif op == \"Gt\":\n",
    "        if lhs > rhs:\n",
    "            distance_false = lhs - rhs\n",
    "        else:\n",
    "            distance_true = rhs - lhs + 1\n",
    "    elif op == \"Lt\":\n",
    "        if lhs < rhs:\n",
    "            distance_false = rhs - lhs\n",
    "        else:\n",
    "            distance_true = lhs - rhs + 1\n",
    "    elif op == \"LtE\":\n",
    "        if lhs <= rhs:\n",
    "            distance_false = rhs - lhs + 1\n",
    "        else:\n",
    "            distance_true = lhs - rhs\n",
    "    # ...\n",
    "    # handle other comparison operators\n",
    "    # ...\n",
    "\n",
    "    elif op == \"In\":\n",
    "        minimum = sys.maxsize\n",
    "        for elem in rhs.keys():\n",
    "            distance = abs(lhs - ord(elem))\n",
    "            if distance < minimum:\n",
    "                minimum = distance\n",
    "\n",
    "        distance_true = minimum\n",
    "        if distance_true == 0:\n",
    "            distance_false = 1\n",
    "    else:\n",
    "        assert False\n",
    "\n",
    "    update_maps(num, normalise(distance_true), normalise(distance_false))\n",
    "\n",
    "    if distance_true == 0:\n",
    "        return True\n",
    "    else:\n",
    "        return False"
   ]
  },
  {
   "cell_type": "markdown",
   "metadata": {},
   "source": [
    "We need to normalise branch distances since different comparisons will be on different scales, and this would bias the search. We will use the normalisaction function defined in the previous chapter:"
   ]
  },
  {
   "cell_type": "code",
   "execution_count": 60,
   "metadata": {},
   "outputs": [],
   "source": [
    "def normalise(x):\n",
    "    return x / (1.0 + x)"
   ]
  },
  {
   "cell_type": "markdown",
   "metadata": {},
   "source": [
    "We also need to extend our instrumentation function to take care of all comparisons, and not just equality comparisons:"
   ]
  },
  {
   "cell_type": "code",
   "execution_count": 61,
   "metadata": {},
   "outputs": [],
   "source": [
    "import ast\n",
    "class BranchTransformer(ast.NodeTransformer):\n",
    "\n",
    "    branch_num = 0\n",
    "\n",
    "    def visit_FunctionDef(self, node):\n",
    "        node.name = node.name + \"_instrumented\"\n",
    "        return self.generic_visit(node)\n",
    "\n",
    "    def visit_Compare(self, node):\n",
    "        if node.ops[0] in [ast.Is, ast.IsNot, ast.In, ast.NotIn]:\n",
    "            return node\n",
    "\n",
    "        self.branch_num += 1\n",
    "        return ast.Call(func=ast.Name(\"evaluate_condition\", ast.Load()),\n",
    "                        args=[ast.Num(self.branch_num - 1),\n",
    "                              ast.Str(node.ops[0].__class__.__name__),\n",
    "                              node.left,\n",
    "                              node.comparators[0]],\n",
    "                        keywords=[],\n",
    "                        starargs=None,\n",
    "                        kwargs=None)"
   ]
  },
  {
   "cell_type": "markdown",
   "metadata": {},
   "source": [
    "We can now take a look at the instrumented version of `triangle`:"
   ]
  },
  {
   "cell_type": "code",
   "execution_count": 62,
   "metadata": {},
   "outputs": [
    {
     "name": "stdout",
     "output_type": "stream",
     "text": [
      "def triangle_instrumented(a, b, c):\n",
      "    if evaluate_condition(0, 'LtE', a, 0) or evaluate_condition(1, 'LtE', b, 0\n",
      "        ) or evaluate_condition(2, 'LtE', c, 0):\n",
      "        return 4\n",
      "    if evaluate_condition(3, 'LtE', a + b, c) or evaluate_condition(4,\n",
      "        'LtE', a + c, b) or evaluate_condition(5, 'LtE', b + c, a):\n",
      "        return 4\n",
      "    if evaluate_condition(6, 'Eq', a, b) and evaluate_condition(7, 'Eq', b, c):\n",
      "        return 1\n",
      "    if evaluate_condition(8, 'Eq', a, b) or evaluate_condition(9, 'Eq', b, c\n",
      "        ) or evaluate_condition(10, 'Eq', a, c):\n",
      "        return 2\n",
      "    return 3\n",
      "\n"
     ]
    }
   ],
   "source": [
    "source = inspect.getsource(triangle)\n",
    "node = ast.parse(source)\n",
    "transformer = BranchTransformer()\n",
    "transformer.visit(node)\n",
    "\n",
    "# Make sure the line numbers are ok before printing\n",
    "node = ast.fix_missing_locations(node)\n",
    "print(astor.to_source(node))\n",
    "num_branches = transformer.branch_num"
   ]
  },
  {
   "cell_type": "markdown",
   "metadata": {},
   "source": [
    "To define an executable version of the instrumented triangle function, we can use our `create_instrumented_function` function again:"
   ]
  },
  {
   "cell_type": "code",
   "execution_count": 63,
   "metadata": {},
   "outputs": [],
   "source": [
    "create_instrumented_function(triangle)"
   ]
  },
  {
   "cell_type": "code",
   "execution_count": 64,
   "metadata": {},
   "outputs": [
    {
     "data": {
      "text/plain": [
       "1"
      ]
     },
     "execution_count": 64,
     "metadata": {},
     "output_type": "execute_result"
    }
   ],
   "source": [
    "triangle_instrumented(4, 4, 4)"
   ]
  },
  {
   "cell_type": "code",
   "execution_count": 65,
   "metadata": {},
   "outputs": [
    {
     "data": {
      "text/plain": [
       "{0: 0.8, 1: 0.8, 2: 0.8, 3: 0.8, 4: 0.8, 5: 0.8, 6: 0.0, 7: 0.0}"
      ]
     },
     "execution_count": 65,
     "metadata": {},
     "output_type": "execute_result"
    }
   ],
   "source": [
    "distances_true"
   ]
  },
  {
   "cell_type": "code",
   "execution_count": 66,
   "metadata": {},
   "outputs": [
    {
     "data": {
      "text/plain": [
       "{0: 0.0, 1: 0.0, 2: 0.0, 3: 0.0, 4: 0.0, 5: 0.0, 6: 0.5, 7: 0.5}"
      ]
     },
     "execution_count": 66,
     "metadata": {},
     "output_type": "execute_result"
    }
   ],
   "source": [
    "distances_false"
   ]
  },
  {
   "cell_type": "markdown",
   "metadata": {},
   "source": [
    "The branch distance functions above are defined only for atomic comparisons. However, in the `triangle` program all of the atomic comparisons are part of larger predicates, joined together by `and` and `or` connectors. \n",
    "\n",
    "For conjunctions the branch distance is defined such that the distance to make `A and B` true equals the sum of the branch distances for `A` and `B`, as both of the two conditions would need to be true. Similarly, the branch distance to make `A or B` true would be the _minimum_ of the two branch distances of `A` and `B`, as it suffices if one of the two conditions is true to make the entire expression true (and the false distance would be the sum of false distances of the conditions). For a negation `not A`, we can simply switch from the true distance to the false distance, or vice versa. Since predicates can consist of nested conditions, one would need to recursively calculate the branch distance.\n"
   ]
  },
  {
   "cell_type": "markdown",
   "metadata": {},
   "source": [
    "Assume we want to find an input that covers the third if-condition, i.e., it produces a triangle where all sides have equal length. Considering instrumented version of the triangle function we printed above, in order for this if-condition to evaluate to true we require conditions 0, 1, 2, 3, 4, and 5 to evaluate to false, and 6 and 7 to evaluate to true. Thus, the fitness function for this branch would be the sum of false distances for branches 0-5, and true distances for branches 6 and 7."
   ]
  },
  {
   "cell_type": "code",
   "execution_count": 67,
   "metadata": {},
   "outputs": [],
   "source": [
    "def get_fitness(x):\n",
    "    # Reset any distance values from previous executions\n",
    "    global distances_true, distances_false\n",
    "    distances_true = {x: 1.0 for x in range(num_branches)}\n",
    "    distances_false = {x: 1.0 for x in range(num_branches)}\n",
    "\n",
    "    # Run the function under test\n",
    "    triangle_instrumented(*x)\n",
    "\n",
    "    # Sum up branch distances\n",
    "    fitness = 0.0\n",
    "    for branch in [6, 7]:\n",
    "        fitness += distances_true[branch]\n",
    "\n",
    "    for branch in [0, 1, 2, 3, 4, 5]:\n",
    "        fitness += distances_false[branch]\n",
    "\n",
    "    return fitness"
   ]
  },
  {
   "cell_type": "code",
   "execution_count": 68,
   "metadata": {},
   "outputs": [
    {
     "data": {
      "text/plain": [
       "0.0"
      ]
     },
     "execution_count": 68,
     "metadata": {},
     "output_type": "execute_result"
    }
   ],
   "source": [
    "get_fitness([5,5,5])"
   ]
  },
  {
   "cell_type": "code",
   "execution_count": 69,
   "metadata": {},
   "outputs": [
    {
     "data": {
      "text/plain": [
       "7.999999998088642"
      ]
     },
     "execution_count": 69,
     "metadata": {},
     "output_type": "execute_result"
    }
   ],
   "source": [
    "get_fitness(get_random_individual())"
   ]
  },
  {
   "cell_type": "code",
   "execution_count": 70,
   "metadata": {},
   "outputs": [
    {
     "name": "stdout",
     "output_type": "stream",
     "text": [
      "Starting at fitness 2.999063670411985: [6144, 1816, 3262]\n",
      "Solution fitness after 10002 fitness evaluations: 1.9996243425995492: [4477, 1816, 3262]\n"
     ]
    },
    {
     "data": {
      "text/plain": [
       "[4477, 1816, 3262]"
      ]
     },
     "execution_count": 70,
     "metadata": {},
     "output_type": "execute_result"
    }
   ],
   "source": [
    "MAX=10000\n",
    "MIN=-MAX\n",
    "fitness_values = []\n",
    "max_gen = 1000\n",
    "hillclimbing()"
   ]
  },
  {
   "cell_type": "code",
   "execution_count": 71,
   "metadata": {
    "scrolled": true
   },
   "outputs": [
    {
     "data": {
      "text/plain": [
       "[<matplotlib.lines.Line2D at 0x11ba8f100>]"
      ]
     },
     "execution_count": 71,
     "metadata": {},
     "output_type": "execute_result"
    },
    {
     "data": {
      "image/png": "[encoded data removed]",
      "text/plain": [
       "<Figure size 432x288 with 1 Axes>"
      ]
     },
     "metadata": {
      "needs_background": "light"
     },
     "output_type": "display_data"
    }
   ],
   "source": [
    "plt.plot(fitness_values)"
   ]
  },
  {
   "cell_type": "code",
   "execution_count": 72,
   "metadata": {},
   "outputs": [
    {
     "name": "stdout",
     "output_type": "stream",
     "text": [
      "Starting at fitness 1.9976303317535544: [7613, 7192, 9223]\n",
      "Current parameter: 0\n",
      "Trying +1 at fitness 1.9976303317535544: [7614, 7192, 9223]\n",
      "Trying -1 at fitness 1.9976303317535544: [7612, 7192, 9223]\n",
      "-> [7612, 7192, 9223], direction -2, fitness 1.997624703087886\n",
      "-> [7610, 7192, 9223], direction -4, fitness 1.9976133651551313\n",
      "-> [7606, 7192, 9223], direction -8, fitness 1.9975903614457833\n",
      "-> [7598, 7192, 9223], direction -16, fitness 1.9975429975429977\n",
      "-> [7582, 7192, 9223], direction -32, fitness 1.9974424552429668\n",
      "-> [7550, 7192, 9223], direction -64, fitness 1.9972144846796658\n",
      "-> [7486, 7192, 9223], direction -128, fitness 1.9966101694915255\n",
      "-> [7358, 7192, 9223], direction -256, fitness 1.9940119760479043\n",
      "-> [7102, 7192, 9223], direction -512, fitness 1.989010989010989\n",
      "Current parameter: 0\n",
      "Trying +1 at fitness 1.989010989010989: [7103, 7192, 9223]\n",
      "-> [7103, 7192, 9223], direction 2, fitness 1.988888888888889\n",
      "-> [7105, 7192, 9223], direction 4, fitness 1.9886363636363638\n",
      "-> [7109, 7192, 9223], direction 8, fitness 1.9880952380952381\n",
      "-> [7117, 7192, 9223], direction 16, fitness 1.986842105263158\n",
      "-> [7133, 7192, 9223], direction 32, fitness 1.9833333333333334\n",
      "-> [7165, 7192, 9223], direction 64, fitness 1.9642857142857144\n",
      "Current parameter: 0\n",
      "Trying +1 at fitness 1.9642857142857144: [7166, 7192, 9223]\n",
      "-> [7166, 7192, 9223], direction 2, fitness 1.9629629629629628\n",
      "-> [7168, 7192, 9223], direction 4, fitness 1.96\n",
      "-> [7172, 7192, 9223], direction 8, fitness 1.9523809523809523\n",
      "-> [7180, 7192, 9223], direction 16, fitness 1.9230769230769231\n",
      "-> [7196, 7192, 9223], direction 32, fitness 1.8\n",
      "Current parameter: 0\n",
      "Trying +1 at fitness 1.8: [7197, 7192, 9223]\n",
      "Trying -1 at fitness 1.8: [7195, 7192, 9223]\n",
      "-> [7195, 7192, 9223], direction -2, fitness 1.75\n",
      "-> [7193, 7192, 9223], direction -4, fitness 1.5\n",
      "Current parameter: 0\n",
      "Trying +1 at fitness 1.5: [7194, 7192, 9223]\n",
      "Trying -1 at fitness 1.5: [7192, 7192, 9223]\n",
      "-> [7192, 7192, 9223], direction -2, fitness 0.999507874015748\n",
      "Current parameter: 0\n",
      "Trying +1 at fitness 0.999507874015748: [7193, 7192, 9223]\n",
      "Trying -1 at fitness 0.999507874015748: [7191, 7192, 9223]\n",
      "Current parameter: 1\n",
      "Trying +1 at fitness 0.999507874015748: [7192, 7193, 9223]\n",
      "Trying -1 at fitness 0.999507874015748: [7192, 7191, 9223]\n",
      "Current parameter: 2\n",
      "Trying +1 at fitness 0.999507874015748: [7192, 7192, 9224]\n",
      "Trying -1 at fitness 0.999507874015748: [7192, 7192, 9222]\n",
      "-> [7192, 7192, 9222], direction -2, fitness 0.999507631708518\n",
      "-> [7192, 7192, 9220], direction -4, fitness 0.9995071463775259\n",
      "-> [7192, 7192, 9216], direction -8, fitness 0.9995061728395062\n",
      "-> [7192, 7192, 9208], direction -16, fitness 0.9995042141794744\n",
      "-> [7192, 7192, 9192], direction -32, fitness 0.9995002498750625\n",
      "-> [7192, 7192, 9160], direction -64, fitness 0.9994921279837481\n",
      "-> [7192, 7192, 9096], direction -128, fitness 0.9994750656167979\n",
      "-> [7192, 7192, 8968], direction -256, fitness 0.9994372537985369\n",
      "-> [7192, 7192, 8712], direction -512, fitness 0.9993425378040762\n",
      "-> [7192, 7192, 8200], direction -1024, fitness 0.9990089197224975\n",
      "-> [7192, 7192, 7176], direction -2048, fitness 0.9411764705882353\n",
      "Current parameter: 2\n",
      "Trying +1 at fitness 0.9411764705882353: [7192, 7192, 7177]\n",
      "-> [7192, 7192, 7177], direction 2, fitness 0.9375\n",
      "-> [7192, 7192, 7179], direction 4, fitness 0.9285714285714286\n",
      "-> [7192, 7192, 7183], direction 8, fitness 0.9\n",
      "-> [7192, 7192, 7191], direction 16, fitness 0.5\n",
      "Current parameter: 2\n",
      "Trying +1 at fitness 0.5: [7192, 7192, 7192]\n",
      "-> [7192, 7192, 7192], direction 2, fitness 0.0\n",
      "Current parameter: 2\n",
      "Trying +1 at fitness 0.0: [7192, 7192, 7193]\n",
      "Trying -1 at fitness 0.0: [7192, 7192, 7191]\n",
      "Current parameter: 0\n",
      "Trying +1 at fitness 0.0: [7193, 7192, 7192]\n",
      "Trying -1 at fitness 0.0: [7191, 7192, 7192]\n",
      "Current parameter: 1\n",
      "Trying +1 at fitness 0.0: [7192, 7193, 7192]\n",
      "Trying -1 at fitness 0.0: [7192, 7191, 7192]\n",
      "Current parameter: 2\n",
      "Trying +1 at fitness 0.0: [7192, 7192, 7193]\n",
      "Trying -1 at fitness 0.0: [7192, 7192, 7191]\n",
      "Solution fitness 0.0: [7192, 7192, 7192]\n"
     ]
    },
    {
     "data": {
      "text/plain": [
       "[7192, 7192, 7192]"
      ]
     },
     "execution_count": 72,
     "metadata": {},
     "output_type": "execute_result"
    }
   ],
   "source": [
    "fitness_values = []\n",
    "avm()"
   ]
  },
  {
   "cell_type": "code",
   "execution_count": 73,
   "metadata": {
    "scrolled": true
   },
   "outputs": [
    {
     "data": {
      "text/plain": [
       "[<matplotlib.lines.Line2D at 0x11baec490>]"
      ]
     },
     "execution_count": 73,
     "metadata": {},
     "output_type": "execute_result"
    },
    {
     "data": {
      "image/png": "[encoded data removed]",
      "text/plain": [
       "<Figure size 432x288 with 1 Axes>"
      ]
     },
     "metadata": {
      "needs_background": "light"
     },
     "output_type": "display_data"
    }
   ],
   "source": [
    "plt.plot(fitness_values)"
   ]
  },
  {
   "cell_type": "markdown",
   "metadata": {},
   "source": [
    "Besides the local search algorithms, we can also use evolutionary search in order to find solutions to our test generation problem. We therefore need to define the usual search operators:"
   ]
  },
  {
   "cell_type": "code",
   "execution_count": 74,
   "metadata": {},
   "outputs": [],
   "source": [
    "tournament_size = 3\n",
    "def tournament_selection(population):\n",
    "    candidates = random.sample(population, tournament_size)        \n",
    "    winner = min(candidates, key=lambda x: get_fitness(x))\n",
    "    return winner"
   ]
  },
  {
   "cell_type": "code",
   "execution_count": 75,
   "metadata": {},
   "outputs": [],
   "source": [
    "elite_size = 2\n",
    "def elitism(population):\n",
    "    population.sort(key=lambda k: get_fitness(k))\n",
    "    return population[:elite_size]"
   ]
  },
  {
   "cell_type": "code",
   "execution_count": 76,
   "metadata": {},
   "outputs": [],
   "source": [
    "def mutate(solution):\n",
    "    P_mutate = 1/len(solution)\n",
    "    mutated = solution[:]\n",
    "    for position in range(len(solution)):\n",
    "        if random.random() < P_mutate:\n",
    "            mutated[position] = int(random.gauss(mutated[position], 20))\n",
    "    return mutated"
   ]
  },
  {
   "cell_type": "code",
   "execution_count": 77,
   "metadata": {},
   "outputs": [],
   "source": [
    "def singlepoint_crossover(parent1, parent2):\n",
    "    pos = random.randint(0, len(parent1))\n",
    "    offspring1 = parent1[:pos] + parent2[pos:]\n",
    "    offspring2 = parent2[:pos] + parent1[pos:]\n",
    "    return (offspring1, offspring2)"
   ]
  },
  {
   "cell_type": "code",
   "execution_count": 78,
   "metadata": {},
   "outputs": [],
   "source": [
    "population_size = 20\n",
    "P_xover = 0.7\n",
    "max_gen = 100\n",
    "selection = tournament_selection\n",
    "crossover = singlepoint_crossover\n",
    "MAX=1000\n",
    "MIN=-MAX"
   ]
  },
  {
   "cell_type": "code",
   "execution_count": 79,
   "metadata": {},
   "outputs": [],
   "source": [
    "def ga():\n",
    "    population = [get_random_individual() for _ in range(population_size)]\n",
    "    best_fitness = sys.maxsize\n",
    "    for p in population:\n",
    "        fitness = get_fitness(p)\n",
    "        if fitness < best_fitness:\n",
    "            best_fitness = fitness\n",
    "            best_solution = p\n",
    "    print(f\"Iteration 0, best fitness: {best_fitness}\")\n",
    "\n",
    "    for iteration in range(max_gen):\n",
    "        fitness_values.append(best_fitness)\n",
    "        new_population = elitism(population)\n",
    "        while len(new_population) < len(population):\n",
    "            parent1 = selection(population)\n",
    "            parent2 = selection(population)\n",
    "\n",
    "            if random.random() < P_xover:\n",
    "                offspring1, offspring2 = crossover(parent1, parent2)\n",
    "            else:\n",
    "                offspring1, offspring2 = parent1, parent2\n",
    "\n",
    "            offspring1 = mutate(offspring1)\n",
    "            offspring2 = mutate(offspring2)\n",
    "            \n",
    "            new_population.append(offspring1)\n",
    "            new_population.append(offspring2)\n",
    "\n",
    "        population = new_population\n",
    "        for p in population:\n",
    "            fitness = get_fitness(p)\n",
    "            if fitness < best_fitness:\n",
    "                best_fitness = fitness\n",
    "                best_solution = p\n",
    "        print(f\"Iteration {iteration}, best fitness: {best_fitness}, size {len(best_solution)}\")\n",
    "\n",
    "    return best_solution"
   ]
  },
  {
   "cell_type": "code",
   "execution_count": 80,
   "metadata": {},
   "outputs": [
    {
     "name": "stdout",
     "output_type": "stream",
     "text": [
      "Iteration 0, best fitness: 1.9922480620155039\n",
      "Iteration 0, best fitness: 1.9921259842519685, size 3\n",
      "Iteration 1, best fitness: 1.9904761904761905, size 3\n",
      "Iteration 2, best fitness: 1.987012987012987, size 3\n",
      "Iteration 3, best fitness: 1.987012987012987, size 3\n",
      "Iteration 4, best fitness: 1.9473684210526314, size 3\n",
      "Iteration 5, best fitness: 1.875, size 3\n",
      "Iteration 6, best fitness: 1.875, size 3\n",
      "Iteration 7, best fitness: 1.875, size 3\n",
      "Iteration 8, best fitness: 1.8, size 3\n",
      "Iteration 9, best fitness: 1.8, size 3\n",
      "Iteration 10, best fitness: 1.5, size 3\n",
      "Iteration 11, best fitness: 1.5, size 3\n",
      "Iteration 12, best fitness: 1.5, size 3\n",
      "Iteration 13, best fitness: 1.5, size 3\n",
      "Iteration 14, best fitness: 1.5, size 3\n",
      "Iteration 15, best fitness: 1.5, size 3\n",
      "Iteration 16, best fitness: 1.5, size 3\n",
      "Iteration 17, best fitness: 1.5, size 3\n",
      "Iteration 18, best fitness: 1.5, size 3\n",
      "Iteration 19, best fitness: 1.5, size 3\n",
      "Iteration 20, best fitness: 1.5, size 3\n",
      "Iteration 21, best fitness: 1.5, size 3\n",
      "Iteration 22, best fitness: 1.5, size 3\n",
      "Iteration 23, best fitness: 1.5, size 3\n",
      "Iteration 24, best fitness: 1.5, size 3\n",
      "Iteration 25, best fitness: 1.5, size 3\n",
      "Iteration 26, best fitness: 1.5, size 3\n",
      "Iteration 27, best fitness: 0.9807692307692307, size 3\n",
      "Iteration 28, best fitness: 0.8333333333333334, size 3\n",
      "Iteration 29, best fitness: 0.8333333333333334, size 3\n",
      "Iteration 30, best fitness: 0.8333333333333334, size 3\n",
      "Iteration 31, best fitness: 0.6666666666666666, size 3\n",
      "Iteration 32, best fitness: 0.6666666666666666, size 3\n",
      "Iteration 33, best fitness: 0.6666666666666666, size 3\n",
      "Iteration 34, best fitness: 0.6666666666666666, size 3\n",
      "Iteration 35, best fitness: 0.6666666666666666, size 3\n",
      "Iteration 36, best fitness: 0.6666666666666666, size 3\n",
      "Iteration 37, best fitness: 0.6666666666666666, size 3\n",
      "Iteration 38, best fitness: 0.6666666666666666, size 3\n",
      "Iteration 39, best fitness: 0.6666666666666666, size 3\n",
      "Iteration 40, best fitness: 0.6666666666666666, size 3\n",
      "Iteration 41, best fitness: 0.6666666666666666, size 3\n",
      "Iteration 42, best fitness: 0.6666666666666666, size 3\n",
      "Iteration 43, best fitness: 0.6666666666666666, size 3\n",
      "Iteration 44, best fitness: 0.5, size 3\n",
      "Iteration 45, best fitness: 0.5, size 3\n",
      "Iteration 46, best fitness: 0.5, size 3\n",
      "Iteration 47, best fitness: 0.5, size 3\n",
      "Iteration 48, best fitness: 0.5, size 3\n",
      "Iteration 49, best fitness: 0.5, size 3\n",
      "Iteration 50, best fitness: 0.5, size 3\n",
      "Iteration 51, best fitness: 0.5, size 3\n",
      "Iteration 52, best fitness: 0.5, size 3\n",
      "Iteration 53, best fitness: 0.5, size 3\n",
      "Iteration 54, best fitness: 0.5, size 3\n",
      "Iteration 55, best fitness: 0.5, size 3\n",
      "Iteration 56, best fitness: 0.5, size 3\n",
      "Iteration 57, best fitness: 0.5, size 3\n",
      "Iteration 58, best fitness: 0.5, size 3\n",
      "Iteration 59, best fitness: 0.5, size 3\n",
      "Iteration 60, best fitness: 0.5, size 3\n",
      "Iteration 61, best fitness: 0.5, size 3\n",
      "Iteration 62, best fitness: 0.5, size 3\n",
      "Iteration 63, best fitness: 0.5, size 3\n",
      "Iteration 64, best fitness: 0.5, size 3\n",
      "Iteration 65, best fitness: 0.5, size 3\n",
      "Iteration 66, best fitness: 0.5, size 3\n",
      "Iteration 67, best fitness: 0.5, size 3\n",
      "Iteration 68, best fitness: 0.5, size 3\n",
      "Iteration 69, best fitness: 0.5, size 3\n",
      "Iteration 70, best fitness: 0.5, size 3\n",
      "Iteration 71, best fitness: 0.5, size 3\n",
      "Iteration 72, best fitness: 0.5, size 3\n",
      "Iteration 73, best fitness: 0.5, size 3\n",
      "Iteration 74, best fitness: 0.5, size 3\n",
      "Iteration 75, best fitness: 0.5, size 3\n",
      "Iteration 76, best fitness: 0.5, size 3\n",
      "Iteration 77, best fitness: 0.5, size 3\n",
      "Iteration 78, best fitness: 0.5, size 3\n",
      "Iteration 79, best fitness: 0.5, size 3\n",
      "Iteration 80, best fitness: 0.5, size 3\n",
      "Iteration 81, best fitness: 0.5, size 3\n",
      "Iteration 82, best fitness: 0.5, size 3\n",
      "Iteration 83, best fitness: 0.5, size 3\n",
      "Iteration 84, best fitness: 0.5, size 3\n",
      "Iteration 85, best fitness: 0.5, size 3\n",
      "Iteration 86, best fitness: 0.5, size 3\n",
      "Iteration 87, best fitness: 0.5, size 3\n",
      "Iteration 88, best fitness: 0.5, size 3\n",
      "Iteration 89, best fitness: 0.5, size 3\n",
      "Iteration 90, best fitness: 0.5, size 3\n",
      "Iteration 91, best fitness: 0.5, size 3\n",
      "Iteration 92, best fitness: 0.5, size 3\n",
      "Iteration 93, best fitness: 0.5, size 3\n",
      "Iteration 94, best fitness: 0.5, size 3\n",
      "Iteration 95, best fitness: 0.5, size 3\n",
      "Iteration 96, best fitness: 0.0, size 3\n",
      "Iteration 97, best fitness: 0.0, size 3\n",
      "Iteration 98, best fitness: 0.0, size 3\n",
      "Iteration 99, best fitness: 0.0, size 3\n"
     ]
    },
    {
     "data": {
      "text/plain": [
       "[499, 499, 499]"
      ]
     },
     "execution_count": 80,
     "metadata": {},
     "output_type": "execute_result"
    }
   ],
   "source": [
    "fitness_values = []\n",
    "ga()"
   ]
  },
  {
   "cell_type": "code",
   "execution_count": 81,
   "metadata": {},
   "outputs": [
    {
     "data": {
      "text/plain": [
       "[<matplotlib.lines.Line2D at 0x11bb47d90>]"
      ]
     },
     "execution_count": 81,
     "metadata": {},
     "output_type": "execute_result"
    },
    {
     "data": {
      "image/png": "[encoded data removed]",
      "text/plain": [
       "<Figure size 432x288 with 1 Axes>"
      ]
     },
     "metadata": {
      "needs_background": "light"
     },
     "output_type": "display_data"
    }
   ],
   "source": [
    "plt.plot(fitness_values)"
   ]
  },
  {
   "cell_type": "markdown",
   "metadata": {},
   "source": [
    "We set `MAX` to a value as low as 1000, because the optimisation with our small mutational steps may take long to achieve that multiple values are equal, which some of the branches of the triangle program require (such as the one we are optimising for currently). Different mutation operators may yield different results: For example, rather than just adding random noise to the individual parameters, we can also probabilistically copy values from other parameters:"
   ]
  },
  {
   "cell_type": "code",
   "execution_count": 82,
   "metadata": {},
   "outputs": [],
   "source": [
    "def mutate(solution):\n",
    "    P_mutate = 1/len(solution)\n",
    "    mutated = solution[:]\n",
    "    for position in range(len(solution)):\n",
    "        if random.random() < P_mutate:\n",
    "            if random.random() < 0.9:\n",
    "                mutated[position] = int(random.gauss(mutated[position], 20))\n",
    "            else:\n",
    "                mutated[position] = random.choice(solution)\n",
    "    return mutated"
   ]
  },
  {
   "cell_type": "markdown",
   "metadata": {},
   "source": [
    "Let's see the performance of the resulting algorithm:"
   ]
  },
  {
   "cell_type": "code",
   "execution_count": 83,
   "metadata": {},
   "outputs": [
    {
     "name": "stdout",
     "output_type": "stream",
     "text": [
      "Iteration 0, best fitness: 1.9999730617962395\n",
      "Iteration 0, best fitness: 1.999969372128637, size 3\n",
      "Iteration 1, best fitness: 1.9977168949771689, size 3\n",
      "Iteration 2, best fitness: 1.75, size 3\n",
      "Iteration 3, best fitness: 1.75, size 3\n",
      "Iteration 4, best fitness: 1.75, size 3\n",
      "Iteration 5, best fitness: 0.875, size 3\n",
      "Iteration 6, best fitness: 0.875, size 3\n",
      "Iteration 7, best fitness: 0.8571428571428571, size 3\n",
      "Iteration 8, best fitness: 0.8571428571428571, size 3\n",
      "Iteration 9, best fitness: 0.5, size 3\n",
      "Iteration 10, best fitness: 0.5, size 3\n",
      "Iteration 11, best fitness: 0.5, size 3\n",
      "Iteration 12, best fitness: 0.5, size 3\n",
      "Iteration 13, best fitness: 0.5, size 3\n",
      "Iteration 14, best fitness: 0.5, size 3\n",
      "Iteration 15, best fitness: 0.5, size 3\n",
      "Iteration 16, best fitness: 0.0, size 3\n",
      "Iteration 17, best fitness: 0.0, size 3\n",
      "Iteration 18, best fitness: 0.0, size 3\n",
      "Iteration 19, best fitness: 0.0, size 3\n",
      "Iteration 20, best fitness: 0.0, size 3\n",
      "Iteration 21, best fitness: 0.0, size 3\n",
      "Iteration 22, best fitness: 0.0, size 3\n",
      "Iteration 23, best fitness: 0.0, size 3\n",
      "Iteration 24, best fitness: 0.0, size 3\n",
      "Iteration 25, best fitness: 0.0, size 3\n",
      "Iteration 26, best fitness: 0.0, size 3\n",
      "Iteration 27, best fitness: 0.0, size 3\n",
      "Iteration 28, best fitness: 0.0, size 3\n",
      "Iteration 29, best fitness: 0.0, size 3\n",
      "Iteration 30, best fitness: 0.0, size 3\n",
      "Iteration 31, best fitness: 0.0, size 3\n",
      "Iteration 32, best fitness: 0.0, size 3\n",
      "Iteration 33, best fitness: 0.0, size 3\n",
      "Iteration 34, best fitness: 0.0, size 3\n",
      "Iteration 35, best fitness: 0.0, size 3\n",
      "Iteration 36, best fitness: 0.0, size 3\n",
      "Iteration 37, best fitness: 0.0, size 3\n",
      "Iteration 38, best fitness: 0.0, size 3\n",
      "Iteration 39, best fitness: 0.0, size 3\n",
      "Iteration 40, best fitness: 0.0, size 3\n",
      "Iteration 41, best fitness: 0.0, size 3\n",
      "Iteration 42, best fitness: 0.0, size 3\n",
      "Iteration 43, best fitness: 0.0, size 3\n",
      "Iteration 44, best fitness: 0.0, size 3\n",
      "Iteration 45, best fitness: 0.0, size 3\n",
      "Iteration 46, best fitness: 0.0, size 3\n",
      "Iteration 47, best fitness: 0.0, size 3\n",
      "Iteration 48, best fitness: 0.0, size 3\n",
      "Iteration 49, best fitness: 0.0, size 3\n",
      "Iteration 50, best fitness: 0.0, size 3\n",
      "Iteration 51, best fitness: 0.0, size 3\n",
      "Iteration 52, best fitness: 0.0, size 3\n",
      "Iteration 53, best fitness: 0.0, size 3\n",
      "Iteration 54, best fitness: 0.0, size 3\n",
      "Iteration 55, best fitness: 0.0, size 3\n",
      "Iteration 56, best fitness: 0.0, size 3\n",
      "Iteration 57, best fitness: 0.0, size 3\n",
      "Iteration 58, best fitness: 0.0, size 3\n",
      "Iteration 59, best fitness: 0.0, size 3\n",
      "Iteration 60, best fitness: 0.0, size 3\n",
      "Iteration 61, best fitness: 0.0, size 3\n",
      "Iteration 62, best fitness: 0.0, size 3\n",
      "Iteration 63, best fitness: 0.0, size 3\n",
      "Iteration 64, best fitness: 0.0, size 3\n",
      "Iteration 65, best fitness: 0.0, size 3\n",
      "Iteration 66, best fitness: 0.0, size 3\n",
      "Iteration 67, best fitness: 0.0, size 3\n",
      "Iteration 68, best fitness: 0.0, size 3\n",
      "Iteration 69, best fitness: 0.0, size 3\n",
      "Iteration 70, best fitness: 0.0, size 3\n",
      "Iteration 71, best fitness: 0.0, size 3\n",
      "Iteration 72, best fitness: 0.0, size 3\n",
      "Iteration 73, best fitness: 0.0, size 3\n",
      "Iteration 74, best fitness: 0.0, size 3\n",
      "Iteration 75, best fitness: 0.0, size 3\n",
      "Iteration 76, best fitness: 0.0, size 3\n",
      "Iteration 77, best fitness: 0.0, size 3\n",
      "Iteration 78, best fitness: 0.0, size 3\n",
      "Iteration 79, best fitness: 0.0, size 3\n",
      "Iteration 80, best fitness: 0.0, size 3\n",
      "Iteration 81, best fitness: 0.0, size 3\n",
      "Iteration 82, best fitness: 0.0, size 3\n",
      "Iteration 83, best fitness: 0.0, size 3\n",
      "Iteration 84, best fitness: 0.0, size 3\n",
      "Iteration 85, best fitness: 0.0, size 3\n",
      "Iteration 86, best fitness: 0.0, size 3\n",
      "Iteration 87, best fitness: 0.0, size 3\n",
      "Iteration 88, best fitness: 0.0, size 3\n",
      "Iteration 89, best fitness: 0.0, size 3\n",
      "Iteration 90, best fitness: 0.0, size 3\n",
      "Iteration 91, best fitness: 0.0, size 3\n",
      "Iteration 92, best fitness: 0.0, size 3\n",
      "Iteration 93, best fitness: 0.0, size 3\n",
      "Iteration 94, best fitness: 0.0, size 3\n",
      "Iteration 95, best fitness: 0.0, size 3\n",
      "Iteration 96, best fitness: 0.0, size 3\n",
      "Iteration 97, best fitness: 0.0, size 3\n",
      "Iteration 98, best fitness: 0.0, size 3\n",
      "Iteration 99, best fitness: 0.0, size 3\n"
     ]
    },
    {
     "data": {
      "text/plain": [
       "[49930, 49930, 49930]"
      ]
     },
     "execution_count": 83,
     "metadata": {},
     "output_type": "execute_result"
    }
   ],
   "source": [
    "fitness_values = []\n",
    "MAX=100000\n",
    "MIN=-MAX\n",
    "ga()"
   ]
  },
  {
   "cell_type": "code",
   "execution_count": 84,
   "metadata": {},
   "outputs": [
    {
     "data": {
      "text/plain": [
       "[<matplotlib.lines.Line2D at 0x11bba3bb0>]"
      ]
     },
     "execution_count": 84,
     "metadata": {},
     "output_type": "execute_result"
    },
    {
     "data": {
      "image/png": "[encoded data removed]",
      "text/plain": [
       "<Figure size 432x288 with 1 Axes>"
      ]
     },
     "metadata": {
      "needs_background": "light"
     },
     "output_type": "display_data"
    }
   ],
   "source": [
    "plt.plot(fitness_values)"
   ]
  },
  {
   "cell_type": "markdown",
   "metadata": {},
   "source": [
    "In our fitness function, we manually determined which branches need to evaluate which way, and how to sum up the fitness functions. In practice, this can be automated by combining the branch distance metric with the _approach level_, which was introduced (originally named approximation level) in this paper:\n",
    "\n",
    "Wegener, J., Baresel, A., & Sthamer, H. (2001). Evolutionary test environment for automatic structural testing. Information and software technology, 43(14), 841-854.\n",
    "\n",
    "The approach level calculates the distances of an execution from a target node in terms of graph distances on the control dependence graph. However, we will not cover the approach level in this chapter."
   ]
  },
  {
   "cell_type": "markdown",
   "metadata": {},
   "source": [
    "## Whole Test Suite Optimisation"
   ]
  },
  {
   "cell_type": "markdown",
   "metadata": {},
   "source": [
    "Besides the question of how the best fitness function for a coverage goal looks like, there are some related questions: How much time should we spend on optimising for each coverage goal? It is possible that some coverage goals are infeasible (e.g., dead code, or or infeasible branches), so any time spent on these is wasted, while it may be missing for other goals that are feasible but would need more time. Test cases typically cover multiple goals at the same time; even if a test is optimised for one specific line or branch, it may coincidentally cover others along the execution. Thus, the order in which we select coverage goals for optimisation may influence the overall result, and the number of tests we require. In principle, one way to address these issues would be by casting test generation as a multi-objective optimisation problem, and aiming to produce tests for _all_ coverage goals at the same time. However, there is an issue with this: Multi-objective algorithms like the ones we considered in the previous chapter typically work well on 2-3 objectives, but code will generally have many more coverage objectives, rendering classical multi-objective algorithms infeasible (Pareto-dominance happens rarely with higher numbers of objectives). We will therefore now consider some alternatives."
   ]
  },
  {
   "cell_type": "markdown",
   "metadata": {},
   "source": [
    "The first alternative we consider is to switch our representation: Rather than optimising individual test cases for individual coverage objectives, we optimise entire test _suites_ to cover _all_ coverage objectives at the same time. Our encoding thus should describe multiple tests. But how many? This is very much problem specific. Thus, rather than hard coding the number of tests, we will only define an upper bound, and let the search decide what is the necessary number of tests."
   ]
  },
  {
   "cell_type": "code",
   "execution_count": 85,
   "metadata": {},
   "outputs": [],
   "source": [
    "num_tests = 30"
   ]
  },
  {
   "cell_type": "code",
   "execution_count": 86,
   "metadata": {},
   "outputs": [],
   "source": [
    "def get_random_individual():\n",
    "    num = random.randint(1, num_tests)\n",
    "    return [[random.randint(MIN, MAX) for _ in range(num_parameters)] for _ in range(num)]"
   ]
  },
  {
   "cell_type": "markdown",
   "metadata": {},
   "source": [
    "When applying mutation, we need to be able to modify individual tests as before. To keep things challenging, we will not use our optimised mutation that copies parameters, but aim to achieve the entire optimisation just using small steps:"
   ]
  },
  {
   "cell_type": "code",
   "execution_count": 87,
   "metadata": {},
   "outputs": [],
   "source": [
    "def mutate_test(solution):\n",
    "    P_mutate = 1/len(solution)\n",
    "    mutated = solution[:]\n",
    "    for position in range(len(solution)):\n",
    "        if random.random() < P_mutate:\n",
    "            mutated[position] = int(random.gauss(mutated[position], 20))\n",
    "            \n",
    "    return mutated"
   ]
  },
  {
   "cell_type": "markdown",
   "metadata": {},
   "source": [
    "However, modifying tests is only one of the things we can do when mutating our actual individuals, which consist of multiple tests. Besides modifying existing tests, we can also delete or add tests:"
   ]
  },
  {
   "cell_type": "code",
   "execution_count": 88,
   "metadata": {},
   "outputs": [],
   "source": [
    "def mutate(solution):\n",
    "    P_mutate = 1/len(solution)\n",
    "    mutated = []\n",
    "    for position in range(len(solution)):\n",
    "        if random.random() >= P_mutate:\n",
    "            mutated.append(solution[position][:])\n",
    "\n",
    "    for position in range(len(mutated)):\n",
    "        if random.random() < P_mutate:\n",
    "            mutated[position] = mutate_test(mutated[position])\n",
    "\n",
    "    ALPHA = 1/3\n",
    "    count = 1\n",
    "    while random.random() < ALPHA ** count and len(mutated) < num_tests:\n",
    "        count += 1\n",
    "        mutated.append([random.randint(MIN, MAX) for _ in range(num_parameters)])\n",
    "    \n",
    "    return mutated"
   ]
  },
  {
   "cell_type": "markdown",
   "metadata": {},
   "source": [
    "With a certain probability, each of the tests can be removed from a test suite; similarly, each remaining test may be mutated like we mutated tests previously. Finally, with a probability `ALPHA` we insert a new test; if we do so, we insert another one with probability `ALPHA`$^2$, and so on."
   ]
  },
  {
   "cell_type": "markdown",
   "metadata": {},
   "source": [
    "The variable size has some knock-on effects. In particular, we need to make sure that our individuals don't grow without bounds, so we adapt the other operators accordingly. When applying crossover, we pick a relative position and then cut the individuals at their relative position, such that no offspring becomes longer than the longest parent:"
   ]
  },
  {
   "cell_type": "code",
   "execution_count": 89,
   "metadata": {},
   "outputs": [],
   "source": [
    "def relative_crossover(parent1, parent2):\n",
    "    pos = random.random()\n",
    "    pos1 = int(len(parent1) * pos)\n",
    "    pos2 = int(len(parent2) * pos)\n",
    "    offspring1 = parent1[:pos1] + parent2[pos2:]\n",
    "    offspring2 = parent2[:pos2] + parent1[pos1:]\n",
    "    return (offspring1, offspring2)"
   ]
  },
  {
   "cell_type": "markdown",
   "metadata": {},
   "source": [
    "When selecting individuals, we apply a secondary criterion: For any two individuals with equal fitness function, we prefer the shorter one:"
   ]
  },
  {
   "cell_type": "code",
   "execution_count": 90,
   "metadata": {},
   "outputs": [],
   "source": [
    "tournament_size = 3\n",
    "def tournament_selection(population, n=tournament_size):\n",
    "    candidates = random.sample(population, n)        \n",
    "    winner = min(candidates, key=lambda x: (get_fitness(x), len(x)))    \n",
    "                \n",
    "    return winner"
   ]
  },
  {
   "cell_type": "markdown",
   "metadata": {},
   "source": [
    "The criterion also has to hold when we apply elitism -- we don't only want the test suites with the best fitness, but we also want the smallest test suites:"
   ]
  },
  {
   "cell_type": "code",
   "execution_count": 91,
   "metadata": {},
   "outputs": [],
   "source": [
    "elite_size = 2\n",
    "def elitism(population):\n",
    "    population.sort(key=lambda k: (get_fitness(k), len(k)))\n",
    "    return population[:elite_size]"
   ]
  },
  {
   "cell_type": "markdown",
   "metadata": {},
   "source": [
    "Finally, the only thing that remains to be done is defining the fitness function. Since we want to cover _everything_ we simply need to make sure that every single branch is covered at least once in a test suite. A branch is covered if its minimum branch distance is 0; thus, if everything is covered, then the sum of minimal branch distances should be 0."
   ]
  },
  {
   "cell_type": "markdown",
   "metadata": {},
   "source": [
    "There is one special case: If an if-statement is executed only once, then optimising the true/false distance may lead to a suboptimal, oscillising evolution. We therefore also count how often each if-condition was executed. If it was only executed once, then the fitness value for that branch needs to be higher than if it was executed twice. For this, we extend our `update_maps` function to also keep track of the execution count:"
   ]
  },
  {
   "cell_type": "code",
   "execution_count": 92,
   "metadata": {},
   "outputs": [],
   "source": [
    "condition_count = {}\n",
    "def update_maps(condition_num, d_true, d_false):\n",
    "    global distances_true, distances_false, condition_count\n",
    "\n",
    "    if condition_num in condition_count.keys():\n",
    "        condition_count[condition_num] = condition_count[condition_num] + 1\n",
    "    else:\n",
    "        condition_count[condition_num] = 1\n",
    "        \n",
    "    if condition_num in distances_true.keys():\n",
    "        distances_true[condition_num] = min(\n",
    "            distances_true[condition_num], d_true)\n",
    "    else:\n",
    "        distances_true[condition_num] = d_true\n",
    "\n",
    "    if condition_num in distances_false.keys():\n",
    "        distances_false[condition_num] = min(\n",
    "            distances_false[condition_num], d_false)\n",
    "    else:\n",
    "        distances_false[condition_num] = d_false"
   ]
  },
  {
   "cell_type": "markdown",
   "metadata": {},
   "source": [
    "The actual fitness function now is the sum of minimal distances after all tests have been executed. If an if-condition was not executed at all, then the true distance and the false distance will be 1, resulting in a sum of 2 for the if-condition. If the condition was covered only once, we set the fitness to exactly 1. If the condition was executed more than once, then at least either the true or false distance has to be 0, such that in sum, true and false distances will be less than 0."
   ]
  },
  {
   "cell_type": "code",
   "execution_count": 93,
   "metadata": {},
   "outputs": [],
   "source": [
    "def get_fitness(x):\n",
    "    # Reset any distance values from previous executions\n",
    "    global distances_true, distances_false, condition_count\n",
    "    distances_true =  {x: 1.0 for x in range(num_branches)}\n",
    "    distances_false = {x: 1.0 for x in range(num_branches)}\n",
    "    condition_count = {x:   0 for x in range(num_branches)}\n",
    "\n",
    "    # Run the function under test\n",
    "    for test in x:\n",
    "        triangle_instrumented(*test)\n",
    "\n",
    "    # Sum up branch distances\n",
    "    fitness = 0.0\n",
    "    for branch in range(num_branches):\n",
    "        if condition_count[branch] == 1:\n",
    "            fitness += 1\n",
    "        else:\n",
    "            fitness += distances_true[branch]\n",
    "            fitness += distances_false[branch]\n",
    "\n",
    "    return fitness"
   ]
  },
  {
   "cell_type": "markdown",
   "metadata": {},
   "source": [
    "Now we have all components in place in order to run the search."
   ]
  },
  {
   "cell_type": "code",
   "execution_count": 94,
   "metadata": {},
   "outputs": [
    {
     "name": "stdout",
     "output_type": "stream",
     "text": [
      "Iteration 0, best fitness: 6.788399883203153\n",
      "Iteration 0, best fitness: 6.787642354293377, size 25\n",
      "Iteration 1, best fitness: 5.711515151515152, size 24\n",
      "Iteration 2, best fitness: 4.778181818181818, size 23\n",
      "Iteration 3, best fitness: 2.956, size 22\n",
      "Iteration 4, best fitness: 2.94, size 25\n",
      "Iteration 5, best fitness: 1.96, size 22\n",
      "Iteration 6, best fitness: 1.96, size 22\n",
      "Iteration 7, best fitness: 1.96, size 22\n",
      "Iteration 8, best fitness: 1.9552153110047845, size 21\n",
      "Iteration 9, best fitness: 1.8, size 20\n",
      "Iteration 10, best fitness: 1.8, size 20\n",
      "Iteration 11, best fitness: 1.8, size 20\n",
      "Iteration 12, best fitness: 1.7952153110047848, size 20\n",
      "Iteration 13, best fitness: 1.7942196531791907, size 22\n",
      "Iteration 14, best fitness: 1.7942196531791907, size 22\n",
      "Iteration 15, best fitness: 1.7942196531791907, size 22\n",
      "Iteration 16, best fitness: 1.7942196531791907, size 22\n",
      "Iteration 17, best fitness: 1.7942196531791907, size 22\n",
      "Iteration 18, best fitness: 1.7942196531791907, size 22\n",
      "Iteration 19, best fitness: 1.7942196531791907, size 22\n",
      "Iteration 20, best fitness: 1.7942196531791907, size 22\n",
      "Iteration 21, best fitness: 1.7942196531791907, size 22\n",
      "Iteration 22, best fitness: 1.7942196531791907, size 22\n",
      "Iteration 23, best fitness: 1.7942196531791907, size 22\n",
      "Iteration 24, best fitness: 1.7942196531791907, size 22\n",
      "Iteration 25, best fitness: 1.7942196531791907, size 22\n",
      "Iteration 26, best fitness: 1.7942196531791907, size 22\n",
      "Iteration 27, best fitness: 1.7941520467836258, size 16\n",
      "Iteration 28, best fitness: 1.7941520467836258, size 16\n",
      "Iteration 29, best fitness: 1.7941520467836258, size 16\n",
      "Iteration 30, best fitness: 1.7941520467836258, size 16\n",
      "Iteration 31, best fitness: 1.7941520467836258, size 16\n",
      "Iteration 32, best fitness: 1.7940828402366864, size 16\n",
      "Iteration 33, best fitness: 1.6, size 18\n",
      "Iteration 34, best fitness: 1.6, size 18\n",
      "Iteration 35, best fitness: 0.9941520467836257, size 16\n",
      "Iteration 36, best fitness: 0.9941520467836257, size 16\n",
      "Iteration 37, best fitness: 0.9941520467836257, size 16\n",
      "Iteration 38, best fitness: 0.9941520467836257, size 16\n",
      "Iteration 39, best fitness: 0.9941520467836257, size 16\n",
      "Iteration 40, best fitness: 0.9941520467836257, size 16\n",
      "Iteration 41, best fitness: 0.9941520467836257, size 16\n",
      "Iteration 42, best fitness: 0.9941520467836257, size 16\n",
      "Iteration 43, best fitness: 0.9941520467836257, size 16\n",
      "Iteration 44, best fitness: 0.9941520467836257, size 16\n",
      "Iteration 45, best fitness: 0.9941520467836257, size 16\n",
      "Iteration 46, best fitness: 0.9941520467836257, size 16\n",
      "Iteration 47, best fitness: 0.9941520467836257, size 16\n",
      "Iteration 48, best fitness: 0.9931506849315068, size 14\n",
      "Iteration 49, best fitness: 0.9931506849315068, size 14\n",
      "Iteration 50, best fitness: 0.9931506849315068, size 14\n",
      "Iteration 51, best fitness: 0.9931506849315068, size 14\n",
      "Iteration 52, best fitness: 0.9931506849315068, size 14\n",
      "Iteration 53, best fitness: 0.9931506849315068, size 14\n",
      "Iteration 54, best fitness: 0.9931506849315068, size 14\n",
      "Iteration 55, best fitness: 0.9931506849315068, size 14\n",
      "Iteration 56, best fitness: 0.9931506849315068, size 14\n",
      "Iteration 57, best fitness: 0.9931506849315068, size 14\n",
      "Iteration 58, best fitness: 0.9931506849315068, size 14\n",
      "Iteration 59, best fitness: 0.9931506849315068, size 14\n",
      "Iteration 60, best fitness: 0.9931506849315068, size 14\n",
      "Iteration 61, best fitness: 0.9931506849315068, size 14\n",
      "Iteration 62, best fitness: 0.9931506849315068, size 14\n",
      "Iteration 63, best fitness: 0.9931506849315068, size 14\n",
      "Iteration 64, best fitness: 0.9931506849315068, size 14\n",
      "Iteration 65, best fitness: 0.9931506849315068, size 14\n",
      "Iteration 66, best fitness: 0.9931506849315068, size 14\n",
      "Iteration 67, best fitness: 0.9931506849315068, size 14\n",
      "Iteration 68, best fitness: 0.9931506849315068, size 14\n",
      "Iteration 69, best fitness: 0.9922480620155039, size 12\n",
      "Iteration 70, best fitness: 0.9922480620155039, size 12\n",
      "Iteration 71, best fitness: 0.9922480620155039, size 12\n",
      "Iteration 72, best fitness: 0.9922480620155039, size 12\n",
      "Iteration 73, best fitness: 0.9922480620155039, size 12\n",
      "Iteration 74, best fitness: 0.9922480620155039, size 12\n",
      "Iteration 75, best fitness: 0.9922480620155039, size 12\n",
      "Iteration 76, best fitness: 0.9922480620155039, size 12\n",
      "Iteration 77, best fitness: 0.9922480620155039, size 12\n",
      "Iteration 78, best fitness: 0.9922480620155039, size 12\n",
      "Iteration 79, best fitness: 0.9922480620155039, size 12\n",
      "Iteration 80, best fitness: 0.9922480620155039, size 12\n",
      "Iteration 81, best fitness: 0.9922480620155039, size 12\n",
      "Iteration 82, best fitness: 0.9922480620155039, size 12\n",
      "Iteration 83, best fitness: 0.9922480620155039, size 12\n",
      "Iteration 84, best fitness: 0.9922480620155039, size 12\n",
      "Iteration 85, best fitness: 0.9922480620155039, size 12\n",
      "Iteration 86, best fitness: 0.9791666666666666, size 14\n",
      "Iteration 87, best fitness: 0.9791666666666666, size 14\n",
      "Iteration 88, best fitness: 0.9791666666666666, size 14\n",
      "Iteration 89, best fitness: 0.9791666666666666, size 14\n",
      "Iteration 90, best fitness: 0.9791666666666666, size 14\n",
      "Iteration 91, best fitness: 0.9791666666666666, size 14\n",
      "Iteration 92, best fitness: 0.9791666666666666, size 14\n",
      "Iteration 93, best fitness: 0.9791666666666666, size 14\n",
      "Iteration 94, best fitness: 0.9791666666666666, size 14\n",
      "Iteration 95, best fitness: 0.9791666666666666, size 14\n",
      "Iteration 96, best fitness: 0.9787234042553191, size 15\n",
      "Iteration 97, best fitness: 0.9787234042553191, size 15\n",
      "Iteration 98, best fitness: 0.9787234042553191, size 15\n",
      "Iteration 99, best fitness: 0.9787234042553191, size 15\n",
      "Iteration 100, best fitness: 0.9761904761904762, size 16\n",
      "Iteration 101, best fitness: 0.9761904761904762, size 16\n",
      "Iteration 102, best fitness: 0.9761904761904762, size 16\n",
      "Iteration 103, best fitness: 0.9761904761904762, size 16\n",
      "Iteration 104, best fitness: 0.9761904761904762, size 16\n",
      "Iteration 105, best fitness: 0.9761904761904762, size 16\n",
      "Iteration 106, best fitness: 0.9761904761904762, size 16\n",
      "Iteration 107, best fitness: 0.9761904761904762, size 16\n",
      "Iteration 108, best fitness: 0.9761904761904762, size 16\n",
      "Iteration 109, best fitness: 0.9761904761904762, size 16\n",
      "Iteration 110, best fitness: 0.9761904761904762, size 16\n",
      "Iteration 111, best fitness: 0.9761904761904762, size 16\n",
      "Iteration 112, best fitness: 0.9761904761904762, size 16\n",
      "Iteration 113, best fitness: 0.9761904761904762, size 16\n",
      "Iteration 114, best fitness: 0.9761904761904762, size 16\n",
      "Iteration 115, best fitness: 0.9761904761904762, size 16\n",
      "Iteration 116, best fitness: 0.9761904761904762, size 16\n",
      "Iteration 117, best fitness: 0.9761904761904762, size 16\n",
      "Iteration 118, best fitness: 0.9761904761904762, size 16\n",
      "Iteration 119, best fitness: 0.9761904761904762, size 16\n",
      "Iteration 120, best fitness: 0.9761904761904762, size 16\n",
      "Iteration 121, best fitness: 0.9761904761904762, size 16\n",
      "Iteration 122, best fitness: 0.9761904761904762, size 16\n",
      "Iteration 123, best fitness: 0.9714285714285714, size 17\n",
      "Iteration 124, best fitness: 0.9714285714285714, size 17\n",
      "Iteration 125, best fitness: 0.9714285714285714, size 17\n",
      "Iteration 126, best fitness: 0.9714285714285714, size 17\n",
      "Iteration 127, best fitness: 0.9714285714285714, size 17\n",
      "Iteration 128, best fitness: 0.9714285714285714, size 17\n",
      "Iteration 129, best fitness: 0.9714285714285714, size 17\n",
      "Iteration 130, best fitness: 0.9714285714285714, size 17\n",
      "Iteration 131, best fitness: 0.9545454545454546, size 15\n",
      "Iteration 132, best fitness: 0.9545454545454546, size 15\n",
      "Iteration 133, best fitness: 0.9545454545454546, size 15\n",
      "Iteration 134, best fitness: 0.9545454545454546, size 15\n",
      "Iteration 135, best fitness: 0.9545454545454546, size 15\n",
      "Iteration 136, best fitness: 0.9545454545454546, size 15\n",
      "Iteration 137, best fitness: 0.9545454545454546, size 15\n",
      "Iteration 138, best fitness: 0.9545454545454546, size 15\n",
      "Iteration 139, best fitness: 0.9545454545454546, size 15\n",
      "Iteration 140, best fitness: 0.9545454545454546, size 15\n",
      "Iteration 141, best fitness: 0.9545454545454546, size 15\n",
      "Iteration 142, best fitness: 0.9545454545454546, size 15\n",
      "Iteration 143, best fitness: 0.9545454545454546, size 15\n",
      "Iteration 144, best fitness: 0.9545454545454546, size 15\n",
      "Iteration 145, best fitness: 0.9545454545454546, size 15\n",
      "Iteration 146, best fitness: 0.9545454545454546, size 15\n",
      "Iteration 147, best fitness: 0.9545454545454546, size 15\n",
      "Iteration 148, best fitness: 0.9545454545454546, size 15\n",
      "Iteration 149, best fitness: 0.9545454545454546, size 15\n",
      "Iteration 150, best fitness: 0.9545454545454546, size 15\n"
     ]
    },
    {
     "name": "stdout",
     "output_type": "stream",
     "text": [
      "Iteration 151, best fitness: 0.9545454545454546, size 15\n",
      "Iteration 152, best fitness: 0.9545454545454546, size 15\n",
      "Iteration 153, best fitness: 0.8333333333333334, size 13\n",
      "Iteration 154, best fitness: 0.8333333333333334, size 13\n",
      "Iteration 155, best fitness: 0.8333333333333334, size 13\n",
      "Iteration 156, best fitness: 0.8333333333333334, size 13\n",
      "Iteration 157, best fitness: 0.8333333333333334, size 13\n",
      "Iteration 158, best fitness: 0.8333333333333334, size 13\n",
      "Iteration 159, best fitness: 0.8333333333333334, size 13\n",
      "Iteration 160, best fitness: 0.8, size 13\n",
      "Iteration 161, best fitness: 0.8, size 13\n",
      "Iteration 162, best fitness: 0.8, size 13\n",
      "Iteration 163, best fitness: 0.8, size 13\n",
      "Iteration 164, best fitness: 0.8, size 13\n",
      "Iteration 165, best fitness: 0.8, size 13\n",
      "Iteration 166, best fitness: 0.8, size 13\n",
      "Iteration 167, best fitness: 0.8, size 13\n",
      "Iteration 168, best fitness: 0.8, size 13\n",
      "Iteration 169, best fitness: 0.8, size 13\n",
      "Iteration 170, best fitness: 0.8, size 13\n",
      "Iteration 171, best fitness: 0.8, size 13\n",
      "Iteration 172, best fitness: 0.8, size 13\n",
      "Iteration 173, best fitness: 0.8, size 13\n",
      "Iteration 174, best fitness: 0.8, size 13\n",
      "Iteration 175, best fitness: 0.75, size 17\n",
      "Iteration 176, best fitness: 0.75, size 17\n",
      "Iteration 177, best fitness: 0.75, size 17\n",
      "Iteration 178, best fitness: 0.75, size 17\n",
      "Iteration 179, best fitness: 0.75, size 17\n",
      "Iteration 180, best fitness: 0.75, size 17\n",
      "Iteration 181, best fitness: 0.75, size 17\n",
      "Iteration 182, best fitness: 0.75, size 17\n",
      "Iteration 183, best fitness: 0.75, size 17\n",
      "Iteration 184, best fitness: 0.75, size 17\n",
      "Iteration 185, best fitness: 0.75, size 17\n",
      "Iteration 186, best fitness: 0.75, size 17\n",
      "Iteration 187, best fitness: 0.75, size 17\n",
      "Iteration 188, best fitness: 0.75, size 17\n",
      "Iteration 189, best fitness: 0.75, size 17\n",
      "Iteration 190, best fitness: 0.75, size 17\n",
      "Iteration 191, best fitness: 0.75, size 17\n",
      "Iteration 192, best fitness: 0.75, size 17\n",
      "Iteration 193, best fitness: 0.75, size 17\n",
      "Iteration 194, best fitness: 0.75, size 17\n",
      "Iteration 195, best fitness: 0.75, size 17\n",
      "Iteration 196, best fitness: 0.75, size 17\n",
      "Iteration 197, best fitness: 0.75, size 17\n",
      "Iteration 198, best fitness: 0.75, size 17\n",
      "Iteration 199, best fitness: 0.75, size 17\n",
      "Iteration 200, best fitness: 0.75, size 17\n",
      "Iteration 201, best fitness: 0.75, size 17\n",
      "Iteration 202, best fitness: 0.75, size 17\n",
      "Iteration 203, best fitness: 0.75, size 17\n",
      "Iteration 204, best fitness: 0.75, size 17\n",
      "Iteration 205, best fitness: 0.75, size 17\n",
      "Iteration 206, best fitness: 0.75, size 17\n",
      "Iteration 207, best fitness: 0.75, size 17\n",
      "Iteration 208, best fitness: 0.75, size 17\n",
      "Iteration 209, best fitness: 0.75, size 17\n",
      "Iteration 210, best fitness: 0.75, size 17\n",
      "Iteration 211, best fitness: 0.75, size 17\n",
      "Iteration 212, best fitness: 0.75, size 17\n",
      "Iteration 213, best fitness: 0.75, size 17\n",
      "Iteration 214, best fitness: 0.75, size 17\n",
      "Iteration 215, best fitness: 0.75, size 17\n",
      "Iteration 216, best fitness: 0.75, size 17\n",
      "Iteration 217, best fitness: 0.75, size 17\n",
      "Iteration 218, best fitness: 0.75, size 17\n",
      "Iteration 219, best fitness: 0.75, size 17\n",
      "Iteration 220, best fitness: 0.75, size 17\n",
      "Iteration 221, best fitness: 0.75, size 17\n",
      "Iteration 222, best fitness: 0.75, size 17\n",
      "Iteration 223, best fitness: 0.75, size 17\n",
      "Iteration 224, best fitness: 0.75, size 17\n",
      "Iteration 225, best fitness: 0.75, size 17\n",
      "Iteration 226, best fitness: 0.75, size 17\n",
      "Iteration 227, best fitness: 0.75, size 17\n",
      "Iteration 228, best fitness: 0.75, size 17\n",
      "Iteration 229, best fitness: 0.75, size 17\n",
      "Iteration 230, best fitness: 0.75, size 17\n",
      "Iteration 231, best fitness: 0.75, size 17\n",
      "Iteration 232, best fitness: 0.75, size 17\n",
      "Iteration 233, best fitness: 0.75, size 17\n",
      "Iteration 234, best fitness: 0.75, size 17\n",
      "Iteration 235, best fitness: 0.75, size 17\n",
      "Iteration 236, best fitness: 0.75, size 17\n",
      "Iteration 237, best fitness: 0.75, size 17\n",
      "Iteration 238, best fitness: 0.75, size 17\n",
      "Iteration 239, best fitness: 0.75, size 17\n",
      "Iteration 240, best fitness: 0.75, size 17\n",
      "Iteration 241, best fitness: 0.75, size 17\n",
      "Iteration 242, best fitness: 0.75, size 17\n",
      "Iteration 243, best fitness: 0.75, size 17\n",
      "Iteration 244, best fitness: 0.75, size 17\n",
      "Iteration 245, best fitness: 0.75, size 17\n",
      "Iteration 246, best fitness: 0.75, size 17\n",
      "Iteration 247, best fitness: 0.75, size 17\n",
      "Iteration 248, best fitness: 0.75, size 17\n",
      "Iteration 249, best fitness: 0.75, size 17\n",
      "Iteration 250, best fitness: 0.75, size 17\n",
      "Iteration 251, best fitness: 0.75, size 17\n",
      "Iteration 252, best fitness: 0.75, size 17\n",
      "Iteration 253, best fitness: 0.75, size 17\n",
      "Iteration 254, best fitness: 0.75, size 17\n",
      "Iteration 255, best fitness: 0.75, size 17\n",
      "Iteration 256, best fitness: 0.75, size 17\n",
      "Iteration 257, best fitness: 0.75, size 17\n",
      "Iteration 258, best fitness: 0.75, size 17\n",
      "Iteration 259, best fitness: 0.75, size 17\n",
      "Iteration 260, best fitness: 0.75, size 17\n",
      "Iteration 261, best fitness: 0.75, size 17\n",
      "Iteration 262, best fitness: 0.75, size 17\n",
      "Iteration 263, best fitness: 0.75, size 17\n",
      "Iteration 264, best fitness: 0.75, size 17\n",
      "Iteration 265, best fitness: 0.75, size 17\n",
      "Iteration 266, best fitness: 0.75, size 17\n",
      "Iteration 267, best fitness: 0.75, size 17\n",
      "Iteration 268, best fitness: 0.75, size 17\n",
      "Iteration 269, best fitness: 0.75, size 17\n",
      "Iteration 270, best fitness: 0.75, size 17\n",
      "Iteration 271, best fitness: 0.0, size 14\n",
      "Iteration 272, best fitness: 0.0, size 14\n",
      "Iteration 273, best fitness: 0.0, size 14\n",
      "Iteration 274, best fitness: 0.0, size 14\n",
      "Iteration 275, best fitness: 0.0, size 14\n",
      "Iteration 276, best fitness: 0.0, size 14\n",
      "Iteration 277, best fitness: 0.0, size 14\n",
      "Iteration 278, best fitness: 0.0, size 14\n",
      "Iteration 279, best fitness: 0.0, size 14\n",
      "Iteration 280, best fitness: 0.0, size 14\n",
      "Iteration 281, best fitness: 0.0, size 14\n",
      "Iteration 282, best fitness: 0.0, size 14\n",
      "Iteration 283, best fitness: 0.0, size 14\n",
      "Iteration 284, best fitness: 0.0, size 14\n",
      "Iteration 285, best fitness: 0.0, size 14\n",
      "Iteration 286, best fitness: 0.0, size 14\n",
      "Iteration 287, best fitness: 0.0, size 14\n",
      "Iteration 288, best fitness: 0.0, size 14\n",
      "Iteration 289, best fitness: 0.0, size 14\n",
      "Iteration 290, best fitness: 0.0, size 14\n",
      "Iteration 291, best fitness: 0.0, size 14\n",
      "Iteration 292, best fitness: 0.0, size 14\n",
      "Iteration 293, best fitness: 0.0, size 14\n",
      "Iteration 294, best fitness: 0.0, size 14\n",
      "Iteration 295, best fitness: 0.0, size 14\n",
      "Iteration 296, best fitness: 0.0, size 14\n",
      "Iteration 297, best fitness: 0.0, size 14\n",
      "Iteration 298, best fitness: 0.0, size 14\n",
      "Iteration 299, best fitness: 0.0, size 14\n",
      "Iteration 300, best fitness: 0.0, size 14\n",
      "Iteration 301, best fitness: 0.0, size 14\n",
      "Iteration 302, best fitness: 0.0, size 14\n",
      "Iteration 303, best fitness: 0.0, size 14\n",
      "Iteration 304, best fitness: 0.0, size 14\n",
      "Iteration 305, best fitness: 0.0, size 14\n",
      "Iteration 306, best fitness: 0.0, size 14\n",
      "Iteration 307, best fitness: 0.0, size 14\n",
      "Iteration 308, best fitness: 0.0, size 14\n",
      "Iteration 309, best fitness: 0.0, size 14\n",
      "Iteration 310, best fitness: 0.0, size 14\n",
      "Iteration 311, best fitness: 0.0, size 14\n",
      "Iteration 312, best fitness: 0.0, size 14\n",
      "Iteration 313, best fitness: 0.0, size 14\n",
      "Iteration 314, best fitness: 0.0, size 14\n",
      "Iteration 315, best fitness: 0.0, size 14\n",
      "Iteration 316, best fitness: 0.0, size 14\n",
      "Iteration 317, best fitness: 0.0, size 14\n",
      "Iteration 318, best fitness: 0.0, size 14\n",
      "Iteration 319, best fitness: 0.0, size 14\n",
      "Iteration 320, best fitness: 0.0, size 14\n",
      "Iteration 321, best fitness: 0.0, size 14\n",
      "Iteration 322, best fitness: 0.0, size 14\n",
      "Iteration 323, best fitness: 0.0, size 14\n",
      "Iteration 324, best fitness: 0.0, size 14\n",
      "Iteration 325, best fitness: 0.0, size 14\n",
      "Iteration 326, best fitness: 0.0, size 14\n",
      "Iteration 327, best fitness: 0.0, size 14\n",
      "Iteration 328, best fitness: 0.0, size 14\n",
      "Iteration 329, best fitness: 0.0, size 14\n",
      "Iteration 330, best fitness: 0.0, size 14\n",
      "Iteration 331, best fitness: 0.0, size 14\n",
      "Iteration 332, best fitness: 0.0, size 14\n",
      "Iteration 333, best fitness: 0.0, size 14\n",
      "Iteration 334, best fitness: 0.0, size 14\n",
      "Iteration 335, best fitness: 0.0, size 14\n",
      "Iteration 336, best fitness: 0.0, size 14\n",
      "Iteration 337, best fitness: 0.0, size 14\n",
      "Iteration 338, best fitness: 0.0, size 14\n",
      "Iteration 339, best fitness: 0.0, size 14\n",
      "Iteration 340, best fitness: 0.0, size 14\n",
      "Iteration 341, best fitness: 0.0, size 14\n",
      "Iteration 342, best fitness: 0.0, size 14\n",
      "Iteration 343, best fitness: 0.0, size 14\n"
     ]
    },
    {
     "name": "stdout",
     "output_type": "stream",
     "text": [
      "Iteration 344, best fitness: 0.0, size 14\n",
      "Iteration 345, best fitness: 0.0, size 14\n",
      "Iteration 346, best fitness: 0.0, size 14\n",
      "Iteration 347, best fitness: 0.0, size 14\n",
      "Iteration 348, best fitness: 0.0, size 14\n",
      "Iteration 349, best fitness: 0.0, size 14\n",
      "Iteration 350, best fitness: 0.0, size 14\n",
      "Iteration 351, best fitness: 0.0, size 14\n",
      "Iteration 352, best fitness: 0.0, size 14\n",
      "Iteration 353, best fitness: 0.0, size 14\n",
      "Iteration 354, best fitness: 0.0, size 14\n",
      "Iteration 355, best fitness: 0.0, size 14\n",
      "Iteration 356, best fitness: 0.0, size 14\n",
      "Iteration 357, best fitness: 0.0, size 14\n",
      "Iteration 358, best fitness: 0.0, size 14\n",
      "Iteration 359, best fitness: 0.0, size 14\n",
      "Iteration 360, best fitness: 0.0, size 14\n",
      "Iteration 361, best fitness: 0.0, size 14\n",
      "Iteration 362, best fitness: 0.0, size 14\n",
      "Iteration 363, best fitness: 0.0, size 14\n",
      "Iteration 364, best fitness: 0.0, size 14\n",
      "Iteration 365, best fitness: 0.0, size 14\n",
      "Iteration 366, best fitness: 0.0, size 14\n",
      "Iteration 367, best fitness: 0.0, size 14\n",
      "Iteration 368, best fitness: 0.0, size 14\n",
      "Iteration 369, best fitness: 0.0, size 14\n",
      "Iteration 370, best fitness: 0.0, size 14\n",
      "Iteration 371, best fitness: 0.0, size 14\n",
      "Iteration 372, best fitness: 0.0, size 14\n",
      "Iteration 373, best fitness: 0.0, size 14\n",
      "Iteration 374, best fitness: 0.0, size 14\n",
      "Iteration 375, best fitness: 0.0, size 14\n",
      "Iteration 376, best fitness: 0.0, size 14\n",
      "Iteration 377, best fitness: 0.0, size 14\n",
      "Iteration 378, best fitness: 0.0, size 14\n",
      "Iteration 379, best fitness: 0.0, size 14\n",
      "Iteration 380, best fitness: 0.0, size 14\n",
      "Iteration 381, best fitness: 0.0, size 14\n",
      "Iteration 382, best fitness: 0.0, size 14\n",
      "Iteration 383, best fitness: 0.0, size 14\n",
      "Iteration 384, best fitness: 0.0, size 14\n",
      "Iteration 385, best fitness: 0.0, size 14\n",
      "Iteration 386, best fitness: 0.0, size 14\n",
      "Iteration 387, best fitness: 0.0, size 14\n",
      "Iteration 388, best fitness: 0.0, size 14\n",
      "Iteration 389, best fitness: 0.0, size 14\n",
      "Iteration 390, best fitness: 0.0, size 14\n",
      "Iteration 391, best fitness: 0.0, size 14\n",
      "Iteration 392, best fitness: 0.0, size 14\n",
      "Iteration 393, best fitness: 0.0, size 14\n",
      "Iteration 394, best fitness: 0.0, size 14\n",
      "Iteration 395, best fitness: 0.0, size 14\n",
      "Iteration 396, best fitness: 0.0, size 14\n",
      "Iteration 397, best fitness: 0.0, size 14\n",
      "Iteration 398, best fitness: 0.0, size 14\n",
      "Iteration 399, best fitness: 0.0, size 14\n",
      "Iteration 400, best fitness: 0.0, size 14\n",
      "Iteration 401, best fitness: 0.0, size 14\n",
      "Iteration 402, best fitness: 0.0, size 14\n",
      "Iteration 403, best fitness: 0.0, size 14\n",
      "Iteration 404, best fitness: 0.0, size 14\n",
      "Iteration 405, best fitness: 0.0, size 14\n",
      "Iteration 406, best fitness: 0.0, size 14\n",
      "Iteration 407, best fitness: 0.0, size 14\n",
      "Iteration 408, best fitness: 0.0, size 14\n",
      "Iteration 409, best fitness: 0.0, size 14\n",
      "Iteration 410, best fitness: 0.0, size 14\n",
      "Iteration 411, best fitness: 0.0, size 14\n",
      "Iteration 412, best fitness: 0.0, size 14\n",
      "Iteration 413, best fitness: 0.0, size 14\n",
      "Iteration 414, best fitness: 0.0, size 14\n",
      "Iteration 415, best fitness: 0.0, size 14\n",
      "Iteration 416, best fitness: 0.0, size 14\n",
      "Iteration 417, best fitness: 0.0, size 14\n",
      "Iteration 418, best fitness: 0.0, size 14\n",
      "Iteration 419, best fitness: 0.0, size 14\n",
      "Iteration 420, best fitness: 0.0, size 14\n",
      "Iteration 421, best fitness: 0.0, size 14\n",
      "Iteration 422, best fitness: 0.0, size 14\n",
      "Iteration 423, best fitness: 0.0, size 14\n",
      "Iteration 424, best fitness: 0.0, size 14\n",
      "Iteration 425, best fitness: 0.0, size 14\n",
      "Iteration 426, best fitness: 0.0, size 14\n",
      "Iteration 427, best fitness: 0.0, size 14\n",
      "Iteration 428, best fitness: 0.0, size 14\n",
      "Iteration 429, best fitness: 0.0, size 14\n",
      "Iteration 430, best fitness: 0.0, size 14\n",
      "Iteration 431, best fitness: 0.0, size 14\n",
      "Iteration 432, best fitness: 0.0, size 14\n",
      "Iteration 433, best fitness: 0.0, size 14\n",
      "Iteration 434, best fitness: 0.0, size 14\n",
      "Iteration 435, best fitness: 0.0, size 14\n",
      "Iteration 436, best fitness: 0.0, size 14\n",
      "Iteration 437, best fitness: 0.0, size 14\n",
      "Iteration 438, best fitness: 0.0, size 14\n",
      "Iteration 439, best fitness: 0.0, size 14\n",
      "Iteration 440, best fitness: 0.0, size 14\n",
      "Iteration 441, best fitness: 0.0, size 14\n",
      "Iteration 442, best fitness: 0.0, size 14\n",
      "Iteration 443, best fitness: 0.0, size 14\n",
      "Iteration 444, best fitness: 0.0, size 14\n",
      "Iteration 445, best fitness: 0.0, size 14\n",
      "Iteration 446, best fitness: 0.0, size 14\n",
      "Iteration 447, best fitness: 0.0, size 14\n",
      "Iteration 448, best fitness: 0.0, size 14\n",
      "Iteration 449, best fitness: 0.0, size 14\n",
      "Iteration 450, best fitness: 0.0, size 14\n",
      "Iteration 451, best fitness: 0.0, size 14\n",
      "Iteration 452, best fitness: 0.0, size 14\n",
      "Iteration 453, best fitness: 0.0, size 14\n",
      "Iteration 454, best fitness: 0.0, size 14\n",
      "Iteration 455, best fitness: 0.0, size 14\n",
      "Iteration 456, best fitness: 0.0, size 14\n",
      "Iteration 457, best fitness: 0.0, size 14\n",
      "Iteration 458, best fitness: 0.0, size 14\n",
      "Iteration 459, best fitness: 0.0, size 14\n",
      "Iteration 460, best fitness: 0.0, size 14\n",
      "Iteration 461, best fitness: 0.0, size 14\n",
      "Iteration 462, best fitness: 0.0, size 14\n",
      "Iteration 463, best fitness: 0.0, size 14\n",
      "Iteration 464, best fitness: 0.0, size 14\n",
      "Iteration 465, best fitness: 0.0, size 14\n",
      "Iteration 466, best fitness: 0.0, size 14\n",
      "Iteration 467, best fitness: 0.0, size 14\n",
      "Iteration 468, best fitness: 0.0, size 14\n",
      "Iteration 469, best fitness: 0.0, size 14\n",
      "Iteration 470, best fitness: 0.0, size 14\n",
      "Iteration 471, best fitness: 0.0, size 14\n",
      "Iteration 472, best fitness: 0.0, size 14\n",
      "Iteration 473, best fitness: 0.0, size 14\n",
      "Iteration 474, best fitness: 0.0, size 14\n",
      "Iteration 475, best fitness: 0.0, size 14\n",
      "Iteration 476, best fitness: 0.0, size 14\n",
      "Iteration 477, best fitness: 0.0, size 14\n",
      "Iteration 478, best fitness: 0.0, size 14\n",
      "Iteration 479, best fitness: 0.0, size 14\n",
      "Iteration 480, best fitness: 0.0, size 14\n",
      "Iteration 481, best fitness: 0.0, size 14\n",
      "Iteration 482, best fitness: 0.0, size 14\n",
      "Iteration 483, best fitness: 0.0, size 14\n",
      "Iteration 484, best fitness: 0.0, size 14\n",
      "Iteration 485, best fitness: 0.0, size 14\n",
      "Iteration 486, best fitness: 0.0, size 14\n",
      "Iteration 487, best fitness: 0.0, size 14\n",
      "Iteration 488, best fitness: 0.0, size 14\n",
      "Iteration 489, best fitness: 0.0, size 14\n",
      "Iteration 490, best fitness: 0.0, size 14\n",
      "Iteration 491, best fitness: 0.0, size 14\n",
      "Iteration 492, best fitness: 0.0, size 14\n",
      "Iteration 493, best fitness: 0.0, size 14\n",
      "Iteration 494, best fitness: 0.0, size 14\n",
      "Iteration 495, best fitness: 0.0, size 14\n",
      "Iteration 496, best fitness: 0.0, size 14\n",
      "Iteration 497, best fitness: 0.0, size 14\n",
      "Iteration 498, best fitness: 0.0, size 14\n",
      "Iteration 499, best fitness: 0.0, size 14\n"
     ]
    },
    {
     "data": {
      "text/plain": [
       "[[504, 546, 504],\n",
       " [536, 536, 536],\n",
       " [31, 583, 233],\n",
       " [925, 394, 270],\n",
       " [921, 588, 588],\n",
       " [148, 314, 562],\n",
       " [770, 770, 706],\n",
       " [714, 915, 838],\n",
       " [14, 429, -110],\n",
       " [-889, 449, -303],\n",
       " [684, -103, -245],\n",
       " [-914, 449, -353],\n",
       " [425, 801, 318],\n",
       " [278, 724, -398]]"
      ]
     },
     "execution_count": 94,
     "metadata": {},
     "output_type": "execute_result"
    }
   ],
   "source": [
    "max_gen=500\n",
    "MAX=1000\n",
    "MIN=-MAX\n",
    "crossover = relative_crossover\n",
    "tournament_size = 5\n",
    "population_size = 50\n",
    "fitness_values = []\n",
    "ga()"
   ]
  },
  {
   "cell_type": "code",
   "execution_count": 95,
   "metadata": {
    "scrolled": false
   },
   "outputs": [
    {
     "data": {
      "text/plain": [
       "[<matplotlib.lines.Line2D at 0x1177dfdf0>]"
      ]
     },
     "execution_count": 95,
     "metadata": {},
     "output_type": "execute_result"
    },
    {
     "data": {
      "image/png": "[encoded data removed]",
      "text/plain": [
       "<Figure size 432x288 with 1 Axes>"
      ]
     },
     "metadata": {
      "needs_background": "light"
     },
     "output_type": "display_data"
    }
   ],
   "source": [
    "plt.plot(fitness_values)"
   ]
  },
  {
   "cell_type": "markdown",
   "metadata": {},
   "source": [
    "There are some drawbacks to this approach: Once we have a test for a coverage goal, we are actually no longer interested in optimising tests for it (except for the case of minimising the overall test suite size). However, since we are optimising test suites, we always keep around all tests for all goals in the population. Usually, when you run whole test suite optimisation on our triangle example it will converge to cover most goals quickly except for the case of an equilateral triangle. Once it has reached that point the search needs to pick a test case to mutate that is not needed to satisfy another coverage goal, and then by chance mutate it such that the result is three equal sides. The chances of this happening are low, and the algorithm will not always produce 100% coverage unless waiting very long. "
   ]
  },
  {
   "cell_type": "code",
   "execution_count": 96,
   "metadata": {},
   "outputs": [
    {
     "name": "stdout",
     "output_type": "stream",
     "text": [
      "Iteration 0, best fitness: 6.0\n",
      "Iteration 0, best fitness: 6.0, size 17\n",
      "Iteration 1, best fitness: 5.9992889350841825, size 16\n",
      "Iteration 2, best fitness: 5.9992889350841825, size 16\n",
      "Iteration 3, best fitness: 5.999249859592828, size 15\n",
      "Iteration 4, best fitness: 5.999249859592828, size 15\n",
      "Iteration 5, best fitness: 5.999248507987662, size 16\n",
      "Iteration 6, best fitness: 5.999246986863506, size 14\n",
      "Iteration 7, best fitness: 5.999246986863506, size 14\n",
      "Iteration 8, best fitness: 5.999246986863506, size 14\n",
      "Iteration 9, best fitness: 5.999244615590454, size 14\n",
      "Iteration 10, best fitness: 5.999244257689687, size 15\n",
      "Iteration 11, best fitness: 5.999242621530559, size 12\n",
      "Iteration 12, best fitness: 5.999242098758032, size 13\n",
      "Iteration 13, best fitness: 5.999215659096239, size 14\n",
      "Iteration 14, best fitness: 5.999215116552366, size 13\n",
      "Iteration 15, best fitness: 5.9991127814049445, size 15\n",
      "Iteration 16, best fitness: 5.99713077026169, size 15\n",
      "Iteration 17, best fitness: 5.99713077026169, size 15\n",
      "Iteration 18, best fitness: 5.997129717823981, size 15\n",
      "Iteration 19, best fitness: 5.996933282811699, size 17\n",
      "Iteration 20, best fitness: 5.996932230373989, size 15\n",
      "Iteration 21, best fitness: 5.996932230373989, size 15\n",
      "Iteration 22, best fitness: 5.996931408041791, size 16\n",
      "Iteration 23, best fitness: 5.996931408041791, size 16\n",
      "Iteration 24, best fitness: 5.996561154350854, size 15\n",
      "Iteration 25, best fitness: 5.996561154350854, size 15\n",
      "Iteration 26, best fitness: 5.996561154350854, size 15\n",
      "Iteration 27, best fitness: 5.996560210193345, size 14\n",
      "Iteration 28, best fitness: 5.996560210193345, size 14\n",
      "Iteration 29, best fitness: 5.996559758831771, size 14\n",
      "Iteration 30, best fitness: 5.996496710066345, size 13\n",
      "Iteration 31, best fitness: 5.996430061172717, size 14\n",
      "Iteration 32, best fitness: 5.99642941920386, size 16\n",
      "Iteration 33, best fitness: 5.99642941920386, size 16\n",
      "Iteration 34, best fitness: 5.996407104331578, size 11\n",
      "Iteration 35, best fitness: 5.996327739252213, size 11\n",
      "Iteration 36, best fitness: 5.996269430214312, size 11\n",
      "Iteration 37, best fitness: 5.996269430214312, size 11\n",
      "Iteration 38, best fitness: 5.996063852568156, size 13\n",
      "Iteration 39, best fitness: 5.995474758107747, size 11\n",
      "Iteration 40, best fitness: 5.995474758107747, size 11\n",
      "Iteration 41, best fitness: 5.995216636167382, size 12\n",
      "Iteration 42, best fitness: 5.994895474848051, size 12\n",
      "Iteration 43, best fitness: 5.994882847610059, size 13\n",
      "Iteration 44, best fitness: 5.994874071468978, size 12\n",
      "Iteration 45, best fitness: 5.994871112955619, size 12\n",
      "Iteration 46, best fitness: 5.994785137447383, size 12\n",
      "Iteration 47, best fitness: 5.994696361049782, size 13\n",
      "Iteration 48, best fitness: 5.994687762044575, size 13\n",
      "Iteration 49, best fitness: 5.994687762044575, size 13\n",
      "Iteration 50, best fitness: 5.994616432452663, size 13\n",
      "Iteration 51, best fitness: 5.994265612283308, size 14\n",
      "Iteration 52, best fitness: 5.994173428005657, size 15\n",
      "Iteration 53, best fitness: 5.994173428005657, size 15\n",
      "Iteration 54, best fitness: 5.99345139020415, size 15\n",
      "Iteration 55, best fitness: 5.9933747681957765, size 15\n",
      "Iteration 56, best fitness: 5.993353558530815, size 14\n",
      "Iteration 57, best fitness: 5.993348204065191, size 14\n",
      "Iteration 58, best fitness: 5.9923454893954435, size 13\n",
      "Iteration 59, best fitness: 5.9923454893954435, size 13\n",
      "Iteration 60, best fitness: 5.992221934145709, size 13\n",
      "Iteration 61, best fitness: 5.992221934145709, size 13\n",
      "Iteration 62, best fitness: 5.992213086457555, size 14\n",
      "Iteration 63, best fitness: 5.991764058687833, size 14\n",
      "Iteration 64, best fitness: 5.991551798541798, size 12\n",
      "Iteration 65, best fitness: 5.991551798541798, size 12\n",
      "Iteration 66, best fitness: 5.991343748651022, size 12\n",
      "Iteration 67, best fitness: 5.9901743150980895, size 14\n",
      "Iteration 68, best fitness: 5.9901743150980895, size 14\n",
      "Iteration 69, best fitness: 5.989770953753552, size 14\n",
      "Iteration 70, best fitness: 5.988377514349541, size 15\n",
      "Iteration 71, best fitness: 5.988377514349541, size 15\n",
      "Iteration 72, best fitness: 5.988377514349541, size 15\n",
      "Iteration 73, best fitness: 5.988377514349541, size 15\n",
      "Iteration 74, best fitness: 5.988374161972221, size 15\n",
      "Iteration 75, best fitness: 5.988374161972221, size 15\n",
      "Iteration 76, best fitness: 5.986817799554531, size 13\n",
      "Iteration 77, best fitness: 5.986817799554531, size 13\n",
      "Iteration 78, best fitness: 5.982049051282784, size 17\n",
      "Iteration 79, best fitness: 5.976438953106066, size 18\n",
      "Iteration 80, best fitness: 5.9722253255200926, size 15\n",
      "Iteration 81, best fitness: 5.9722253255200926, size 15\n",
      "Iteration 82, best fitness: 5.971151056513821, size 17\n",
      "Iteration 83, best fitness: 5.971151056513821, size 17\n",
      "Iteration 84, best fitness: 5.927818926912753, size 15\n",
      "Iteration 85, best fitness: 5.927810103032415, size 16\n",
      "Iteration 86, best fitness: 5.927810103032415, size 16\n",
      "Iteration 87, best fitness: 5.927810103032415, size 16\n",
      "Iteration 88, best fitness: 5.927810103032415, size 16\n",
      "Iteration 89, best fitness: 5.927806624438138, size 14\n",
      "Iteration 90, best fitness: 5.856381531603843, size 13\n",
      "Iteration 91, best fitness: 5.856381531603843, size 13\n",
      "Iteration 92, best fitness: 5.852328597209813, size 16\n",
      "Iteration 93, best fitness: 5.49923508587236, size 15\n",
      "Iteration 94, best fitness: 5.49923508587236, size 15\n",
      "Iteration 95, best fitness: 5.495185630072608, size 17\n",
      "Iteration 96, best fitness: 5.495185630072608, size 17\n",
      "Iteration 97, best fitness: 5.494932418894485, size 17\n",
      "Iteration 98, best fitness: 5.494932418894485, size 17\n",
      "Iteration 99, best fitness: 5.4944577768503065, size 15\n",
      "Iteration 100, best fitness: 5.4944577768503065, size 15\n",
      "Iteration 101, best fitness: 5.4944577768503065, size 15\n",
      "Iteration 102, best fitness: 5.493818156967265, size 16\n",
      "Iteration 103, best fitness: 5.493818156967265, size 16\n",
      "Iteration 104, best fitness: 5.493818156967265, size 16\n",
      "Iteration 105, best fitness: 5.493818156967265, size 16\n",
      "Iteration 106, best fitness: 5.493783087005294, size 15\n",
      "Iteration 107, best fitness: 5.493783087005294, size 15\n",
      "Iteration 108, best fitness: 5.493783087005294, size 15\n",
      "Iteration 109, best fitness: 5.493782806944978, size 17\n",
      "Iteration 110, best fitness: 5.4929140828244245, size 16\n",
      "Iteration 111, best fitness: 5.492720995502026, size 17\n",
      "Iteration 112, best fitness: 5.492720995502026, size 17\n",
      "Iteration 113, best fitness: 5.492720995502026, size 17\n",
      "Iteration 114, best fitness: 5.4925225828036135, size 17\n",
      "Iteration 115, best fitness: 5.492419063134877, size 17\n",
      "Iteration 116, best fitness: 5.492419063134877, size 17\n",
      "Iteration 117, best fitness: 5.492419063134877, size 17\n",
      "Iteration 118, best fitness: 5.491728932009963, size 14\n",
      "Iteration 119, best fitness: 5.491728932009963, size 14\n",
      "Iteration 120, best fitness: 5.491725939320876, size 15\n",
      "Iteration 121, best fitness: 5.4906534382483745, size 15\n",
      "Iteration 122, best fitness: 5.4893572215661095, size 16\n",
      "Iteration 123, best fitness: 5.489353168906868, size 15\n",
      "Iteration 124, best fitness: 5.489353168906868, size 15\n",
      "Iteration 125, best fitness: 5.489353168906868, size 15\n",
      "Iteration 126, best fitness: 5.48935242665625, size 15\n",
      "Iteration 127, best fitness: 5.48935242665625, size 15\n",
      "Iteration 128, best fitness: 5.48935242665625, size 15\n",
      "Iteration 129, best fitness: 5.478829113924051, size 15\n",
      "Iteration 130, best fitness: 5.4788283716734325, size 15\n",
      "Iteration 131, best fitness: 5.332995780590717, size 13\n",
      "Iteration 132, best fitness: 4.499662447257384, size 13\n",
      "Iteration 133, best fitness: 4.499662447257384, size 13\n",
      "Iteration 134, best fitness: 4.499662447257384, size 13\n",
      "Iteration 135, best fitness: 4.499662447257384, size 13\n",
      "Iteration 136, best fitness: 4.499472016895459, size 12\n",
      "Iteration 137, best fitness: 4.499472016895459, size 12\n",
      "Iteration 138, best fitness: 4.499472016895459, size 12\n",
      "Iteration 139, best fitness: 4.499471458773784, size 13\n",
      "Iteration 140, best fitness: 4.499468226535496, size 12\n",
      "Iteration 141, best fitness: 4.499468226535496, size 12\n",
      "Iteration 142, best fitness: 4.499468226535496, size 12\n",
      "Iteration 143, best fitness: 4.499468226535496, size 12\n",
      "Iteration 144, best fitness: 4.499467376830892, size 14\n",
      "Iteration 145, best fitness: 4.499467376830892, size 14\n",
      "Iteration 146, best fitness: 4.499464668094219, size 13\n",
      "Iteration 147, best fitness: 4.499464668094219, size 13\n",
      "Iteration 148, best fitness: 4.499464381360472, size 14\n",
      "Iteration 149, best fitness: 4.499413317688472, size 14\n",
      "Iteration 150, best fitness: 4.499413317688472, size 14\n"
     ]
    },
    {
     "name": "stdout",
     "output_type": "stream",
     "text": [
      "Iteration 151, best fitness: 4.499413317688472, size 14\n",
      "Iteration 152, best fitness: 4.499413317688472, size 14\n",
      "Iteration 153, best fitness: 4.499413317688472, size 14\n",
      "Iteration 154, best fitness: 4.499407933688573, size 15\n",
      "Iteration 155, best fitness: 4.499407933688573, size 15\n",
      "Iteration 156, best fitness: 4.499407933688573, size 15\n",
      "Iteration 157, best fitness: 4.499406175771972, size 14\n",
      "Iteration 158, best fitness: 4.49939740885809, size 12\n",
      "Iteration 159, best fitness: 4.49939740885809, size 12\n",
      "Iteration 160, best fitness: 4.49939740885809, size 12\n",
      "Iteration 161, best fitness: 4.49939740885809, size 12\n",
      "Iteration 162, best fitness: 4.49939740885809, size 12\n",
      "Iteration 163, best fitness: 4.499392097264438, size 13\n",
      "Iteration 164, best fitness: 4.499389685688129, size 14\n",
      "Iteration 165, best fitness: 4.499382716049382, size 13\n",
      "Iteration 166, best fitness: 4.499382716049382, size 13\n",
      "Iteration 167, best fitness: 4.499382716049382, size 13\n",
      "Iteration 168, best fitness: 3.9993920972644377, size 12\n",
      "Iteration 169, best fitness: 3.999382334774552, size 14\n",
      "Iteration 170, best fitness: 3.999382334774552, size 14\n",
      "Iteration 171, best fitness: 3.999382334774552, size 14\n",
      "Iteration 172, best fitness: 3.999382334774552, size 14\n",
      "Iteration 173, best fitness: 3.999382334774552, size 14\n",
      "Iteration 174, best fitness: 3.999382334774552, size 14\n",
      "Iteration 175, best fitness: 3.999377334993773, size 13\n",
      "Iteration 176, best fitness: 3.999377334993773, size 13\n",
      "Iteration 177, best fitness: 3.999377334993773, size 13\n",
      "Iteration 178, best fitness: 3.9993763642033056, size 13\n",
      "Iteration 179, best fitness: 3.9993763642033056, size 13\n",
      "Iteration 180, best fitness: 3.99937343358396, size 14\n",
      "Iteration 181, best fitness: 3.99937343358396, size 14\n",
      "Iteration 182, best fitness: 3.99937343358396, size 14\n",
      "Iteration 183, best fitness: 3.99937343358396, size 14\n",
      "Iteration 184, best fitness: 3.9993670886075954, size 14\n",
      "Iteration 185, best fitness: 3.9993670886075954, size 14\n",
      "Iteration 186, best fitness: 3.9993670886075954, size 14\n",
      "Iteration 187, best fitness: 3.9993587688361654, size 13\n",
      "Iteration 188, best fitness: 3.9993587688361654, size 13\n",
      "Iteration 189, best fitness: 3.9993587688361654, size 13\n",
      "Iteration 190, best fitness: 3.9993587688361654, size 13\n",
      "Iteration 191, best fitness: 3.9993587688361654, size 13\n",
      "Iteration 192, best fitness: 3.9993587688361654, size 13\n",
      "Iteration 193, best fitness: 3.9993587688361654, size 13\n",
      "Iteration 194, best fitness: 3.9993587688361654, size 13\n",
      "Iteration 195, best fitness: 3.9993587688361654, size 13\n",
      "Iteration 196, best fitness: 3.9993562922433217, size 15\n",
      "Iteration 197, best fitness: 3.9993562922433217, size 15\n",
      "Iteration 198, best fitness: 3.9993562922433217, size 15\n",
      "Iteration 199, best fitness: 3.0, size 17\n",
      "Iteration 200, best fitness: 3.0, size 17\n",
      "Iteration 201, best fitness: 3.0, size 17\n",
      "Iteration 202, best fitness: 3.0, size 17\n",
      "Iteration 203, best fitness: 3.0, size 17\n",
      "Iteration 204, best fitness: 3.0, size 17\n",
      "Iteration 205, best fitness: 3.0, size 17\n",
      "Iteration 206, best fitness: 2.66657326982348, size 14\n",
      "Iteration 207, best fitness: 1.9999066031568133, size 15\n",
      "Iteration 208, best fitness: 1.0, size 12\n",
      "Iteration 209, best fitness: 1.0, size 12\n",
      "Iteration 210, best fitness: 0.9999712726228095, size 14\n",
      "Iteration 211, best fitness: 0.9999712726228095, size 14\n",
      "Iteration 212, best fitness: 0.9999712726228095, size 14\n",
      "Iteration 213, best fitness: 0.9999712726228095, size 14\n",
      "Iteration 214, best fitness: 0.9999712726228095, size 14\n",
      "Iteration 215, best fitness: 0.999971265193529, size 14\n",
      "Iteration 216, best fitness: 0.999971265193529, size 14\n",
      "Iteration 217, best fitness: 0.999971265193529, size 14\n",
      "Iteration 218, best fitness: 0.999971248670251, size 15\n",
      "Iteration 219, best fitness: 0.999971248670251, size 15\n",
      "Iteration 220, best fitness: 0.999971247016878, size 14\n",
      "Iteration 221, best fitness: 0.9999712387471599, size 14\n",
      "Iteration 222, best fitness: 0.9999712387471599, size 14\n",
      "Iteration 223, best fitness: 0.9999712387471599, size 14\n",
      "Iteration 224, best fitness: 0.9999712387471599, size 14\n",
      "Iteration 225, best fitness: 0.9999712387471599, size 14\n",
      "Iteration 226, best fitness: 0.9999712387471599, size 14\n",
      "Iteration 227, best fitness: 0.9999712387471599, size 14\n",
      "Iteration 228, best fitness: 0.9999712387471599, size 14\n",
      "Iteration 229, best fitness: 0.9999712387471599, size 14\n",
      "Iteration 230, best fitness: 0.9999712387471599, size 14\n",
      "Iteration 231, best fitness: 0.9999712387471599, size 14\n",
      "Iteration 232, best fitness: 0.9999712387471599, size 14\n",
      "Iteration 233, best fitness: 0.9999712387471599, size 14\n",
      "Iteration 234, best fitness: 0.9999712387471599, size 14\n",
      "Iteration 235, best fitness: 0.9999712387471599, size 14\n",
      "Iteration 236, best fitness: 0.9999712387471599, size 14\n",
      "Iteration 237, best fitness: 0.9999712387471599, size 14\n",
      "Iteration 238, best fitness: 0.9999712387471599, size 14\n",
      "Iteration 239, best fitness: 0.9999712387471599, size 14\n",
      "Iteration 240, best fitness: 0.9999712387471599, size 14\n",
      "Iteration 241, best fitness: 0.9999712387471599, size 14\n",
      "Iteration 242, best fitness: 0.9999712387471599, size 14\n",
      "Iteration 243, best fitness: 0.9999712387471599, size 14\n",
      "Iteration 244, best fitness: 0.9999712387471599, size 14\n",
      "Iteration 245, best fitness: 0.9999712387471599, size 14\n",
      "Iteration 246, best fitness: 0.9999712387471599, size 14\n",
      "Iteration 247, best fitness: 0.9999712387471599, size 14\n",
      "Iteration 248, best fitness: 0.9999712387471599, size 14\n",
      "Iteration 249, best fitness: 0.9999712387471599, size 14\n",
      "Iteration 250, best fitness: 0.9999712387471599, size 14\n",
      "Iteration 251, best fitness: 0.9999712387471599, size 14\n",
      "Iteration 252, best fitness: 0.9999712387471599, size 14\n",
      "Iteration 253, best fitness: 0.9999712387471599, size 14\n",
      "Iteration 254, best fitness: 0.9999712387471599, size 14\n",
      "Iteration 255, best fitness: 0.9999712387471599, size 14\n",
      "Iteration 256, best fitness: 0.9999712387471599, size 14\n",
      "Iteration 257, best fitness: 0.9999712387471599, size 14\n",
      "Iteration 258, best fitness: 0.9999712387471599, size 14\n",
      "Iteration 259, best fitness: 0.9999712387471599, size 14\n",
      "Iteration 260, best fitness: 0.9999712387471599, size 14\n",
      "Iteration 261, best fitness: 0.9999712387471599, size 14\n",
      "Iteration 262, best fitness: 0.9999712387471599, size 14\n",
      "Iteration 263, best fitness: 0.9999712387471599, size 14\n",
      "Iteration 264, best fitness: 0.9999712387471599, size 14\n",
      "Iteration 265, best fitness: 0.9999712387471599, size 14\n",
      "Iteration 266, best fitness: 0.9999712387471599, size 14\n",
      "Iteration 267, best fitness: 0.9999712387471599, size 14\n",
      "Iteration 268, best fitness: 0.9999712387471599, size 14\n",
      "Iteration 269, best fitness: 0.9999712296449739, size 16\n",
      "Iteration 270, best fitness: 0.9999712296449739, size 16\n",
      "Iteration 271, best fitness: 0.9999712296449739, size 16\n",
      "Iteration 272, best fitness: 0.9999712130807761, size 15\n",
      "Iteration 273, best fitness: 0.9999712130807761, size 15\n",
      "Iteration 274, best fitness: 0.9999712130807761, size 15\n",
      "Iteration 275, best fitness: 0.9999711956678284, size 15\n",
      "Iteration 276, best fitness: 0.9999711956678284, size 15\n",
      "Iteration 277, best fitness: 0.9999711956678284, size 15\n",
      "Iteration 278, best fitness: 0.9999711956678284, size 15\n",
      "Iteration 279, best fitness: 0.9999711956678284, size 15\n",
      "Iteration 280, best fitness: 0.9999711956678284, size 15\n",
      "Iteration 281, best fitness: 0.9999711956678284, size 15\n",
      "Iteration 282, best fitness: 0.9999711956678284, size 15\n",
      "Iteration 283, best fitness: 0.9999711848778239, size 14\n",
      "Iteration 284, best fitness: 0.9999711848778239, size 14\n",
      "Iteration 285, best fitness: 0.9999711848778239, size 14\n",
      "Iteration 286, best fitness: 0.9999711848778239, size 14\n",
      "Iteration 287, best fitness: 0.9999711848778239, size 14\n",
      "Iteration 288, best fitness: 0.9999711848778239, size 14\n",
      "Iteration 289, best fitness: 0.9999711848778239, size 14\n",
      "Iteration 290, best fitness: 0.9999711798950948, size 13\n",
      "Iteration 291, best fitness: 0.9999711798950948, size 13\n",
      "Iteration 292, best fitness: 0.9999711798950948, size 13\n",
      "Iteration 293, best fitness: 0.9999711798950948, size 13\n",
      "Iteration 294, best fitness: 0.9999711798950948, size 13\n",
      "Iteration 295, best fitness: 0.9999711798950948, size 13\n",
      "Iteration 296, best fitness: 0.9999711798950948, size 13\n",
      "Iteration 297, best fitness: 0.9999711798950948, size 13\n",
      "Iteration 298, best fitness: 0.9999711798950948, size 13\n",
      "Iteration 299, best fitness: 0.9999711798950948, size 13\n",
      "Iteration 300, best fitness: 0.9999711782338022, size 13\n"
     ]
    },
    {
     "name": "stdout",
     "output_type": "stream",
     "text": [
      "Iteration 301, best fitness: 0.9999711782338022, size 13\n",
      "Iteration 302, best fitness: 0.9999711782338022, size 13\n",
      "Iteration 303, best fitness: 0.9999711516270482, size 15\n",
      "Iteration 304, best fitness: 0.9999711516270482, size 15\n",
      "Iteration 305, best fitness: 0.9999711516270482, size 15\n",
      "Iteration 306, best fitness: 0.9999711266385632, size 16\n",
      "Iteration 307, best fitness: 0.9999711266385632, size 16\n",
      "Iteration 308, best fitness: 0.9999711266385632, size 16\n",
      "Iteration 309, best fitness: 0.9999711266385632, size 16\n",
      "Iteration 310, best fitness: 0.9999711266385632, size 16\n",
      "Iteration 311, best fitness: 0.9999711266385632, size 16\n",
      "Iteration 312, best fitness: 0.9999711266385632, size 16\n",
      "Iteration 313, best fitness: 0.999971124971125, size 14\n",
      "Iteration 314, best fitness: 0.999971124971125, size 14\n",
      "Iteration 315, best fitness: 0.999971124971125, size 14\n",
      "Iteration 316, best fitness: 0.999971124971125, size 14\n",
      "Iteration 317, best fitness: 0.9999711208016866, size 15\n",
      "Iteration 318, best fitness: 0.9999711208016866, size 15\n",
      "Iteration 319, best fitness: 0.9999711208016866, size 15\n",
      "Iteration 320, best fitness: 0.9999711208016866, size 15\n",
      "Iteration 321, best fitness: 0.9999711208016866, size 15\n",
      "Iteration 322, best fitness: 0.9999711208016866, size 15\n",
      "Iteration 323, best fitness: 0.9999711208016866, size 15\n",
      "Iteration 324, best fitness: 0.9999711208016866, size 15\n",
      "Iteration 325, best fitness: 0.9999711208016866, size 15\n",
      "Iteration 326, best fitness: 0.9999711208016866, size 15\n",
      "Iteration 327, best fitness: 0.9999711208016866, size 15\n",
      "Iteration 328, best fitness: 0.9999711208016866, size 15\n",
      "Iteration 329, best fitness: 0.9999711208016866, size 15\n",
      "Iteration 330, best fitness: 0.9999711208016866, size 15\n",
      "Iteration 331, best fitness: 0.9999711208016866, size 15\n",
      "Iteration 332, best fitness: 0.9999711208016866, size 15\n",
      "Iteration 333, best fitness: 0.9999711208016866, size 15\n",
      "Iteration 334, best fitness: 0.9999711016067506, size 12\n",
      "Iteration 335, best fitness: 0.9999711016067506, size 12\n",
      "Iteration 336, best fitness: 0.9999711016067506, size 12\n",
      "Iteration 337, best fitness: 0.9999711016067506, size 12\n",
      "Iteration 338, best fitness: 0.9999711016067506, size 12\n",
      "Iteration 339, best fitness: 0.9999711016067506, size 12\n",
      "Iteration 340, best fitness: 0.9999711016067506, size 12\n",
      "Iteration 341, best fitness: 0.9999711016067506, size 12\n",
      "Iteration 342, best fitness: 0.9999711016067506, size 12\n",
      "Iteration 343, best fitness: 0.9999710848947491, size 12\n",
      "Iteration 344, best fitness: 0.9999710848947491, size 12\n",
      "Iteration 345, best fitness: 0.9999710848947491, size 12\n",
      "Iteration 346, best fitness: 0.9999710848947491, size 12\n",
      "Iteration 347, best fitness: 0.9999710848947491, size 12\n",
      "Iteration 348, best fitness: 0.9999710848947491, size 12\n",
      "Iteration 349, best fitness: 0.9999710848947491, size 12\n",
      "Iteration 350, best fitness: 0.9999710848947491, size 12\n",
      "Iteration 351, best fitness: 0.9999710848947491, size 12\n",
      "Iteration 352, best fitness: 0.9999710848947491, size 12\n",
      "Iteration 353, best fitness: 0.9999710848947491, size 12\n",
      "Iteration 354, best fitness: 0.9999710848947491, size 12\n",
      "Iteration 355, best fitness: 0.9999710848947491, size 12\n",
      "Iteration 356, best fitness: 0.9999710848947491, size 12\n",
      "Iteration 357, best fitness: 0.9999710848947491, size 12\n",
      "Iteration 358, best fitness: 0.9999710848947491, size 12\n",
      "Iteration 359, best fitness: 0.9999710848947491, size 12\n",
      "Iteration 360, best fitness: 0.9999710848947491, size 12\n",
      "Iteration 361, best fitness: 0.9999710848947491, size 12\n",
      "Iteration 362, best fitness: 0.9999710848947491, size 12\n",
      "Iteration 363, best fitness: 0.9999710564399421, size 11\n",
      "Iteration 364, best fitness: 0.9999710564399421, size 11\n",
      "Iteration 365, best fitness: 0.9999710564399421, size 11\n",
      "Iteration 366, best fitness: 0.9999710564399421, size 11\n",
      "Iteration 367, best fitness: 0.9999710564399421, size 11\n",
      "Iteration 368, best fitness: 0.9999710564399421, size 11\n",
      "Iteration 369, best fitness: 0.9999710564399421, size 11\n",
      "Iteration 370, best fitness: 0.9999710564399421, size 11\n",
      "Iteration 371, best fitness: 0.9999710564399421, size 11\n",
      "Iteration 372, best fitness: 0.9999710564399421, size 11\n",
      "Iteration 373, best fitness: 0.9999710564399421, size 11\n",
      "Iteration 374, best fitness: 0.9999710564399421, size 11\n",
      "Iteration 375, best fitness: 0.9999710430300573, size 12\n",
      "Iteration 376, best fitness: 0.9999710430300573, size 12\n",
      "Iteration 377, best fitness: 0.999971042191527, size 14\n",
      "Iteration 378, best fitness: 0.999971042191527, size 14\n",
      "Iteration 379, best fitness: 0.999971042191527, size 14\n",
      "Iteration 380, best fitness: 0.999971042191527, size 14\n",
      "Iteration 381, best fitness: 0.999971042191527, size 14\n",
      "Iteration 382, best fitness: 0.999971042191527, size 14\n",
      "Iteration 383, best fitness: 0.999971042191527, size 14\n",
      "Iteration 384, best fitness: 0.999971042191527, size 14\n",
      "Iteration 385, best fitness: 0.999971042191527, size 14\n",
      "Iteration 386, best fitness: 0.999971042191527, size 14\n",
      "Iteration 387, best fitness: 0.999971042191527, size 14\n",
      "Iteration 388, best fitness: 0.999971042191527, size 14\n",
      "Iteration 389, best fitness: 0.999971042191527, size 14\n",
      "Iteration 390, best fitness: 0.999971042191527, size 14\n",
      "Iteration 391, best fitness: 0.999971042191527, size 14\n",
      "Iteration 392, best fitness: 0.999971042191527, size 14\n",
      "Iteration 393, best fitness: 0.999971042191527, size 14\n",
      "Iteration 394, best fitness: 0.999971042191527, size 14\n",
      "Iteration 395, best fitness: 0.999971042191527, size 14\n",
      "Iteration 396, best fitness: 0.999971042191527, size 14\n",
      "Iteration 397, best fitness: 0.999971042191527, size 14\n",
      "Iteration 398, best fitness: 0.999971042191527, size 14\n",
      "Iteration 399, best fitness: 0.999971042191527, size 14\n",
      "Iteration 400, best fitness: 0.999971042191527, size 14\n",
      "Iteration 401, best fitness: 0.999971042191527, size 14\n",
      "Iteration 402, best fitness: 0.9999710119720555, size 11\n",
      "Iteration 403, best fitness: 0.9999710119720555, size 11\n",
      "Iteration 404, best fitness: 0.9999710119720555, size 11\n",
      "Iteration 405, best fitness: 0.9999710119720555, size 11\n",
      "Iteration 406, best fitness: 0.9999710119720555, size 11\n",
      "Iteration 407, best fitness: 0.9999710119720555, size 11\n",
      "Iteration 408, best fitness: 0.9999710119720555, size 11\n",
      "Iteration 409, best fitness: 0.9999710119720555, size 11\n",
      "Iteration 410, best fitness: 0.9999710119720555, size 11\n",
      "Iteration 411, best fitness: 0.9999710119720555, size 11\n",
      "Iteration 412, best fitness: 0.9999710119720555, size 11\n",
      "Iteration 413, best fitness: 0.9999710119720555, size 11\n",
      "Iteration 414, best fitness: 0.9999710119720555, size 11\n",
      "Iteration 415, best fitness: 0.9999710119720555, size 11\n",
      "Iteration 416, best fitness: 0.9999710119720555, size 11\n",
      "Iteration 417, best fitness: 0.9999710119720555, size 11\n",
      "Iteration 418, best fitness: 0.9999710119720555, size 11\n",
      "Iteration 419, best fitness: 0.9999710119720555, size 11\n",
      "Iteration 420, best fitness: 0.9999710119720555, size 11\n",
      "Iteration 421, best fitness: 0.9999709926321285, size 13\n",
      "Iteration 422, best fitness: 0.9999709926321285, size 13\n",
      "Iteration 423, best fitness: 0.9999709926321285, size 13\n",
      "Iteration 424, best fitness: 0.9999709926321285, size 13\n",
      "Iteration 425, best fitness: 0.9999709926321285, size 13\n",
      "Iteration 426, best fitness: 0.9999709926321285, size 13\n",
      "Iteration 427, best fitness: 0.9999709926321285, size 13\n",
      "Iteration 428, best fitness: 0.9999709926321285, size 13\n",
      "Iteration 429, best fitness: 0.9999709926321285, size 13\n",
      "Iteration 430, best fitness: 0.9999709749513831, size 15\n",
      "Iteration 431, best fitness: 0.9999709749513831, size 15\n",
      "Iteration 432, best fitness: 0.9999709749513831, size 15\n",
      "Iteration 433, best fitness: 0.9999709749513831, size 15\n",
      "Iteration 434, best fitness: 0.9999709749513831, size 15\n",
      "Iteration 435, best fitness: 0.9999709749513831, size 15\n",
      "Iteration 436, best fitness: 0.9999709749513831, size 15\n",
      "Iteration 437, best fitness: 0.9999709749513831, size 15\n",
      "Iteration 438, best fitness: 0.9999709749513831, size 15\n",
      "Iteration 439, best fitness: 0.9999709698957819, size 14\n",
      "Iteration 440, best fitness: 0.9999709698957819, size 14\n",
      "Iteration 441, best fitness: 0.9999709698957819, size 14\n",
      "Iteration 442, best fitness: 0.9999709698957819, size 14\n",
      "Iteration 443, best fitness: 0.9999709698957819, size 14\n",
      "Iteration 444, best fitness: 0.9999709698957819, size 14\n",
      "Iteration 445, best fitness: 0.9999709698957819, size 14\n"
     ]
    },
    {
     "name": "stdout",
     "output_type": "stream",
     "text": [
      "Iteration 446, best fitness: 0.9999709698957819, size 14\n",
      "Iteration 447, best fitness: 0.9999709698957819, size 14\n",
      "Iteration 448, best fitness: 0.9999709698957819, size 14\n",
      "Iteration 449, best fitness: 0.9999709698957819, size 14\n",
      "Iteration 450, best fitness: 0.9999709698957819, size 14\n",
      "Iteration 451, best fitness: 0.9999709698957819, size 14\n",
      "Iteration 452, best fitness: 0.9999709698957819, size 14\n",
      "Iteration 453, best fitness: 0.9999709698957819, size 14\n",
      "Iteration 454, best fitness: 0.9999709698957819, size 14\n",
      "Iteration 455, best fitness: 0.9999709698957819, size 14\n",
      "Iteration 456, best fitness: 0.9999709698957819, size 14\n",
      "Iteration 457, best fitness: 0.9999709698957819, size 14\n",
      "Iteration 458, best fitness: 0.9999709698957819, size 14\n",
      "Iteration 459, best fitness: 0.9999709698957819, size 14\n",
      "Iteration 460, best fitness: 0.9999709698957819, size 14\n",
      "Iteration 461, best fitness: 0.9999709698957819, size 14\n",
      "Iteration 462, best fitness: 0.9999709698957819, size 14\n",
      "Iteration 463, best fitness: 0.9999709698957819, size 14\n",
      "Iteration 464, best fitness: 0.9999709698957819, size 14\n",
      "Iteration 465, best fitness: 0.9999709698957819, size 14\n",
      "Iteration 466, best fitness: 0.9999709698957819, size 14\n",
      "Iteration 467, best fitness: 0.9999709698957819, size 14\n",
      "Iteration 468, best fitness: 0.9999709698957819, size 14\n",
      "Iteration 469, best fitness: 0.9999709698957819, size 14\n",
      "Iteration 470, best fitness: 0.9999709698957819, size 14\n",
      "Iteration 471, best fitness: 0.9999709496557534, size 14\n",
      "Iteration 472, best fitness: 0.9999709488118064, size 12\n",
      "Iteration 473, best fitness: 0.9999709488118064, size 12\n",
      "Iteration 474, best fitness: 0.9999709488118064, size 12\n",
      "Iteration 475, best fitness: 0.9999709488118064, size 12\n",
      "Iteration 476, best fitness: 0.9999709488118064, size 12\n",
      "Iteration 477, best fitness: 0.9999709488118064, size 12\n",
      "Iteration 478, best fitness: 0.9999709488118064, size 12\n",
      "Iteration 479, best fitness: 0.9999709437470944, size 12\n",
      "Iteration 480, best fitness: 0.9999709437470944, size 12\n",
      "Iteration 481, best fitness: 0.9999709395251518, size 12\n",
      "Iteration 482, best fitness: 0.9999709395251518, size 12\n",
      "Iteration 483, best fitness: 0.9999709395251518, size 12\n",
      "Iteration 484, best fitness: 0.9999709395251518, size 12\n",
      "Iteration 485, best fitness: 0.9999709395251518, size 12\n",
      "Iteration 486, best fitness: 0.9999709395251518, size 12\n",
      "Iteration 487, best fitness: 0.9999709395251518, size 12\n",
      "Iteration 488, best fitness: 0.9999709395251518, size 12\n",
      "Iteration 489, best fitness: 0.9999709395251518, size 12\n",
      "Iteration 490, best fitness: 0.9999709395251518, size 12\n",
      "Iteration 491, best fitness: 0.9999709395251518, size 12\n",
      "Iteration 492, best fitness: 0.9999709395251518, size 12\n",
      "Iteration 493, best fitness: 0.9999709395251518, size 12\n",
      "Iteration 494, best fitness: 0.9999709395251518, size 12\n",
      "Iteration 495, best fitness: 0.9999709395251518, size 12\n",
      "Iteration 496, best fitness: 0.9999709395251518, size 12\n",
      "Iteration 497, best fitness: 0.9999709395251518, size 12\n",
      "Iteration 498, best fitness: 0.9999709395251518, size 12\n",
      "Iteration 499, best fitness: 0.9999709361467143, size 14\n"
     ]
    },
    {
     "data": {
      "text/plain": [
       "[[99167, 60664, 19849],\n",
       " [46743, 32382, 46743],\n",
       " [33346, 88918, 88918],\n",
       " [16980, 65690, 38701],\n",
       " [45552, 45552, 11146],\n",
       " [45586, 45592, 10759],\n",
       " [45552, 45533, 11137],\n",
       " [45552, 45552, 11106],\n",
       " [65634, 38814, -22871],\n",
       " [87022, -48716, 81900],\n",
       " [12948, 10318, 96253],\n",
       " [-84838, -55360, 1733],\n",
       " [38646, 61212, -85498],\n",
       " [-20593, 5446, 88132]]"
      ]
     },
     "execution_count": 96,
     "metadata": {},
     "output_type": "execute_result"
    }
   ],
   "source": [
    "max_gen=500\n",
    "MAX=100000\n",
    "MIN=-MAX\n",
    "crossover = relative_crossover\n",
    "tournament_size = 5\n",
    "population_size = 50\n",
    "fitness_values = []\n",
    "ga()"
   ]
  },
  {
   "cell_type": "code",
   "execution_count": 97,
   "metadata": {
    "scrolled": true
   },
   "outputs": [
    {
     "data": {
      "text/plain": [
       "[<matplotlib.lines.Line2D at 0x11bc3e7c0>]"
      ]
     },
     "execution_count": 97,
     "metadata": {},
     "output_type": "execute_result"
    },
    {
     "data": {
      "image/png": "[encoded data removed]",
      "text/plain": [
       "<Figure size 432x288 with 1 Axes>"
      ]
     },
     "metadata": {
      "needs_background": "light"
     },
     "output_type": "display_data"
    }
   ],
   "source": [
    "plt.plot(fitness_values)"
   ]
  },
  {
   "cell_type": "markdown",
   "metadata": {},
   "source": [
    "As before, one way to address this problem would be to design more appropriate variation operators, such as our improved mutation operator:"
   ]
  },
  {
   "cell_type": "code",
   "execution_count": 98,
   "metadata": {},
   "outputs": [],
   "source": [
    "def mutate_test(solution):\n",
    "    P_mutate = 1/len(solution)\n",
    "    mutated = solution[:]\n",
    "    for position in range(len(solution)):\n",
    "        if random.random() < P_mutate:\n",
    "            if random.random() < 0.9:\n",
    "                mutated[position] = int(random.gauss(mutated[position], 20))\n",
    "            else:\n",
    "                mutated[position] = random.choice(solution)\n",
    "    return mutated"
   ]
  },
  {
   "cell_type": "code",
   "execution_count": 99,
   "metadata": {},
   "outputs": [
    {
     "name": "stdout",
     "output_type": "stream",
     "text": [
      "Iteration 0, best fitness: 5.998621240291064\n",
      "Iteration 0, best fitness: 5.998190478051063, size 21\n",
      "Iteration 1, best fitness: 5.997920675836634, size 19\n",
      "Iteration 2, best fitness: 5.749808888747121, size 20\n",
      "Iteration 3, best fitness: 5.749160193760039, size 20\n",
      "Iteration 4, best fitness: 5.694993124140518, size 17\n",
      "Iteration 5, best fitness: 4.999160193760039, size 19\n",
      "Iteration 6, best fitness: 4.999155650359725, size 20\n",
      "Iteration 7, best fitness: 4.944993124140518, size 18\n",
      "Iteration 8, best fitness: 4.944993124140518, size 18\n",
      "Iteration 9, best fitness: 3.9998066698888355, size 17\n",
      "Iteration 10, best fitness: 3.9998066698888355, size 17\n",
      "Iteration 11, best fitness: 3.9976247030878858, size 14\n",
      "Iteration 12, best fitness: 3.9976247030878858, size 14\n",
      "Iteration 13, best fitness: 3.9975816203143895, size 16\n",
      "Iteration 14, best fitness: 2.94733449514681, size 14\n",
      "Iteration 15, best fitness: 1.9473684210526314, size 15\n",
      "Iteration 16, best fitness: 1.0, size 14\n",
      "Iteration 17, best fitness: 1.0, size 14\n",
      "Iteration 18, best fitness: 0.8571428571428571, size 15\n",
      "Iteration 19, best fitness: 0.8571428571428571, size 15\n",
      "Iteration 20, best fitness: 0.8571428571428571, size 15\n",
      "Iteration 21, best fitness: 0.8571428571428571, size 15\n",
      "Iteration 22, best fitness: 0.8571428571428571, size 15\n",
      "Iteration 23, best fitness: 0.8571428571428571, size 15\n",
      "Iteration 24, best fitness: 0.8571428571428571, size 15\n",
      "Iteration 25, best fitness: 0.8571428571428571, size 15\n",
      "Iteration 26, best fitness: 0.8571428571428571, size 15\n",
      "Iteration 27, best fitness: 0.8571428571428571, size 15\n",
      "Iteration 28, best fitness: 0.8571428571428571, size 15\n",
      "Iteration 29, best fitness: 0.8571428571428571, size 15\n",
      "Iteration 30, best fitness: 0.8571428571428571, size 15\n",
      "Iteration 31, best fitness: 0.8571428571428571, size 15\n",
      "Iteration 32, best fitness: 0.0, size 15\n",
      "Iteration 33, best fitness: 0.0, size 15\n",
      "Iteration 34, best fitness: 0.0, size 15\n",
      "Iteration 35, best fitness: 0.0, size 15\n",
      "Iteration 36, best fitness: 0.0, size 15\n",
      "Iteration 37, best fitness: 0.0, size 15\n",
      "Iteration 38, best fitness: 0.0, size 15\n",
      "Iteration 39, best fitness: 0.0, size 15\n",
      "Iteration 40, best fitness: 0.0, size 15\n",
      "Iteration 41, best fitness: 0.0, size 15\n",
      "Iteration 42, best fitness: 0.0, size 15\n",
      "Iteration 43, best fitness: 0.0, size 15\n",
      "Iteration 44, best fitness: 0.0, size 15\n",
      "Iteration 45, best fitness: 0.0, size 15\n",
      "Iteration 46, best fitness: 0.0, size 15\n",
      "Iteration 47, best fitness: 0.0, size 15\n",
      "Iteration 48, best fitness: 0.0, size 15\n",
      "Iteration 49, best fitness: 0.0, size 15\n",
      "Iteration 50, best fitness: 0.0, size 15\n",
      "Iteration 51, best fitness: 0.0, size 15\n",
      "Iteration 52, best fitness: 0.0, size 15\n",
      "Iteration 53, best fitness: 0.0, size 15\n",
      "Iteration 54, best fitness: 0.0, size 15\n",
      "Iteration 55, best fitness: 0.0, size 15\n",
      "Iteration 56, best fitness: 0.0, size 15\n",
      "Iteration 57, best fitness: 0.0, size 15\n",
      "Iteration 58, best fitness: 0.0, size 15\n",
      "Iteration 59, best fitness: 0.0, size 15\n",
      "Iteration 60, best fitness: 0.0, size 15\n",
      "Iteration 61, best fitness: 0.0, size 15\n",
      "Iteration 62, best fitness: 0.0, size 15\n",
      "Iteration 63, best fitness: 0.0, size 15\n",
      "Iteration 64, best fitness: 0.0, size 15\n",
      "Iteration 65, best fitness: 0.0, size 15\n",
      "Iteration 66, best fitness: 0.0, size 15\n",
      "Iteration 67, best fitness: 0.0, size 15\n",
      "Iteration 68, best fitness: 0.0, size 15\n",
      "Iteration 69, best fitness: 0.0, size 15\n",
      "Iteration 70, best fitness: 0.0, size 15\n",
      "Iteration 71, best fitness: 0.0, size 15\n",
      "Iteration 72, best fitness: 0.0, size 15\n",
      "Iteration 73, best fitness: 0.0, size 15\n",
      "Iteration 74, best fitness: 0.0, size 15\n",
      "Iteration 75, best fitness: 0.0, size 15\n",
      "Iteration 76, best fitness: 0.0, size 15\n",
      "Iteration 77, best fitness: 0.0, size 15\n",
      "Iteration 78, best fitness: 0.0, size 15\n",
      "Iteration 79, best fitness: 0.0, size 15\n",
      "Iteration 80, best fitness: 0.0, size 15\n",
      "Iteration 81, best fitness: 0.0, size 15\n",
      "Iteration 82, best fitness: 0.0, size 15\n",
      "Iteration 83, best fitness: 0.0, size 15\n",
      "Iteration 84, best fitness: 0.0, size 15\n",
      "Iteration 85, best fitness: 0.0, size 15\n",
      "Iteration 86, best fitness: 0.0, size 15\n",
      "Iteration 87, best fitness: 0.0, size 15\n",
      "Iteration 88, best fitness: 0.0, size 15\n",
      "Iteration 89, best fitness: 0.0, size 15\n",
      "Iteration 90, best fitness: 0.0, size 15\n",
      "Iteration 91, best fitness: 0.0, size 15\n",
      "Iteration 92, best fitness: 0.0, size 15\n",
      "Iteration 93, best fitness: 0.0, size 15\n",
      "Iteration 94, best fitness: 0.0, size 15\n",
      "Iteration 95, best fitness: 0.0, size 15\n",
      "Iteration 96, best fitness: 0.0, size 15\n",
      "Iteration 97, best fitness: 0.0, size 15\n",
      "Iteration 98, best fitness: 0.0, size 15\n",
      "Iteration 99, best fitness: 0.0, size 15\n",
      "Iteration 100, best fitness: 0.0, size 15\n",
      "Iteration 101, best fitness: 0.0, size 15\n",
      "Iteration 102, best fitness: 0.0, size 15\n",
      "Iteration 103, best fitness: 0.0, size 15\n",
      "Iteration 104, best fitness: 0.0, size 15\n",
      "Iteration 105, best fitness: 0.0, size 15\n",
      "Iteration 106, best fitness: 0.0, size 15\n",
      "Iteration 107, best fitness: 0.0, size 15\n",
      "Iteration 108, best fitness: 0.0, size 15\n",
      "Iteration 109, best fitness: 0.0, size 15\n",
      "Iteration 110, best fitness: 0.0, size 15\n",
      "Iteration 111, best fitness: 0.0, size 15\n",
      "Iteration 112, best fitness: 0.0, size 15\n",
      "Iteration 113, best fitness: 0.0, size 15\n",
      "Iteration 114, best fitness: 0.0, size 15\n",
      "Iteration 115, best fitness: 0.0, size 15\n",
      "Iteration 116, best fitness: 0.0, size 15\n",
      "Iteration 117, best fitness: 0.0, size 15\n",
      "Iteration 118, best fitness: 0.0, size 15\n",
      "Iteration 119, best fitness: 0.0, size 15\n",
      "Iteration 120, best fitness: 0.0, size 15\n",
      "Iteration 121, best fitness: 0.0, size 15\n",
      "Iteration 122, best fitness: 0.0, size 15\n",
      "Iteration 123, best fitness: 0.0, size 15\n",
      "Iteration 124, best fitness: 0.0, size 15\n",
      "Iteration 125, best fitness: 0.0, size 15\n",
      "Iteration 126, best fitness: 0.0, size 15\n",
      "Iteration 127, best fitness: 0.0, size 15\n",
      "Iteration 128, best fitness: 0.0, size 15\n",
      "Iteration 129, best fitness: 0.0, size 15\n",
      "Iteration 130, best fitness: 0.0, size 15\n",
      "Iteration 131, best fitness: 0.0, size 15\n",
      "Iteration 132, best fitness: 0.0, size 15\n",
      "Iteration 133, best fitness: 0.0, size 15\n",
      "Iteration 134, best fitness: 0.0, size 15\n",
      "Iteration 135, best fitness: 0.0, size 15\n",
      "Iteration 136, best fitness: 0.0, size 15\n",
      "Iteration 137, best fitness: 0.0, size 15\n",
      "Iteration 138, best fitness: 0.0, size 15\n",
      "Iteration 139, best fitness: 0.0, size 15\n",
      "Iteration 140, best fitness: 0.0, size 15\n",
      "Iteration 141, best fitness: 0.0, size 15\n",
      "Iteration 142, best fitness: 0.0, size 15\n",
      "Iteration 143, best fitness: 0.0, size 15\n",
      "Iteration 144, best fitness: 0.0, size 15\n",
      "Iteration 145, best fitness: 0.0, size 15\n",
      "Iteration 146, best fitness: 0.0, size 15\n",
      "Iteration 147, best fitness: 0.0, size 15\n",
      "Iteration 148, best fitness: 0.0, size 15\n",
      "Iteration 149, best fitness: 0.0, size 15\n",
      "Iteration 150, best fitness: 0.0, size 15\n",
      "Iteration 151, best fitness: 0.0, size 15\n",
      "Iteration 152, best fitness: 0.0, size 15\n",
      "Iteration 153, best fitness: 0.0, size 15\n",
      "Iteration 154, best fitness: 0.0, size 15\n",
      "Iteration 155, best fitness: 0.0, size 15\n",
      "Iteration 156, best fitness: 0.0, size 15\n",
      "Iteration 157, best fitness: 0.0, size 15\n",
      "Iteration 158, best fitness: 0.0, size 15\n",
      "Iteration 159, best fitness: 0.0, size 15\n",
      "Iteration 160, best fitness: 0.0, size 15\n",
      "Iteration 161, best fitness: 0.0, size 15\n",
      "Iteration 162, best fitness: 0.0, size 15\n",
      "Iteration 163, best fitness: 0.0, size 15\n",
      "Iteration 164, best fitness: 0.0, size 15\n",
      "Iteration 165, best fitness: 0.0, size 15\n",
      "Iteration 166, best fitness: 0.0, size 15\n",
      "Iteration 167, best fitness: 0.0, size 15\n",
      "Iteration 168, best fitness: 0.0, size 15\n",
      "Iteration 169, best fitness: 0.0, size 15\n",
      "Iteration 170, best fitness: 0.0, size 15\n",
      "Iteration 171, best fitness: 0.0, size 15\n",
      "Iteration 172, best fitness: 0.0, size 15\n",
      "Iteration 173, best fitness: 0.0, size 15\n",
      "Iteration 174, best fitness: 0.0, size 15\n",
      "Iteration 175, best fitness: 0.0, size 15\n",
      "Iteration 176, best fitness: 0.0, size 15\n",
      "Iteration 177, best fitness: 0.0, size 15\n",
      "Iteration 178, best fitness: 0.0, size 15\n",
      "Iteration 179, best fitness: 0.0, size 15\n",
      "Iteration 180, best fitness: 0.0, size 15\n",
      "Iteration 181, best fitness: 0.0, size 15\n",
      "Iteration 182, best fitness: 0.0, size 15\n",
      "Iteration 183, best fitness: 0.0, size 15\n",
      "Iteration 184, best fitness: 0.0, size 15\n",
      "Iteration 185, best fitness: 0.0, size 15\n",
      "Iteration 186, best fitness: 0.0, size 15\n"
     ]
    },
    {
     "name": "stdout",
     "output_type": "stream",
     "text": [
      "Iteration 187, best fitness: 0.0, size 15\n",
      "Iteration 188, best fitness: 0.0, size 15\n",
      "Iteration 189, best fitness: 0.0, size 15\n",
      "Iteration 190, best fitness: 0.0, size 15\n",
      "Iteration 191, best fitness: 0.0, size 15\n",
      "Iteration 192, best fitness: 0.0, size 15\n",
      "Iteration 193, best fitness: 0.0, size 15\n",
      "Iteration 194, best fitness: 0.0, size 15\n",
      "Iteration 195, best fitness: 0.0, size 15\n",
      "Iteration 196, best fitness: 0.0, size 15\n",
      "Iteration 197, best fitness: 0.0, size 15\n",
      "Iteration 198, best fitness: 0.0, size 15\n",
      "Iteration 199, best fitness: 0.0, size 15\n",
      "Iteration 200, best fitness: 0.0, size 15\n",
      "Iteration 201, best fitness: 0.0, size 15\n",
      "Iteration 202, best fitness: 0.0, size 15\n",
      "Iteration 203, best fitness: 0.0, size 15\n",
      "Iteration 204, best fitness: 0.0, size 15\n",
      "Iteration 205, best fitness: 0.0, size 15\n",
      "Iteration 206, best fitness: 0.0, size 15\n",
      "Iteration 207, best fitness: 0.0, size 15\n",
      "Iteration 208, best fitness: 0.0, size 15\n",
      "Iteration 209, best fitness: 0.0, size 15\n",
      "Iteration 210, best fitness: 0.0, size 15\n",
      "Iteration 211, best fitness: 0.0, size 15\n",
      "Iteration 212, best fitness: 0.0, size 15\n",
      "Iteration 213, best fitness: 0.0, size 15\n",
      "Iteration 214, best fitness: 0.0, size 15\n",
      "Iteration 215, best fitness: 0.0, size 15\n",
      "Iteration 216, best fitness: 0.0, size 15\n",
      "Iteration 217, best fitness: 0.0, size 15\n",
      "Iteration 218, best fitness: 0.0, size 15\n",
      "Iteration 219, best fitness: 0.0, size 15\n",
      "Iteration 220, best fitness: 0.0, size 15\n",
      "Iteration 221, best fitness: 0.0, size 15\n",
      "Iteration 222, best fitness: 0.0, size 15\n",
      "Iteration 223, best fitness: 0.0, size 15\n",
      "Iteration 224, best fitness: 0.0, size 15\n",
      "Iteration 225, best fitness: 0.0, size 15\n",
      "Iteration 226, best fitness: 0.0, size 15\n",
      "Iteration 227, best fitness: 0.0, size 15\n",
      "Iteration 228, best fitness: 0.0, size 15\n",
      "Iteration 229, best fitness: 0.0, size 15\n",
      "Iteration 230, best fitness: 0.0, size 15\n",
      "Iteration 231, best fitness: 0.0, size 15\n",
      "Iteration 232, best fitness: 0.0, size 15\n",
      "Iteration 233, best fitness: 0.0, size 15\n",
      "Iteration 234, best fitness: 0.0, size 15\n",
      "Iteration 235, best fitness: 0.0, size 15\n",
      "Iteration 236, best fitness: 0.0, size 15\n",
      "Iteration 237, best fitness: 0.0, size 15\n",
      "Iteration 238, best fitness: 0.0, size 15\n",
      "Iteration 239, best fitness: 0.0, size 15\n",
      "Iteration 240, best fitness: 0.0, size 15\n",
      "Iteration 241, best fitness: 0.0, size 15\n",
      "Iteration 242, best fitness: 0.0, size 15\n",
      "Iteration 243, best fitness: 0.0, size 15\n",
      "Iteration 244, best fitness: 0.0, size 15\n",
      "Iteration 245, best fitness: 0.0, size 15\n",
      "Iteration 246, best fitness: 0.0, size 15\n",
      "Iteration 247, best fitness: 0.0, size 15\n",
      "Iteration 248, best fitness: 0.0, size 15\n",
      "Iteration 249, best fitness: 0.0, size 15\n",
      "Iteration 250, best fitness: 0.0, size 15\n",
      "Iteration 251, best fitness: 0.0, size 15\n",
      "Iteration 252, best fitness: 0.0, size 15\n",
      "Iteration 253, best fitness: 0.0, size 15\n",
      "Iteration 254, best fitness: 0.0, size 15\n",
      "Iteration 255, best fitness: 0.0, size 15\n",
      "Iteration 256, best fitness: 0.0, size 15\n",
      "Iteration 257, best fitness: 0.0, size 15\n",
      "Iteration 258, best fitness: 0.0, size 15\n",
      "Iteration 259, best fitness: 0.0, size 15\n",
      "Iteration 260, best fitness: 0.0, size 15\n",
      "Iteration 261, best fitness: 0.0, size 15\n",
      "Iteration 262, best fitness: 0.0, size 15\n",
      "Iteration 263, best fitness: 0.0, size 15\n",
      "Iteration 264, best fitness: 0.0, size 15\n",
      "Iteration 265, best fitness: 0.0, size 15\n",
      "Iteration 266, best fitness: 0.0, size 15\n",
      "Iteration 267, best fitness: 0.0, size 15\n",
      "Iteration 268, best fitness: 0.0, size 15\n",
      "Iteration 269, best fitness: 0.0, size 15\n",
      "Iteration 270, best fitness: 0.0, size 15\n",
      "Iteration 271, best fitness: 0.0, size 15\n",
      "Iteration 272, best fitness: 0.0, size 15\n",
      "Iteration 273, best fitness: 0.0, size 15\n",
      "Iteration 274, best fitness: 0.0, size 15\n",
      "Iteration 275, best fitness: 0.0, size 15\n",
      "Iteration 276, best fitness: 0.0, size 15\n",
      "Iteration 277, best fitness: 0.0, size 15\n",
      "Iteration 278, best fitness: 0.0, size 15\n",
      "Iteration 279, best fitness: 0.0, size 15\n",
      "Iteration 280, best fitness: 0.0, size 15\n",
      "Iteration 281, best fitness: 0.0, size 15\n",
      "Iteration 282, best fitness: 0.0, size 15\n",
      "Iteration 283, best fitness: 0.0, size 15\n",
      "Iteration 284, best fitness: 0.0, size 15\n",
      "Iteration 285, best fitness: 0.0, size 15\n",
      "Iteration 286, best fitness: 0.0, size 15\n",
      "Iteration 287, best fitness: 0.0, size 15\n",
      "Iteration 288, best fitness: 0.0, size 15\n",
      "Iteration 289, best fitness: 0.0, size 15\n",
      "Iteration 290, best fitness: 0.0, size 15\n",
      "Iteration 291, best fitness: 0.0, size 15\n",
      "Iteration 292, best fitness: 0.0, size 15\n",
      "Iteration 293, best fitness: 0.0, size 15\n",
      "Iteration 294, best fitness: 0.0, size 15\n",
      "Iteration 295, best fitness: 0.0, size 15\n",
      "Iteration 296, best fitness: 0.0, size 15\n",
      "Iteration 297, best fitness: 0.0, size 15\n",
      "Iteration 298, best fitness: 0.0, size 15\n",
      "Iteration 299, best fitness: 0.0, size 15\n",
      "Iteration 300, best fitness: 0.0, size 15\n",
      "Iteration 301, best fitness: 0.0, size 15\n",
      "Iteration 302, best fitness: 0.0, size 15\n",
      "Iteration 303, best fitness: 0.0, size 15\n",
      "Iteration 304, best fitness: 0.0, size 15\n",
      "Iteration 305, best fitness: 0.0, size 15\n",
      "Iteration 306, best fitness: 0.0, size 15\n",
      "Iteration 307, best fitness: 0.0, size 15\n",
      "Iteration 308, best fitness: 0.0, size 15\n",
      "Iteration 309, best fitness: 0.0, size 15\n",
      "Iteration 310, best fitness: 0.0, size 15\n",
      "Iteration 311, best fitness: 0.0, size 15\n",
      "Iteration 312, best fitness: 0.0, size 15\n",
      "Iteration 313, best fitness: 0.0, size 15\n",
      "Iteration 314, best fitness: 0.0, size 15\n",
      "Iteration 315, best fitness: 0.0, size 15\n",
      "Iteration 316, best fitness: 0.0, size 15\n",
      "Iteration 317, best fitness: 0.0, size 15\n",
      "Iteration 318, best fitness: 0.0, size 15\n",
      "Iteration 319, best fitness: 0.0, size 15\n",
      "Iteration 320, best fitness: 0.0, size 15\n",
      "Iteration 321, best fitness: 0.0, size 15\n",
      "Iteration 322, best fitness: 0.0, size 15\n",
      "Iteration 323, best fitness: 0.0, size 15\n",
      "Iteration 324, best fitness: 0.0, size 15\n",
      "Iteration 325, best fitness: 0.0, size 15\n",
      "Iteration 326, best fitness: 0.0, size 15\n",
      "Iteration 327, best fitness: 0.0, size 15\n",
      "Iteration 328, best fitness: 0.0, size 15\n",
      "Iteration 329, best fitness: 0.0, size 15\n",
      "Iteration 330, best fitness: 0.0, size 15\n",
      "Iteration 331, best fitness: 0.0, size 15\n",
      "Iteration 332, best fitness: 0.0, size 15\n",
      "Iteration 333, best fitness: 0.0, size 15\n",
      "Iteration 334, best fitness: 0.0, size 15\n",
      "Iteration 335, best fitness: 0.0, size 15\n",
      "Iteration 336, best fitness: 0.0, size 15\n",
      "Iteration 337, best fitness: 0.0, size 15\n",
      "Iteration 338, best fitness: 0.0, size 15\n",
      "Iteration 339, best fitness: 0.0, size 15\n",
      "Iteration 340, best fitness: 0.0, size 15\n",
      "Iteration 341, best fitness: 0.0, size 15\n",
      "Iteration 342, best fitness: 0.0, size 15\n",
      "Iteration 343, best fitness: 0.0, size 15\n",
      "Iteration 344, best fitness: 0.0, size 15\n",
      "Iteration 345, best fitness: 0.0, size 15\n",
      "Iteration 346, best fitness: 0.0, size 15\n",
      "Iteration 347, best fitness: 0.0, size 15\n",
      "Iteration 348, best fitness: 0.0, size 15\n",
      "Iteration 349, best fitness: 0.0, size 15\n",
      "Iteration 350, best fitness: 0.0, size 15\n",
      "Iteration 351, best fitness: 0.0, size 15\n",
      "Iteration 352, best fitness: 0.0, size 15\n",
      "Iteration 353, best fitness: 0.0, size 15\n",
      "Iteration 354, best fitness: 0.0, size 15\n",
      "Iteration 355, best fitness: 0.0, size 15\n",
      "Iteration 356, best fitness: 0.0, size 15\n",
      "Iteration 357, best fitness: 0.0, size 15\n",
      "Iteration 358, best fitness: 0.0, size 15\n",
      "Iteration 359, best fitness: 0.0, size 15\n",
      "Iteration 360, best fitness: 0.0, size 15\n",
      "Iteration 361, best fitness: 0.0, size 15\n",
      "Iteration 362, best fitness: 0.0, size 15\n",
      "Iteration 363, best fitness: 0.0, size 15\n",
      "Iteration 364, best fitness: 0.0, size 15\n",
      "Iteration 365, best fitness: 0.0, size 15\n",
      "Iteration 366, best fitness: 0.0, size 15\n",
      "Iteration 367, best fitness: 0.0, size 15\n",
      "Iteration 368, best fitness: 0.0, size 15\n",
      "Iteration 369, best fitness: 0.0, size 15\n",
      "Iteration 370, best fitness: 0.0, size 15\n",
      "Iteration 371, best fitness: 0.0, size 15\n",
      "Iteration 372, best fitness: 0.0, size 15\n",
      "Iteration 373, best fitness: 0.0, size 15\n",
      "Iteration 374, best fitness: 0.0, size 15\n",
      "Iteration 375, best fitness: 0.0, size 15\n",
      "Iteration 376, best fitness: 0.0, size 15\n",
      "Iteration 377, best fitness: 0.0, size 15\n",
      "Iteration 378, best fitness: 0.0, size 15\n",
      "Iteration 379, best fitness: 0.0, size 15\n",
      "Iteration 380, best fitness: 0.0, size 15\n",
      "Iteration 381, best fitness: 0.0, size 15\n",
      "Iteration 382, best fitness: 0.0, size 15\n",
      "Iteration 383, best fitness: 0.0, size 15\n",
      "Iteration 384, best fitness: 0.0, size 15\n"
     ]
    },
    {
     "name": "stdout",
     "output_type": "stream",
     "text": [
      "Iteration 385, best fitness: 0.0, size 15\n",
      "Iteration 386, best fitness: 0.0, size 15\n",
      "Iteration 387, best fitness: 0.0, size 15\n",
      "Iteration 388, best fitness: 0.0, size 15\n",
      "Iteration 389, best fitness: 0.0, size 15\n",
      "Iteration 390, best fitness: 0.0, size 15\n",
      "Iteration 391, best fitness: 0.0, size 15\n",
      "Iteration 392, best fitness: 0.0, size 15\n",
      "Iteration 393, best fitness: 0.0, size 15\n",
      "Iteration 394, best fitness: 0.0, size 15\n",
      "Iteration 395, best fitness: 0.0, size 15\n",
      "Iteration 396, best fitness: 0.0, size 15\n",
      "Iteration 397, best fitness: 0.0, size 15\n",
      "Iteration 398, best fitness: 0.0, size 15\n",
      "Iteration 399, best fitness: 0.0, size 15\n",
      "Iteration 400, best fitness: 0.0, size 15\n",
      "Iteration 401, best fitness: 0.0, size 15\n",
      "Iteration 402, best fitness: 0.0, size 15\n",
      "Iteration 403, best fitness: 0.0, size 15\n",
      "Iteration 404, best fitness: 0.0, size 15\n",
      "Iteration 405, best fitness: 0.0, size 15\n",
      "Iteration 406, best fitness: 0.0, size 15\n",
      "Iteration 407, best fitness: 0.0, size 15\n",
      "Iteration 408, best fitness: 0.0, size 15\n",
      "Iteration 409, best fitness: 0.0, size 15\n",
      "Iteration 410, best fitness: 0.0, size 15\n",
      "Iteration 411, best fitness: 0.0, size 15\n",
      "Iteration 412, best fitness: 0.0, size 15\n",
      "Iteration 413, best fitness: 0.0, size 15\n",
      "Iteration 414, best fitness: 0.0, size 15\n",
      "Iteration 415, best fitness: 0.0, size 15\n",
      "Iteration 416, best fitness: 0.0, size 15\n",
      "Iteration 417, best fitness: 0.0, size 15\n",
      "Iteration 418, best fitness: 0.0, size 15\n",
      "Iteration 419, best fitness: 0.0, size 15\n",
      "Iteration 420, best fitness: 0.0, size 15\n",
      "Iteration 421, best fitness: 0.0, size 15\n",
      "Iteration 422, best fitness: 0.0, size 15\n",
      "Iteration 423, best fitness: 0.0, size 15\n",
      "Iteration 424, best fitness: 0.0, size 15\n",
      "Iteration 425, best fitness: 0.0, size 15\n",
      "Iteration 426, best fitness: 0.0, size 15\n",
      "Iteration 427, best fitness: 0.0, size 15\n",
      "Iteration 428, best fitness: 0.0, size 15\n",
      "Iteration 429, best fitness: 0.0, size 15\n",
      "Iteration 430, best fitness: 0.0, size 15\n",
      "Iteration 431, best fitness: 0.0, size 15\n",
      "Iteration 432, best fitness: 0.0, size 15\n",
      "Iteration 433, best fitness: 0.0, size 15\n",
      "Iteration 434, best fitness: 0.0, size 15\n",
      "Iteration 435, best fitness: 0.0, size 15\n",
      "Iteration 436, best fitness: 0.0, size 15\n",
      "Iteration 437, best fitness: 0.0, size 15\n",
      "Iteration 438, best fitness: 0.0, size 15\n",
      "Iteration 439, best fitness: 0.0, size 15\n",
      "Iteration 440, best fitness: 0.0, size 15\n",
      "Iteration 441, best fitness: 0.0, size 15\n",
      "Iteration 442, best fitness: 0.0, size 15\n",
      "Iteration 443, best fitness: 0.0, size 15\n",
      "Iteration 444, best fitness: 0.0, size 15\n",
      "Iteration 445, best fitness: 0.0, size 15\n",
      "Iteration 446, best fitness: 0.0, size 15\n",
      "Iteration 447, best fitness: 0.0, size 15\n",
      "Iteration 448, best fitness: 0.0, size 15\n",
      "Iteration 449, best fitness: 0.0, size 15\n",
      "Iteration 450, best fitness: 0.0, size 15\n",
      "Iteration 451, best fitness: 0.0, size 15\n",
      "Iteration 452, best fitness: 0.0, size 15\n",
      "Iteration 453, best fitness: 0.0, size 15\n",
      "Iteration 454, best fitness: 0.0, size 15\n",
      "Iteration 455, best fitness: 0.0, size 15\n",
      "Iteration 456, best fitness: 0.0, size 15\n",
      "Iteration 457, best fitness: 0.0, size 15\n",
      "Iteration 458, best fitness: 0.0, size 15\n",
      "Iteration 459, best fitness: 0.0, size 15\n",
      "Iteration 460, best fitness: 0.0, size 15\n",
      "Iteration 461, best fitness: 0.0, size 15\n",
      "Iteration 462, best fitness: 0.0, size 15\n",
      "Iteration 463, best fitness: 0.0, size 15\n",
      "Iteration 464, best fitness: 0.0, size 15\n",
      "Iteration 465, best fitness: 0.0, size 15\n",
      "Iteration 466, best fitness: 0.0, size 15\n",
      "Iteration 467, best fitness: 0.0, size 15\n",
      "Iteration 468, best fitness: 0.0, size 15\n",
      "Iteration 469, best fitness: 0.0, size 15\n",
      "Iteration 470, best fitness: 0.0, size 15\n",
      "Iteration 471, best fitness: 0.0, size 15\n",
      "Iteration 472, best fitness: 0.0, size 15\n",
      "Iteration 473, best fitness: 0.0, size 15\n",
      "Iteration 474, best fitness: 0.0, size 15\n",
      "Iteration 475, best fitness: 0.0, size 15\n",
      "Iteration 476, best fitness: 0.0, size 15\n",
      "Iteration 477, best fitness: 0.0, size 15\n",
      "Iteration 478, best fitness: 0.0, size 15\n",
      "Iteration 479, best fitness: 0.0, size 15\n",
      "Iteration 480, best fitness: 0.0, size 15\n",
      "Iteration 481, best fitness: 0.0, size 15\n",
      "Iteration 482, best fitness: 0.0, size 15\n",
      "Iteration 483, best fitness: 0.0, size 15\n",
      "Iteration 484, best fitness: 0.0, size 15\n",
      "Iteration 485, best fitness: 0.0, size 15\n",
      "Iteration 486, best fitness: 0.0, size 15\n",
      "Iteration 487, best fitness: 0.0, size 15\n",
      "Iteration 488, best fitness: 0.0, size 15\n",
      "Iteration 489, best fitness: 0.0, size 15\n",
      "Iteration 490, best fitness: 0.0, size 15\n",
      "Iteration 491, best fitness: 0.0, size 15\n",
      "Iteration 492, best fitness: 0.0, size 15\n",
      "Iteration 493, best fitness: 0.0, size 15\n",
      "Iteration 494, best fitness: 0.0, size 15\n",
      "Iteration 495, best fitness: 0.0, size 15\n",
      "Iteration 496, best fitness: 0.0, size 15\n",
      "Iteration 497, best fitness: 0.0, size 15\n",
      "Iteration 498, best fitness: 0.0, size 15\n",
      "Iteration 499, best fitness: 0.0, size 15\n"
     ]
    },
    {
     "data": {
      "text/plain": [
       "[[48201, -81936, -28219],\n",
       " [4781, 61127, 83737],\n",
       " [59788, 47129, 98504],\n",
       " [92604, 92604, 92610],\n",
       " [92604, 92604, 92604],\n",
       " [92604, 92604, 92596],\n",
       " [92604, 17399, 92604],\n",
       " [41007, 89262, 37451],\n",
       " [8787, 19131, 19131],\n",
       " [92377, -12581, 71324],\n",
       " [86680, 18402, 44166],\n",
       " [29659, 54548, -96264],\n",
       " [-9678, 42584, 41172],\n",
       " [-4, 86515, 8586],\n",
       " [60213, 46320, -85386]]"
      ]
     },
     "execution_count": 99,
     "metadata": {},
     "output_type": "execute_result"
    }
   ],
   "source": [
    "max_gen=500\n",
    "MAX=100000\n",
    "MIN=-MAX\n",
    "crossover = relative_crossover\n",
    "tournament_size = 5\n",
    "population_size = 50\n",
    "fitness_values = []\n",
    "ga()"
   ]
  },
  {
   "cell_type": "code",
   "execution_count": 100,
   "metadata": {},
   "outputs": [
    {
     "data": {
      "text/plain": [
       "[<matplotlib.lines.Line2D at 0x11bc858b0>]"
      ]
     },
     "execution_count": 100,
     "metadata": {},
     "output_type": "execute_result"
    },
    {
     "data": {
      "image/png": "[encoded data removed]",
      "text/plain": [
       "<Figure size 432x288 with 1 Axes>"
      ]
     },
     "metadata": {
      "needs_background": "light"
     },
     "output_type": "display_data"
    }
   ],
   "source": [
    "plt.plot(fitness_values)"
   ]
  },
  {
   "cell_type": "markdown",
   "metadata": {},
   "source": [
    "This adapted mutation operator works very well on the `triangle` program, but how well will it work on other programs?  In the next chapter, we will take our understanding of the domain of search problems for test generation and adapt evolutionary search algorithms using customised *many-objective* search algorithms."
   ]
  }
 ],
 "metadata": {
  "kernelspec": {
   "display_name": "3.8.6",
   "language": "python",
   "name": "3.8.6"
  },
  "language_info": {
   "codemirror_mode": {
    "name": "ipython",
    "version": 3
   },
   "file_extension": ".py",
   "mimetype": "text/x-python",
   "name": "python",
   "nbconvert_exporter": "python",
   "pygments_lexer": "ipython3",
   "version": "3.8.6"
  }
 },
 "nbformat": 4,
 "nbformat_minor": 4
}
