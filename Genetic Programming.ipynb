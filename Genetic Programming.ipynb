{
 "cells": [
  {
   "cell_type": "markdown",
   "metadata": {
    "slideshow": {
     "slide_type": "slide"
    }
   },
   "source": [
    "# Genetic Programming"
   ]
  },
  {
   "cell_type": "markdown",
   "metadata": {
    "slideshow": {
     "slide_type": "skip"
    }
   },
   "source": [
    "This chapter introduces some very basic concepts about Genetic Programming. As usual, we will require a couple of imports:"
   ]
  },
  {
   "cell_type": "code",
   "execution_count": 1,
   "metadata": {
    "slideshow": {
     "slide_type": "skip"
    }
   },
   "outputs": [],
   "source": [
    "import random\n",
    "import sys\n",
    "import re\n",
    "import matplotlib.pyplot as plt\n",
    "from statistics import mean"
   ]
  },
  {
   "cell_type": "markdown",
   "metadata": {
    "slideshow": {
     "slide_type": "skip"
    }
   },
   "source": [
    "## Classic Genetic Programming"
   ]
  },
  {
   "cell_type": "markdown",
   "metadata": {
    "slideshow": {
     "slide_type": "skip"
    }
   },
   "source": [
    "The main difference between regular Genetic Algorithms and Genetic Programming lies in the representation: GAs tend to operate on the genotype, while GPs operate on the phenotype (programs); for this, the programs are traditionally represented as trees. Furthermore, GPs have a more open-ended nature in that the number of elements used in a solution as well as their interconnections must be open to evolution."
   ]
  },
  {
   "cell_type": "markdown",
   "metadata": {
    "slideshow": {
     "slide_type": "skip"
    }
   },
   "source": [
    "In a tree representation, programs are typically generated using two sets: A set of terminals (items of arity 0) and functions (items of arity > 0). The input to a function must be the result of any other function that can be defined, which leads to the important property of _type closure_: Each function must be able to handle all values it might ever receive as input, all terminals must be allowable inputs for all functions, and the output from any function must be a permitted input to any other function. "
   ]
  },
  {
   "cell_type": "markdown",
   "metadata": {
    "slideshow": {
     "slide_type": "skip"
    }
   },
   "source": [
    "The first step to evolving a suitable program for a given problem is thus to define the sets of functions and terminals:"
   ]
  },
  {
   "cell_type": "code",
   "execution_count": 2,
   "metadata": {
    "slideshow": {
     "slide_type": "slide"
    }
   },
   "outputs": [],
   "source": [
    "def add(x, y): return x + y\n",
    "def sub(x, y): return x - y\n",
    "def mul(x, y): return x * y\n",
    "def div(x, y): return 1 if not y else x/y"
   ]
  },
  {
   "cell_type": "code",
   "execution_count": 3,
   "metadata": {
    "slideshow": {
     "slide_type": "fragment"
    }
   },
   "outputs": [],
   "source": [
    "FUNCTIONS = [add, sub, mul, div]\n",
    "TERMINALS = ['A', 'B', 'C', 'D']"
   ]
  },
  {
   "cell_type": "markdown",
   "metadata": {
    "slideshow": {
     "slide_type": "slide"
    }
   },
   "source": [
    "### Initialisation"
   ]
  },
  {
   "cell_type": "markdown",
   "metadata": {
    "slideshow": {
     "slide_type": "skip"
    }
   },
   "source": [
    "Our usual approach to define the presentation is by introducing code that creates random instances. Let's do the same here, except that this time we need to use a tree representation. For this, we define a suitable datastructure:"
   ]
  },
  {
   "cell_type": "code",
   "execution_count": 4,
   "metadata": {
    "slideshow": {
     "slide_type": "fragment"
    }
   },
   "outputs": [],
   "source": [
    "class Node:\n",
    "    \n",
    "    def __init__(self, data=None, left=None, right=None):\n",
    "        self.data = data\n",
    "        self.left = left\n",
    "        self.right = right\n",
    "\n",
    "    def __str__(self):\n",
    "        if self.data in FUNCTIONS:\n",
    "            return self.data.__name__\n",
    "        else:\n",
    "            return str(self.data)\n",
    "        \n",
    "    def to_dot(self, dot):\n",
    "        dot.node(str(id(self)), str(self))\n",
    "        \n",
    "        if self.left:\n",
    "            left_dot = self.left.to_dot(dot)\n",
    "            dot.edge(str(id(self)), str(id(self.left)))\n",
    "\n",
    "        if self.right:\n",
    "            right_dot = self.right.to_dot(dot)\n",
    "            dot.edge(str(id(self)), str(id(self.right)))\n",
    "\n",
    "        return dot      "
   ]
  },
  {
   "cell_type": "markdown",
   "metadata": {
    "slideshow": {
     "slide_type": "skip"
    }
   },
   "source": [
    "The `to_dot` function is a helper function we will use in order to represent trees visually using GraphViz (which will need to be installed on your machine if you want to run this Jupyter notebook)."
   ]
  },
  {
   "cell_type": "code",
   "execution_count": 5,
   "metadata": {
    "slideshow": {
     "slide_type": "skip"
    }
   },
   "outputs": [],
   "source": [
    "from graphviz import Digraph"
   ]
  },
  {
   "cell_type": "code",
   "execution_count": 6,
   "metadata": {
    "slideshow": {
     "slide_type": "skip"
    }
   },
   "outputs": [],
   "source": [
    "def print_tree(tree):\n",
    "    dot = Digraph()\n",
    "    tree.to_dot(dot)\n",
    "    return dot"
   ]
  },
  {
   "cell_type": "markdown",
   "metadata": {
    "slideshow": {
     "slide_type": "slide"
    }
   },
   "source": [
    "#### Full Initialisation"
   ]
  },
  {
   "cell_type": "markdown",
   "metadata": {
    "slideshow": {
     "slide_type": "skip"
    }
   },
   "source": [
    "A basic approach to creating random trees is to grow full trees. We decide on a maximum depth for our tree, and then add non-terminal nodes until the depth limit is reached. Once we have reached it, we only add terminals as leaves. "
   ]
  },
  {
   "cell_type": "code",
   "execution_count": 7,
   "metadata": {
    "slideshow": {
     "slide_type": "fragment"
    }
   },
   "outputs": [],
   "source": [
    "MAX_DEPTH = 3"
   ]
  },
  {
   "cell_type": "code",
   "execution_count": 8,
   "metadata": {
    "slideshow": {
     "slide_type": "fragment"
    }
   },
   "outputs": [],
   "source": [
    "def get_random_terminal():\n",
    "    return random.choice(TERMINALS)"
   ]
  },
  {
   "cell_type": "code",
   "execution_count": 9,
   "metadata": {
    "slideshow": {
     "slide_type": "fragment"
    }
   },
   "outputs": [],
   "source": [
    "def get_random_function():\n",
    "    return random.choice(FUNCTIONS)"
   ]
  },
  {
   "cell_type": "code",
   "execution_count": 10,
   "metadata": {
    "slideshow": {
     "slide_type": "fragment"
    }
   },
   "outputs": [],
   "source": [
    "def fill_random_tree(depth=0):\n",
    "    tree = Node()\n",
    "    if depth < MAX_DEPTH:\n",
    "        tree.data = get_random_function()\n",
    "        tree.left  = fill_random_tree(depth + 1)\n",
    "        tree.right = fill_random_tree(depth + 1)\n",
    "    else:\n",
    "        tree.data = get_random_terminal()\n",
    "    return tree"
   ]
  },
  {
   "cell_type": "code",
   "execution_count": 11,
   "metadata": {
    "slideshow": {
     "slide_type": "slide"
    }
   },
   "outputs": [
    {
     "data": {
      "image/svg+xml": [
       "<?xml version=\"1.0\" encoding=\"UTF-8\" standalone=\"no\"?>\n",
       "<!DOCTYPE svg PUBLIC \"-//W3C//DTD SVG 1.1//EN\"\n",
       " \"http://www.w3.org/Graphics/SVG/1.1/DTD/svg11.dtd\">\n",
       "<!-- Generated by graphviz version 2.44.1 (20200629.0846)\n",
       " -->\n",
       "<!-- Pages: 1 -->\n",
       "<svg width=\"566pt\" height=\"260pt\"\n",
       " viewBox=\"0.00 0.00 566.00 260.00\" xmlns=\"http://www.w3.org/2000/svg\" xmlns:xlink=\"http://www.w3.org/1999/xlink\">\n",
       "<g id=\"graph0\" class=\"graph\" transform=\"scale(1 1) rotate(0) translate(4 256)\">\n",
       "<polygon fill=\"white\" stroke=\"transparent\" points=\"-4,4 -4,-256 562,-256 562,4 -4,4\"/>\n",
       "<!-- 4832403408 -->\n",
       "<g id=\"node1\" class=\"node\">\n",
       "<title>4832403408</title>\n",
       "<ellipse fill=\"none\" stroke=\"black\" cx=\"279\" cy=\"-234\" rx=\"27\" ry=\"18\"/>\n",
       "<text text-anchor=\"middle\" x=\"279\" y=\"-230.3\" font-family=\"Times,serif\" font-size=\"14.00\">mul</text>\n",
       "</g>\n",
       "<!-- 4832403120 -->\n",
       "<g id=\"node2\" class=\"node\">\n",
       "<title>4832403120</title>\n",
       "<ellipse fill=\"none\" stroke=\"black\" cx=\"207\" cy=\"-162\" rx=\"27\" ry=\"18\"/>\n",
       "<text text-anchor=\"middle\" x=\"207\" y=\"-158.3\" font-family=\"Times,serif\" font-size=\"14.00\">add</text>\n",
       "</g>\n",
       "<!-- 4832403408&#45;&gt;4832403120 -->\n",
       "<g id=\"edge7\" class=\"edge\">\n",
       "<title>4832403408&#45;&gt;4832403120</title>\n",
       "<path fill=\"none\" stroke=\"black\" d=\"M264.43,-218.83C254.25,-208.94 240.48,-195.55 228.97,-184.36\"/>\n",
       "<polygon fill=\"black\" stroke=\"black\" points=\"231.41,-181.85 221.8,-177.38 226.53,-186.87 231.41,-181.85\"/>\n",
       "</g>\n",
       "<!-- 4832760352 -->\n",
       "<g id=\"node9\" class=\"node\">\n",
       "<title>4832760352</title>\n",
       "<ellipse fill=\"none\" stroke=\"black\" cx=\"351\" cy=\"-162\" rx=\"27\" ry=\"18\"/>\n",
       "<text text-anchor=\"middle\" x=\"351\" y=\"-158.3\" font-family=\"Times,serif\" font-size=\"14.00\">add</text>\n",
       "</g>\n",
       "<!-- 4832403408&#45;&gt;4832760352 -->\n",
       "<g id=\"edge14\" class=\"edge\">\n",
       "<title>4832403408&#45;&gt;4832760352</title>\n",
       "<path fill=\"none\" stroke=\"black\" d=\"M293.57,-218.83C303.75,-208.94 317.52,-195.55 329.03,-184.36\"/>\n",
       "<polygon fill=\"black\" stroke=\"black\" points=\"331.47,-186.87 336.2,-177.38 326.59,-181.85 331.47,-186.87\"/>\n",
       "</g>\n",
       "<!-- 4832760256 -->\n",
       "<g id=\"node3\" class=\"node\">\n",
       "<title>4832760256</title>\n",
       "<ellipse fill=\"none\" stroke=\"black\" cx=\"99\" cy=\"-90\" rx=\"27\" ry=\"18\"/>\n",
       "<text text-anchor=\"middle\" x=\"99\" y=\"-86.3\" font-family=\"Times,serif\" font-size=\"14.00\">mul</text>\n",
       "</g>\n",
       "<!-- 4832403120&#45;&gt;4832760256 -->\n",
       "<g id=\"edge3\" class=\"edge\">\n",
       "<title>4832403120&#45;&gt;4832760256</title>\n",
       "<path fill=\"none\" stroke=\"black\" d=\"M188.19,-148.81C171,-137.67 145.38,-121.06 126.01,-108.5\"/>\n",
       "<polygon fill=\"black\" stroke=\"black\" points=\"127.89,-105.56 117.6,-103.05 124.08,-111.43 127.89,-105.56\"/>\n",
       "</g>\n",
       "<!-- 4832760112 -->\n",
       "<g id=\"node6\" class=\"node\">\n",
       "<title>4832760112</title>\n",
       "<ellipse fill=\"none\" stroke=\"black\" cx=\"207\" cy=\"-90\" rx=\"27\" ry=\"18\"/>\n",
       "<text text-anchor=\"middle\" x=\"207\" y=\"-86.3\" font-family=\"Times,serif\" font-size=\"14.00\">add</text>\n",
       "</g>\n",
       "<!-- 4832403120&#45;&gt;4832760112 -->\n",
       "<g id=\"edge6\" class=\"edge\">\n",
       "<title>4832403120&#45;&gt;4832760112</title>\n",
       "<path fill=\"none\" stroke=\"black\" d=\"M207,-143.7C207,-135.98 207,-126.71 207,-118.11\"/>\n",
       "<polygon fill=\"black\" stroke=\"black\" points=\"210.5,-118.1 207,-108.1 203.5,-118.1 210.5,-118.1\"/>\n",
       "</g>\n",
       "<!-- 4832760016 -->\n",
       "<g id=\"node4\" class=\"node\">\n",
       "<title>4832760016</title>\n",
       "<ellipse fill=\"none\" stroke=\"black\" cx=\"27\" cy=\"-18\" rx=\"27\" ry=\"18\"/>\n",
       "<text text-anchor=\"middle\" x=\"27\" y=\"-14.3\" font-family=\"Times,serif\" font-size=\"14.00\">A</text>\n",
       "</g>\n",
       "<!-- 4832760256&#45;&gt;4832760016 -->\n",
       "<g id=\"edge1\" class=\"edge\">\n",
       "<title>4832760256&#45;&gt;4832760016</title>\n",
       "<path fill=\"none\" stroke=\"black\" d=\"M84.43,-74.83C74.25,-64.94 60.48,-51.55 48.97,-40.36\"/>\n",
       "<polygon fill=\"black\" stroke=\"black\" points=\"51.41,-37.85 41.8,-33.38 46.53,-42.87 51.41,-37.85\"/>\n",
       "</g>\n",
       "<!-- 4832759920 -->\n",
       "<g id=\"node5\" class=\"node\">\n",
       "<title>4832759920</title>\n",
       "<ellipse fill=\"none\" stroke=\"black\" cx=\"99\" cy=\"-18\" rx=\"27\" ry=\"18\"/>\n",
       "<text text-anchor=\"middle\" x=\"99\" y=\"-14.3\" font-family=\"Times,serif\" font-size=\"14.00\">B</text>\n",
       "</g>\n",
       "<!-- 4832760256&#45;&gt;4832759920 -->\n",
       "<g id=\"edge2\" class=\"edge\">\n",
       "<title>4832760256&#45;&gt;4832759920</title>\n",
       "<path fill=\"none\" stroke=\"black\" d=\"M99,-71.7C99,-63.98 99,-54.71 99,-46.11\"/>\n",
       "<polygon fill=\"black\" stroke=\"black\" points=\"102.5,-46.1 99,-36.1 95.5,-46.1 102.5,-46.1\"/>\n",
       "</g>\n",
       "<!-- 4832760160 -->\n",
       "<g id=\"node7\" class=\"node\">\n",
       "<title>4832760160</title>\n",
       "<ellipse fill=\"none\" stroke=\"black\" cx=\"171\" cy=\"-18\" rx=\"27\" ry=\"18\"/>\n",
       "<text text-anchor=\"middle\" x=\"171\" y=\"-14.3\" font-family=\"Times,serif\" font-size=\"14.00\">D</text>\n",
       "</g>\n",
       "<!-- 4832760112&#45;&gt;4832760160 -->\n",
       "<g id=\"edge4\" class=\"edge\">\n",
       "<title>4832760112&#45;&gt;4832760160</title>\n",
       "<path fill=\"none\" stroke=\"black\" d=\"M198.65,-72.76C194.29,-64.28 188.85,-53.71 183.96,-44.2\"/>\n",
       "<polygon fill=\"black\" stroke=\"black\" points=\"186.99,-42.44 179.3,-35.15 180.77,-45.64 186.99,-42.44\"/>\n",
       "</g>\n",
       "<!-- 4832760304 -->\n",
       "<g id=\"node8\" class=\"node\">\n",
       "<title>4832760304</title>\n",
       "<ellipse fill=\"none\" stroke=\"black\" cx=\"243\" cy=\"-18\" rx=\"27\" ry=\"18\"/>\n",
       "<text text-anchor=\"middle\" x=\"243\" y=\"-14.3\" font-family=\"Times,serif\" font-size=\"14.00\">B</text>\n",
       "</g>\n",
       "<!-- 4832760112&#45;&gt;4832760304 -->\n",
       "<g id=\"edge5\" class=\"edge\">\n",
       "<title>4832760112&#45;&gt;4832760304</title>\n",
       "<path fill=\"none\" stroke=\"black\" d=\"M215.35,-72.76C219.71,-64.28 225.15,-53.71 230.04,-44.2\"/>\n",
       "<polygon fill=\"black\" stroke=\"black\" points=\"233.23,-45.64 234.7,-35.15 227.01,-42.44 233.23,-45.64\"/>\n",
       "</g>\n",
       "<!-- 4832760496 -->\n",
       "<g id=\"node10\" class=\"node\">\n",
       "<title>4832760496</title>\n",
       "<ellipse fill=\"none\" stroke=\"black\" cx=\"351\" cy=\"-90\" rx=\"27\" ry=\"18\"/>\n",
       "<text text-anchor=\"middle\" x=\"351\" y=\"-86.3\" font-family=\"Times,serif\" font-size=\"14.00\">sub</text>\n",
       "</g>\n",
       "<!-- 4832760352&#45;&gt;4832760496 -->\n",
       "<g id=\"edge10\" class=\"edge\">\n",
       "<title>4832760352&#45;&gt;4832760496</title>\n",
       "<path fill=\"none\" stroke=\"black\" d=\"M351,-143.7C351,-135.98 351,-126.71 351,-118.11\"/>\n",
       "<polygon fill=\"black\" stroke=\"black\" points=\"354.5,-118.1 351,-108.1 347.5,-118.1 354.5,-118.1\"/>\n",
       "</g>\n",
       "<!-- 4832760880 -->\n",
       "<g id=\"node13\" class=\"node\">\n",
       "<title>4832760880</title>\n",
       "<ellipse fill=\"none\" stroke=\"black\" cx=\"459\" cy=\"-90\" rx=\"27\" ry=\"18\"/>\n",
       "<text text-anchor=\"middle\" x=\"459\" y=\"-86.3\" font-family=\"Times,serif\" font-size=\"14.00\">add</text>\n",
       "</g>\n",
       "<!-- 4832760352&#45;&gt;4832760880 -->\n",
       "<g id=\"edge13\" class=\"edge\">\n",
       "<title>4832760352&#45;&gt;4832760880</title>\n",
       "<path fill=\"none\" stroke=\"black\" d=\"M369.81,-148.81C387,-137.67 412.62,-121.06 431.99,-108.5\"/>\n",
       "<polygon fill=\"black\" stroke=\"black\" points=\"433.92,-111.43 440.4,-103.05 430.11,-105.56 433.92,-111.43\"/>\n",
       "</g>\n",
       "<!-- 4832760688 -->\n",
       "<g id=\"node11\" class=\"node\">\n",
       "<title>4832760688</title>\n",
       "<ellipse fill=\"none\" stroke=\"black\" cx=\"315\" cy=\"-18\" rx=\"27\" ry=\"18\"/>\n",
       "<text text-anchor=\"middle\" x=\"315\" y=\"-14.3\" font-family=\"Times,serif\" font-size=\"14.00\">B</text>\n",
       "</g>\n",
       "<!-- 4832760496&#45;&gt;4832760688 -->\n",
       "<g id=\"edge8\" class=\"edge\">\n",
       "<title>4832760496&#45;&gt;4832760688</title>\n",
       "<path fill=\"none\" stroke=\"black\" d=\"M342.65,-72.76C338.29,-64.28 332.85,-53.71 327.96,-44.2\"/>\n",
       "<polygon fill=\"black\" stroke=\"black\" points=\"330.99,-42.44 323.3,-35.15 324.77,-45.64 330.99,-42.44\"/>\n",
       "</g>\n",
       "<!-- 4832760736 -->\n",
       "<g id=\"node12\" class=\"node\">\n",
       "<title>4832760736</title>\n",
       "<ellipse fill=\"none\" stroke=\"black\" cx=\"387\" cy=\"-18\" rx=\"27\" ry=\"18\"/>\n",
       "<text text-anchor=\"middle\" x=\"387\" y=\"-14.3\" font-family=\"Times,serif\" font-size=\"14.00\">A</text>\n",
       "</g>\n",
       "<!-- 4832760496&#45;&gt;4832760736 -->\n",
       "<g id=\"edge9\" class=\"edge\">\n",
       "<title>4832760496&#45;&gt;4832760736</title>\n",
       "<path fill=\"none\" stroke=\"black\" d=\"M359.35,-72.76C363.71,-64.28 369.15,-53.71 374.04,-44.2\"/>\n",
       "<polygon fill=\"black\" stroke=\"black\" points=\"377.23,-45.64 378.7,-35.15 371.01,-42.44 377.23,-45.64\"/>\n",
       "</g>\n",
       "<!-- 4832760976 -->\n",
       "<g id=\"node14\" class=\"node\">\n",
       "<title>4832760976</title>\n",
       "<ellipse fill=\"none\" stroke=\"black\" cx=\"459\" cy=\"-18\" rx=\"27\" ry=\"18\"/>\n",
       "<text text-anchor=\"middle\" x=\"459\" y=\"-14.3\" font-family=\"Times,serif\" font-size=\"14.00\">A</text>\n",
       "</g>\n",
       "<!-- 4832760880&#45;&gt;4832760976 -->\n",
       "<g id=\"edge11\" class=\"edge\">\n",
       "<title>4832760880&#45;&gt;4832760976</title>\n",
       "<path fill=\"none\" stroke=\"black\" d=\"M459,-71.7C459,-63.98 459,-54.71 459,-46.11\"/>\n",
       "<polygon fill=\"black\" stroke=\"black\" points=\"462.5,-46.1 459,-36.1 455.5,-46.1 462.5,-46.1\"/>\n",
       "</g>\n",
       "<!-- 4832761072 -->\n",
       "<g id=\"node15\" class=\"node\">\n",
       "<title>4832761072</title>\n",
       "<ellipse fill=\"none\" stroke=\"black\" cx=\"531\" cy=\"-18\" rx=\"27\" ry=\"18\"/>\n",
       "<text text-anchor=\"middle\" x=\"531\" y=\"-14.3\" font-family=\"Times,serif\" font-size=\"14.00\">C</text>\n",
       "</g>\n",
       "<!-- 4832760880&#45;&gt;4832761072 -->\n",
       "<g id=\"edge12\" class=\"edge\">\n",
       "<title>4832760880&#45;&gt;4832761072</title>\n",
       "<path fill=\"none\" stroke=\"black\" d=\"M473.57,-74.83C483.75,-64.94 497.52,-51.55 509.03,-40.36\"/>\n",
       "<polygon fill=\"black\" stroke=\"black\" points=\"511.47,-42.87 516.2,-33.38 506.59,-37.85 511.47,-42.87\"/>\n",
       "</g>\n",
       "</g>\n",
       "</svg>\n"
      ],
      "text/plain": [
       "<graphviz.dot.Digraph at 0x120089c10>"
      ]
     },
     "execution_count": 11,
     "metadata": {},
     "output_type": "execute_result"
    }
   ],
   "source": [
    "root = fill_random_tree()\n",
    "print_tree(root)"
   ]
  },
  {
   "cell_type": "markdown",
   "metadata": {
    "slideshow": {
     "slide_type": "slide"
    }
   },
   "source": [
    "#### Grow Initialisation\n",
    "\n",
    "An alternative approach to filling entire trees up to their maximum depth is to grow trees of various sizes. For this we add random nodes while we haven't reached the depth limit. The resulting trees will be less bushy, but the ratio between terminals and non-terminals will bias the average size. "
   ]
  },
  {
   "cell_type": "code",
   "execution_count": 12,
   "metadata": {
    "slideshow": {
     "slide_type": "fragment"
    }
   },
   "outputs": [],
   "source": [
    "def grow_random_tree(depth=0):\n",
    "    tree = Node()\n",
    "    if depth >= MAX_DEPTH or random.random() > 0.5:\n",
    "        tree.data = get_random_terminal()\n",
    "    else:\n",
    "        tree.data = get_random_function()\n",
    "        tree.left  = grow_random_tree(depth + 1)\n",
    "        tree.right = grow_random_tree(depth + 1)\n",
    "    return tree"
   ]
  },
  {
   "cell_type": "code",
   "execution_count": 13,
   "metadata": {
    "scrolled": false,
    "slideshow": {
     "slide_type": "slide"
    }
   },
   "outputs": [
    {
     "data": {
      "image/svg+xml": [
       "<?xml version=\"1.0\" encoding=\"UTF-8\" standalone=\"no\"?>\n",
       "<!DOCTYPE svg PUBLIC \"-//W3C//DTD SVG 1.1//EN\"\n",
       " \"http://www.w3.org/Graphics/SVG/1.1/DTD/svg11.dtd\">\n",
       "<!-- Generated by graphviz version 2.44.1 (20200629.0846)\n",
       " -->\n",
       "<!-- Pages: 1 -->\n",
       "<svg width=\"314pt\" height=\"260pt\"\n",
       " viewBox=\"0.00 0.00 314.00 260.00\" xmlns=\"http://www.w3.org/2000/svg\" xmlns:xlink=\"http://www.w3.org/1999/xlink\">\n",
       "<g id=\"graph0\" class=\"graph\" transform=\"scale(1 1) rotate(0) translate(4 256)\">\n",
       "<polygon fill=\"white\" stroke=\"transparent\" points=\"-4,4 -4,-256 310,-256 310,4 -4,4\"/>\n",
       "<!-- 4832401488 -->\n",
       "<g id=\"node1\" class=\"node\">\n",
       "<title>4832401488</title>\n",
       "<ellipse fill=\"none\" stroke=\"black\" cx=\"135\" cy=\"-234\" rx=\"27\" ry=\"18\"/>\n",
       "<text text-anchor=\"middle\" x=\"135\" y=\"-230.3\" font-family=\"Times,serif\" font-size=\"14.00\">add</text>\n",
       "</g>\n",
       "<!-- 4832762464 -->\n",
       "<g id=\"node2\" class=\"node\">\n",
       "<title>4832762464</title>\n",
       "<ellipse fill=\"none\" stroke=\"black\" cx=\"99\" cy=\"-162\" rx=\"27\" ry=\"18\"/>\n",
       "<text text-anchor=\"middle\" x=\"99\" y=\"-158.3\" font-family=\"Times,serif\" font-size=\"14.00\">add</text>\n",
       "</g>\n",
       "<!-- 4832401488&#45;&gt;4832762464 -->\n",
       "<g id=\"edge5\" class=\"edge\">\n",
       "<title>4832401488&#45;&gt;4832762464</title>\n",
       "<path fill=\"none\" stroke=\"black\" d=\"M126.65,-216.76C122.29,-208.28 116.85,-197.71 111.96,-188.2\"/>\n",
       "<polygon fill=\"black\" stroke=\"black\" points=\"114.99,-186.44 107.3,-179.15 108.77,-189.64 114.99,-186.44\"/>\n",
       "</g>\n",
       "<!-- 4832801360 -->\n",
       "<g id=\"node7\" class=\"node\">\n",
       "<title>4832801360</title>\n",
       "<ellipse fill=\"none\" stroke=\"black\" cx=\"171\" cy=\"-162\" rx=\"27\" ry=\"18\"/>\n",
       "<text text-anchor=\"middle\" x=\"171\" y=\"-158.3\" font-family=\"Times,serif\" font-size=\"14.00\">mul</text>\n",
       "</g>\n",
       "<!-- 4832401488&#45;&gt;4832801360 -->\n",
       "<g id=\"edge10\" class=\"edge\">\n",
       "<title>4832401488&#45;&gt;4832801360</title>\n",
       "<path fill=\"none\" stroke=\"black\" d=\"M143.35,-216.76C147.71,-208.28 153.15,-197.71 158.04,-188.2\"/>\n",
       "<polygon fill=\"black\" stroke=\"black\" points=\"161.23,-189.64 162.7,-179.15 155.01,-186.44 161.23,-189.64\"/>\n",
       "</g>\n",
       "<!-- 4832801216 -->\n",
       "<g id=\"node3\" class=\"node\">\n",
       "<title>4832801216</title>\n",
       "<ellipse fill=\"none\" stroke=\"black\" cx=\"27\" cy=\"-90\" rx=\"27\" ry=\"18\"/>\n",
       "<text text-anchor=\"middle\" x=\"27\" y=\"-86.3\" font-family=\"Times,serif\" font-size=\"14.00\">add</text>\n",
       "</g>\n",
       "<!-- 4832762464&#45;&gt;4832801216 -->\n",
       "<g id=\"edge3\" class=\"edge\">\n",
       "<title>4832762464&#45;&gt;4832801216</title>\n",
       "<path fill=\"none\" stroke=\"black\" d=\"M84.43,-146.83C74.25,-136.94 60.48,-123.55 48.97,-112.36\"/>\n",
       "<polygon fill=\"black\" stroke=\"black\" points=\"51.41,-109.85 41.8,-105.38 46.53,-114.87 51.41,-109.85\"/>\n",
       "</g>\n",
       "<!-- 4832801168 -->\n",
       "<g id=\"node6\" class=\"node\">\n",
       "<title>4832801168</title>\n",
       "<ellipse fill=\"none\" stroke=\"black\" cx=\"99\" cy=\"-90\" rx=\"27\" ry=\"18\"/>\n",
       "<text text-anchor=\"middle\" x=\"99\" y=\"-86.3\" font-family=\"Times,serif\" font-size=\"14.00\">C</text>\n",
       "</g>\n",
       "<!-- 4832762464&#45;&gt;4832801168 -->\n",
       "<g id=\"edge4\" class=\"edge\">\n",
       "<title>4832762464&#45;&gt;4832801168</title>\n",
       "<path fill=\"none\" stroke=\"black\" d=\"M99,-143.7C99,-135.98 99,-126.71 99,-118.11\"/>\n",
       "<polygon fill=\"black\" stroke=\"black\" points=\"102.5,-118.1 99,-108.1 95.5,-118.1 102.5,-118.1\"/>\n",
       "</g>\n",
       "<!-- 4832801024 -->\n",
       "<g id=\"node4\" class=\"node\">\n",
       "<title>4832801024</title>\n",
       "<ellipse fill=\"none\" stroke=\"black\" cx=\"27\" cy=\"-18\" rx=\"27\" ry=\"18\"/>\n",
       "<text text-anchor=\"middle\" x=\"27\" y=\"-14.3\" font-family=\"Times,serif\" font-size=\"14.00\">B</text>\n",
       "</g>\n",
       "<!-- 4832801216&#45;&gt;4832801024 -->\n",
       "<g id=\"edge1\" class=\"edge\">\n",
       "<title>4832801216&#45;&gt;4832801024</title>\n",
       "<path fill=\"none\" stroke=\"black\" d=\"M27,-71.7C27,-63.98 27,-54.71 27,-46.11\"/>\n",
       "<polygon fill=\"black\" stroke=\"black\" points=\"30.5,-46.1 27,-36.1 23.5,-46.1 30.5,-46.1\"/>\n",
       "</g>\n",
       "<!-- 4832801120 -->\n",
       "<g id=\"node5\" class=\"node\">\n",
       "<title>4832801120</title>\n",
       "<ellipse fill=\"none\" stroke=\"black\" cx=\"99\" cy=\"-18\" rx=\"27\" ry=\"18\"/>\n",
       "<text text-anchor=\"middle\" x=\"99\" y=\"-14.3\" font-family=\"Times,serif\" font-size=\"14.00\">C</text>\n",
       "</g>\n",
       "<!-- 4832801216&#45;&gt;4832801120 -->\n",
       "<g id=\"edge2\" class=\"edge\">\n",
       "<title>4832801216&#45;&gt;4832801120</title>\n",
       "<path fill=\"none\" stroke=\"black\" d=\"M41.57,-74.83C51.75,-64.94 65.52,-51.55 77.03,-40.36\"/>\n",
       "<polygon fill=\"black\" stroke=\"black\" points=\"79.47,-42.87 84.2,-33.38 74.59,-37.85 79.47,-42.87\"/>\n",
       "</g>\n",
       "<!-- 4832801600 -->\n",
       "<g id=\"node8\" class=\"node\">\n",
       "<title>4832801600</title>\n",
       "<ellipse fill=\"none\" stroke=\"black\" cx=\"171\" cy=\"-90\" rx=\"27\" ry=\"18\"/>\n",
       "<text text-anchor=\"middle\" x=\"171\" y=\"-86.3\" font-family=\"Times,serif\" font-size=\"14.00\">B</text>\n",
       "</g>\n",
       "<!-- 4832801360&#45;&gt;4832801600 -->\n",
       "<g id=\"edge6\" class=\"edge\">\n",
       "<title>4832801360&#45;&gt;4832801600</title>\n",
       "<path fill=\"none\" stroke=\"black\" d=\"M171,-143.7C171,-135.98 171,-126.71 171,-118.11\"/>\n",
       "<polygon fill=\"black\" stroke=\"black\" points=\"174.5,-118.1 171,-108.1 167.5,-118.1 174.5,-118.1\"/>\n",
       "</g>\n",
       "<!-- 4832801648 -->\n",
       "<g id=\"node9\" class=\"node\">\n",
       "<title>4832801648</title>\n",
       "<ellipse fill=\"none\" stroke=\"black\" cx=\"243\" cy=\"-90\" rx=\"27\" ry=\"18\"/>\n",
       "<text text-anchor=\"middle\" x=\"243\" y=\"-86.3\" font-family=\"Times,serif\" font-size=\"14.00\">mul</text>\n",
       "</g>\n",
       "<!-- 4832801360&#45;&gt;4832801648 -->\n",
       "<g id=\"edge9\" class=\"edge\">\n",
       "<title>4832801360&#45;&gt;4832801648</title>\n",
       "<path fill=\"none\" stroke=\"black\" d=\"M185.57,-146.83C195.75,-136.94 209.52,-123.55 221.03,-112.36\"/>\n",
       "<polygon fill=\"black\" stroke=\"black\" points=\"223.47,-114.87 228.2,-105.38 218.59,-109.85 223.47,-114.87\"/>\n",
       "</g>\n",
       "<!-- 4832801696 -->\n",
       "<g id=\"node10\" class=\"node\">\n",
       "<title>4832801696</title>\n",
       "<ellipse fill=\"none\" stroke=\"black\" cx=\"207\" cy=\"-18\" rx=\"27\" ry=\"18\"/>\n",
       "<text text-anchor=\"middle\" x=\"207\" y=\"-14.3\" font-family=\"Times,serif\" font-size=\"14.00\">A</text>\n",
       "</g>\n",
       "<!-- 4832801648&#45;&gt;4832801696 -->\n",
       "<g id=\"edge7\" class=\"edge\">\n",
       "<title>4832801648&#45;&gt;4832801696</title>\n",
       "<path fill=\"none\" stroke=\"black\" d=\"M234.65,-72.76C230.29,-64.28 224.85,-53.71 219.96,-44.2\"/>\n",
       "<polygon fill=\"black\" stroke=\"black\" points=\"222.99,-42.44 215.3,-35.15 216.77,-45.64 222.99,-42.44\"/>\n",
       "</g>\n",
       "<!-- 4832801888 -->\n",
       "<g id=\"node11\" class=\"node\">\n",
       "<title>4832801888</title>\n",
       "<ellipse fill=\"none\" stroke=\"black\" cx=\"279\" cy=\"-18\" rx=\"27\" ry=\"18\"/>\n",
       "<text text-anchor=\"middle\" x=\"279\" y=\"-14.3\" font-family=\"Times,serif\" font-size=\"14.00\">B</text>\n",
       "</g>\n",
       "<!-- 4832801648&#45;&gt;4832801888 -->\n",
       "<g id=\"edge8\" class=\"edge\">\n",
       "<title>4832801648&#45;&gt;4832801888</title>\n",
       "<path fill=\"none\" stroke=\"black\" d=\"M251.35,-72.76C255.71,-64.28 261.15,-53.71 266.04,-44.2\"/>\n",
       "<polygon fill=\"black\" stroke=\"black\" points=\"269.23,-45.64 270.7,-35.15 263.01,-42.44 269.23,-45.64\"/>\n",
       "</g>\n",
       "</g>\n",
       "</svg>\n"
      ],
      "text/plain": [
       "<graphviz.dot.Digraph at 0x120089490>"
      ]
     },
     "execution_count": 13,
     "metadata": {},
     "output_type": "execute_result"
    }
   ],
   "source": [
    "root = grow_random_tree()\n",
    "print_tree(root)"
   ]
  },
  {
   "cell_type": "markdown",
   "metadata": {
    "slideshow": {
     "slide_type": "skip"
    }
   },
   "source": [
    "If the ratio of terminals to functions is high, then we might end up with many trees of size 1. To avoid this, we can define a minimum depth for the trees we want to generate, and only consider terminals once the minimum size has been reached:"
   ]
  },
  {
   "cell_type": "code",
   "execution_count": 14,
   "metadata": {
    "slideshow": {
     "slide_type": "slide"
    }
   },
   "outputs": [],
   "source": [
    "MIN_DEPTH = 2"
   ]
  },
  {
   "cell_type": "code",
   "execution_count": 15,
   "metadata": {
    "slideshow": {
     "slide_type": "fragment"
    }
   },
   "outputs": [],
   "source": [
    "def grow_random_tree(depth=0):\n",
    "    tree = Node()\n",
    "    if depth < MIN_DEPTH:\n",
    "        tree.data = get_random_function()\n",
    "    elif depth >= MAX_DEPTH:\n",
    "        tree.data =  get_random_terminal()\n",
    "    else:\n",
    "        if random.random() > 0.5:\n",
    "            tree.data =  get_random_terminal()\n",
    "        else:\n",
    "            tree.data = get_random_function()\n",
    "                \n",
    "    if tree.data in FUNCTIONS:\n",
    "        tree.left  = grow_random_tree(depth + 1)\n",
    "        tree.right = grow_random_tree(depth + 1)\n",
    "        \n",
    "    return tree"
   ]
  },
  {
   "cell_type": "code",
   "execution_count": 16,
   "metadata": {
    "slideshow": {
     "slide_type": "slide"
    }
   },
   "outputs": [
    {
     "data": {
      "image/svg+xml": [
       "<?xml version=\"1.0\" encoding=\"UTF-8\" standalone=\"no\"?>\n",
       "<!DOCTYPE svg PUBLIC \"-//W3C//DTD SVG 1.1//EN\"\n",
       " \"http://www.w3.org/Graphics/SVG/1.1/DTD/svg11.dtd\">\n",
       "<!-- Generated by graphviz version 2.44.1 (20200629.0846)\n",
       " -->\n",
       "<!-- Pages: 1 -->\n",
       "<svg width=\"350pt\" height=\"260pt\"\n",
       " viewBox=\"0.00 0.00 350.00 260.00\" xmlns=\"http://www.w3.org/2000/svg\" xmlns:xlink=\"http://www.w3.org/1999/xlink\">\n",
       "<g id=\"graph0\" class=\"graph\" transform=\"scale(1 1) rotate(0) translate(4 256)\">\n",
       "<polygon fill=\"white\" stroke=\"transparent\" points=\"-4,4 -4,-256 346,-256 346,4 -4,4\"/>\n",
       "<!-- 4832802224 -->\n",
       "<g id=\"node1\" class=\"node\">\n",
       "<title>4832802224</title>\n",
       "<ellipse fill=\"none\" stroke=\"black\" cx=\"207\" cy=\"-234\" rx=\"27\" ry=\"18\"/>\n",
       "<text text-anchor=\"middle\" x=\"207\" y=\"-230.3\" font-family=\"Times,serif\" font-size=\"14.00\">sub</text>\n",
       "</g>\n",
       "<!-- 4832802896 -->\n",
       "<g id=\"node2\" class=\"node\">\n",
       "<title>4832802896</title>\n",
       "<ellipse fill=\"none\" stroke=\"black\" cx=\"171\" cy=\"-162\" rx=\"27\" ry=\"18\"/>\n",
       "<text text-anchor=\"middle\" x=\"171\" y=\"-158.3\" font-family=\"Times,serif\" font-size=\"14.00\">sub</text>\n",
       "</g>\n",
       "<!-- 4832802224&#45;&gt;4832802896 -->\n",
       "<g id=\"edge7\" class=\"edge\">\n",
       "<title>4832802224&#45;&gt;4832802896</title>\n",
       "<path fill=\"none\" stroke=\"black\" d=\"M198.65,-216.76C194.29,-208.28 188.85,-197.71 183.96,-188.2\"/>\n",
       "<polygon fill=\"black\" stroke=\"black\" points=\"186.99,-186.44 179.3,-179.15 180.77,-189.64 186.99,-186.44\"/>\n",
       "</g>\n",
       "<!-- 4832802560 -->\n",
       "<g id=\"node9\" class=\"node\">\n",
       "<title>4832802560</title>\n",
       "<ellipse fill=\"none\" stroke=\"black\" cx=\"243\" cy=\"-162\" rx=\"27\" ry=\"18\"/>\n",
       "<text text-anchor=\"middle\" x=\"243\" y=\"-158.3\" font-family=\"Times,serif\" font-size=\"14.00\">add</text>\n",
       "</g>\n",
       "<!-- 4832802224&#45;&gt;4832802560 -->\n",
       "<g id=\"edge10\" class=\"edge\">\n",
       "<title>4832802224&#45;&gt;4832802560</title>\n",
       "<path fill=\"none\" stroke=\"black\" d=\"M215.35,-216.76C219.71,-208.28 225.15,-197.71 230.04,-188.2\"/>\n",
       "<polygon fill=\"black\" stroke=\"black\" points=\"233.23,-189.64 234.7,-179.15 227.01,-186.44 233.23,-189.64\"/>\n",
       "</g>\n",
       "<!-- 4832802800 -->\n",
       "<g id=\"node3\" class=\"node\">\n",
       "<title>4832802800</title>\n",
       "<ellipse fill=\"none\" stroke=\"black\" cx=\"99\" cy=\"-90\" rx=\"27\" ry=\"18\"/>\n",
       "<text text-anchor=\"middle\" x=\"99\" y=\"-86.3\" font-family=\"Times,serif\" font-size=\"14.00\">div</text>\n",
       "</g>\n",
       "<!-- 4832802896&#45;&gt;4832802800 -->\n",
       "<g id=\"edge3\" class=\"edge\">\n",
       "<title>4832802896&#45;&gt;4832802800</title>\n",
       "<path fill=\"none\" stroke=\"black\" d=\"M156.43,-146.83C146.25,-136.94 132.48,-123.55 120.97,-112.36\"/>\n",
       "<polygon fill=\"black\" stroke=\"black\" points=\"123.41,-109.85 113.8,-105.38 118.53,-114.87 123.41,-109.85\"/>\n",
       "</g>\n",
       "<!-- 4832803520 -->\n",
       "<g id=\"node6\" class=\"node\">\n",
       "<title>4832803520</title>\n",
       "<ellipse fill=\"none\" stroke=\"black\" cx=\"171\" cy=\"-90\" rx=\"27\" ry=\"18\"/>\n",
       "<text text-anchor=\"middle\" x=\"171\" y=\"-86.3\" font-family=\"Times,serif\" font-size=\"14.00\">add</text>\n",
       "</g>\n",
       "<!-- 4832802896&#45;&gt;4832803520 -->\n",
       "<g id=\"edge6\" class=\"edge\">\n",
       "<title>4832802896&#45;&gt;4832803520</title>\n",
       "<path fill=\"none\" stroke=\"black\" d=\"M171,-143.7C171,-135.98 171,-126.71 171,-118.11\"/>\n",
       "<polygon fill=\"black\" stroke=\"black\" points=\"174.5,-118.1 171,-108.1 167.5,-118.1 174.5,-118.1\"/>\n",
       "</g>\n",
       "<!-- 4832803184 -->\n",
       "<g id=\"node4\" class=\"node\">\n",
       "<title>4832803184</title>\n",
       "<ellipse fill=\"none\" stroke=\"black\" cx=\"27\" cy=\"-18\" rx=\"27\" ry=\"18\"/>\n",
       "<text text-anchor=\"middle\" x=\"27\" y=\"-14.3\" font-family=\"Times,serif\" font-size=\"14.00\">A</text>\n",
       "</g>\n",
       "<!-- 4832802800&#45;&gt;4832803184 -->\n",
       "<g id=\"edge1\" class=\"edge\">\n",
       "<title>4832802800&#45;&gt;4832803184</title>\n",
       "<path fill=\"none\" stroke=\"black\" d=\"M84.43,-74.83C74.25,-64.94 60.48,-51.55 48.97,-40.36\"/>\n",
       "<polygon fill=\"black\" stroke=\"black\" points=\"51.41,-37.85 41.8,-33.38 46.53,-42.87 51.41,-37.85\"/>\n",
       "</g>\n",
       "<!-- 4832803616 -->\n",
       "<g id=\"node5\" class=\"node\">\n",
       "<title>4832803616</title>\n",
       "<ellipse fill=\"none\" stroke=\"black\" cx=\"99\" cy=\"-18\" rx=\"27\" ry=\"18\"/>\n",
       "<text text-anchor=\"middle\" x=\"99\" y=\"-14.3\" font-family=\"Times,serif\" font-size=\"14.00\">C</text>\n",
       "</g>\n",
       "<!-- 4832802800&#45;&gt;4832803616 -->\n",
       "<g id=\"edge2\" class=\"edge\">\n",
       "<title>4832802800&#45;&gt;4832803616</title>\n",
       "<path fill=\"none\" stroke=\"black\" d=\"M99,-71.7C99,-63.98 99,-54.71 99,-46.11\"/>\n",
       "<polygon fill=\"black\" stroke=\"black\" points=\"102.5,-46.1 99,-36.1 95.5,-46.1 102.5,-46.1\"/>\n",
       "</g>\n",
       "<!-- 4832803328 -->\n",
       "<g id=\"node7\" class=\"node\">\n",
       "<title>4832803328</title>\n",
       "<ellipse fill=\"none\" stroke=\"black\" cx=\"171\" cy=\"-18\" rx=\"27\" ry=\"18\"/>\n",
       "<text text-anchor=\"middle\" x=\"171\" y=\"-14.3\" font-family=\"Times,serif\" font-size=\"14.00\">A</text>\n",
       "</g>\n",
       "<!-- 4832803520&#45;&gt;4832803328 -->\n",
       "<g id=\"edge4\" class=\"edge\">\n",
       "<title>4832803520&#45;&gt;4832803328</title>\n",
       "<path fill=\"none\" stroke=\"black\" d=\"M171,-71.7C171,-63.98 171,-54.71 171,-46.11\"/>\n",
       "<polygon fill=\"black\" stroke=\"black\" points=\"174.5,-46.1 171,-36.1 167.5,-46.1 174.5,-46.1\"/>\n",
       "</g>\n",
       "<!-- 4832802608 -->\n",
       "<g id=\"node8\" class=\"node\">\n",
       "<title>4832802608</title>\n",
       "<ellipse fill=\"none\" stroke=\"black\" cx=\"243\" cy=\"-18\" rx=\"27\" ry=\"18\"/>\n",
       "<text text-anchor=\"middle\" x=\"243\" y=\"-14.3\" font-family=\"Times,serif\" font-size=\"14.00\">C</text>\n",
       "</g>\n",
       "<!-- 4832803520&#45;&gt;4832802608 -->\n",
       "<g id=\"edge5\" class=\"edge\">\n",
       "<title>4832803520&#45;&gt;4832802608</title>\n",
       "<path fill=\"none\" stroke=\"black\" d=\"M185.57,-74.83C195.75,-64.94 209.52,-51.55 221.03,-40.36\"/>\n",
       "<polygon fill=\"black\" stroke=\"black\" points=\"223.47,-42.87 228.2,-33.38 218.59,-37.85 223.47,-42.87\"/>\n",
       "</g>\n",
       "<!-- 4832803664 -->\n",
       "<g id=\"node10\" class=\"node\">\n",
       "<title>4832803664</title>\n",
       "<ellipse fill=\"none\" stroke=\"black\" cx=\"243\" cy=\"-90\" rx=\"27\" ry=\"18\"/>\n",
       "<text text-anchor=\"middle\" x=\"243\" y=\"-86.3\" font-family=\"Times,serif\" font-size=\"14.00\">C</text>\n",
       "</g>\n",
       "<!-- 4832802560&#45;&gt;4832803664 -->\n",
       "<g id=\"edge8\" class=\"edge\">\n",
       "<title>4832802560&#45;&gt;4832803664</title>\n",
       "<path fill=\"none\" stroke=\"black\" d=\"M243,-143.7C243,-135.98 243,-126.71 243,-118.11\"/>\n",
       "<polygon fill=\"black\" stroke=\"black\" points=\"246.5,-118.1 243,-108.1 239.5,-118.1 246.5,-118.1\"/>\n",
       "</g>\n",
       "<!-- 4832803712 -->\n",
       "<g id=\"node11\" class=\"node\">\n",
       "<title>4832803712</title>\n",
       "<ellipse fill=\"none\" stroke=\"black\" cx=\"315\" cy=\"-90\" rx=\"27\" ry=\"18\"/>\n",
       "<text text-anchor=\"middle\" x=\"315\" y=\"-86.3\" font-family=\"Times,serif\" font-size=\"14.00\">A</text>\n",
       "</g>\n",
       "<!-- 4832802560&#45;&gt;4832803712 -->\n",
       "<g id=\"edge9\" class=\"edge\">\n",
       "<title>4832802560&#45;&gt;4832803712</title>\n",
       "<path fill=\"none\" stroke=\"black\" d=\"M257.57,-146.83C267.75,-136.94 281.52,-123.55 293.03,-112.36\"/>\n",
       "<polygon fill=\"black\" stroke=\"black\" points=\"295.47,-114.87 300.2,-105.38 290.59,-109.85 295.47,-114.87\"/>\n",
       "</g>\n",
       "</g>\n",
       "</svg>\n"
      ],
      "text/plain": [
       "<graphviz.dot.Digraph at 0x1200e1a60>"
      ]
     },
     "execution_count": 16,
     "metadata": {},
     "output_type": "execute_result"
    }
   ],
   "source": [
    "root = grow_random_tree()\n",
    "print_tree(root)"
   ]
  },
  {
   "cell_type": "markdown",
   "metadata": {
    "slideshow": {
     "slide_type": "slide"
    }
   },
   "source": [
    "#### Ramped Half and Half\n",
    "\n",
    "A common practice when creating the initial population is use a mix of filled and grown trees. For example, half the population may be initialised with the full method, and half with the grow method."
   ]
  },
  {
   "cell_type": "code",
   "execution_count": 17,
   "metadata": {
    "slideshow": {
     "slide_type": "skip"
    }
   },
   "outputs": [],
   "source": [
    "population_size = 40"
   ]
  },
  {
   "cell_type": "code",
   "execution_count": 18,
   "metadata": {
    "slideshow": {
     "slide_type": "fragment"
    }
   },
   "outputs": [],
   "source": [
    "def get_initial_population():\n",
    "    population = []\n",
    "    while len(population) < population_size:\n",
    "        if random.random() < 0.5:\n",
    "            population.append(fill_random_tree())\n",
    "        else:\n",
    "            population.append(grow_random_tree())\n",
    "        \n",
    "    return population"
   ]
  },
  {
   "cell_type": "markdown",
   "metadata": {
    "slideshow": {
     "slide_type": "skip"
    }
   },
   "source": [
    " Sometimes this is also done using a ramped approach, to generate trees of various sizes:"
   ]
  },
  {
   "cell_type": "code",
   "execution_count": 19,
   "metadata": {
    "slideshow": {
     "slide_type": "subslide"
    }
   },
   "outputs": [],
   "source": [
    "def get_initial_population():\n",
    "    population = []\n",
    "    stages = MAX_DEPTH - MIN_DEPTH + 1\n",
    "    for stage in range(MIN_DEPTH, MAX_DEPTH + 1):\n",
    "        for md in range(int(population_size/stages/2)):\n",
    "            population.append(grow_random_tree(MAX_DEPTH - stage))\n",
    "        for md in range(int(population_size/stages/2)):\n",
    "            population.append(fill_random_tree(MAX_DEPTH - stage))\n",
    "    return population"
   ]
  },
  {
   "cell_type": "markdown",
   "metadata": {
    "slideshow": {
     "slide_type": "skip"
    }
   },
   "source": [
    "By defining a helper function that calculates the size of a tree, we can look at the distribution of tree sizes:"
   ]
  },
  {
   "cell_type": "code",
   "execution_count": 20,
   "metadata": {
    "slideshow": {
     "slide_type": "skip"
    }
   },
   "outputs": [],
   "source": [
    "def size(tree):\n",
    "    if tree.data in FUNCTIONS:\n",
    "        l = size(tree.left) if tree.left else 0\n",
    "        r = size(tree.right) if tree.right else 0\n",
    "        return 1 + l + r\n",
    "    else:\n",
    "        return 1"
   ]
  },
  {
   "cell_type": "code",
   "execution_count": 21,
   "metadata": {
    "slideshow": {
     "slide_type": "skip"
    }
   },
   "outputs": [
    {
     "data": {
      "text/plain": [
       "(array([ 6.,  4.,  0., 10.,  0.,  1.,  2.,  0.,  6., 11.]),\n",
       " array([ 3. ,  4.2,  5.4,  6.6,  7.8,  9. , 10.2, 11.4, 12.6, 13.8, 15. ]),\n",
       " <BarContainer object of 10 artists>)"
      ]
     },
     "execution_count": 21,
     "metadata": {},
     "output_type": "execute_result"
    },
    {
     "data": {
      "image/png": "[encoded data removed]",
      "text/plain": [
       "<Figure size 432x288 with 1 Axes>"
      ]
     },
     "metadata": {
      "needs_background": "light"
     },
     "output_type": "display_data"
    }
   ],
   "source": [
    "plt.hist([size(x) for x in get_initial_population()])"
   ]
  },
  {
   "cell_type": "markdown",
   "metadata": {
    "slideshow": {
     "slide_type": "slide"
    }
   },
   "source": [
    "### Ephemeral Random Constants"
   ]
  },
  {
   "cell_type": "markdown",
   "metadata": {
    "slideshow": {
     "slide_type": "skip"
    }
   },
   "source": [
    "Our terminals only include constants (`A` etc), but in practice we might also need actual values, such as numbers. Including all possible numbers in the set of terminals does not scale well. A common approach is therefore to include _ephemeral random constants_: A single terminal represents the choice of a random value; when the terminal is chosen then it is instantiated with an actual random value:"
   ]
  },
  {
   "cell_type": "code",
   "execution_count": 22,
   "metadata": {
    "slideshow": {
     "slide_type": "fragment"
    }
   },
   "outputs": [],
   "source": [
    "EPHEMERAL_CONSTANT = \"R\"\n",
    "TERMINALS = ['A', 'B', 'C', 'D', EPHEMERAL_CONSTANT]\n",
    "EPHEMERAL_RANGE = 5"
   ]
  },
  {
   "cell_type": "code",
   "execution_count": 23,
   "metadata": {
    "slideshow": {
     "slide_type": "fragment"
    }
   },
   "outputs": [],
   "source": [
    "def get_random_terminal():\n",
    "    t = random.choice(TERMINALS)\n",
    "    if t == EPHEMERAL_CONSTANT:\n",
    "        t = random.randint(-EPHEMERAL_RANGE, EPHEMERAL_RANGE)\n",
    "    return t"
   ]
  },
  {
   "cell_type": "markdown",
   "metadata": {
    "slideshow": {
     "slide_type": "skip"
    }
   },
   "source": [
    "### Search Operators"
   ]
  },
  {
   "cell_type": "markdown",
   "metadata": {
    "slideshow": {
     "slide_type": "skip"
    }
   },
   "source": [
    "Since we have a different representation to what we used in the past (which was mainly list-based), we need to adapt our search operators."
   ]
  },
  {
   "cell_type": "markdown",
   "metadata": {
    "slideshow": {
     "slide_type": "slide"
    }
   },
   "source": [
    "#### Crossover\n",
    "\n",
    "A basic approach to crossing over two trees is to randomly choose two crossover points in the parent trees, and then to cut and swap subtrees below the crossover points. We first need a function with which we can create copies of trees:"
   ]
  },
  {
   "cell_type": "code",
   "execution_count": 24,
   "metadata": {
    "slideshow": {
     "slide_type": "fragment"
    }
   },
   "outputs": [],
   "source": [
    "def copy(tree):\n",
    "    t = Node()\n",
    "    t.data = tree.data\n",
    "    if tree.left:  t.left = copy(tree.left)\n",
    "    if tree.right: t.right = copy(tree.right)\n",
    "    return t "
   ]
  },
  {
   "cell_type": "markdown",
   "metadata": {
    "slideshow": {
     "slide_type": "skip"
    }
   },
   "source": [
    "We need a couple further helper functions in order to find subtrees at chosen crossover points. First, here's a helper class that allows us to count up or down while (hackily) traversing a tree:"
   ]
  },
  {
   "cell_type": "code",
   "execution_count": 25,
   "metadata": {
    "slideshow": {
     "slide_type": "slide"
    }
   },
   "outputs": [],
   "source": [
    "class Counter:\n",
    "    def __init__(self, num):\n",
    "        self.num = num\n",
    "    \n",
    "    def reduce(self):\n",
    "        self.num -= 1\n",
    "        \n",
    "    def increase(self):\n",
    "        self.num += 1\n",
    "    \n",
    "    def is_target(self):\n",
    "        return self.num == 0\n",
    "    \n",
    "    def greater_zero(self):\n",
    "        return self.num > 0\n",
    "    \n",
    "    def get_value(self):\n",
    "        return self.num"
   ]
  },
  {
   "cell_type": "markdown",
   "metadata": {
    "slideshow": {
     "slide_type": "skip"
    }
   },
   "source": [
    "Using this helper class, we can now traverse the tree and return a copy of the subtree whenever the counter has reached the target:"
   ]
  },
  {
   "cell_type": "code",
   "execution_count": 26,
   "metadata": {
    "slideshow": {
     "slide_type": "slide"
    }
   },
   "outputs": [],
   "source": [
    "def get_subtree_at(tree, counter):\n",
    "    counter.reduce()\n",
    "    if counter.is_target():\n",
    "        return copy(tree)\n",
    "    else:\n",
    "        ret = None\n",
    "        if tree.left and counter.greater_zero(): \n",
    "            ret = get_subtree_at(tree.left, counter)\n",
    "        if not ret and tree.right and counter.greater_zero(): \n",
    "            ret = get_subtree_at(tree.right, counter)\n",
    "        return ret"
   ]
  },
  {
   "cell_type": "markdown",
   "metadata": {
    "slideshow": {
     "slide_type": "skip"
    }
   },
   "source": [
    "Similarly, we can replace a target node with an entirely different subtree given a counter that tells us when we've reached the target node:"
   ]
  },
  {
   "cell_type": "code",
   "execution_count": 27,
   "metadata": {
    "slideshow": {
     "slide_type": "slide"
    }
   },
   "outputs": [],
   "source": [
    "def insert_subtree_at(tree, subtree, counter):\n",
    "    counter.reduce()\n",
    "    if counter.is_target():\n",
    "        tree.data  = subtree.data\n",
    "        tree.left  = subtree.left\n",
    "        tree.right = subtree.right\n",
    "    else:\n",
    "        if tree.left and counter.greater_zero(): \n",
    "            insert_subtree_at(tree.left, subtree, counter)\n",
    "        if tree.right and counter.greater_zero(): \n",
    "            insert_subtree_at(tree.right, subtree, counter)"
   ]
  },
  {
   "cell_type": "markdown",
   "metadata": {
    "slideshow": {
     "slide_type": "skip"
    }
   },
   "source": [
    "Using these two functions we can now define a simple crossover function that picks a random subtree from one parent (`parent1`) and inserts it at a random position in the other parent (`parent2`):"
   ]
  },
  {
   "cell_type": "code",
   "execution_count": 28,
   "metadata": {
    "slideshow": {
     "slide_type": "slide"
    }
   },
   "outputs": [],
   "source": [
    "def subtree_crossover(parent1, parent2):\n",
    "    pos1 = random.randint(1, size(parent1))\n",
    "    pos2 = random.randint(1, size(parent2))\n",
    "    \n",
    "    if size(parent1) == 1:\n",
    "        subtree = copy(parent1)\n",
    "    else:\n",
    "        subtree = get_subtree_at(parent1, Counter(pos1))\n",
    "    offspring = copy(parent2)\n",
    "    insert_subtree_at(offspring, subtree, Counter(pos2))\n",
    "    \n",
    "    return offspring"
   ]
  },
  {
   "cell_type": "markdown",
   "metadata": {
    "slideshow": {
     "slide_type": "skip"
    }
   },
   "source": [
    "Let's create some example parents to cross over:"
   ]
  },
  {
   "cell_type": "code",
   "execution_count": 29,
   "metadata": {
    "slideshow": {
     "slide_type": "slide"
    }
   },
   "outputs": [
    {
     "data": {
      "image/svg+xml": [
       "<?xml version=\"1.0\" encoding=\"UTF-8\" standalone=\"no\"?>\n",
       "<!DOCTYPE svg PUBLIC \"-//W3C//DTD SVG 1.1//EN\"\n",
       " \"http://www.w3.org/Graphics/SVG/1.1/DTD/svg11.dtd\">\n",
       "<!-- Generated by graphviz version 2.44.1 (20200629.0846)\n",
       " -->\n",
       "<!-- Pages: 1 -->\n",
       "<svg width=\"278pt\" height=\"260pt\"\n",
       " viewBox=\"0.00 0.00 278.00 260.00\" xmlns=\"http://www.w3.org/2000/svg\" xmlns:xlink=\"http://www.w3.org/1999/xlink\">\n",
       "<g id=\"graph0\" class=\"graph\" transform=\"scale(1 1) rotate(0) translate(4 256)\">\n",
       "<polygon fill=\"white\" stroke=\"transparent\" points=\"-4,4 -4,-256 274,-256 274,4 -4,4\"/>\n",
       "<!-- 4832855136 -->\n",
       "<g id=\"node1\" class=\"node\">\n",
       "<title>4832855136</title>\n",
       "<ellipse fill=\"none\" stroke=\"black\" cx=\"135\" cy=\"-234\" rx=\"27\" ry=\"18\"/>\n",
       "<text text-anchor=\"middle\" x=\"135\" y=\"-230.3\" font-family=\"Times,serif\" font-size=\"14.00\">add</text>\n",
       "</g>\n",
       "<!-- 4833439904 -->\n",
       "<g id=\"node2\" class=\"node\">\n",
       "<title>4833439904</title>\n",
       "<ellipse fill=\"none\" stroke=\"black\" cx=\"99\" cy=\"-162\" rx=\"27\" ry=\"18\"/>\n",
       "<text text-anchor=\"middle\" x=\"99\" y=\"-158.3\" font-family=\"Times,serif\" font-size=\"14.00\">sub</text>\n",
       "</g>\n",
       "<!-- 4832855136&#45;&gt;4833439904 -->\n",
       "<g id=\"edge3\" class=\"edge\">\n",
       "<title>4832855136&#45;&gt;4833439904</title>\n",
       "<path fill=\"none\" stroke=\"black\" d=\"M126.65,-216.76C122.29,-208.28 116.85,-197.71 111.96,-188.2\"/>\n",
       "<polygon fill=\"black\" stroke=\"black\" points=\"114.99,-186.44 107.3,-179.15 108.77,-189.64 114.99,-186.44\"/>\n",
       "</g>\n",
       "<!-- 4833869248 -->\n",
       "<g id=\"node5\" class=\"node\">\n",
       "<title>4833869248</title>\n",
       "<ellipse fill=\"none\" stroke=\"black\" cx=\"171\" cy=\"-162\" rx=\"27\" ry=\"18\"/>\n",
       "<text text-anchor=\"middle\" x=\"171\" y=\"-158.3\" font-family=\"Times,serif\" font-size=\"14.00\">sub</text>\n",
       "</g>\n",
       "<!-- 4832855136&#45;&gt;4833869248 -->\n",
       "<g id=\"edge8\" class=\"edge\">\n",
       "<title>4832855136&#45;&gt;4833869248</title>\n",
       "<path fill=\"none\" stroke=\"black\" d=\"M143.35,-216.76C147.71,-208.28 153.15,-197.71 158.04,-188.2\"/>\n",
       "<polygon fill=\"black\" stroke=\"black\" points=\"161.23,-189.64 162.7,-179.15 155.01,-186.44 161.23,-189.64\"/>\n",
       "</g>\n",
       "<!-- 4833440528 -->\n",
       "<g id=\"node3\" class=\"node\">\n",
       "<title>4833440528</title>\n",
       "<ellipse fill=\"none\" stroke=\"black\" cx=\"27\" cy=\"-90\" rx=\"27\" ry=\"18\"/>\n",
       "<text text-anchor=\"middle\" x=\"27\" y=\"-86.3\" font-family=\"Times,serif\" font-size=\"14.00\">C</text>\n",
       "</g>\n",
       "<!-- 4833439904&#45;&gt;4833440528 -->\n",
       "<g id=\"edge1\" class=\"edge\">\n",
       "<title>4833439904&#45;&gt;4833440528</title>\n",
       "<path fill=\"none\" stroke=\"black\" d=\"M84.43,-146.83C74.25,-136.94 60.48,-123.55 48.97,-112.36\"/>\n",
       "<polygon fill=\"black\" stroke=\"black\" points=\"51.41,-109.85 41.8,-105.38 46.53,-114.87 51.41,-109.85\"/>\n",
       "</g>\n",
       "<!-- 4833868336 -->\n",
       "<g id=\"node4\" class=\"node\">\n",
       "<title>4833868336</title>\n",
       "<ellipse fill=\"none\" stroke=\"black\" cx=\"99\" cy=\"-90\" rx=\"27\" ry=\"18\"/>\n",
       "<text text-anchor=\"middle\" x=\"99\" y=\"-86.3\" font-family=\"Times,serif\" font-size=\"14.00\">0</text>\n",
       "</g>\n",
       "<!-- 4833439904&#45;&gt;4833868336 -->\n",
       "<g id=\"edge2\" class=\"edge\">\n",
       "<title>4833439904&#45;&gt;4833868336</title>\n",
       "<path fill=\"none\" stroke=\"black\" d=\"M99,-143.7C99,-135.98 99,-126.71 99,-118.11\"/>\n",
       "<polygon fill=\"black\" stroke=\"black\" points=\"102.5,-118.1 99,-108.1 95.5,-118.1 102.5,-118.1\"/>\n",
       "</g>\n",
       "<!-- 4833869440 -->\n",
       "<g id=\"node6\" class=\"node\">\n",
       "<title>4833869440</title>\n",
       "<ellipse fill=\"none\" stroke=\"black\" cx=\"171\" cy=\"-90\" rx=\"27\" ry=\"18\"/>\n",
       "<text text-anchor=\"middle\" x=\"171\" y=\"-86.3\" font-family=\"Times,serif\" font-size=\"14.00\">mul</text>\n",
       "</g>\n",
       "<!-- 4833869248&#45;&gt;4833869440 -->\n",
       "<g id=\"edge6\" class=\"edge\">\n",
       "<title>4833869248&#45;&gt;4833869440</title>\n",
       "<path fill=\"none\" stroke=\"black\" d=\"M171,-143.7C171,-135.98 171,-126.71 171,-118.11\"/>\n",
       "<polygon fill=\"black\" stroke=\"black\" points=\"174.5,-118.1 171,-108.1 167.5,-118.1 174.5,-118.1\"/>\n",
       "</g>\n",
       "<!-- 4833868624 -->\n",
       "<g id=\"node9\" class=\"node\">\n",
       "<title>4833868624</title>\n",
       "<ellipse fill=\"none\" stroke=\"black\" cx=\"243\" cy=\"-90\" rx=\"27\" ry=\"18\"/>\n",
       "<text text-anchor=\"middle\" x=\"243\" y=\"-86.3\" font-family=\"Times,serif\" font-size=\"14.00\">A</text>\n",
       "</g>\n",
       "<!-- 4833869248&#45;&gt;4833868624 -->\n",
       "<g id=\"edge7\" class=\"edge\">\n",
       "<title>4833869248&#45;&gt;4833868624</title>\n",
       "<path fill=\"none\" stroke=\"black\" d=\"M185.57,-146.83C195.75,-136.94 209.52,-123.55 221.03,-112.36\"/>\n",
       "<polygon fill=\"black\" stroke=\"black\" points=\"223.47,-114.87 228.2,-105.38 218.59,-109.85 223.47,-114.87\"/>\n",
       "</g>\n",
       "<!-- 4833868144 -->\n",
       "<g id=\"node7\" class=\"node\">\n",
       "<title>4833868144</title>\n",
       "<ellipse fill=\"none\" stroke=\"black\" cx=\"135\" cy=\"-18\" rx=\"27\" ry=\"18\"/>\n",
       "<text text-anchor=\"middle\" x=\"135\" y=\"-14.3\" font-family=\"Times,serif\" font-size=\"14.00\">A</text>\n",
       "</g>\n",
       "<!-- 4833869440&#45;&gt;4833868144 -->\n",
       "<g id=\"edge4\" class=\"edge\">\n",
       "<title>4833869440&#45;&gt;4833868144</title>\n",
       "<path fill=\"none\" stroke=\"black\" d=\"M162.65,-72.76C158.29,-64.28 152.85,-53.71 147.96,-44.2\"/>\n",
       "<polygon fill=\"black\" stroke=\"black\" points=\"150.99,-42.44 143.3,-35.15 144.77,-45.64 150.99,-42.44\"/>\n",
       "</g>\n",
       "<!-- 4833868432 -->\n",
       "<g id=\"node8\" class=\"node\">\n",
       "<title>4833868432</title>\n",
       "<ellipse fill=\"none\" stroke=\"black\" cx=\"207\" cy=\"-18\" rx=\"27\" ry=\"18\"/>\n",
       "<text text-anchor=\"middle\" x=\"207\" y=\"-14.3\" font-family=\"Times,serif\" font-size=\"14.00\">D</text>\n",
       "</g>\n",
       "<!-- 4833869440&#45;&gt;4833868432 -->\n",
       "<g id=\"edge5\" class=\"edge\">\n",
       "<title>4833869440&#45;&gt;4833868432</title>\n",
       "<path fill=\"none\" stroke=\"black\" d=\"M179.35,-72.76C183.71,-64.28 189.15,-53.71 194.04,-44.2\"/>\n",
       "<polygon fill=\"black\" stroke=\"black\" points=\"197.23,-45.64 198.7,-35.15 191.01,-42.44 197.23,-45.64\"/>\n",
       "</g>\n",
       "</g>\n",
       "</svg>\n"
      ],
      "text/plain": [
       "<graphviz.dot.Digraph at 0x120187160>"
      ]
     },
     "execution_count": 29,
     "metadata": {},
     "output_type": "execute_result"
    }
   ],
   "source": [
    "parent1 = grow_random_tree()\n",
    "print_tree(parent1)"
   ]
  },
  {
   "cell_type": "code",
   "execution_count": 30,
   "metadata": {
    "scrolled": true,
    "slideshow": {
     "slide_type": "subslide"
    }
   },
   "outputs": [
    {
     "data": {
      "image/svg+xml": [
       "<?xml version=\"1.0\" encoding=\"UTF-8\" standalone=\"no\"?>\n",
       "<!DOCTYPE svg PUBLIC \"-//W3C//DTD SVG 1.1//EN\"\n",
       " \"http://www.w3.org/Graphics/SVG/1.1/DTD/svg11.dtd\">\n",
       "<!-- Generated by graphviz version 2.44.1 (20200629.0846)\n",
       " -->\n",
       "<!-- Pages: 1 -->\n",
       "<svg width=\"278pt\" height=\"260pt\"\n",
       " viewBox=\"0.00 0.00 278.00 260.00\" xmlns=\"http://www.w3.org/2000/svg\" xmlns:xlink=\"http://www.w3.org/1999/xlink\">\n",
       "<g id=\"graph0\" class=\"graph\" transform=\"scale(1 1) rotate(0) translate(4 256)\">\n",
       "<polygon fill=\"white\" stroke=\"transparent\" points=\"-4,4 -4,-256 274,-256 274,4 -4,4\"/>\n",
       "<!-- 4833868480 -->\n",
       "<g id=\"node1\" class=\"node\">\n",
       "<title>4833868480</title>\n",
       "<ellipse fill=\"none\" stroke=\"black\" cx=\"135\" cy=\"-234\" rx=\"27\" ry=\"18\"/>\n",
       "<text text-anchor=\"middle\" x=\"135\" y=\"-230.3\" font-family=\"Times,serif\" font-size=\"14.00\">sub</text>\n",
       "</g>\n",
       "<!-- 4832763856 -->\n",
       "<g id=\"node2\" class=\"node\">\n",
       "<title>4832763856</title>\n",
       "<ellipse fill=\"none\" stroke=\"black\" cx=\"99\" cy=\"-162\" rx=\"27\" ry=\"18\"/>\n",
       "<text text-anchor=\"middle\" x=\"99\" y=\"-158.3\" font-family=\"Times,serif\" font-size=\"14.00\">sub</text>\n",
       "</g>\n",
       "<!-- 4833868480&#45;&gt;4832763856 -->\n",
       "<g id=\"edge3\" class=\"edge\">\n",
       "<title>4833868480&#45;&gt;4832763856</title>\n",
       "<path fill=\"none\" stroke=\"black\" d=\"M126.65,-216.76C122.29,-208.28 116.85,-197.71 111.96,-188.2\"/>\n",
       "<polygon fill=\"black\" stroke=\"black\" points=\"114.99,-186.44 107.3,-179.15 108.77,-189.64 114.99,-186.44\"/>\n",
       "</g>\n",
       "<!-- 4832763712 -->\n",
       "<g id=\"node5\" class=\"node\">\n",
       "<title>4832763712</title>\n",
       "<ellipse fill=\"none\" stroke=\"black\" cx=\"171\" cy=\"-162\" rx=\"27\" ry=\"18\"/>\n",
       "<text text-anchor=\"middle\" x=\"171\" y=\"-158.3\" font-family=\"Times,serif\" font-size=\"14.00\">add</text>\n",
       "</g>\n",
       "<!-- 4833868480&#45;&gt;4832763712 -->\n",
       "<g id=\"edge8\" class=\"edge\">\n",
       "<title>4833868480&#45;&gt;4832763712</title>\n",
       "<path fill=\"none\" stroke=\"black\" d=\"M143.35,-216.76C147.71,-208.28 153.15,-197.71 158.04,-188.2\"/>\n",
       "<polygon fill=\"black\" stroke=\"black\" points=\"161.23,-189.64 162.7,-179.15 155.01,-186.44 161.23,-189.64\"/>\n",
       "</g>\n",
       "<!-- 4832761360 -->\n",
       "<g id=\"node3\" class=\"node\">\n",
       "<title>4832761360</title>\n",
       "<ellipse fill=\"none\" stroke=\"black\" cx=\"27\" cy=\"-90\" rx=\"27\" ry=\"18\"/>\n",
       "<text text-anchor=\"middle\" x=\"27\" y=\"-86.3\" font-family=\"Times,serif\" font-size=\"14.00\">&#45;3</text>\n",
       "</g>\n",
       "<!-- 4832763856&#45;&gt;4832761360 -->\n",
       "<g id=\"edge1\" class=\"edge\">\n",
       "<title>4832763856&#45;&gt;4832761360</title>\n",
       "<path fill=\"none\" stroke=\"black\" d=\"M84.43,-146.83C74.25,-136.94 60.48,-123.55 48.97,-112.36\"/>\n",
       "<polygon fill=\"black\" stroke=\"black\" points=\"51.41,-109.85 41.8,-105.38 46.53,-114.87 51.41,-109.85\"/>\n",
       "</g>\n",
       "<!-- 4832763136 -->\n",
       "<g id=\"node4\" class=\"node\">\n",
       "<title>4832763136</title>\n",
       "<ellipse fill=\"none\" stroke=\"black\" cx=\"99\" cy=\"-90\" rx=\"27\" ry=\"18\"/>\n",
       "<text text-anchor=\"middle\" x=\"99\" y=\"-86.3\" font-family=\"Times,serif\" font-size=\"14.00\">C</text>\n",
       "</g>\n",
       "<!-- 4832763856&#45;&gt;4832763136 -->\n",
       "<g id=\"edge2\" class=\"edge\">\n",
       "<title>4832763856&#45;&gt;4832763136</title>\n",
       "<path fill=\"none\" stroke=\"black\" d=\"M99,-143.7C99,-135.98 99,-126.71 99,-118.11\"/>\n",
       "<polygon fill=\"black\" stroke=\"black\" points=\"102.5,-118.1 99,-108.1 95.5,-118.1 102.5,-118.1\"/>\n",
       "</g>\n",
       "<!-- 4832760976 -->\n",
       "<g id=\"node6\" class=\"node\">\n",
       "<title>4832760976</title>\n",
       "<ellipse fill=\"none\" stroke=\"black\" cx=\"171\" cy=\"-90\" rx=\"27\" ry=\"18\"/>\n",
       "<text text-anchor=\"middle\" x=\"171\" y=\"-86.3\" font-family=\"Times,serif\" font-size=\"14.00\">mul</text>\n",
       "</g>\n",
       "<!-- 4832763712&#45;&gt;4832760976 -->\n",
       "<g id=\"edge6\" class=\"edge\">\n",
       "<title>4832763712&#45;&gt;4832760976</title>\n",
       "<path fill=\"none\" stroke=\"black\" d=\"M171,-143.7C171,-135.98 171,-126.71 171,-118.11\"/>\n",
       "<polygon fill=\"black\" stroke=\"black\" points=\"174.5,-118.1 171,-108.1 167.5,-118.1 174.5,-118.1\"/>\n",
       "</g>\n",
       "<!-- 4832400960 -->\n",
       "<g id=\"node9\" class=\"node\">\n",
       "<title>4832400960</title>\n",
       "<ellipse fill=\"none\" stroke=\"black\" cx=\"243\" cy=\"-90\" rx=\"27\" ry=\"18\"/>\n",
       "<text text-anchor=\"middle\" x=\"243\" y=\"-86.3\" font-family=\"Times,serif\" font-size=\"14.00\">A</text>\n",
       "</g>\n",
       "<!-- 4832763712&#45;&gt;4832400960 -->\n",
       "<g id=\"edge7\" class=\"edge\">\n",
       "<title>4832763712&#45;&gt;4832400960</title>\n",
       "<path fill=\"none\" stroke=\"black\" d=\"M185.57,-146.83C195.75,-136.94 209.52,-123.55 221.03,-112.36\"/>\n",
       "<polygon fill=\"black\" stroke=\"black\" points=\"223.47,-114.87 228.2,-105.38 218.59,-109.85 223.47,-114.87\"/>\n",
       "</g>\n",
       "<!-- 4832402208 -->\n",
       "<g id=\"node7\" class=\"node\">\n",
       "<title>4832402208</title>\n",
       "<ellipse fill=\"none\" stroke=\"black\" cx=\"135\" cy=\"-18\" rx=\"27\" ry=\"18\"/>\n",
       "<text text-anchor=\"middle\" x=\"135\" y=\"-14.3\" font-family=\"Times,serif\" font-size=\"14.00\">C</text>\n",
       "</g>\n",
       "<!-- 4832760976&#45;&gt;4832402208 -->\n",
       "<g id=\"edge4\" class=\"edge\">\n",
       "<title>4832760976&#45;&gt;4832402208</title>\n",
       "<path fill=\"none\" stroke=\"black\" d=\"M162.65,-72.76C158.29,-64.28 152.85,-53.71 147.96,-44.2\"/>\n",
       "<polygon fill=\"black\" stroke=\"black\" points=\"150.99,-42.44 143.3,-35.15 144.77,-45.64 150.99,-42.44\"/>\n",
       "</g>\n",
       "<!-- 4832401632 -->\n",
       "<g id=\"node8\" class=\"node\">\n",
       "<title>4832401632</title>\n",
       "<ellipse fill=\"none\" stroke=\"black\" cx=\"207\" cy=\"-18\" rx=\"27\" ry=\"18\"/>\n",
       "<text text-anchor=\"middle\" x=\"207\" y=\"-14.3\" font-family=\"Times,serif\" font-size=\"14.00\">&#45;5</text>\n",
       "</g>\n",
       "<!-- 4832760976&#45;&gt;4832401632 -->\n",
       "<g id=\"edge5\" class=\"edge\">\n",
       "<title>4832760976&#45;&gt;4832401632</title>\n",
       "<path fill=\"none\" stroke=\"black\" d=\"M179.35,-72.76C183.71,-64.28 189.15,-53.71 194.04,-44.2\"/>\n",
       "<polygon fill=\"black\" stroke=\"black\" points=\"197.23,-45.64 198.7,-35.15 191.01,-42.44 197.23,-45.64\"/>\n",
       "</g>\n",
       "</g>\n",
       "</svg>\n"
      ],
      "text/plain": [
       "<graphviz.dot.Digraph at 0x1200e1160>"
      ]
     },
     "execution_count": 30,
     "metadata": {},
     "output_type": "execute_result"
    }
   ],
   "source": [
    "parent2 = grow_random_tree()\n",
    "print_tree(parent2)"
   ]
  },
  {
   "cell_type": "markdown",
   "metadata": {
    "slideshow": {
     "slide_type": "skip"
    }
   },
   "source": [
    "Now we can produce an offspring by calling our `crossover` function with these two parents:"
   ]
  },
  {
   "cell_type": "code",
   "execution_count": 31,
   "metadata": {
    "slideshow": {
     "slide_type": "subslide"
    }
   },
   "outputs": [
    {
     "data": {
      "image/svg+xml": [
       "<?xml version=\"1.0\" encoding=\"UTF-8\" standalone=\"no\"?>\n",
       "<!DOCTYPE svg PUBLIC \"-//W3C//DTD SVG 1.1//EN\"\n",
       " \"http://www.w3.org/Graphics/SVG/1.1/DTD/svg11.dtd\">\n",
       "<!-- Generated by graphviz version 2.44.1 (20200629.0846)\n",
       " -->\n",
       "<!-- Pages: 1 -->\n",
       "<svg width=\"170pt\" height=\"260pt\"\n",
       " viewBox=\"0.00 0.00 170.00 260.00\" xmlns=\"http://www.w3.org/2000/svg\" xmlns:xlink=\"http://www.w3.org/1999/xlink\">\n",
       "<g id=\"graph0\" class=\"graph\" transform=\"scale(1 1) rotate(0) translate(4 256)\">\n",
       "<polygon fill=\"white\" stroke=\"transparent\" points=\"-4,4 -4,-256 166,-256 166,4 -4,4\"/>\n",
       "<!-- 4833868912 -->\n",
       "<g id=\"node1\" class=\"node\">\n",
       "<title>4833868912</title>\n",
       "<ellipse fill=\"none\" stroke=\"black\" cx=\"63\" cy=\"-234\" rx=\"27\" ry=\"18\"/>\n",
       "<text text-anchor=\"middle\" x=\"63\" y=\"-230.3\" font-family=\"Times,serif\" font-size=\"14.00\">sub</text>\n",
       "</g>\n",
       "<!-- 4833869344 -->\n",
       "<g id=\"node2\" class=\"node\">\n",
       "<title>4833869344</title>\n",
       "<ellipse fill=\"none\" stroke=\"black\" cx=\"27\" cy=\"-162\" rx=\"27\" ry=\"18\"/>\n",
       "<text text-anchor=\"middle\" x=\"27\" y=\"-158.3\" font-family=\"Times,serif\" font-size=\"14.00\">0</text>\n",
       "</g>\n",
       "<!-- 4833868912&#45;&gt;4833869344 -->\n",
       "<g id=\"edge1\" class=\"edge\">\n",
       "<title>4833868912&#45;&gt;4833869344</title>\n",
       "<path fill=\"none\" stroke=\"black\" d=\"M54.65,-216.76C50.29,-208.28 44.85,-197.71 39.96,-188.2\"/>\n",
       "<polygon fill=\"black\" stroke=\"black\" points=\"42.99,-186.44 35.3,-179.15 36.77,-189.64 42.99,-186.44\"/>\n",
       "</g>\n",
       "<!-- 4834042160 -->\n",
       "<g id=\"node3\" class=\"node\">\n",
       "<title>4834042160</title>\n",
       "<ellipse fill=\"none\" stroke=\"black\" cx=\"99\" cy=\"-162\" rx=\"27\" ry=\"18\"/>\n",
       "<text text-anchor=\"middle\" x=\"99\" y=\"-158.3\" font-family=\"Times,serif\" font-size=\"14.00\">add</text>\n",
       "</g>\n",
       "<!-- 4833868912&#45;&gt;4834042160 -->\n",
       "<g id=\"edge6\" class=\"edge\">\n",
       "<title>4833868912&#45;&gt;4834042160</title>\n",
       "<path fill=\"none\" stroke=\"black\" d=\"M71.35,-216.76C75.71,-208.28 81.15,-197.71 86.04,-188.2\"/>\n",
       "<polygon fill=\"black\" stroke=\"black\" points=\"89.23,-189.64 90.7,-179.15 83.01,-186.44 89.23,-189.64\"/>\n",
       "</g>\n",
       "<!-- 4834042256 -->\n",
       "<g id=\"node4\" class=\"node\">\n",
       "<title>4834042256</title>\n",
       "<ellipse fill=\"none\" stroke=\"black\" cx=\"63\" cy=\"-90\" rx=\"27\" ry=\"18\"/>\n",
       "<text text-anchor=\"middle\" x=\"63\" y=\"-86.3\" font-family=\"Times,serif\" font-size=\"14.00\">mul</text>\n",
       "</g>\n",
       "<!-- 4834042160&#45;&gt;4834042256 -->\n",
       "<g id=\"edge4\" class=\"edge\">\n",
       "<title>4834042160&#45;&gt;4834042256</title>\n",
       "<path fill=\"none\" stroke=\"black\" d=\"M90.65,-144.76C86.29,-136.28 80.85,-125.71 75.96,-116.2\"/>\n",
       "<polygon fill=\"black\" stroke=\"black\" points=\"78.99,-114.44 71.3,-107.15 72.77,-117.64 78.99,-114.44\"/>\n",
       "</g>\n",
       "<!-- 4834042544 -->\n",
       "<g id=\"node7\" class=\"node\">\n",
       "<title>4834042544</title>\n",
       "<ellipse fill=\"none\" stroke=\"black\" cx=\"135\" cy=\"-90\" rx=\"27\" ry=\"18\"/>\n",
       "<text text-anchor=\"middle\" x=\"135\" y=\"-86.3\" font-family=\"Times,serif\" font-size=\"14.00\">A</text>\n",
       "</g>\n",
       "<!-- 4834042160&#45;&gt;4834042544 -->\n",
       "<g id=\"edge5\" class=\"edge\">\n",
       "<title>4834042160&#45;&gt;4834042544</title>\n",
       "<path fill=\"none\" stroke=\"black\" d=\"M107.35,-144.76C111.71,-136.28 117.15,-125.71 122.04,-116.2\"/>\n",
       "<polygon fill=\"black\" stroke=\"black\" points=\"125.23,-117.64 126.7,-107.15 119.01,-114.44 125.23,-117.64\"/>\n",
       "</g>\n",
       "<!-- 4834042352 -->\n",
       "<g id=\"node5\" class=\"node\">\n",
       "<title>4834042352</title>\n",
       "<ellipse fill=\"none\" stroke=\"black\" cx=\"27\" cy=\"-18\" rx=\"27\" ry=\"18\"/>\n",
       "<text text-anchor=\"middle\" x=\"27\" y=\"-14.3\" font-family=\"Times,serif\" font-size=\"14.00\">C</text>\n",
       "</g>\n",
       "<!-- 4834042256&#45;&gt;4834042352 -->\n",
       "<g id=\"edge2\" class=\"edge\">\n",
       "<title>4834042256&#45;&gt;4834042352</title>\n",
       "<path fill=\"none\" stroke=\"black\" d=\"M54.65,-72.76C50.29,-64.28 44.85,-53.71 39.96,-44.2\"/>\n",
       "<polygon fill=\"black\" stroke=\"black\" points=\"42.99,-42.44 35.3,-35.15 36.77,-45.64 42.99,-42.44\"/>\n",
       "</g>\n",
       "<!-- 4834042448 -->\n",
       "<g id=\"node6\" class=\"node\">\n",
       "<title>4834042448</title>\n",
       "<ellipse fill=\"none\" stroke=\"black\" cx=\"99\" cy=\"-18\" rx=\"27\" ry=\"18\"/>\n",
       "<text text-anchor=\"middle\" x=\"99\" y=\"-14.3\" font-family=\"Times,serif\" font-size=\"14.00\">&#45;5</text>\n",
       "</g>\n",
       "<!-- 4834042256&#45;&gt;4834042448 -->\n",
       "<g id=\"edge3\" class=\"edge\">\n",
       "<title>4834042256&#45;&gt;4834042448</title>\n",
       "<path fill=\"none\" stroke=\"black\" d=\"M71.35,-72.76C75.71,-64.28 81.15,-53.71 86.04,-44.2\"/>\n",
       "<polygon fill=\"black\" stroke=\"black\" points=\"89.23,-45.64 90.7,-35.15 83.01,-42.44 89.23,-45.64\"/>\n",
       "</g>\n",
       "</g>\n",
       "</svg>\n"
      ],
      "text/plain": [
       "<graphviz.dot.Digraph at 0x1201efeb0>"
      ]
     },
     "execution_count": 31,
     "metadata": {},
     "output_type": "execute_result"
    }
   ],
   "source": [
    "offspring = subtree_crossover(parent1, parent2)\n",
    "print_tree(offspring)"
   ]
  },
  {
   "cell_type": "markdown",
   "metadata": {
    "slideshow": {
     "slide_type": "skip"
    }
   },
   "source": [
    "Often crossover points are not actually sampled with a uniform random distribution though: Given a tree with branching factor 2 or more, the majority of nodes will be leaves, which crossover will mostly cut a single leaf. A common alternative is to apply a 90% probability of choosing a function node, and only a 10% chance of choosing a terminal node."
   ]
  },
  {
   "cell_type": "markdown",
   "metadata": {
    "slideshow": {
     "slide_type": "slide"
    }
   },
   "source": [
    "#### Mutation\n",
    "\n",
    "Subtree mutation (a.k.a. headless chicken mutation) is a simple mutation where we pick a random subtree, and replace it with a randomly generated subtree:"
   ]
  },
  {
   "cell_type": "code",
   "execution_count": 32,
   "metadata": {
    "slideshow": {
     "slide_type": "fragment"
    }
   },
   "outputs": [],
   "source": [
    "P_mutate = 0.1"
   ]
  },
  {
   "cell_type": "code",
   "execution_count": 33,
   "metadata": {
    "slideshow": {
     "slide_type": "fragment"
    }
   },
   "outputs": [],
   "source": [
    "def subtree_mutation(tree):\n",
    "    mutation_point = random.randint(1, size(tree))\n",
    "    random_subtree = grow_random_tree(MAX_DEPTH - 2)\n",
    "    insert_subtree_at(tree, random_subtree, Counter(mutation_point))"
   ]
  },
  {
   "cell_type": "code",
   "execution_count": 34,
   "metadata": {
    "slideshow": {
     "slide_type": "subslide"
    }
   },
   "outputs": [
    {
     "data": {
      "image/svg+xml": [
       "<?xml version=\"1.0\" encoding=\"UTF-8\" standalone=\"no\"?>\n",
       "<!DOCTYPE svg PUBLIC \"-//W3C//DTD SVG 1.1//EN\"\n",
       " \"http://www.w3.org/Graphics/SVG/1.1/DTD/svg11.dtd\">\n",
       "<!-- Generated by graphviz version 2.44.1 (20200629.0846)\n",
       " -->\n",
       "<!-- Pages: 1 -->\n",
       "<svg width=\"278pt\" height=\"260pt\"\n",
       " viewBox=\"0.00 0.00 278.00 260.00\" xmlns=\"http://www.w3.org/2000/svg\" xmlns:xlink=\"http://www.w3.org/1999/xlink\">\n",
       "<g id=\"graph0\" class=\"graph\" transform=\"scale(1 1) rotate(0) translate(4 256)\">\n",
       "<polygon fill=\"white\" stroke=\"transparent\" points=\"-4,4 -4,-256 274,-256 274,4 -4,4\"/>\n",
       "<!-- 4832855136 -->\n",
       "<g id=\"node1\" class=\"node\">\n",
       "<title>4832855136</title>\n",
       "<ellipse fill=\"none\" stroke=\"black\" cx=\"135\" cy=\"-234\" rx=\"27\" ry=\"18\"/>\n",
       "<text text-anchor=\"middle\" x=\"135\" y=\"-230.3\" font-family=\"Times,serif\" font-size=\"14.00\">add</text>\n",
       "</g>\n",
       "<!-- 4833439904 -->\n",
       "<g id=\"node2\" class=\"node\">\n",
       "<title>4833439904</title>\n",
       "<ellipse fill=\"none\" stroke=\"black\" cx=\"99\" cy=\"-162\" rx=\"27\" ry=\"18\"/>\n",
       "<text text-anchor=\"middle\" x=\"99\" y=\"-158.3\" font-family=\"Times,serif\" font-size=\"14.00\">sub</text>\n",
       "</g>\n",
       "<!-- 4832855136&#45;&gt;4833439904 -->\n",
       "<g id=\"edge3\" class=\"edge\">\n",
       "<title>4832855136&#45;&gt;4833439904</title>\n",
       "<path fill=\"none\" stroke=\"black\" d=\"M126.65,-216.76C122.29,-208.28 116.85,-197.71 111.96,-188.2\"/>\n",
       "<polygon fill=\"black\" stroke=\"black\" points=\"114.99,-186.44 107.3,-179.15 108.77,-189.64 114.99,-186.44\"/>\n",
       "</g>\n",
       "<!-- 4833869248 -->\n",
       "<g id=\"node5\" class=\"node\">\n",
       "<title>4833869248</title>\n",
       "<ellipse fill=\"none\" stroke=\"black\" cx=\"171\" cy=\"-162\" rx=\"27\" ry=\"18\"/>\n",
       "<text text-anchor=\"middle\" x=\"171\" y=\"-158.3\" font-family=\"Times,serif\" font-size=\"14.00\">sub</text>\n",
       "</g>\n",
       "<!-- 4832855136&#45;&gt;4833869248 -->\n",
       "<g id=\"edge8\" class=\"edge\">\n",
       "<title>4832855136&#45;&gt;4833869248</title>\n",
       "<path fill=\"none\" stroke=\"black\" d=\"M143.35,-216.76C147.71,-208.28 153.15,-197.71 158.04,-188.2\"/>\n",
       "<polygon fill=\"black\" stroke=\"black\" points=\"161.23,-189.64 162.7,-179.15 155.01,-186.44 161.23,-189.64\"/>\n",
       "</g>\n",
       "<!-- 4833440528 -->\n",
       "<g id=\"node3\" class=\"node\">\n",
       "<title>4833440528</title>\n",
       "<ellipse fill=\"none\" stroke=\"black\" cx=\"27\" cy=\"-90\" rx=\"27\" ry=\"18\"/>\n",
       "<text text-anchor=\"middle\" x=\"27\" y=\"-86.3\" font-family=\"Times,serif\" font-size=\"14.00\">C</text>\n",
       "</g>\n",
       "<!-- 4833439904&#45;&gt;4833440528 -->\n",
       "<g id=\"edge1\" class=\"edge\">\n",
       "<title>4833439904&#45;&gt;4833440528</title>\n",
       "<path fill=\"none\" stroke=\"black\" d=\"M84.43,-146.83C74.25,-136.94 60.48,-123.55 48.97,-112.36\"/>\n",
       "<polygon fill=\"black\" stroke=\"black\" points=\"51.41,-109.85 41.8,-105.38 46.53,-114.87 51.41,-109.85\"/>\n",
       "</g>\n",
       "<!-- 4833868336 -->\n",
       "<g id=\"node4\" class=\"node\">\n",
       "<title>4833868336</title>\n",
       "<ellipse fill=\"none\" stroke=\"black\" cx=\"99\" cy=\"-90\" rx=\"27\" ry=\"18\"/>\n",
       "<text text-anchor=\"middle\" x=\"99\" y=\"-86.3\" font-family=\"Times,serif\" font-size=\"14.00\">0</text>\n",
       "</g>\n",
       "<!-- 4833439904&#45;&gt;4833868336 -->\n",
       "<g id=\"edge2\" class=\"edge\">\n",
       "<title>4833439904&#45;&gt;4833868336</title>\n",
       "<path fill=\"none\" stroke=\"black\" d=\"M99,-143.7C99,-135.98 99,-126.71 99,-118.11\"/>\n",
       "<polygon fill=\"black\" stroke=\"black\" points=\"102.5,-118.1 99,-108.1 95.5,-118.1 102.5,-118.1\"/>\n",
       "</g>\n",
       "<!-- 4833869440 -->\n",
       "<g id=\"node6\" class=\"node\">\n",
       "<title>4833869440</title>\n",
       "<ellipse fill=\"none\" stroke=\"black\" cx=\"171\" cy=\"-90\" rx=\"27\" ry=\"18\"/>\n",
       "<text text-anchor=\"middle\" x=\"171\" y=\"-86.3\" font-family=\"Times,serif\" font-size=\"14.00\">mul</text>\n",
       "</g>\n",
       "<!-- 4833869248&#45;&gt;4833869440 -->\n",
       "<g id=\"edge6\" class=\"edge\">\n",
       "<title>4833869248&#45;&gt;4833869440</title>\n",
       "<path fill=\"none\" stroke=\"black\" d=\"M171,-143.7C171,-135.98 171,-126.71 171,-118.11\"/>\n",
       "<polygon fill=\"black\" stroke=\"black\" points=\"174.5,-118.1 171,-108.1 167.5,-118.1 174.5,-118.1\"/>\n",
       "</g>\n",
       "<!-- 4833868624 -->\n",
       "<g id=\"node9\" class=\"node\">\n",
       "<title>4833868624</title>\n",
       "<ellipse fill=\"none\" stroke=\"black\" cx=\"243\" cy=\"-90\" rx=\"27\" ry=\"18\"/>\n",
       "<text text-anchor=\"middle\" x=\"243\" y=\"-86.3\" font-family=\"Times,serif\" font-size=\"14.00\">A</text>\n",
       "</g>\n",
       "<!-- 4833869248&#45;&gt;4833868624 -->\n",
       "<g id=\"edge7\" class=\"edge\">\n",
       "<title>4833869248&#45;&gt;4833868624</title>\n",
       "<path fill=\"none\" stroke=\"black\" d=\"M185.57,-146.83C195.75,-136.94 209.52,-123.55 221.03,-112.36\"/>\n",
       "<polygon fill=\"black\" stroke=\"black\" points=\"223.47,-114.87 228.2,-105.38 218.59,-109.85 223.47,-114.87\"/>\n",
       "</g>\n",
       "<!-- 4833868144 -->\n",
       "<g id=\"node7\" class=\"node\">\n",
       "<title>4833868144</title>\n",
       "<ellipse fill=\"none\" stroke=\"black\" cx=\"135\" cy=\"-18\" rx=\"27\" ry=\"18\"/>\n",
       "<text text-anchor=\"middle\" x=\"135\" y=\"-14.3\" font-family=\"Times,serif\" font-size=\"14.00\">A</text>\n",
       "</g>\n",
       "<!-- 4833869440&#45;&gt;4833868144 -->\n",
       "<g id=\"edge4\" class=\"edge\">\n",
       "<title>4833869440&#45;&gt;4833868144</title>\n",
       "<path fill=\"none\" stroke=\"black\" d=\"M162.65,-72.76C158.29,-64.28 152.85,-53.71 147.96,-44.2\"/>\n",
       "<polygon fill=\"black\" stroke=\"black\" points=\"150.99,-42.44 143.3,-35.15 144.77,-45.64 150.99,-42.44\"/>\n",
       "</g>\n",
       "<!-- 4833868432 -->\n",
       "<g id=\"node8\" class=\"node\">\n",
       "<title>4833868432</title>\n",
       "<ellipse fill=\"none\" stroke=\"black\" cx=\"207\" cy=\"-18\" rx=\"27\" ry=\"18\"/>\n",
       "<text text-anchor=\"middle\" x=\"207\" y=\"-14.3\" font-family=\"Times,serif\" font-size=\"14.00\">D</text>\n",
       "</g>\n",
       "<!-- 4833869440&#45;&gt;4833868432 -->\n",
       "<g id=\"edge5\" class=\"edge\">\n",
       "<title>4833869440&#45;&gt;4833868432</title>\n",
       "<path fill=\"none\" stroke=\"black\" d=\"M179.35,-72.76C183.71,-64.28 189.15,-53.71 194.04,-44.2\"/>\n",
       "<polygon fill=\"black\" stroke=\"black\" points=\"197.23,-45.64 198.7,-35.15 191.01,-42.44 197.23,-45.64\"/>\n",
       "</g>\n",
       "</g>\n",
       "</svg>\n"
      ],
      "text/plain": [
       "<graphviz.dot.Digraph at 0x12021ac40>"
      ]
     },
     "execution_count": 34,
     "metadata": {},
     "output_type": "execute_result"
    }
   ],
   "source": [
    "print_tree(parent1)"
   ]
  },
  {
   "cell_type": "code",
   "execution_count": 35,
   "metadata": {
    "slideshow": {
     "slide_type": "slide"
    }
   },
   "outputs": [
    {
     "data": {
      "image/svg+xml": [
       "<?xml version=\"1.0\" encoding=\"UTF-8\" standalone=\"no\"?>\n",
       "<!DOCTYPE svg PUBLIC \"-//W3C//DTD SVG 1.1//EN\"\n",
       " \"http://www.w3.org/Graphics/SVG/1.1/DTD/svg11.dtd\">\n",
       "<!-- Generated by graphviz version 2.44.1 (20200629.0846)\n",
       " -->\n",
       "<!-- Pages: 1 -->\n",
       "<svg width=\"314pt\" height=\"404pt\"\n",
       " viewBox=\"0.00 0.00 314.00 404.00\" xmlns=\"http://www.w3.org/2000/svg\" xmlns:xlink=\"http://www.w3.org/1999/xlink\">\n",
       "<g id=\"graph0\" class=\"graph\" transform=\"scale(1 1) rotate(0) translate(4 400)\">\n",
       "<polygon fill=\"white\" stroke=\"transparent\" points=\"-4,4 -4,-400 310,-400 310,4 -4,4\"/>\n",
       "<!-- 4834079312 -->\n",
       "<g id=\"node1\" class=\"node\">\n",
       "<title>4834079312</title>\n",
       "<ellipse fill=\"none\" stroke=\"black\" cx=\"135\" cy=\"-378\" rx=\"27\" ry=\"18\"/>\n",
       "<text text-anchor=\"middle\" x=\"135\" y=\"-374.3\" font-family=\"Times,serif\" font-size=\"14.00\">add</text>\n",
       "</g>\n",
       "<!-- 4834078976 -->\n",
       "<g id=\"node2\" class=\"node\">\n",
       "<title>4834078976</title>\n",
       "<ellipse fill=\"none\" stroke=\"black\" cx=\"99\" cy=\"-306\" rx=\"27\" ry=\"18\"/>\n",
       "<text text-anchor=\"middle\" x=\"99\" y=\"-302.3\" font-family=\"Times,serif\" font-size=\"14.00\">sub</text>\n",
       "</g>\n",
       "<!-- 4834079312&#45;&gt;4834078976 -->\n",
       "<g id=\"edge3\" class=\"edge\">\n",
       "<title>4834079312&#45;&gt;4834078976</title>\n",
       "<path fill=\"none\" stroke=\"black\" d=\"M126.65,-360.76C122.29,-352.28 116.85,-341.71 111.96,-332.2\"/>\n",
       "<polygon fill=\"black\" stroke=\"black\" points=\"114.99,-330.44 107.3,-323.15 108.77,-333.64 114.99,-330.44\"/>\n",
       "</g>\n",
       "<!-- 4834079456 -->\n",
       "<g id=\"node5\" class=\"node\">\n",
       "<title>4834079456</title>\n",
       "<ellipse fill=\"none\" stroke=\"black\" cx=\"171\" cy=\"-306\" rx=\"27\" ry=\"18\"/>\n",
       "<text text-anchor=\"middle\" x=\"171\" y=\"-302.3\" font-family=\"Times,serif\" font-size=\"14.00\">sub</text>\n",
       "</g>\n",
       "<!-- 4834079312&#45;&gt;4834079456 -->\n",
       "<g id=\"edge12\" class=\"edge\">\n",
       "<title>4834079312&#45;&gt;4834079456</title>\n",
       "<path fill=\"none\" stroke=\"black\" d=\"M143.35,-360.76C147.71,-352.28 153.15,-341.71 158.04,-332.2\"/>\n",
       "<polygon fill=\"black\" stroke=\"black\" points=\"161.23,-333.64 162.7,-323.15 155.01,-330.44 161.23,-333.64\"/>\n",
       "</g>\n",
       "<!-- 4834078832 -->\n",
       "<g id=\"node3\" class=\"node\">\n",
       "<title>4834078832</title>\n",
       "<ellipse fill=\"none\" stroke=\"black\" cx=\"27\" cy=\"-234\" rx=\"27\" ry=\"18\"/>\n",
       "<text text-anchor=\"middle\" x=\"27\" y=\"-230.3\" font-family=\"Times,serif\" font-size=\"14.00\">C</text>\n",
       "</g>\n",
       "<!-- 4834078976&#45;&gt;4834078832 -->\n",
       "<g id=\"edge1\" class=\"edge\">\n",
       "<title>4834078976&#45;&gt;4834078832</title>\n",
       "<path fill=\"none\" stroke=\"black\" d=\"M84.43,-290.83C74.25,-280.94 60.48,-267.55 48.97,-256.36\"/>\n",
       "<polygon fill=\"black\" stroke=\"black\" points=\"51.41,-253.85 41.8,-249.38 46.53,-258.87 51.41,-253.85\"/>\n",
       "</g>\n",
       "<!-- 4834079168 -->\n",
       "<g id=\"node4\" class=\"node\">\n",
       "<title>4834079168</title>\n",
       "<ellipse fill=\"none\" stroke=\"black\" cx=\"99\" cy=\"-234\" rx=\"27\" ry=\"18\"/>\n",
       "<text text-anchor=\"middle\" x=\"99\" y=\"-230.3\" font-family=\"Times,serif\" font-size=\"14.00\">0</text>\n",
       "</g>\n",
       "<!-- 4834078976&#45;&gt;4834079168 -->\n",
       "<g id=\"edge2\" class=\"edge\">\n",
       "<title>4834078976&#45;&gt;4834079168</title>\n",
       "<path fill=\"none\" stroke=\"black\" d=\"M99,-287.7C99,-279.98 99,-270.71 99,-262.11\"/>\n",
       "<polygon fill=\"black\" stroke=\"black\" points=\"102.5,-262.1 99,-252.1 95.5,-262.1 102.5,-262.1\"/>\n",
       "</g>\n",
       "<!-- 4834079504 -->\n",
       "<g id=\"node6\" class=\"node\">\n",
       "<title>4834079504</title>\n",
       "<ellipse fill=\"none\" stroke=\"black\" cx=\"171\" cy=\"-234\" rx=\"27\" ry=\"18\"/>\n",
       "<text text-anchor=\"middle\" x=\"171\" y=\"-230.3\" font-family=\"Times,serif\" font-size=\"14.00\">mul</text>\n",
       "</g>\n",
       "<!-- 4834079456&#45;&gt;4834079504 -->\n",
       "<g id=\"edge10\" class=\"edge\">\n",
       "<title>4834079456&#45;&gt;4834079504</title>\n",
       "<path fill=\"none\" stroke=\"black\" d=\"M171,-287.7C171,-279.98 171,-270.71 171,-262.11\"/>\n",
       "<polygon fill=\"black\" stroke=\"black\" points=\"174.5,-262.1 171,-252.1 167.5,-262.1 174.5,-262.1\"/>\n",
       "</g>\n",
       "<!-- 4834079888 -->\n",
       "<g id=\"node13\" class=\"node\">\n",
       "<title>4834079888</title>\n",
       "<ellipse fill=\"none\" stroke=\"black\" cx=\"243\" cy=\"-234\" rx=\"27\" ry=\"18\"/>\n",
       "<text text-anchor=\"middle\" x=\"243\" y=\"-230.3\" font-family=\"Times,serif\" font-size=\"14.00\">A</text>\n",
       "</g>\n",
       "<!-- 4834079456&#45;&gt;4834079888 -->\n",
       "<g id=\"edge11\" class=\"edge\">\n",
       "<title>4834079456&#45;&gt;4834079888</title>\n",
       "<path fill=\"none\" stroke=\"black\" d=\"M185.57,-290.83C195.75,-280.94 209.52,-267.55 221.03,-256.36\"/>\n",
       "<polygon fill=\"black\" stroke=\"black\" points=\"223.47,-258.87 228.2,-249.38 218.59,-253.85 223.47,-258.87\"/>\n",
       "</g>\n",
       "<!-- 4834079600 -->\n",
       "<g id=\"node7\" class=\"node\">\n",
       "<title>4834079600</title>\n",
       "<ellipse fill=\"none\" stroke=\"black\" cx=\"135\" cy=\"-162\" rx=\"27\" ry=\"18\"/>\n",
       "<text text-anchor=\"middle\" x=\"135\" y=\"-158.3\" font-family=\"Times,serif\" font-size=\"14.00\">A</text>\n",
       "</g>\n",
       "<!-- 4834079504&#45;&gt;4834079600 -->\n",
       "<g id=\"edge4\" class=\"edge\">\n",
       "<title>4834079504&#45;&gt;4834079600</title>\n",
       "<path fill=\"none\" stroke=\"black\" d=\"M162.65,-216.76C158.29,-208.28 152.85,-197.71 147.96,-188.2\"/>\n",
       "<polygon fill=\"black\" stroke=\"black\" points=\"150.99,-186.44 143.3,-179.15 144.77,-189.64 150.99,-186.44\"/>\n",
       "</g>\n",
       "<!-- 4834079840 -->\n",
       "<g id=\"node8\" class=\"node\">\n",
       "<title>4834079840</title>\n",
       "<ellipse fill=\"none\" stroke=\"black\" cx=\"207\" cy=\"-162\" rx=\"27\" ry=\"18\"/>\n",
       "<text text-anchor=\"middle\" x=\"207\" y=\"-158.3\" font-family=\"Times,serif\" font-size=\"14.00\">mul</text>\n",
       "</g>\n",
       "<!-- 4834079504&#45;&gt;4834079840 -->\n",
       "<g id=\"edge9\" class=\"edge\">\n",
       "<title>4834079504&#45;&gt;4834079840</title>\n",
       "<path fill=\"none\" stroke=\"black\" d=\"M179.35,-216.76C183.71,-208.28 189.15,-197.71 194.04,-188.2\"/>\n",
       "<polygon fill=\"black\" stroke=\"black\" points=\"197.23,-189.64 198.7,-179.15 191.01,-186.44 197.23,-189.64\"/>\n",
       "</g>\n",
       "<!-- 4834042208 -->\n",
       "<g id=\"node9\" class=\"node\">\n",
       "<title>4834042208</title>\n",
       "<ellipse fill=\"none\" stroke=\"black\" cx=\"171\" cy=\"-90\" rx=\"27\" ry=\"18\"/>\n",
       "<text text-anchor=\"middle\" x=\"171\" y=\"-86.3\" font-family=\"Times,serif\" font-size=\"14.00\">0</text>\n",
       "</g>\n",
       "<!-- 4834079840&#45;&gt;4834042208 -->\n",
       "<g id=\"edge5\" class=\"edge\">\n",
       "<title>4834079840&#45;&gt;4834042208</title>\n",
       "<path fill=\"none\" stroke=\"black\" d=\"M198.65,-144.76C194.29,-136.28 188.85,-125.71 183.96,-116.2\"/>\n",
       "<polygon fill=\"black\" stroke=\"black\" points=\"186.99,-114.44 179.3,-107.15 180.77,-117.64 186.99,-114.44\"/>\n",
       "</g>\n",
       "<!-- 4834042256 -->\n",
       "<g id=\"node10\" class=\"node\">\n",
       "<title>4834042256</title>\n",
       "<ellipse fill=\"none\" stroke=\"black\" cx=\"243\" cy=\"-90\" rx=\"27\" ry=\"18\"/>\n",
       "<text text-anchor=\"middle\" x=\"243\" y=\"-86.3\" font-family=\"Times,serif\" font-size=\"14.00\">mul</text>\n",
       "</g>\n",
       "<!-- 4834079840&#45;&gt;4834042256 -->\n",
       "<g id=\"edge8\" class=\"edge\">\n",
       "<title>4834079840&#45;&gt;4834042256</title>\n",
       "<path fill=\"none\" stroke=\"black\" d=\"M215.35,-144.76C219.71,-136.28 225.15,-125.71 230.04,-116.2\"/>\n",
       "<polygon fill=\"black\" stroke=\"black\" points=\"233.23,-117.64 234.7,-107.15 227.01,-114.44 233.23,-117.64\"/>\n",
       "</g>\n",
       "<!-- 4834042448 -->\n",
       "<g id=\"node11\" class=\"node\">\n",
       "<title>4834042448</title>\n",
       "<ellipse fill=\"none\" stroke=\"black\" cx=\"207\" cy=\"-18\" rx=\"27\" ry=\"18\"/>\n",
       "<text text-anchor=\"middle\" x=\"207\" y=\"-14.3\" font-family=\"Times,serif\" font-size=\"14.00\">D</text>\n",
       "</g>\n",
       "<!-- 4834042256&#45;&gt;4834042448 -->\n",
       "<g id=\"edge6\" class=\"edge\">\n",
       "<title>4834042256&#45;&gt;4834042448</title>\n",
       "<path fill=\"none\" stroke=\"black\" d=\"M234.65,-72.76C230.29,-64.28 224.85,-53.71 219.96,-44.2\"/>\n",
       "<polygon fill=\"black\" stroke=\"black\" points=\"222.99,-42.44 215.3,-35.15 216.77,-45.64 222.99,-42.44\"/>\n",
       "</g>\n",
       "<!-- 4834042352 -->\n",
       "<g id=\"node12\" class=\"node\">\n",
       "<title>4834042352</title>\n",
       "<ellipse fill=\"none\" stroke=\"black\" cx=\"279\" cy=\"-18\" rx=\"27\" ry=\"18\"/>\n",
       "<text text-anchor=\"middle\" x=\"279\" y=\"-14.3\" font-family=\"Times,serif\" font-size=\"14.00\">B</text>\n",
       "</g>\n",
       "<!-- 4834042256&#45;&gt;4834042352 -->\n",
       "<g id=\"edge7\" class=\"edge\">\n",
       "<title>4834042256&#45;&gt;4834042352</title>\n",
       "<path fill=\"none\" stroke=\"black\" d=\"M251.35,-72.76C255.71,-64.28 261.15,-53.71 266.04,-44.2\"/>\n",
       "<polygon fill=\"black\" stroke=\"black\" points=\"269.23,-45.64 270.7,-35.15 263.01,-42.44 269.23,-45.64\"/>\n",
       "</g>\n",
       "</g>\n",
       "</svg>\n"
      ],
      "text/plain": [
       "<graphviz.dot.Digraph at 0x1201efc70>"
      ]
     },
     "execution_count": 35,
     "metadata": {},
     "output_type": "execute_result"
    }
   ],
   "source": [
    "offspring = copy(parent1)\n",
    "subtree_mutation(offspring)\n",
    "print_tree(offspring)"
   ]
  },
  {
   "cell_type": "markdown",
   "metadata": {
    "slideshow": {
     "slide_type": "subslide"
    }
   },
   "source": [
    "An alternative mutation operator is _point mutation_ where, for each node, we replace the node with a certain probability with another node of the same arity."
   ]
  },
  {
   "cell_type": "code",
   "execution_count": 36,
   "metadata": {
    "slideshow": {
     "slide_type": "slide"
    }
   },
   "outputs": [],
   "source": [
    "def point_mutation(tree):\n",
    "    if random.random() < P_mutate:\n",
    "        if tree.data in FUNCTIONS: \n",
    "            tree.data = random.choice(FUNCTIONS)\n",
    "        else:\n",
    "            tree.data = get_random_terminal()\n",
    "    \n",
    "    if tree.left:\n",
    "        point_mutation(tree.left)\n",
    "    if tree.right:\n",
    "        point_mutation(tree.right)"
   ]
  },
  {
   "cell_type": "code",
   "execution_count": 37,
   "metadata": {
    "slideshow": {
     "slide_type": "slide"
    }
   },
   "outputs": [
    {
     "data": {
      "image/svg+xml": [
       "<?xml version=\"1.0\" encoding=\"UTF-8\" standalone=\"no\"?>\n",
       "<!DOCTYPE svg PUBLIC \"-//W3C//DTD SVG 1.1//EN\"\n",
       " \"http://www.w3.org/Graphics/SVG/1.1/DTD/svg11.dtd\">\n",
       "<!-- Generated by graphviz version 2.44.1 (20200629.0846)\n",
       " -->\n",
       "<!-- Pages: 1 -->\n",
       "<svg width=\"278pt\" height=\"260pt\"\n",
       " viewBox=\"0.00 0.00 278.00 260.00\" xmlns=\"http://www.w3.org/2000/svg\" xmlns:xlink=\"http://www.w3.org/1999/xlink\">\n",
       "<g id=\"graph0\" class=\"graph\" transform=\"scale(1 1) rotate(0) translate(4 256)\">\n",
       "<polygon fill=\"white\" stroke=\"transparent\" points=\"-4,4 -4,-256 274,-256 274,4 -4,4\"/>\n",
       "<!-- 4834081136 -->\n",
       "<g id=\"node1\" class=\"node\">\n",
       "<title>4834081136</title>\n",
       "<ellipse fill=\"none\" stroke=\"black\" cx=\"135\" cy=\"-234\" rx=\"27\" ry=\"18\"/>\n",
       "<text text-anchor=\"middle\" x=\"135\" y=\"-230.3\" font-family=\"Times,serif\" font-size=\"14.00\">add</text>\n",
       "</g>\n",
       "<!-- 4834082576 -->\n",
       "<g id=\"node2\" class=\"node\">\n",
       "<title>4834082576</title>\n",
       "<ellipse fill=\"none\" stroke=\"black\" cx=\"99\" cy=\"-162\" rx=\"27\" ry=\"18\"/>\n",
       "<text text-anchor=\"middle\" x=\"99\" y=\"-158.3\" font-family=\"Times,serif\" font-size=\"14.00\">sub</text>\n",
       "</g>\n",
       "<!-- 4834081136&#45;&gt;4834082576 -->\n",
       "<g id=\"edge3\" class=\"edge\">\n",
       "<title>4834081136&#45;&gt;4834082576</title>\n",
       "<path fill=\"none\" stroke=\"black\" d=\"M126.65,-216.76C122.29,-208.28 116.85,-197.71 111.96,-188.2\"/>\n",
       "<polygon fill=\"black\" stroke=\"black\" points=\"114.99,-186.44 107.3,-179.15 108.77,-189.64 114.99,-186.44\"/>\n",
       "</g>\n",
       "<!-- 4834082480 -->\n",
       "<g id=\"node5\" class=\"node\">\n",
       "<title>4834082480</title>\n",
       "<ellipse fill=\"none\" stroke=\"black\" cx=\"171\" cy=\"-162\" rx=\"27\" ry=\"18\"/>\n",
       "<text text-anchor=\"middle\" x=\"171\" y=\"-158.3\" font-family=\"Times,serif\" font-size=\"14.00\">sub</text>\n",
       "</g>\n",
       "<!-- 4834081136&#45;&gt;4834082480 -->\n",
       "<g id=\"edge8\" class=\"edge\">\n",
       "<title>4834081136&#45;&gt;4834082480</title>\n",
       "<path fill=\"none\" stroke=\"black\" d=\"M143.35,-216.76C147.71,-208.28 153.15,-197.71 158.04,-188.2\"/>\n",
       "<polygon fill=\"black\" stroke=\"black\" points=\"161.23,-189.64 162.7,-179.15 155.01,-186.44 161.23,-189.64\"/>\n",
       "</g>\n",
       "<!-- 4834081712 -->\n",
       "<g id=\"node3\" class=\"node\">\n",
       "<title>4834081712</title>\n",
       "<ellipse fill=\"none\" stroke=\"black\" cx=\"27\" cy=\"-90\" rx=\"27\" ry=\"18\"/>\n",
       "<text text-anchor=\"middle\" x=\"27\" y=\"-86.3\" font-family=\"Times,serif\" font-size=\"14.00\">C</text>\n",
       "</g>\n",
       "<!-- 4834082576&#45;&gt;4834081712 -->\n",
       "<g id=\"edge1\" class=\"edge\">\n",
       "<title>4834082576&#45;&gt;4834081712</title>\n",
       "<path fill=\"none\" stroke=\"black\" d=\"M84.43,-146.83C74.25,-136.94 60.48,-123.55 48.97,-112.36\"/>\n",
       "<polygon fill=\"black\" stroke=\"black\" points=\"51.41,-109.85 41.8,-105.38 46.53,-114.87 51.41,-109.85\"/>\n",
       "</g>\n",
       "<!-- 4834082144 -->\n",
       "<g id=\"node4\" class=\"node\">\n",
       "<title>4834082144</title>\n",
       "<ellipse fill=\"none\" stroke=\"black\" cx=\"99\" cy=\"-90\" rx=\"27\" ry=\"18\"/>\n",
       "<text text-anchor=\"middle\" x=\"99\" y=\"-86.3\" font-family=\"Times,serif\" font-size=\"14.00\">0</text>\n",
       "</g>\n",
       "<!-- 4834082576&#45;&gt;4834082144 -->\n",
       "<g id=\"edge2\" class=\"edge\">\n",
       "<title>4834082576&#45;&gt;4834082144</title>\n",
       "<path fill=\"none\" stroke=\"black\" d=\"M99,-143.7C99,-135.98 99,-126.71 99,-118.11\"/>\n",
       "<polygon fill=\"black\" stroke=\"black\" points=\"102.5,-118.1 99,-108.1 95.5,-118.1 102.5,-118.1\"/>\n",
       "</g>\n",
       "<!-- 4834082624 -->\n",
       "<g id=\"node6\" class=\"node\">\n",
       "<title>4834082624</title>\n",
       "<ellipse fill=\"none\" stroke=\"black\" cx=\"171\" cy=\"-90\" rx=\"27\" ry=\"18\"/>\n",
       "<text text-anchor=\"middle\" x=\"171\" y=\"-86.3\" font-family=\"Times,serif\" font-size=\"14.00\">mul</text>\n",
       "</g>\n",
       "<!-- 4834082480&#45;&gt;4834082624 -->\n",
       "<g id=\"edge6\" class=\"edge\">\n",
       "<title>4834082480&#45;&gt;4834082624</title>\n",
       "<path fill=\"none\" stroke=\"black\" d=\"M171,-143.7C171,-135.98 171,-126.71 171,-118.11\"/>\n",
       "<polygon fill=\"black\" stroke=\"black\" points=\"174.5,-118.1 171,-108.1 167.5,-118.1 174.5,-118.1\"/>\n",
       "</g>\n",
       "<!-- 4834080176 -->\n",
       "<g id=\"node9\" class=\"node\">\n",
       "<title>4834080176</title>\n",
       "<ellipse fill=\"none\" stroke=\"black\" cx=\"243\" cy=\"-90\" rx=\"27\" ry=\"18\"/>\n",
       "<text text-anchor=\"middle\" x=\"243\" y=\"-86.3\" font-family=\"Times,serif\" font-size=\"14.00\">A</text>\n",
       "</g>\n",
       "<!-- 4834082480&#45;&gt;4834080176 -->\n",
       "<g id=\"edge7\" class=\"edge\">\n",
       "<title>4834082480&#45;&gt;4834080176</title>\n",
       "<path fill=\"none\" stroke=\"black\" d=\"M185.57,-146.83C195.75,-136.94 209.52,-123.55 221.03,-112.36\"/>\n",
       "<polygon fill=\"black\" stroke=\"black\" points=\"223.47,-114.87 228.2,-105.38 218.59,-109.85 223.47,-114.87\"/>\n",
       "</g>\n",
       "<!-- 4834082288 -->\n",
       "<g id=\"node7\" class=\"node\">\n",
       "<title>4834082288</title>\n",
       "<ellipse fill=\"none\" stroke=\"black\" cx=\"135\" cy=\"-18\" rx=\"27\" ry=\"18\"/>\n",
       "<text text-anchor=\"middle\" x=\"135\" y=\"-14.3\" font-family=\"Times,serif\" font-size=\"14.00\">C</text>\n",
       "</g>\n",
       "<!-- 4834082624&#45;&gt;4834082288 -->\n",
       "<g id=\"edge4\" class=\"edge\">\n",
       "<title>4834082624&#45;&gt;4834082288</title>\n",
       "<path fill=\"none\" stroke=\"black\" d=\"M162.65,-72.76C158.29,-64.28 152.85,-53.71 147.96,-44.2\"/>\n",
       "<polygon fill=\"black\" stroke=\"black\" points=\"150.99,-42.44 143.3,-35.15 144.77,-45.64 150.99,-42.44\"/>\n",
       "</g>\n",
       "<!-- 4834082768 -->\n",
       "<g id=\"node8\" class=\"node\">\n",
       "<title>4834082768</title>\n",
       "<ellipse fill=\"none\" stroke=\"black\" cx=\"207\" cy=\"-18\" rx=\"27\" ry=\"18\"/>\n",
       "<text text-anchor=\"middle\" x=\"207\" y=\"-14.3\" font-family=\"Times,serif\" font-size=\"14.00\">D</text>\n",
       "</g>\n",
       "<!-- 4834082624&#45;&gt;4834082768 -->\n",
       "<g id=\"edge5\" class=\"edge\">\n",
       "<title>4834082624&#45;&gt;4834082768</title>\n",
       "<path fill=\"none\" stroke=\"black\" d=\"M179.35,-72.76C183.71,-64.28 189.15,-53.71 194.04,-44.2\"/>\n",
       "<polygon fill=\"black\" stroke=\"black\" points=\"197.23,-45.64 198.7,-35.15 191.01,-42.44 197.23,-45.64\"/>\n",
       "</g>\n",
       "</g>\n",
       "</svg>\n"
      ],
      "text/plain": [
       "<graphviz.dot.Digraph at 0x12021a190>"
      ]
     },
     "execution_count": 37,
     "metadata": {},
     "output_type": "execute_result"
    }
   ],
   "source": [
    "offspring = copy(parent1)\n",
    "point_mutation(offspring)\n",
    "print_tree(offspring)"
   ]
  },
  {
   "cell_type": "markdown",
   "metadata": {
    "slideshow": {
     "slide_type": "subslide"
    }
   },
   "source": [
    "#### Selection\n",
    "\n",
    "Since selection is independent of the representation, we don't need any adaptation. Since we use a variable size representation, we will include the size as one of the selection criteria."
   ]
  },
  {
   "cell_type": "code",
   "execution_count": 38,
   "metadata": {
    "slideshow": {
     "slide_type": "slide"
    }
   },
   "outputs": [],
   "source": [
    "tournament_size = 3\n",
    "def tournament_selection(population):\n",
    "    candidates = random.sample(population, tournament_size)        \n",
    "    winner = min(candidates, key=lambda x: (get_fitness(x), size(x)))\n",
    "    return winner"
   ]
  },
  {
   "cell_type": "markdown",
   "metadata": {
    "slideshow": {
     "slide_type": "skip"
    }
   },
   "source": [
    "An evolution step of our GA now just needs to integrate these operators:"
   ]
  },
  {
   "cell_type": "code",
   "execution_count": 39,
   "metadata": {
    "slideshow": {
     "slide_type": "slide"
    }
   },
   "outputs": [],
   "source": [
    "def evolution_step(population):\n",
    "    new_population = []\n",
    "    while len(new_population) < len(population):\n",
    "        parent1 = copy(selection(population))\n",
    "        parent2 = copy(selection(population))\n",
    "\n",
    "        if random.random() < P_xover:\n",
    "            offspring = crossover(parent1, parent2)\n",
    "        else:\n",
    "            offspring = random.choice([parent1, parent2])\n",
    "\n",
    "        if random.random() < 0.5:\n",
    "            point_mutation(offspring)\n",
    "        else:\n",
    "            subtree_mutation(offspring)\n",
    "\n",
    "        new_population.append(offspring)\n",
    "\n",
    "    population.clear()\n",
    "    population.extend(new_population)\n",
    "\n",
    "    best_fitness = min([get_fitness(k) for k in population])\n",
    "    return best_fitness"
   ]
  },
  {
   "cell_type": "markdown",
   "metadata": {
    "slideshow": {
     "slide_type": "skip"
    }
   },
   "source": [
    "Similarly, the overall GA is also the same as always:"
   ]
  },
  {
   "cell_type": "code",
   "execution_count": 40,
   "metadata": {
    "slideshow": {
     "slide_type": "skip"
    }
   },
   "outputs": [],
   "source": [
    "fitness_values = []\n",
    "size_values = []"
   ]
  },
  {
   "cell_type": "code",
   "execution_count": 41,
   "metadata": {
    "slideshow": {
     "slide_type": "slide"
    }
   },
   "outputs": [],
   "source": [
    "def ga():\n",
    "    population = get_initial_population()\n",
    "    best_fitness = sys.maxsize\n",
    "    for p in population:\n",
    "        fitness = get_fitness(p)\n",
    "        if fitness < best_fitness or (fitness == best_fitness and size(p) < size(best_solution)):\n",
    "            best_fitness = fitness\n",
    "            best_solution = copy(p)\n",
    "\n",
    "    iteration = 0\n",
    "    while iteration < max_iterations and best_fitness > 0.000001:\n",
    "        fitness_values.append(best_fitness)\n",
    "        size_values.append(mean([size(x) for x in population]))\n",
    "        print(f\"GA Iteration {iteration}, best fitness: {best_fitness}, average size: {size_values[-1]}\")\n",
    "        iteration += 1\n",
    "        evolution_step(population)\n",
    "\n",
    "        for p in population:\n",
    "            fitness = get_fitness(p)\n",
    "            if fitness < best_fitness or (fitness == best_fitness and size(p) < size(best_solution)):\n",
    "                best_fitness = fitness\n",
    "                best_solution = copy(p)\n",
    "\n",
    "    print(f\"GA solution after {iteration} iterations, best fitness: {best_fitness}\")\n",
    "    return best_solution\n"
   ]
  },
  {
   "cell_type": "markdown",
   "metadata": {
    "slideshow": {
     "slide_type": "slide"
    }
   },
   "source": [
    "### Example Problem: Symbolic Regression"
   ]
  },
  {
   "cell_type": "markdown",
   "metadata": {
    "slideshow": {
     "slide_type": "skip"
    }
   },
   "source": [
    "We will use symbolic regression as a first example problem. Given a set of points, we would like to come up with a symbolic expression that represents a function approximating the points. As example equation, we will use $x^2 + x + 1$."
   ]
  },
  {
   "cell_type": "markdown",
   "metadata": {
    "slideshow": {
     "slide_type": "skip"
    }
   },
   "source": [
    "We only have one terminal `x` for this problem, but can also include ephemeral constants:"
   ]
  },
  {
   "cell_type": "code",
   "execution_count": 42,
   "metadata": {
    "slideshow": {
     "slide_type": "fragment"
    }
   },
   "outputs": [],
   "source": [
    "TERMINALS = [\"x\", EPHEMERAL_CONSTANT]"
   ]
  },
  {
   "cell_type": "markdown",
   "metadata": {
    "slideshow": {
     "slide_type": "skip"
    }
   },
   "source": [
    "As fitness function for how close we are to approximating a set of points we use the sum of absolute errors for all points at different values of `x` in the range [−1.0, +1.0]. Thus, a smaller fitness value is better; a fitness of zero indicates a perfect fit. In order to calculate the error for any given point, we need a helper function that evaluates a tree for a given value of `x`:"
   ]
  },
  {
   "cell_type": "code",
   "execution_count": 43,
   "metadata": {
    "slideshow": {
     "slide_type": "fragment"
    }
   },
   "outputs": [],
   "source": [
    "def evaluate(tree, assignment):\n",
    "    if tree.data in FUNCTIONS:\n",
    "        return tree.data(evaluate(tree.left, assignment), evaluate(tree.right, assignment))\n",
    "    elif tree.data in assignment:\n",
    "        return assignment[tree.data]\n",
    "    else:\n",
    "        return tree.data"
   ]
  },
  {
   "cell_type": "markdown",
   "metadata": {
    "slideshow": {
     "slide_type": "skip"
    }
   },
   "source": [
    "The dictionary `assignment` will map all terminals to actual values during the evaluation. We sample a number of points for measuring the error:"
   ]
  },
  {
   "cell_type": "code",
   "execution_count": 44,
   "metadata": {
    "slideshow": {
     "slide_type": "fragment"
    }
   },
   "outputs": [],
   "source": [
    "test_data = {}\n",
    "for value in [x/10 for x in range(-10, 10)]:\n",
    "    test_data[value] = value*value + value + 1"
   ]
  },
  {
   "cell_type": "markdown",
   "metadata": {
    "slideshow": {
     "slide_type": "skip"
    }
   },
   "source": [
    "Now calculating the fitness function reduces to calling the `evaluate` function for each points in our test set, and summing up the differences:"
   ]
  },
  {
   "cell_type": "code",
   "execution_count": 45,
   "metadata": {
    "slideshow": {
     "slide_type": "slide"
    }
   },
   "outputs": [],
   "source": [
    "def get_fitness(tree):\n",
    "    fitness = 0.0\n",
    "    \n",
    "    for (x, expected_result) in test_data.items():\n",
    "        assignment = {}\n",
    "        assignment[\"x\"] = x\n",
    "        result = evaluate(tree, assignment)\n",
    "        fitness += abs(result - expected_result)\n",
    "    \n",
    "    return fitness"
   ]
  },
  {
   "cell_type": "markdown",
   "metadata": {
    "slideshow": {
     "slide_type": "skip"
    }
   },
   "source": [
    "With this, we can finally call our genetic algorithm:"
   ]
  },
  {
   "cell_type": "code",
   "execution_count": 46,
   "metadata": {
    "slideshow": {
     "slide_type": "slide"
    }
   },
   "outputs": [
    {
     "name": "stdout",
     "output_type": "stream",
     "text": [
      "GA Iteration 0, best fitness: 6.6, average size: 9.55\n",
      "GA Iteration 1, best fitness: 6.6, average size: 9.15\n",
      "GA Iteration 2, best fitness: 6.6, average size: 8.15\n",
      "GA Iteration 3, best fitness: 6.6, average size: 7.75\n",
      "GA Iteration 4, best fitness: 6.6, average size: 8.2\n",
      "GA Iteration 5, best fitness: 6.6, average size: 8.4\n",
      "GA Iteration 6, best fitness: 6.6, average size: 8.95\n",
      "GA Iteration 7, best fitness: 5.200000000000001, average size: 11.15\n",
      "GA Iteration 8, best fitness: 5.200000000000001, average size: 14.2\n",
      "GA Iteration 9, best fitness: 5.200000000000001, average size: 14.5\n",
      "GA Iteration 10, best fitness: 5.200000000000001, average size: 14.25\n",
      "GA Iteration 11, best fitness: 5.200000000000001, average size: 16.85\n",
      "GA Iteration 12, best fitness: 5.200000000000001, average size: 17.4\n",
      "GA Iteration 13, best fitness: 5.200000000000001, average size: 18.85\n",
      "GA Iteration 14, best fitness: 5.200000000000001, average size: 22.2\n",
      "GA Iteration 15, best fitness: 5.200000000000001, average size: 23.1\n",
      "GA Iteration 16, best fitness: 5.200000000000001, average size: 22\n",
      "GA Iteration 17, best fitness: 5.200000000000001, average size: 20.8\n",
      "GA Iteration 18, best fitness: 5.200000000000001, average size: 20.75\n",
      "GA Iteration 19, best fitness: 5.200000000000001, average size: 17.65\n",
      "GA Iteration 20, best fitness: 5.200000000000001, average size: 15.95\n",
      "GA Iteration 21, best fitness: 5.200000000000001, average size: 17.6\n",
      "GA Iteration 22, best fitness: 5.200000000000001, average size: 16.15\n",
      "GA Iteration 23, best fitness: 5.200000000000001, average size: 15.1\n",
      "GA Iteration 24, best fitness: 5.200000000000001, average size: 18.5\n",
      "GA Iteration 25, best fitness: 5.200000000000001, average size: 21.9\n",
      "GA Iteration 26, best fitness: 5.200000000000001, average size: 18.3\n",
      "GA Iteration 27, best fitness: 5.200000000000001, average size: 20.05\n",
      "GA Iteration 28, best fitness: 5.200000000000001, average size: 19.8\n",
      "GA Iteration 29, best fitness: 5.200000000000001, average size: 20\n",
      "GA Iteration 30, best fitness: 5.166666666666664, average size: 19.75\n",
      "GA Iteration 31, best fitness: 5.166666666666664, average size: 18.85\n",
      "GA Iteration 32, best fitness: 5.166666666666664, average size: 14.4\n",
      "GA solution after 33 iterations, best fitness: 0.0\n"
     ]
    },
    {
     "data": {
      "image/svg+xml": [
       "<?xml version=\"1.0\" encoding=\"UTF-8\" standalone=\"no\"?>\n",
       "<!DOCTYPE svg PUBLIC \"-//W3C//DTD SVG 1.1//EN\"\n",
       " \"http://www.w3.org/Graphics/SVG/1.1/DTD/svg11.dtd\">\n",
       "<!-- Generated by graphviz version 2.44.1 (20200629.0846)\n",
       " -->\n",
       "<!-- Pages: 1 -->\n",
       "<svg width=\"638pt\" height=\"404pt\"\n",
       " viewBox=\"0.00 0.00 638.00 404.00\" xmlns=\"http://www.w3.org/2000/svg\" xmlns:xlink=\"http://www.w3.org/1999/xlink\">\n",
       "<g id=\"graph0\" class=\"graph\" transform=\"scale(1 1) rotate(0) translate(4 400)\">\n",
       "<polygon fill=\"white\" stroke=\"transparent\" points=\"-4,4 -4,-400 634,-400 634,4 -4,4\"/>\n",
       "<!-- 4834211152 -->\n",
       "<g id=\"node1\" class=\"node\">\n",
       "<title>4834211152</title>\n",
       "<ellipse fill=\"none\" stroke=\"black\" cx=\"153\" cy=\"-378\" rx=\"27\" ry=\"18\"/>\n",
       "<text text-anchor=\"middle\" x=\"153\" y=\"-374.3\" font-family=\"Times,serif\" font-size=\"14.00\">add</text>\n",
       "</g>\n",
       "<!-- 4834287040 -->\n",
       "<g id=\"node2\" class=\"node\">\n",
       "<title>4834287040</title>\n",
       "<ellipse fill=\"none\" stroke=\"black\" cx=\"99\" cy=\"-306\" rx=\"27\" ry=\"18\"/>\n",
       "<text text-anchor=\"middle\" x=\"99\" y=\"-302.3\" font-family=\"Times,serif\" font-size=\"14.00\">add</text>\n",
       "</g>\n",
       "<!-- 4834211152&#45;&gt;4834287040 -->\n",
       "<g id=\"edge5\" class=\"edge\">\n",
       "<title>4834211152&#45;&gt;4834287040</title>\n",
       "<path fill=\"none\" stroke=\"black\" d=\"M141.02,-361.46C134.02,-352.4 125.06,-340.79 117.21,-330.61\"/>\n",
       "<polygon fill=\"black\" stroke=\"black\" points=\"119.83,-328.27 110.95,-322.49 114.29,-332.55 119.83,-328.27\"/>\n",
       "</g>\n",
       "<!-- 4834369696 -->\n",
       "<g id=\"node7\" class=\"node\">\n",
       "<title>4834369696</title>\n",
       "<ellipse fill=\"none\" stroke=\"black\" cx=\"207\" cy=\"-306\" rx=\"27\" ry=\"18\"/>\n",
       "<text text-anchor=\"middle\" x=\"207\" y=\"-302.3\" font-family=\"Times,serif\" font-size=\"14.00\">div</text>\n",
       "</g>\n",
       "<!-- 4834211152&#45;&gt;4834369696 -->\n",
       "<g id=\"edge22\" class=\"edge\">\n",
       "<title>4834211152&#45;&gt;4834369696</title>\n",
       "<path fill=\"none\" stroke=\"black\" d=\"M164.98,-361.46C171.98,-352.4 180.94,-340.79 188.79,-330.61\"/>\n",
       "<polygon fill=\"black\" stroke=\"black\" points=\"191.71,-332.55 195.05,-322.49 186.17,-328.27 191.71,-332.55\"/>\n",
       "</g>\n",
       "<!-- 4834284784 -->\n",
       "<g id=\"node3\" class=\"node\">\n",
       "<title>4834284784</title>\n",
       "<ellipse fill=\"none\" stroke=\"black\" cx=\"27\" cy=\"-234\" rx=\"27\" ry=\"18\"/>\n",
       "<text text-anchor=\"middle\" x=\"27\" y=\"-230.3\" font-family=\"Times,serif\" font-size=\"14.00\">x</text>\n",
       "</g>\n",
       "<!-- 4834287040&#45;&gt;4834284784 -->\n",
       "<g id=\"edge1\" class=\"edge\">\n",
       "<title>4834287040&#45;&gt;4834284784</title>\n",
       "<path fill=\"none\" stroke=\"black\" d=\"M84.43,-290.83C74.25,-280.94 60.48,-267.55 48.97,-256.36\"/>\n",
       "<polygon fill=\"black\" stroke=\"black\" points=\"51.41,-253.85 41.8,-249.38 46.53,-258.87 51.41,-253.85\"/>\n",
       "</g>\n",
       "<!-- 4834284736 -->\n",
       "<g id=\"node4\" class=\"node\">\n",
       "<title>4834284736</title>\n",
       "<ellipse fill=\"none\" stroke=\"black\" cx=\"99\" cy=\"-234\" rx=\"27\" ry=\"18\"/>\n",
       "<text text-anchor=\"middle\" x=\"99\" y=\"-230.3\" font-family=\"Times,serif\" font-size=\"14.00\">mul</text>\n",
       "</g>\n",
       "<!-- 4834287040&#45;&gt;4834284736 -->\n",
       "<g id=\"edge4\" class=\"edge\">\n",
       "<title>4834287040&#45;&gt;4834284736</title>\n",
       "<path fill=\"none\" stroke=\"black\" d=\"M99,-287.7C99,-279.98 99,-270.71 99,-262.11\"/>\n",
       "<polygon fill=\"black\" stroke=\"black\" points=\"102.5,-262.1 99,-252.1 95.5,-262.1 102.5,-262.1\"/>\n",
       "</g>\n",
       "<!-- 4834284160 -->\n",
       "<g id=\"node5\" class=\"node\">\n",
       "<title>4834284160</title>\n",
       "<ellipse fill=\"none\" stroke=\"black\" cx=\"27\" cy=\"-162\" rx=\"27\" ry=\"18\"/>\n",
       "<text text-anchor=\"middle\" x=\"27\" y=\"-158.3\" font-family=\"Times,serif\" font-size=\"14.00\">x</text>\n",
       "</g>\n",
       "<!-- 4834284736&#45;&gt;4834284160 -->\n",
       "<g id=\"edge2\" class=\"edge\">\n",
       "<title>4834284736&#45;&gt;4834284160</title>\n",
       "<path fill=\"none\" stroke=\"black\" d=\"M84.43,-218.83C74.25,-208.94 60.48,-195.55 48.97,-184.36\"/>\n",
       "<polygon fill=\"black\" stroke=\"black\" points=\"51.41,-181.85 41.8,-177.38 46.53,-186.87 51.41,-181.85\"/>\n",
       "</g>\n",
       "<!-- 4834284112 -->\n",
       "<g id=\"node6\" class=\"node\">\n",
       "<title>4834284112</title>\n",
       "<ellipse fill=\"none\" stroke=\"black\" cx=\"99\" cy=\"-162\" rx=\"27\" ry=\"18\"/>\n",
       "<text text-anchor=\"middle\" x=\"99\" y=\"-158.3\" font-family=\"Times,serif\" font-size=\"14.00\">x</text>\n",
       "</g>\n",
       "<!-- 4834284736&#45;&gt;4834284112 -->\n",
       "<g id=\"edge3\" class=\"edge\">\n",
       "<title>4834284736&#45;&gt;4834284112</title>\n",
       "<path fill=\"none\" stroke=\"black\" d=\"M99,-215.7C99,-207.98 99,-198.71 99,-190.11\"/>\n",
       "<polygon fill=\"black\" stroke=\"black\" points=\"102.5,-190.1 99,-180.1 95.5,-190.1 102.5,-190.1\"/>\n",
       "</g>\n",
       "<!-- 4834369648 -->\n",
       "<g id=\"node8\" class=\"node\">\n",
       "<title>4834369648</title>\n",
       "<ellipse fill=\"none\" stroke=\"black\" cx=\"207\" cy=\"-234\" rx=\"27\" ry=\"18\"/>\n",
       "<text text-anchor=\"middle\" x=\"207\" y=\"-230.3\" font-family=\"Times,serif\" font-size=\"14.00\">add</text>\n",
       "</g>\n",
       "<!-- 4834369696&#45;&gt;4834369648 -->\n",
       "<g id=\"edge14\" class=\"edge\">\n",
       "<title>4834369696&#45;&gt;4834369648</title>\n",
       "<path fill=\"none\" stroke=\"black\" d=\"M207,-287.7C207,-279.98 207,-270.71 207,-262.11\"/>\n",
       "<polygon fill=\"black\" stroke=\"black\" points=\"210.5,-262.1 207,-252.1 203.5,-262.1 210.5,-262.1\"/>\n",
       "</g>\n",
       "<!-- 4834176784 -->\n",
       "<g id=\"node17\" class=\"node\">\n",
       "<title>4834176784</title>\n",
       "<ellipse fill=\"none\" stroke=\"black\" cx=\"423\" cy=\"-234\" rx=\"27\" ry=\"18\"/>\n",
       "<text text-anchor=\"middle\" x=\"423\" y=\"-230.3\" font-family=\"Times,serif\" font-size=\"14.00\">mul</text>\n",
       "</g>\n",
       "<!-- 4834369696&#45;&gt;4834176784 -->\n",
       "<g id=\"edge21\" class=\"edge\">\n",
       "<title>4834369696&#45;&gt;4834176784</title>\n",
       "<path fill=\"none\" stroke=\"black\" d=\"M230.94,-297.24C269.56,-284.73 345.72,-260.05 389.64,-245.81\"/>\n",
       "<polygon fill=\"black\" stroke=\"black\" points=\"390.85,-249.1 399.28,-242.69 388.69,-242.44 390.85,-249.1\"/>\n",
       "</g>\n",
       "<!-- 4834373440 -->\n",
       "<g id=\"node9\" class=\"node\">\n",
       "<title>4834373440</title>\n",
       "<ellipse fill=\"none\" stroke=\"black\" cx=\"171\" cy=\"-162\" rx=\"27\" ry=\"18\"/>\n",
       "<text text-anchor=\"middle\" x=\"171\" y=\"-158.3\" font-family=\"Times,serif\" font-size=\"14.00\">add</text>\n",
       "</g>\n",
       "<!-- 4834369648&#45;&gt;4834373440 -->\n",
       "<g id=\"edge10\" class=\"edge\">\n",
       "<title>4834369648&#45;&gt;4834373440</title>\n",
       "<path fill=\"none\" stroke=\"black\" d=\"M198.65,-216.76C194.29,-208.28 188.85,-197.71 183.96,-188.2\"/>\n",
       "<polygon fill=\"black\" stroke=\"black\" points=\"186.99,-186.44 179.3,-179.15 180.77,-189.64 186.99,-186.44\"/>\n",
       "</g>\n",
       "<!-- 4834371424 -->\n",
       "<g id=\"node14\" class=\"node\">\n",
       "<title>4834371424</title>\n",
       "<ellipse fill=\"none\" stroke=\"black\" cx=\"243\" cy=\"-162\" rx=\"27\" ry=\"18\"/>\n",
       "<text text-anchor=\"middle\" x=\"243\" y=\"-158.3\" font-family=\"Times,serif\" font-size=\"14.00\">sub</text>\n",
       "</g>\n",
       "<!-- 4834369648&#45;&gt;4834371424 -->\n",
       "<g id=\"edge13\" class=\"edge\">\n",
       "<title>4834369648&#45;&gt;4834371424</title>\n",
       "<path fill=\"none\" stroke=\"black\" d=\"M215.35,-216.76C219.71,-208.28 225.15,-197.71 230.04,-188.2\"/>\n",
       "<polygon fill=\"black\" stroke=\"black\" points=\"233.23,-189.64 234.7,-179.15 227.01,-186.44 233.23,-189.64\"/>\n",
       "</g>\n",
       "<!-- 4834370368 -->\n",
       "<g id=\"node10\" class=\"node\">\n",
       "<title>4834370368</title>\n",
       "<ellipse fill=\"none\" stroke=\"black\" cx=\"99\" cy=\"-90\" rx=\"27\" ry=\"18\"/>\n",
       "<text text-anchor=\"middle\" x=\"99\" y=\"-86.3\" font-family=\"Times,serif\" font-size=\"14.00\">mul</text>\n",
       "</g>\n",
       "<!-- 4834373440&#45;&gt;4834370368 -->\n",
       "<g id=\"edge8\" class=\"edge\">\n",
       "<title>4834373440&#45;&gt;4834370368</title>\n",
       "<path fill=\"none\" stroke=\"black\" d=\"M156.43,-146.83C146.25,-136.94 132.48,-123.55 120.97,-112.36\"/>\n",
       "<polygon fill=\"black\" stroke=\"black\" points=\"123.41,-109.85 113.8,-105.38 118.53,-114.87 123.41,-109.85\"/>\n",
       "</g>\n",
       "<!-- 4834372528 -->\n",
       "<g id=\"node13\" class=\"node\">\n",
       "<title>4834372528</title>\n",
       "<ellipse fill=\"none\" stroke=\"black\" cx=\"171\" cy=\"-90\" rx=\"27\" ry=\"18\"/>\n",
       "<text text-anchor=\"middle\" x=\"171\" y=\"-86.3\" font-family=\"Times,serif\" font-size=\"14.00\">x</text>\n",
       "</g>\n",
       "<!-- 4834373440&#45;&gt;4834372528 -->\n",
       "<g id=\"edge9\" class=\"edge\">\n",
       "<title>4834373440&#45;&gt;4834372528</title>\n",
       "<path fill=\"none\" stroke=\"black\" d=\"M171,-143.7C171,-135.98 171,-126.71 171,-118.11\"/>\n",
       "<polygon fill=\"black\" stroke=\"black\" points=\"174.5,-118.1 171,-108.1 167.5,-118.1 174.5,-118.1\"/>\n",
       "</g>\n",
       "<!-- 4834372336 -->\n",
       "<g id=\"node11\" class=\"node\">\n",
       "<title>4834372336</title>\n",
       "<ellipse fill=\"none\" stroke=\"black\" cx=\"63\" cy=\"-18\" rx=\"27\" ry=\"18\"/>\n",
       "<text text-anchor=\"middle\" x=\"63\" y=\"-14.3\" font-family=\"Times,serif\" font-size=\"14.00\">x</text>\n",
       "</g>\n",
       "<!-- 4834370368&#45;&gt;4834372336 -->\n",
       "<g id=\"edge6\" class=\"edge\">\n",
       "<title>4834370368&#45;&gt;4834372336</title>\n",
       "<path fill=\"none\" stroke=\"black\" d=\"M90.65,-72.76C86.29,-64.28 80.85,-53.71 75.96,-44.2\"/>\n",
       "<polygon fill=\"black\" stroke=\"black\" points=\"78.99,-42.44 71.3,-35.15 72.77,-45.64 78.99,-42.44\"/>\n",
       "</g>\n",
       "<!-- 4834372432 -->\n",
       "<g id=\"node12\" class=\"node\">\n",
       "<title>4834372432</title>\n",
       "<ellipse fill=\"none\" stroke=\"black\" cx=\"135\" cy=\"-18\" rx=\"27\" ry=\"18\"/>\n",
       "<text text-anchor=\"middle\" x=\"135\" y=\"-14.3\" font-family=\"Times,serif\" font-size=\"14.00\">x</text>\n",
       "</g>\n",
       "<!-- 4834370368&#45;&gt;4834372432 -->\n",
       "<g id=\"edge7\" class=\"edge\">\n",
       "<title>4834370368&#45;&gt;4834372432</title>\n",
       "<path fill=\"none\" stroke=\"black\" d=\"M107.35,-72.76C111.71,-64.28 117.15,-53.71 122.04,-44.2\"/>\n",
       "<polygon fill=\"black\" stroke=\"black\" points=\"125.23,-45.64 126.7,-35.15 119.01,-42.44 125.23,-45.64\"/>\n",
       "</g>\n",
       "<!-- 4834372480 -->\n",
       "<g id=\"node15\" class=\"node\">\n",
       "<title>4834372480</title>\n",
       "<ellipse fill=\"none\" stroke=\"black\" cx=\"243\" cy=\"-90\" rx=\"27\" ry=\"18\"/>\n",
       "<text text-anchor=\"middle\" x=\"243\" y=\"-86.3\" font-family=\"Times,serif\" font-size=\"14.00\">x</text>\n",
       "</g>\n",
       "<!-- 4834371424&#45;&gt;4834372480 -->\n",
       "<g id=\"edge11\" class=\"edge\">\n",
       "<title>4834371424&#45;&gt;4834372480</title>\n",
       "<path fill=\"none\" stroke=\"black\" d=\"M243,-143.7C243,-135.98 243,-126.71 243,-118.11\"/>\n",
       "<polygon fill=\"black\" stroke=\"black\" points=\"246.5,-118.1 243,-108.1 239.5,-118.1 246.5,-118.1\"/>\n",
       "</g>\n",
       "<!-- 4834173328 -->\n",
       "<g id=\"node16\" class=\"node\">\n",
       "<title>4834173328</title>\n",
       "<ellipse fill=\"none\" stroke=\"black\" cx=\"315\" cy=\"-90\" rx=\"27\" ry=\"18\"/>\n",
       "<text text-anchor=\"middle\" x=\"315\" y=\"-86.3\" font-family=\"Times,serif\" font-size=\"14.00\">3</text>\n",
       "</g>\n",
       "<!-- 4834371424&#45;&gt;4834173328 -->\n",
       "<g id=\"edge12\" class=\"edge\">\n",
       "<title>4834371424&#45;&gt;4834173328</title>\n",
       "<path fill=\"none\" stroke=\"black\" d=\"M257.57,-146.83C267.75,-136.94 281.52,-123.55 293.03,-112.36\"/>\n",
       "<polygon fill=\"black\" stroke=\"black\" points=\"295.47,-114.87 300.2,-105.38 290.59,-109.85 295.47,-114.87\"/>\n",
       "</g>\n",
       "<!-- 4834221552 -->\n",
       "<g id=\"node18\" class=\"node\">\n",
       "<title>4834221552</title>\n",
       "<ellipse fill=\"none\" stroke=\"black\" cx=\"423\" cy=\"-162\" rx=\"27\" ry=\"18\"/>\n",
       "<text text-anchor=\"middle\" x=\"423\" y=\"-158.3\" font-family=\"Times,serif\" font-size=\"14.00\">mul</text>\n",
       "</g>\n",
       "<!-- 4834176784&#45;&gt;4834221552 -->\n",
       "<g id=\"edge17\" class=\"edge\">\n",
       "<title>4834176784&#45;&gt;4834221552</title>\n",
       "<path fill=\"none\" stroke=\"black\" d=\"M423,-215.7C423,-207.98 423,-198.71 423,-190.11\"/>\n",
       "<polygon fill=\"black\" stroke=\"black\" points=\"426.5,-190.1 423,-180.1 419.5,-190.1 426.5,-190.1\"/>\n",
       "</g>\n",
       "<!-- 4834207776 -->\n",
       "<g id=\"node21\" class=\"node\">\n",
       "<title>4834207776</title>\n",
       "<ellipse fill=\"none\" stroke=\"black\" cx=\"531\" cy=\"-162\" rx=\"27\" ry=\"18\"/>\n",
       "<text text-anchor=\"middle\" x=\"531\" y=\"-158.3\" font-family=\"Times,serif\" font-size=\"14.00\">mul</text>\n",
       "</g>\n",
       "<!-- 4834176784&#45;&gt;4834207776 -->\n",
       "<g id=\"edge20\" class=\"edge\">\n",
       "<title>4834176784&#45;&gt;4834207776</title>\n",
       "<path fill=\"none\" stroke=\"black\" d=\"M441.81,-220.81C459,-209.67 484.62,-193.06 503.99,-180.5\"/>\n",
       "<polygon fill=\"black\" stroke=\"black\" points=\"505.92,-183.43 512.4,-175.05 502.11,-177.56 505.92,-183.43\"/>\n",
       "</g>\n",
       "<!-- 4834221216 -->\n",
       "<g id=\"node19\" class=\"node\">\n",
       "<title>4834221216</title>\n",
       "<ellipse fill=\"none\" stroke=\"black\" cx=\"387\" cy=\"-90\" rx=\"27\" ry=\"18\"/>\n",
       "<text text-anchor=\"middle\" x=\"387\" y=\"-86.3\" font-family=\"Times,serif\" font-size=\"14.00\">x</text>\n",
       "</g>\n",
       "<!-- 4834221552&#45;&gt;4834221216 -->\n",
       "<g id=\"edge15\" class=\"edge\">\n",
       "<title>4834221552&#45;&gt;4834221216</title>\n",
       "<path fill=\"none\" stroke=\"black\" d=\"M414.65,-144.76C410.29,-136.28 404.85,-125.71 399.96,-116.2\"/>\n",
       "<polygon fill=\"black\" stroke=\"black\" points=\"402.99,-114.44 395.3,-107.15 396.77,-117.64 402.99,-114.44\"/>\n",
       "</g>\n",
       "<!-- 4834206720 -->\n",
       "<g id=\"node20\" class=\"node\">\n",
       "<title>4834206720</title>\n",
       "<ellipse fill=\"none\" stroke=\"black\" cx=\"459\" cy=\"-90\" rx=\"27\" ry=\"18\"/>\n",
       "<text text-anchor=\"middle\" x=\"459\" y=\"-86.3\" font-family=\"Times,serif\" font-size=\"14.00\">&#45;4</text>\n",
       "</g>\n",
       "<!-- 4834221552&#45;&gt;4834206720 -->\n",
       "<g id=\"edge16\" class=\"edge\">\n",
       "<title>4834221552&#45;&gt;4834206720</title>\n",
       "<path fill=\"none\" stroke=\"black\" d=\"M431.35,-144.76C435.71,-136.28 441.15,-125.71 446.04,-116.2\"/>\n",
       "<polygon fill=\"black\" stroke=\"black\" points=\"449.23,-117.64 450.7,-107.15 443.01,-114.44 449.23,-117.64\"/>\n",
       "</g>\n",
       "<!-- 4834208064 -->\n",
       "<g id=\"node22\" class=\"node\">\n",
       "<title>4834208064</title>\n",
       "<ellipse fill=\"none\" stroke=\"black\" cx=\"531\" cy=\"-90\" rx=\"27\" ry=\"18\"/>\n",
       "<text text-anchor=\"middle\" x=\"531\" y=\"-86.3\" font-family=\"Times,serif\" font-size=\"14.00\">0</text>\n",
       "</g>\n",
       "<!-- 4834207776&#45;&gt;4834208064 -->\n",
       "<g id=\"edge18\" class=\"edge\">\n",
       "<title>4834207776&#45;&gt;4834208064</title>\n",
       "<path fill=\"none\" stroke=\"black\" d=\"M531,-143.7C531,-135.98 531,-126.71 531,-118.11\"/>\n",
       "<polygon fill=\"black\" stroke=\"black\" points=\"534.5,-118.1 531,-108.1 527.5,-118.1 534.5,-118.1\"/>\n",
       "</g>\n",
       "<!-- 4834206096 -->\n",
       "<g id=\"node23\" class=\"node\">\n",
       "<title>4834206096</title>\n",
       "<ellipse fill=\"none\" stroke=\"black\" cx=\"603\" cy=\"-90\" rx=\"27\" ry=\"18\"/>\n",
       "<text text-anchor=\"middle\" x=\"603\" y=\"-86.3\" font-family=\"Times,serif\" font-size=\"14.00\">&#45;5</text>\n",
       "</g>\n",
       "<!-- 4834207776&#45;&gt;4834206096 -->\n",
       "<g id=\"edge19\" class=\"edge\">\n",
       "<title>4834207776&#45;&gt;4834206096</title>\n",
       "<path fill=\"none\" stroke=\"black\" d=\"M545.57,-146.83C555.75,-136.94 569.52,-123.55 581.03,-112.36\"/>\n",
       "<polygon fill=\"black\" stroke=\"black\" points=\"583.47,-114.87 588.2,-105.38 578.59,-109.85 583.47,-114.87\"/>\n",
       "</g>\n",
       "</g>\n",
       "</svg>\n"
      ],
      "text/plain": [
       "<graphviz.dot.Digraph at 0x120242c40>"
      ]
     },
     "execution_count": 46,
     "metadata": {},
     "output_type": "execute_result"
    }
   ],
   "source": [
    "max_iterations = 200\n",
    "selection = tournament_selection\n",
    "crossover = subtree_crossover\n",
    "P_xover = 0.7\n",
    "fitness_values = []\n",
    "size_values = []\n",
    "result = ga()\n",
    "print_tree(result)"
   ]
  },
  {
   "cell_type": "markdown",
   "metadata": {
    "slideshow": {
     "slide_type": "skip"
    }
   },
   "source": [
    "Is the solution actually correct? We can plot the results of this function vs the results of the actual target function to compare:"
   ]
  },
  {
   "cell_type": "code",
   "execution_count": 47,
   "metadata": {
    "slideshow": {
     "slide_type": "slide"
    }
   },
   "outputs": [
    {
     "data": {
      "text/plain": [
       "<matplotlib.legend.Legend at 0x120255460>"
      ]
     },
     "execution_count": 47,
     "metadata": {},
     "output_type": "execute_result"
    },
    {
     "data": {
      "image/png": "[encoded data removed]",
      "text/plain": [
       "<Figure size 432x288 with 1 Axes>"
      ]
     },
     "metadata": {
      "needs_background": "light"
     },
     "output_type": "display_data"
    }
   ],
   "source": [
    "points = [x/10 for x in range(-10, 11)]\n",
    "real_values = [(x*x + x + 1) for x in points]\n",
    "gp_values = []\n",
    "for x in points:\n",
    "    assignment = {}\n",
    "    assignment[\"x\"] = x\n",
    "    gp_values.append(evaluate(result, assignment))\n",
    "plt.plot(points, gp_values)\n",
    "\n",
    "plt.plot(points, real_values, linestyle='--', label = \"Target\")\n",
    "plt.plot(points, gp_values,  linestyle=':', label = \"GP\")\n",
    "plt.legend()"
   ]
  },
  {
   "cell_type": "markdown",
   "metadata": {
    "slideshow": {
     "slide_type": "skip"
    }
   },
   "source": [
    "The solution is usually correct; if it is not, try again, and maybe try to adjust the parameters of the GA."
   ]
  },
  {
   "cell_type": "markdown",
   "metadata": {
    "slideshow": {
     "slide_type": "slide"
    }
   },
   "source": [
    "### Handling Bloat"
   ]
  },
  {
   "cell_type": "markdown",
   "metadata": {
    "slideshow": {
     "slide_type": "skip"
    }
   },
   "source": [
    "The solution is probably a fairly large tree. Indeed the size is sometimes quite problematic as genetic programming tends to suffer from _bloat_. Let's look at the average population size throughout the evolution:"
   ]
  },
  {
   "cell_type": "code",
   "execution_count": 48,
   "metadata": {
    "scrolled": true,
    "slideshow": {
     "slide_type": "fragment"
    }
   },
   "outputs": [
    {
     "data": {
      "text/plain": [
       "[<matplotlib.lines.Line2D at 0x1202d8f40>]"
      ]
     },
     "execution_count": 48,
     "metadata": {},
     "output_type": "execute_result"
    },
    {
     "data": {
      "image/png": "[encoded data removed]",
      "text/plain": [
       "<Figure size 432x288 with 1 Axes>"
      ]
     },
     "metadata": {
      "needs_background": "light"
     },
     "output_type": "display_data"
    }
   ],
   "source": [
    "plt.plot(size_values)"
   ]
  },
  {
   "cell_type": "markdown",
   "metadata": {
    "slideshow": {
     "slide_type": "skip"
    }
   },
   "source": [
    "We have already adapted our selection operator to counter bloat somewhat, but mutation and crossover also cause an increase in size. We therefore define alternative mutation and crossover operators."
   ]
  },
  {
   "cell_type": "markdown",
   "metadata": {
    "slideshow": {
     "slide_type": "skip"
    }
   },
   "source": [
    "Shrink mutation replaces a random subtree with a terminal node:"
   ]
  },
  {
   "cell_type": "code",
   "execution_count": 49,
   "metadata": {
    "slideshow": {
     "slide_type": "slide"
    }
   },
   "outputs": [],
   "source": [
    "def shrink_mutation(individual):\n",
    "    num_nodes = size(individual)\n",
    "    if num_nodes < 2:\n",
    "        return\n",
    "    \n",
    "    mutation_point = random.randint(2, num_nodes - 1)\n",
    "    node = Node()\n",
    "    node.data = get_random_terminal()\n",
    "    insert_subtree_at(individual, node, Counter(mutation_point))\n",
    "    \n",
    "    return individual"
   ]
  },
  {
   "cell_type": "code",
   "execution_count": 50,
   "metadata": {
    "slideshow": {
     "slide_type": "fragment"
    }
   },
   "outputs": [
    {
     "data": {
      "image/svg+xml": [
       "<?xml version=\"1.0\" encoding=\"UTF-8\" standalone=\"no\"?>\n",
       "<!DOCTYPE svg PUBLIC \"-//W3C//DTD SVG 1.1//EN\"\n",
       " \"http://www.w3.org/Graphics/SVG/1.1/DTD/svg11.dtd\">\n",
       "<!-- Generated by graphviz version 2.44.1 (20200629.0846)\n",
       " -->\n",
       "<!-- Pages: 1 -->\n",
       "<svg width=\"278pt\" height=\"260pt\"\n",
       " viewBox=\"0.00 0.00 278.00 260.00\" xmlns=\"http://www.w3.org/2000/svg\" xmlns:xlink=\"http://www.w3.org/1999/xlink\">\n",
       "<g id=\"graph0\" class=\"graph\" transform=\"scale(1 1) rotate(0) translate(4 256)\">\n",
       "<polygon fill=\"white\" stroke=\"transparent\" points=\"-4,4 -4,-256 274,-256 274,4 -4,4\"/>\n",
       "<!-- 4832855136 -->\n",
       "<g id=\"node1\" class=\"node\">\n",
       "<title>4832855136</title>\n",
       "<ellipse fill=\"none\" stroke=\"black\" cx=\"135\" cy=\"-234\" rx=\"27\" ry=\"18\"/>\n",
       "<text text-anchor=\"middle\" x=\"135\" y=\"-230.3\" font-family=\"Times,serif\" font-size=\"14.00\">add</text>\n",
       "</g>\n",
       "<!-- 4833439904 -->\n",
       "<g id=\"node2\" class=\"node\">\n",
       "<title>4833439904</title>\n",
       "<ellipse fill=\"none\" stroke=\"black\" cx=\"99\" cy=\"-162\" rx=\"27\" ry=\"18\"/>\n",
       "<text text-anchor=\"middle\" x=\"99\" y=\"-158.3\" font-family=\"Times,serif\" font-size=\"14.00\">sub</text>\n",
       "</g>\n",
       "<!-- 4832855136&#45;&gt;4833439904 -->\n",
       "<g id=\"edge3\" class=\"edge\">\n",
       "<title>4832855136&#45;&gt;4833439904</title>\n",
       "<path fill=\"none\" stroke=\"black\" d=\"M126.65,-216.76C122.29,-208.28 116.85,-197.71 111.96,-188.2\"/>\n",
       "<polygon fill=\"black\" stroke=\"black\" points=\"114.99,-186.44 107.3,-179.15 108.77,-189.64 114.99,-186.44\"/>\n",
       "</g>\n",
       "<!-- 4833869248 -->\n",
       "<g id=\"node5\" class=\"node\">\n",
       "<title>4833869248</title>\n",
       "<ellipse fill=\"none\" stroke=\"black\" cx=\"171\" cy=\"-162\" rx=\"27\" ry=\"18\"/>\n",
       "<text text-anchor=\"middle\" x=\"171\" y=\"-158.3\" font-family=\"Times,serif\" font-size=\"14.00\">sub</text>\n",
       "</g>\n",
       "<!-- 4832855136&#45;&gt;4833869248 -->\n",
       "<g id=\"edge8\" class=\"edge\">\n",
       "<title>4832855136&#45;&gt;4833869248</title>\n",
       "<path fill=\"none\" stroke=\"black\" d=\"M143.35,-216.76C147.71,-208.28 153.15,-197.71 158.04,-188.2\"/>\n",
       "<polygon fill=\"black\" stroke=\"black\" points=\"161.23,-189.64 162.7,-179.15 155.01,-186.44 161.23,-189.64\"/>\n",
       "</g>\n",
       "<!-- 4833440528 -->\n",
       "<g id=\"node3\" class=\"node\">\n",
       "<title>4833440528</title>\n",
       "<ellipse fill=\"none\" stroke=\"black\" cx=\"27\" cy=\"-90\" rx=\"27\" ry=\"18\"/>\n",
       "<text text-anchor=\"middle\" x=\"27\" y=\"-86.3\" font-family=\"Times,serif\" font-size=\"14.00\">C</text>\n",
       "</g>\n",
       "<!-- 4833439904&#45;&gt;4833440528 -->\n",
       "<g id=\"edge1\" class=\"edge\">\n",
       "<title>4833439904&#45;&gt;4833440528</title>\n",
       "<path fill=\"none\" stroke=\"black\" d=\"M84.43,-146.83C74.25,-136.94 60.48,-123.55 48.97,-112.36\"/>\n",
       "<polygon fill=\"black\" stroke=\"black\" points=\"51.41,-109.85 41.8,-105.38 46.53,-114.87 51.41,-109.85\"/>\n",
       "</g>\n",
       "<!-- 4833868336 -->\n",
       "<g id=\"node4\" class=\"node\">\n",
       "<title>4833868336</title>\n",
       "<ellipse fill=\"none\" stroke=\"black\" cx=\"99\" cy=\"-90\" rx=\"27\" ry=\"18\"/>\n",
       "<text text-anchor=\"middle\" x=\"99\" y=\"-86.3\" font-family=\"Times,serif\" font-size=\"14.00\">0</text>\n",
       "</g>\n",
       "<!-- 4833439904&#45;&gt;4833868336 -->\n",
       "<g id=\"edge2\" class=\"edge\">\n",
       "<title>4833439904&#45;&gt;4833868336</title>\n",
       "<path fill=\"none\" stroke=\"black\" d=\"M99,-143.7C99,-135.98 99,-126.71 99,-118.11\"/>\n",
       "<polygon fill=\"black\" stroke=\"black\" points=\"102.5,-118.1 99,-108.1 95.5,-118.1 102.5,-118.1\"/>\n",
       "</g>\n",
       "<!-- 4833869440 -->\n",
       "<g id=\"node6\" class=\"node\">\n",
       "<title>4833869440</title>\n",
       "<ellipse fill=\"none\" stroke=\"black\" cx=\"171\" cy=\"-90\" rx=\"27\" ry=\"18\"/>\n",
       "<text text-anchor=\"middle\" x=\"171\" y=\"-86.3\" font-family=\"Times,serif\" font-size=\"14.00\">mul</text>\n",
       "</g>\n",
       "<!-- 4833869248&#45;&gt;4833869440 -->\n",
       "<g id=\"edge6\" class=\"edge\">\n",
       "<title>4833869248&#45;&gt;4833869440</title>\n",
       "<path fill=\"none\" stroke=\"black\" d=\"M171,-143.7C171,-135.98 171,-126.71 171,-118.11\"/>\n",
       "<polygon fill=\"black\" stroke=\"black\" points=\"174.5,-118.1 171,-108.1 167.5,-118.1 174.5,-118.1\"/>\n",
       "</g>\n",
       "<!-- 4833868624 -->\n",
       "<g id=\"node9\" class=\"node\">\n",
       "<title>4833868624</title>\n",
       "<ellipse fill=\"none\" stroke=\"black\" cx=\"243\" cy=\"-90\" rx=\"27\" ry=\"18\"/>\n",
       "<text text-anchor=\"middle\" x=\"243\" y=\"-86.3\" font-family=\"Times,serif\" font-size=\"14.00\">A</text>\n",
       "</g>\n",
       "<!-- 4833869248&#45;&gt;4833868624 -->\n",
       "<g id=\"edge7\" class=\"edge\">\n",
       "<title>4833869248&#45;&gt;4833868624</title>\n",
       "<path fill=\"none\" stroke=\"black\" d=\"M185.57,-146.83C195.75,-136.94 209.52,-123.55 221.03,-112.36\"/>\n",
       "<polygon fill=\"black\" stroke=\"black\" points=\"223.47,-114.87 228.2,-105.38 218.59,-109.85 223.47,-114.87\"/>\n",
       "</g>\n",
       "<!-- 4833868144 -->\n",
       "<g id=\"node7\" class=\"node\">\n",
       "<title>4833868144</title>\n",
       "<ellipse fill=\"none\" stroke=\"black\" cx=\"135\" cy=\"-18\" rx=\"27\" ry=\"18\"/>\n",
       "<text text-anchor=\"middle\" x=\"135\" y=\"-14.3\" font-family=\"Times,serif\" font-size=\"14.00\">A</text>\n",
       "</g>\n",
       "<!-- 4833869440&#45;&gt;4833868144 -->\n",
       "<g id=\"edge4\" class=\"edge\">\n",
       "<title>4833869440&#45;&gt;4833868144</title>\n",
       "<path fill=\"none\" stroke=\"black\" d=\"M162.65,-72.76C158.29,-64.28 152.85,-53.71 147.96,-44.2\"/>\n",
       "<polygon fill=\"black\" stroke=\"black\" points=\"150.99,-42.44 143.3,-35.15 144.77,-45.64 150.99,-42.44\"/>\n",
       "</g>\n",
       "<!-- 4833868432 -->\n",
       "<g id=\"node8\" class=\"node\">\n",
       "<title>4833868432</title>\n",
       "<ellipse fill=\"none\" stroke=\"black\" cx=\"207\" cy=\"-18\" rx=\"27\" ry=\"18\"/>\n",
       "<text text-anchor=\"middle\" x=\"207\" y=\"-14.3\" font-family=\"Times,serif\" font-size=\"14.00\">D</text>\n",
       "</g>\n",
       "<!-- 4833869440&#45;&gt;4833868432 -->\n",
       "<g id=\"edge5\" class=\"edge\">\n",
       "<title>4833869440&#45;&gt;4833868432</title>\n",
       "<path fill=\"none\" stroke=\"black\" d=\"M179.35,-72.76C183.71,-64.28 189.15,-53.71 194.04,-44.2\"/>\n",
       "<polygon fill=\"black\" stroke=\"black\" points=\"197.23,-45.64 198.7,-35.15 191.01,-42.44 197.23,-45.64\"/>\n",
       "</g>\n",
       "</g>\n",
       "</svg>\n"
      ],
      "text/plain": [
       "<graphviz.dot.Digraph at 0x1202f7dc0>"
      ]
     },
     "execution_count": 50,
     "metadata": {},
     "output_type": "execute_result"
    }
   ],
   "source": [
    "print_tree(parent1)"
   ]
  },
  {
   "cell_type": "code",
   "execution_count": 51,
   "metadata": {
    "scrolled": true,
    "slideshow": {
     "slide_type": "subslide"
    }
   },
   "outputs": [
    {
     "data": {
      "image/svg+xml": [
       "<?xml version=\"1.0\" encoding=\"UTF-8\" standalone=\"no\"?>\n",
       "<!DOCTYPE svg PUBLIC \"-//W3C//DTD SVG 1.1//EN\"\n",
       " \"http://www.w3.org/Graphics/SVG/1.1/DTD/svg11.dtd\">\n",
       "<!-- Generated by graphviz version 2.44.1 (20200629.0846)\n",
       " -->\n",
       "<!-- Pages: 1 -->\n",
       "<svg width=\"278pt\" height=\"260pt\"\n",
       " viewBox=\"0.00 0.00 278.00 260.00\" xmlns=\"http://www.w3.org/2000/svg\" xmlns:xlink=\"http://www.w3.org/1999/xlink\">\n",
       "<g id=\"graph0\" class=\"graph\" transform=\"scale(1 1) rotate(0) translate(4 256)\">\n",
       "<polygon fill=\"white\" stroke=\"transparent\" points=\"-4,4 -4,-256 274,-256 274,4 -4,4\"/>\n",
       "<!-- 4834950208 -->\n",
       "<g id=\"node1\" class=\"node\">\n",
       "<title>4834950208</title>\n",
       "<ellipse fill=\"none\" stroke=\"black\" cx=\"135\" cy=\"-234\" rx=\"27\" ry=\"18\"/>\n",
       "<text text-anchor=\"middle\" x=\"135\" y=\"-230.3\" font-family=\"Times,serif\" font-size=\"14.00\">add</text>\n",
       "</g>\n",
       "<!-- 4834947856 -->\n",
       "<g id=\"node2\" class=\"node\">\n",
       "<title>4834947856</title>\n",
       "<ellipse fill=\"none\" stroke=\"black\" cx=\"99\" cy=\"-162\" rx=\"27\" ry=\"18\"/>\n",
       "<text text-anchor=\"middle\" x=\"99\" y=\"-158.3\" font-family=\"Times,serif\" font-size=\"14.00\">sub</text>\n",
       "</g>\n",
       "<!-- 4834950208&#45;&gt;4834947856 -->\n",
       "<g id=\"edge3\" class=\"edge\">\n",
       "<title>4834950208&#45;&gt;4834947856</title>\n",
       "<path fill=\"none\" stroke=\"black\" d=\"M126.65,-216.76C122.29,-208.28 116.85,-197.71 111.96,-188.2\"/>\n",
       "<polygon fill=\"black\" stroke=\"black\" points=\"114.99,-186.44 107.3,-179.15 108.77,-189.64 114.99,-186.44\"/>\n",
       "</g>\n",
       "<!-- 4835064656 -->\n",
       "<g id=\"node5\" class=\"node\">\n",
       "<title>4835064656</title>\n",
       "<ellipse fill=\"none\" stroke=\"black\" cx=\"171\" cy=\"-162\" rx=\"27\" ry=\"18\"/>\n",
       "<text text-anchor=\"middle\" x=\"171\" y=\"-158.3\" font-family=\"Times,serif\" font-size=\"14.00\">sub</text>\n",
       "</g>\n",
       "<!-- 4834950208&#45;&gt;4835064656 -->\n",
       "<g id=\"edge8\" class=\"edge\">\n",
       "<title>4834950208&#45;&gt;4835064656</title>\n",
       "<path fill=\"none\" stroke=\"black\" d=\"M143.35,-216.76C147.71,-208.28 153.15,-197.71 158.04,-188.2\"/>\n",
       "<polygon fill=\"black\" stroke=\"black\" points=\"161.23,-189.64 162.7,-179.15 155.01,-186.44 161.23,-189.64\"/>\n",
       "</g>\n",
       "<!-- 4834949248 -->\n",
       "<g id=\"node3\" class=\"node\">\n",
       "<title>4834949248</title>\n",
       "<ellipse fill=\"none\" stroke=\"black\" cx=\"27\" cy=\"-90\" rx=\"27\" ry=\"18\"/>\n",
       "<text text-anchor=\"middle\" x=\"27\" y=\"-86.3\" font-family=\"Times,serif\" font-size=\"14.00\">C</text>\n",
       "</g>\n",
       "<!-- 4834947856&#45;&gt;4834949248 -->\n",
       "<g id=\"edge1\" class=\"edge\">\n",
       "<title>4834947856&#45;&gt;4834949248</title>\n",
       "<path fill=\"none\" stroke=\"black\" d=\"M84.43,-146.83C74.25,-136.94 60.48,-123.55 48.97,-112.36\"/>\n",
       "<polygon fill=\"black\" stroke=\"black\" points=\"51.41,-109.85 41.8,-105.38 46.53,-114.87 51.41,-109.85\"/>\n",
       "</g>\n",
       "<!-- 4835064896 -->\n",
       "<g id=\"node4\" class=\"node\">\n",
       "<title>4835064896</title>\n",
       "<ellipse fill=\"none\" stroke=\"black\" cx=\"99\" cy=\"-90\" rx=\"27\" ry=\"18\"/>\n",
       "<text text-anchor=\"middle\" x=\"99\" y=\"-86.3\" font-family=\"Times,serif\" font-size=\"14.00\">0</text>\n",
       "</g>\n",
       "<!-- 4834947856&#45;&gt;4835064896 -->\n",
       "<g id=\"edge2\" class=\"edge\">\n",
       "<title>4834947856&#45;&gt;4835064896</title>\n",
       "<path fill=\"none\" stroke=\"black\" d=\"M99,-143.7C99,-135.98 99,-126.71 99,-118.11\"/>\n",
       "<polygon fill=\"black\" stroke=\"black\" points=\"102.5,-118.1 99,-108.1 95.5,-118.1 102.5,-118.1\"/>\n",
       "</g>\n",
       "<!-- 4835062016 -->\n",
       "<g id=\"node6\" class=\"node\">\n",
       "<title>4835062016</title>\n",
       "<ellipse fill=\"none\" stroke=\"black\" cx=\"171\" cy=\"-90\" rx=\"27\" ry=\"18\"/>\n",
       "<text text-anchor=\"middle\" x=\"171\" y=\"-86.3\" font-family=\"Times,serif\" font-size=\"14.00\">mul</text>\n",
       "</g>\n",
       "<!-- 4835064656&#45;&gt;4835062016 -->\n",
       "<g id=\"edge6\" class=\"edge\">\n",
       "<title>4835064656&#45;&gt;4835062016</title>\n",
       "<path fill=\"none\" stroke=\"black\" d=\"M171,-143.7C171,-135.98 171,-126.71 171,-118.11\"/>\n",
       "<polygon fill=\"black\" stroke=\"black\" points=\"174.5,-118.1 171,-108.1 167.5,-118.1 174.5,-118.1\"/>\n",
       "</g>\n",
       "<!-- 4835062208 -->\n",
       "<g id=\"node9\" class=\"node\">\n",
       "<title>4835062208</title>\n",
       "<ellipse fill=\"none\" stroke=\"black\" cx=\"243\" cy=\"-90\" rx=\"27\" ry=\"18\"/>\n",
       "<text text-anchor=\"middle\" x=\"243\" y=\"-86.3\" font-family=\"Times,serif\" font-size=\"14.00\">A</text>\n",
       "</g>\n",
       "<!-- 4835064656&#45;&gt;4835062208 -->\n",
       "<g id=\"edge7\" class=\"edge\">\n",
       "<title>4835064656&#45;&gt;4835062208</title>\n",
       "<path fill=\"none\" stroke=\"black\" d=\"M185.57,-146.83C195.75,-136.94 209.52,-123.55 221.03,-112.36\"/>\n",
       "<polygon fill=\"black\" stroke=\"black\" points=\"223.47,-114.87 228.2,-105.38 218.59,-109.85 223.47,-114.87\"/>\n",
       "</g>\n",
       "<!-- 4835061968 -->\n",
       "<g id=\"node7\" class=\"node\">\n",
       "<title>4835061968</title>\n",
       "<ellipse fill=\"none\" stroke=\"black\" cx=\"135\" cy=\"-18\" rx=\"27\" ry=\"18\"/>\n",
       "<text text-anchor=\"middle\" x=\"135\" y=\"-14.3\" font-family=\"Times,serif\" font-size=\"14.00\">A</text>\n",
       "</g>\n",
       "<!-- 4835062016&#45;&gt;4835061968 -->\n",
       "<g id=\"edge4\" class=\"edge\">\n",
       "<title>4835062016&#45;&gt;4835061968</title>\n",
       "<path fill=\"none\" stroke=\"black\" d=\"M162.65,-72.76C158.29,-64.28 152.85,-53.71 147.96,-44.2\"/>\n",
       "<polygon fill=\"black\" stroke=\"black\" points=\"150.99,-42.44 143.3,-35.15 144.77,-45.64 150.99,-42.44\"/>\n",
       "</g>\n",
       "<!-- 4835062160 -->\n",
       "<g id=\"node8\" class=\"node\">\n",
       "<title>4835062160</title>\n",
       "<ellipse fill=\"none\" stroke=\"black\" cx=\"207\" cy=\"-18\" rx=\"27\" ry=\"18\"/>\n",
       "<text text-anchor=\"middle\" x=\"207\" y=\"-14.3\" font-family=\"Times,serif\" font-size=\"14.00\">x</text>\n",
       "</g>\n",
       "<!-- 4835062016&#45;&gt;4835062160 -->\n",
       "<g id=\"edge5\" class=\"edge\">\n",
       "<title>4835062016&#45;&gt;4835062160</title>\n",
       "<path fill=\"none\" stroke=\"black\" d=\"M179.35,-72.76C183.71,-64.28 189.15,-53.71 194.04,-44.2\"/>\n",
       "<polygon fill=\"black\" stroke=\"black\" points=\"197.23,-45.64 198.7,-35.15 191.01,-42.44 197.23,-45.64\"/>\n",
       "</g>\n",
       "</g>\n",
       "</svg>\n"
      ],
      "text/plain": [
       "<graphviz.dot.Digraph at 0x1202f7190>"
      ]
     },
     "execution_count": 51,
     "metadata": {},
     "output_type": "execute_result"
    }
   ],
   "source": [
    "offspring = copy(parent1)\n",
    "shrink_mutation(offspring)\n",
    "print_tree(offspring)"
   ]
  },
  {
   "cell_type": "markdown",
   "metadata": {
    "slideshow": {
     "slide_type": "skip"
    }
   },
   "source": [
    "Size-fair subtree mutation first picks a random subtree, and then replaces that with a new random subtree that is at most as big as the replaced subtree:"
   ]
  },
  {
   "cell_type": "code",
   "execution_count": 52,
   "metadata": {
    "slideshow": {
     "slide_type": "slide"
    }
   },
   "outputs": [],
   "source": [
    "def sizefair_subtree_mutation(tree):\n",
    "    mutation_point = random.randint(1, size(tree))\n",
    "    replaced_tree = get_subtree_at(tree, Counter(mutation_point))\n",
    "    random_subtree = grow_random_tree(MAX_DEPTH - size(replaced_tree))\n",
    "    \n",
    "    insert_subtree_at(tree, random_subtree, Counter(mutation_point))"
   ]
  },
  {
   "cell_type": "code",
   "execution_count": 53,
   "metadata": {
    "scrolled": true,
    "slideshow": {
     "slide_type": "subslide"
    }
   },
   "outputs": [
    {
     "data": {
      "image/svg+xml": [
       "<?xml version=\"1.0\" encoding=\"UTF-8\" standalone=\"no\"?>\n",
       "<!DOCTYPE svg PUBLIC \"-//W3C//DTD SVG 1.1//EN\"\n",
       " \"http://www.w3.org/Graphics/SVG/1.1/DTD/svg11.dtd\">\n",
       "<!-- Generated by graphviz version 2.44.1 (20200629.0846)\n",
       " -->\n",
       "<!-- Pages: 1 -->\n",
       "<svg width=\"278pt\" height=\"332pt\"\n",
       " viewBox=\"0.00 0.00 278.00 332.00\" xmlns=\"http://www.w3.org/2000/svg\" xmlns:xlink=\"http://www.w3.org/1999/xlink\">\n",
       "<g id=\"graph0\" class=\"graph\" transform=\"scale(1 1) rotate(0) translate(4 328)\">\n",
       "<polygon fill=\"white\" stroke=\"transparent\" points=\"-4,4 -4,-328 274,-328 274,4 -4,4\"/>\n",
       "<!-- 4834950256 -->\n",
       "<g id=\"node1\" class=\"node\">\n",
       "<title>4834950256</title>\n",
       "<ellipse fill=\"none\" stroke=\"black\" cx=\"135\" cy=\"-306\" rx=\"27\" ry=\"18\"/>\n",
       "<text text-anchor=\"middle\" x=\"135\" y=\"-302.3\" font-family=\"Times,serif\" font-size=\"14.00\">add</text>\n",
       "</g>\n",
       "<!-- 4834950880 -->\n",
       "<g id=\"node2\" class=\"node\">\n",
       "<title>4834950880</title>\n",
       "<ellipse fill=\"none\" stroke=\"black\" cx=\"99\" cy=\"-234\" rx=\"27\" ry=\"18\"/>\n",
       "<text text-anchor=\"middle\" x=\"99\" y=\"-230.3\" font-family=\"Times,serif\" font-size=\"14.00\">sub</text>\n",
       "</g>\n",
       "<!-- 4834950256&#45;&gt;4834950880 -->\n",
       "<g id=\"edge3\" class=\"edge\">\n",
       "<title>4834950256&#45;&gt;4834950880</title>\n",
       "<path fill=\"none\" stroke=\"black\" d=\"M126.65,-288.76C122.29,-280.28 116.85,-269.71 111.96,-260.2\"/>\n",
       "<polygon fill=\"black\" stroke=\"black\" points=\"114.99,-258.44 107.3,-251.15 108.77,-261.64 114.99,-258.44\"/>\n",
       "</g>\n",
       "<!-- 4835065712 -->\n",
       "<g id=\"node5\" class=\"node\">\n",
       "<title>4835065712</title>\n",
       "<ellipse fill=\"none\" stroke=\"black\" cx=\"171\" cy=\"-234\" rx=\"27\" ry=\"18\"/>\n",
       "<text text-anchor=\"middle\" x=\"171\" y=\"-230.3\" font-family=\"Times,serif\" font-size=\"14.00\">sub</text>\n",
       "</g>\n",
       "<!-- 4834950256&#45;&gt;4835065712 -->\n",
       "<g id=\"edge10\" class=\"edge\">\n",
       "<title>4834950256&#45;&gt;4835065712</title>\n",
       "<path fill=\"none\" stroke=\"black\" d=\"M143.35,-288.76C147.71,-280.28 153.15,-269.71 158.04,-260.2\"/>\n",
       "<polygon fill=\"black\" stroke=\"black\" points=\"161.23,-261.64 162.7,-251.15 155.01,-258.44 161.23,-261.64\"/>\n",
       "</g>\n",
       "<!-- 4834949200 -->\n",
       "<g id=\"node3\" class=\"node\">\n",
       "<title>4834949200</title>\n",
       "<ellipse fill=\"none\" stroke=\"black\" cx=\"27\" cy=\"-162\" rx=\"27\" ry=\"18\"/>\n",
       "<text text-anchor=\"middle\" x=\"27\" y=\"-158.3\" font-family=\"Times,serif\" font-size=\"14.00\">C</text>\n",
       "</g>\n",
       "<!-- 4834950880&#45;&gt;4834949200 -->\n",
       "<g id=\"edge1\" class=\"edge\">\n",
       "<title>4834950880&#45;&gt;4834949200</title>\n",
       "<path fill=\"none\" stroke=\"black\" d=\"M84.43,-218.83C74.25,-208.94 60.48,-195.55 48.97,-184.36\"/>\n",
       "<polygon fill=\"black\" stroke=\"black\" points=\"51.41,-181.85 41.8,-177.38 46.53,-186.87 51.41,-181.85\"/>\n",
       "</g>\n",
       "<!-- 4835065616 -->\n",
       "<g id=\"node4\" class=\"node\">\n",
       "<title>4835065616</title>\n",
       "<ellipse fill=\"none\" stroke=\"black\" cx=\"99\" cy=\"-162\" rx=\"27\" ry=\"18\"/>\n",
       "<text text-anchor=\"middle\" x=\"99\" y=\"-158.3\" font-family=\"Times,serif\" font-size=\"14.00\">0</text>\n",
       "</g>\n",
       "<!-- 4834950880&#45;&gt;4835065616 -->\n",
       "<g id=\"edge2\" class=\"edge\">\n",
       "<title>4834950880&#45;&gt;4835065616</title>\n",
       "<path fill=\"none\" stroke=\"black\" d=\"M99,-215.7C99,-207.98 99,-198.71 99,-190.11\"/>\n",
       "<polygon fill=\"black\" stroke=\"black\" points=\"102.5,-190.1 99,-180.1 95.5,-190.1 102.5,-190.1\"/>\n",
       "</g>\n",
       "<!-- 4835062256 -->\n",
       "<g id=\"node6\" class=\"node\">\n",
       "<title>4835062256</title>\n",
       "<ellipse fill=\"none\" stroke=\"black\" cx=\"171\" cy=\"-162\" rx=\"27\" ry=\"18\"/>\n",
       "<text text-anchor=\"middle\" x=\"171\" y=\"-158.3\" font-family=\"Times,serif\" font-size=\"14.00\">mul</text>\n",
       "</g>\n",
       "<!-- 4835065712&#45;&gt;4835062256 -->\n",
       "<g id=\"edge8\" class=\"edge\">\n",
       "<title>4835065712&#45;&gt;4835062256</title>\n",
       "<path fill=\"none\" stroke=\"black\" d=\"M171,-215.7C171,-207.98 171,-198.71 171,-190.11\"/>\n",
       "<polygon fill=\"black\" stroke=\"black\" points=\"174.5,-190.1 171,-180.1 167.5,-190.1 174.5,-190.1\"/>\n",
       "</g>\n",
       "<!-- 4835063168 -->\n",
       "<g id=\"node11\" class=\"node\">\n",
       "<title>4835063168</title>\n",
       "<ellipse fill=\"none\" stroke=\"black\" cx=\"243\" cy=\"-162\" rx=\"27\" ry=\"18\"/>\n",
       "<text text-anchor=\"middle\" x=\"243\" y=\"-158.3\" font-family=\"Times,serif\" font-size=\"14.00\">A</text>\n",
       "</g>\n",
       "<!-- 4835065712&#45;&gt;4835063168 -->\n",
       "<g id=\"edge9\" class=\"edge\">\n",
       "<title>4835065712&#45;&gt;4835063168</title>\n",
       "<path fill=\"none\" stroke=\"black\" d=\"M185.57,-218.83C195.75,-208.94 209.52,-195.55 221.03,-184.36\"/>\n",
       "<polygon fill=\"black\" stroke=\"black\" points=\"223.47,-186.87 228.2,-177.38 218.59,-181.85 223.47,-186.87\"/>\n",
       "</g>\n",
       "<!-- 4835062592 -->\n",
       "<g id=\"node7\" class=\"node\">\n",
       "<title>4835062592</title>\n",
       "<ellipse fill=\"none\" stroke=\"black\" cx=\"135\" cy=\"-90\" rx=\"27\" ry=\"18\"/>\n",
       "<text text-anchor=\"middle\" x=\"135\" y=\"-86.3\" font-family=\"Times,serif\" font-size=\"14.00\">add</text>\n",
       "</g>\n",
       "<!-- 4835062256&#45;&gt;4835062592 -->\n",
       "<g id=\"edge6\" class=\"edge\">\n",
       "<title>4835062256&#45;&gt;4835062592</title>\n",
       "<path fill=\"none\" stroke=\"black\" d=\"M162.65,-144.76C158.29,-136.28 152.85,-125.71 147.96,-116.2\"/>\n",
       "<polygon fill=\"black\" stroke=\"black\" points=\"150.99,-114.44 143.3,-107.15 144.77,-117.64 150.99,-114.44\"/>\n",
       "</g>\n",
       "<!-- 4835062304 -->\n",
       "<g id=\"node10\" class=\"node\">\n",
       "<title>4835062304</title>\n",
       "<ellipse fill=\"none\" stroke=\"black\" cx=\"207\" cy=\"-90\" rx=\"27\" ry=\"18\"/>\n",
       "<text text-anchor=\"middle\" x=\"207\" y=\"-86.3\" font-family=\"Times,serif\" font-size=\"14.00\">D</text>\n",
       "</g>\n",
       "<!-- 4835062256&#45;&gt;4835062304 -->\n",
       "<g id=\"edge7\" class=\"edge\">\n",
       "<title>4835062256&#45;&gt;4835062304</title>\n",
       "<path fill=\"none\" stroke=\"black\" d=\"M179.35,-144.76C183.71,-136.28 189.15,-125.71 194.04,-116.2\"/>\n",
       "<polygon fill=\"black\" stroke=\"black\" points=\"197.23,-117.64 198.7,-107.15 191.01,-114.44 197.23,-117.64\"/>\n",
       "</g>\n",
       "<!-- 4834947808 -->\n",
       "<g id=\"node8\" class=\"node\">\n",
       "<title>4834947808</title>\n",
       "<ellipse fill=\"none\" stroke=\"black\" cx=\"99\" cy=\"-18\" rx=\"27\" ry=\"18\"/>\n",
       "<text text-anchor=\"middle\" x=\"99\" y=\"-14.3\" font-family=\"Times,serif\" font-size=\"14.00\">x</text>\n",
       "</g>\n",
       "<!-- 4835062592&#45;&gt;4834947808 -->\n",
       "<g id=\"edge4\" class=\"edge\">\n",
       "<title>4835062592&#45;&gt;4834947808</title>\n",
       "<path fill=\"none\" stroke=\"black\" d=\"M126.65,-72.76C122.29,-64.28 116.85,-53.71 111.96,-44.2\"/>\n",
       "<polygon fill=\"black\" stroke=\"black\" points=\"114.99,-42.44 107.3,-35.15 108.77,-45.64 114.99,-42.44\"/>\n",
       "</g>\n",
       "<!-- 4835064656 -->\n",
       "<g id=\"node9\" class=\"node\">\n",
       "<title>4835064656</title>\n",
       "<ellipse fill=\"none\" stroke=\"black\" cx=\"171\" cy=\"-18\" rx=\"27\" ry=\"18\"/>\n",
       "<text text-anchor=\"middle\" x=\"171\" y=\"-14.3\" font-family=\"Times,serif\" font-size=\"14.00\">1</text>\n",
       "</g>\n",
       "<!-- 4835062592&#45;&gt;4835064656 -->\n",
       "<g id=\"edge5\" class=\"edge\">\n",
       "<title>4835062592&#45;&gt;4835064656</title>\n",
       "<path fill=\"none\" stroke=\"black\" d=\"M143.35,-72.76C147.71,-64.28 153.15,-53.71 158.04,-44.2\"/>\n",
       "<polygon fill=\"black\" stroke=\"black\" points=\"161.23,-45.64 162.7,-35.15 155.01,-42.44 161.23,-45.64\"/>\n",
       "</g>\n",
       "</g>\n",
       "</svg>\n"
      ],
      "text/plain": [
       "<graphviz.dot.Digraph at 0x1202f7c40>"
      ]
     },
     "execution_count": 53,
     "metadata": {},
     "output_type": "execute_result"
    }
   ],
   "source": [
    "offspring = copy(parent1)\n",
    "sizefair_subtree_mutation(offspring)\n",
    "print_tree(offspring)"
   ]
  },
  {
   "cell_type": "markdown",
   "metadata": {
    "slideshow": {
     "slide_type": "skip"
    }
   },
   "source": [
    "Permutation mutation shuffles the order of arguments for functions with arity > 1:"
   ]
  },
  {
   "cell_type": "code",
   "execution_count": 54,
   "metadata": {
    "slideshow": {
     "slide_type": "slide"
    }
   },
   "outputs": [],
   "source": [
    "def permutation_mutation(tree):\n",
    "    if random.random() < P_mutate:\n",
    "        if tree.data in FUNCTIONS: \n",
    "            tree.left, tree.right = tree.right, tree.left\n",
    "    \n",
    "    if tree.left:\n",
    "        permutation_mutation(tree.left)\n",
    "    if tree.right:\n",
    "        permutation_mutation(tree.right)"
   ]
  },
  {
   "cell_type": "code",
   "execution_count": 55,
   "metadata": {
    "scrolled": true,
    "slideshow": {
     "slide_type": "subslide"
    }
   },
   "outputs": [
    {
     "data": {
      "image/svg+xml": [
       "<?xml version=\"1.0\" encoding=\"UTF-8\" standalone=\"no\"?>\n",
       "<!DOCTYPE svg PUBLIC \"-//W3C//DTD SVG 1.1//EN\"\n",
       " \"http://www.w3.org/Graphics/SVG/1.1/DTD/svg11.dtd\">\n",
       "<!-- Generated by graphviz version 2.44.1 (20200629.0846)\n",
       " -->\n",
       "<!-- Pages: 1 -->\n",
       "<svg width=\"314pt\" height=\"260pt\"\n",
       " viewBox=\"0.00 0.00 314.00 260.00\" xmlns=\"http://www.w3.org/2000/svg\" xmlns:xlink=\"http://www.w3.org/1999/xlink\">\n",
       "<g id=\"graph0\" class=\"graph\" transform=\"scale(1 1) rotate(0) translate(4 256)\">\n",
       "<polygon fill=\"white\" stroke=\"transparent\" points=\"-4,4 -4,-256 310,-256 310,4 -4,4\"/>\n",
       "<!-- 4835063552 -->\n",
       "<g id=\"node1\" class=\"node\">\n",
       "<title>4835063552</title>\n",
       "<ellipse fill=\"none\" stroke=\"black\" cx=\"171\" cy=\"-234\" rx=\"27\" ry=\"18\"/>\n",
       "<text text-anchor=\"middle\" x=\"171\" y=\"-230.3\" font-family=\"Times,serif\" font-size=\"14.00\">add</text>\n",
       "</g>\n",
       "<!-- 4835064176 -->\n",
       "<g id=\"node2\" class=\"node\">\n",
       "<title>4835064176</title>\n",
       "<ellipse fill=\"none\" stroke=\"black\" cx=\"135\" cy=\"-162\" rx=\"27\" ry=\"18\"/>\n",
       "<text text-anchor=\"middle\" x=\"135\" y=\"-158.3\" font-family=\"Times,serif\" font-size=\"14.00\">sub</text>\n",
       "</g>\n",
       "<!-- 4835063552&#45;&gt;4835064176 -->\n",
       "<g id=\"edge5\" class=\"edge\">\n",
       "<title>4835063552&#45;&gt;4835064176</title>\n",
       "<path fill=\"none\" stroke=\"black\" d=\"M162.65,-216.76C158.29,-208.28 152.85,-197.71 147.96,-188.2\"/>\n",
       "<polygon fill=\"black\" stroke=\"black\" points=\"150.99,-186.44 143.3,-179.15 144.77,-189.64 150.99,-186.44\"/>\n",
       "</g>\n",
       "<!-- 4835063456 -->\n",
       "<g id=\"node7\" class=\"node\">\n",
       "<title>4835063456</title>\n",
       "<ellipse fill=\"none\" stroke=\"black\" cx=\"207\" cy=\"-162\" rx=\"27\" ry=\"18\"/>\n",
       "<text text-anchor=\"middle\" x=\"207\" y=\"-158.3\" font-family=\"Times,serif\" font-size=\"14.00\">sub</text>\n",
       "</g>\n",
       "<!-- 4835063552&#45;&gt;4835063456 -->\n",
       "<g id=\"edge8\" class=\"edge\">\n",
       "<title>4835063552&#45;&gt;4835063456</title>\n",
       "<path fill=\"none\" stroke=\"black\" d=\"M179.35,-216.76C183.71,-208.28 189.15,-197.71 194.04,-188.2\"/>\n",
       "<polygon fill=\"black\" stroke=\"black\" points=\"197.23,-189.64 198.7,-179.15 191.01,-186.44 197.23,-189.64\"/>\n",
       "</g>\n",
       "<!-- 4835062784 -->\n",
       "<g id=\"node3\" class=\"node\">\n",
       "<title>4835062784</title>\n",
       "<ellipse fill=\"none\" stroke=\"black\" cx=\"63\" cy=\"-90\" rx=\"27\" ry=\"18\"/>\n",
       "<text text-anchor=\"middle\" x=\"63\" y=\"-86.3\" font-family=\"Times,serif\" font-size=\"14.00\">mul</text>\n",
       "</g>\n",
       "<!-- 4835064176&#45;&gt;4835062784 -->\n",
       "<g id=\"edge3\" class=\"edge\">\n",
       "<title>4835064176&#45;&gt;4835062784</title>\n",
       "<path fill=\"none\" stroke=\"black\" d=\"M120.43,-146.83C110.25,-136.94 96.48,-123.55 84.97,-112.36\"/>\n",
       "<polygon fill=\"black\" stroke=\"black\" points=\"87.41,-109.85 77.8,-105.38 82.53,-114.87 87.41,-109.85\"/>\n",
       "</g>\n",
       "<!-- 4835064608 -->\n",
       "<g id=\"node6\" class=\"node\">\n",
       "<title>4835064608</title>\n",
       "<ellipse fill=\"none\" stroke=\"black\" cx=\"135\" cy=\"-90\" rx=\"27\" ry=\"18\"/>\n",
       "<text text-anchor=\"middle\" x=\"135\" y=\"-86.3\" font-family=\"Times,serif\" font-size=\"14.00\">A</text>\n",
       "</g>\n",
       "<!-- 4835064176&#45;&gt;4835064608 -->\n",
       "<g id=\"edge4\" class=\"edge\">\n",
       "<title>4835064176&#45;&gt;4835064608</title>\n",
       "<path fill=\"none\" stroke=\"black\" d=\"M135,-143.7C135,-135.98 135,-126.71 135,-118.11\"/>\n",
       "<polygon fill=\"black\" stroke=\"black\" points=\"138.5,-118.1 135,-108.1 131.5,-118.1 138.5,-118.1\"/>\n",
       "</g>\n",
       "<!-- 4835063840 -->\n",
       "<g id=\"node4\" class=\"node\">\n",
       "<title>4835063840</title>\n",
       "<ellipse fill=\"none\" stroke=\"black\" cx=\"27\" cy=\"-18\" rx=\"27\" ry=\"18\"/>\n",
       "<text text-anchor=\"middle\" x=\"27\" y=\"-14.3\" font-family=\"Times,serif\" font-size=\"14.00\">A</text>\n",
       "</g>\n",
       "<!-- 4835062784&#45;&gt;4835063840 -->\n",
       "<g id=\"edge1\" class=\"edge\">\n",
       "<title>4835062784&#45;&gt;4835063840</title>\n",
       "<path fill=\"none\" stroke=\"black\" d=\"M54.65,-72.76C50.29,-64.28 44.85,-53.71 39.96,-44.2\"/>\n",
       "<polygon fill=\"black\" stroke=\"black\" points=\"42.99,-42.44 35.3,-35.15 36.77,-45.64 42.99,-42.44\"/>\n",
       "</g>\n",
       "<!-- 4835064704 -->\n",
       "<g id=\"node5\" class=\"node\">\n",
       "<title>4835064704</title>\n",
       "<ellipse fill=\"none\" stroke=\"black\" cx=\"99\" cy=\"-18\" rx=\"27\" ry=\"18\"/>\n",
       "<text text-anchor=\"middle\" x=\"99\" y=\"-14.3\" font-family=\"Times,serif\" font-size=\"14.00\">D</text>\n",
       "</g>\n",
       "<!-- 4835062784&#45;&gt;4835064704 -->\n",
       "<g id=\"edge2\" class=\"edge\">\n",
       "<title>4835062784&#45;&gt;4835064704</title>\n",
       "<path fill=\"none\" stroke=\"black\" d=\"M71.35,-72.76C75.71,-64.28 81.15,-53.71 86.04,-44.2\"/>\n",
       "<polygon fill=\"black\" stroke=\"black\" points=\"89.23,-45.64 90.7,-35.15 83.01,-42.44 89.23,-45.64\"/>\n",
       "</g>\n",
       "<!-- 4835062736 -->\n",
       "<g id=\"node8\" class=\"node\">\n",
       "<title>4835062736</title>\n",
       "<ellipse fill=\"none\" stroke=\"black\" cx=\"207\" cy=\"-90\" rx=\"27\" ry=\"18\"/>\n",
       "<text text-anchor=\"middle\" x=\"207\" y=\"-86.3\" font-family=\"Times,serif\" font-size=\"14.00\">C</text>\n",
       "</g>\n",
       "<!-- 4835063456&#45;&gt;4835062736 -->\n",
       "<g id=\"edge6\" class=\"edge\">\n",
       "<title>4835063456&#45;&gt;4835062736</title>\n",
       "<path fill=\"none\" stroke=\"black\" d=\"M207,-143.7C207,-135.98 207,-126.71 207,-118.11\"/>\n",
       "<polygon fill=\"black\" stroke=\"black\" points=\"210.5,-118.1 207,-108.1 203.5,-118.1 210.5,-118.1\"/>\n",
       "</g>\n",
       "<!-- 4835063600 -->\n",
       "<g id=\"node9\" class=\"node\">\n",
       "<title>4835063600</title>\n",
       "<ellipse fill=\"none\" stroke=\"black\" cx=\"279\" cy=\"-90\" rx=\"27\" ry=\"18\"/>\n",
       "<text text-anchor=\"middle\" x=\"279\" y=\"-86.3\" font-family=\"Times,serif\" font-size=\"14.00\">0</text>\n",
       "</g>\n",
       "<!-- 4835063456&#45;&gt;4835063600 -->\n",
       "<g id=\"edge7\" class=\"edge\">\n",
       "<title>4835063456&#45;&gt;4835063600</title>\n",
       "<path fill=\"none\" stroke=\"black\" d=\"M221.57,-146.83C231.75,-136.94 245.52,-123.55 257.03,-112.36\"/>\n",
       "<polygon fill=\"black\" stroke=\"black\" points=\"259.47,-114.87 264.2,-105.38 254.59,-109.85 259.47,-114.87\"/>\n",
       "</g>\n",
       "</g>\n",
       "</svg>\n"
      ],
      "text/plain": [
       "<graphviz.dot.Digraph at 0x120313f70>"
      ]
     },
     "execution_count": 55,
     "metadata": {},
     "output_type": "execute_result"
    }
   ],
   "source": [
    "offspring = copy(parent1)\n",
    "permutation_mutation(offspring)\n",
    "print_tree(offspring)"
   ]
  },
  {
   "cell_type": "markdown",
   "metadata": {
    "slideshow": {
     "slide_type": "skip"
    }
   },
   "source": [
    "There is also a size-fair variant of the crossover operator we defined earlier: We first pick a random crossover point in the first parent. Then, we pick a subtree in the other parent that is not larger than the subtree in the first parent, and perform the crossover with this. We thus define a helper function that gives us all valid positions with subtrees of a maximum size:"
   ]
  },
  {
   "cell_type": "code",
   "execution_count": 56,
   "metadata": {
    "slideshow": {
     "slide_type": "slide"
    }
   },
   "outputs": [],
   "source": [
    "def get_smaller_subtree_positions(tree, max_size, positions, counter):\n",
    "    if size(tree) <= max_size:\n",
    "        positions.append(counter.get_value())\n",
    "    counter.increase()\n",
    "    \n",
    "    if tree.left:\n",
    "        get_smaller_subtree_positions(tree.left, max_size, positions, counter)\n",
    "    if tree.right:\n",
    "        get_smaller_subtree_positions(tree.right, max_size, positions, counter)"
   ]
  },
  {
   "cell_type": "markdown",
   "metadata": {
    "slideshow": {
     "slide_type": "skip"
    }
   },
   "source": [
    "We apply this helper function by simply randomly picking one of the valid positions during crossover:"
   ]
  },
  {
   "cell_type": "code",
   "execution_count": 57,
   "metadata": {
    "slideshow": {
     "slide_type": "slide"
    }
   },
   "outputs": [],
   "source": [
    "def sizefair_crossover(parent1, parent2):\n",
    "    \n",
    "    # First pick a crossover point in parent1\n",
    "    pos1 = 1\n",
    "    if size(parent1) > 1:\n",
    "        pos1 = random.randint(1, size(parent1) - 1)\n",
    "\n",
    "    # Then select a subtree that isn't larger than what is being replaced from parent2\n",
    "    subtree = get_subtree_at(parent1, Counter(pos1))\n",
    "    subtree_size = size(subtree)    \n",
    "    positions = []\n",
    "    get_smaller_subtree_positions(parent2, subtree_size, positions, Counter(1))\n",
    "    pos2 = random.choice(positions)\n",
    "    subtree = get_subtree_at(parent2, Counter(pos2))\n",
    "    \n",
    "    # Then insert that into parent1\n",
    "    offspring = copy(parent1)\n",
    "    insert_subtree_at(offspring, subtree, Counter(pos1))\n",
    "    \n",
    "    assert size(offspring) <= size(parent1)\n",
    "    \n",
    "    return offspring"
   ]
  },
  {
   "cell_type": "code",
   "execution_count": 58,
   "metadata": {
    "slideshow": {
     "slide_type": "subslide"
    }
   },
   "outputs": [
    {
     "data": {
      "image/svg+xml": [
       "<?xml version=\"1.0\" encoding=\"UTF-8\" standalone=\"no\"?>\n",
       "<!DOCTYPE svg PUBLIC \"-//W3C//DTD SVG 1.1//EN\"\n",
       " \"http://www.w3.org/Graphics/SVG/1.1/DTD/svg11.dtd\">\n",
       "<!-- Generated by graphviz version 2.44.1 (20200629.0846)\n",
       " -->\n",
       "<!-- Pages: 1 -->\n",
       "<svg width=\"278pt\" height=\"260pt\"\n",
       " viewBox=\"0.00 0.00 278.00 260.00\" xmlns=\"http://www.w3.org/2000/svg\" xmlns:xlink=\"http://www.w3.org/1999/xlink\">\n",
       "<g id=\"graph0\" class=\"graph\" transform=\"scale(1 1) rotate(0) translate(4 256)\">\n",
       "<polygon fill=\"white\" stroke=\"transparent\" points=\"-4,4 -4,-256 274,-256 274,4 -4,4\"/>\n",
       "<!-- 4832855136 -->\n",
       "<g id=\"node1\" class=\"node\">\n",
       "<title>4832855136</title>\n",
       "<ellipse fill=\"none\" stroke=\"black\" cx=\"135\" cy=\"-234\" rx=\"27\" ry=\"18\"/>\n",
       "<text text-anchor=\"middle\" x=\"135\" y=\"-230.3\" font-family=\"Times,serif\" font-size=\"14.00\">add</text>\n",
       "</g>\n",
       "<!-- 4833439904 -->\n",
       "<g id=\"node2\" class=\"node\">\n",
       "<title>4833439904</title>\n",
       "<ellipse fill=\"none\" stroke=\"black\" cx=\"99\" cy=\"-162\" rx=\"27\" ry=\"18\"/>\n",
       "<text text-anchor=\"middle\" x=\"99\" y=\"-158.3\" font-family=\"Times,serif\" font-size=\"14.00\">sub</text>\n",
       "</g>\n",
       "<!-- 4832855136&#45;&gt;4833439904 -->\n",
       "<g id=\"edge3\" class=\"edge\">\n",
       "<title>4832855136&#45;&gt;4833439904</title>\n",
       "<path fill=\"none\" stroke=\"black\" d=\"M126.65,-216.76C122.29,-208.28 116.85,-197.71 111.96,-188.2\"/>\n",
       "<polygon fill=\"black\" stroke=\"black\" points=\"114.99,-186.44 107.3,-179.15 108.77,-189.64 114.99,-186.44\"/>\n",
       "</g>\n",
       "<!-- 4833869248 -->\n",
       "<g id=\"node5\" class=\"node\">\n",
       "<title>4833869248</title>\n",
       "<ellipse fill=\"none\" stroke=\"black\" cx=\"171\" cy=\"-162\" rx=\"27\" ry=\"18\"/>\n",
       "<text text-anchor=\"middle\" x=\"171\" y=\"-158.3\" font-family=\"Times,serif\" font-size=\"14.00\">sub</text>\n",
       "</g>\n",
       "<!-- 4832855136&#45;&gt;4833869248 -->\n",
       "<g id=\"edge8\" class=\"edge\">\n",
       "<title>4832855136&#45;&gt;4833869248</title>\n",
       "<path fill=\"none\" stroke=\"black\" d=\"M143.35,-216.76C147.71,-208.28 153.15,-197.71 158.04,-188.2\"/>\n",
       "<polygon fill=\"black\" stroke=\"black\" points=\"161.23,-189.64 162.7,-179.15 155.01,-186.44 161.23,-189.64\"/>\n",
       "</g>\n",
       "<!-- 4833440528 -->\n",
       "<g id=\"node3\" class=\"node\">\n",
       "<title>4833440528</title>\n",
       "<ellipse fill=\"none\" stroke=\"black\" cx=\"27\" cy=\"-90\" rx=\"27\" ry=\"18\"/>\n",
       "<text text-anchor=\"middle\" x=\"27\" y=\"-86.3\" font-family=\"Times,serif\" font-size=\"14.00\">C</text>\n",
       "</g>\n",
       "<!-- 4833439904&#45;&gt;4833440528 -->\n",
       "<g id=\"edge1\" class=\"edge\">\n",
       "<title>4833439904&#45;&gt;4833440528</title>\n",
       "<path fill=\"none\" stroke=\"black\" d=\"M84.43,-146.83C74.25,-136.94 60.48,-123.55 48.97,-112.36\"/>\n",
       "<polygon fill=\"black\" stroke=\"black\" points=\"51.41,-109.85 41.8,-105.38 46.53,-114.87 51.41,-109.85\"/>\n",
       "</g>\n",
       "<!-- 4833868336 -->\n",
       "<g id=\"node4\" class=\"node\">\n",
       "<title>4833868336</title>\n",
       "<ellipse fill=\"none\" stroke=\"black\" cx=\"99\" cy=\"-90\" rx=\"27\" ry=\"18\"/>\n",
       "<text text-anchor=\"middle\" x=\"99\" y=\"-86.3\" font-family=\"Times,serif\" font-size=\"14.00\">0</text>\n",
       "</g>\n",
       "<!-- 4833439904&#45;&gt;4833868336 -->\n",
       "<g id=\"edge2\" class=\"edge\">\n",
       "<title>4833439904&#45;&gt;4833868336</title>\n",
       "<path fill=\"none\" stroke=\"black\" d=\"M99,-143.7C99,-135.98 99,-126.71 99,-118.11\"/>\n",
       "<polygon fill=\"black\" stroke=\"black\" points=\"102.5,-118.1 99,-108.1 95.5,-118.1 102.5,-118.1\"/>\n",
       "</g>\n",
       "<!-- 4833869440 -->\n",
       "<g id=\"node6\" class=\"node\">\n",
       "<title>4833869440</title>\n",
       "<ellipse fill=\"none\" stroke=\"black\" cx=\"171\" cy=\"-90\" rx=\"27\" ry=\"18\"/>\n",
       "<text text-anchor=\"middle\" x=\"171\" y=\"-86.3\" font-family=\"Times,serif\" font-size=\"14.00\">mul</text>\n",
       "</g>\n",
       "<!-- 4833869248&#45;&gt;4833869440 -->\n",
       "<g id=\"edge6\" class=\"edge\">\n",
       "<title>4833869248&#45;&gt;4833869440</title>\n",
       "<path fill=\"none\" stroke=\"black\" d=\"M171,-143.7C171,-135.98 171,-126.71 171,-118.11\"/>\n",
       "<polygon fill=\"black\" stroke=\"black\" points=\"174.5,-118.1 171,-108.1 167.5,-118.1 174.5,-118.1\"/>\n",
       "</g>\n",
       "<!-- 4833868624 -->\n",
       "<g id=\"node9\" class=\"node\">\n",
       "<title>4833868624</title>\n",
       "<ellipse fill=\"none\" stroke=\"black\" cx=\"243\" cy=\"-90\" rx=\"27\" ry=\"18\"/>\n",
       "<text text-anchor=\"middle\" x=\"243\" y=\"-86.3\" font-family=\"Times,serif\" font-size=\"14.00\">A</text>\n",
       "</g>\n",
       "<!-- 4833869248&#45;&gt;4833868624 -->\n",
       "<g id=\"edge7\" class=\"edge\">\n",
       "<title>4833869248&#45;&gt;4833868624</title>\n",
       "<path fill=\"none\" stroke=\"black\" d=\"M185.57,-146.83C195.75,-136.94 209.52,-123.55 221.03,-112.36\"/>\n",
       "<polygon fill=\"black\" stroke=\"black\" points=\"223.47,-114.87 228.2,-105.38 218.59,-109.85 223.47,-114.87\"/>\n",
       "</g>\n",
       "<!-- 4833868144 -->\n",
       "<g id=\"node7\" class=\"node\">\n",
       "<title>4833868144</title>\n",
       "<ellipse fill=\"none\" stroke=\"black\" cx=\"135\" cy=\"-18\" rx=\"27\" ry=\"18\"/>\n",
       "<text text-anchor=\"middle\" x=\"135\" y=\"-14.3\" font-family=\"Times,serif\" font-size=\"14.00\">A</text>\n",
       "</g>\n",
       "<!-- 4833869440&#45;&gt;4833868144 -->\n",
       "<g id=\"edge4\" class=\"edge\">\n",
       "<title>4833869440&#45;&gt;4833868144</title>\n",
       "<path fill=\"none\" stroke=\"black\" d=\"M162.65,-72.76C158.29,-64.28 152.85,-53.71 147.96,-44.2\"/>\n",
       "<polygon fill=\"black\" stroke=\"black\" points=\"150.99,-42.44 143.3,-35.15 144.77,-45.64 150.99,-42.44\"/>\n",
       "</g>\n",
       "<!-- 4833868432 -->\n",
       "<g id=\"node8\" class=\"node\">\n",
       "<title>4833868432</title>\n",
       "<ellipse fill=\"none\" stroke=\"black\" cx=\"207\" cy=\"-18\" rx=\"27\" ry=\"18\"/>\n",
       "<text text-anchor=\"middle\" x=\"207\" y=\"-14.3\" font-family=\"Times,serif\" font-size=\"14.00\">D</text>\n",
       "</g>\n",
       "<!-- 4833869440&#45;&gt;4833868432 -->\n",
       "<g id=\"edge5\" class=\"edge\">\n",
       "<title>4833869440&#45;&gt;4833868432</title>\n",
       "<path fill=\"none\" stroke=\"black\" d=\"M179.35,-72.76C183.71,-64.28 189.15,-53.71 194.04,-44.2\"/>\n",
       "<polygon fill=\"black\" stroke=\"black\" points=\"197.23,-45.64 198.7,-35.15 191.01,-42.44 197.23,-45.64\"/>\n",
       "</g>\n",
       "</g>\n",
       "</svg>\n"
      ],
      "text/plain": [
       "<graphviz.dot.Digraph at 0x120313fa0>"
      ]
     },
     "execution_count": 58,
     "metadata": {},
     "output_type": "execute_result"
    }
   ],
   "source": [
    "print_tree(parent1)"
   ]
  },
  {
   "cell_type": "code",
   "execution_count": 59,
   "metadata": {
    "slideshow": {
     "slide_type": "subslide"
    }
   },
   "outputs": [
    {
     "data": {
      "image/svg+xml": [
       "<?xml version=\"1.0\" encoding=\"UTF-8\" standalone=\"no\"?>\n",
       "<!DOCTYPE svg PUBLIC \"-//W3C//DTD SVG 1.1//EN\"\n",
       " \"http://www.w3.org/Graphics/SVG/1.1/DTD/svg11.dtd\">\n",
       "<!-- Generated by graphviz version 2.44.1 (20200629.0846)\n",
       " -->\n",
       "<!-- Pages: 1 -->\n",
       "<svg width=\"278pt\" height=\"260pt\"\n",
       " viewBox=\"0.00 0.00 278.00 260.00\" xmlns=\"http://www.w3.org/2000/svg\" xmlns:xlink=\"http://www.w3.org/1999/xlink\">\n",
       "<g id=\"graph0\" class=\"graph\" transform=\"scale(1 1) rotate(0) translate(4 256)\">\n",
       "<polygon fill=\"white\" stroke=\"transparent\" points=\"-4,4 -4,-256 274,-256 274,4 -4,4\"/>\n",
       "<!-- 4833868480 -->\n",
       "<g id=\"node1\" class=\"node\">\n",
       "<title>4833868480</title>\n",
       "<ellipse fill=\"none\" stroke=\"black\" cx=\"135\" cy=\"-234\" rx=\"27\" ry=\"18\"/>\n",
       "<text text-anchor=\"middle\" x=\"135\" y=\"-230.3\" font-family=\"Times,serif\" font-size=\"14.00\">sub</text>\n",
       "</g>\n",
       "<!-- 4832763856 -->\n",
       "<g id=\"node2\" class=\"node\">\n",
       "<title>4832763856</title>\n",
       "<ellipse fill=\"none\" stroke=\"black\" cx=\"99\" cy=\"-162\" rx=\"27\" ry=\"18\"/>\n",
       "<text text-anchor=\"middle\" x=\"99\" y=\"-158.3\" font-family=\"Times,serif\" font-size=\"14.00\">sub</text>\n",
       "</g>\n",
       "<!-- 4833868480&#45;&gt;4832763856 -->\n",
       "<g id=\"edge3\" class=\"edge\">\n",
       "<title>4833868480&#45;&gt;4832763856</title>\n",
       "<path fill=\"none\" stroke=\"black\" d=\"M126.65,-216.76C122.29,-208.28 116.85,-197.71 111.96,-188.2\"/>\n",
       "<polygon fill=\"black\" stroke=\"black\" points=\"114.99,-186.44 107.3,-179.15 108.77,-189.64 114.99,-186.44\"/>\n",
       "</g>\n",
       "<!-- 4832763712 -->\n",
       "<g id=\"node5\" class=\"node\">\n",
       "<title>4832763712</title>\n",
       "<ellipse fill=\"none\" stroke=\"black\" cx=\"171\" cy=\"-162\" rx=\"27\" ry=\"18\"/>\n",
       "<text text-anchor=\"middle\" x=\"171\" y=\"-158.3\" font-family=\"Times,serif\" font-size=\"14.00\">add</text>\n",
       "</g>\n",
       "<!-- 4833868480&#45;&gt;4832763712 -->\n",
       "<g id=\"edge8\" class=\"edge\">\n",
       "<title>4833868480&#45;&gt;4832763712</title>\n",
       "<path fill=\"none\" stroke=\"black\" d=\"M143.35,-216.76C147.71,-208.28 153.15,-197.71 158.04,-188.2\"/>\n",
       "<polygon fill=\"black\" stroke=\"black\" points=\"161.23,-189.64 162.7,-179.15 155.01,-186.44 161.23,-189.64\"/>\n",
       "</g>\n",
       "<!-- 4832761360 -->\n",
       "<g id=\"node3\" class=\"node\">\n",
       "<title>4832761360</title>\n",
       "<ellipse fill=\"none\" stroke=\"black\" cx=\"27\" cy=\"-90\" rx=\"27\" ry=\"18\"/>\n",
       "<text text-anchor=\"middle\" x=\"27\" y=\"-86.3\" font-family=\"Times,serif\" font-size=\"14.00\">&#45;3</text>\n",
       "</g>\n",
       "<!-- 4832763856&#45;&gt;4832761360 -->\n",
       "<g id=\"edge1\" class=\"edge\">\n",
       "<title>4832763856&#45;&gt;4832761360</title>\n",
       "<path fill=\"none\" stroke=\"black\" d=\"M84.43,-146.83C74.25,-136.94 60.48,-123.55 48.97,-112.36\"/>\n",
       "<polygon fill=\"black\" stroke=\"black\" points=\"51.41,-109.85 41.8,-105.38 46.53,-114.87 51.41,-109.85\"/>\n",
       "</g>\n",
       "<!-- 4832763136 -->\n",
       "<g id=\"node4\" class=\"node\">\n",
       "<title>4832763136</title>\n",
       "<ellipse fill=\"none\" stroke=\"black\" cx=\"99\" cy=\"-90\" rx=\"27\" ry=\"18\"/>\n",
       "<text text-anchor=\"middle\" x=\"99\" y=\"-86.3\" font-family=\"Times,serif\" font-size=\"14.00\">C</text>\n",
       "</g>\n",
       "<!-- 4832763856&#45;&gt;4832763136 -->\n",
       "<g id=\"edge2\" class=\"edge\">\n",
       "<title>4832763856&#45;&gt;4832763136</title>\n",
       "<path fill=\"none\" stroke=\"black\" d=\"M99,-143.7C99,-135.98 99,-126.71 99,-118.11\"/>\n",
       "<polygon fill=\"black\" stroke=\"black\" points=\"102.5,-118.1 99,-108.1 95.5,-118.1 102.5,-118.1\"/>\n",
       "</g>\n",
       "<!-- 4832760976 -->\n",
       "<g id=\"node6\" class=\"node\">\n",
       "<title>4832760976</title>\n",
       "<ellipse fill=\"none\" stroke=\"black\" cx=\"171\" cy=\"-90\" rx=\"27\" ry=\"18\"/>\n",
       "<text text-anchor=\"middle\" x=\"171\" y=\"-86.3\" font-family=\"Times,serif\" font-size=\"14.00\">mul</text>\n",
       "</g>\n",
       "<!-- 4832763712&#45;&gt;4832760976 -->\n",
       "<g id=\"edge6\" class=\"edge\">\n",
       "<title>4832763712&#45;&gt;4832760976</title>\n",
       "<path fill=\"none\" stroke=\"black\" d=\"M171,-143.7C171,-135.98 171,-126.71 171,-118.11\"/>\n",
       "<polygon fill=\"black\" stroke=\"black\" points=\"174.5,-118.1 171,-108.1 167.5,-118.1 174.5,-118.1\"/>\n",
       "</g>\n",
       "<!-- 4832400960 -->\n",
       "<g id=\"node9\" class=\"node\">\n",
       "<title>4832400960</title>\n",
       "<ellipse fill=\"none\" stroke=\"black\" cx=\"243\" cy=\"-90\" rx=\"27\" ry=\"18\"/>\n",
       "<text text-anchor=\"middle\" x=\"243\" y=\"-86.3\" font-family=\"Times,serif\" font-size=\"14.00\">A</text>\n",
       "</g>\n",
       "<!-- 4832763712&#45;&gt;4832400960 -->\n",
       "<g id=\"edge7\" class=\"edge\">\n",
       "<title>4832763712&#45;&gt;4832400960</title>\n",
       "<path fill=\"none\" stroke=\"black\" d=\"M185.57,-146.83C195.75,-136.94 209.52,-123.55 221.03,-112.36\"/>\n",
       "<polygon fill=\"black\" stroke=\"black\" points=\"223.47,-114.87 228.2,-105.38 218.59,-109.85 223.47,-114.87\"/>\n",
       "</g>\n",
       "<!-- 4832402208 -->\n",
       "<g id=\"node7\" class=\"node\">\n",
       "<title>4832402208</title>\n",
       "<ellipse fill=\"none\" stroke=\"black\" cx=\"135\" cy=\"-18\" rx=\"27\" ry=\"18\"/>\n",
       "<text text-anchor=\"middle\" x=\"135\" y=\"-14.3\" font-family=\"Times,serif\" font-size=\"14.00\">C</text>\n",
       "</g>\n",
       "<!-- 4832760976&#45;&gt;4832402208 -->\n",
       "<g id=\"edge4\" class=\"edge\">\n",
       "<title>4832760976&#45;&gt;4832402208</title>\n",
       "<path fill=\"none\" stroke=\"black\" d=\"M162.65,-72.76C158.29,-64.28 152.85,-53.71 147.96,-44.2\"/>\n",
       "<polygon fill=\"black\" stroke=\"black\" points=\"150.99,-42.44 143.3,-35.15 144.77,-45.64 150.99,-42.44\"/>\n",
       "</g>\n",
       "<!-- 4832401632 -->\n",
       "<g id=\"node8\" class=\"node\">\n",
       "<title>4832401632</title>\n",
       "<ellipse fill=\"none\" stroke=\"black\" cx=\"207\" cy=\"-18\" rx=\"27\" ry=\"18\"/>\n",
       "<text text-anchor=\"middle\" x=\"207\" y=\"-14.3\" font-family=\"Times,serif\" font-size=\"14.00\">&#45;5</text>\n",
       "</g>\n",
       "<!-- 4832760976&#45;&gt;4832401632 -->\n",
       "<g id=\"edge5\" class=\"edge\">\n",
       "<title>4832760976&#45;&gt;4832401632</title>\n",
       "<path fill=\"none\" stroke=\"black\" d=\"M179.35,-72.76C183.71,-64.28 189.15,-53.71 194.04,-44.2\"/>\n",
       "<polygon fill=\"black\" stroke=\"black\" points=\"197.23,-45.64 198.7,-35.15 191.01,-42.44 197.23,-45.64\"/>\n",
       "</g>\n",
       "</g>\n",
       "</svg>\n"
      ],
      "text/plain": [
       "<graphviz.dot.Digraph at 0x1203135b0>"
      ]
     },
     "execution_count": 59,
     "metadata": {},
     "output_type": "execute_result"
    }
   ],
   "source": [
    "print_tree(parent2)"
   ]
  },
  {
   "cell_type": "code",
   "execution_count": 60,
   "metadata": {
    "scrolled": true,
    "slideshow": {
     "slide_type": "subslide"
    }
   },
   "outputs": [
    {
     "data": {
      "image/svg+xml": [
       "<?xml version=\"1.0\" encoding=\"UTF-8\" standalone=\"no\"?>\n",
       "<!DOCTYPE svg PUBLIC \"-//W3C//DTD SVG 1.1//EN\"\n",
       " \"http://www.w3.org/Graphics/SVG/1.1/DTD/svg11.dtd\">\n",
       "<!-- Generated by graphviz version 2.44.1 (20200629.0846)\n",
       " -->\n",
       "<!-- Pages: 1 -->\n",
       "<svg width=\"278pt\" height=\"260pt\"\n",
       " viewBox=\"0.00 0.00 278.00 260.00\" xmlns=\"http://www.w3.org/2000/svg\" xmlns:xlink=\"http://www.w3.org/1999/xlink\">\n",
       "<g id=\"graph0\" class=\"graph\" transform=\"scale(1 1) rotate(0) translate(4 256)\">\n",
       "<polygon fill=\"white\" stroke=\"transparent\" points=\"-4,4 -4,-256 274,-256 274,4 -4,4\"/>\n",
       "<!-- 4835062208 -->\n",
       "<g id=\"node1\" class=\"node\">\n",
       "<title>4835062208</title>\n",
       "<ellipse fill=\"none\" stroke=\"black\" cx=\"135\" cy=\"-234\" rx=\"27\" ry=\"18\"/>\n",
       "<text text-anchor=\"middle\" x=\"135\" y=\"-230.3\" font-family=\"Times,serif\" font-size=\"14.00\">add</text>\n",
       "</g>\n",
       "<!-- 4835065664 -->\n",
       "<g id=\"node2\" class=\"node\">\n",
       "<title>4835065664</title>\n",
       "<ellipse fill=\"none\" stroke=\"black\" cx=\"99\" cy=\"-162\" rx=\"27\" ry=\"18\"/>\n",
       "<text text-anchor=\"middle\" x=\"99\" y=\"-158.3\" font-family=\"Times,serif\" font-size=\"14.00\">sub</text>\n",
       "</g>\n",
       "<!-- 4835062208&#45;&gt;4835065664 -->\n",
       "<g id=\"edge3\" class=\"edge\">\n",
       "<title>4835062208&#45;&gt;4835065664</title>\n",
       "<path fill=\"none\" stroke=\"black\" d=\"M126.65,-216.76C122.29,-208.28 116.85,-197.71 111.96,-188.2\"/>\n",
       "<polygon fill=\"black\" stroke=\"black\" points=\"114.99,-186.44 107.3,-179.15 108.77,-189.64 114.99,-186.44\"/>\n",
       "</g>\n",
       "<!-- 4835160128 -->\n",
       "<g id=\"node5\" class=\"node\">\n",
       "<title>4835160128</title>\n",
       "<ellipse fill=\"none\" stroke=\"black\" cx=\"171\" cy=\"-162\" rx=\"27\" ry=\"18\"/>\n",
       "<text text-anchor=\"middle\" x=\"171\" y=\"-158.3\" font-family=\"Times,serif\" font-size=\"14.00\">sub</text>\n",
       "</g>\n",
       "<!-- 4835062208&#45;&gt;4835160128 -->\n",
       "<g id=\"edge8\" class=\"edge\">\n",
       "<title>4835062208&#45;&gt;4835160128</title>\n",
       "<path fill=\"none\" stroke=\"black\" d=\"M143.35,-216.76C147.71,-208.28 153.15,-197.71 158.04,-188.2\"/>\n",
       "<polygon fill=\"black\" stroke=\"black\" points=\"161.23,-189.64 162.7,-179.15 155.01,-186.44 161.23,-189.64\"/>\n",
       "</g>\n",
       "<!-- 4835063360 -->\n",
       "<g id=\"node3\" class=\"node\">\n",
       "<title>4835063360</title>\n",
       "<ellipse fill=\"none\" stroke=\"black\" cx=\"27\" cy=\"-90\" rx=\"27\" ry=\"18\"/>\n",
       "<text text-anchor=\"middle\" x=\"27\" y=\"-86.3\" font-family=\"Times,serif\" font-size=\"14.00\">C</text>\n",
       "</g>\n",
       "<!-- 4835065664&#45;&gt;4835063360 -->\n",
       "<g id=\"edge1\" class=\"edge\">\n",
       "<title>4835065664&#45;&gt;4835063360</title>\n",
       "<path fill=\"none\" stroke=\"black\" d=\"M84.43,-146.83C74.25,-136.94 60.48,-123.55 48.97,-112.36\"/>\n",
       "<polygon fill=\"black\" stroke=\"black\" points=\"51.41,-109.85 41.8,-105.38 46.53,-114.87 51.41,-109.85\"/>\n",
       "</g>\n",
       "<!-- 4835063312 -->\n",
       "<g id=\"node4\" class=\"node\">\n",
       "<title>4835063312</title>\n",
       "<ellipse fill=\"none\" stroke=\"black\" cx=\"99\" cy=\"-90\" rx=\"27\" ry=\"18\"/>\n",
       "<text text-anchor=\"middle\" x=\"99\" y=\"-86.3\" font-family=\"Times,serif\" font-size=\"14.00\">C</text>\n",
       "</g>\n",
       "<!-- 4835065664&#45;&gt;4835063312 -->\n",
       "<g id=\"edge2\" class=\"edge\">\n",
       "<title>4835065664&#45;&gt;4835063312</title>\n",
       "<path fill=\"none\" stroke=\"black\" d=\"M99,-143.7C99,-135.98 99,-126.71 99,-118.11\"/>\n",
       "<polygon fill=\"black\" stroke=\"black\" points=\"102.5,-118.1 99,-108.1 95.5,-118.1 102.5,-118.1\"/>\n",
       "</g>\n",
       "<!-- 4835160176 -->\n",
       "<g id=\"node6\" class=\"node\">\n",
       "<title>4835160176</title>\n",
       "<ellipse fill=\"none\" stroke=\"black\" cx=\"171\" cy=\"-90\" rx=\"27\" ry=\"18\"/>\n",
       "<text text-anchor=\"middle\" x=\"171\" y=\"-86.3\" font-family=\"Times,serif\" font-size=\"14.00\">mul</text>\n",
       "</g>\n",
       "<!-- 4835160128&#45;&gt;4835160176 -->\n",
       "<g id=\"edge6\" class=\"edge\">\n",
       "<title>4835160128&#45;&gt;4835160176</title>\n",
       "<path fill=\"none\" stroke=\"black\" d=\"M171,-143.7C171,-135.98 171,-126.71 171,-118.11\"/>\n",
       "<polygon fill=\"black\" stroke=\"black\" points=\"174.5,-118.1 171,-108.1 167.5,-118.1 174.5,-118.1\"/>\n",
       "</g>\n",
       "<!-- 4835160608 -->\n",
       "<g id=\"node9\" class=\"node\">\n",
       "<title>4835160608</title>\n",
       "<ellipse fill=\"none\" stroke=\"black\" cx=\"243\" cy=\"-90\" rx=\"27\" ry=\"18\"/>\n",
       "<text text-anchor=\"middle\" x=\"243\" y=\"-86.3\" font-family=\"Times,serif\" font-size=\"14.00\">A</text>\n",
       "</g>\n",
       "<!-- 4835160128&#45;&gt;4835160608 -->\n",
       "<g id=\"edge7\" class=\"edge\">\n",
       "<title>4835160128&#45;&gt;4835160608</title>\n",
       "<path fill=\"none\" stroke=\"black\" d=\"M185.57,-146.83C195.75,-136.94 209.52,-123.55 221.03,-112.36\"/>\n",
       "<polygon fill=\"black\" stroke=\"black\" points=\"223.47,-114.87 228.2,-105.38 218.59,-109.85 223.47,-114.87\"/>\n",
       "</g>\n",
       "<!-- 4835160320 -->\n",
       "<g id=\"node7\" class=\"node\">\n",
       "<title>4835160320</title>\n",
       "<ellipse fill=\"none\" stroke=\"black\" cx=\"135\" cy=\"-18\" rx=\"27\" ry=\"18\"/>\n",
       "<text text-anchor=\"middle\" x=\"135\" y=\"-14.3\" font-family=\"Times,serif\" font-size=\"14.00\">A</text>\n",
       "</g>\n",
       "<!-- 4835160176&#45;&gt;4835160320 -->\n",
       "<g id=\"edge4\" class=\"edge\">\n",
       "<title>4835160176&#45;&gt;4835160320</title>\n",
       "<path fill=\"none\" stroke=\"black\" d=\"M162.65,-72.76C158.29,-64.28 152.85,-53.71 147.96,-44.2\"/>\n",
       "<polygon fill=\"black\" stroke=\"black\" points=\"150.99,-42.44 143.3,-35.15 144.77,-45.64 150.99,-42.44\"/>\n",
       "</g>\n",
       "<!-- 4835160512 -->\n",
       "<g id=\"node8\" class=\"node\">\n",
       "<title>4835160512</title>\n",
       "<ellipse fill=\"none\" stroke=\"black\" cx=\"207\" cy=\"-18\" rx=\"27\" ry=\"18\"/>\n",
       "<text text-anchor=\"middle\" x=\"207\" y=\"-14.3\" font-family=\"Times,serif\" font-size=\"14.00\">D</text>\n",
       "</g>\n",
       "<!-- 4835160176&#45;&gt;4835160512 -->\n",
       "<g id=\"edge5\" class=\"edge\">\n",
       "<title>4835160176&#45;&gt;4835160512</title>\n",
       "<path fill=\"none\" stroke=\"black\" d=\"M179.35,-72.76C183.71,-64.28 189.15,-53.71 194.04,-44.2\"/>\n",
       "<polygon fill=\"black\" stroke=\"black\" points=\"197.23,-45.64 198.7,-35.15 191.01,-42.44 197.23,-45.64\"/>\n",
       "</g>\n",
       "</g>\n",
       "</svg>\n"
      ],
      "text/plain": [
       "<graphviz.dot.Digraph at 0x120313550>"
      ]
     },
     "execution_count": 60,
     "metadata": {},
     "output_type": "execute_result"
    }
   ],
   "source": [
    "offspring = sizefair_crossover(parent1, parent2)\n",
    "print_tree(offspring)"
   ]
  },
  {
   "cell_type": "markdown",
   "metadata": {
    "slideshow": {
     "slide_type": "skip"
    }
   },
   "source": [
    "Now we just need to do some minor adaptations to make sure that these new operators are actually applied during the evolution:"
   ]
  },
  {
   "cell_type": "code",
   "execution_count": 61,
   "metadata": {
    "slideshow": {
     "slide_type": "slide"
    }
   },
   "outputs": [],
   "source": [
    "mutation_operators = [subtree_mutation, permutation_mutation, shrink_mutation, point_mutation, sizefair_subtree_mutation]\n",
    "crossover = sizefair_crossover"
   ]
  },
  {
   "cell_type": "markdown",
   "metadata": {
    "slideshow": {
     "slide_type": "skip"
    }
   },
   "source": [
    "Besides the adapted operators, another common approach is to apply an upper bound on the size, and reject offspring that exceeds that size. This can have negative implications if it is the only means to control bloat, as larger individuals will then become less likely to produce surviving offspring. However, we can use it in conjunction with out optimised operators:"
   ]
  },
  {
   "cell_type": "code",
   "execution_count": 62,
   "metadata": {
    "slideshow": {
     "slide_type": "fragment"
    }
   },
   "outputs": [],
   "source": [
    "REJECT_SIZE = 50"
   ]
  },
  {
   "cell_type": "code",
   "execution_count": 63,
   "metadata": {
    "slideshow": {
     "slide_type": "fragment"
    }
   },
   "outputs": [],
   "source": [
    "def evolution_step(population):\n",
    "    new_population = []\n",
    "    while len(new_population) < len(population):\n",
    "        parent1 = copy(selection(population))\n",
    "        parent2 = copy(selection(population))\n",
    "\n",
    "        if random.random() < P_xover:\n",
    "            offspring = crossover(parent1, parent2)\n",
    "        else:\n",
    "            offspring = random.choice([parent1, parent2])\n",
    "\n",
    "        if random.random() < 0.2:\n",
    "            mutation_operator = random.choice(mutation_operators)\n",
    "            mutation_operator(offspring)\n",
    "\n",
    "        if size(offspring) < REJECT_SIZE:\n",
    "            new_population.append(offspring)\n",
    "\n",
    "    population.clear()\n",
    "    population.extend(new_population)\n",
    "\n",
    "    best_fitness = min([get_fitness(k) for k in population])\n",
    "    return best_fitness"
   ]
  },
  {
   "cell_type": "markdown",
   "metadata": {
    "slideshow": {
     "slide_type": "skip"
    }
   },
   "source": [
    "Thus, finally, let's run the search again for the same target function."
   ]
  },
  {
   "cell_type": "code",
   "execution_count": 64,
   "metadata": {
    "slideshow": {
     "slide_type": "slide"
    }
   },
   "outputs": [
    {
     "name": "stdout",
     "output_type": "stream",
     "text": [
      "GA Iteration 0, best fitness: 6.700000000000001, average size: 9.44\n",
      "GA Iteration 1, best fitness: 6.700000000000001, average size: 7.58\n",
      "GA Iteration 2, best fitness: 6.700000000000001, average size: 6.86\n",
      "GA Iteration 3, best fitness: 6.700000000000001, average size: 6.94\n",
      "GA Iteration 4, best fitness: 6.700000000000001, average size: 6.88\n",
      "GA Iteration 5, best fitness: 6.700000000000001, average size: 5.36\n",
      "GA Iteration 6, best fitness: 6.700000000000001, average size: 4.16\n",
      "GA Iteration 7, best fitness: 6.700000000000001, average size: 4.06\n",
      "GA Iteration 8, best fitness: 6.700000000000001, average size: 3.76\n",
      "GA Iteration 9, best fitness: 6.700000000000001, average size: 3.88\n",
      "GA Iteration 10, best fitness: 6.700000000000001, average size: 4\n",
      "GA Iteration 11, best fitness: 6.700000000000001, average size: 4.08\n",
      "GA Iteration 12, best fitness: 6.700000000000001, average size: 4.02\n",
      "GA Iteration 13, best fitness: 6.700000000000001, average size: 3.84\n",
      "GA Iteration 14, best fitness: 6.7, average size: 4.22\n",
      "GA Iteration 15, best fitness: 6.7, average size: 3.86\n",
      "GA Iteration 16, best fitness: 6.7, average size: 3.22\n",
      "GA Iteration 17, best fitness: 5.050000000000001, average size: 3.2\n",
      "GA Iteration 18, best fitness: 5.050000000000001, average size: 3.4\n",
      "GA Iteration 19, best fitness: 5.050000000000001, average size: 3.62\n",
      "GA Iteration 20, best fitness: 5.050000000000001, average size: 4.22\n",
      "GA Iteration 21, best fitness: 5.050000000000001, average size: 5.2\n",
      "GA Iteration 22, best fitness: 5.050000000000001, average size: 5.82\n",
      "GA Iteration 23, best fitness: 5.050000000000001, average size: 6.3\n",
      "GA solution after 24 iterations, best fitness: 2.220446049250313e-16\n"
     ]
    },
    {
     "data": {
      "image/svg+xml": [
       "<?xml version=\"1.0\" encoding=\"UTF-8\" standalone=\"no\"?>\n",
       "<!DOCTYPE svg PUBLIC \"-//W3C//DTD SVG 1.1//EN\"\n",
       " \"http://www.w3.org/Graphics/SVG/1.1/DTD/svg11.dtd\">\n",
       "<!-- Generated by graphviz version 2.44.1 (20200629.0846)\n",
       " -->\n",
       "<!-- Pages: 1 -->\n",
       "<svg width=\"278pt\" height=\"260pt\"\n",
       " viewBox=\"0.00 0.00 278.00 260.00\" xmlns=\"http://www.w3.org/2000/svg\" xmlns:xlink=\"http://www.w3.org/1999/xlink\">\n",
       "<g id=\"graph0\" class=\"graph\" transform=\"scale(1 1) rotate(0) translate(4 256)\">\n",
       "<polygon fill=\"white\" stroke=\"transparent\" points=\"-4,4 -4,-256 274,-256 274,4 -4,4\"/>\n",
       "<!-- 4835319760 -->\n",
       "<g id=\"node1\" class=\"node\">\n",
       "<title>4835319760</title>\n",
       "<ellipse fill=\"none\" stroke=\"black\" cx=\"99\" cy=\"-234\" rx=\"27\" ry=\"18\"/>\n",
       "<text text-anchor=\"middle\" x=\"99\" y=\"-230.3\" font-family=\"Times,serif\" font-size=\"14.00\">mul</text>\n",
       "</g>\n",
       "<!-- 4835432144 -->\n",
       "<g id=\"node2\" class=\"node\">\n",
       "<title>4835432144</title>\n",
       "<ellipse fill=\"none\" stroke=\"black\" cx=\"63\" cy=\"-162\" rx=\"27\" ry=\"18\"/>\n",
       "<text text-anchor=\"middle\" x=\"63\" y=\"-158.3\" font-family=\"Times,serif\" font-size=\"14.00\">1</text>\n",
       "</g>\n",
       "<!-- 4835319760&#45;&gt;4835432144 -->\n",
       "<g id=\"edge1\" class=\"edge\">\n",
       "<title>4835319760&#45;&gt;4835432144</title>\n",
       "<path fill=\"none\" stroke=\"black\" d=\"M90.65,-216.76C86.29,-208.28 80.85,-197.71 75.96,-188.2\"/>\n",
       "<polygon fill=\"black\" stroke=\"black\" points=\"78.99,-186.44 71.3,-179.15 72.77,-189.64 78.99,-186.44\"/>\n",
       "</g>\n",
       "<!-- 4835432096 -->\n",
       "<g id=\"node3\" class=\"node\">\n",
       "<title>4835432096</title>\n",
       "<ellipse fill=\"none\" stroke=\"black\" cx=\"135\" cy=\"-162\" rx=\"27\" ry=\"18\"/>\n",
       "<text text-anchor=\"middle\" x=\"135\" y=\"-158.3\" font-family=\"Times,serif\" font-size=\"14.00\">add</text>\n",
       "</g>\n",
       "<!-- 4835319760&#45;&gt;4835432096 -->\n",
       "<g id=\"edge8\" class=\"edge\">\n",
       "<title>4835319760&#45;&gt;4835432096</title>\n",
       "<path fill=\"none\" stroke=\"black\" d=\"M107.35,-216.76C111.71,-208.28 117.15,-197.71 122.04,-188.2\"/>\n",
       "<polygon fill=\"black\" stroke=\"black\" points=\"125.23,-189.64 126.7,-179.15 119.01,-186.44 125.23,-189.64\"/>\n",
       "</g>\n",
       "<!-- 4835431280 -->\n",
       "<g id=\"node4\" class=\"node\">\n",
       "<title>4835431280</title>\n",
       "<ellipse fill=\"none\" stroke=\"black\" cx=\"99\" cy=\"-90\" rx=\"27\" ry=\"18\"/>\n",
       "<text text-anchor=\"middle\" x=\"99\" y=\"-86.3\" font-family=\"Times,serif\" font-size=\"14.00\">sub</text>\n",
       "</g>\n",
       "<!-- 4835432096&#45;&gt;4835431280 -->\n",
       "<g id=\"edge4\" class=\"edge\">\n",
       "<title>4835432096&#45;&gt;4835431280</title>\n",
       "<path fill=\"none\" stroke=\"black\" d=\"M126.65,-144.76C122.29,-136.28 116.85,-125.71 111.96,-116.2\"/>\n",
       "<polygon fill=\"black\" stroke=\"black\" points=\"114.99,-114.44 107.3,-107.15 108.77,-117.64 114.99,-114.44\"/>\n",
       "</g>\n",
       "<!-- 4835433392 -->\n",
       "<g id=\"node7\" class=\"node\">\n",
       "<title>4835433392</title>\n",
       "<ellipse fill=\"none\" stroke=\"black\" cx=\"171\" cy=\"-90\" rx=\"27\" ry=\"18\"/>\n",
       "<text text-anchor=\"middle\" x=\"171\" y=\"-86.3\" font-family=\"Times,serif\" font-size=\"14.00\">mul</text>\n",
       "</g>\n",
       "<!-- 4835432096&#45;&gt;4835433392 -->\n",
       "<g id=\"edge7\" class=\"edge\">\n",
       "<title>4835432096&#45;&gt;4835433392</title>\n",
       "<path fill=\"none\" stroke=\"black\" d=\"M143.35,-144.76C147.71,-136.28 153.15,-125.71 158.04,-116.2\"/>\n",
       "<polygon fill=\"black\" stroke=\"black\" points=\"161.23,-117.64 162.7,-107.15 155.01,-114.44 161.23,-117.64\"/>\n",
       "</g>\n",
       "<!-- 4835431184 -->\n",
       "<g id=\"node5\" class=\"node\">\n",
       "<title>4835431184</title>\n",
       "<ellipse fill=\"none\" stroke=\"black\" cx=\"27\" cy=\"-18\" rx=\"27\" ry=\"18\"/>\n",
       "<text text-anchor=\"middle\" x=\"27\" y=\"-14.3\" font-family=\"Times,serif\" font-size=\"14.00\">x</text>\n",
       "</g>\n",
       "<!-- 4835431280&#45;&gt;4835431184 -->\n",
       "<g id=\"edge2\" class=\"edge\">\n",
       "<title>4835431280&#45;&gt;4835431184</title>\n",
       "<path fill=\"none\" stroke=\"black\" d=\"M84.43,-74.83C74.25,-64.94 60.48,-51.55 48.97,-40.36\"/>\n",
       "<polygon fill=\"black\" stroke=\"black\" points=\"51.41,-37.85 41.8,-33.38 46.53,-42.87 51.41,-37.85\"/>\n",
       "</g>\n",
       "<!-- 4835433248 -->\n",
       "<g id=\"node6\" class=\"node\">\n",
       "<title>4835433248</title>\n",
       "<ellipse fill=\"none\" stroke=\"black\" cx=\"99\" cy=\"-18\" rx=\"27\" ry=\"18\"/>\n",
       "<text text-anchor=\"middle\" x=\"99\" y=\"-14.3\" font-family=\"Times,serif\" font-size=\"14.00\">&#45;1</text>\n",
       "</g>\n",
       "<!-- 4835431280&#45;&gt;4835433248 -->\n",
       "<g id=\"edge3\" class=\"edge\">\n",
       "<title>4835431280&#45;&gt;4835433248</title>\n",
       "<path fill=\"none\" stroke=\"black\" d=\"M99,-71.7C99,-63.98 99,-54.71 99,-46.11\"/>\n",
       "<polygon fill=\"black\" stroke=\"black\" points=\"102.5,-46.1 99,-36.1 95.5,-46.1 102.5,-46.1\"/>\n",
       "</g>\n",
       "<!-- 4835433104 -->\n",
       "<g id=\"node8\" class=\"node\">\n",
       "<title>4835433104</title>\n",
       "<ellipse fill=\"none\" stroke=\"black\" cx=\"171\" cy=\"-18\" rx=\"27\" ry=\"18\"/>\n",
       "<text text-anchor=\"middle\" x=\"171\" y=\"-14.3\" font-family=\"Times,serif\" font-size=\"14.00\">x</text>\n",
       "</g>\n",
       "<!-- 4835433392&#45;&gt;4835433104 -->\n",
       "<g id=\"edge5\" class=\"edge\">\n",
       "<title>4835433392&#45;&gt;4835433104</title>\n",
       "<path fill=\"none\" stroke=\"black\" d=\"M171,-71.7C171,-63.98 171,-54.71 171,-46.11\"/>\n",
       "<polygon fill=\"black\" stroke=\"black\" points=\"174.5,-46.1 171,-36.1 167.5,-46.1 174.5,-46.1\"/>\n",
       "</g>\n",
       "<!-- 4835432240 -->\n",
       "<g id=\"node9\" class=\"node\">\n",
       "<title>4835432240</title>\n",
       "<ellipse fill=\"none\" stroke=\"black\" cx=\"243\" cy=\"-18\" rx=\"27\" ry=\"18\"/>\n",
       "<text text-anchor=\"middle\" x=\"243\" y=\"-14.3\" font-family=\"Times,serif\" font-size=\"14.00\">x</text>\n",
       "</g>\n",
       "<!-- 4835433392&#45;&gt;4835432240 -->\n",
       "<g id=\"edge6\" class=\"edge\">\n",
       "<title>4835433392&#45;&gt;4835432240</title>\n",
       "<path fill=\"none\" stroke=\"black\" d=\"M185.57,-74.83C195.75,-64.94 209.52,-51.55 221.03,-40.36\"/>\n",
       "<polygon fill=\"black\" stroke=\"black\" points=\"223.47,-42.87 228.2,-33.38 218.59,-37.85 223.47,-42.87\"/>\n",
       "</g>\n",
       "</g>\n",
       "</svg>\n"
      ],
      "text/plain": [
       "<graphviz.dot.Digraph at 0x120245df0>"
      ]
     },
     "execution_count": 64,
     "metadata": {},
     "output_type": "execute_result"
    }
   ],
   "source": [
    "max_iterations = 200\n",
    "population_size = 100\n",
    "selection = tournament_selection\n",
    "crossover = sizefair_crossover\n",
    "P_xover = 0.7\n",
    "fitness_values = []\n",
    "size_values = []\n",
    "result = ga()\n",
    "print_tree(result)"
   ]
  },
  {
   "cell_type": "markdown",
   "metadata": {
    "slideshow": {
     "slide_type": "skip"
    }
   },
   "source": [
    "To validate whether we are still affected by bloat we can plot the evolution of size again:"
   ]
  },
  {
   "cell_type": "code",
   "execution_count": 65,
   "metadata": {
    "scrolled": true,
    "slideshow": {
     "slide_type": "slide"
    }
   },
   "outputs": [
    {
     "data": {
      "text/plain": [
       "[<matplotlib.lines.Line2D at 0x12036d550>]"
      ]
     },
     "execution_count": 65,
     "metadata": {},
     "output_type": "execute_result"
    },
    {
     "data": {
      "image/png": "[encoded data removed]",
      "text/plain": [
       "<Figure size 432x288 with 1 Axes>"
      ]
     },
     "metadata": {
      "needs_background": "light"
     },
     "output_type": "display_data"
    }
   ],
   "source": [
    "plt.plot(size_values)"
   ]
  },
  {
   "cell_type": "markdown",
   "metadata": {
    "slideshow": {
     "slide_type": "skip"
    }
   },
   "source": [
    "We can also compare the resulting function with the desired target function:"
   ]
  },
  {
   "cell_type": "code",
   "execution_count": 66,
   "metadata": {
    "slideshow": {
     "slide_type": "slide"
    }
   },
   "outputs": [
    {
     "data": {
      "text/plain": [
       "<matplotlib.legend.Legend at 0x120367370>"
      ]
     },
     "execution_count": 66,
     "metadata": {},
     "output_type": "execute_result"
    },
    {
     "data": {
      "image/png": "[encoded data removed]",
      "text/plain": [
       "<Figure size 432x288 with 1 Axes>"
      ]
     },
     "metadata": {
      "needs_background": "light"
     },
     "output_type": "display_data"
    }
   ],
   "source": [
    "points = [x/10 for x in range(-10, 11)]\n",
    "real_values = [(x*x + x + 1) for x in points]\n",
    "gp_values = []\n",
    "for x in points:\n",
    "    assignment = {}\n",
    "    assignment[\"x\"] = x\n",
    "    gp_values.append(evaluate(result, assignment))\n",
    "plt.plot(points, gp_values)\n",
    "\n",
    "plt.plot(points, real_values,  linestyle='--', label = \"Target\")\n",
    "plt.plot(points, gp_values,  linestyle=':', label = \"GP\")\n",
    "plt.legend()"
   ]
  },
  {
   "cell_type": "markdown",
   "metadata": {
    "slideshow": {
     "slide_type": "slide"
    }
   },
   "source": [
    "## Example Application: Fault Localisation"
   ]
  },
  {
   "cell_type": "markdown",
   "metadata": {
    "slideshow": {
     "slide_type": "skip"
    }
   },
   "source": [
    "Given a test suite with at least one failing and at least one passing test case, the aim of fault localisation is to identify those statements in a program that are likely faulty. Intuitively, statements that are primarily executed by failed test cases are more likely to be faulty than those that are primarily executed by passed test cases. In spectrum-based fault localisation this is done by evaluating the similarity of each statement with the the error vector (i.e. the vector of pass/fail verdicts for each statement). There are many different competeing similarity metrics (which we will consider in more details the Software Analysis course). \n",
    "\n",
    "The basis for this type of fault localisation is a coverage matrix in which we have coverage information for each statement and each test case. We will parse this in the format produced by the GZoltar tool:"
   ]
  },
  {
   "cell_type": "code",
   "execution_count": 67,
   "metadata": {
    "slideshow": {
     "slide_type": "skip"
    }
   },
   "outputs": [],
   "source": [
    "def read_matrix(matrix_file, spectra_file, faulty_line):\n",
    "    line_details = []\n",
    "    fh = open(spectra_file)\n",
    "    num_line = 0\n",
    "    for line in fh:\n",
    "        num_line += 1\n",
    "        if num_line == 1:\n",
    "            continue\n",
    "        result = line.rstrip()\n",
    "        line_details.append(result)\n",
    "    fh.close()\n",
    "\n",
    "    num_statements = len(line_details)\n",
    "\n",
    "    ep = {}\n",
    "    ef = {}\n",
    "    np = {}\n",
    "    nf = {}\n",
    "\n",
    "    for i in range(num_statements):\n",
    "        ep[i] = 0\n",
    "        ef[i] = 0\n",
    "        np[i] = 0\n",
    "        nf[i] = 0\n",
    "\n",
    "    fh = open(matrix_file)\n",
    "    num_test = 0\n",
    "    for line in fh:\n",
    "        result = line.split(\" \")\n",
    "\n",
    "        test_result = result[-1].rstrip()\n",
    "        for i in range(num_statements):\n",
    "            if result[i] == '1' and test_result == '+':\n",
    "                ep[i] += 1\n",
    "            elif result[i] == '1' and test_result == '-':\n",
    "                ef[i] += 1\n",
    "            elif result[i] == '0' and test_result == '+':\n",
    "                np[i] += 1\n",
    "            elif result[i] == '0' and test_result == '-':\n",
    "                nf[i] += 1\n",
    "\n",
    "        num_test += 1\n",
    "    fh.close()\n",
    "\n",
    "    return (ep, ef, np, nf, line_details, num_statements, faulty_line)"
   ]
  },
  {
   "cell_type": "markdown",
   "metadata": {
    "slideshow": {
     "slide_type": "skip"
    }
   },
   "source": [
    "Our aim is to use GP in order to evolve a similarity function that performs better than the standard metrics. We need some datapoints for our fitness evaluation again; for this we can use some example matrices:"
   ]
  },
  {
   "cell_type": "code",
   "execution_count": 68,
   "metadata": {
    "slideshow": {
     "slide_type": "slide"
    }
   },
   "outputs": [],
   "source": [
    "data_files = [('data/fl/matrix.txt', 'data/fl/spectra.csv', 7),\n",
    "              ('data/fl/matrix-lift.txt', 'data/fl/spectra-lift.csv', 13),\n",
    "              ('data/fl/matrix-complex.txt', 'data/fl/spectra-complex.csv', 39),\n",
    "              ('data/fl/matrix-rational.txt', 'data/fl/spectra-rational.csv', 10)\n",
    "              ]\n",
    "eval_cases = []\n",
    "\n",
    "for (matrix, spectrum, faulty_line) in data_files:\n",
    "    eval_cases.append(read_matrix(matrix, spectrum, faulty_line))"
   ]
  },
  {
   "cell_type": "markdown",
   "metadata": {
    "slideshow": {
     "slide_type": "slide"
    }
   },
   "source": [
    "These matrices serve to calculate several factors for each statement:\n",
    "\n",
    "- $e_f$: Number of times the statement has been executed by failing tests.\n",
    "- $e_p$: Number of times the statement has been executed by passing tests.\n",
    "- $n_f$: Number of times the statement has _not_ been executed by failing tests.\n",
    "- $n_p$: Number of times the statement has _not_ been executed by passing tests.\n",
    "\n",
    "Based on these factors, different metrics to calculate the suspiciousness of a program statement have been defined, e.g.:\n",
    "\n",
    "- Tarantula: $\\frac{\\frac{e_f}{e_f+n_f}}{\\frac{e_p}{e_p+n_p} + \\frac{e_f}{e_f+n_f}}$\n",
    "- Barinel: $1 - \\frac{e_p}{e_f + e_p}$\n",
    "- Ochiai: $\\frac{e_f}{\\sqrt{(e_f + n_f) \\cdot (e_f + e_p)}}$\n",
    "\n",
    "In the following, we will try to use GP in order to derive a formula that produces better results on our dataset than any of these well-established coefficients. This idea is described in more detail in the following paper:\n",
    "\n",
    "Yoo, S. (2012, September). Evolving human competitive spectra-based fault localisation techniques. In International Symposium on Search Based Software Engineering (pp. 244-258). Springer, Berlin, Heidelberg."
   ]
  },
  {
   "cell_type": "markdown",
   "metadata": {
    "slideshow": {
     "slide_type": "skip"
    }
   },
   "source": [
    "Similar to the existing coefficients, the components of our formula shall be simple arithmetic operations:"
   ]
  },
  {
   "cell_type": "code",
   "execution_count": 69,
   "metadata": {
    "slideshow": {
     "slide_type": "skip"
    }
   },
   "outputs": [],
   "source": [
    "def add(x, y): return x + y\n",
    "def sub(x, y): return x - y\n",
    "def mul(x, y): return x * y\n",
    "def div(x, y): return 1 if not y else x/y"
   ]
  },
  {
   "cell_type": "code",
   "execution_count": 70,
   "metadata": {
    "slideshow": {
     "slide_type": "skip"
    }
   },
   "outputs": [],
   "source": [
    "FUNCTIONS = [add, sub, mul, div]"
   ]
  },
  {
   "cell_type": "markdown",
   "metadata": {
    "slideshow": {
     "slide_type": "skip"
    }
   },
   "source": [
    "The terminals will be the factors listed above, as well as the constant 1:"
   ]
  },
  {
   "cell_type": "code",
   "execution_count": 71,
   "metadata": {
    "slideshow": {
     "slide_type": "skip"
    }
   },
   "outputs": [],
   "source": [
    "TERMINALS = ['ep', 'ef', 'np', 'nf', 1]"
   ]
  },
  {
   "cell_type": "markdown",
   "metadata": {
    "slideshow": {
     "slide_type": "skip"
    }
   },
   "source": [
    "In order to evaluate the fitness of a particular formula, we apply it to our four (faulty) example programs, rank the statements by their suspiciousness, and then report the position at which the faulty statement is ranked. A perfect fault localisation means that the faulty statement is listed first. In case of ties, where multiple statements have the same suspiciousness score, we calculate the average position of the statements with the same suspiciousness:"
   ]
  },
  {
   "cell_type": "code",
   "execution_count": 72,
   "metadata": {
    "slideshow": {
     "slide_type": "slide"
    }
   },
   "outputs": [],
   "source": [
    "def get_fitness(tree):\n",
    "    positions = []\n",
    "    for (ep, ef, np, nf, line_details, num_statements, faulty_line) in eval_cases:\n",
    "        lines = [line for line in range(num_statements)]\n",
    "        weights = []\n",
    "        for line in lines:\n",
    "            assignment = {\"np\": np[line], \n",
    "                          \"nf\": nf[line], \n",
    "                          \"ep\": ep[line],\n",
    "                          \"ef\": ef[line]}\n",
    "            result = evaluate(tree, assignment)\n",
    "            weights.append(result)\n",
    "        lines, weights = zip(*sorted(zip(lines, weights), key=lambda t: t[1], reverse=True))\n",
    "\n",
    "        start = lines.index(faulty_line)\n",
    "        end = start\n",
    "        faulty_weight = weights[start]\n",
    "        while end < len(weights) and faulty_weight == weights[end]:\n",
    "            end += 1\n",
    "\n",
    "        positions.append((start + end)/2)\n",
    "        \n",
    "    return sum(positions)/len(positions)"
   ]
  },
  {
   "cell_type": "markdown",
   "metadata": {
    "slideshow": {
     "slide_type": "skip"
    }
   },
   "source": [
    "In order to compare different ranking formulas, we will also look at the top 5 statements for each example:"
   ]
  },
  {
   "cell_type": "code",
   "execution_count": 73,
   "metadata": {
    "slideshow": {
     "slide_type": "skip"
    }
   },
   "outputs": [],
   "source": [
    "def print_ranking(tree):\n",
    "    for (ep, ef, np, nf, line_details, num_statements, faulty_line) in eval_cases:\n",
    "        lines = [line for line in range(num_statements)]\n",
    "        weights = []\n",
    "        for line in lines:\n",
    "            assignment = {\"np\": np[line], \n",
    "                          \"nf\": nf[line], \n",
    "                          \"ep\": ep[line],\n",
    "                          \"ef\": ef[line]}\n",
    "            result = evaluate(tree, assignment)\n",
    "            weights.append(result)\n",
    "\n",
    "        lines, weights = zip(*sorted(zip(lines, weights), key=lambda t: t[1], reverse=True))\n",
    "\n",
    "        print(f\"Faulty line: {faulty_line}: {lines[:5]}\")"
   ]
  },
  {
   "cell_type": "markdown",
   "metadata": {
    "slideshow": {
     "slide_type": "skip"
    }
   },
   "source": [
    "Before evolving our own suspiciousness formula, let's express some standard formulas using our tree datastructure:"
   ]
  },
  {
   "cell_type": "code",
   "execution_count": 74,
   "metadata": {
    "slideshow": {
     "slide_type": "slide"
    }
   },
   "outputs": [
    {
     "data": {
      "image/svg+xml": [
       "<?xml version=\"1.0\" encoding=\"UTF-8\" standalone=\"no\"?>\n",
       "<!DOCTYPE svg PUBLIC \"-//W3C//DTD SVG 1.1//EN\"\n",
       " \"http://www.w3.org/Graphics/SVG/1.1/DTD/svg11.dtd\">\n",
       "<!-- Generated by graphviz version 2.44.1 (20200629.0846)\n",
       " -->\n",
       "<!-- Pages: 1 -->\n",
       "<svg width=\"476pt\" height=\"332pt\"\n",
       " viewBox=\"0.00 0.00 476.00 332.00\" xmlns=\"http://www.w3.org/2000/svg\" xmlns:xlink=\"http://www.w3.org/1999/xlink\">\n",
       "<g id=\"graph0\" class=\"graph\" transform=\"scale(1 1) rotate(0) translate(4 328)\">\n",
       "<polygon fill=\"white\" stroke=\"transparent\" points=\"-4,4 -4,-328 472,-328 472,4 -4,4\"/>\n",
       "<!-- 4834207680 -->\n",
       "<g id=\"node1\" class=\"node\">\n",
       "<title>4834207680</title>\n",
       "<ellipse fill=\"none\" stroke=\"black\" cx=\"135\" cy=\"-306\" rx=\"27\" ry=\"18\"/>\n",
       "<text text-anchor=\"middle\" x=\"135\" y=\"-302.3\" font-family=\"Times,serif\" font-size=\"14.00\">div</text>\n",
       "</g>\n",
       "<!-- 4835063744 -->\n",
       "<g id=\"node2\" class=\"node\">\n",
       "<title>4835063744</title>\n",
       "<ellipse fill=\"none\" stroke=\"black\" cx=\"99\" cy=\"-234\" rx=\"27\" ry=\"18\"/>\n",
       "<text text-anchor=\"middle\" x=\"99\" y=\"-230.3\" font-family=\"Times,serif\" font-size=\"14.00\">div</text>\n",
       "</g>\n",
       "<!-- 4834207680&#45;&gt;4835063744 -->\n",
       "<g id=\"edge5\" class=\"edge\">\n",
       "<title>4834207680&#45;&gt;4835063744</title>\n",
       "<path fill=\"none\" stroke=\"black\" d=\"M126.65,-288.76C122.29,-280.28 116.85,-269.71 111.96,-260.2\"/>\n",
       "<polygon fill=\"black\" stroke=\"black\" points=\"114.99,-258.44 107.3,-251.15 108.77,-261.64 114.99,-258.44\"/>\n",
       "</g>\n",
       "<!-- 4834208736 -->\n",
       "<g id=\"node7\" class=\"node\">\n",
       "<title>4834208736</title>\n",
       "<ellipse fill=\"none\" stroke=\"black\" cx=\"207\" cy=\"-234\" rx=\"27\" ry=\"18\"/>\n",
       "<text text-anchor=\"middle\" x=\"207\" y=\"-230.3\" font-family=\"Times,serif\" font-size=\"14.00\">add</text>\n",
       "</g>\n",
       "<!-- 4834207680&#45;&gt;4834208736 -->\n",
       "<g id=\"edge16\" class=\"edge\">\n",
       "<title>4834207680&#45;&gt;4834208736</title>\n",
       "<path fill=\"none\" stroke=\"black\" d=\"M149.57,-290.83C159.75,-280.94 173.52,-267.55 185.03,-256.36\"/>\n",
       "<polygon fill=\"black\" stroke=\"black\" points=\"187.47,-258.87 192.2,-249.38 182.59,-253.85 187.47,-258.87\"/>\n",
       "</g>\n",
       "<!-- 4834950112 -->\n",
       "<g id=\"node3\" class=\"node\">\n",
       "<title>4834950112</title>\n",
       "<ellipse fill=\"none\" stroke=\"black\" cx=\"27\" cy=\"-162\" rx=\"27\" ry=\"18\"/>\n",
       "<text text-anchor=\"middle\" x=\"27\" y=\"-158.3\" font-family=\"Times,serif\" font-size=\"14.00\">ef</text>\n",
       "</g>\n",
       "<!-- 4835063744&#45;&gt;4834950112 -->\n",
       "<g id=\"edge1\" class=\"edge\">\n",
       "<title>4835063744&#45;&gt;4834950112</title>\n",
       "<path fill=\"none\" stroke=\"black\" d=\"M84.43,-218.83C74.25,-208.94 60.48,-195.55 48.97,-184.36\"/>\n",
       "<polygon fill=\"black\" stroke=\"black\" points=\"51.41,-181.85 41.8,-177.38 46.53,-186.87 51.41,-181.85\"/>\n",
       "</g>\n",
       "<!-- 4835062352 -->\n",
       "<g id=\"node4\" class=\"node\">\n",
       "<title>4835062352</title>\n",
       "<ellipse fill=\"none\" stroke=\"black\" cx=\"99\" cy=\"-162\" rx=\"27\" ry=\"18\"/>\n",
       "<text text-anchor=\"middle\" x=\"99\" y=\"-158.3\" font-family=\"Times,serif\" font-size=\"14.00\">add</text>\n",
       "</g>\n",
       "<!-- 4835063744&#45;&gt;4835062352 -->\n",
       "<g id=\"edge4\" class=\"edge\">\n",
       "<title>4835063744&#45;&gt;4835062352</title>\n",
       "<path fill=\"none\" stroke=\"black\" d=\"M99,-215.7C99,-207.98 99,-198.71 99,-190.11\"/>\n",
       "<polygon fill=\"black\" stroke=\"black\" points=\"102.5,-190.1 99,-180.1 95.5,-190.1 102.5,-190.1\"/>\n",
       "</g>\n",
       "<!-- 4834949296 -->\n",
       "<g id=\"node5\" class=\"node\">\n",
       "<title>4834949296</title>\n",
       "<ellipse fill=\"none\" stroke=\"black\" cx=\"27\" cy=\"-90\" rx=\"27\" ry=\"18\"/>\n",
       "<text text-anchor=\"middle\" x=\"27\" y=\"-86.3\" font-family=\"Times,serif\" font-size=\"14.00\">ef</text>\n",
       "</g>\n",
       "<!-- 4835062352&#45;&gt;4834949296 -->\n",
       "<g id=\"edge2\" class=\"edge\">\n",
       "<title>4835062352&#45;&gt;4834949296</title>\n",
       "<path fill=\"none\" stroke=\"black\" d=\"M84.43,-146.83C74.25,-136.94 60.48,-123.55 48.97,-112.36\"/>\n",
       "<polygon fill=\"black\" stroke=\"black\" points=\"51.41,-109.85 41.8,-105.38 46.53,-114.87 51.41,-109.85\"/>\n",
       "</g>\n",
       "<!-- 4835061920 -->\n",
       "<g id=\"node6\" class=\"node\">\n",
       "<title>4835061920</title>\n",
       "<ellipse fill=\"none\" stroke=\"black\" cx=\"99\" cy=\"-90\" rx=\"27\" ry=\"18\"/>\n",
       "<text text-anchor=\"middle\" x=\"99\" y=\"-86.3\" font-family=\"Times,serif\" font-size=\"14.00\">nf</text>\n",
       "</g>\n",
       "<!-- 4835062352&#45;&gt;4835061920 -->\n",
       "<g id=\"edge3\" class=\"edge\">\n",
       "<title>4835062352&#45;&gt;4835061920</title>\n",
       "<path fill=\"none\" stroke=\"black\" d=\"M99,-143.7C99,-135.98 99,-126.71 99,-118.11\"/>\n",
       "<polygon fill=\"black\" stroke=\"black\" points=\"102.5,-118.1 99,-108.1 95.5,-118.1 102.5,-118.1\"/>\n",
       "</g>\n",
       "<!-- 4835061872 -->\n",
       "<g id=\"node8\" class=\"node\">\n",
       "<title>4835061872</title>\n",
       "<ellipse fill=\"none\" stroke=\"black\" cx=\"207\" cy=\"-162\" rx=\"27\" ry=\"18\"/>\n",
       "<text text-anchor=\"middle\" x=\"207\" y=\"-158.3\" font-family=\"Times,serif\" font-size=\"14.00\">div</text>\n",
       "</g>\n",
       "<!-- 4834208736&#45;&gt;4835061872 -->\n",
       "<g id=\"edge10\" class=\"edge\">\n",
       "<title>4834208736&#45;&gt;4835061872</title>\n",
       "<path fill=\"none\" stroke=\"black\" d=\"M207,-215.7C207,-207.98 207,-198.71 207,-190.11\"/>\n",
       "<polygon fill=\"black\" stroke=\"black\" points=\"210.5,-190.1 207,-180.1 203.5,-190.1 210.5,-190.1\"/>\n",
       "</g>\n",
       "<!-- 4834207104 -->\n",
       "<g id=\"node13\" class=\"node\">\n",
       "<title>4834207104</title>\n",
       "<ellipse fill=\"none\" stroke=\"black\" cx=\"315\" cy=\"-162\" rx=\"27\" ry=\"18\"/>\n",
       "<text text-anchor=\"middle\" x=\"315\" y=\"-158.3\" font-family=\"Times,serif\" font-size=\"14.00\">div</text>\n",
       "</g>\n",
       "<!-- 4834208736&#45;&gt;4834207104 -->\n",
       "<g id=\"edge15\" class=\"edge\">\n",
       "<title>4834208736&#45;&gt;4834207104</title>\n",
       "<path fill=\"none\" stroke=\"black\" d=\"M225.81,-220.81C243,-209.67 268.62,-193.06 287.99,-180.5\"/>\n",
       "<polygon fill=\"black\" stroke=\"black\" points=\"289.92,-183.43 296.4,-175.05 286.11,-177.56 289.92,-183.43\"/>\n",
       "</g>\n",
       "<!-- 4835064320 -->\n",
       "<g id=\"node9\" class=\"node\">\n",
       "<title>4835064320</title>\n",
       "<ellipse fill=\"none\" stroke=\"black\" cx=\"171\" cy=\"-90\" rx=\"27\" ry=\"18\"/>\n",
       "<text text-anchor=\"middle\" x=\"171\" y=\"-86.3\" font-family=\"Times,serif\" font-size=\"14.00\">ep</text>\n",
       "</g>\n",
       "<!-- 4835061872&#45;&gt;4835064320 -->\n",
       "<g id=\"edge6\" class=\"edge\">\n",
       "<title>4835061872&#45;&gt;4835064320</title>\n",
       "<path fill=\"none\" stroke=\"black\" d=\"M198.65,-144.76C194.29,-136.28 188.85,-125.71 183.96,-116.2\"/>\n",
       "<polygon fill=\"black\" stroke=\"black\" points=\"186.99,-114.44 179.3,-107.15 180.77,-117.64 186.99,-114.44\"/>\n",
       "</g>\n",
       "<!-- 4835062544 -->\n",
       "<g id=\"node10\" class=\"node\">\n",
       "<title>4835062544</title>\n",
       "<ellipse fill=\"none\" stroke=\"black\" cx=\"243\" cy=\"-90\" rx=\"27\" ry=\"18\"/>\n",
       "<text text-anchor=\"middle\" x=\"243\" y=\"-86.3\" font-family=\"Times,serif\" font-size=\"14.00\">add</text>\n",
       "</g>\n",
       "<!-- 4835061872&#45;&gt;4835062544 -->\n",
       "<g id=\"edge9\" class=\"edge\">\n",
       "<title>4835061872&#45;&gt;4835062544</title>\n",
       "<path fill=\"none\" stroke=\"black\" d=\"M215.35,-144.76C219.71,-136.28 225.15,-125.71 230.04,-116.2\"/>\n",
       "<polygon fill=\"black\" stroke=\"black\" points=\"233.23,-117.64 234.7,-107.15 227.01,-114.44 233.23,-117.64\"/>\n",
       "</g>\n",
       "<!-- 4835062016 -->\n",
       "<g id=\"node11\" class=\"node\">\n",
       "<title>4835062016</title>\n",
       "<ellipse fill=\"none\" stroke=\"black\" cx=\"189\" cy=\"-18\" rx=\"27\" ry=\"18\"/>\n",
       "<text text-anchor=\"middle\" x=\"189\" y=\"-14.3\" font-family=\"Times,serif\" font-size=\"14.00\">ep</text>\n",
       "</g>\n",
       "<!-- 4835062544&#45;&gt;4835062016 -->\n",
       "<g id=\"edge7\" class=\"edge\">\n",
       "<title>4835062544&#45;&gt;4835062016</title>\n",
       "<path fill=\"none\" stroke=\"black\" d=\"M231.02,-73.46C224.02,-64.4 215.06,-52.79 207.21,-42.61\"/>\n",
       "<polygon fill=\"black\" stroke=\"black\" points=\"209.83,-40.27 200.95,-34.49 204.29,-44.55 209.83,-40.27\"/>\n",
       "</g>\n",
       "<!-- 4835061968 -->\n",
       "<g id=\"node12\" class=\"node\">\n",
       "<title>4835061968</title>\n",
       "<ellipse fill=\"none\" stroke=\"black\" cx=\"261\" cy=\"-18\" rx=\"27\" ry=\"18\"/>\n",
       "<text text-anchor=\"middle\" x=\"261\" y=\"-14.3\" font-family=\"Times,serif\" font-size=\"14.00\">np</text>\n",
       "</g>\n",
       "<!-- 4835062544&#45;&gt;4835061968 -->\n",
       "<g id=\"edge8\" class=\"edge\">\n",
       "<title>4835062544&#45;&gt;4835061968</title>\n",
       "<path fill=\"none\" stroke=\"black\" d=\"M247.36,-72.05C249.39,-64.14 251.86,-54.54 254.14,-45.69\"/>\n",
       "<polygon fill=\"black\" stroke=\"black\" points=\"257.58,-46.35 256.68,-35.79 250.8,-44.6 257.58,-46.35\"/>\n",
       "</g>\n",
       "<!-- 4835062256 -->\n",
       "<g id=\"node14\" class=\"node\">\n",
       "<title>4835062256</title>\n",
       "<ellipse fill=\"none\" stroke=\"black\" cx=\"315\" cy=\"-90\" rx=\"27\" ry=\"18\"/>\n",
       "<text text-anchor=\"middle\" x=\"315\" y=\"-86.3\" font-family=\"Times,serif\" font-size=\"14.00\">ef</text>\n",
       "</g>\n",
       "<!-- 4834207104&#45;&gt;4835062256 -->\n",
       "<g id=\"edge11\" class=\"edge\">\n",
       "<title>4834207104&#45;&gt;4835062256</title>\n",
       "<path fill=\"none\" stroke=\"black\" d=\"M315,-143.7C315,-135.98 315,-126.71 315,-118.11\"/>\n",
       "<polygon fill=\"black\" stroke=\"black\" points=\"318.5,-118.1 315,-108.1 311.5,-118.1 318.5,-118.1\"/>\n",
       "</g>\n",
       "<!-- 4835065616 -->\n",
       "<g id=\"node15\" class=\"node\">\n",
       "<title>4835065616</title>\n",
       "<ellipse fill=\"none\" stroke=\"black\" cx=\"387\" cy=\"-90\" rx=\"27\" ry=\"18\"/>\n",
       "<text text-anchor=\"middle\" x=\"387\" y=\"-86.3\" font-family=\"Times,serif\" font-size=\"14.00\">add</text>\n",
       "</g>\n",
       "<!-- 4834207104&#45;&gt;4835065616 -->\n",
       "<g id=\"edge14\" class=\"edge\">\n",
       "<title>4834207104&#45;&gt;4835065616</title>\n",
       "<path fill=\"none\" stroke=\"black\" d=\"M329.57,-146.83C339.75,-136.94 353.52,-123.55 365.03,-112.36\"/>\n",
       "<polygon fill=\"black\" stroke=\"black\" points=\"367.47,-114.87 372.2,-105.38 362.59,-109.85 367.47,-114.87\"/>\n",
       "</g>\n",
       "<!-- 4835064992 -->\n",
       "<g id=\"node16\" class=\"node\">\n",
       "<title>4835064992</title>\n",
       "<ellipse fill=\"none\" stroke=\"black\" cx=\"369\" cy=\"-18\" rx=\"27\" ry=\"18\"/>\n",
       "<text text-anchor=\"middle\" x=\"369\" y=\"-14.3\" font-family=\"Times,serif\" font-size=\"14.00\">ef</text>\n",
       "</g>\n",
       "<!-- 4835065616&#45;&gt;4835064992 -->\n",
       "<g id=\"edge12\" class=\"edge\">\n",
       "<title>4835065616&#45;&gt;4835064992</title>\n",
       "<path fill=\"none\" stroke=\"black\" d=\"M382.64,-72.05C380.61,-64.14 378.14,-54.54 375.86,-45.69\"/>\n",
       "<polygon fill=\"black\" stroke=\"black\" points=\"379.2,-44.6 373.32,-35.79 372.42,-46.35 379.2,-44.6\"/>\n",
       "</g>\n",
       "<!-- 4835065040 -->\n",
       "<g id=\"node17\" class=\"node\">\n",
       "<title>4835065040</title>\n",
       "<ellipse fill=\"none\" stroke=\"black\" cx=\"441\" cy=\"-18\" rx=\"27\" ry=\"18\"/>\n",
       "<text text-anchor=\"middle\" x=\"441\" y=\"-14.3\" font-family=\"Times,serif\" font-size=\"14.00\">nf</text>\n",
       "</g>\n",
       "<!-- 4835065616&#45;&gt;4835065040 -->\n",
       "<g id=\"edge13\" class=\"edge\">\n",
       "<title>4835065616&#45;&gt;4835065040</title>\n",
       "<path fill=\"none\" stroke=\"black\" d=\"M398.98,-73.46C405.98,-64.4 414.94,-52.79 422.79,-42.61\"/>\n",
       "<polygon fill=\"black\" stroke=\"black\" points=\"425.71,-44.55 429.05,-34.49 420.17,-40.27 425.71,-44.55\"/>\n",
       "</g>\n",
       "</g>\n",
       "</svg>\n"
      ],
      "text/plain": [
       "<graphviz.dot.Digraph at 0x1202f7a90>"
      ]
     },
     "execution_count": 74,
     "metadata": {},
     "output_type": "execute_result"
    }
   ],
   "source": [
    "tarantula = Node(div,\n",
    "                 Node(div, Node('ef'), Node(add, Node('ef'), Node('nf'))),\n",
    "                 Node(add, Node(div, Node('ep'), Node(add, Node('ep'), Node('np'))),\n",
    "                           Node(div, Node('ef'), Node(add, Node('ef'), Node('nf'))))\n",
    "                )\n",
    "print_tree(tarantula)"
   ]
  },
  {
   "cell_type": "code",
   "execution_count": 75,
   "metadata": {
    "slideshow": {
     "slide_type": "slide"
    }
   },
   "outputs": [
    {
     "data": {
      "image/svg+xml": [
       "<?xml version=\"1.0\" encoding=\"UTF-8\" standalone=\"no\"?>\n",
       "<!DOCTYPE svg PUBLIC \"-//W3C//DTD SVG 1.1//EN\"\n",
       " \"http://www.w3.org/Graphics/SVG/1.1/DTD/svg11.dtd\">\n",
       "<!-- Generated by graphviz version 2.44.1 (20200629.0846)\n",
       " -->\n",
       "<!-- Pages: 1 -->\n",
       "<svg width=\"206pt\" height=\"260pt\"\n",
       " viewBox=\"0.00 0.00 206.00 260.00\" xmlns=\"http://www.w3.org/2000/svg\" xmlns:xlink=\"http://www.w3.org/1999/xlink\">\n",
       "<g id=\"graph0\" class=\"graph\" transform=\"scale(1 1) rotate(0) translate(4 256)\">\n",
       "<polygon fill=\"white\" stroke=\"transparent\" points=\"-4,4 -4,-256 202,-256 202,4 -4,4\"/>\n",
       "<!-- 4834045232 -->\n",
       "<g id=\"node1\" class=\"node\">\n",
       "<title>4834045232</title>\n",
       "<ellipse fill=\"none\" stroke=\"black\" cx=\"63\" cy=\"-234\" rx=\"27\" ry=\"18\"/>\n",
       "<text text-anchor=\"middle\" x=\"63\" y=\"-230.3\" font-family=\"Times,serif\" font-size=\"14.00\">sub</text>\n",
       "</g>\n",
       "<!-- 4832400864 -->\n",
       "<g id=\"node2\" class=\"node\">\n",
       "<title>4832400864</title>\n",
       "<ellipse fill=\"none\" stroke=\"black\" cx=\"27\" cy=\"-162\" rx=\"27\" ry=\"18\"/>\n",
       "<text text-anchor=\"middle\" x=\"27\" y=\"-158.3\" font-family=\"Times,serif\" font-size=\"14.00\">1</text>\n",
       "</g>\n",
       "<!-- 4834045232&#45;&gt;4832400864 -->\n",
       "<g id=\"edge1\" class=\"edge\">\n",
       "<title>4834045232&#45;&gt;4832400864</title>\n",
       "<path fill=\"none\" stroke=\"black\" d=\"M54.65,-216.76C50.29,-208.28 44.85,-197.71 39.96,-188.2\"/>\n",
       "<polygon fill=\"black\" stroke=\"black\" points=\"42.99,-186.44 35.3,-179.15 36.77,-189.64 42.99,-186.44\"/>\n",
       "</g>\n",
       "<!-- 4834043744 -->\n",
       "<g id=\"node3\" class=\"node\">\n",
       "<title>4834043744</title>\n",
       "<ellipse fill=\"none\" stroke=\"black\" cx=\"99\" cy=\"-162\" rx=\"27\" ry=\"18\"/>\n",
       "<text text-anchor=\"middle\" x=\"99\" y=\"-158.3\" font-family=\"Times,serif\" font-size=\"14.00\">div</text>\n",
       "</g>\n",
       "<!-- 4834045232&#45;&gt;4834043744 -->\n",
       "<g id=\"edge6\" class=\"edge\">\n",
       "<title>4834045232&#45;&gt;4834043744</title>\n",
       "<path fill=\"none\" stroke=\"black\" d=\"M71.35,-216.76C75.71,-208.28 81.15,-197.71 86.04,-188.2\"/>\n",
       "<polygon fill=\"black\" stroke=\"black\" points=\"89.23,-189.64 90.7,-179.15 83.01,-186.44 89.23,-189.64\"/>\n",
       "</g>\n",
       "<!-- 4832402496 -->\n",
       "<g id=\"node4\" class=\"node\">\n",
       "<title>4832402496</title>\n",
       "<ellipse fill=\"none\" stroke=\"black\" cx=\"63\" cy=\"-90\" rx=\"27\" ry=\"18\"/>\n",
       "<text text-anchor=\"middle\" x=\"63\" y=\"-86.3\" font-family=\"Times,serif\" font-size=\"14.00\">ep</text>\n",
       "</g>\n",
       "<!-- 4834043744&#45;&gt;4832402496 -->\n",
       "<g id=\"edge2\" class=\"edge\">\n",
       "<title>4834043744&#45;&gt;4832402496</title>\n",
       "<path fill=\"none\" stroke=\"black\" d=\"M90.65,-144.76C86.29,-136.28 80.85,-125.71 75.96,-116.2\"/>\n",
       "<polygon fill=\"black\" stroke=\"black\" points=\"78.99,-114.44 71.3,-107.15 72.77,-117.64 78.99,-114.44\"/>\n",
       "</g>\n",
       "<!-- 4834043648 -->\n",
       "<g id=\"node5\" class=\"node\">\n",
       "<title>4834043648</title>\n",
       "<ellipse fill=\"none\" stroke=\"black\" cx=\"135\" cy=\"-90\" rx=\"27\" ry=\"18\"/>\n",
       "<text text-anchor=\"middle\" x=\"135\" y=\"-86.3\" font-family=\"Times,serif\" font-size=\"14.00\">add</text>\n",
       "</g>\n",
       "<!-- 4834043744&#45;&gt;4834043648 -->\n",
       "<g id=\"edge5\" class=\"edge\">\n",
       "<title>4834043744&#45;&gt;4834043648</title>\n",
       "<path fill=\"none\" stroke=\"black\" d=\"M107.35,-144.76C111.71,-136.28 117.15,-125.71 122.04,-116.2\"/>\n",
       "<polygon fill=\"black\" stroke=\"black\" points=\"125.23,-117.64 126.7,-107.15 119.01,-114.44 125.23,-117.64\"/>\n",
       "</g>\n",
       "<!-- 4832402160 -->\n",
       "<g id=\"node6\" class=\"node\">\n",
       "<title>4832402160</title>\n",
       "<ellipse fill=\"none\" stroke=\"black\" cx=\"99\" cy=\"-18\" rx=\"27\" ry=\"18\"/>\n",
       "<text text-anchor=\"middle\" x=\"99\" y=\"-14.3\" font-family=\"Times,serif\" font-size=\"14.00\">ef</text>\n",
       "</g>\n",
       "<!-- 4834043648&#45;&gt;4832402160 -->\n",
       "<g id=\"edge3\" class=\"edge\">\n",
       "<title>4834043648&#45;&gt;4832402160</title>\n",
       "<path fill=\"none\" stroke=\"black\" d=\"M126.65,-72.76C122.29,-64.28 116.85,-53.71 111.96,-44.2\"/>\n",
       "<polygon fill=\"black\" stroke=\"black\" points=\"114.99,-42.44 107.3,-35.15 108.77,-45.64 114.99,-42.44\"/>\n",
       "</g>\n",
       "<!-- 4834043552 -->\n",
       "<g id=\"node7\" class=\"node\">\n",
       "<title>4834043552</title>\n",
       "<ellipse fill=\"none\" stroke=\"black\" cx=\"171\" cy=\"-18\" rx=\"27\" ry=\"18\"/>\n",
       "<text text-anchor=\"middle\" x=\"171\" y=\"-14.3\" font-family=\"Times,serif\" font-size=\"14.00\">ep</text>\n",
       "</g>\n",
       "<!-- 4834043648&#45;&gt;4834043552 -->\n",
       "<g id=\"edge4\" class=\"edge\">\n",
       "<title>4834043648&#45;&gt;4834043552</title>\n",
       "<path fill=\"none\" stroke=\"black\" d=\"M143.35,-72.76C147.71,-64.28 153.15,-53.71 158.04,-44.2\"/>\n",
       "<polygon fill=\"black\" stroke=\"black\" points=\"161.23,-45.64 162.7,-35.15 155.01,-42.44 161.23,-45.64\"/>\n",
       "</g>\n",
       "</g>\n",
       "</svg>\n"
      ],
      "text/plain": [
       "<graphviz.dot.Digraph at 0x120089520>"
      ]
     },
     "execution_count": 75,
     "metadata": {},
     "output_type": "execute_result"
    }
   ],
   "source": [
    "barinel = Node(sub, Node(1), Node(div, Node('ep'), Node(add, Node('ef'), Node('ep'))))\n",
    "print_tree(barinel)"
   ]
  },
  {
   "cell_type": "markdown",
   "metadata": {
    "slideshow": {
     "slide_type": "skip"
    }
   },
   "source": [
    "Barinel should perform better than Tarantula:"
   ]
  },
  {
   "cell_type": "code",
   "execution_count": 76,
   "metadata": {
    "slideshow": {
     "slide_type": "slide"
    }
   },
   "outputs": [
    {
     "data": {
      "text/plain": [
       "13.625"
      ]
     },
     "execution_count": 76,
     "metadata": {},
     "output_type": "execute_result"
    }
   ],
   "source": [
    "get_fitness(tarantula)"
   ]
  },
  {
   "cell_type": "code",
   "execution_count": 77,
   "metadata": {
    "slideshow": {
     "slide_type": "fragment"
    }
   },
   "outputs": [
    {
     "data": {
      "text/plain": [
       "6.625"
      ]
     },
     "execution_count": 77,
     "metadata": {},
     "output_type": "execute_result"
    }
   ],
   "source": [
    "get_fitness(barinel)"
   ]
  },
  {
   "cell_type": "markdown",
   "metadata": {
    "slideshow": {
     "slide_type": "skip"
    }
   },
   "source": [
    "But can we do better?"
   ]
  },
  {
   "cell_type": "code",
   "execution_count": 78,
   "metadata": {
    "slideshow": {
     "slide_type": "slide"
    }
   },
   "outputs": [
    {
     "name": "stdout",
     "output_type": "stream",
     "text": [
      "GA Iteration 0, best fitness: 7.875, average size: 9.5\n",
      "GA Iteration 1, best fitness: 7.875, average size: 8.333333333333334\n",
      "GA Iteration 2, best fitness: 5.375, average size: 7.333333333333333\n",
      "GA Iteration 3, best fitness: 2.625, average size: 6.583333333333333\n",
      "GA Iteration 4, best fitness: 2.5, average size: 6.083333333333333\n",
      "GA Iteration 5, best fitness: 2.5, average size: 5.5\n",
      "GA Iteration 6, best fitness: 2.5, average size: 5.291666666666667\n",
      "GA Iteration 7, best fitness: 2.5, average size: 5\n",
      "GA Iteration 8, best fitness: 2.5, average size: 5.375\n",
      "GA Iteration 9, best fitness: 2.5, average size: 4.625\n",
      "GA Iteration 10, best fitness: 2.5, average size: 4.833333333333333\n",
      "GA Iteration 11, best fitness: 2.5, average size: 5.291666666666667\n",
      "GA Iteration 12, best fitness: 2.5, average size: 4.75\n",
      "GA Iteration 13, best fitness: 2.5, average size: 4.25\n",
      "GA Iteration 14, best fitness: 2.5, average size: 4.625\n",
      "GA Iteration 15, best fitness: 2.5, average size: 4.833333333333333\n",
      "GA Iteration 16, best fitness: 2.5, average size: 4.958333333333333\n",
      "GA Iteration 17, best fitness: 2.5, average size: 4.333333333333333\n",
      "GA Iteration 18, best fitness: 2.5, average size: 4.708333333333333\n",
      "GA Iteration 19, best fitness: 2.5, average size: 5.166666666666667\n",
      "GA Iteration 20, best fitness: 2.5, average size: 4.291666666666667\n",
      "GA Iteration 21, best fitness: 2.5, average size: 4.458333333333333\n",
      "GA Iteration 22, best fitness: 2.5, average size: 4.041666666666667\n",
      "GA Iteration 23, best fitness: 2.5, average size: 4.375\n",
      "GA Iteration 24, best fitness: 2.5, average size: 4.208333333333333\n",
      "GA Iteration 25, best fitness: 2.5, average size: 5.208333333333333\n",
      "GA Iteration 26, best fitness: 2.5, average size: 4.125\n",
      "GA Iteration 27, best fitness: 2.5, average size: 3.625\n",
      "GA Iteration 28, best fitness: 2.5, average size: 4.541666666666667\n",
      "GA Iteration 29, best fitness: 2.5, average size: 4.333333333333333\n",
      "GA Iteration 30, best fitness: 2.5, average size: 4.25\n",
      "GA Iteration 31, best fitness: 2.5, average size: 3.9583333333333335\n",
      "GA Iteration 32, best fitness: 2.5, average size: 4.541666666666667\n",
      "GA Iteration 33, best fitness: 2.5, average size: 4.541666666666667\n",
      "GA Iteration 34, best fitness: 2.5, average size: 4.25\n",
      "GA Iteration 35, best fitness: 2.5, average size: 4.541666666666667\n",
      "GA Iteration 36, best fitness: 2.5, average size: 4.375\n",
      "GA Iteration 37, best fitness: 2.5, average size: 4.25\n",
      "GA Iteration 38, best fitness: 2.5, average size: 4.875\n",
      "GA Iteration 39, best fitness: 2.5, average size: 5.208333333333333\n",
      "GA Iteration 40, best fitness: 2.5, average size: 4.958333333333333\n",
      "GA Iteration 41, best fitness: 2.5, average size: 4.833333333333333\n",
      "GA Iteration 42, best fitness: 2.5, average size: 5.041666666666667\n",
      "GA Iteration 43, best fitness: 2.5, average size: 4.458333333333333\n",
      "GA Iteration 44, best fitness: 2.5, average size: 5.5\n",
      "GA Iteration 45, best fitness: 2.5, average size: 6\n",
      "GA Iteration 46, best fitness: 2.5, average size: 4.416666666666667\n",
      "GA Iteration 47, best fitness: 2.5, average size: 3.9583333333333335\n",
      "GA Iteration 48, best fitness: 2.5, average size: 4\n",
      "GA Iteration 49, best fitness: 2.5, average size: 4.833333333333333\n",
      "GA Iteration 50, best fitness: 2.5, average size: 4.5\n",
      "GA Iteration 51, best fitness: 2.5, average size: 4\n",
      "GA Iteration 52, best fitness: 2.5, average size: 4.041666666666667\n",
      "GA Iteration 53, best fitness: 2.5, average size: 4\n",
      "GA Iteration 54, best fitness: 2.5, average size: 4.083333333333333\n",
      "GA Iteration 55, best fitness: 2.5, average size: 5.125\n",
      "GA Iteration 56, best fitness: 2.5, average size: 3.8333333333333335\n",
      "GA Iteration 57, best fitness: 2.5, average size: 4\n",
      "GA Iteration 58, best fitness: 2.5, average size: 3.6666666666666665\n",
      "GA Iteration 59, best fitness: 2.5, average size: 3.6666666666666665\n",
      "GA Iteration 60, best fitness: 2.5, average size: 3.4583333333333335\n",
      "GA Iteration 61, best fitness: 2.5, average size: 4.041666666666667\n",
      "GA Iteration 62, best fitness: 2.5, average size: 4.375\n",
      "GA Iteration 63, best fitness: 2.5, average size: 4.041666666666667\n",
      "GA Iteration 64, best fitness: 2.5, average size: 3.875\n",
      "GA Iteration 65, best fitness: 2.5, average size: 3.5833333333333335\n",
      "GA Iteration 66, best fitness: 2.5, average size: 4.291666666666667\n",
      "GA Iteration 67, best fitness: 2.5, average size: 4.75\n",
      "GA Iteration 68, best fitness: 2.5, average size: 4.75\n",
      "GA Iteration 69, best fitness: 2.5, average size: 4.958333333333333\n",
      "GA Iteration 70, best fitness: 2.5, average size: 4.041666666666667\n",
      "GA Iteration 71, best fitness: 2.5, average size: 4.125\n",
      "GA Iteration 72, best fitness: 2.5, average size: 3.75\n",
      "GA Iteration 73, best fitness: 2.5, average size: 3.125\n",
      "GA Iteration 74, best fitness: 2.5, average size: 3.125\n",
      "GA Iteration 75, best fitness: 2.5, average size: 3.9166666666666665\n",
      "GA Iteration 76, best fitness: 2.5, average size: 3.4166666666666665\n",
      "GA Iteration 77, best fitness: 2.5, average size: 3.5833333333333335\n",
      "GA Iteration 78, best fitness: 2.5, average size: 4.208333333333333\n",
      "GA Iteration 79, best fitness: 2.5, average size: 4.291666666666667\n",
      "GA Iteration 80, best fitness: 2.5, average size: 4.041666666666667\n",
      "GA Iteration 81, best fitness: 2.5, average size: 4.333333333333333\n",
      "GA Iteration 82, best fitness: 2.5, average size: 4.208333333333333\n",
      "GA Iteration 83, best fitness: 2.5, average size: 4.333333333333333\n",
      "GA Iteration 84, best fitness: 2.5, average size: 4.291666666666667\n",
      "GA Iteration 85, best fitness: 2.5, average size: 4.291666666666667\n",
      "GA Iteration 86, best fitness: 2.5, average size: 4.166666666666667\n",
      "GA Iteration 87, best fitness: 2.5, average size: 5.166666666666667\n",
      "GA Iteration 88, best fitness: 2.5, average size: 4.125\n",
      "GA Iteration 89, best fitness: 2.5, average size: 4.208333333333333\n",
      "GA Iteration 90, best fitness: 2.5, average size: 4.25\n",
      "GA Iteration 91, best fitness: 2.5, average size: 4.083333333333333\n",
      "GA Iteration 92, best fitness: 2.5, average size: 3.7083333333333335\n",
      "GA Iteration 93, best fitness: 2.5, average size: 5.041666666666667\n",
      "GA Iteration 94, best fitness: 2.5, average size: 5.25\n",
      "GA Iteration 95, best fitness: 2.5, average size: 3.5833333333333335\n",
      "GA Iteration 96, best fitness: 2.5, average size: 4\n",
      "GA Iteration 97, best fitness: 2.5, average size: 4.166666666666667\n",
      "GA Iteration 98, best fitness: 2.5, average size: 4.041666666666667\n",
      "GA Iteration 99, best fitness: 2.5, average size: 4\n",
      "GA solution after 100 iterations, best fitness: 2.5\n"
     ]
    }
   ],
   "source": [
    "max_iterations = 100\n",
    "population_size = 50\n",
    "selection = tournament_selection\n",
    "crossover = sizefair_crossover\n",
    "P_xover = 0.7\n",
    "fitness_values = []\n",
    "size_values = []\n",
    "result = ga()"
   ]
  },
  {
   "cell_type": "code",
   "execution_count": 79,
   "metadata": {
    "slideshow": {
     "slide_type": "subslide"
    }
   },
   "outputs": [
    {
     "data": {
      "image/svg+xml": [
       "<?xml version=\"1.0\" encoding=\"UTF-8\" standalone=\"no\"?>\n",
       "<!DOCTYPE svg PUBLIC \"-//W3C//DTD SVG 1.1//EN\"\n",
       " \"http://www.w3.org/Graphics/SVG/1.1/DTD/svg11.dtd\">\n",
       "<!-- Generated by graphviz version 2.44.1 (20200629.0846)\n",
       " -->\n",
       "<!-- Pages: 1 -->\n",
       "<svg width=\"170pt\" height=\"188pt\"\n",
       " viewBox=\"0.00 0.00 170.00 188.00\" xmlns=\"http://www.w3.org/2000/svg\" xmlns:xlink=\"http://www.w3.org/1999/xlink\">\n",
       "<g id=\"graph0\" class=\"graph\" transform=\"scale(1 1) rotate(0) translate(4 184)\">\n",
       "<polygon fill=\"white\" stroke=\"transparent\" points=\"-4,4 -4,-184 166,-184 166,4 -4,4\"/>\n",
       "<!-- 4835899424 -->\n",
       "<g id=\"node1\" class=\"node\">\n",
       "<title>4835899424</title>\n",
       "<ellipse fill=\"none\" stroke=\"black\" cx=\"63\" cy=\"-162\" rx=\"27\" ry=\"18\"/>\n",
       "<text text-anchor=\"middle\" x=\"63\" y=\"-158.3\" font-family=\"Times,serif\" font-size=\"14.00\">sub</text>\n",
       "</g>\n",
       "<!-- 4835899136 -->\n",
       "<g id=\"node2\" class=\"node\">\n",
       "<title>4835899136</title>\n",
       "<ellipse fill=\"none\" stroke=\"black\" cx=\"27\" cy=\"-90\" rx=\"27\" ry=\"18\"/>\n",
       "<text text-anchor=\"middle\" x=\"27\" y=\"-86.3\" font-family=\"Times,serif\" font-size=\"14.00\">ef</text>\n",
       "</g>\n",
       "<!-- 4835899424&#45;&gt;4835899136 -->\n",
       "<g id=\"edge1\" class=\"edge\">\n",
       "<title>4835899424&#45;&gt;4835899136</title>\n",
       "<path fill=\"none\" stroke=\"black\" d=\"M54.65,-144.76C50.29,-136.28 44.85,-125.71 39.96,-116.2\"/>\n",
       "<polygon fill=\"black\" stroke=\"black\" points=\"42.99,-114.44 35.3,-107.15 36.77,-117.64 42.99,-114.44\"/>\n",
       "</g>\n",
       "<!-- 4835899520 -->\n",
       "<g id=\"node3\" class=\"node\">\n",
       "<title>4835899520</title>\n",
       "<ellipse fill=\"none\" stroke=\"black\" cx=\"99\" cy=\"-90\" rx=\"27\" ry=\"18\"/>\n",
       "<text text-anchor=\"middle\" x=\"99\" y=\"-86.3\" font-family=\"Times,serif\" font-size=\"14.00\">div</text>\n",
       "</g>\n",
       "<!-- 4835899424&#45;&gt;4835899520 -->\n",
       "<g id=\"edge4\" class=\"edge\">\n",
       "<title>4835899424&#45;&gt;4835899520</title>\n",
       "<path fill=\"none\" stroke=\"black\" d=\"M71.35,-144.76C75.71,-136.28 81.15,-125.71 86.04,-116.2\"/>\n",
       "<polygon fill=\"black\" stroke=\"black\" points=\"89.23,-117.64 90.7,-107.15 83.01,-114.44 89.23,-117.64\"/>\n",
       "</g>\n",
       "<!-- 4835898752 -->\n",
       "<g id=\"node4\" class=\"node\">\n",
       "<title>4835898752</title>\n",
       "<ellipse fill=\"none\" stroke=\"black\" cx=\"63\" cy=\"-18\" rx=\"27\" ry=\"18\"/>\n",
       "<text text-anchor=\"middle\" x=\"63\" y=\"-14.3\" font-family=\"Times,serif\" font-size=\"14.00\">ef</text>\n",
       "</g>\n",
       "<!-- 4835899520&#45;&gt;4835898752 -->\n",
       "<g id=\"edge2\" class=\"edge\">\n",
       "<title>4835899520&#45;&gt;4835898752</title>\n",
       "<path fill=\"none\" stroke=\"black\" d=\"M90.65,-72.76C86.29,-64.28 80.85,-53.71 75.96,-44.2\"/>\n",
       "<polygon fill=\"black\" stroke=\"black\" points=\"78.99,-42.44 71.3,-35.15 72.77,-45.64 78.99,-42.44\"/>\n",
       "</g>\n",
       "<!-- 4835900336 -->\n",
       "<g id=\"node5\" class=\"node\">\n",
       "<title>4835900336</title>\n",
       "<ellipse fill=\"none\" stroke=\"black\" cx=\"135\" cy=\"-18\" rx=\"27\" ry=\"18\"/>\n",
       "<text text-anchor=\"middle\" x=\"135\" y=\"-14.3\" font-family=\"Times,serif\" font-size=\"14.00\">np</text>\n",
       "</g>\n",
       "<!-- 4835899520&#45;&gt;4835900336 -->\n",
       "<g id=\"edge3\" class=\"edge\">\n",
       "<title>4835899520&#45;&gt;4835900336</title>\n",
       "<path fill=\"none\" stroke=\"black\" d=\"M107.35,-72.76C111.71,-64.28 117.15,-53.71 122.04,-44.2\"/>\n",
       "<polygon fill=\"black\" stroke=\"black\" points=\"125.23,-45.64 126.7,-35.15 119.01,-42.44 125.23,-45.64\"/>\n",
       "</g>\n",
       "</g>\n",
       "</svg>\n"
      ],
      "text/plain": [
       "<graphviz.dot.Digraph at 0x12036db80>"
      ]
     },
     "execution_count": 79,
     "metadata": {},
     "output_type": "execute_result"
    }
   ],
   "source": [
    "print_tree(result)"
   ]
  },
  {
   "cell_type": "code",
   "execution_count": 80,
   "metadata": {
    "slideshow": {
     "slide_type": "fragment"
    }
   },
   "outputs": [
    {
     "data": {
      "text/plain": [
       "2.5"
      ]
     },
     "execution_count": 80,
     "metadata": {},
     "output_type": "execute_result"
    }
   ],
   "source": [
    "get_fitness(result)"
   ]
  },
  {
   "cell_type": "markdown",
   "metadata": {
    "slideshow": {
     "slide_type": "skip"
    }
   },
   "source": [
    "Let's now compare the results of the standard metrics and our new one by looking at the top 5 most suspicious statements for each of the coefficients:"
   ]
  },
  {
   "cell_type": "code",
   "execution_count": 81,
   "metadata": {
    "slideshow": {
     "slide_type": "slide"
    }
   },
   "outputs": [
    {
     "name": "stdout",
     "output_type": "stream",
     "text": [
      "Faulty line: 7: (7, 17, 11, 6, 8)\n",
      "Faulty line: 13: (6, 7, 8, 13, 18)\n",
      "Faulty line: 39: (38, 39, 40, 42, 23)\n",
      "Faulty line: 10: (9, 11, 12, 46, 48)\n"
     ]
    }
   ],
   "source": [
    "print_ranking(tarantula)"
   ]
  },
  {
   "cell_type": "code",
   "execution_count": 82,
   "metadata": {
    "slideshow": {
     "slide_type": "fragment"
    }
   },
   "outputs": [
    {
     "name": "stdout",
     "output_type": "stream",
     "text": [
      "Faulty line: 7: (7, 11, 6, 8, 9)\n",
      "Faulty line: 13: (13, 0, 1, 2, 3)\n",
      "Faulty line: 39: (38, 39, 40, 42, 23)\n",
      "Faulty line: 10: (9, 72, 70, 71, 63)\n"
     ]
    }
   ],
   "source": [
    "print_ranking(barinel)"
   ]
  },
  {
   "cell_type": "code",
   "execution_count": 83,
   "metadata": {
    "slideshow": {
     "slide_type": "fragment"
    }
   },
   "outputs": [
    {
     "name": "stdout",
     "output_type": "stream",
     "text": [
      "Faulty line: 7: (7, 6, 8, 11, 10)\n",
      "Faulty line: 13: (13, 0, 1, 2, 3)\n",
      "Faulty line: 39: (38, 39, 40, 23, 24)\n",
      "Faulty line: 10: (9, 6, 7, 8, 10)\n"
     ]
    }
   ],
   "source": [
    "print_ranking(result)"
   ]
  },
  {
   "cell_type": "markdown",
   "metadata": {
    "slideshow": {
     "slide_type": "slide"
    }
   },
   "source": [
    "## Strongly-Typed Genetic Programming and Grammatical Evolution"
   ]
  },
  {
   "cell_type": "markdown",
   "metadata": {
    "slideshow": {
     "slide_type": "skip"
    }
   },
   "source": [
    "Our implementation of GP is untyped, and thus requires type closure. Sometimes, depending on the problem to be solved, this can be an issue. In _strongly-typed genetic programming_ all nodes have types, and operators need to follow the type rules."
   ]
  },
  {
   "cell_type": "markdown",
   "metadata": {
    "slideshow": {
     "slide_type": "skip"
    }
   },
   "source": [
    "A common way to implement strongly-typed genetic programming is using _Grammar-Guided Genetic Programming (G3P)_: G3P is based on a grammar that describes the syntax of the target language.  Each individual of the population is a derivation tree of that grammer. (Derivation step = The process of replacing a nonterminal symbol with the symbols on the right-hand side of a production rule). G3P, in principle, works similar to our GP above, with the additional caveat that initialisation, crossover, and mutation need to be adapted in order to use the grammar and to ensure that only grammatically valid derivation trees are used."
   ]
  },
  {
   "cell_type": "markdown",
   "metadata": {
    "slideshow": {
     "slide_type": "skip"
    }
   },
   "source": [
    "An alternative way to use a grammar for evolution is using _Grammatical Evolution_ (GE): Whereas a classic GP uses syntax trees as representation, the representation in grammatical evolution is a simple linear genome. Each individual is a linear structure of codons (numbers) that select production rules to be chosen during derivation from a given grammar. \n",
    "Grammatical evolution clearly separates the search and solution spaces; syntactic correctness is guaranteed by the translation process; the problem of closure is removed, and any search algorithm can be used."
   ]
  },
  {
   "cell_type": "markdown",
   "metadata": {
    "slideshow": {
     "slide_type": "skip"
    }
   },
   "source": [
    "Since we are using a list representation, we will use our list helper class that can cache fitness values again:"
   ]
  },
  {
   "cell_type": "code",
   "execution_count": 84,
   "metadata": {
    "slideshow": {
     "slide_type": "skip"
    }
   },
   "outputs": [],
   "source": [
    "class L(list):\n",
    "    \"\"\"\n",
    "    A subclass of list that can accept additional attributes.\n",
    "    Should be able to be used just like a regular list.\n",
    "    \"\"\"\n",
    "    def __new__(self, *args, **kwargs):\n",
    "        return super(L, self).__new__(self, args, kwargs)\n",
    "\n",
    "    def __init__(self, *args, **kwargs):\n",
    "        if len(args) == 1 and hasattr(args[0], '__iter__'):\n",
    "            list.__init__(self, args[0])\n",
    "        else:\n",
    "            list.__init__(self, args)\n",
    "        self.__dict__.update(kwargs)\n",
    "\n",
    "    def __call__(self, **kwargs):\n",
    "        self.__dict__.update(kwargs)\n",
    "        return self"
   ]
  },
  {
   "cell_type": "markdown",
   "metadata": {
    "slideshow": {
     "slide_type": "skip"
    }
   },
   "source": [
    "In GE the chromosome size is fixed. For example, let's start by setting the number of codons to 50. Each codon is a number in a given range, which we will encode using `MAX`:"
   ]
  },
  {
   "cell_type": "code",
   "execution_count": 85,
   "metadata": {
    "slideshow": {
     "slide_type": "skip"
    }
   },
   "outputs": [],
   "source": [
    "num_codons = 50\n",
    "MAX = 50"
   ]
  },
  {
   "cell_type": "markdown",
   "metadata": {
    "slideshow": {
     "slide_type": "skip"
    }
   },
   "source": [
    "Individuals are simply lists of (randomly generated) codons:"
   ]
  },
  {
   "cell_type": "code",
   "execution_count": 86,
   "metadata": {
    "slideshow": {
     "slide_type": "slide"
    }
   },
   "outputs": [],
   "source": [
    "def get_random_individual():\n",
    "    individual = L([random.randint(0, MAX) for _ in range(num_codons)])\n",
    "    evaluate(individual)\n",
    "    return individual"
   ]
  },
  {
   "cell_type": "markdown",
   "metadata": {
    "slideshow": {
     "slide_type": "skip"
    }
   },
   "source": [
    "This, in turn, means we can use our usual approach for mutating each gene in a chromosome with a probability dependent on the overall number of genes:"
   ]
  },
  {
   "cell_type": "code",
   "execution_count": 87,
   "metadata": {
    "slideshow": {
     "slide_type": "subslide"
    }
   },
   "outputs": [],
   "source": [
    "def mutate(individual):\n",
    "    P_mutate = 1/len(individual)\n",
    "    mutated = L(individual[:])\n",
    "    for pos in range(len(individual)):\n",
    "        if random.random() > P_mutate:\n",
    "            mutated[pos] = random.randint(0, MAX)\n",
    "    evaluate(mutated)\n",
    "    return mutated"
   ]
  },
  {
   "cell_type": "markdown",
   "metadata": {
    "slideshow": {
     "slide_type": "skip"
    }
   },
   "source": [
    "We can use standard crossover operators:"
   ]
  },
  {
   "cell_type": "code",
   "execution_count": 88,
   "metadata": {
    "slideshow": {
     "slide_type": "subslide"
    }
   },
   "outputs": [],
   "source": [
    "def singlepoint_crossover(parent1, parent2):\n",
    "    pos = random.randint(0, len(parent1))\n",
    "    offspring1 = L(parent1[:pos] + parent2[pos:])\n",
    "    offspring2 = L(parent2[:pos] + parent1[pos:])\n",
    "    return (offspring1, offspring2)"
   ]
  },
  {
   "cell_type": "markdown",
   "metadata": {
    "slideshow": {
     "slide_type": "skip"
    }
   },
   "source": [
    "...and we can also use standard parent and survivor selection operators:"
   ]
  },
  {
   "cell_type": "code",
   "execution_count": 89,
   "metadata": {
    "slideshow": {
     "slide_type": "subslide"
    }
   },
   "outputs": [],
   "source": [
    "elite_size = 2\n",
    "def elitism(population):\n",
    "    population.sort(key=lambda k: get_fitness(k))\n",
    "    return population[:elite_size]"
   ]
  },
  {
   "cell_type": "code",
   "execution_count": 90,
   "metadata": {
    "slideshow": {
     "slide_type": "subslide"
    }
   },
   "outputs": [],
   "source": [
    "tournament_size = 3\n",
    "def tournament_selection(population):\n",
    "    candidates = random.sample(population, tournament_size)        \n",
    "    winner = min(candidates, key=lambda x: get_fitness(x))\n",
    "    return winner"
   ]
  },
  {
   "cell_type": "markdown",
   "metadata": {
    "slideshow": {
     "slide_type": "skip"
    }
   },
   "source": [
    "In order to explain the process of decoding codons to production rules, we need to define a grammar for an example problem. Let's assume we want to generate Python code for a function with two parameters, which returns the larger of the two parameters. Our grammar thus covers linear sequences of code with if-statements, where we restrict each if-statement to a single operation. Operations can be updates of a local variable `__return__` which, at the end of the function, will define the return value:"
   ]
  },
  {
   "cell_type": "code",
   "execution_count": 91,
   "metadata": {
    "slideshow": {
     "slide_type": "slide"
    }
   },
   "outputs": [],
   "source": [
    "EXAMPLE_GRAMMAR = {\n",
    "    \"<start>\":\n",
    "        [\"<code>\"],\n",
    "\n",
    "    \"<code>\":\n",
    "        [\"<line>\", \"<code>\\n<line>\"],\n",
    "\n",
    "    \"<line>\":\n",
    "        [\"    <expr>\"],\n",
    "\n",
    "    \"<expr>\":\n",
    "        [\"<if-statement>\",\n",
    "         \"<op>\"],\n",
    "\n",
    "    \"<if-statement>\":\n",
    "        [\"if <condition>:\\n        <op>\"],\n",
    "\n",
    "    \"<condition>\":\n",
    "        [\"<param> <operator> <param>\"],\n",
    "    \"<param>\":\n",
    "        [\"x\", \"y\"],\n",
    "    \"<operator>\":\n",
    "        [\"<\", \">\", \"==\"],\n",
    "    \"<op>\":\n",
    "        [\"__return__ = x\", \"__return__ = y\"]\n",
    "}"
   ]
  },
  {
   "cell_type": "markdown",
   "metadata": {
    "slideshow": {
     "slide_type": "skip"
    }
   },
   "source": [
    "One of the production rules must be explicitly chosen as the start label\""
   ]
  },
  {
   "cell_type": "code",
   "execution_count": 92,
   "metadata": {
    "slideshow": {
     "slide_type": "skip"
    }
   },
   "outputs": [],
   "source": [
    "START_SYMBOL = \"<start>\""
   ]
  },
  {
   "cell_type": "markdown",
   "metadata": {
    "slideshow": {
     "slide_type": "skip"
    }
   },
   "source": [
    "In order to determine whether a production rule contains further non-terminals we use a simple regular expression. Anything within `<` and `>` counts as a non-terminal:"
   ]
  },
  {
   "cell_type": "code",
   "execution_count": 93,
   "metadata": {
    "slideshow": {
     "slide_type": "skip"
    }
   },
   "outputs": [],
   "source": [
    "RE_NONTERMINAL = re.compile(r'(<[^<> ]*>)')"
   ]
  },
  {
   "cell_type": "code",
   "execution_count": 94,
   "metadata": {
    "slideshow": {
     "slide_type": "skip"
    }
   },
   "outputs": [],
   "source": [
    "def nonterminals(expansion):\n",
    "    return re.findall(RE_NONTERMINAL, expansion)"
   ]
  },
  {
   "cell_type": "markdown",
   "metadata": {
    "slideshow": {
     "slide_type": "skip"
    }
   },
   "source": [
    "Depending on the grammar used, a derivation can be of any size; we need to put some limit on the size of the derivations:"
   ]
  },
  {
   "cell_type": "code",
   "execution_count": 95,
   "metadata": {
    "slideshow": {
     "slide_type": "skip"
    }
   },
   "outputs": [],
   "source": [
    "max_expansions = 50"
   ]
  },
  {
   "cell_type": "markdown",
   "metadata": {
    "slideshow": {
     "slide_type": "skip"
    }
   },
   "source": [
    "In order to decode an individual we start with the start rule, and apply derivation. Whenever there is a choice of multiple production rules during the derivation, the number of the rule is determined by the next codon; i.e., we always pick the rule with the number _codon_ $%$ _number of rules_. Non-terminals are resolved from left to right (we need to make sure that the derivation is deterministic). Whenever we use a codon, we move to the next number in the chromosome. If we hit the last codon in a chromosome then we wrap and start over from the first one."
   ]
  },
  {
   "cell_type": "code",
   "execution_count": 96,
   "metadata": {
    "slideshow": {
     "slide_type": "slide"
    }
   },
   "outputs": [],
   "source": [
    "def decode(individual, grammar, log=False):\n",
    "    pos = 0\n",
    "    term = START_SYMBOL\n",
    "    num_expansions = 0\n",
    "    count = 0\n",
    "    \n",
    "    while len(nonterminals(term)) > 0 and num_expansions < max_expansions:\n",
    "        \n",
    "        symbol_to_expand = nonterminals(term)[0]\n",
    "        expansions = grammar[symbol_to_expand]\n",
    "        if len(expansions) == 1:\n",
    "            expansion = expansions[0]\n",
    "        else:\n",
    "            codon = individual[pos]\n",
    "            pos = (pos + 1) % len(individual)\n",
    "            expansion = expansions[codon % len(expansions)]\n",
    "            \n",
    "        new_term = term.replace(symbol_to_expand, expansion, 1)\n",
    "    \n",
    "        term = new_term\n",
    "        if log:\n",
    "            print(\"%-40s\" % (symbol_to_expand + \" -> \" + expansion), term)\n",
    "        num_expansions += 1\n",
    "\n",
    "    return term"
   ]
  },
  {
   "cell_type": "code",
   "execution_count": 97,
   "metadata": {
    "slideshow": {
     "slide_type": "subslide"
    }
   },
   "outputs": [
    {
     "name": "stdout",
     "output_type": "stream",
     "text": [
      "<start> -> <code>                        <code>\n",
      "<code> -> <code>\n",
      "<line>                  <code>\n",
      "<line>\n",
      "<code> -> <line>                         <line>\n",
      "<line>\n",
      "<line> ->     <expr>                         <expr>\n",
      "<line>\n",
      "<expr> -> <op>                               <op>\n",
      "<line>\n",
      "<op> -> __return__ = y                       __return__ = y\n",
      "<line>\n",
      "<line> ->     <expr>                         __return__ = y\n",
      "    <expr>\n",
      "<expr> -> <if-statement>                     __return__ = y\n",
      "    <if-statement>\n",
      "<if-statement> -> if <condition>:\n",
      "        <op>     __return__ = y\n",
      "    if <condition>:\n",
      "        <op>\n",
      "<condition> -> <param> <operator> <param>     __return__ = y\n",
      "    if <param> <operator> <param>:\n",
      "        <op>\n",
      "<param> -> y                                 __return__ = y\n",
      "    if y <operator> <param>:\n",
      "        <op>\n",
      "<operator> -> >                              __return__ = y\n",
      "    if y > <param>:\n",
      "        <op>\n",
      "<param> -> x                                 __return__ = y\n",
      "    if y > x:\n",
      "        <op>\n",
      "<op> -> __return__ = y                       __return__ = y\n",
      "    if y > x:\n",
      "        __return__ = y\n"
     ]
    },
    {
     "data": {
      "text/plain": [
       "'    __return__ = y\\n    if y > x:\\n        __return__ = y'"
      ]
     },
     "execution_count": 97,
     "metadata": {},
     "output_type": "execute_result"
    }
   ],
   "source": [
    "decode([1,2,3], EXAMPLE_GRAMMAR, log=True)"
   ]
  },
  {
   "cell_type": "markdown",
   "metadata": {
    "slideshow": {
     "slide_type": "skip"
    }
   },
   "source": [
    "Given the string representation of a program we need to create an executable version in order to measure the fitness. We already compiled code at runtime in the previous chapter, so we essentially do the same again here. For any given string representation of a function, e.g.:"
   ]
  },
  {
   "cell_type": "code",
   "execution_count": 98,
   "metadata": {
    "slideshow": {
     "slide_type": "skip"
    }
   },
   "outputs": [],
   "source": [
    "text = \"\"\"\n",
    "def foo():\n",
    "  print(\"Foo\")\n",
    "\"\"\""
   ]
  },
  {
   "cell_type": "markdown",
   "metadata": {
    "slideshow": {
     "slide_type": "skip"
    }
   },
   "source": [
    "We call the `compile` function which produces a code object. This code object we insert into the dictionary of modules such that we can call the function using its name, e.g.:"
   ]
  },
  {
   "cell_type": "code",
   "execution_count": 99,
   "metadata": {
    "slideshow": {
     "slide_type": "skip"
    }
   },
   "outputs": [],
   "source": [
    "code = compile(text, filename=\"<GE>\", mode=\"exec\")\n",
    "current_module = sys.modules[__name__]\n",
    "exec(code, current_module.__dict__)"
   ]
  },
  {
   "cell_type": "code",
   "execution_count": 100,
   "metadata": {
    "slideshow": {
     "slide_type": "skip"
    }
   },
   "outputs": [
    {
     "name": "stdout",
     "output_type": "stream",
     "text": [
      "Foo\n"
     ]
    }
   ],
   "source": [
    "foo()"
   ]
  },
  {
   "cell_type": "markdown",
   "metadata": {
    "slideshow": {
     "slide_type": "skip"
    }
   },
   "source": [
    "We use a function that puts the decoded chromosome into a function, and we'll include the function signature and return value for now:"
   ]
  },
  {
   "cell_type": "code",
   "execution_count": 101,
   "metadata": {
    "slideshow": {
     "slide_type": "slide"
    }
   },
   "outputs": [],
   "source": [
    "def create_function(individual):\n",
    "    program_text = decode(individual, EXAMPLE_GRAMMAR)\n",
    "    source = \"\"\"def generated_function(x, y):\n",
    "    __return__ = 0\n",
    "%s\n",
    "    return __return__\n",
    "\"\"\" % program_text\n",
    "    code = compile(source, filename=\"<GE>\", mode=\"exec\")\n",
    "    current_module = sys.modules[__name__]\n",
    "    exec(code, current_module.__dict__)\n",
    "    return generated_function"
   ]
  },
  {
   "cell_type": "markdown",
   "metadata": {
    "slideshow": {
     "slide_type": "skip"
    }
   },
   "source": [
    "In order to calculate the fitness value we just need to run the function a number of times with some test data that represents the function we want to learn. Let's produce some test data again; let our example function return the maximum of the two input parameters:"
   ]
  },
  {
   "cell_type": "code",
   "execution_count": 102,
   "metadata": {
    "slideshow": {
     "slide_type": "skip"
    }
   },
   "outputs": [],
   "source": [
    "training_data = []"
   ]
  },
  {
   "cell_type": "code",
   "execution_count": 103,
   "metadata": {
    "slideshow": {
     "slide_type": "slide"
    }
   },
   "outputs": [],
   "source": [
    "for i in range(20):\n",
    "    num1 = random.randint(0, MAX)\n",
    "    num2 = random.randint(0, MAX)\n",
    "    training_data.append(([num1, num2], max([num1, num2])))"
   ]
  },
  {
   "cell_type": "markdown",
   "metadata": {
    "slideshow": {
     "slide_type": "skip"
    }
   },
   "source": [
    "There may be errors during the execution; for example, if we hit the maximum number of expansions (`max_expansions`) then the code may not compile. There may be an exception if there is a division by zero or some other error. In these cases we assign the function the maximum (worst) fitness value and let selective pressure handle this for us:"
   ]
  },
  {
   "cell_type": "code",
   "execution_count": 104,
   "metadata": {
    "slideshow": {
     "slide_type": "slide"
    }
   },
   "outputs": [],
   "source": [
    "def evaluate(individual):\n",
    "    fitness = len(training_data)\n",
    "    individual.fitness = fitness\n",
    "    try:\n",
    "        p = create_function(individual)\n",
    "\n",
    "        for (test_data, test_output) in training_data:\n",
    "            result = p(*test_data)\n",
    "            if result == test_output:\n",
    "                fitness -= 1\n",
    "    except:\n",
    "        return len(training_data)\n",
    "\n",
    "    individual.fitness = fitness\n",
    "    return fitness"
   ]
  },
  {
   "cell_type": "code",
   "execution_count": 105,
   "metadata": {
    "slideshow": {
     "slide_type": "skip"
    }
   },
   "outputs": [
    {
     "data": {
      "text/plain": [
       "13"
      ]
     },
     "execution_count": 105,
     "metadata": {},
     "output_type": "execute_result"
    }
   ],
   "source": [
    "x = get_random_individual()\n",
    "x.fitness"
   ]
  },
  {
   "cell_type": "markdown",
   "metadata": {
    "slideshow": {
     "slide_type": "skip"
    }
   },
   "source": [
    "Since we call the `evaluate` function directly after generating or mutating individuals, retrieving the fitness function just consists of retrieving the cached fitness value:"
   ]
  },
  {
   "cell_type": "code",
   "execution_count": 106,
   "metadata": {
    "slideshow": {
     "slide_type": "skip"
    }
   },
   "outputs": [],
   "source": [
    "def get_fitness(individual):\n",
    "    return individual.fitness"
   ]
  },
  {
   "cell_type": "markdown",
   "metadata": {
    "slideshow": {
     "slide_type": "skip"
    }
   },
   "source": [
    "In order to use our new individuals we need to modify our GA such that it uses this new representation rather than the tree structure we defined earlier; that is, we need to replace the ramped half and half initialisation with a simple random sampling:"
   ]
  },
  {
   "cell_type": "code",
   "execution_count": 107,
   "metadata": {
    "slideshow": {
     "slide_type": "skip"
    }
   },
   "outputs": [],
   "source": [
    "def get_initial_population():\n",
    "    return [get_random_individual() for _ in range(population_size)]"
   ]
  },
  {
   "cell_type": "markdown",
   "metadata": {
    "slideshow": {
     "slide_type": "skip"
    }
   },
   "source": [
    "Furthermore, since we now have a fixed size representation we can omit the handling of size as a secondary criterion during selection:"
   ]
  },
  {
   "cell_type": "code",
   "execution_count": 108,
   "metadata": {
    "slideshow": {
     "slide_type": "slide"
    }
   },
   "outputs": [],
   "source": [
    "def evolution_step(population):\n",
    "    new_population = []\n",
    "    while len(new_population) < len(population):\n",
    "        parent1 = selection(population)\n",
    "        parent2 = selection(population)\n",
    "\n",
    "        if random.random() < P_xover:\n",
    "            offspring1, offspring2 = crossover(parent1, parent2)\n",
    "        else:\n",
    "            offspring1, offspring2 = parent1, parent2\n",
    "\n",
    "        offspring1 = mutate(offspring1)\n",
    "        offspring2 = mutate(offspring2)\n",
    "        \n",
    "        new_population.append(offspring1)\n",
    "        new_population.append(offspring2)\n",
    "\n",
    "    population.clear()\n",
    "    population.extend(new_population)"
   ]
  },
  {
   "cell_type": "code",
   "execution_count": 109,
   "metadata": {
    "slideshow": {
     "slide_type": "slide"
    }
   },
   "outputs": [],
   "source": [
    "def ga():\n",
    "    population = get_initial_population()\n",
    "    best_fitness = sys.maxsize\n",
    "    for p in population:\n",
    "        fitness = get_fitness(p)\n",
    "        if fitness < best_fitness:\n",
    "            best_fitness = fitness\n",
    "            best_solution = L(p[:])\n",
    "\n",
    "    iteration = 0\n",
    "    print(f\"GA Iteration {iteration}, best fitness: {best_fitness}\")\n",
    "    while iteration < max_iterations and best_fitness > 0:\n",
    "        fitness_values.append(best_fitness)\n",
    "        iteration += 1\n",
    "        evolution_step(population)\n",
    "\n",
    "        for p in population:\n",
    "            fitness = get_fitness(p)\n",
    "            if fitness < best_fitness:\n",
    "                print(f\"GA Iteration {iteration}, best fitness: {best_fitness}\")\n",
    "                best_fitness = fitness\n",
    "                best_solution = L(p[:])\n",
    "\n",
    "    print(f\"GA solution after {iteration} iterations, best fitness: {best_fitness}\")\n",
    "    return best_solution\n"
   ]
  },
  {
   "cell_type": "markdown",
   "metadata": {
    "slideshow": {
     "slide_type": "skip"
    }
   },
   "source": [
    "With this, we can apply the grammatical evolution to produce our own max function:"
   ]
  },
  {
   "cell_type": "code",
   "execution_count": 110,
   "metadata": {
    "slideshow": {
     "slide_type": "slide"
    }
   },
   "outputs": [
    {
     "name": "stdout",
     "output_type": "stream",
     "text": [
      "GA Iteration 0, best fitness: 7\n",
      "GA Iteration 4, best fitness: 7\n",
      "GA solution after 4 iterations, best fitness: 0\n"
     ]
    }
   ],
   "source": [
    "population_size = 20\n",
    "P_xover = 0.7\n",
    "max_iterations = 100\n",
    "num_codons = 20\n",
    "selection = tournament_selection\n",
    "crossover = singlepoint_crossover\n",
    "fitness_values = []\n",
    "result = ga()"
   ]
  },
  {
   "cell_type": "code",
   "execution_count": 111,
   "metadata": {
    "slideshow": {
     "slide_type": "fragment"
    }
   },
   "outputs": [
    {
     "name": "stdout",
     "output_type": "stream",
     "text": [
      "    __return__ = x\n",
      "    if y > x:\n",
      "        __return__ = y\n"
     ]
    }
   ],
   "source": [
    "print(decode(result, EXAMPLE_GRAMMAR))"
   ]
  },
  {
   "cell_type": "markdown",
   "metadata": {
    "slideshow": {
     "slide_type": "skip"
    }
   },
   "source": [
    "This problem is probably slightly too easy, so let's increase difficulty by expanding to three parameters. We therefore require a corresponding function template:"
   ]
  },
  {
   "cell_type": "code",
   "execution_count": 112,
   "metadata": {
    "slideshow": {
     "slide_type": "slide"
    }
   },
   "outputs": [],
   "source": [
    "def create_function(individual):\n",
    "    program_text = decode(individual, EXAMPLE_GRAMMAR)\n",
    "    source = \"\"\"def generated_function(x, y, z):\n",
    "    __return__ = 0\n",
    "%s\n",
    "    return __return__\n",
    "\"\"\" % program_text\n",
    "    code = compile(source, filename=\"<GE>\", mode=\"exec\")\n",
    "    current_module = sys.modules[__name__]\n",
    "    exec(code, current_module.__dict__)\n",
    "    return generated_function"
   ]
  },
  {
   "cell_type": "markdown",
   "metadata": {
    "slideshow": {
     "slide_type": "skip"
    }
   },
   "source": [
    "As well as some test data:"
   ]
  },
  {
   "cell_type": "code",
   "execution_count": 113,
   "metadata": {
    "slideshow": {
     "slide_type": "fragment"
    }
   },
   "outputs": [],
   "source": [
    "training_data = []\n",
    "for i in range(1000):\n",
    "    num1 = random.randint(0, MAX)\n",
    "    num2 = random.randint(0, MAX)\n",
    "    num3 = random.randint(0, MAX)\n",
    "    \n",
    "    training_data.append(([num1, num2, num3], max([num1, num2, num3])))"
   ]
  },
  {
   "cell_type": "markdown",
   "metadata": {
    "slideshow": {
     "slide_type": "skip"
    }
   },
   "source": [
    "We'll slightly expand our grammar to also include conjunctions and disjuctions and more relational operators:"
   ]
  },
  {
   "cell_type": "code",
   "execution_count": 114,
   "metadata": {
    "slideshow": {
     "slide_type": "slide"
    }
   },
   "outputs": [],
   "source": [
    "EXAMPLE_GRAMMAR = {\n",
    "    \"<start>\":\n",
    "        [\"<code>\"],\n",
    "\n",
    "    \"<code>\":\n",
    "        [\"<line>\", \"<code>\\n<line>\"],\n",
    "\n",
    "    \"<line>\":\n",
    "        [\"    <expr>\"],\n",
    "\n",
    "    \"<expr>\":\n",
    "        [\"<if-statement>\",\n",
    "         \"<op>\"],\n",
    "\n",
    "    \"<if-statement>\":\n",
    "        [\"if <condition>:\\n        <op>\"],\n",
    "\n",
    "    \"<condition>\":\n",
    "        [\"<param> <operator> <param>\", \"<param> <operator> <param> and <param> <operator> <param>\", \"<param> <operator> <param> or <param> <operator> <param>\"],\n",
    "\n",
    "    \"<param>\":\n",
    "        [\"x\", \"y\", \"z\", \"__return__\"],\n",
    "\n",
    "    \"<operator>\":\n",
    "        [\"<\", \">\", \"<=\", \">=\", \"==\", \"!=\"],\n",
    "\n",
    "    \"<op>\":\n",
    "        [\"__return__ = <param>\"]\n",
    "}"
   ]
  },
  {
   "cell_type": "code",
   "execution_count": 115,
   "metadata": {
    "slideshow": {
     "slide_type": "slide"
    }
   },
   "outputs": [
    {
     "name": "stdout",
     "output_type": "stream",
     "text": [
      "GA Iteration 0, best fitness: 499\n",
      "GA Iteration 2, best fitness: 499\n",
      "GA Iteration 3, best fitness: 490\n",
      "GA Iteration 5, best fitness: 478\n",
      "GA Iteration 5, best fitness: 461\n",
      "GA Iteration 6, best fitness: 352\n",
      "GA Iteration 122, best fitness: 300\n",
      "GA Iteration 128, best fitness: 292\n",
      "GA solution after 128 iterations, best fitness: 0\n"
     ]
    }
   ],
   "source": [
    "population_size = 100\n",
    "P_xover = 0.7\n",
    "max_iterations = 500\n",
    "max_expansions = 80\n",
    "num_codons = 80\n",
    "selection = tournament_selection\n",
    "tournament_size = 4\n",
    "crossover = singlepoint_crossover\n",
    "fitness_values = []\n",
    "result = ga()"
   ]
  },
  {
   "cell_type": "code",
   "execution_count": 116,
   "metadata": {
    "slideshow": {
     "slide_type": "subslide"
    }
   },
   "outputs": [
    {
     "name": "stdout",
     "output_type": "stream",
     "text": [
      "    if z > z or z <= z:\n",
      "        __return__ = z\n",
      "    if y <= __return__ or z >= __return__:\n",
      "        __return__ = y\n",
      "    if __return__ < x:\n",
      "        __return__ = x\n",
      "    if y > y:\n",
      "        __return__ = z\n",
      "    if __return__ < z and y < z:\n",
      "        __return__ = z\n"
     ]
    }
   ],
   "source": [
    "print(decode(result, EXAMPLE_GRAMMAR))"
   ]
  },
  {
   "cell_type": "markdown",
   "metadata": {
    "slideshow": {
     "slide_type": "skip"
    }
   },
   "source": [
    "More practical information about Genetic Programming can be found in the free ebook [A Field Guide to Genetic Programming](http://www0.cs.ucl.ac.uk/staff/W.Langdon/ftp/papers/poli08_fieldguide.pdf)\n",
    "\n",
    "The programs we tried to evolve in this chapter have all been comparatively tiny. Indeed GPs are not generally used to evolve large programs, as they cannot easily come up with complex system designs and architectures. While evolving large programs from scratch may currently not be possible, it is possible to improve existing programs. This is the aim of program repair and genetic improvement, which we will consider next in the course."
   ]
  }
 ],
 "metadata": {
  "kernelspec": {
   "display_name": "3.8.6",
   "language": "python",
   "name": "3.8.6"
  },
  "language_info": {
   "codemirror_mode": {
    "name": "ipython",
    "version": 3
   },
   "file_extension": ".py",
   "mimetype": "text/x-python",
   "name": "python",
   "nbconvert_exporter": "python",
   "pygments_lexer": "ipython3",
   "version": "3.8.6"
  }
 },
 "nbformat": 4,
 "nbformat_minor": 4
}
