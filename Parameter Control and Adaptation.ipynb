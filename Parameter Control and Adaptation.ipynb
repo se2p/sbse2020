{
 "cells": [
  {
   "cell_type": "markdown",
   "metadata": {
    "slideshow": {
     "slide_type": "slide"
    }
   },
   "source": [
    "# Parameter Control and Adaptation"
   ]
  },
  {
   "cell_type": "markdown",
   "metadata": {
    "slideshow": {
     "slide_type": "skip"
    }
   },
   "source": [
    "Evolutionary algorithms have many different parameters and implementation choices. There are qualitative parameters in the design of an algorithm (e.g., what representation, what recombination operators, what selection operators, etc.) and quantitative parameters (e.g., mutation rate, crossover rate, selection bias, population size, etc.) So far, we used intuition and common default values for many of these parameters. However, parameters can have a large influence on the performance of an algorithm on a particular problem. This chapter looks at how to optimise the selection of parameter values."
   ]
  },
  {
   "cell_type": "markdown",
   "metadata": {
    "slideshow": {
     "slide_type": "slide"
    }
   },
   "source": [
    "## Example Problem: Pairwise Testing"
   ]
  },
  {
   "cell_type": "markdown",
   "metadata": {
    "slideshow": {
     "slide_type": "skip"
    }
   },
   "source": [
    "As an example search problem we will consider pairwise testing, a form of combinatorial interaction testing where we want to generate covering arrays of strength 2. The problem is as follows: We are testing a system with _x_ parameters, each parameter can have a different number of parameter values. In order to properly test the system, we would need to check all possible combinations of parameter values, but the combinatorial explosion usually makes this practically impossible. Since most failures are triggered by combinations of only few combinations, the idea of pairwise testing is to try to cover all combinations of values for any pair of 2 parameters, which greatly reduces the number of tests."
   ]
  },
  {
   "cell_type": "markdown",
   "metadata": {
    "slideshow": {
     "slide_type": "skip"
    }
   },
   "source": [
    "Let's assume we have a system with a number of parameters, each with a number of parameters:"
   ]
  },
  {
   "cell_type": "code",
   "execution_count": 1,
   "metadata": {
    "slideshow": {
     "slide_type": "fragment"
    }
   },
   "outputs": [],
   "source": [
    "parameters = { 0 : [\"a\", \"b\", \"c\", \"d\", \"x\"],\n",
    "               1 : [\"d\", \"e\", \"f\", \"g\", \"x\"],\n",
    "               2 : [\"g\", \"h\", \"i\", \"j\", \"x\"],\n",
    "               3 : [\"g\", \"h\", \"i\", \"j\", \"x\"],\n",
    "               4 : [\"g\", \"h\", \"i\", \"j\", \"x\"],\n",
    "               5 : [\"j\", \"k\", \"l\", \"m\", \"x\"]}"
   ]
  },
  {
   "cell_type": "markdown",
   "metadata": {
    "slideshow": {
     "slide_type": "skip"
    }
   },
   "source": [
    "The aim of our optimisation problem is to produce a set of tests that covers as many as possible combinations of parameter-value pairs, at the same time we don't want too many test cases. In principle we could make this a multi-objective problem and optimise for size and coverage, but to simplify our examples we will just assume a fixed number of tests, and try to cover as many as possible pairs with that exact number of tests:"
   ]
  },
  {
   "cell_type": "code",
   "execution_count": 2,
   "metadata": {
    "slideshow": {
     "slide_type": "fragment"
    }
   },
   "outputs": [],
   "source": [
    "num_tests = 25"
   ]
  },
  {
   "cell_type": "markdown",
   "metadata": {
    "slideshow": {
     "slide_type": "skip"
    }
   },
   "source": [
    "We'll use a very basic genetic algorithm to solve the problem. As usual, some imports:"
   ]
  },
  {
   "cell_type": "code",
   "execution_count": 3,
   "metadata": {
    "slideshow": {
     "slide_type": "skip"
    }
   },
   "outputs": [],
   "source": [
    "import random\n",
    "import pprint\n",
    "import math\n",
    "import copy\n",
    "import matplotlib.pyplot as plt"
   ]
  },
  {
   "cell_type": "markdown",
   "metadata": {
    "slideshow": {
     "slide_type": "skip"
    }
   },
   "source": [
    "We'll use our wrapper class because we will be cachine some values later on:"
   ]
  },
  {
   "cell_type": "code",
   "execution_count": 4,
   "metadata": {
    "slideshow": {
     "slide_type": "skip"
    }
   },
   "outputs": [],
   "source": [
    "class L(list):\n",
    "    \"\"\"\n",
    "    A subclass of list that can accept additional attributes.\n",
    "    Should be able to be used just like a regular list.\n",
    "    \"\"\"\n",
    "    def __new__(self, *args, **kwargs):\n",
    "        return super(L, self).__new__(self, args, kwargs)\n",
    "\n",
    "    def __init__(self, *args, **kwargs):\n",
    "        if len(args) == 1 and hasattr(args[0], '__iter__'):\n",
    "            list.__init__(self, args[0])\n",
    "        else:\n",
    "            list.__init__(self, args)\n",
    "        self.__dict__.update(kwargs)\n",
    "\n",
    "    def __call__(self, **kwargs):\n",
    "        self.__dict__.update(kwargs)\n",
    "        return self"
   ]
  },
  {
   "cell_type": "markdown",
   "metadata": {
    "slideshow": {
     "slide_type": "subslide"
    }
   },
   "source": [
    "A test case is a list of values, one for each parameter of our system:"
   ]
  },
  {
   "cell_type": "code",
   "execution_count": 5,
   "metadata": {
    "slideshow": {
     "slide_type": "fragment"
    }
   },
   "outputs": [],
   "source": [
    "def get_random_test():\n",
    "    num_params = len(parameters)\n",
    "    test = []\n",
    "    for p in range(num_params):\n",
    "        test.append(random.choice(parameters[p]))\n",
    "    return test"
   ]
  },
  {
   "cell_type": "markdown",
   "metadata": {
    "slideshow": {
     "slide_type": "fragment"
    }
   },
   "source": [
    "An individual of our search is a list of `num_tests` of such tests:"
   ]
  },
  {
   "cell_type": "code",
   "execution_count": 6,
   "metadata": {
    "slideshow": {
     "slide_type": "fragment"
    }
   },
   "outputs": [],
   "source": [
    "def get_random_solution():\n",
    "    solution = L([])\n",
    "    for test in range(num_tests):\n",
    "        solution.append(get_random_test())\n",
    "    return solution"
   ]
  },
  {
   "cell_type": "markdown",
   "metadata": {
    "slideshow": {
     "slide_type": "skip"
    }
   },
   "source": [
    "As a simple (though maybe somewhat computationally inefficient) fitness function we count how many distinct pairs of pairwise parameter-value combinations we are covering by putting them in a set and then counting the size. The larger the set, the more pairs we have covered:"
   ]
  },
  {
   "cell_type": "code",
   "execution_count": 7,
   "metadata": {
    "slideshow": {
     "slide_type": "subslide"
    }
   },
   "outputs": [],
   "source": [
    "def get_fitness(individual):\n",
    "    pairs = set()\n",
    "\n",
    "    for num1 in range(len(parameters) - 1):\n",
    "        for num2 in range(num1 + 1, len(parameters)):\n",
    "            for row in individual:\n",
    "                pairs.add((num1, num2, row[num1], row[num2]))\n",
    "\n",
    "    return len(pairs)"
   ]
  },
  {
   "cell_type": "markdown",
   "metadata": {
    "slideshow": {
     "slide_type": "skip"
    }
   },
   "source": [
    "In previous chapters, the parameters were dispersed throughout the notebooks with some global variables. Since we are focusing on parameters now, we will store them explicitly in a dictionary. Let's set some default values:"
   ]
  },
  {
   "cell_type": "code",
   "execution_count": 8,
   "metadata": {
    "slideshow": {
     "slide_type": "subslide"
    }
   },
   "outputs": [],
   "source": [
    "configuration = {\n",
    "    \"P_xover\": 0.7,\n",
    "    \"P_mutation\": 0.07,\n",
    "    \"population_size\": 100,\n",
    "    \"tournament_size\": 2\n",
    "}"
   ]
  },
  {
   "cell_type": "markdown",
   "metadata": {
    "slideshow": {
     "slide_type": "skip"
    }
   },
   "source": [
    "We are only optimising quantitative parameters, so the operators will be the ones we've used previously, adapted only to make use of our configuration dictionary:"
   ]
  },
  {
   "cell_type": "code",
   "execution_count": 9,
   "metadata": {
    "slideshow": {
     "slide_type": "subslide"
    }
   },
   "outputs": [],
   "source": [
    "def tournament_selection(population):\n",
    "    # Make sure the sample isn't larger than the population\n",
    "    candidates = random.sample(population, min(len(population), configuration[\"tournament_size\"]))\n",
    "    winner = max(candidates, key=lambda x: get_fitness(x))    \n",
    "                \n",
    "    return winner"
   ]
  },
  {
   "cell_type": "markdown",
   "metadata": {
    "slideshow": {
     "slide_type": "skip"
    }
   },
   "source": [
    "We'll use single-point crossover for tests, and just need to make sure to preserve our wrapper classes:"
   ]
  },
  {
   "cell_type": "code",
   "execution_count": 10,
   "metadata": {
    "slideshow": {
     "slide_type": "subslide"
    }
   },
   "outputs": [],
   "source": [
    "def crossover(parent1, parent2):\n",
    "    pos = random.randint(1, len(parent1))\n",
    "\n",
    "    offspring1 = L(copy.deepcopy(parent1[:pos] + parent2[pos:]))\n",
    "    offspring2 = L(copy.deepcopy(parent2[:pos] + parent1[pos:]))\n",
    "\n",
    "    return offspring1, offspring2"
   ]
  },
  {
   "cell_type": "markdown",
   "metadata": {
    "slideshow": {
     "slide_type": "skip"
    }
   },
   "source": [
    "In the past we dynamically set the mutation rate based on the size of individuals. To make it easier to evaluate the effects of the mutation rate parameter, we will now set it explicitly. Each parameter in our list of tests is replaced with a different parameter value with that probability. We'll pass in the probability as a parameter rather and read the value of the configuration dictionary outside the operator."
   ]
  },
  {
   "cell_type": "code",
   "execution_count": 11,
   "metadata": {
    "slideshow": {
     "slide_type": "subslide"
    }
   },
   "outputs": [],
   "source": [
    "def mutate(individual, P_mutate):\n",
    "    mutated = L(copy.deepcopy(individual))\n",
    "    for num_row in range(len(mutated)):\n",
    "        for num_col in range(len(parameters)):\n",
    "            if random.random() < P_mutate:\n",
    "                choice = parameters[num_col][:]\n",
    "                choice.remove(mutated[num_row][num_col])\n",
    "                mutated[num_row][num_col] = random.choice(choice)\n",
    "\n",
    "    return mutated"
   ]
  },
  {
   "cell_type": "markdown",
   "metadata": {
    "slideshow": {
     "slide_type": "skip"
    }
   },
   "source": [
    "The reproduction-related probabilities are considered during a step of our algorithm:"
   ]
  },
  {
   "cell_type": "code",
   "execution_count": 12,
   "metadata": {
    "slideshow": {
     "slide_type": "subslide"
    }
   },
   "outputs": [],
   "source": [
    "def evolution_step(population):\n",
    "    new_population = []\n",
    "    \n",
    "    while len(new_population) < len(population):\n",
    "        parent1 = selection(population)\n",
    "        parent2 = selection(population)\n",
    "\n",
    "        if random.random() < configuration[\"P_xover\"]:\n",
    "            offspring1, offspring2 = crossover(parent1, parent2)\n",
    "        else:\n",
    "            offspring1, offspring2 = parent1, parent2\n",
    "\n",
    "        offspring1 = mutate(offspring1, configuration[\"P_mutation\"])\n",
    "        offspring2 = mutate(offspring2, configuration[\"P_mutation\"])\n",
    "\n",
    "        new_population.append(offspring1)\n",
    "        new_population.append(offspring2)\n",
    "\n",
    "    population.clear()\n",
    "    population.extend(new_population)"
   ]
  },
  {
   "cell_type": "markdown",
   "metadata": {
    "slideshow": {
     "slide_type": "skip"
    }
   },
   "source": [
    "Finally, we'll just set some parameters and global variables for our experiments, such as the list of fitness values to observe what happened, and the number of fitness evaluations as our stopping criterion:"
   ]
  },
  {
   "cell_type": "code",
   "execution_count": 13,
   "metadata": {
    "slideshow": {
     "slide_type": "skip"
    }
   },
   "outputs": [],
   "source": [
    "max_evaluations = 10000\n",
    "selection = tournament_selection\n",
    "fitness_values = []"
   ]
  },
  {
   "cell_type": "markdown",
   "metadata": {
    "slideshow": {
     "slide_type": "skip"
    }
   },
   "source": [
    "The algorithm itself should by now be well known:"
   ]
  },
  {
   "cell_type": "code",
   "execution_count": 14,
   "metadata": {
    "slideshow": {
     "slide_type": "subslide"
    }
   },
   "outputs": [],
   "source": [
    "def ga():\n",
    "    population = [get_random_solution() for _ in range(configuration[\"population_size\"])]\n",
    "    best_individual = max(population, key=lambda k: get_fitness(k))\n",
    "    best_fitness = get_fitness(best_individual)\n",
    "    print(f\"Initial population, best fitness: {best_fitness}\")\n",
    "\n",
    "    iteration = 0\n",
    "    while iteration < (max_evaluations / configuration[\"population_size\"]):\n",
    "        fitness_values.append(best_fitness)\n",
    "        iteration += 1\n",
    "        evolution_step(population)\n",
    "        current_best = max(population, key=lambda k: get_fitness(k))\n",
    "        current_fitness = get_fitness(current_best)\n",
    "        if current_fitness > best_fitness:\n",
    "            print(f\"Iteration {iteration}, best fitness: {best_fitness}\")\n",
    "            best_individual = copy.deepcopy(current_best)\n",
    "            best_fitness = current_fitness\n",
    "\n",
    "    fitness_values.append(best_fitness)\n",
    "    return best_individual"
   ]
  },
  {
   "cell_type": "markdown",
   "metadata": {
    "slideshow": {
     "slide_type": "skip"
    }
   },
   "source": [
    "We can now run our algorithm and look at the resulting test suite:"
   ]
  },
  {
   "cell_type": "code",
   "execution_count": 15,
   "metadata": {
    "slideshow": {
     "slide_type": "subslide"
    }
   },
   "outputs": [
    {
     "name": "stdout",
     "output_type": "stream",
     "text": [
      "Initial population, best fitness: 264\n",
      "Iteration 8, best fitness: 264\n",
      "Iteration 13, best fitness: 267\n",
      "Iteration 17, best fitness: 269\n",
      "Iteration 18, best fitness: 271\n",
      "[['a', 'e', 'h', 'j', 'j', 'm'],\n",
      " ['a', 'f', 'g', 'x', 'x', 'j'],\n",
      " ['a', 'g', 'i', 'j', 'j', 'k'],\n",
      " ['a', 'g', 'j', 'i', 'g', 'x'],\n",
      " ['b', 'd', 'j', 'g', 'g', 'j'],\n",
      " ['b', 'd', 'j', 'j', 'h', 'x'],\n",
      " ['b', 'e', 'x', 'h', 'h', 'k'],\n",
      " ['b', 'f', 'i', 'g', 'i', 'k'],\n",
      " ['c', 'd', 'x', 'i', 'x', 'j'],\n",
      " ['c', 'e', 'j', 'g', 'x', 'x'],\n",
      " ['c', 'f', 'h', 'x', 'g', 'l'],\n",
      " ['c', 'g', 'x', 'j', 'x', 'l'],\n",
      " ['c', 'x', 'h', 'j', 'i', 'm'],\n",
      " ['d', 'd', 'j', 'i', 'j', 'j'],\n",
      " ['d', 'e', 'i', 'i', 'h', 'x'],\n",
      " ['d', 'e', 'x', 'i', 'x', 'm'],\n",
      " ['d', 'f', 'j', 'g', 'j', 'm'],\n",
      " ['d', 'g', 'i', 'j', 'x', 'j'],\n",
      " ['d', 'x', 'g', 'x', 'j', 'm'],\n",
      " ['d', 'x', 'h', 'i', 'i', 'k'],\n",
      " ['d', 'x', 'j', 'h', 'i', 'j'],\n",
      " ['x', 'd', 'i', 'x', 'i', 'm'],\n",
      " ['x', 'e', 'g', 'g', 'h', 'l'],\n",
      " ['x', 'f', 'g', 'h', 'i', 'x'],\n",
      " ['x', 'g', 'g', 'j', 'h', 'j']]\n",
      "25\n"
     ]
    }
   ],
   "source": [
    "fitness_values = []\n",
    "solution = ga()\n",
    "\n",
    "# Pretty print output\n",
    "pp = pprint.PrettyPrinter(depth=6)\n",
    "solution.sort()\n",
    "pp.pprint(solution)\n",
    "print(len(solution))"
   ]
  },
  {
   "cell_type": "code",
   "execution_count": 16,
   "metadata": {
    "slideshow": {
     "slide_type": "subslide"
    }
   },
   "outputs": [
    {
     "data": {
      "text/plain": [
       "<matplotlib.legend.Legend at 0x11ebd3af0>"
      ]
     },
     "execution_count": 16,
     "metadata": {},
     "output_type": "execute_result"
    },
    {
     "data": {
      "image/png": "[encoded data removed]",
      "text/plain": [
       "<Figure size 432x288 with 1 Axes>"
      ]
     },
     "metadata": {
      "needs_background": "light"
     },
     "output_type": "display_data"
    }
   ],
   "source": [
    "plt.plot(fitness_values, label=\"Fitness\")\n",
    "plt.legend()"
   ]
  },
  {
   "cell_type": "markdown",
   "metadata": {
    "slideshow": {
     "slide_type": "slide"
    }
   },
   "source": [
    "## Parameter Tuning"
   ]
  },
  {
   "cell_type": "markdown",
   "metadata": {
    "slideshow": {
     "slide_type": "skip"
    }
   },
   "source": [
    "Tuning refers to a (systematic) process of optimising the values of the parameters of our algorithm. There are many considerations when doing so: Which parameters, and which levels? We can't look at all possible values for our parameters, so we will have to consider some relevant values. For example, let's consider the following parameters and their possible values:"
   ]
  },
  {
   "cell_type": "code",
   "execution_count": 17,
   "metadata": {
    "slideshow": {
     "slide_type": "fragment"
    }
   },
   "outputs": [],
   "source": [
    "search_parameters = {\n",
    "    \"population_size\": [5, 37, 52, 67, 99],\n",
    "    \"tournament_size\": [1, 2, 3, 4, 5],\n",
    "    \"P_mutation\": [0.01, 0.34, 0.5, 0.65, 0.99],\n",
    "    \"P_xover\": [0.01, 0.34, 0.5, 0.65, 0.99]\n",
    "}"
   ]
  },
  {
   "cell_type": "markdown",
   "metadata": {
    "slideshow": {
     "slide_type": "skip"
    }
   },
   "source": [
    "To find the best configuration based on these options, one way is to produce a factorial design, i.e., a combination of all possible values (very similar to the example problem we are solving with search in this chapter!) Let's define a function that produces such a factorial design:"
   ]
  },
  {
   "cell_type": "code",
   "execution_count": 18,
   "metadata": {
    "slideshow": {
     "slide_type": "subslide"
    }
   },
   "outputs": [],
   "source": [
    "def get_factorial_design(search_parameters):\n",
    "    configurations = [{}]\n",
    "    \n",
    "    for parameter in search_parameters.keys():\n",
    "        new_configurations = []\n",
    "        for configuration in configurations:\n",
    "            for option in range(len(search_parameters[parameter])):\n",
    "                cp = configuration.copy()\n",
    "                cp[parameter] = search_parameters[parameter][option]\n",
    "                new_configurations.append(cp)\n",
    "            \n",
    "        configurations = new_configurations\n",
    "    \n",
    "    return configurations"
   ]
  },
  {
   "cell_type": "markdown",
   "metadata": {
    "slideshow": {
     "slide_type": "skip"
    }
   },
   "source": [
    "For our choice of parameters and values, this is the resulting factorial design:"
   ]
  },
  {
   "cell_type": "code",
   "execution_count": 19,
   "metadata": {
    "slideshow": {
     "slide_type": "subslide"
    }
   },
   "outputs": [],
   "source": [
    "# This produces a loooong list...\n",
    "# get_factorial_design(search_parameters)"
   ]
  },
  {
   "cell_type": "code",
   "execution_count": 20,
   "metadata": {
    "slideshow": {
     "slide_type": "fragment"
    }
   },
   "outputs": [
    {
     "data": {
      "text/plain": [
       "625"
      ]
     },
     "execution_count": 20,
     "metadata": {},
     "output_type": "execute_result"
    }
   ],
   "source": [
    "len(get_factorial_design(search_parameters))"
   ]
  },
  {
   "cell_type": "markdown",
   "metadata": {
    "slideshow": {
     "slide_type": "skip"
    }
   },
   "source": [
    "In order to find the best parameter setting, we would have to run the search on some example problems for each of these configurations. That would take very long, so one option is to produce a fractional factorial design where we omit or restrict certain combinations. Let's simply reduce the value choices to 2 per parameter:"
   ]
  },
  {
   "cell_type": "code",
   "execution_count": 21,
   "metadata": {
    "slideshow": {
     "slide_type": "subslide"
    }
   },
   "outputs": [],
   "source": [
    "search_parameters = {\n",
    "    \"population_size\": [20, 100],\n",
    "    \"tournament_size\": [1, 3],\n",
    "    \"P_mutation\": [0.01, 0.5],\n",
    "    \"P_xover\": [0.0, 0.7]\n",
    "}"
   ]
  },
  {
   "cell_type": "code",
   "execution_count": 22,
   "metadata": {
    "slideshow": {
     "slide_type": "fragment"
    }
   },
   "outputs": [
    {
     "data": {
      "text/plain": [
       "16"
      ]
     },
     "execution_count": 22,
     "metadata": {},
     "output_type": "execute_result"
    }
   ],
   "source": [
    "len(get_factorial_design(search_parameters))"
   ]
  },
  {
   "cell_type": "markdown",
   "metadata": {
    "slideshow": {
     "slide_type": "skip"
    }
   },
   "source": [
    "In order to evaluate how well each of the configurations performs, we need to define what _performance_ actually means. A simple measurement of performance is given be the fitness value of the resulting solution. However, since the algorithm is randomised, we need to apply it repeatedly. Furthermore, we need to choose which problem instances to evaluate the algorithm on. To keep things simple, we will only consider the specific problem listed earlier, and we'll measure the performance as the average of the best fitness values for a number of repetitions:"
   ]
  },
  {
   "cell_type": "code",
   "execution_count": 23,
   "metadata": {
    "slideshow": {
     "slide_type": "subslide"
    }
   },
   "outputs": [],
   "source": [
    "from IPython.utils import io\n",
    "def get_performance(config):\n",
    "    global max_evaluations\n",
    "    results = []\n",
    "    repetitions = 4 # Should be more, but to accelerate the notebook...\n",
    "    old_evaluations = max_evaluations\n",
    "    max_evaluations = 3000 # Should be more, but to accelerate the notebook...\n",
    "    for i in range(repetitions):\n",
    "        fitness_values = []\n",
    "        configuration.update(config)\n",
    "        with io.capture_output() as captured: \n",
    "            result = ga()\n",
    "            fitness = get_fitness(result)\n",
    "        results.append(fitness)\n",
    "    max_evaluations = old_evaluations\n",
    "    return sum(results)/len(results)"
   ]
  },
  {
   "cell_type": "markdown",
   "metadata": {
    "slideshow": {
     "slide_type": "skip"
    }
   },
   "source": [
    "Now we just have to consider each configuration of our factorial design and measure the performance. The best configuration is the one with the best performance:"
   ]
  },
  {
   "cell_type": "code",
   "execution_count": 24,
   "metadata": {
    "slideshow": {
     "slide_type": "subslide"
    }
   },
   "outputs": [
    {
     "name": "stdout",
     "output_type": "stream",
     "text": [
      "Current configuration: {'population_size': 20, 'tournament_size': 1, 'P_mutation': 0.01, 'P_xover': 0.0}\n",
      "Performance: 262.25\n",
      "Current configuration: {'population_size': 20, 'tournament_size': 1, 'P_mutation': 0.01, 'P_xover': 0.7}\n",
      "Performance: 265.5\n",
      "Current configuration: {'population_size': 20, 'tournament_size': 1, 'P_mutation': 0.5, 'P_xover': 0.0}\n",
      "Performance: 269.25\n",
      "Current configuration: {'population_size': 20, 'tournament_size': 1, 'P_mutation': 0.5, 'P_xover': 0.7}\n",
      "Performance: 268.0\n",
      "Current configuration: {'population_size': 20, 'tournament_size': 3, 'P_mutation': 0.01, 'P_xover': 0.0}\n",
      "Performance: 301.5\n",
      "Current configuration: {'population_size': 20, 'tournament_size': 3, 'P_mutation': 0.01, 'P_xover': 0.7}\n",
      "Performance: 306.25\n",
      "Current configuration: {'population_size': 20, 'tournament_size': 3, 'P_mutation': 0.5, 'P_xover': 0.0}\n",
      "Performance: 269.0\n",
      "Current configuration: {'population_size': 20, 'tournament_size': 3, 'P_mutation': 0.5, 'P_xover': 0.7}\n",
      "Performance: 268.0\n",
      "Current configuration: {'population_size': 100, 'tournament_size': 1, 'P_mutation': 0.01, 'P_xover': 0.0}\n",
      "Performance: 265.25\n",
      "Current configuration: {'population_size': 100, 'tournament_size': 1, 'P_mutation': 0.01, 'P_xover': 0.7}\n",
      "Performance: 265.5\n",
      "Current configuration: {'population_size': 100, 'tournament_size': 1, 'P_mutation': 0.5, 'P_xover': 0.0}\n",
      "Performance: 268.0\n",
      "Current configuration: {'population_size': 100, 'tournament_size': 1, 'P_mutation': 0.5, 'P_xover': 0.7}\n",
      "Performance: 267.25\n",
      "Current configuration: {'population_size': 100, 'tournament_size': 3, 'P_mutation': 0.01, 'P_xover': 0.0}\n",
      "Performance: 290.25\n",
      "Current configuration: {'population_size': 100, 'tournament_size': 3, 'P_mutation': 0.01, 'P_xover': 0.7}\n",
      "Performance: 293.0\n",
      "Current configuration: {'population_size': 100, 'tournament_size': 3, 'P_mutation': 0.5, 'P_xover': 0.0}\n",
      "Performance: 266.5\n",
      "Current configuration: {'population_size': 100, 'tournament_size': 3, 'P_mutation': 0.5, 'P_xover': 0.7}\n",
      "Performance: 267.0\n",
      "Chosen best configuration: {'population_size': 20, 'tournament_size': 3, 'P_mutation': 0.01, 'P_xover': 0.7}\n"
     ]
    }
   ],
   "source": [
    "best_config = None\n",
    "best_performance = 0\n",
    "#max_evaluations = 10000 # Limit number of fitness evaluations so we don't have to wait too long\n",
    "for config in get_factorial_design(search_parameters):\n",
    "    print(f\"Current configuration: {config}\")\n",
    "    performance = get_performance(config)\n",
    "    print(f\"Performance: {performance}\")\n",
    "    if performance > best_performance:\n",
    "        best_config = config\n",
    "        best_performance = performance\n",
    "\n",
    "print(f\"Chosen best configuration: {best_config}\")\n",
    "configuration.update(best_config)"
   ]
  },
  {
   "cell_type": "markdown",
   "metadata": {
    "slideshow": {
     "slide_type": "skip"
    }
   },
   "source": [
    "Finding vectors of parameter values is a complex optimisation task. Our performance function defines a _utility landscape_ -- an abstract landscape where the locations are the parameter vectors of an EA and the height reflects the utility (performance). Thus, technically we can treat our tuning problem as a search problem. To do so, we'll define range limits for the parameters we are optimising:"
   ]
  },
  {
   "cell_type": "code",
   "execution_count": 25,
   "metadata": {
    "slideshow": {
     "slide_type": "slide"
    }
   },
   "outputs": [],
   "source": [
    "search_parameter_ranges = {\n",
    "    \"population_size\": [1, 100],\n",
    "    \"tournament_size\": [1, 5],\n",
    "    \"P_mutation\": [0.0, 0.2],\n",
    "    \"P_xover\": [0.0, 1.0]\n",
    "}"
   ]
  },
  {
   "cell_type": "markdown",
   "metadata": {
    "slideshow": {
     "slide_type": "skip"
    }
   },
   "source": [
    "In order to apply meta-heuristic search to the problem of optimising the parameters of a meta-heuristic search algorithm, we need to define a representation, which is a parameter vector. We'll define a helper function that gives us a random value for a chosen parameter, using the range limits defined above:"
   ]
  },
  {
   "cell_type": "code",
   "execution_count": 26,
   "metadata": {
    "slideshow": {
     "slide_type": "fragment"
    }
   },
   "outputs": [],
   "source": [
    "def get_random_parameter(parameter_name):\n",
    "    value = random.uniform(*search_parameter_ranges[parameter_name])\n",
    "    if type(1) == type(search_parameter_ranges[parameter_name][0]):\n",
    "        value = int(value)\n",
    "    return value"
   ]
  },
  {
   "cell_type": "markdown",
   "metadata": {
    "slideshow": {
     "slide_type": "skip"
    }
   },
   "source": [
    "An individual of our parameter-search is a dictionary of parameter values:"
   ]
  },
  {
   "cell_type": "code",
   "execution_count": 27,
   "metadata": {
    "slideshow": {
     "slide_type": "fragment"
    }
   },
   "outputs": [],
   "source": [
    "def get_random_configuration():\n",
    "    config = {}\n",
    "    for param in search_parameter_ranges.keys():\n",
    "        config[param] = get_random_parameter(param)\n",
    "    return config"
   ]
  },
  {
   "cell_type": "code",
   "execution_count": 28,
   "metadata": {
    "slideshow": {
     "slide_type": "fragment"
    }
   },
   "outputs": [
    {
     "data": {
      "text/plain": [
       "{'population_size': 37,\n",
       " 'tournament_size': 3,\n",
       " 'P_mutation': 0.029296616266056265,\n",
       " 'P_xover': 0.82736810892516}"
      ]
     },
     "execution_count": 28,
     "metadata": {},
     "output_type": "execute_result"
    }
   ],
   "source": [
    "get_random_configuration()"
   ]
  },
  {
   "cell_type": "markdown",
   "metadata": {
    "slideshow": {
     "slide_type": "skip"
    }
   },
   "source": [
    "A very basic mutation of parameter dictionaries is to replace individual parameters with different values."
   ]
  },
  {
   "cell_type": "code",
   "execution_count": 29,
   "metadata": {
    "slideshow": {
     "slide_type": "subslide"
    }
   },
   "outputs": [],
   "source": [
    "def mutate_configuration(config):\n",
    "    copy = config.copy()\n",
    "    P_mutate = 1/len(copy)\n",
    "    while copy == config:\n",
    "        for key in copy.keys():\n",
    "            if random.random() < P_mutate:\n",
    "                copy[key] = get_random_parameter(key)\n",
    "\n",
    "    return copy"
   ]
  },
  {
   "cell_type": "markdown",
   "metadata": {
    "slideshow": {
     "slide_type": "skip"
    }
   },
   "source": [
    "Technically, we can use any search algorithm for this optimisation problem. However, measuring fitness requires running our `get_performance` function, which is expensive. Thus, some algorithms are better suited than others. One popular algorithm in practice is _differential evolution_, which we haven't covered yet, so to keep things simple we'll just use a (1+1)EA:"
   ]
  },
  {
   "cell_type": "code",
   "execution_count": 30,
   "metadata": {
    "slideshow": {
     "slide_type": "subslide"
    }
   },
   "outputs": [],
   "source": [
    "def oneplusone():\n",
    "    current = best_config #get_random_configuration()\n",
    "    fitness = get_performance(current)\n",
    "    iteration = 0\n",
    "    print(f\"Iteration {iteration}: Fitness {fitness} - {current}\")\n",
    "\n",
    "    while iteration < max_steps:\n",
    "        iteration += 1\n",
    "        candidate = mutate_configuration(current)\n",
    "        candidate_fitness = get_performance(candidate)\n",
    "        print(f\"Iteration {iteration}: Fitness {candidate_fitness} - {candidate}\")\n",
    "        if candidate_fitness >= fitness:\n",
    "            current = candidate\n",
    "            fitness = candidate_fitness\n",
    "        fitness_values.append(fitness)\n",
    "\n",
    "    return current"
   ]
  },
  {
   "cell_type": "code",
   "execution_count": 31,
   "metadata": {
    "slideshow": {
     "slide_type": "subslide"
    }
   },
   "outputs": [
    {
     "name": "stdout",
     "output_type": "stream",
     "text": [
      "Iteration 0: Fitness 306.25 - {'population_size': 20, 'tournament_size': 3, 'P_mutation': 0.01, 'P_xover': 0.7}\n",
      "Iteration 1: Fitness 305.5 - {'population_size': 20, 'tournament_size': 3, 'P_mutation': 0.01, 'P_xover': 0.24008455292027076}\n",
      "Iteration 2: Fitness 305.5 - {'population_size': 20, 'tournament_size': 3, 'P_mutation': 0.01, 'P_xover': 0.7340140610503703}\n",
      "Iteration 3: Fitness 282.25 - {'population_size': 27, 'tournament_size': 3, 'P_mutation': 0.03561303240917313, 'P_xover': 0.7}\n",
      "Iteration 4: Fitness 295.25 - {'population_size': 87, 'tournament_size': 3, 'P_mutation': 0.01, 'P_xover': 0.7}\n",
      "Iteration 5: Fitness 307.75 - {'population_size': 20, 'tournament_size': 3, 'P_mutation': 0.009117409341805006, 'P_xover': 0.7}\n",
      "Iteration 6: Fitness 302.25 - {'population_size': 41, 'tournament_size': 3, 'P_mutation': 0.009117409341805006, 'P_xover': 0.2118769773504885}\n",
      "Iteration 7: Fitness 305.0 - {'population_size': 3, 'tournament_size': 4, 'P_mutation': 0.009117409341805006, 'P_xover': 0.7}\n",
      "Iteration 8: Fitness 306.5 - {'population_size': 79, 'tournament_size': 4, 'P_mutation': 0.009117409341805006, 'P_xover': 0.7173394729760052}\n",
      "Iteration 9: Fitness 273.25 - {'population_size': 20, 'tournament_size': 3, 'P_mutation': 0.12417823269480346, 'P_xover': 0.3608060352799668}\n",
      "Iteration 10: Fitness 274.75 - {'population_size': 31, 'tournament_size': 3, 'P_mutation': 0.07518381292341603, 'P_xover': 0.018601227606631632}\n",
      "Iteration 11: Fitness 305.5 - {'population_size': 45, 'tournament_size': 3, 'P_mutation': 0.009117409341805006, 'P_xover': 0.7}\n",
      "Iteration 12: Fitness 298.0 - {'population_size': 85, 'tournament_size': 3, 'P_mutation': 0.009117409341805006, 'P_xover': 0.9405048785720334}\n",
      "Iteration 13: Fitness 274.75 - {'population_size': 20, 'tournament_size': 3, 'P_mutation': 0.11247150412499443, 'P_xover': 0.7}\n",
      "Iteration 14: Fitness 308.25 - {'population_size': 20, 'tournament_size': 3, 'P_mutation': 0.009117409341805006, 'P_xover': 0.9494279508259574}\n",
      "Iteration 15: Fitness 272.5 - {'population_size': 8, 'tournament_size': 3, 'P_mutation': 0.09635046596834128, 'P_xover': 0.9494279508259574}\n",
      "Iteration 16: Fitness 305.0 - {'population_size': 9, 'tournament_size': 3, 'P_mutation': 0.009117409341805006, 'P_xover': 0.541380630726009}\n",
      "Iteration 17: Fitness 308.5 - {'population_size': 20, 'tournament_size': 3, 'P_mutation': 0.009117409341805006, 'P_xover': 0.803925672072678}\n",
      "Iteration 18: Fitness 312.0 - {'population_size': 20, 'tournament_size': 4, 'P_mutation': 0.009117409341805006, 'P_xover': 0.803925672072678}\n",
      "Iteration 19: Fitness 309.0 - {'population_size': 32, 'tournament_size': 4, 'P_mutation': 0.009117409341805006, 'P_xover': 0.2971614183281882}\n",
      "Iteration 20: Fitness 314.0 - {'population_size': 20, 'tournament_size': 4, 'P_mutation': 0.009117409341805006, 'P_xover': 0.4094810447838457}\n"
     ]
    },
    {
     "data": {
      "text/plain": [
       "{'population_size': 20,\n",
       " 'tournament_size': 4,\n",
       " 'P_mutation': 0.009117409341805006,\n",
       " 'P_xover': 0.4094810447838457}"
      ]
     },
     "execution_count": 31,
     "metadata": {},
     "output_type": "execute_result"
    }
   ],
   "source": [
    "max_steps = 20\n",
    "oneplusone()"
   ]
  },
  {
   "cell_type": "markdown",
   "metadata": {
    "slideshow": {
     "slide_type": "skip"
    }
   },
   "source": [
    "To reduce the enormous costs of fitness evaluations in this search, the _response surface methodology_ systematically samples the utility space, creates a regression model that predicts the utility for parameter values, and then uses this regression model as a surrogate for querying the performance."
   ]
  },
  {
   "cell_type": "markdown",
   "metadata": {
    "slideshow": {
     "slide_type": "skip"
    }
   },
   "source": [
    "As an alternative to a full factorial design, the response surface methodology is often performed using a _central composite design_. For the central composite design we obtain five levels for each parameter: {0, 1, −1, α, −α}.\n",
    "\n",
    "The design consists of three matrices:\n",
    "- A factorial design with two levels for each factor (1, -1)\n",
    "- A set of center points (0)\n",
    "- A set of axial points, configurations identical to the centre points except for one factor that is varied with values below and above the median (α, −α).\n",
    "\n",
    "(The choice of 1, -1, α, -α is actually more complicated, but out of scope for this notebook)"
   ]
  },
  {
   "attachments": {},
   "cell_type": "markdown",
   "metadata": {
    "slideshow": {
     "slide_type": "skip"
    }
   },
   "source": [
    "For example, assume we have derived the following levels (-α, -1, 0, 1, α) for our factors:"
   ]
  },
  {
   "cell_type": "code",
   "execution_count": 32,
   "metadata": {
    "slideshow": {
     "slide_type": "slide"
    }
   },
   "outputs": [],
   "source": [
    "search_parameters = {\n",
    "    \"population_size\": [5, 37, 52, 67, 99],\n",
    "    \"tournament_size\": [1, 2, 3, 4, 5],\n",
    "#    \"P_mutation\": [0.01, 0.1, 0.15, 0.2, 0.3],\n",
    "    \"P_mutation\": [0.005, 0.01, 0.05, 0.1, 0.2],\n",
    "    \"P_xover\": [0.01, 0.34, 0.5, 0.65, 0.99]\n",
    "}"
   ]
  },
  {
   "cell_type": "markdown",
   "metadata": {
    "slideshow": {
     "slide_type": "skip"
    }
   },
   "source": [
    "We will define helper functions that produce the three component matrices:"
   ]
  },
  {
   "cell_type": "code",
   "execution_count": 33,
   "metadata": {
    "slideshow": {
     "slide_type": "subslide"
    }
   },
   "outputs": [],
   "source": [
    "def get_factorial_for(search_parameters, options = [1, 3]):\n",
    "    configurations = [{}]\n",
    "    \n",
    "    for parameter in search_parameters.keys():\n",
    "        new_configurations = []\n",
    "        for configuration in configurations:\n",
    "            for option in options:\n",
    "                cp = configuration.copy()\n",
    "                cp[parameter] = search_parameters[parameter][option]\n",
    "                new_configurations.append(cp)\n",
    "            \n",
    "        configurations = new_configurations\n",
    "    \n",
    "    return configurations"
   ]
  },
  {
   "cell_type": "code",
   "execution_count": 34,
   "metadata": {
    "slideshow": {
     "slide_type": "fragment"
    }
   },
   "outputs": [
    {
     "data": {
      "text/plain": [
       "[{'population_size': 37,\n",
       "  'tournament_size': 2,\n",
       "  'P_mutation': 0.01,\n",
       "  'P_xover': 0.34},\n",
       " {'population_size': 37,\n",
       "  'tournament_size': 2,\n",
       "  'P_mutation': 0.01,\n",
       "  'P_xover': 0.65},\n",
       " {'population_size': 37,\n",
       "  'tournament_size': 2,\n",
       "  'P_mutation': 0.1,\n",
       "  'P_xover': 0.34},\n",
       " {'population_size': 37,\n",
       "  'tournament_size': 2,\n",
       "  'P_mutation': 0.1,\n",
       "  'P_xover': 0.65},\n",
       " {'population_size': 37,\n",
       "  'tournament_size': 4,\n",
       "  'P_mutation': 0.01,\n",
       "  'P_xover': 0.34},\n",
       " {'population_size': 37,\n",
       "  'tournament_size': 4,\n",
       "  'P_mutation': 0.01,\n",
       "  'P_xover': 0.65},\n",
       " {'population_size': 37,\n",
       "  'tournament_size': 4,\n",
       "  'P_mutation': 0.1,\n",
       "  'P_xover': 0.34},\n",
       " {'population_size': 37,\n",
       "  'tournament_size': 4,\n",
       "  'P_mutation': 0.1,\n",
       "  'P_xover': 0.65},\n",
       " {'population_size': 67,\n",
       "  'tournament_size': 2,\n",
       "  'P_mutation': 0.01,\n",
       "  'P_xover': 0.34},\n",
       " {'population_size': 67,\n",
       "  'tournament_size': 2,\n",
       "  'P_mutation': 0.01,\n",
       "  'P_xover': 0.65},\n",
       " {'population_size': 67,\n",
       "  'tournament_size': 2,\n",
       "  'P_mutation': 0.1,\n",
       "  'P_xover': 0.34},\n",
       " {'population_size': 67,\n",
       "  'tournament_size': 2,\n",
       "  'P_mutation': 0.1,\n",
       "  'P_xover': 0.65},\n",
       " {'population_size': 67,\n",
       "  'tournament_size': 4,\n",
       "  'P_mutation': 0.01,\n",
       "  'P_xover': 0.34},\n",
       " {'population_size': 67,\n",
       "  'tournament_size': 4,\n",
       "  'P_mutation': 0.01,\n",
       "  'P_xover': 0.65},\n",
       " {'population_size': 67,\n",
       "  'tournament_size': 4,\n",
       "  'P_mutation': 0.1,\n",
       "  'P_xover': 0.34},\n",
       " {'population_size': 67,\n",
       "  'tournament_size': 4,\n",
       "  'P_mutation': 0.1,\n",
       "  'P_xover': 0.65}]"
      ]
     },
     "execution_count": 34,
     "metadata": {},
     "output_type": "execute_result"
    }
   ],
   "source": [
    "get_factorial_for(search_parameters)"
   ]
  },
  {
   "cell_type": "code",
   "execution_count": 35,
   "metadata": {
    "slideshow": {
     "slide_type": "subslide"
    }
   },
   "outputs": [],
   "source": [
    "def get_center_point(parameters, center = 2):\n",
    "    configuration = {}\n",
    "    for parameter in parameters.keys():\n",
    "        configuration[parameter] = parameters[parameter][center]\n",
    "    return configuration"
   ]
  },
  {
   "cell_type": "code",
   "execution_count": 36,
   "metadata": {
    "slideshow": {
     "slide_type": "fragment"
    }
   },
   "outputs": [
    {
     "data": {
      "text/plain": [
       "{'population_size': 52,\n",
       " 'tournament_size': 3,\n",
       " 'P_mutation': 0.05,\n",
       " 'P_xover': 0.5}"
      ]
     },
     "execution_count": 36,
     "metadata": {},
     "output_type": "execute_result"
    }
   ],
   "source": [
    "get_center_point(search_parameters)"
   ]
  },
  {
   "cell_type": "code",
   "execution_count": 37,
   "metadata": {
    "slideshow": {
     "slide_type": "subslide"
    }
   },
   "outputs": [],
   "source": [
    "def get_axial_points(parameters, axial_points = [0, 4]):\n",
    "    configurations = []\n",
    "    \n",
    "    for parameter in parameters.keys():\n",
    "        for axial_point in axial_points:\n",
    "            configuration = get_center_point(parameters)\n",
    "            configuration[parameter] = parameters[parameter][axial_point]\n",
    "            configurations.append(configuration)\n",
    "    return configurations"
   ]
  },
  {
   "cell_type": "code",
   "execution_count": 38,
   "metadata": {
    "slideshow": {
     "slide_type": "fragment"
    }
   },
   "outputs": [
    {
     "data": {
      "text/plain": [
       "[{'population_size': 5,\n",
       "  'tournament_size': 3,\n",
       "  'P_mutation': 0.05,\n",
       "  'P_xover': 0.5},\n",
       " {'population_size': 99,\n",
       "  'tournament_size': 3,\n",
       "  'P_mutation': 0.05,\n",
       "  'P_xover': 0.5},\n",
       " {'population_size': 52,\n",
       "  'tournament_size': 1,\n",
       "  'P_mutation': 0.05,\n",
       "  'P_xover': 0.5},\n",
       " {'population_size': 52,\n",
       "  'tournament_size': 5,\n",
       "  'P_mutation': 0.05,\n",
       "  'P_xover': 0.5},\n",
       " {'population_size': 52,\n",
       "  'tournament_size': 3,\n",
       "  'P_mutation': 0.005,\n",
       "  'P_xover': 0.5},\n",
       " {'population_size': 52,\n",
       "  'tournament_size': 3,\n",
       "  'P_mutation': 0.2,\n",
       "  'P_xover': 0.5},\n",
       " {'population_size': 52,\n",
       "  'tournament_size': 3,\n",
       "  'P_mutation': 0.05,\n",
       "  'P_xover': 0.01},\n",
       " {'population_size': 52,\n",
       "  'tournament_size': 3,\n",
       "  'P_mutation': 0.05,\n",
       "  'P_xover': 0.99}]"
      ]
     },
     "execution_count": 38,
     "metadata": {},
     "output_type": "execute_result"
    }
   ],
   "source": [
    "get_axial_points(search_parameters)"
   ]
  },
  {
   "cell_type": "markdown",
   "metadata": {
    "slideshow": {
     "slide_type": "slide"
    }
   },
   "source": [
    "The full central composite design now consists of all three of these:"
   ]
  },
  {
   "cell_type": "code",
   "execution_count": 39,
   "metadata": {
    "slideshow": {
     "slide_type": "fragment"
    }
   },
   "outputs": [],
   "source": [
    "configurations = get_factorial_for(search_parameters) + \\\n",
    "    [ get_center_point(search_parameters) ] + \\\n",
    "    get_axial_points(search_parameters)"
   ]
  },
  {
   "cell_type": "code",
   "execution_count": 40,
   "metadata": {
    "slideshow": {
     "slide_type": "fragment"
    }
   },
   "outputs": [
    {
     "data": {
      "text/plain": [
       "25"
      ]
     },
     "execution_count": 40,
     "metadata": {},
     "output_type": "execute_result"
    }
   ],
   "source": [
    "len(configurations)"
   ]
  },
  {
   "cell_type": "markdown",
   "metadata": {
    "slideshow": {
     "slide_type": "skip"
    }
   },
   "source": [
    "Now we need some patience while we determined the performance for each of these configurations:"
   ]
  },
  {
   "cell_type": "code",
   "execution_count": 41,
   "metadata": {
    "scrolled": true,
    "slideshow": {
     "slide_type": "fragment"
    }
   },
   "outputs": [
    {
     "name": "stdout",
     "output_type": "stream",
     "text": [
      "{'population_size': 37, 'tournament_size': 2, 'P_mutation': 0.01, 'P_xover': 0.34, 'performance': 293.5}\n",
      "{'population_size': 37, 'tournament_size': 2, 'P_mutation': 0.01, 'P_xover': 0.65, 'performance': 293.25}\n",
      "{'population_size': 37, 'tournament_size': 2, 'P_mutation': 0.1, 'P_xover': 0.34, 'performance': 271.75}\n",
      "{'population_size': 37, 'tournament_size': 2, 'P_mutation': 0.1, 'P_xover': 0.65, 'performance': 270.5}\n",
      "{'population_size': 37, 'tournament_size': 4, 'P_mutation': 0.01, 'P_xover': 0.34, 'performance': 309.75}\n",
      "{'population_size': 37, 'tournament_size': 4, 'P_mutation': 0.01, 'P_xover': 0.65, 'performance': 310.25}\n",
      "{'population_size': 37, 'tournament_size': 4, 'P_mutation': 0.1, 'P_xover': 0.34, 'performance': 277.25}\n",
      "{'population_size': 37, 'tournament_size': 4, 'P_mutation': 0.1, 'P_xover': 0.65, 'performance': 274.25}\n",
      "{'population_size': 67, 'tournament_size': 2, 'P_mutation': 0.01, 'P_xover': 0.34, 'performance': 290.0}\n",
      "{'population_size': 67, 'tournament_size': 2, 'P_mutation': 0.01, 'P_xover': 0.65, 'performance': 286.75}\n",
      "{'population_size': 67, 'tournament_size': 2, 'P_mutation': 0.1, 'P_xover': 0.34, 'performance': 270.0}\n",
      "{'population_size': 67, 'tournament_size': 2, 'P_mutation': 0.1, 'P_xover': 0.65, 'performance': 269.0}\n",
      "{'population_size': 67, 'tournament_size': 4, 'P_mutation': 0.01, 'P_xover': 0.34, 'performance': 301.5}\n",
      "{'population_size': 67, 'tournament_size': 4, 'P_mutation': 0.01, 'P_xover': 0.65, 'performance': 305.5}\n",
      "{'population_size': 67, 'tournament_size': 4, 'P_mutation': 0.1, 'P_xover': 0.34, 'performance': 275.0}\n",
      "{'population_size': 67, 'tournament_size': 4, 'P_mutation': 0.1, 'P_xover': 0.65, 'performance': 274.5}\n",
      "{'population_size': 52, 'tournament_size': 3, 'P_mutation': 0.05, 'P_xover': 0.5, 'performance': 277.0}\n",
      "{'population_size': 5, 'tournament_size': 3, 'P_mutation': 0.05, 'P_xover': 0.5, 'performance': 276.75}\n",
      "{'population_size': 99, 'tournament_size': 3, 'P_mutation': 0.05, 'P_xover': 0.5, 'performance': 275.75}\n",
      "{'population_size': 52, 'tournament_size': 1, 'P_mutation': 0.05, 'P_xover': 0.5, 'performance': 268.0}\n",
      "{'population_size': 52, 'tournament_size': 5, 'P_mutation': 0.05, 'P_xover': 0.5, 'performance': 283.25}\n",
      "{'population_size': 52, 'tournament_size': 3, 'P_mutation': 0.005, 'P_xover': 0.5, 'performance': 305.75}\n",
      "{'population_size': 52, 'tournament_size': 3, 'P_mutation': 0.2, 'P_xover': 0.5, 'performance': 269.5}\n",
      "{'population_size': 52, 'tournament_size': 3, 'P_mutation': 0.05, 'P_xover': 0.01, 'performance': 280.0}\n",
      "{'population_size': 52, 'tournament_size': 3, 'P_mutation': 0.05, 'P_xover': 0.99, 'performance': 276.0}\n"
     ]
    }
   ],
   "source": [
    "responses = []\n",
    "max_evaluations = 10000\n",
    "for config in configurations:\n",
    "    r = get_performance(config)\n",
    "    config[\"performance\"] = r\n",
    "    print(config)\n",
    "    responses.append(r)"
   ]
  },
  {
   "cell_type": "raw",
   "metadata": {},
   "source": []
  },
  {
   "cell_type": "markdown",
   "metadata": {
    "slideshow": {
     "slide_type": "skip"
    }
   },
   "source": [
    "The next step is to create a regression model that predicts the performance of any given combination of parameter values. We'll cut this short and simply throw our data at a linear regression model, and doing this properly and checking the fit of the model are left as an exercise."
   ]
  },
  {
   "cell_type": "code",
   "execution_count": 42,
   "metadata": {
    "slideshow": {
     "slide_type": "slide"
    }
   },
   "outputs": [],
   "source": [
    "import numpy as np\n",
    "import pandas as pd\n",
    "from sklearn.linear_model import LinearRegression"
   ]
  },
  {
   "cell_type": "code",
   "execution_count": 43,
   "metadata": {
    "slideshow": {
     "slide_type": "fragment"
    }
   },
   "outputs": [],
   "source": [
    "model = LinearRegression()"
   ]
  },
  {
   "cell_type": "code",
   "execution_count": 44,
   "metadata": {
    "slideshow": {
     "slide_type": "fragment"
    }
   },
   "outputs": [
    {
     "data": {
      "text/plain": [
       "LinearRegression()"
      ]
     },
     "execution_count": 44,
     "metadata": {},
     "output_type": "execute_result"
    }
   ],
   "source": [
    "df = pd.DataFrame(configurations)\n",
    "y = df['performance']\n",
    "x = df[['population_size', 'tournament_size', 'P_mutation', 'P_xover']]\n",
    "# This will need some adjusting...\n",
    "model.fit(x, y)"
   ]
  },
  {
   "cell_type": "code",
   "execution_count": 45,
   "metadata": {
    "slideshow": {
     "slide_type": "skip"
    }
   },
   "outputs": [
    {
     "data": {
      "text/plain": [
       "array([-5.87116488e-02,  4.73958333e+00, -2.19239544e+02, -3.29196387e+00])"
      ]
     },
     "execution_count": 45,
     "metadata": {},
     "output_type": "execute_result"
    }
   ],
   "source": [
    "model.coef_"
   ]
  },
  {
   "cell_type": "markdown",
   "metadata": {
    "slideshow": {
     "slide_type": "skip"
    }
   },
   "source": [
    "We can now take any configuration and query the model. For example, let's query the configuration we determined best with our simplified factorial design initially:"
   ]
  },
  {
   "cell_type": "code",
   "execution_count": 46,
   "metadata": {
    "slideshow": {
     "slide_type": "fragment"
    }
   },
   "outputs": [
    {
     "data": {
      "text/plain": [
       "array([294.9918001])"
      ]
     },
     "execution_count": 46,
     "metadata": {},
     "output_type": "execute_result"
    }
   ],
   "source": [
    "model.predict([list(best_config.values())])"
   ]
  },
  {
   "cell_type": "markdown",
   "metadata": {
    "slideshow": {
     "slide_type": "skip"
    }
   },
   "source": [
    "We'll use a (1+1)EA again to do the search, but instead of querying the fitness function, we query the model:"
   ]
  },
  {
   "cell_type": "code",
   "execution_count": 47,
   "metadata": {
    "slideshow": {
     "slide_type": "slide"
    }
   },
   "outputs": [],
   "source": [
    "def surrogate_oneplusone():\n",
    "    current = best_config #get_random_configuration()\n",
    "    fitness = model.predict([list(current.values())])[0]\n",
    "    iteration = 0\n",
    "    print(f\"Iteration {iteration}: Fitness {fitness} - {current}\")\n",
    "\n",
    "    while iteration < max_steps:\n",
    "        iteration += 1\n",
    "        candidate = mutate_configuration(current)\n",
    "        candidate_fitness = model.predict([list(candidate.values())])[0]\n",
    "        if candidate_fitness >= fitness:\n",
    "            if candidate_fitness > fitness:\n",
    "                print(f\"Iteration {iteration}: Fitness {candidate_fitness} - {candidate}\")\n",
    "                \n",
    "            current = candidate\n",
    "            fitness = candidate_fitness\n",
    "        fitness_values.append(fitness)\n",
    "\n",
    "    return current"
   ]
  },
  {
   "cell_type": "markdown",
   "metadata": {
    "slideshow": {
     "slide_type": "skip"
    }
   },
   "source": [
    "Since querying the model is very cheap compared to measuring the actual performance, we can run many more iterations of the search algorithm."
   ]
  },
  {
   "cell_type": "code",
   "execution_count": 48,
   "metadata": {
    "slideshow": {
     "slide_type": "slide"
    }
   },
   "outputs": [
    {
     "name": "stdout",
     "output_type": "stream",
     "text": [
      "Iteration 0: Fitness 294.99180010385817 - {'population_size': 20, 'tournament_size': 3, 'P_mutation': 0.01, 'P_xover': 0.7}\n",
      "Iteration 1: Fitness 295.22664669901906 - {'population_size': 16, 'tournament_size': 3, 'P_mutation': 0.01, 'P_xover': 0.7}\n",
      "Iteration 5: Fitness 296.9206901413368 - {'population_size': 16, 'tournament_size': 3, 'P_mutation': 0.01, 'P_xover': 0.1854003544339563}\n",
      "Iteration 10: Fitness 297.0254011215683 - {'population_size': 16, 'tournament_size': 3, 'P_mutation': 0.01, 'P_xover': 0.15359229569831567}\n",
      "Iteration 18: Fitness 298.5945554202296 - {'population_size': 70, 'tournament_size': 4, 'P_mutation': 0.01, 'P_xover': 0.15359229569831567}\n",
      "Iteration 23: Fitness 298.5994733875793 - {'population_size': 70, 'tournament_size': 4, 'P_mutation': 0.01, 'P_xover': 0.15209836455592018}\n",
      "Iteration 26: Fitness 300.1846879049153 - {'population_size': 43, 'tournament_size': 4, 'P_mutation': 0.01, 'P_xover': 0.15209836455592018}\n",
      "Iteration 32: Fitness 300.59566944644683 - {'population_size': 36, 'tournament_size': 4, 'P_mutation': 0.01, 'P_xover': 0.15209836455592018}\n",
      "Iteration 37: Fitness 302.2983072613633 - {'population_size': 7, 'tournament_size': 4, 'P_mutation': 0.01, 'P_xover': 0.15209836455592018}\n",
      "Iteration 65: Fitness 302.4924466918978 - {'population_size': 7, 'tournament_size': 4, 'P_mutation': 0.01, 'P_xover': 0.09312462182428505}\n",
      "Iteration 68: Fitness 302.6373161752878 - {'population_size': 7, 'tournament_size': 4, 'P_mutation': 0.01, 'P_xover': 0.04911761294626016}\n",
      "Iteration 95: Fitness 302.67383352965317 - {'population_size': 7, 'tournament_size': 4, 'P_mutation': 0.01, 'P_xover': 0.038024734721311404}\n",
      "Iteration 123: Fitness 302.84996847602383 - {'population_size': 4, 'tournament_size': 4, 'P_mutation': 0.01, 'P_xover': 0.038024734721311404}\n",
      "Iteration 159: Fitness 303.6357783256052 - {'population_size': 4, 'tournament_size': 4, 'P_mutation': 0.006415747661049043, 'P_xover': 0.038024734721311404}\n",
      "Iteration 177: Fitness 303.6944899743954 - {'population_size': 3, 'tournament_size': 4, 'P_mutation': 0.006415747661049043, 'P_xover': 0.038024734721311404}\n",
      "Iteration 245: Fitness 303.7455006834651 - {'population_size': 3, 'tournament_size': 4, 'P_mutation': 0.006415747661049043, 'P_xover': 0.022529209546707674}\n",
      "Iteration 310: Fitness 303.8629239810455 - {'population_size': 1, 'tournament_size': 4, 'P_mutation': 0.006415747661049043, 'P_xover': 0.022529209546707674}\n",
      "Iteration 417: Fitness 303.8904933894698 - {'population_size': 1, 'tournament_size': 4, 'P_mutation': 0.006415747661049043, 'P_xover': 0.014154449225230348}\n",
      "Iteration 429: Fitness 303.9223400181364 - {'population_size': 1, 'tournament_size': 4, 'P_mutation': 0.006415747661049043, 'P_xover': 0.004480397536262837}\n",
      "Iteration 487: Fitness 304.92912058061205 - {'population_size': 1, 'tournament_size': 4, 'P_mutation': 0.00182359907982943, 'P_xover': 0.004480397536262837}\n",
      "Iteration 663: Fitness 305.13544458355756 - {'population_size': 1, 'tournament_size': 4, 'P_mutation': 0.0008825097176472507, 'P_xover': 0.004480397536262837}\n",
      "Iteration 918: Fitness 305.18864466755304 - {'population_size': 1, 'tournament_size': 4, 'P_mutation': 0.0006398523806402823, 'P_xover': 0.004480397536262837}\n"
     ]
    }
   ],
   "source": [
    "max_steps = 1000\n",
    "rsm_config = surrogate_oneplusone()"
   ]
  },
  {
   "cell_type": "code",
   "execution_count": 49,
   "metadata": {
    "slideshow": {
     "slide_type": "subslide"
    }
   },
   "outputs": [
    {
     "data": {
      "text/plain": [
       "{'population_size': 1,\n",
       " 'tournament_size': 4,\n",
       " 'P_mutation': 0.0006398523806402823,\n",
       " 'P_xover': 0.004480397536262837}"
      ]
     },
     "execution_count": 49,
     "metadata": {},
     "output_type": "execute_result"
    }
   ],
   "source": [
    "rsm_config"
   ]
  },
  {
   "cell_type": "markdown",
   "metadata": {
    "slideshow": {
     "slide_type": "skip"
    }
   },
   "source": [
    "Is the optimised configuration really better? Let's find out by comparing against our initial default values."
   ]
  },
  {
   "cell_type": "code",
   "execution_count": 50,
   "metadata": {
    "slideshow": {
     "slide_type": "slide"
    }
   },
   "outputs": [
    {
     "name": "stdout",
     "output_type": "stream",
     "text": [
      "Initial population, best fitness: 256\n",
      "Iteration 1, best fitness: 256\n",
      "Iteration 6, best fitness: 261\n",
      "Iteration 11, best fitness: 268\n",
      "Iteration 19, best fitness: 269\n",
      "Iteration 84, best fitness: 271\n",
      "Initial population, best fitness: 235\n",
      "Iteration 1, best fitness: 235\n",
      "Iteration 8, best fitness: 238\n",
      "Iteration 9, best fitness: 239\n",
      "Iteration 14, best fitness: 241\n",
      "Iteration 15, best fitness: 244\n",
      "Iteration 21, best fitness: 247\n",
      "Iteration 28, best fitness: 248\n",
      "Iteration 51, best fitness: 250\n",
      "Iteration 85, best fitness: 252\n",
      "Iteration 171, best fitness: 255\n",
      "Iteration 175, best fitness: 257\n",
      "Iteration 187, best fitness: 258\n",
      "Iteration 196, best fitness: 260\n",
      "Iteration 214, best fitness: 262\n",
      "Iteration 231, best fitness: 263\n",
      "Iteration 238, best fitness: 264\n",
      "Iteration 329, best fitness: 265\n",
      "Iteration 385, best fitness: 267\n",
      "Iteration 387, best fitness: 268\n",
      "Iteration 390, best fitness: 269\n",
      "Iteration 402, best fitness: 271\n",
      "Iteration 420, best fitness: 275\n",
      "Iteration 443, best fitness: 276\n",
      "Iteration 470, best fitness: 277\n",
      "Iteration 482, best fitness: 280\n",
      "Iteration 519, best fitness: 282\n",
      "Iteration 529, best fitness: 285\n",
      "Iteration 544, best fitness: 287\n",
      "Iteration 601, best fitness: 289\n",
      "Iteration 897, best fitness: 290\n",
      "Iteration 918, best fitness: 291\n",
      "Iteration 1176, best fitness: 292\n",
      "Iteration 1198, best fitness: 293\n",
      "Iteration 1382, best fitness: 294\n",
      "Iteration 1410, best fitness: 295\n",
      "Iteration 1484, best fitness: 296\n",
      "Iteration 1840, best fitness: 297\n",
      "Iteration 2194, best fitness: 300\n",
      "Iteration 2489, best fitness: 303\n",
      "Iteration 2876, best fitness: 304\n",
      "Iteration 2916, best fitness: 306\n",
      "Iteration 2965, best fitness: 307\n",
      "Iteration 3090, best fitness: 308\n",
      "Iteration 5935, best fitness: 311\n",
      "Iteration 5939, best fitness: 312\n",
      "Iteration 6070, best fitness: 313\n",
      "Iteration 8560, best fitness: 314\n"
     ]
    }
   ],
   "source": [
    "configuration['P_xover'] = 0.7\n",
    "configuration['P_mutation'] = 0.07\n",
    "configuration['population_size'] = 100\n",
    "configuration['tournament_size'] = 2\n",
    "\n",
    "fitness_values = []\n",
    "ga()\n",
    "# Stretch this by the population size to make plots comparable\n",
    "default_fitness = [item for item in fitness_values for i in range(configuration['population_size'])]\n",
    "\n",
    "configuration.update(rsm_config)\n",
    "fitness_values = []\n",
    "ga()\n",
    "# Stretch this by the population size to make plots comparable\n",
    "tuned_fitness = [item for item in fitness_values for i in range(configuration['population_size'])]\n"
   ]
  },
  {
   "cell_type": "code",
   "execution_count": 51,
   "metadata": {
    "slideshow": {
     "slide_type": "subslide"
    }
   },
   "outputs": [
    {
     "data": {
      "text/plain": [
       "<matplotlib.legend.Legend at 0x11eb71df0>"
      ]
     },
     "execution_count": 51,
     "metadata": {},
     "output_type": "execute_result"
    },
    {
     "data": {
      "image/png": "[encoded data removed]",
      "text/plain": [
       "<Figure size 432x288 with 1 Axes>"
      ]
     },
     "metadata": {
      "needs_background": "light"
     },
     "output_type": "display_data"
    }
   ],
   "source": [
    "plt.plot(tuned_fitness, label=\"Tuned\")\n",
    "plt.plot(default_fitness, label=\"Default\")\n",
    "plt.legend()"
   ]
  },
  {
   "cell_type": "markdown",
   "metadata": {
    "slideshow": {
     "slide_type": "slide"
    }
   },
   "source": [
    "## Parameter Control"
   ]
  },
  {
   "cell_type": "markdown",
   "metadata": {},
   "source": [
    "There's actually something fundamentally missing in the tuning experiments: We did all our tuning on the exact same problem. That's obviously not what we would do in practice: In order to find good parameters we performed search on that problem; once we have found a good set of parameters we know that it is a good set of parameters because we have found a good solution already, so we don't need to run the search again on that problem. What is missing in our experiments is that we would in practice of course do the tuning on several problems, and then hope that these parameters generalise to other, new problems."
   ]
  },
  {
   "cell_type": "markdown",
   "metadata": {
    "slideshow": {
     "slide_type": "skip"
    }
   },
   "source": [
    "A further limitation of parameter tuning is that it tries to select a good set of parameter values, but these parameters remain constant throughout the search. However, different phases of the search may benefit from different parameter values. For example, during initial phases of the search we may want to put more focus on exploration, thus using higher mutation rates than in later phases (like we saw with the MIO algorithm). Thus, a basic approach to control parameters is to make the parameter values dependent on the phase of the search:"
   ]
  },
  {
   "cell_type": "code",
   "execution_count": 52,
   "metadata": {
    "slideshow": {
     "slide_type": "fragment"
    }
   },
   "outputs": [],
   "source": [
    "def calculate_probability(size, iteration, max_iterations):\n",
    "    return math.pow(4 + (size - 2)/(max_iterations - 1) * iteration, -1)"
   ]
  },
  {
   "cell_type": "code",
   "execution_count": 53,
   "metadata": {
    "slideshow": {
     "slide_type": "fragment"
    }
   },
   "outputs": [
    {
     "data": {
      "text/plain": [
       "[<matplotlib.lines.Line2D at 0x12f961370>]"
      ]
     },
     "execution_count": 53,
     "metadata": {},
     "output_type": "execute_result"
    },
    {
     "data": {
      "image/png": "[encoded data removed]",
      "text/plain": [
       "<Figure size 432x288 with 1 Axes>"
      ]
     },
     "metadata": {
      "needs_background": "light"
     },
     "output_type": "display_data"
    }
   ],
   "source": [
    "mutation_values = [calculate_probability(num_tests*len(parameters), x, 100) for x in range(100)]\n",
    "plt.plot(mutation_values)"
   ]
  },
  {
   "cell_type": "markdown",
   "metadata": {
    "slideshow": {
     "slide_type": "skip"
    }
   },
   "source": [
    "We'll now create a version of the genetic algorithm which doesn't use the mutation rate from our configuration dictionary, but derives it using our probability function:"
   ]
  },
  {
   "cell_type": "code",
   "execution_count": 54,
   "metadata": {
    "slideshow": {
     "slide_type": "subslide"
    }
   },
   "outputs": [],
   "source": [
    "def controlled_evolution_step(population, P_mutation):\n",
    "    new_population = []\n",
    "    \n",
    "    while len(new_population) < len(population):\n",
    "        parent1 = selection(population)\n",
    "        parent2 = selection(population)\n",
    "\n",
    "        if random.random() < configuration[\"P_xover\"]:\n",
    "            offspring1, offspring2 = crossover(parent1, parent2)\n",
    "        else:\n",
    "            offspring1, offspring2 = parent1, parent2\n",
    "\n",
    "        offspring1 = mutate(offspring1, P_mutation)\n",
    "        offspring2 = mutate(offspring2, P_mutation)\n",
    "\n",
    "        new_population.append(offspring1)\n",
    "        new_population.append(offspring2)\n",
    "\n",
    "    population.clear()\n",
    "    population.extend(new_population)"
   ]
  },
  {
   "cell_type": "code",
   "execution_count": 55,
   "metadata": {
    "slideshow": {
     "slide_type": "subslide"
    }
   },
   "outputs": [],
   "source": [
    "mutation_values = []\n",
    "def controlled_ga():\n",
    "    population = [get_random_solution() for _ in range(configuration[\"population_size\"])]\n",
    "    best_individual = max(population, key=lambda k: get_fitness(k))\n",
    "    best_fitness = get_fitness(best_individual)\n",
    "    print(f\"Initial population, best fitness: {best_fitness}\")\n",
    "\n",
    "    iteration = 0\n",
    "    max_iterations = (max_evaluations / configuration[\"population_size\"])\n",
    "    while iteration < max_iterations:\n",
    "        fitness_values.append(best_fitness)\n",
    "        P_mutation = calculate_probability(num_tests * len(parameters), iteration, max_iterations)\n",
    "        mutation_values.append(P_mutation)\n",
    "        iteration += 1\n",
    "        controlled_evolution_step(population, P_mutation)\n",
    "        current_best = max(population, key=lambda k: get_fitness(k))\n",
    "        current_fitness = get_fitness(current_best)\n",
    "        if current_fitness > best_fitness:\n",
    "            print(f\"Iteration {iteration}, best fitness: {best_fitness}\")\n",
    "            best_individual = copy.deepcopy(current_best)\n",
    "            best_fitness = current_fitness\n",
    "\n",
    "    fitness_values.append(best_fitness)\n",
    "    return best_individual"
   ]
  },
  {
   "cell_type": "markdown",
   "metadata": {
    "slideshow": {
     "slide_type": "skip"
    }
   },
   "source": [
    "As point of reference, we will compare against our initial default values again:"
   ]
  },
  {
   "cell_type": "code",
   "execution_count": 56,
   "metadata": {
    "slideshow": {
     "slide_type": "subslide"
    }
   },
   "outputs": [
    {
     "name": "stdout",
     "output_type": "stream",
     "text": [
      "Initial population, best fitness: 260\n",
      "Iteration 1, best fitness: 260\n",
      "Iteration 2, best fitness: 261\n",
      "Iteration 9, best fitness: 265\n",
      "Iteration 17, best fitness: 267\n",
      "Iteration 29, best fitness: 271\n",
      "Iteration 35, best fitness: 272\n",
      "Iteration 36, best fitness: 274\n",
      "Iteration 39, best fitness: 275\n",
      "Iteration 40, best fitness: 277\n",
      "Iteration 44, best fitness: 278\n",
      "Iteration 49, best fitness: 279\n",
      "Iteration 63, best fitness: 283\n",
      "Iteration 65, best fitness: 284\n",
      "Iteration 69, best fitness: 285\n",
      "Iteration 73, best fitness: 290\n",
      "Iteration 84, best fitness: 292\n",
      "Iteration 97, best fitness: 293\n",
      "Initial population, best fitness: 263\n",
      "Iteration 3, best fitness: 263\n",
      "Iteration 4, best fitness: 264\n",
      "Iteration 25, best fitness: 270\n",
      "Iteration 26, best fitness: 271\n",
      "Iteration 44, best fitness: 272\n"
     ]
    },
    {
     "data": {
      "text/plain": [
       "[['x', 'f', 'g', 'i', 'j', 'j'],\n",
       " ['c', 'f', 'h', 'h', 'g', 'x'],\n",
       " ['c', 'd', 'j', 'i', 'g', 'x'],\n",
       " ['a', 'x', 'x', 'i', 'h', 'k'],\n",
       " ['b', 'e', 'h', 'h', 'j', 'j'],\n",
       " ['d', 'd', 'i', 'g', 'h', 'l'],\n",
       " ['d', 'd', 'g', 'j', 'g', 'k'],\n",
       " ['x', 'g', 'g', 'x', 'i', 'x'],\n",
       " ['a', 'f', 'j', 'x', 'j', 'l'],\n",
       " ['b', 'd', 'h', 'g', 'x', 'x'],\n",
       " ['a', 'e', 'g', 'j', 'x', 'l'],\n",
       " ['b', 'f', 'i', 'j', 'i', 'x'],\n",
       " ['c', 'g', 'i', 'i', 'g', 'l'],\n",
       " ['d', 'f', 'x', 'h', 'x', 'm'],\n",
       " ['c', 'e', 'g', 'i', 'x', 'm'],\n",
       " ['a', 'g', 'g', 'h', 'i', 'l'],\n",
       " ['d', 'f', 'j', 'j', 'j', 'm'],\n",
       " ['x', 'g', 'x', 'x', 'g', 'm'],\n",
       " ['b', 'g', 'j', 'i', 'x', 'l'],\n",
       " ['a', 'd', 'j', 'h', 'x', 'j'],\n",
       " ['x', 'e', 'x', 'x', 'h', 'x'],\n",
       " ['x', 'x', 'j', 'g', 'i', 'k'],\n",
       " ['d', 'x', 'h', 'j', 'h', 'j'],\n",
       " ['a', 'd', 'h', 'x', 'j', 'm'],\n",
       " ['x', 'e', 'x', 'i', 'j', 'x']]"
      ]
     },
     "execution_count": 56,
     "metadata": {},
     "output_type": "execute_result"
    }
   ],
   "source": [
    "fitness_values = []\n",
    "mutation_values = []\n",
    "max_evaluations = 10000\n",
    "\n",
    "configuration['P_xover'] = 0.7\n",
    "configuration['P_mutation'] = 0.07\n",
    "configuration['population_size'] = 100\n",
    "configuration['tournament_size'] = 2\n",
    "\n",
    "controlled_ga()\n",
    "controlled_fitness = fitness_values\n",
    "\n",
    "fitness_values = []\n",
    "ga()"
   ]
  },
  {
   "cell_type": "code",
   "execution_count": 57,
   "metadata": {
    "slideshow": {
     "slide_type": "skip"
    }
   },
   "outputs": [
    {
     "data": {
      "text/plain": [
       "<matplotlib.legend.Legend at 0x12f989fd0>"
      ]
     },
     "execution_count": 57,
     "metadata": {},
     "output_type": "execute_result"
    },
    {
     "data": {
      "image/png": "[encoded data removed]",
      "text/plain": [
       "<Figure size 432x288 with 1 Axes>"
      ]
     },
     "metadata": {
      "needs_background": "light"
     },
     "output_type": "display_data"
    }
   ],
   "source": [
    "plt.plot(mutation_values, label=\"Mutation Probability\")\n",
    "plt.legend()"
   ]
  },
  {
   "cell_type": "code",
   "execution_count": 58,
   "metadata": {
    "slideshow": {
     "slide_type": "subslide"
    }
   },
   "outputs": [
    {
     "data": {
      "text/plain": [
       "<matplotlib.legend.Legend at 0x12fa06e20>"
      ]
     },
     "execution_count": 58,
     "metadata": {},
     "output_type": "execute_result"
    },
    {
     "data": {
      "image/png": "[encoded data removed]",
      "text/plain": [
       "<Figure size 432x288 with 1 Axes>"
      ]
     },
     "metadata": {
      "needs_background": "light"
     },
     "output_type": "display_data"
    }
   ],
   "source": [
    "plt.plot(controlled_fitness, label=\"Controlled\")\n",
    "plt.plot(fitness_values, label=\"Regular\")\n",
    "plt.legend()"
   ]
  },
  {
   "cell_type": "markdown",
   "metadata": {
    "slideshow": {
     "slide_type": "slide"
    }
   },
   "source": [
    "## Adaptive Evolutionary Algorithms"
   ]
  },
  {
   "cell_type": "markdown",
   "metadata": {
    "slideshow": {
     "slide_type": "skip"
    }
   },
   "source": [
    "The function that we used to control the mutation rate depends only on the phase of the search, but does not consider how the search is performing at any particular point in time. The idea of _adaptive_ parameter control is to adjust parameters based on how well the search is going. As a basic example, if mutation leads to more fitness improvement than crossover, we may want to increase the probability of doing mutation, and reduce the probability of doing crossover, and vice versa. In order to do this, we need to keep track of the fitness values before and after applying these operators:"
   ]
  },
  {
   "cell_type": "code",
   "execution_count": 59,
   "metadata": {
    "slideshow": {
     "slide_type": "fragment"
    }
   },
   "outputs": [],
   "source": [
    "def adaptive_crossover(parent1, parent2):\n",
    "    fitness_pre = get_fitness(parent1) + get_fitness(parent2)\n",
    "    offspring1, offspring2 = crossover(parent1, parent2)\n",
    "    fitness_post = get_fitness(offspring1) + get_fitness(offspring2)\n",
    "    xover_performance.append(fitness_post - fitness_pre)\n",
    "    return offspring1, offspring2"
   ]
  },
  {
   "cell_type": "code",
   "execution_count": 60,
   "metadata": {
    "slideshow": {
     "slide_type": "fragment"
    }
   },
   "outputs": [],
   "source": [
    "def adaptive_mutate(individual, P_mutate):\n",
    "    fitness_pre = get_fitness(individual)\n",
    "    mutated = mutate(individual, P_mutate)\n",
    "    fitness_post = get_fitness(mutated)\n",
    "    mutation_performance.append(fitness_post - fitness_pre)\n",
    "    return mutated"
   ]
  },
  {
   "cell_type": "markdown",
   "metadata": {
    "slideshow": {
     "slide_type": "skip"
    }
   },
   "source": [
    "Note that, technically, we are introducing additional fitness evaluations. However, to some degree these could be avoided (though not all) using some proper caching of fitness values."
   ]
  },
  {
   "cell_type": "code",
   "execution_count": 61,
   "metadata": {
    "slideshow": {
     "slide_type": "skip"
    }
   },
   "outputs": [],
   "source": [
    "mutation_performance = []\n",
    "xover_performance = []\n",
    "\n",
    "adaptive_values = []\n",
    "xover_values = []\n",
    "mutation_values = []"
   ]
  },
  {
   "cell_type": "markdown",
   "metadata": {
    "slideshow": {
     "slide_type": "skip"
    }
   },
   "source": [
    "The individual evolution step is the same as usual, we just need to make sure it uses the correct parameters:"
   ]
  },
  {
   "cell_type": "code",
   "execution_count": 62,
   "metadata": {
    "slideshow": {
     "slide_type": "subslide"
    }
   },
   "outputs": [],
   "source": [
    "def adaptive_evolution_step(population, mutation_probability, xover_probability):\n",
    "    new_population = []\n",
    "    \n",
    "    while len(new_population) < len(population):\n",
    "        parent1 = selection(population)\n",
    "        parent2 = selection(population)\n",
    "\n",
    "        if random.random() < xover_probability:\n",
    "            offspring1, offspring2 = adaptive_crossover(parent1, parent2)\n",
    "        else:\n",
    "            offspring1, offspring2 = parent1, parent2\n",
    "\n",
    "        offspring1 = adaptive_mutate(offspring1, mutation_probability)\n",
    "        offspring2 = adaptive_mutate(offspring2, mutation_probability)\n",
    "\n",
    "        new_population.append(offspring1)\n",
    "        new_population.append(offspring2)\n",
    "\n",
    "    population.clear()\n",
    "    population.extend(new_population)"
   ]
  },
  {
   "cell_type": "markdown",
   "metadata": {
    "slideshow": {
     "slide_type": "skip"
    }
   },
   "source": [
    "After each step we need to re-evaluate the performance of the operators, and decide whether and how to update the parameters."
   ]
  },
  {
   "cell_type": "code",
   "execution_count": 63,
   "metadata": {
    "slideshow": {
     "slide_type": "subslide"
    }
   },
   "outputs": [],
   "source": [
    "def adaptive_ga():\n",
    "    population = [get_random_solution() for _ in range(configuration[\"population_size\"])]\n",
    "    best_individual = max(population, key=lambda k: get_fitness(k))\n",
    "    best_fitness = get_fitness(best_individual)\n",
    "    print(f\"Initial population, best fitness: {best_fitness}\")\n",
    "\n",
    "    iteration = 0\n",
    "    max_iterations = (max_evaluations / configuration[\"population_size\"])\n",
    "    xover_probability = 0.7\n",
    "    mutation_probability = 0.07\n",
    "    delta = 0.01\n",
    "    \n",
    "    while iteration < max_iterations:\n",
    "        mutation_values.append(mutation_probability)\n",
    "        xover_values.append(xover_probability)\n",
    "        fitness_values.append(best_fitness)\n",
    "        iteration += 1\n",
    "        adaptive_evolution_step(population, mutation_probability, xover_probability)\n",
    "        \n",
    "        current_best = max(population, key=lambda k: get_fitness(k))\n",
    "        current_fitness = get_fitness(current_best)\n",
    "        if current_fitness > best_fitness:\n",
    "            print(f\"Iteration {iteration}, best fitness: {best_fitness}\")\n",
    "            best_individual = copy.deepcopy(current_best)\n",
    "            best_fitness = current_fitness\n",
    "            \n",
    "        max_mutation = max(mutation_performance) if mutation_performance else 0\n",
    "        max_xover = max(xover_performance) if xover_performance else 0\n",
    "\n",
    "        if max_mutation < max_xover:\n",
    "            xover_probability = min(xover_probability + delta, 1.0)\n",
    "            mutation_probability = max(mutation_probability - delta, 0.01)\n",
    "        elif max_xover < max_mutation:\n",
    "            xover_probability = max(xover_probability - delta, 0.0)\n",
    "            mutation_probability = min(mutation_probability + delta, 1.0)\n",
    "\n",
    "        mutation_performance.clear()\n",
    "        xover_performance.clear()\n",
    "\n",
    "    fitness_values.append(best_fitness)\n",
    "    return best_individual"
   ]
  },
  {
   "cell_type": "markdown",
   "metadata": {
    "slideshow": {
     "slide_type": "skip"
    }
   },
   "source": [
    "We'll compare how this performs compared to our initial default configuration again."
   ]
  },
  {
   "cell_type": "code",
   "execution_count": 64,
   "metadata": {
    "slideshow": {
     "slide_type": "subslide"
    }
   },
   "outputs": [
    {
     "name": "stdout",
     "output_type": "stream",
     "text": [
      "Initial population, best fitness: 259\n",
      "Iteration 1, best fitness: 259\n",
      "Iteration 2, best fitness: 261\n",
      "Iteration 3, best fitness: 262\n",
      "Iteration 6, best fitness: 264\n",
      "Iteration 9, best fitness: 266\n",
      "Iteration 15, best fitness: 270\n",
      "Iteration 19, best fitness: 272\n",
      "Iteration 20, best fitness: 273\n",
      "Iteration 26, best fitness: 275\n",
      "Iteration 28, best fitness: 276\n",
      "Iteration 39, best fitness: 279\n",
      "Iteration 48, best fitness: 280\n",
      "Iteration 53, best fitness: 285\n",
      "Iteration 54, best fitness: 286\n",
      "Iteration 56, best fitness: 287\n",
      "Iteration 63, best fitness: 288\n",
      "Iteration 77, best fitness: 295\n",
      "Iteration 90, best fitness: 298\n",
      "Iteration 93, best fitness: 299\n",
      "Iteration 94, best fitness: 300\n",
      "Initial population, best fitness: 262\n",
      "Iteration 1, best fitness: 262\n",
      "Iteration 14, best fitness: 269\n",
      "Iteration 23, best fitness: 270\n"
     ]
    },
    {
     "data": {
      "text/plain": [
       "[['d', 'e', 'x', 'h', 'j', 'k'],\n",
       " ['a', 'd', 'x', 'x', 'h', 'm'],\n",
       " ['x', 'd', 'j', 'h', 'h', 'k'],\n",
       " ['x', 'g', 'g', 'i', 'x', 'l'],\n",
       " ['c', 'f', 'j', 'j', 'x', 'j'],\n",
       " ['b', 'e', 'x', 'i', 'j', 'l'],\n",
       " ['c', 'd', 'i', 'x', 'g', 'k'],\n",
       " ['c', 'f', 'g', 'i', 'i', 'j'],\n",
       " ['x', 'e', 'i', 'i', 'h', 'x'],\n",
       " ['b', 'f', 'g', 'j', 'i', 'm'],\n",
       " ['d', 'g', 'g', 'g', 'x', 'k'],\n",
       " ['d', 'e', 'h', 'j', 'i', 'k'],\n",
       " ['a', 'f', 'i', 'h', 'x', 'x'],\n",
       " ['x', 'd', 'h', 'g', 'h', 'j'],\n",
       " ['b', 'f', 'h', 'x', 'x', 'k'],\n",
       " ['c', 'x', 'i', 'j', 'j', 'x'],\n",
       " ['c', 'x', 'g', 'j', 'j', 'm'],\n",
       " ['a', 'x', 'x', 'h', 'g', 'j'],\n",
       " ['d', 'x', 'i', 'i', 'i', 'm'],\n",
       " ['a', 'e', 'h', 'i', 'g', 'j'],\n",
       " ['d', 'g', 'i', 'h', 'h', 'x'],\n",
       " ['d', 'f', 'g', 'x', 'j', 'x'],\n",
       " ['c', 'e', 'h', 'h', 'h', 'k'],\n",
       " ['b', 'g', 'i', 'g', 'g', 'j'],\n",
       " ['b', 'x', 'j', 'g', 'i', 'l']]"
      ]
     },
     "execution_count": 64,
     "metadata": {},
     "output_type": "execute_result"
    }
   ],
   "source": [
    "fitness_values = []\n",
    "num_mutations = []\n",
    "\n",
    "configuration['P_xover'] = 0.7\n",
    "configuration['P_mutation'] = 0.07\n",
    "configuration['population_size'] = 100\n",
    "configuration['tournament_size'] = 2\n",
    "\n",
    "mutation_values = []\n",
    "xover_values = []\n",
    "adaptive_ga()\n",
    "adaptive_fitness = fitness_values\n",
    "\n",
    "fitness_values = []\n",
    "ga()"
   ]
  },
  {
   "cell_type": "code",
   "execution_count": 65,
   "metadata": {
    "slideshow": {
     "slide_type": "subslide"
    }
   },
   "outputs": [
    {
     "data": {
      "text/plain": [
       "<matplotlib.legend.Legend at 0x12fb2edc0>"
      ]
     },
     "execution_count": 65,
     "metadata": {},
     "output_type": "execute_result"
    },
    {
     "data": {
      "image/png": "[encoded data removed]",
      "text/plain": [
       "<Figure size 432x288 with 1 Axes>"
      ]
     },
     "metadata": {
      "needs_background": "light"
     },
     "output_type": "display_data"
    }
   ],
   "source": [
    "plt.plot(mutation_values, label=\"Mutation\")\n",
    "plt.plot(xover_values, label=\"Xover\")\n",
    "plt.legend()"
   ]
  },
  {
   "cell_type": "code",
   "execution_count": 66,
   "metadata": {
    "slideshow": {
     "slide_type": "subslide"
    }
   },
   "outputs": [
    {
     "data": {
      "text/plain": [
       "<matplotlib.legend.Legend at 0x12faf9d90>"
      ]
     },
     "execution_count": 66,
     "metadata": {},
     "output_type": "execute_result"
    },
    {
     "data": {
      "image/png": "[encoded data removed]",
      "text/plain": [
       "<Figure size 432x288 with 1 Axes>"
      ]
     },
     "metadata": {
      "needs_background": "light"
     },
     "output_type": "display_data"
    }
   ],
   "source": [
    "plt.plot(adaptive_fitness, label=\"Adaptive\")\n",
    "plt.plot(fitness_values, label=\"Regular\")\n",
    "plt.legend()"
   ]
  },
  {
   "cell_type": "markdown",
   "metadata": {
    "slideshow": {
     "slide_type": "slide"
    }
   },
   "source": [
    "## Self-Adaptive Evolutionary Algorithms"
   ]
  },
  {
   "cell_type": "markdown",
   "metadata": {
    "slideshow": {
     "slide_type": "skip"
    }
   },
   "source": [
    "Adaptive evolutionary algorithms control some parameters, but thereby introduce new ones (e.g., when and how and how much to update the controlled parameters). What should we set these new parameters to? And should these values be constant, or also adaptive? To avoid this problem altogether we can just let our algorithm decide on its own what values to use, and turn it into a _self-adaptive_ evolutionary algorithm."
   ]
  },
  {
   "cell_type": "markdown",
   "metadata": {
    "slideshow": {
     "slide_type": "skip"
    }
   },
   "source": [
    "We thus add the parameters we want the algorithm to adapt to the representation:"
   ]
  },
  {
   "cell_type": "code",
   "execution_count": 67,
   "metadata": {
    "slideshow": {
     "slide_type": "fragment"
    }
   },
   "outputs": [],
   "source": [
    "def get_random_solution():\n",
    "    solution = L([])\n",
    "    for test in range(num_tests):\n",
    "        solution.append(get_random_test())\n",
    "\n",
    "    solution.probabilities = {\"P_xover\" : random.random(),\n",
    "                              \"P_mutation\" : random.random()}\n",
    "    return solution"
   ]
  },
  {
   "cell_type": "markdown",
   "metadata": {
    "slideshow": {
     "slide_type": "skip"
    }
   },
   "source": [
    "When crossing over two individuals, for simplicity we will simply let them inherit their parents' parameter values:"
   ]
  },
  {
   "cell_type": "code",
   "execution_count": 68,
   "metadata": {
    "slideshow": {
     "slide_type": "fragment"
    }
   },
   "outputs": [],
   "source": [
    "def self_crossover(parent1, parent2):\n",
    "    offspring1, offspring2 = crossover(parent1, parent2)\n",
    "\n",
    "    # Make sure copies have the probabilities\n",
    "    offspring1.probabilities = parent1.probabilities.copy()\n",
    "    offspring2.probabilities = parent2.probabilities.copy()\n",
    "\n",
    "    return offspring1, offspring2"
   ]
  },
  {
   "cell_type": "markdown",
   "metadata": {
    "slideshow": {
     "slide_type": "skip"
    }
   },
   "source": [
    "Now comes the important bit: When mutating individuals, we not only alter the values (i.e., the test data in our search problem), but also the parameter values. We will add some Gaussian noise to mutate parameters by a little bit, so here's a helper function to keep values in bounds when applying the Gaussian noise:"
   ]
  },
  {
   "cell_type": "code",
   "execution_count": 69,
   "metadata": {
    "slideshow": {
     "slide_type": "skip"
    }
   },
   "outputs": [],
   "source": [
    "def crop(value, boundary_min, boundary_max):\n",
    "    if value > boundary_max:\n",
    "        return boundary_max\n",
    "    elif value < boundary_min:\n",
    "        return boundary_min\n",
    "    else:\n",
    "        return value"
   ]
  },
  {
   "cell_type": "markdown",
   "metadata": {
    "slideshow": {
     "slide_type": "skip"
    }
   },
   "source": [
    "The actual mutation just calls our usual mutation, and then applies the Gaussian noise -- using the current mutation probability to decide whether or not to mutate each parameter:"
   ]
  },
  {
   "cell_type": "code",
   "execution_count": 70,
   "metadata": {
    "slideshow": {
     "slide_type": "subslide"
    }
   },
   "outputs": [],
   "source": [
    "def self_mutate(individual, P_mutate):\n",
    "    \n",
    "    mutated = mutate(individual, P_mutate)\n",
    "    mutated.probabilities = individual.probabilities.copy()\n",
    "    \n",
    "    for p in mutated.probabilities.keys():\n",
    "        if random.random() < P_mutate:\n",
    "            mutated.probabilities[p] = crop(random.gauss(mutated.probabilities[p], 0.05), 0.001, 1)\n",
    "            \n",
    "    return mutated"
   ]
  },
  {
   "cell_type": "markdown",
   "metadata": {
    "slideshow": {
     "slide_type": "skip"
    }
   },
   "source": [
    "When given two parents, we use the average of the crossover probabilities of the parents as our crossover probability; when mutating an individual, we use its own mutation probability:"
   ]
  },
  {
   "cell_type": "code",
   "execution_count": 71,
   "metadata": {
    "slideshow": {
     "slide_type": "subslide"
    }
   },
   "outputs": [],
   "source": [
    "def self_evolution_step(population):\n",
    "    new_population = []\n",
    "    while len(new_population) < len(population):\n",
    "        parent1 = selection(population)\n",
    "        parent2 = selection(population)\n",
    "\n",
    "        P_xover = (parent1.probabilities[\"P_xover\"] + parent2.probabilities[\"P_xover\"])/2\n",
    "        if random.random() < P_xover:\n",
    "            offspring1, offspring2 = self_crossover(parent1, parent2)\n",
    "        else:\n",
    "            offspring1, offspring2 = parent1, parent2\n",
    "\n",
    "        offspring1 = self_mutate(offspring1, offspring1.probabilities[\"P_mutation\"])\n",
    "        offspring2 = self_mutate(offspring2, offspring2.probabilities[\"P_mutation\"])\n",
    "\n",
    "        new_population.append(offspring1)\n",
    "        new_population.append(offspring2)\n",
    "\n",
    "    population.clear()\n",
    "    population.extend(new_population)"
   ]
  },
  {
   "cell_type": "markdown",
   "metadata": {
    "slideshow": {
     "slide_type": "skip"
    }
   },
   "source": [
    "The evolutionary algorithm itself is unchanged, but we add some code to keep track of the average parameters in the population so we can look at that after the evolution:"
   ]
  },
  {
   "cell_type": "code",
   "execution_count": 72,
   "metadata": {
    "slideshow": {
     "slide_type": "subslide"
    }
   },
   "outputs": [],
   "source": [
    "def self_adaptive_ga():\n",
    "    population = [get_random_solution() for _ in range(configuration[\"population_size\"])]\n",
    "    best_individual = max(population, key=lambda k: get_fitness(k))\n",
    "    best_fitness = get_fitness(best_individual)\n",
    "    print(f\"Initial population, best fitness: {best_fitness}\")\n",
    "\n",
    "    iteration = 0\n",
    "    max_iterations = (max_evaluations / configuration[\"population_size\"])\n",
    "    \n",
    "    while iteration < max_iterations:\n",
    "        fitness_values.append(best_fitness)\n",
    "        mutation_values.append(sum([p.probabilities[\"P_mutation\"] for p in population])/len(population))\n",
    "        xover_values.append(sum([p.probabilities[\"P_xover\"] for p in population])/len(population))\n",
    "        iteration += 1\n",
    "        self_evolution_step(population)\n",
    "        \n",
    "        current_best = max(population, key=lambda k: get_fitness(k))\n",
    "        current_fitness = get_fitness(current_best)\n",
    "        if current_fitness > best_fitness:\n",
    "            print(f\"Iteration {iteration}, best fitness: {best_fitness}\")\n",
    "            best_individual = copy.deepcopy(current_best)\n",
    "            best_fitness = current_fitness\n",
    "            \n",
    "    fitness_values.append(best_fitness)\n",
    "    return best_individual"
   ]
  },
  {
   "cell_type": "markdown",
   "metadata": {
    "slideshow": {
     "slide_type": "skip"
    }
   },
   "source": [
    "Once again we compare against our initial default values."
   ]
  },
  {
   "cell_type": "code",
   "execution_count": 73,
   "metadata": {
    "slideshow": {
     "slide_type": "subslide"
    }
   },
   "outputs": [
    {
     "name": "stdout",
     "output_type": "stream",
     "text": [
      "Initial population, best fitness: 259\n",
      "Iteration 1, best fitness: 259\n",
      "Iteration 3, best fitness: 261\n",
      "Iteration 9, best fitness: 262\n",
      "Iteration 11, best fitness: 264\n",
      "Iteration 12, best fitness: 265\n",
      "Iteration 23, best fitness: 266\n",
      "Iteration 24, best fitness: 268\n",
      "Iteration 37, best fitness: 274\n",
      "Iteration 47, best fitness: 277\n",
      "Iteration 49, best fitness: 278\n",
      "Iteration 50, best fitness: 283\n",
      "Iteration 51, best fitness: 284\n",
      "Iteration 52, best fitness: 285\n",
      "Iteration 54, best fitness: 286\n",
      "Iteration 58, best fitness: 287\n",
      "Iteration 61, best fitness: 289\n",
      "Iteration 62, best fitness: 291\n",
      "Iteration 64, best fitness: 292\n",
      "Iteration 65, best fitness: 293\n",
      "Iteration 67, best fitness: 294\n",
      "Iteration 69, best fitness: 296\n",
      "Iteration 70, best fitness: 297\n",
      "Iteration 73, best fitness: 298\n",
      "Iteration 74, best fitness: 299\n",
      "Iteration 77, best fitness: 301\n",
      "Iteration 79, best fitness: 302\n",
      "Iteration 83, best fitness: 304\n",
      "Iteration 85, best fitness: 305\n",
      "Iteration 89, best fitness: 306\n",
      "Iteration 91, best fitness: 307\n",
      "Iteration 96, best fitness: 308\n",
      "Iteration 99, best fitness: 309\n",
      "Initial population, best fitness: 262\n",
      "Iteration 1, best fitness: 262\n",
      "Iteration 2, best fitness: 264\n",
      "Iteration 17, best fitness: 267\n",
      "Iteration 41, best fitness: 269\n",
      "Iteration 62, best fitness: 272\n"
     ]
    },
    {
     "data": {
      "text/plain": [
       "[['x', 'x', 'x', 'x', 'h', 'm'],\n",
       " ['x', 'd', 'i', 'i', 'g', 'j'],\n",
       " ['c', 'x', 'h', 'g', 'x', 'k'],\n",
       " ['a', 'f', 'h', 'g', 'x', 'm'],\n",
       " ['c', 'f', 'i', 'x', 'h', 'x'],\n",
       " ['d', 'g', 'i', 'g', 'g', 'k'],\n",
       " ['b', 'g', 'x', 'x', 'i', 'm'],\n",
       " ['d', 'd', 'g', 'x', 'j', 'l'],\n",
       " ['x', 'x', 'h', 'i', 'h', 'k'],\n",
       " ['a', 'x', 'j', 'h', 'i', 'x'],\n",
       " ['b', 'f', 'i', 'h', 'x', 'k'],\n",
       " ['a', 'f', 'j', 'x', 'g', 'l'],\n",
       " ['c', 'd', 'x', 'h', 'g', 'm'],\n",
       " ['d', 'e', 'i', 'g', 'h', 'l'],\n",
       " ['x', 'g', 'h', 'i', 'g', 'x'],\n",
       " ['c', 'g', 'x', 'h', 'j', 'k'],\n",
       " ['a', 'e', 'g', 'x', 'j', 'j'],\n",
       " ['x', 'f', 'x', 'h', 'i', 'j'],\n",
       " ['b', 'x', 'i', 'i', 'i', 'm'],\n",
       " ['d', 'd', 'h', 'j', 'h', 'j'],\n",
       " ['b', 'g', 'x', 'g', 'j', 'j'],\n",
       " ['a', 'f', 'x', 'j', 'i', 'k'],\n",
       " ['d', 'x', 'g', 'i', 'i', 'm'],\n",
       " ['c', 'e', 'g', 'h', 'g', 'k'],\n",
       " ['x', 'd', 'h', 'j', 'x', 'l']]"
      ]
     },
     "execution_count": 73,
     "metadata": {},
     "output_type": "execute_result"
    }
   ],
   "source": [
    "max_evaluations = 10000\n",
    "fitness_values = []\n",
    "configuration['P_xover'] = 0.7\n",
    "configuration['P_mutation'] = 0.07\n",
    "configuration['population_size'] = 100\n",
    "configuration['tournament_size'] = 2\n",
    "\n",
    "self_values = []\n",
    "xover_values = []\n",
    "mutation_values = []\n",
    "\n",
    "self_adaptive_ga()\n",
    "self_values = fitness_values\n",
    "\n",
    "fitness_values = []\n",
    "ga()"
   ]
  },
  {
   "cell_type": "code",
   "execution_count": 74,
   "metadata": {
    "slideshow": {
     "slide_type": "subslide"
    }
   },
   "outputs": [
    {
     "data": {
      "text/plain": [
       "<matplotlib.legend.Legend at 0x12fb9a730>"
      ]
     },
     "execution_count": 74,
     "metadata": {},
     "output_type": "execute_result"
    },
    {
     "data": {
      "image/png": "[encoded data removed]",
      "text/plain": [
       "<Figure size 432x288 with 1 Axes>"
      ]
     },
     "metadata": {
      "needs_background": "light"
     },
     "output_type": "display_data"
    }
   ],
   "source": [
    "plt.plot(mutation_values, label=\"Mutation\")\n",
    "plt.plot(xover_values, label=\"Xover\")\n",
    "plt.legend()"
   ]
  },
  {
   "cell_type": "code",
   "execution_count": 75,
   "metadata": {
    "slideshow": {
     "slide_type": "subslide"
    }
   },
   "outputs": [
    {
     "data": {
      "text/plain": [
       "<matplotlib.legend.Legend at 0x12fbd6bb0>"
      ]
     },
     "execution_count": 75,
     "metadata": {},
     "output_type": "execute_result"
    },
    {
     "data": {
      "image/png": "[encoded data removed]",
      "text/plain": [
       "<Figure size 432x288 with 1 Axes>"
      ]
     },
     "metadata": {
      "needs_background": "light"
     },
     "output_type": "display_data"
    }
   ],
   "source": [
    "plt.plot(self_values, label=\"Self-Adaptive\")\n",
    "plt.plot(fitness_values, label=\"Regular\")\n",
    "plt.legend()"
   ]
  },
  {
   "cell_type": "markdown",
   "metadata": {
    "slideshow": {
     "slide_type": "slide"
    }
   },
   "source": [
    "## Generalisation"
   ]
  },
  {
   "cell_type": "markdown",
   "metadata": {
    "slideshow": {
     "slide_type": "skip"
    }
   },
   "source": [
    "Throughout this notebook, when we compared algorithms we only looked at individual runs; it's difficult to generalise from an individual run. Furthermore, we always applied the search to the exact same problem. In order to better compare the different configurations, we need to consider _different_ problems."
   ]
  },
  {
   "cell_type": "code",
   "execution_count": 76,
   "metadata": {
    "slideshow": {
     "slide_type": "fragment"
    }
   },
   "outputs": [],
   "source": [
    "from IPython.utils import io\n",
    "\n",
    "def run_times(algorithm, configuration, repetitions):\n",
    "    global fitness_values\n",
    "    result = []\n",
    "    for i in range(repetitions):\n",
    "        fitness_values = []\n",
    "        with io.capture_output() as captured: \n",
    "            algorithm()\n",
    "        result.append(fitness_values[-1])\n",
    "    return result"
   ]
  },
  {
   "cell_type": "code",
   "execution_count": 77,
   "metadata": {
    "slideshow": {
     "slide_type": "subslide"
    }
   },
   "outputs": [
    {
     "data": {
      "text/plain": [
       "[Text(1, 0, 'Default'),\n",
       " Text(2, 0, 'RSM'),\n",
       " Text(3, 0, 'Controlled'),\n",
       " Text(4, 0, 'Adaptive'),\n",
       " Text(5, 0, 'Self-Adaptive')]"
      ]
     },
     "execution_count": 77,
     "metadata": {},
     "output_type": "execute_result"
    },
    {
     "data": {
      "image/png": "[encoded data removed]",
      "text/plain": [
       "<Figure size 432x288 with 1 Axes>"
      ]
     },
     "metadata": {
      "needs_background": "light"
     },
     "output_type": "display_data"
    }
   ],
   "source": [
    "parameters = { 0 : [\"a\", \"b\", \"c\", \"d\"],\n",
    "               1 : [\"d\", \"e\", \"f\", \"g\", \"x\"],\n",
    "               2 : [\"g\", \"h\", \"i\"]}\n",
    "num_tests = 20\n",
    "configuration['P_xover'] = 0.7\n",
    "configuration['P_mutation'] = 0.07\n",
    "configuration['population_size'] = 100\n",
    "configuration['tournament_size'] = 2\n",
    "results = {\n",
    "    \"Default\"       : run_times(ga, configuration, 10),\n",
    "    \"RSM\"           : run_times(ga, rsm_config, 10),\n",
    "    \"Controlled\"    : run_times(controlled_ga, configuration, 10),\n",
    "    \"Adaptive\"      : run_times(adaptive_ga, configuration, 10),\n",
    "    \"Self-Adaptive\" : run_times(self_adaptive_ga, configuration, 10)\n",
    "}\n",
    "fig, ax = plt.subplots()\n",
    "ax.boxplot(results.values())\n",
    "ax.set_xticklabels(results.keys())"
   ]
  },
  {
   "cell_type": "code",
   "execution_count": 78,
   "metadata": {
    "slideshow": {
     "slide_type": "subslide"
    }
   },
   "outputs": [
    {
     "data": {
      "text/plain": [
       "[Text(1, 0, 'Default'),\n",
       " Text(2, 0, 'RSM'),\n",
       " Text(3, 0, 'Controlled'),\n",
       " Text(4, 0, 'Adaptive'),\n",
       " Text(5, 0, 'Self-Adaptive')]"
      ]
     },
     "execution_count": 78,
     "metadata": {},
     "output_type": "execute_result"
    },
    {
     "data": {
      "image/png": "[encoded data removed]",
      "text/plain": [
       "<Figure size 432x288 with 1 Axes>"
      ]
     },
     "metadata": {
      "needs_background": "light"
     },
     "output_type": "display_data"
    }
   ],
   "source": [
    "parameters = { 0 : [\"a\", \"b\", \"c\", \"d\", \"e\", \"f\", \"g\"],\n",
    "               1 : [\"d\", \"e\", \"f\", \"g\", \"x\"],\n",
    "               2 : [\"d\", \"e\", \"f\", \"g\"],\n",
    "               3 : [\"d\", \"e\", \"f\"],\n",
    "               4 : [\"g\", \"h\"]}\n",
    "num_tests = 30\n",
    "configuration['P_xover'] = 0.7\n",
    "configuration['P_mutation'] = 0.07\n",
    "configuration['population_size'] = 100\n",
    "configuration['tournament_size'] = 2\n",
    "results = {\n",
    "    \"Default\"       : run_times(ga, configuration, 10),\n",
    "    \"RSM\"           : run_times(ga, rsm_config, 10),\n",
    "    \"Controlled\"    : run_times(controlled_ga, configuration, 10),\n",
    "    \"Adaptive\"      : run_times(adaptive_ga, configuration, 10),\n",
    "    \"Self-Adaptive\" : run_times(self_adaptive_ga, configuration, 10)\n",
    "}\n",
    "fig, ax = plt.subplots()\n",
    "ax.boxplot(results.values())\n",
    "ax.set_xticklabels(results.keys())"
   ]
  },
  {
   "cell_type": "code",
   "execution_count": 82,
   "metadata": {},
   "outputs": [
    {
     "data": {
      "text/plain": [
       "[Text(1, 0, 'Default'),\n",
       " Text(2, 0, 'RSM'),\n",
       " Text(3, 0, 'Controlled'),\n",
       " Text(4, 0, 'Adaptive'),\n",
       " Text(5, 0, 'Self-Adaptive')]"
      ]
     },
     "execution_count": 82,
     "metadata": {},
     "output_type": "execute_result"
    },
    {
     "data": {
      "image/png": "[encoded data removed]",
      "text/plain": [
       "<Figure size 432x288 with 1 Axes>"
      ]
     },
     "metadata": {
      "needs_background": "light"
     },
     "output_type": "display_data"
    }
   ],
   "source": [
    "parameters = { 0 : [\"0\", \"1\"],\n",
    "               1 : [\"0\", \"1\"],\n",
    "               2 : [\"0\", \"1\"],\n",
    "               3 : [\"0\", \"1\"],\n",
    "               4 : [\"0\", \"1\"],\n",
    "               5 : [\"0\", \"1\"],\n",
    "               6 : [\"0\", \"1\"],\n",
    "               7 : [\"0\", \"1\"],\n",
    "               8 : [\"0\", \"1\"],\n",
    "               9 : [\"0\", \"1\"]}\n",
    "num_tests = 6 # 10 is required\n",
    "configuration['P_xover'] = 0.7\n",
    "configuration['P_mutation'] = 0.07\n",
    "configuration['population_size'] = 100\n",
    "configuration['tournament_size'] = 2\n",
    "results = {\n",
    "    \"Default\"       : run_times(ga, configuration, 10),\n",
    "    \"RSM\"           : run_times(ga, rsm_config, 10),\n",
    "    \"Controlled\"    : run_times(controlled_ga, configuration, 10),\n",
    "    \"Adaptive\"      : run_times(adaptive_ga, configuration, 10),\n",
    "    \"Self-Adaptive\" : run_times(self_adaptive_ga, configuration, 10)\n",
    "}\n",
    "fig, ax = plt.subplots()\n",
    "ax.boxplot(results.values())\n",
    "ax.set_xticklabels(results.keys())"
   ]
  },
  {
   "cell_type": "markdown",
   "metadata": {},
   "source": [
    "## Outlook: Hyper-Heuristics"
   ]
  },
  {
   "cell_type": "markdown",
   "metadata": {},
   "source": [
    "In this chapter we considered how to tune and adjust the quantitative parameter values for a given search algorithm. However, sometimes different qualitative parameters (e.g., different types of mutation operators) may be beneficial at different times throughout the search, and sometimes even entirely different algorithms may perform better at different points during the search. Indeed there might not be a single optimal heuristic for a given problem type. The idea of _hyper heuristics_ is to apply different heuristics to different parts or phases of the solution process.\n",
    "A hyper-heuristic is a search method for selecting or generating heuristics to solve computational search problems, and so it can, essentially, produce entirely new and adaptive meta-heuristic search algorithms."
   ]
  },
  {
   "cell_type": "markdown",
   "metadata": {},
   "source": [
    "An example for a hyper-heuristic application in software engineering can be found in the following article:\n",
    "\n",
    "- Jia, Y., Cohen, M. B., Harman, M., & Petke, J. Learning combinatorial interaction test generation strategies using hyperheuristic search. In Proceedings of the 37th International Conference on Software Engineering-Volume 1 (pp. 540-550). IEEE Press, 2015\n",
    "\n",
    "In this article, a selective hyper-heuristic is applied to combinatorial interaction testing, i.e. the example problem we used in this notebook. Simulated annealing is the central meta-heuristic, but six different neighbourhood exploration operators are defined, and reinforcement learning is applied in order to select which of them should be applied at each iteration of the simulated annealing algorithm."
   ]
  }
 ],
 "metadata": {
  "kernelspec": {
   "display_name": "3.8.6",
   "language": "python",
   "name": "3.8.6"
  },
  "language_info": {
   "codemirror_mode": {
    "name": "ipython",
    "version": 3
   },
   "file_extension": ".py",
   "mimetype": "text/x-python",
   "name": "python",
   "nbconvert_exporter": "python",
   "pygments_lexer": "ipython3",
   "version": "3.8.6"
  }
 },
 "nbformat": 4,
 "nbformat_minor": 4
}
