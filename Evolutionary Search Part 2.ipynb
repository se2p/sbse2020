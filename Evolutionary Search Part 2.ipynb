{
 "cells": [
  {
   "cell_type": "markdown",
   "metadata": {},
   "source": [
    "# Evolutionary Algorithms (Part 2)"
   ]
  },
  {
   "cell_type": "code",
   "execution_count": 1,
   "metadata": {},
   "outputs": [],
   "source": [
    "import matplotlib.pyplot as plt\n",
    "import random\n",
    "from IPython.utils import io\n",
    "from statistics import mean"
   ]
  },
  {
   "cell_type": "markdown",
   "metadata": {},
   "source": [
    "We will start by considering the one max problem again, where a solution is a vector of length _n_, consisting of binary numbers."
   ]
  },
  {
   "cell_type": "code",
   "execution_count": 2,
   "metadata": {},
   "outputs": [],
   "source": [
    "n = 20"
   ]
  },
  {
   "cell_type": "code",
   "execution_count": 3,
   "metadata": {},
   "outputs": [],
   "source": [
    "def get_random_solution():\n",
    "    return [random.choice([0,1]) for _ in range(n)]"
   ]
  },
  {
   "cell_type": "markdown",
   "metadata": {},
   "source": [
    "The fitness function as well as variation operators are still the same:"
   ]
  },
  {
   "cell_type": "code",
   "execution_count": 4,
   "metadata": {},
   "outputs": [],
   "source": [
    "def get_fitness(solution):\n",
    "    return sum(solution)"
   ]
  },
  {
   "cell_type": "code",
   "execution_count": 5,
   "metadata": {},
   "outputs": [],
   "source": [
    "def mutate(individual):\n",
    "    P_mutate = 1/len(individual)\n",
    "    copy = individual[:]\n",
    "    for position in range(len(individual)):\n",
    "        if random.random() < P_mutate:\n",
    "            copy[position] = 1 - copy[position]\n",
    "    return copy"
   ]
  },
  {
   "cell_type": "code",
   "execution_count": 6,
   "metadata": {},
   "outputs": [],
   "source": [
    "def singlepoint_crossover(parent1, parent2):\n",
    "    pos = random.randint(0, len(parent1))\n",
    "    offspring1 = parent1[:pos] + parent2[pos:]\n",
    "    offspring2 = parent2[:pos] + parent1[pos:]\n",
    "    return offspring1, offspring2"
   ]
  },
  {
   "cell_type": "markdown",
   "metadata": {},
   "source": [
    "The first selection operator we considered was tournament selection:"
   ]
  },
  {
   "cell_type": "code",
   "execution_count": 7,
   "metadata": {},
   "outputs": [],
   "source": [
    "tournament_size = 5\n",
    "def tournament_selection(population, replacement=False):\n",
    "    if replacement:\n",
    "        candidates = random.choices(population, k=tournament_size)\n",
    "    else:\n",
    "        candidates = random.sample(population, tournament_size)\n",
    "        \n",
    "    winner, fitness = max([(x, get_fitness(x)) for x in candidates], key=lambda item:item[1])\n",
    "    return winner"
   ]
  },
  {
   "cell_type": "markdown",
   "metadata": {},
   "source": [
    "A general problem in evolutionary search is finding the right balance between exploration and exploitation. Using the wrong operators may lead to premature convergence, or the search may never converge at all at an optimum. As a first step towards understanding what is happening inside the population of a genetic algorithm, we will consider the _average fitness_ of the population as well as the _diversity_ within the population in addition to the best fitness value we already tracked in the past. For this, we first define the difference between two individuals as the hamming distance between the vector representations:"
   ]
  },
  {
   "cell_type": "code",
   "execution_count": 8,
   "metadata": {},
   "outputs": [],
   "source": [
    "def hamming_distance(individual1, individual2):\n",
    "    return sum(c1 != c2 for c1, c2 in zip(individual1, individual2))"
   ]
  },
  {
   "cell_type": "markdown",
   "metadata": {},
   "source": [
    "We can now calculate an overall population diversity as the sum of pairwise hamming distances for all pairs of individuals in the population."
   ]
  },
  {
   "cell_type": "code",
   "execution_count": 9,
   "metadata": {},
   "outputs": [],
   "source": [
    "def pairwise_distance(population):\n",
    "    distances = 0\n",
    "    for i in range(len(population)-1):\n",
    "        for j in range(i, len(population)):\n",
    "           distances += hamming_distance(population[i], population[j]) \n",
    "    return distances"
   ]
  },
  {
   "cell_type": "markdown",
   "metadata": {},
   "source": [
    "We need to set the parameters of our genetic algorithm first:"
   ]
  },
  {
   "cell_type": "code",
   "execution_count": 10,
   "metadata": {},
   "outputs": [],
   "source": [
    "population_size = 20\n",
    "P_xover   = 0.7\n",
    "max_steps = 1000\n",
    "selection = tournament_selection\n",
    "crossover = singlepoint_crossover\n",
    "\n",
    "# These lists track values throughout the evolution\n",
    "# so we can compare the behaviour of different operators\n",
    "fitness_values = []\n",
    "diversity_values = []\n",
    "mean_fitness_values = []"
   ]
  },
  {
   "cell_type": "markdown",
   "metadata": {},
   "source": [
    "In the lecture we discussed that there are many different variations of all the search operators involved in a genetic algorithm. We will now look at a couple of relevant search operators."
   ]
  },
  {
   "cell_type": "markdown",
   "metadata": {},
   "source": [
    "## Survivor Selection"
   ]
  },
  {
   "cell_type": "markdown",
   "metadata": {},
   "source": [
    "Most evolutionary algorithms use a fixed population size, so we need a way of going from (parents + offspring) to the next generation. \n",
    "- In age-based selection one usually produces as many offspring as there are parents, and then replaces the parents with the offspring. \n",
    "- In fitness-based selection, we rank the parents and the offspring, and take the best of all.\n",
    "\n",
    "We saw both versions last time in the context of evolution strategies, but can also create versions of a genetic algorithm. In a generational genetic algorithm the offspring replaces the parents, while in a steady state genetic algorithm we apply fitness-based survivor selection."
   ]
  },
  {
   "cell_type": "markdown",
   "metadata": {},
   "source": [
    "Elitism is a special case, where the best individuals of the population always survive, while other means are used for the rest of the population. We implement a simple version of elitism by simply ranking the population by diversity and taking the top `elite_size` elements:"
   ]
  },
  {
   "cell_type": "code",
   "execution_count": 11,
   "metadata": {},
   "outputs": [],
   "source": [
    "elite_size = int(population_size * 0.05)\n",
    "\n",
    "def elitism(population):\n",
    "    population.sort(key=lambda k: get_fitness(k), reverse=True)\n",
    "    return population[:elite_size]"
   ]
  },
  {
   "cell_type": "markdown",
   "metadata": {},
   "source": [
    "Let's revisit the standard genetic algorithm with a generational selection model, integrated with elitism:"
   ]
  },
  {
   "cell_type": "code",
   "execution_count": 12,
   "metadata": {},
   "outputs": [],
   "source": [
    "def ga():\n",
    "    population = [get_random_solution() for _ in range(population_size)]\n",
    "\n",
    "    # This could probably be written in a single line, but let's keep it explicit\n",
    "    best_fitness = -1\n",
    "    step = 0\n",
    "    for p in population:\n",
    "        fitness = get_fitness(p)\n",
    "        if fitness > best_fitness:\n",
    "            best_fitness = fitness\n",
    "        step += 1\n",
    "        fitness_values.append(best_fitness)\n",
    "\n",
    "    diversity_values.append(pairwise_distance(population))\n",
    "    mean_fitness_values.append(mean([get_fitness(x) for x in population]))\n",
    "\n",
    "    iteration = 0\n",
    "    print(\"Iteration {}, best fitness: {}\".format(iteration, best_fitness))\n",
    "    while step < max_steps:\n",
    "        iteration += 1\n",
    "        new_population = elitism(population)\n",
    "        while len(new_population) < len(population):\n",
    "            parent1 = selection(population)\n",
    "            parent2 = selection(population)\n",
    "\n",
    "            if random.random() < P_xover:\n",
    "                offspring1, offspring2 = crossover(parent1, parent2)\n",
    "            else:\n",
    "                offspring1, offspring2 = parent1[:], parent2[:]\n",
    "\n",
    "            offspring1 = mutate(offspring1)\n",
    "            offspring2 = mutate(offspring2)\n",
    "            \n",
    "            fitness1, fitness2 = get_fitness(offspring1), get_fitness(offspring2)\n",
    "            step += 2\n",
    "            if fitness1 > best_fitness:\n",
    "                best_fitness = fitness1\n",
    "                print(\"Iteration {}, best fitness: {}\".format(iteration, best_fitness))\n",
    "            fitness_values.append(best_fitness)\n",
    "            if fitness2 > best_fitness:\n",
    "                best_fitness = fitness2\n",
    "                print(\"Iteration {}, best fitness: {}\".format(iteration, best_fitness))\n",
    "            fitness_values.append(best_fitness)\n",
    "            \n",
    "            new_population += [offspring1, offspring2]\n",
    "\n",
    "        population = new_population\n",
    "        diversity_values.append(pairwise_distance(population))\n",
    "        mean_fitness_values.append(mean([get_fitness(x) for x in population]))\n",
    "\n",
    "    return max(population, key=lambda k: get_fitness(k))"
   ]
  },
  {
   "cell_type": "markdown",
   "metadata": {},
   "source": [
    "The alternative was the steady state genetic algorithm, where we select two parents, derive their offspring, and then do fitness-based survivor selection:"
   ]
  },
  {
   "cell_type": "code",
   "execution_count": 13,
   "metadata": {},
   "outputs": [],
   "source": [
    "def steadystatega():\n",
    "    population = [get_random_solution() for _ in range(population_size)]\n",
    "    best_fitness = -1\n",
    "    step = 0\n",
    "    for p in population:\n",
    "        fitness = get_fitness(p)\n",
    "        step += 1\n",
    "        if fitness > best_fitness:\n",
    "            best_fitness = fitness\n",
    "            best_solution = p\n",
    "        fitness_values.append(best_fitness)\n",
    "    print(f\"Iteration 0, best fitness: {best_fitness}\")\n",
    "    diversity_values.append(pairwise_distance(population))\n",
    "    mean_fitness_values.append(mean([get_fitness(x) for x in population]))\n",
    "    \n",
    "    iteration = 0\n",
    "    while step < max_steps:\n",
    "        iteration += 1\n",
    "                \n",
    "        parent1 = selection(population)\n",
    "        parent2 = selection(population)\n",
    "        \n",
    "        p1 = population.index(parent1)\n",
    "        p2 = population.index(parent2)\n",
    "\n",
    "        if random.random() < P_xover:\n",
    "            offspring1, offspring2 = crossover(parent1, parent2)\n",
    "        else:\n",
    "            offspring1, offspring2 = parent1[:], parent2[:]\n",
    "\n",
    "        offspring1 = mutate(offspring1)\n",
    "        offspring2 = mutate(offspring2)\n",
    "        \n",
    "        best1, best2 = sorted([parent1, parent2, offspring1, offspring2], key=lambda item:get_fitness(item), reverse=True)[:2]\n",
    "        population[p1] = best1\n",
    "        population[p2] = best2\n",
    "        step += 2\n",
    "\n",
    "        if get_fitness(best1) > best_fitness or get_fitness(best2) > best_fitness:\n",
    "            best_fitness = max(get_fitness(best1), get_fitness(best1))\n",
    "            print(f\"Iteration {iteration}, best fitness: {best_fitness}\")\n",
    "\n",
    "        fitness_values.append(best_fitness)\n",
    "        fitness_values.append(best_fitness)\n",
    "        \n",
    "        # To make plots comparable with the generational GA\n",
    "        if step % population_size == 0:\n",
    "            diversity_values.append(pairwise_distance(population))\n",
    "            mean_fitness_values.append(mean([get_fitness(x) for x in population]))\n",
    "            \n",
    "    return best_solution"
   ]
  },
  {
   "cell_type": "markdown",
   "metadata": {},
   "source": [
    "Note that there are further possibilities for variation here: Instead of replacing the selected parents in the population, we could select other individuals (e.g., the worst individuals)."
   ]
  },
  {
   "cell_type": "markdown",
   "metadata": {},
   "source": [
    "To consider the effects on diversity, let's compare diversity and fitness throughout one run each. We'll increase `n` to make the problem slightly more challenging."
   ]
  },
  {
   "cell_type": "code",
   "execution_count": 14,
   "metadata": {},
   "outputs": [
    {
     "data": {
      "image/png": "[encoded data removed]",
      "text/plain": [
       "<Figure size 1296x288 with 3 Axes>"
      ]
     },
     "metadata": {
      "needs_background": "light"
     },
     "output_type": "display_data"
    }
   ],
   "source": [
    "fig, axes = plt.subplots(nrows=1, ncols=3, figsize=(18, 4))\n",
    "n = 100\n",
    "max_steps = 1000\n",
    "population_size = 20\n",
    "\n",
    "with io.capture_output() as captured: \n",
    "    elite_size = 0\n",
    "    fitness_values = []\n",
    "    diversity_values = []\n",
    "    mean_fitness_values = []\n",
    "    ga()\n",
    "    axes[0].plot(diversity_values, label=f\"No elitism\")\n",
    "    axes[1].plot(mean_fitness_values, label=f\"No elitism\")\n",
    "    axes[2].plot(fitness_values, label=f\"No elitism\")\n",
    "\n",
    "    elite_size = 1\n",
    "    fitness_values = []\n",
    "    diversity_values = []\n",
    "    mean_fitness_values = []\n",
    "    ga()\n",
    "    axes[0].plot(diversity_values, label=f\"E1\")\n",
    "    axes[1].plot(mean_fitness_values, label=f\"E1\")\n",
    "    axes[2].plot(fitness_values, label=f\"E1\")\n",
    "    \n",
    "    elite_size = 10\n",
    "    fitness_values = []\n",
    "    diversity_values = []\n",
    "    mean_fitness_values = []\n",
    "    ga()\n",
    "    axes[0].plot(diversity_values, label=f\"E10\")\n",
    "    axes[1].plot(mean_fitness_values, label=f\"E10\")\n",
    "    axes[2].plot(fitness_values, label=f\"E10\")\n",
    "    \n",
    "    fitness_values = []\n",
    "    diversity_values = []\n",
    "    mean_fitness_values = []\n",
    "    steadystatega()\n",
    "    axes[0].plot(diversity_values, label=f\"SS-GA\")\n",
    "    axes[1].plot(mean_fitness_values, label=f\"SS-GA\")\n",
    "    axes[2].plot(fitness_values, label=f\"SS-GA\")\n",
    "\n",
    "axes[0].set_title('Population Diversity')\n",
    "axes[0].legend()\n",
    "axes[1].set_title('Mean Population Fitness')\n",
    "axes[1].legend()\n",
    "axes[2].set_title('Fitness Evolution')\n",
    "axes[2].legend()\n",
    "plt.show()"
   ]
  },
  {
   "cell_type": "markdown",
   "metadata": {},
   "source": [
    "As usual results may vary between runs, since these are randomised algorithms. However, a general trend we should see in the above plots is that the population diversity of the steady state GA reduces much slower than in a generational GA, and also the average fitness value in the population remains lower. The large elitism size of `10` means that the algorithm can run more generations with the same number of fitness evaluations, which is why it continues longer than the others in the first two plots. A small elitism size tends to generally lead to a better average fitness in this configuration. The best performing version will differ between runs."
   ]
  },
  {
   "cell_type": "markdown",
   "metadata": {},
   "source": [
    "## Parent Selection"
   ]
  },
  {
   "cell_type": "markdown",
   "metadata": {},
   "source": [
    "A major difference between the evolution strategies we considered initially and the canonical genetic algorithm we looked at afterwards is the parent selection strategy. In classical evolution strategies all μ (mu) parents are involved in recombination, and the survivor selection is what drives the selective pressure. In genetic algorithms, instead, the parent selection applies selective pressure. \n",
    "\n",
    "We started off with tournament selection because it is the quickest to implement. A traditionally more common variant is fitness proportionate selection, where the probability of an individual to be selected is proportional to its fitness value. The selection thus first calculates the total fitness sum, and then probabilistically chooses an individual by sampling a number in the range between 0 and the total fitness sum. An important requirement is that the population is sorted by fitness values, starting with the best individual (largest fitness).  This selection operator is also known as _roulette wheel selection_.\n",
    "\n",
    "In our simple implementation, we create a list of tuples `fitness_list` that stores individuals with their fitness. Obviously, there's some redundant fitness calculations here; in practice one would cache fitness values."
   ]
  },
  {
   "cell_type": "code",
   "execution_count": 15,
   "metadata": {},
   "outputs": [],
   "source": [
    "def roulette_selection(population):\n",
    "    fitness_list = [(x, get_fitness(x)) for x in population]\n",
    "    fitness_sum = sum([f for (c, f) in fitness_list])\n",
    "    fitness_list.sort(key=lambda c: c[1], reverse=True)\n",
    "    pick = random.uniform(0, fitness_sum)\n",
    "    current = 0\n",
    "    for (chromosome, fitness) in fitness_list:\n",
    "        current += fitness\n",
    "        if current > pick:\n",
    "            return chromosome"
   ]
  },
  {
   "cell_type": "markdown",
   "metadata": {},
   "source": [
    "To evaluate this, let's create a simple example population for `n=5` with individuals with fitness 5, 4, 3, 2, 1, and 0:"
   ]
  },
  {
   "cell_type": "code",
   "execution_count": 16,
   "metadata": {},
   "outputs": [],
   "source": [
    "example_population = [ [1,1,1,1,1], [0,1,1,1,1], [0,0,1,1,1], [0,0,0,1,1], [0,0,0,0,1], [0,0,0,0,0]  ]"
   ]
  },
  {
   "cell_type": "markdown",
   "metadata": {},
   "source": [
    "Applying this selection operator will more likely select the best individual(s) (but may select worse individuals as well). We can do a simple experiment by sampling repeatedly from our `example_population` and looking at the resulting histogram:"
   ]
  },
  {
   "cell_type": "code",
   "execution_count": 17,
   "metadata": {},
   "outputs": [
    {
     "data": {
      "text/plain": [
       "([<matplotlib.axis.XTick at 0x119d16f70>,\n",
       "  <matplotlib.axis.XTick at 0x119d16160>,\n",
       "  <matplotlib.axis.XTick at 0x119cb8c40>,\n",
       "  <matplotlib.axis.XTick at 0x119f5d670>,\n",
       "  <matplotlib.axis.XTick at 0x119f5db80>,\n",
       "  <matplotlib.axis.XTick at 0x119f6a0d0>],\n",
       " [Text(0, 0, ''),\n",
       "  Text(0, 0, ''),\n",
       "  Text(0, 0, ''),\n",
       "  Text(0, 0, ''),\n",
       "  Text(0, 0, ''),\n",
       "  Text(0, 0, '')])"
      ]
     },
     "execution_count": 17,
     "metadata": {},
     "output_type": "execute_result"
    },
    {
     "data": {
      "image/png": "[encoded data removed]",
      "text/plain": [
       "<Figure size 432x288 with 1 Axes>"
      ]
     },
     "metadata": {
      "needs_background": "light"
     },
     "output_type": "display_data"
    }
   ],
   "source": [
    "counts = {x: 0 for x in range(len(example_population))}\n",
    "\n",
    "for i in range(1000):\n",
    "    selected = roulette_selection(example_population)\n",
    "    index = example_population.index(selected)\n",
    "    counts[index] = counts[index] + 1\n",
    "    \n",
    "plt.bar(counts.keys(), counts.values())\n",
    "plt.xticks(list(counts.keys()))"
   ]
  },
  {
   "cell_type": "markdown",
   "metadata": {},
   "source": [
    "A problem with fitness proportionate selection is that individuals that have a much better fitness value will dominate the selection. For example, let's skew our example population:"
   ]
  },
  {
   "cell_type": "code",
   "execution_count": 18,
   "metadata": {},
   "outputs": [],
   "source": [
    "example_population = [ [1,1,1,1,1], [0,1,0,0,0], [1,0,0,0,0], [0,0,1,0,0], [0,0,0,1,0],[0,0,0,0,0] ]"
   ]
  },
  {
   "cell_type": "markdown",
   "metadata": {},
   "source": [
    "In this population, the first individual has fitness value 5, while the other individuals have fitness 1 and 0. The sum of fitness values is 9, and so the first individual has a probability of 56% of being selected:"
   ]
  },
  {
   "cell_type": "code",
   "execution_count": 19,
   "metadata": {},
   "outputs": [
    {
     "data": {
      "text/plain": [
       "([<matplotlib.axis.XTick at 0x119f96700>,\n",
       "  <matplotlib.axis.XTick at 0x119f966d0>,\n",
       "  <matplotlib.axis.XTick at 0x119f932b0>,\n",
       "  <matplotlib.axis.XTick at 0x119fbefa0>,\n",
       "  <matplotlib.axis.XTick at 0x119fcc4f0>,\n",
       "  <matplotlib.axis.XTick at 0x119fcca00>],\n",
       " [Text(0, 0, ''),\n",
       "  Text(0, 0, ''),\n",
       "  Text(0, 0, ''),\n",
       "  Text(0, 0, ''),\n",
       "  Text(0, 0, ''),\n",
       "  Text(0, 0, '')])"
      ]
     },
     "execution_count": 19,
     "metadata": {},
     "output_type": "execute_result"
    },
    {
     "data": {
      "image/png": "[encoded data removed]",
      "text/plain": [
       "<Figure size 432x288 with 1 Axes>"
      ]
     },
     "metadata": {
      "needs_background": "light"
     },
     "output_type": "display_data"
    }
   ],
   "source": [
    "counts = {x: 0 for x in range(len(example_population))}\n",
    "\n",
    "for i in range(1000):\n",
    "    selected = roulette_selection(example_population)\n",
    "    index = example_population.index(selected)\n",
    "    counts[index] = counts[index] + 1\n",
    "    \n",
    "plt.bar(counts.keys(), counts.values())\n",
    "plt.xticks(list(counts.keys()))"
   ]
  },
  {
   "cell_type": "markdown",
   "metadata": {},
   "source": [
    "Tournament selection, which we implemented earlier, suffers less from this problem. In tournament selection, we can adjust the _selective pressure_ by adjusting the tournament size. With our example population of size 3, a tournament size of 2 without replacement would imply a 67% chance of the best of the three individuals being selected:"
   ]
  },
  {
   "cell_type": "code",
   "execution_count": 20,
   "metadata": {},
   "outputs": [
    {
     "data": {
      "text/plain": [
       "([<matplotlib.axis.XTick at 0x119ff4520>,\n",
       "  <matplotlib.axis.XTick at 0x119ff44f0>,\n",
       "  <matplotlib.axis.XTick at 0x119ff10a0>,\n",
       "  <matplotlib.axis.XTick at 0x11a01cd00>,\n",
       "  <matplotlib.axis.XTick at 0x11a02e3d0>,\n",
       "  <matplotlib.axis.XTick at 0x11a02e8e0>],\n",
       " [Text(0, 0, ''),\n",
       "  Text(0, 0, ''),\n",
       "  Text(0, 0, ''),\n",
       "  Text(0, 0, ''),\n",
       "  Text(0, 0, ''),\n",
       "  Text(0, 0, '')])"
      ]
     },
     "execution_count": 20,
     "metadata": {},
     "output_type": "execute_result"
    },
    {
     "data": {
      "image/png": "[encoded data removed]",
      "text/plain": [
       "<Figure size 432x288 with 1 Axes>"
      ]
     },
     "metadata": {
      "needs_background": "light"
     },
     "output_type": "display_data"
    }
   ],
   "source": [
    "tournament_size = 2\n",
    "\n",
    "counts = {x: 0 for x in range(len(example_population))}\n",
    "\n",
    "for i in range(1000):\n",
    "    selected = tournament_selection(example_population)\n",
    "    index = example_population.index(selected)\n",
    "    counts[index] = counts[index] + 1\n",
    "    \n",
    "plt.bar(counts.keys(), counts.values())\n",
    "plt.xticks(list(counts.keys()))"
   ]
  },
  {
   "cell_type": "markdown",
   "metadata": {},
   "source": [
    "Let's also compare this to the population with a more equal spread:"
   ]
  },
  {
   "cell_type": "code",
   "execution_count": 21,
   "metadata": {},
   "outputs": [
    {
     "data": {
      "text/plain": [
       "([<matplotlib.axis.XTick at 0x11a05b2e0>,\n",
       "  <matplotlib.axis.XTick at 0x11a05b2b0>,\n",
       "  <matplotlib.axis.XTick at 0x11a05ddf0>,\n",
       "  <matplotlib.axis.XTick at 0x11a089bb0>,\n",
       "  <matplotlib.axis.XTick at 0x11a096100>,\n",
       "  <matplotlib.axis.XTick at 0x11a07d880>],\n",
       " [Text(0, 0, ''),\n",
       "  Text(0, 0, ''),\n",
       "  Text(0, 0, ''),\n",
       "  Text(0, 0, ''),\n",
       "  Text(0, 0, ''),\n",
       "  Text(0, 0, '')])"
      ]
     },
     "execution_count": 21,
     "metadata": {},
     "output_type": "execute_result"
    },
    {
     "data": {
      "image/png": "[encoded data removed]",
      "text/plain": [
       "<Figure size 432x288 with 1 Axes>"
      ]
     },
     "metadata": {
      "needs_background": "light"
     },
     "output_type": "display_data"
    }
   ],
   "source": [
    "example_population = [ [1,1,1,1,1], [0,1,1,1,1], [0,0,1,1,1], [0,0,0,1,1], [0,0,0,0,1], [0,0,0,0,0]  ]\n",
    "\n",
    "counts = {x: 0 for x in range(len(example_population))}\n",
    "\n",
    "for i in range(1000):\n",
    "    selected = tournament_selection(example_population)\n",
    "    index = example_population.index(selected)\n",
    "    counts[index] = counts[index] + 1\n",
    "    \n",
    "plt.bar(counts.keys(), counts.values())\n",
    "plt.xticks(list(counts.keys()))"
   ]
  },
  {
   "cell_type": "markdown",
   "metadata": {},
   "source": [
    "To see the effects of the tournament size on the selection, let's repeat this with a larger tournament size, which means higher selective pressure:"
   ]
  },
  {
   "cell_type": "code",
   "execution_count": 22,
   "metadata": {},
   "outputs": [
    {
     "data": {
      "text/plain": [
       "([<matplotlib.axis.XTick at 0x11a0ce3d0>,\n",
       "  <matplotlib.axis.XTick at 0x11a0ce3a0>,\n",
       "  <matplotlib.axis.XTick at 0x11a0b4f10>,\n",
       "  <matplotlib.axis.XTick at 0x11a0f8e80>,\n",
       "  <matplotlib.axis.XTick at 0x11a1093d0>,\n",
       "  <matplotlib.axis.XTick at 0x11a109580>],\n",
       " [Text(0, 0, ''),\n",
       "  Text(0, 0, ''),\n",
       "  Text(0, 0, ''),\n",
       "  Text(0, 0, ''),\n",
       "  Text(0, 0, ''),\n",
       "  Text(0, 0, '')])"
      ]
     },
     "execution_count": 22,
     "metadata": {},
     "output_type": "execute_result"
    },
    {
     "data": {
      "image/png": "[encoded data removed]",
      "text/plain": [
       "<Figure size 432x288 with 1 Axes>"
      ]
     },
     "metadata": {
      "needs_background": "light"
     },
     "output_type": "display_data"
    }
   ],
   "source": [
    "tournament_size = 4\n",
    "\n",
    "counts = {x: 0 for x in range(len(example_population))}\n",
    "\n",
    "for i in range(1000):\n",
    "    selected = tournament_selection(example_population)\n",
    "    index = example_population.index(selected)\n",
    "    counts[index] = counts[index] + 1\n",
    "    \n",
    "plt.bar(counts.keys(), counts.values())\n",
    "plt.xticks(list(counts.keys()))"
   ]
  },
  {
   "cell_type": "markdown",
   "metadata": {},
   "source": [
    "Even with small tournament size the worst individual was not chosen in any of these cases. The reason is that we are using tournament selection _without_ replacement. If we pick any two individuals out of `example_population`, the individual with fitness 0 will _always_ be worse. If we use replacement, then there is a chance that the worst individual gets selected:"
   ]
  },
  {
   "cell_type": "code",
   "execution_count": 23,
   "metadata": {},
   "outputs": [
    {
     "data": {
      "text/plain": [
       "([<matplotlib.axis.XTick at 0x11a129e80>,\n",
       "  <matplotlib.axis.XTick at 0x11a129e50>,\n",
       "  <matplotlib.axis.XTick at 0x11a1259d0>,\n",
       "  <matplotlib.axis.XTick at 0x11a1598b0>,\n",
       "  <matplotlib.axis.XTick at 0x11a159dc0>,\n",
       "  <matplotlib.axis.XTick at 0x11a162310>],\n",
       " [Text(0, 0, ''),\n",
       "  Text(0, 0, ''),\n",
       "  Text(0, 0, ''),\n",
       "  Text(0, 0, ''),\n",
       "  Text(0, 0, ''),\n",
       "  Text(0, 0, '')])"
      ]
     },
     "execution_count": 23,
     "metadata": {},
     "output_type": "execute_result"
    },
    {
     "data": {
      "image/png": "[encoded data removed]",
      "text/plain": [
       "<Figure size 432x288 with 1 Axes>"
      ]
     },
     "metadata": {
      "needs_background": "light"
     },
     "output_type": "display_data"
    }
   ],
   "source": [
    "tournament_size = 2\n",
    "\n",
    "counts = {x: 0 for x in range(len(example_population))}\n",
    "\n",
    "for i in range(1000):\n",
    "    selected = tournament_selection(example_population, replacement=True)\n",
    "    index = example_population.index(selected)\n",
    "    counts[index] = counts[index] + 1\n",
    "    \n",
    "plt.bar(counts.keys(), counts.values())\n",
    "plt.xticks(list(counts.keys()))"
   ]
  },
  {
   "cell_type": "markdown",
   "metadata": {},
   "source": [
    "We can also observe the effects of the selective pressure throughout evolution."
   ]
  },
  {
   "cell_type": "code",
   "execution_count": 24,
   "metadata": {},
   "outputs": [
    {
     "data": {
      "image/png": "[encoded data removed]",
      "text/plain": [
       "<Figure size 1296x288 with 3 Axes>"
      ]
     },
     "metadata": {
      "needs_background": "light"
     },
     "output_type": "display_data"
    }
   ],
   "source": [
    "n = 100\n",
    "from IPython.utils import io\n",
    "\n",
    "elite_size = 1\n",
    "selection = tournament_selection\n",
    "tournament_sizes = [1, 2, 5, 10]\n",
    "fig, axes = plt.subplots(nrows=1, ncols=3, figsize=(18, 4))\n",
    "for tournament_size in tournament_sizes:\n",
    "    fitness_values = []\n",
    "    diversity_values = []\n",
    "    mean_fitness_values = []\n",
    "    with io.capture_output() as captured: \n",
    "        ga()\n",
    "    axes[0].plot(diversity_values, label=f\"Tournament size {tournament_size}\")\n",
    "    axes[1].plot(mean_fitness_values, label=f\"Tournament size {tournament_size}\")\n",
    "    axes[2].plot(fitness_values, label=f\"Tournament size {tournament_size}\")\n",
    "\n",
    "axes[0].set_title('Population Diversity')\n",
    "axes[0].legend()\n",
    "axes[1].set_title('Mean Population Fitness')\n",
    "axes[1].legend()\n",
    "axes[2].set_title('Best Fitness Evolution')\n",
    "axes[2].legend()\n",
    "plt.show()"
   ]
  },
  {
   "cell_type": "markdown",
   "metadata": {},
   "source": [
    "Too little selective pressure (e.g., tournament size of 1) tends to be bad. Very large tournaments might be too eager (which is not so much of a problem in one max though)."
   ]
  },
  {
   "cell_type": "markdown",
   "metadata": {},
   "source": [
    "Should we use fitness proportionate selection or tournament selection?"
   ]
  },
  {
   "cell_type": "code",
   "execution_count": 25,
   "metadata": {},
   "outputs": [
    {
     "data": {
      "image/png": "[encoded data removed]",
      "text/plain": [
       "<Figure size 1296x288 with 3 Axes>"
      ]
     },
     "metadata": {
      "needs_background": "light"
     },
     "output_type": "display_data"
    }
   ],
   "source": [
    "fig, axes = plt.subplots(nrows=1, ncols=3, figsize=(18, 4))\n",
    "n = 100\n",
    "with io.capture_output() as captured: \n",
    "    fitness_values = []\n",
    "    diversity_values = []\n",
    "    mean_fitness_values = []\n",
    "    selection = tournament_selection\n",
    "    tournament_size = 2\n",
    "    ga()\n",
    "    axes[0].plot(diversity_values, label=f\"Tournament size {tournament_size}\")\n",
    "    axes[1].plot(mean_fitness_values, label=f\"Tournament size {tournament_size}\")\n",
    "    axes[2].plot(fitness_values, label=f\"Tournament size {tournament_size}\")\n",
    "\n",
    "    selection = roulette_selection\n",
    "    fitness_values = []\n",
    "    mean_fitness_values = []\n",
    "    diversity_values = []\n",
    "    ga()\n",
    "    axes[0].plot(diversity_values, label=f\"Roulette wheel selection\")\n",
    "    axes[1].plot(mean_fitness_values, label=f\"Roulette wheel selection\")\n",
    "    axes[2].plot(fitness_values, label=f\"Roulette wheel selection\")\n",
    "\n",
    "axes[0].set_title('Population Diversity')\n",
    "axes[0].legend()\n",
    "axes[1].set_title('Mean Population Fitness')\n",
    "axes[1].legend()\n",
    "axes[2].set_title('Best Fitness Evolution')\n",
    "axes[2].legend()\n",
    "plt.show()"
   ]
  },
  {
   "cell_type": "markdown",
   "metadata": {},
   "source": [
    "An alternative selection operator is _rank selection_, which is similar to fitness proportionate selection, except that the probability is calculated based on the _rank_ in the population sorted by fitness, rather than the actual fitness value."
   ]
  },
  {
   "cell_type": "code",
   "execution_count": 26,
   "metadata": {},
   "outputs": [],
   "source": [
    "rank_bias = 2\n",
    "def rank_selection(population):\n",
    "    population.sort(key=lambda c: get_fitness(c), reverse=True)\n",
    "    \n",
    "    individuals = []\n",
    "    N = len(population)\n",
    "    for i in range(N):\n",
    "        f2 = rank_bias - (2 * i * (rank_bias - 1))/(N - 1)\n",
    "        individuals.append((population[i], f2))\n",
    "\n",
    "    # Now implement fitness proportionate selection using the f2 values\n",
    "    fitness_sum = sum([f for (c, f) in individuals])\n",
    "    pick = random.uniform(0, fitness_sum)\n",
    "    current = 0\n",
    "    for (chromosome, fitness) in individuals:\n",
    "        current += fitness\n",
    "        if current > pick:\n",
    "            return chromosome"
   ]
  },
  {
   "cell_type": "markdown",
   "metadata": {},
   "source": [
    "The bias allows us to adjust the selective pressure. With a bias of `2`, the worst individual has a 0% chance of being selected:"
   ]
  },
  {
   "cell_type": "code",
   "execution_count": 27,
   "metadata": {},
   "outputs": [
    {
     "data": {
      "text/plain": [
       "([<matplotlib.axis.XTick at 0x11a2bd640>,\n",
       "  <matplotlib.axis.XTick at 0x11a2bd4f0>,\n",
       "  <matplotlib.axis.XTick at 0x119fd5e50>,\n",
       "  <matplotlib.axis.XTick at 0x119d9a850>,\n",
       "  <matplotlib.axis.XTick at 0x119d9ad60>,\n",
       "  <matplotlib.axis.XTick at 0x11a2d72b0>],\n",
       " [Text(0, 0, ''),\n",
       "  Text(0, 0, ''),\n",
       "  Text(0, 0, ''),\n",
       "  Text(0, 0, ''),\n",
       "  Text(0, 0, ''),\n",
       "  Text(0, 0, '')])"
      ]
     },
     "execution_count": 27,
     "metadata": {},
     "output_type": "execute_result"
    },
    {
     "data": {
      "image/png": "[encoded data removed]",
      "text/plain": [
       "<Figure size 432x288 with 1 Axes>"
      ]
     },
     "metadata": {
      "needs_background": "light"
     },
     "output_type": "display_data"
    }
   ],
   "source": [
    "rank_bias = 2\n",
    "\n",
    "example_population = [ [1,1,1,1,1], [0,1,0,0,0], [1,0,0,0,0], [0,0,1,0,0], [0,0,0,1,0],[0,0,0,0,0] ]\n",
    "counts = {x: 0 for x in range(len(example_population))}\n",
    "\n",
    "for i in range(1000):\n",
    "    selected = rank_selection(example_population)\n",
    "    index = example_population.index(selected)\n",
    "    counts[index] = counts[index] + 1\n",
    "    \n",
    "plt.bar(counts.keys(), counts.values())\n",
    "plt.xticks(list(counts.keys()))"
   ]
  },
  {
   "cell_type": "markdown",
   "metadata": {},
   "source": [
    "With a bias of `1`, all individuals have the same probability of being selected:"
   ]
  },
  {
   "cell_type": "code",
   "execution_count": 28,
   "metadata": {},
   "outputs": [
    {
     "data": {
      "text/plain": [
       "([<matplotlib.axis.XTick at 0x11a2fa7c0>,\n",
       "  <matplotlib.axis.XTick at 0x11a2fa790>,\n",
       "  <matplotlib.axis.XTick at 0x11a2fe340>,\n",
       "  <matplotlib.axis.XTick at 0x11a34a1f0>,\n",
       "  <matplotlib.axis.XTick at 0x11a34a700>,\n",
       "  <matplotlib.axis.XTick at 0x11a34ac10>],\n",
       " [Text(0, 0, ''),\n",
       "  Text(0, 0, ''),\n",
       "  Text(0, 0, ''),\n",
       "  Text(0, 0, ''),\n",
       "  Text(0, 0, ''),\n",
       "  Text(0, 0, '')])"
      ]
     },
     "execution_count": 28,
     "metadata": {},
     "output_type": "execute_result"
    },
    {
     "data": {
      "image/png": "[encoded data removed]",
      "text/plain": [
       "<Figure size 432x288 with 1 Axes>"
      ]
     },
     "metadata": {
      "needs_background": "light"
     },
     "output_type": "display_data"
    }
   ],
   "source": [
    "rank_bias = 1\n",
    "\n",
    "example_population = [ [1,1,1,1,1], [0,1,0,0,0], [1,0,0,0,0], [0,0,1,0,0], [0,0,0,1,0],[0,0,0,0,0] ]\n",
    "counts = {x: 0 for x in range(len(example_population))}\n",
    "\n",
    "for i in range(1000):\n",
    "    selected = rank_selection(example_population)\n",
    "    index = example_population.index(selected)\n",
    "    counts[index] = counts[index] + 1\n",
    "    \n",
    "plt.bar(counts.keys(), counts.values())\n",
    "plt.xticks(list(counts.keys()))"
   ]
  },
  {
   "cell_type": "markdown",
   "metadata": {},
   "source": [
    "We will select a reasonable default for the selective pressure:"
   ]
  },
  {
   "cell_type": "code",
   "execution_count": 29,
   "metadata": {
    "scrolled": true
   },
   "outputs": [
    {
     "data": {
      "text/plain": [
       "([<matplotlib.axis.XTick at 0x11a3720a0>,\n",
       "  <matplotlib.axis.XTick at 0x11a372070>,\n",
       "  <matplotlib.axis.XTick at 0x11a376be0>,\n",
       "  <matplotlib.axis.XTick at 0x11a3a5880>,\n",
       "  <matplotlib.axis.XTick at 0x11a3a5d90>,\n",
       "  <matplotlib.axis.XTick at 0x11a3b02e0>],\n",
       " [Text(0, 0, ''),\n",
       "  Text(0, 0, ''),\n",
       "  Text(0, 0, ''),\n",
       "  Text(0, 0, ''),\n",
       "  Text(0, 0, ''),\n",
       "  Text(0, 0, '')])"
      ]
     },
     "execution_count": 29,
     "metadata": {},
     "output_type": "execute_result"
    },
    {
     "data": {
      "image/png": "[encoded data removed]",
      "text/plain": [
       "<Figure size 432x288 with 1 Axes>"
      ]
     },
     "metadata": {
      "needs_background": "light"
     },
     "output_type": "display_data"
    }
   ],
   "source": [
    "rank_bias = 1.4\n",
    "\n",
    "example_population = [ [1,1,1,1,1], [0,1,0,0,0], [1,0,0,0,0], [0,0,1,0,0], [0,0,0,1,0],[0,0,0,0,0] ]\n",
    "counts = {x: 0 for x in range(len(example_population))}\n",
    "\n",
    "for i in range(1000):\n",
    "    selected = rank_selection(example_population)\n",
    "    index = example_population.index(selected)\n",
    "    counts[index] = counts[index] + 1\n",
    "    \n",
    "plt.bar(counts.keys(), counts.values())\n",
    "plt.xticks(list(counts.keys()))"
   ]
  },
  {
   "cell_type": "markdown",
   "metadata": {},
   "source": [
    "We can again observe the effects of the rank bias on the evolution:"
   ]
  },
  {
   "cell_type": "code",
   "execution_count": 30,
   "metadata": {},
   "outputs": [
    {
     "data": {
      "image/png": "[encoded data removed]",
      "text/plain": [
       "<Figure size 1296x288 with 3 Axes>"
      ]
     },
     "metadata": {
      "needs_background": "light"
     },
     "output_type": "display_data"
    }
   ],
   "source": [
    "from IPython.utils import io\n",
    "selection = rank_selection\n",
    "rank_biases = [1, 1.3, 1.7, 2.0]\n",
    "fig, axes = plt.subplots(nrows=1, ncols=3, figsize=(18, 4))\n",
    "for rank_bias in rank_biases:\n",
    "    fitness_values = []\n",
    "    mean_fitness_values = []\n",
    "    diversity_values = []\n",
    "    with io.capture_output() as captured: \n",
    "        ga()\n",
    "    axes[0].plot(diversity_values, label=f\"Rank bias {rank_bias}\")\n",
    "    axes[1].plot(mean_fitness_values, label=f\"Rank bias {rank_bias}\")\n",
    "    axes[2].plot(fitness_values, label=f\"Rank bias {rank_bias}\")\n",
    "\n",
    "axes[0].set_title('Population Diversity')\n",
    "axes[0].legend()\n",
    "axes[1].set_title('Mean Population Fitness')\n",
    "axes[1].legend()\n",
    "axes[2].set_title('Best Fitness Evolution')\n",
    "axes[2].legend()\n",
    "plt.show()"
   ]
  },
  {
   "cell_type": "markdown",
   "metadata": {},
   "source": [
    "Some variants of genetic algorithms use selection where each individual has the same chance of being selected. Although this removes selection pressure, this is usually compensated with a strong fitness-based survivor selection mechanism."
   ]
  },
  {
   "cell_type": "code",
   "execution_count": 31,
   "metadata": {},
   "outputs": [],
   "source": [
    "def uniform_selection(population):\n",
    "    return random.choice(population)"
   ]
  },
  {
   "cell_type": "markdown",
   "metadata": {},
   "source": [
    "We would not usually use uniform selection without some other survival selection, but to see what the effects on the search are, let's put all the options together in one experiment."
   ]
  },
  {
   "cell_type": "code",
   "execution_count": 32,
   "metadata": {},
   "outputs": [
    {
     "data": {
      "image/png": "[encoded data removed]",
      "text/plain": [
       "<Figure size 1296x288 with 3 Axes>"
      ]
     },
     "metadata": {
      "needs_background": "light"
     },
     "output_type": "display_data"
    }
   ],
   "source": [
    "fig, axes = plt.subplots(nrows=1, ncols=3, figsize=(18, 4))\n",
    "n = 100\n",
    "with io.capture_output() as captured: \n",
    "    rank_bias = 1.4\n",
    "    fitness_values = []\n",
    "    mean_fitness_values = []\n",
    "    diversity_values = []\n",
    "    selection = tournament_selection\n",
    "    tournament_size = 2\n",
    "    ga()\n",
    "    axes[0].plot(diversity_values, label=f\"Rank {rank_bias}\")\n",
    "    axes[1].plot(mean_fitness_values, label=f\"Rank {rank_bias}\")\n",
    "    axes[2].plot(fitness_values, label=f\"Rank {rank_bias}\")\n",
    "\n",
    "    fitness_values = []\n",
    "    mean_fitness_values = []\n",
    "    diversity_values = []\n",
    "    selection = tournament_selection\n",
    "    tournament_size = 2\n",
    "    ga()\n",
    "    axes[0].plot(diversity_values, label=f\"Tournament size {tournament_size}\")\n",
    "    axes[1].plot(mean_fitness_values, label=f\"Tournament size {tournament_size}\")\n",
    "    axes[2].plot(fitness_values, label=f\"Tournament size {tournament_size}\")\n",
    "\n",
    "    selection = roulette_selection\n",
    "    fitness_values = []\n",
    "    mean_fitness_values = []\n",
    "    diversity_values = []\n",
    "    ga()\n",
    "    axes[0].plot(diversity_values, label=f\"Roulette wheel selection\")\n",
    "    axes[1].plot(mean_fitness_values, label=f\"Roulette wheel selection\")\n",
    "    axes[2].plot(fitness_values, label=f\"Roulette wheel selection\")\n",
    "\n",
    "    selection = uniform_selection\n",
    "    fitness_values = []\n",
    "    mean_fitness_values = []\n",
    "    diversity_values = []\n",
    "    ga()\n",
    "    axes[0].plot(diversity_values, label=f\"Uniform selection\")\n",
    "    axes[1].plot(mean_fitness_values, label=f\"Uniform selection\")\n",
    "    axes[2].plot(fitness_values, label=f\"Uniform selection\")\n",
    "\n",
    "axes[0].set_title('Population Diversity')\n",
    "axes[0].legend()\n",
    "axes[1].set_title('Mean Population Fitness')\n",
    "axes[1].legend()\n",
    "axes[2].set_title('Best Fitness Evolution')\n",
    "axes[2].legend()\n",
    "plt.show()"
   ]
  },
  {
   "cell_type": "markdown",
   "metadata": {},
   "source": [
    "## Alternative Crossover Operators"
   ]
  },
  {
   "cell_type": "markdown",
   "metadata": {},
   "source": [
    "Our crossover operator so far only considers a single point for crossing two individuals. While this is the most common variant in practice, there is one potential downside: Only locally neighbouring genetic material is preserved; if a parent has relevant genes at the beginning and the end of the chromosome, these will not be inherited to the offspring directly. One way to circumvent this is by defining more than one crossover point. For example, we can define a two-point crossover operator:"
   ]
  },
  {
   "cell_type": "code",
   "execution_count": 33,
   "metadata": {},
   "outputs": [],
   "source": [
    "def twopoint_crossover(parent1, parent2):\n",
    "    pos1 = random.randint(1, len(parent1))\n",
    "    pos2 = random.randint(pos1, len(parent1))\n",
    "    offspring1 = parent1[:pos1] + parent2[pos1:pos2] + parent1[pos2:]\n",
    "    offspring2 = parent2[:pos1] + parent1[pos1:pos2] + parent2[pos2:]\n",
    "    return offspring1, offspring2\n"
   ]
  },
  {
   "cell_type": "code",
   "execution_count": 34,
   "metadata": {},
   "outputs": [],
   "source": [
    "parent1 = [0,0,0,0,0,0,0,0,0,0]\n",
    "parent2 = [1,1,1,1,1,1,1,1,1,1]"
   ]
  },
  {
   "cell_type": "markdown",
   "metadata": {},
   "source": [
    "In the single point crossover, the offspring of `parent1` and `parent2` will _always_ be either a sequence of `0` followed by a sequence of `1`, or vice versa:"
   ]
  },
  {
   "cell_type": "code",
   "execution_count": 35,
   "metadata": {},
   "outputs": [
    {
     "data": {
      "text/plain": [
       "([0, 0, 0, 1, 1, 1, 1, 1, 1, 1], [1, 1, 1, 0, 0, 0, 0, 0, 0, 0])"
      ]
     },
     "execution_count": 35,
     "metadata": {},
     "output_type": "execute_result"
    }
   ],
   "source": [
    "singlepoint_crossover(parent1, parent2)"
   ]
  },
  {
   "cell_type": "markdown",
   "metadata": {},
   "source": [
    "In the two point crossover, there will be some variation:"
   ]
  },
  {
   "cell_type": "code",
   "execution_count": 36,
   "metadata": {},
   "outputs": [
    {
     "data": {
      "text/plain": [
       "([0, 0, 0, 0, 0, 0, 0, 0, 0, 0], [1, 1, 1, 1, 1, 1, 1, 1, 1, 1])"
      ]
     },
     "execution_count": 36,
     "metadata": {},
     "output_type": "execute_result"
    }
   ],
   "source": [
    "twopoint_crossover(parent1, parent2)"
   ]
  },
  {
   "cell_type": "markdown",
   "metadata": {},
   "source": [
    "While it is unlikely to make a big difference on our one max example, we can integrate the two point crossover operator into our algorithm and check that it still works:"
   ]
  },
  {
   "cell_type": "code",
   "execution_count": 37,
   "metadata": {},
   "outputs": [
    {
     "name": "stdout",
     "output_type": "stream",
     "text": [
      "Iteration 0, best fitness: 57\n",
      "Iteration 1, best fitness: 59\n",
      "Iteration 2, best fitness: 61\n",
      "Iteration 3, best fitness: 65\n",
      "Iteration 4, best fitness: 66\n",
      "Iteration 5, best fitness: 67\n",
      "Iteration 6, best fitness: 68\n",
      "Iteration 8, best fitness: 71\n",
      "Iteration 11, best fitness: 73\n",
      "Iteration 13, best fitness: 74\n",
      "Iteration 16, best fitness: 75\n",
      "Iteration 19, best fitness: 76\n",
      "Iteration 20, best fitness: 77\n",
      "Iteration 20, best fitness: 78\n",
      "Iteration 24, best fitness: 79\n",
      "Iteration 24, best fitness: 80\n",
      "Iteration 25, best fitness: 81\n",
      "Iteration 27, best fitness: 82\n",
      "Iteration 29, best fitness: 83\n",
      "Iteration 31, best fitness: 84\n",
      "Iteration 35, best fitness: 85\n",
      "Iteration 38, best fitness: 86\n",
      "Iteration 42, best fitness: 87\n",
      "Iteration 48, best fitness: 88\n"
     ]
    },
    {
     "data": {
      "text/plain": [
       "[<matplotlib.lines.Line2D at 0x11a6921c0>]"
      ]
     },
     "execution_count": 37,
     "metadata": {},
     "output_type": "execute_result"
    },
    {
     "data": {
      "image/png": "[encoded data removed]",
      "text/plain": [
       "<Figure size 432x288 with 1 Axes>"
      ]
     },
     "metadata": {
      "needs_background": "light"
     },
     "output_type": "display_data"
    }
   ],
   "source": [
    "crossover = twopoint_crossover\n",
    "selection = tournament_selection\n",
    "fitness_values = []\n",
    "ga()\n",
    "plt.plot(fitness_values)"
   ]
  },
  {
   "cell_type": "markdown",
   "metadata": {},
   "source": [
    "It is not common to increase the number of crossover points beyond two, but instead of more variation is required, it is simply possible to _uniformly_ select genes from either of the parents, resulting in _uniform crossover_:"
   ]
  },
  {
   "cell_type": "code",
   "execution_count": 38,
   "metadata": {},
   "outputs": [],
   "source": [
    "def uniform_crossover(parent1, parent2):\n",
    "    offspring1 = []\n",
    "    offspring2 = []\n",
    "    for pos in range(len(parent1)):\n",
    "        if random.choice([True, False]):\n",
    "            offspring1.append(parent1[pos])\n",
    "            offspring2.append(parent2[pos])\n",
    "        else:\n",
    "            offspring1.append(parent2[pos])\n",
    "            offspring2.append(parent1[pos])\n",
    "    return offspring1, offspring2"
   ]
  },
  {
   "cell_type": "markdown",
   "metadata": {},
   "source": [
    "Applying this to `parent1` and `parent2` from above, we will see offspring consisting of more variation in `1`s and `0`s, but these will always be chosen from parents and not random:"
   ]
  },
  {
   "cell_type": "code",
   "execution_count": 39,
   "metadata": {},
   "outputs": [
    {
     "data": {
      "text/plain": [
       "([0, 1, 0, 0, 0, 1, 0, 1, 1, 1], [1, 0, 1, 1, 1, 0, 1, 0, 0, 0])"
      ]
     },
     "execution_count": 39,
     "metadata": {},
     "output_type": "execute_result"
    }
   ],
   "source": [
    "uniform_crossover(parent1, parent2)"
   ]
  },
  {
   "cell_type": "markdown",
   "metadata": {},
   "source": [
    "Although it's not going to make a huge difference on our one max example, we can check if the genetic algorithm still works with this crossover operator:"
   ]
  },
  {
   "cell_type": "code",
   "execution_count": 40,
   "metadata": {
    "scrolled": false
   },
   "outputs": [
    {
     "name": "stdout",
     "output_type": "stream",
     "text": [
      "Iteration 0, best fitness: 56\n",
      "Iteration 1, best fitness: 59\n",
      "Iteration 5, best fitness: 62\n",
      "Iteration 5, best fitness: 63\n",
      "Iteration 7, best fitness: 64\n",
      "Iteration 8, best fitness: 66\n",
      "Iteration 8, best fitness: 68\n",
      "Iteration 9, best fitness: 69\n",
      "Iteration 12, best fitness: 71\n",
      "Iteration 14, best fitness: 73\n",
      "Iteration 17, best fitness: 74\n",
      "Iteration 18, best fitness: 75\n",
      "Iteration 19, best fitness: 76\n",
      "Iteration 20, best fitness: 78\n",
      "Iteration 21, best fitness: 79\n",
      "Iteration 22, best fitness: 82\n",
      "Iteration 23, best fitness: 83\n",
      "Iteration 25, best fitness: 86\n",
      "Iteration 26, best fitness: 87\n",
      "Iteration 27, best fitness: 88\n",
      "Iteration 31, best fitness: 89\n",
      "Iteration 32, best fitness: 90\n",
      "Iteration 33, best fitness: 91\n",
      "Iteration 35, best fitness: 92\n",
      "Iteration 40, best fitness: 93\n",
      "Iteration 44, best fitness: 94\n"
     ]
    },
    {
     "data": {
      "text/plain": [
       "[<matplotlib.lines.Line2D at 0x11a6e66a0>]"
      ]
     },
     "execution_count": 40,
     "metadata": {},
     "output_type": "execute_result"
    },
    {
     "data": {
      "image/png": "[encoded data removed]",
      "text/plain": [
       "<Figure size 432x288 with 1 Axes>"
      ]
     },
     "metadata": {
      "needs_background": "light"
     },
     "output_type": "display_data"
    }
   ],
   "source": [
    "crossover = uniform_crossover\n",
    "fitness_values = []\n",
    "ga()\n",
    "plt.plot(fitness_values)"
   ]
  },
  {
   "cell_type": "markdown",
   "metadata": {},
   "source": [
    "The importance and influence of the crossover operator on the search is part of active research, and also depends on the problem we are trying to solve. To see whether there are any benefits to using crossover on our one max example, we can conduct a _headless chicken_ test: During crossover, we use a randomly generated individual as one of the parents. If the search still performs as well, then the crossover operator actually just serves as a kind of macro-mutation. If the search no longer performs as well, then it is the actual combination of parent genetic material that leads to an improvement."
   ]
  },
  {
   "cell_type": "code",
   "execution_count": 41,
   "metadata": {},
   "outputs": [],
   "source": [
    "def chicken_crossover(parent1, parent2):\n",
    "    offspring1 = []\n",
    "    offspring2 = []\n",
    "    parent2 = get_random_solution()\n",
    "    for pos in range(len(parent1)):\n",
    "        if random.choice([True, False]):\n",
    "            offspring1.append(parent1[pos])\n",
    "            offspring2.append(parent2[pos])\n",
    "        else:\n",
    "            offspring1.append(parent2[pos])\n",
    "            offspring2.append(parent1[pos])\n",
    "    return offspring1, offspring2"
   ]
  },
  {
   "cell_type": "markdown",
   "metadata": {},
   "source": [
    "We will run the usual combination of experiments and analyses:"
   ]
  },
  {
   "cell_type": "code",
   "execution_count": 42,
   "metadata": {},
   "outputs": [
    {
     "data": {
      "image/png": "[encoded data removed]",
      "text/plain": [
       "<Figure size 1296x288 with 3 Axes>"
      ]
     },
     "metadata": {
      "needs_background": "light"
     },
     "output_type": "display_data"
    }
   ],
   "source": [
    "fig, axes = plt.subplots(nrows=1, ncols=3, figsize=(18, 4))\n",
    "n = 100\n",
    "with io.capture_output() as captured: \n",
    "    crossover = singlepoint_crossover\n",
    "    fitness_values = []\n",
    "    mean_fitness_values = []\n",
    "    diversity_values = []\n",
    "    ga()\n",
    "    axes[0].plot(diversity_values, label=f\"Singlepoint\")\n",
    "    axes[1].plot(mean_fitness_values, label=f\"Singlepoint\")\n",
    "    axes[2].plot(fitness_values, label=f\"Singlepoint\")\n",
    "\n",
    "    crossover = uniform_crossover\n",
    "    fitness_values = []\n",
    "    mean_fitness_values = []\n",
    "    diversity_values = []\n",
    "    ga()\n",
    "    axes[0].plot(diversity_values, label=f\"Uniform\")\n",
    "    axes[1].plot(mean_fitness_values, label=f\"Uniform\")\n",
    "    axes[2].plot(fitness_values, label=f\"Uniform\")\n",
    "    \n",
    "    crossover = twopoint_crossover\n",
    "    fitness_values = []\n",
    "    mean_fitness_values = []\n",
    "    diversity_values = []\n",
    "    ga()\n",
    "    axes[0].plot(diversity_values, label=f\"Twopoint\")\n",
    "    axes[1].plot(mean_fitness_values, label=f\"Twopoint\")\n",
    "    axes[2].plot(fitness_values, label=f\"Twopoint\")\n",
    "    \n",
    "    crossover = chicken_crossover\n",
    "    fitness_values = []\n",
    "    mean_fitness_values = []\n",
    "    diversity_values = []\n",
    "    ga()\n",
    "    axes[0].plot(diversity_values, label=f\"Chicken\")\n",
    "    axes[1].plot(mean_fitness_values, label=f\"Chicken\")\n",
    "    axes[2].plot(fitness_values, label=f\"Chicken\")\n",
    "\n",
    "axes[0].set_title('Population Diversity')\n",
    "axes[0].legend()\n",
    "axes[1].set_title('Mean Population Fitness')\n",
    "axes[1].legend()\n",
    "axes[2].set_title('Best Fitness Evolution')\n",
    "axes[2].legend()\n",
    "plt.show()"
   ]
  },
  {
   "cell_type": "markdown",
   "metadata": {},
   "source": [
    "This experiment just conducts a single run, and as usual we need to conduct an experiment with repetitions in order to draw conclusions. However, what most likely shows is that the headless chicken test leads to substantially worse results, while the uniform crossover tends to produce the best results. Consequently, it seems that crossover actually is useful for our problem."
   ]
  },
  {
   "cell_type": "markdown",
   "metadata": {},
   "source": [
    "## Example Application: Software Module Clustering"
   ]
  },
  {
   "cell_type": "markdown",
   "metadata": {},
   "source": [
    "The software module clustering problem is a classical example of where local search was applied to solve problems in software engineering. It dates back to this paper and the corresponding _Bunch_ tool:\n",
    "\n",
    "Mitchell, B. S., & Mancoridis, S. (2006). On the automatic modularization of software systems using the bunch tool. IEEE Transactions on Software Engineering, 32(3), 193-208.\n",
    "\n",
    "The aim is to find a good partitioning of the software structure. A partition is a decomposition of a set of elements into mutually disjoint clusters. A _good_ partition is a partition where highly interdependent nodes are grouped in the same clusters, while independent nodes are assigned to separate clusters."
   ]
  },
  {
   "cell_type": "markdown",
   "metadata": {},
   "source": [
    "We will use an example from the Bunch tool to apply search ourselves. The data for a software module clustering problem consists of individuals _modules_, and _connections_ between these modules."
   ]
  },
  {
   "cell_type": "code",
   "execution_count": 43,
   "metadata": {},
   "outputs": [],
   "source": [
    "module_ids = {}\n",
    "name_to_id = {}\n",
    "connections = []"
   ]
  },
  {
   "cell_type": "markdown",
   "metadata": {},
   "source": [
    "The dictionaries `module_ids` and `name_to_id` map from module names to numerical IDs and back. The list `connections` consists of tuples of endpoints of connections. We will parse data using the Bunch example format:"
   ]
  },
  {
   "cell_type": "code",
   "execution_count": 44,
   "metadata": {},
   "outputs": [],
   "source": [
    "def parse_mdg(filename):\n",
    "    with open(filename) as f:\n",
    "        content = [x.strip() for x in f.readlines()]\n",
    "\n",
    "    for line in content:\n",
    "        if line.strip() == \"\":\n",
    "            continue\n",
    "        module1, module2 = line.split()\n",
    "        num_module1 = len(module_ids)\n",
    "        if module1 in name_to_id:\n",
    "            num_module1 = name_to_id[module1]\n",
    "        else:\n",
    "            name_to_id[module1] = num_module1\n",
    "        module_ids[num_module1] = module1\n",
    "        num_module2 = len(module_ids)\n",
    "        if module2 in name_to_id:\n",
    "            num_module2 = name_to_id[module2]\n",
    "        else:\n",
    "            name_to_id[module2] = num_module2\n",
    "        module_ids[num_module2] = module2\n",
    "\n",
    "        connections.append((num_module1, num_module2))"
   ]
  },
  {
   "cell_type": "markdown",
   "metadata": {},
   "source": [
    "To illustrate the problem, we will consider the _compile_ example:"
   ]
  },
  {
   "cell_type": "code",
   "execution_count": 45,
   "metadata": {},
   "outputs": [],
   "source": [
    "parse_mdg(\"data/mdg/compiler.mdg\")"
   ]
  },
  {
   "cell_type": "markdown",
   "metadata": {},
   "source": [
    "This problem consists of 13 individual modules:"
   ]
  },
  {
   "cell_type": "code",
   "execution_count": 46,
   "metadata": {},
   "outputs": [
    {
     "data": {
      "text/plain": [
       "dict_keys(['main', 'declarations', 'parser', 'codeGenerator', 'scanner', 'scopeController', 'typeChecker', 'dictionary', 'dictIdxStack', 'addrStack', 'dictStack', 'typeStack', 'argCntStack'])"
      ]
     },
     "execution_count": 46,
     "metadata": {},
     "output_type": "execute_result"
    }
   ],
   "source": [
    "name_to_id.keys()"
   ]
  },
  {
   "cell_type": "markdown",
   "metadata": {},
   "source": [
    "Some of these are connected (e.g. via method calls):"
   ]
  },
  {
   "cell_type": "code",
   "execution_count": 47,
   "metadata": {},
   "outputs": [
    {
     "data": {
      "text/plain": [
       "[('main', 'declarations'),\n",
       " ('main', 'parser'),\n",
       " ('main', 'codeGenerator'),\n",
       " ('parser', 'declarations'),\n",
       " ('parser', 'scanner'),\n",
       " ('parser', 'scopeController'),\n",
       " ('parser', 'typeChecker'),\n",
       " ('parser', 'codeGenerator'),\n",
       " ('codeGenerator', 'declarations'),\n",
       " ('codeGenerator', 'dictionary'),\n",
       " ('codeGenerator', 'dictIdxStack'),\n",
       " ('codeGenerator', 'scopeController'),\n",
       " ('codeGenerator', 'addrStack'),\n",
       " ('scanner', 'declarations'),\n",
       " ('scopeController', 'declarations'),\n",
       " ('scopeController', 'dictionary'),\n",
       " ('scopeController', 'dictIdxStack'),\n",
       " ('scopeController', 'dictStack'),\n",
       " ('typeChecker', 'declarations'),\n",
       " ('typeChecker', 'dictStack'),\n",
       " ('typeChecker', 'dictionary'),\n",
       " ('typeChecker', 'dictIdxStack'),\n",
       " ('typeChecker', 'typeStack'),\n",
       " ('typeChecker', 'argCntStack'),\n",
       " ('dictionary', 'declarations'),\n",
       " ('dictionary', 'dictStack'),\n",
       " ('dictIdxStack', 'declarations'),\n",
       " ('dictIdxStack', 'dictStack'),\n",
       " ('addrStack', 'declarations'),\n",
       " ('dictStack', 'declarations'),\n",
       " ('typeStack', 'declarations'),\n",
       " ('argCntStack', 'declarations')]"
      ]
     },
     "execution_count": 47,
     "metadata": {},
     "output_type": "execute_result"
    }
   ],
   "source": [
    "[(module_ids[x], module_ids[y]) for (x,y) in connections]"
   ]
  },
  {
   "cell_type": "markdown",
   "metadata": {},
   "source": [
    "We can visualise the modules and connections as a graph -- the so called _module dependency graph_. Note that you will need `graphviz` in order to generate graphs in this Jupyter notebook:"
   ]
  },
  {
   "cell_type": "code",
   "execution_count": 48,
   "metadata": {},
   "outputs": [
    {
     "data": {
      "image/svg+xml": [
       "<?xml version=\"1.0\" encoding=\"UTF-8\" standalone=\"no\"?>\n",
       "<!DOCTYPE svg PUBLIC \"-//W3C//DTD SVG 1.1//EN\"\n",
       " \"http://www.w3.org/Graphics/SVG/1.1/DTD/svg11.dtd\">\n",
       "<!-- Generated by graphviz version 2.44.1 (20200629.0846)\n",
       " -->\n",
       "<!-- Pages: 1 -->\n",
       "<svg width=\"769pt\" height=\"476pt\"\n",
       " viewBox=\"0.00 0.00 768.70 476.00\" xmlns=\"http://www.w3.org/2000/svg\" xmlns:xlink=\"http://www.w3.org/1999/xlink\">\n",
       "<g id=\"graph0\" class=\"graph\" transform=\"scale(1 1) rotate(0) translate(4 472)\">\n",
       "<polygon fill=\"white\" stroke=\"transparent\" points=\"-4,4 -4,-472 764.7,-472 764.7,4 -4,4\"/>\n",
       "<!-- main -->\n",
       "<g id=\"node1\" class=\"node\">\n",
       "<title>main</title>\n",
       "<ellipse fill=\"none\" stroke=\"black\" cx=\"384\" cy=\"-450\" rx=\"28.7\" ry=\"18\"/>\n",
       "<text text-anchor=\"middle\" x=\"384\" y=\"-446.3\" font-family=\"Times,serif\" font-size=\"14.00\">main</text>\n",
       "</g>\n",
       "<!-- declarations -->\n",
       "<g id=\"node2\" class=\"node\">\n",
       "<title>declarations</title>\n",
       "<ellipse fill=\"none\" stroke=\"black\" cx=\"363\" cy=\"-18\" rx=\"53.09\" ry=\"18\"/>\n",
       "<text text-anchor=\"middle\" x=\"363\" y=\"-14.3\" font-family=\"Times,serif\" font-size=\"14.00\">declarations</text>\n",
       "</g>\n",
       "<!-- main&#45;&gt;declarations -->\n",
       "<g id=\"edge1\" class=\"edge\">\n",
       "<title>main&#45;&gt;declarations</title>\n",
       "<path fill=\"none\" stroke=\"black\" d=\"M356.38,-444.93C268.34,-431.18 0,-383.05 0,-307 0,-307 0,-307 0,-161 0,-115.19 14.33,-98.07 52,-72 91.38,-44.74 222.11,-29.99 300.99,-23.38\"/>\n",
       "<polygon fill=\"black\" stroke=\"black\" points=\"301.61,-26.84 311.29,-22.54 301.04,-19.87 301.61,-26.84\"/>\n",
       "</g>\n",
       "<!-- parser -->\n",
       "<g id=\"node3\" class=\"node\">\n",
       "<title>parser</title>\n",
       "<ellipse fill=\"none\" stroke=\"black\" cx=\"384\" cy=\"-378\" rx=\"32.49\" ry=\"18\"/>\n",
       "<text text-anchor=\"middle\" x=\"384\" y=\"-374.3\" font-family=\"Times,serif\" font-size=\"14.00\">parser</text>\n",
       "</g>\n",
       "<!-- main&#45;&gt;parser -->\n",
       "<g id=\"edge2\" class=\"edge\">\n",
       "<title>main&#45;&gt;parser</title>\n",
       "<path fill=\"none\" stroke=\"black\" d=\"M384,-431.7C384,-423.98 384,-414.71 384,-406.11\"/>\n",
       "<polygon fill=\"black\" stroke=\"black\" points=\"387.5,-406.1 384,-396.1 380.5,-406.1 387.5,-406.1\"/>\n",
       "</g>\n",
       "<!-- codeGenerator -->\n",
       "<g id=\"node4\" class=\"node\">\n",
       "<title>codeGenerator</title>\n",
       "<ellipse fill=\"none\" stroke=\"black\" cx=\"474\" cy=\"-306\" rx=\"62.29\" ry=\"18\"/>\n",
       "<text text-anchor=\"middle\" x=\"474\" y=\"-302.3\" font-family=\"Times,serif\" font-size=\"14.00\">codeGenerator</text>\n",
       "</g>\n",
       "<!-- main&#45;&gt;codeGenerator -->\n",
       "<g id=\"edge3\" class=\"edge\">\n",
       "<title>main&#45;&gt;codeGenerator</title>\n",
       "<path fill=\"none\" stroke=\"black\" d=\"M396.86,-433.7C405.29,-423.36 416.32,-409.23 425,-396 438.39,-375.6 451.62,-351.25 460.95,-333.18\"/>\n",
       "<polygon fill=\"black\" stroke=\"black\" points=\"464.29,-334.35 465.71,-323.85 458.05,-331.17 464.29,-334.35\"/>\n",
       "</g>\n",
       "<!-- parser&#45;&gt;declarations -->\n",
       "<g id=\"edge4\" class=\"edge\">\n",
       "<title>parser&#45;&gt;declarations</title>\n",
       "<path fill=\"none\" stroke=\"black\" d=\"M353.6,-371.32C269.17,-354.68 38,-302.93 38,-235 38,-235 38,-235 38,-161 38,-47.97 205.1,-24.03 299.66,-19.53\"/>\n",
       "<polygon fill=\"black\" stroke=\"black\" points=\"299.85,-23.02 309.7,-19.11 299.56,-16.03 299.85,-23.02\"/>\n",
       "</g>\n",
       "<!-- parser&#45;&gt;codeGenerator -->\n",
       "<g id=\"edge8\" class=\"edge\">\n",
       "<title>parser&#45;&gt;codeGenerator</title>\n",
       "<path fill=\"none\" stroke=\"black\" d=\"M402.21,-362.83C414.58,-353.22 431.19,-340.3 445.32,-329.31\"/>\n",
       "<polygon fill=\"black\" stroke=\"black\" points=\"447.55,-332.01 453.3,-323.1 443.25,-326.48 447.55,-332.01\"/>\n",
       "</g>\n",
       "<!-- scanner -->\n",
       "<g id=\"node5\" class=\"node\">\n",
       "<title>scanner</title>\n",
       "<ellipse fill=\"none\" stroke=\"black\" cx=\"723\" cy=\"-90\" rx=\"37.89\" ry=\"18\"/>\n",
       "<text text-anchor=\"middle\" x=\"723\" y=\"-86.3\" font-family=\"Times,serif\" font-size=\"14.00\">scanner</text>\n",
       "</g>\n",
       "<!-- parser&#45;&gt;scanner -->\n",
       "<g id=\"edge5\" class=\"edge\">\n",
       "<title>parser&#45;&gt;scanner</title>\n",
       "<path fill=\"none\" stroke=\"black\" d=\"M414.95,-372.45C449.31,-366.19 505.19,-352.31 545,-324 624.56,-267.42 684.81,-164.84 710.04,-116.94\"/>\n",
       "<polygon fill=\"black\" stroke=\"black\" points=\"713.25,-118.35 714.75,-107.86 707.04,-115.12 713.25,-118.35\"/>\n",
       "</g>\n",
       "<!-- scopeController -->\n",
       "<g id=\"node6\" class=\"node\">\n",
       "<title>scopeController</title>\n",
       "<ellipse fill=\"none\" stroke=\"black\" cx=\"429\" cy=\"-234\" rx=\"66.89\" ry=\"18\"/>\n",
       "<text text-anchor=\"middle\" x=\"429\" y=\"-230.3\" font-family=\"Times,serif\" font-size=\"14.00\">scopeController</text>\n",
       "</g>\n",
       "<!-- parser&#45;&gt;scopeController -->\n",
       "<g id=\"edge6\" class=\"edge\">\n",
       "<title>parser&#45;&gt;scopeController</title>\n",
       "<path fill=\"none\" stroke=\"black\" d=\"M386.37,-359.93C389.18,-341.76 394.58,-312.34 403,-288 406.12,-278.99 410.4,-269.54 414.59,-261.14\"/>\n",
       "<polygon fill=\"black\" stroke=\"black\" points=\"417.73,-262.69 419.22,-252.2 411.51,-259.48 417.73,-262.69\"/>\n",
       "</g>\n",
       "<!-- typeChecker -->\n",
       "<g id=\"node7\" class=\"node\">\n",
       "<title>typeChecker</title>\n",
       "<ellipse fill=\"none\" stroke=\"black\" cx=\"251\" cy=\"-234\" rx=\"55.49\" ry=\"18\"/>\n",
       "<text text-anchor=\"middle\" x=\"251\" y=\"-230.3\" font-family=\"Times,serif\" font-size=\"14.00\">typeChecker</text>\n",
       "</g>\n",
       "<!-- parser&#45;&gt;typeChecker -->\n",
       "<g id=\"edge7\" class=\"edge\">\n",
       "<title>parser&#45;&gt;typeChecker</title>\n",
       "<path fill=\"none\" stroke=\"black\" d=\"M369.77,-361.8C346.64,-337.11 300.72,-288.08 273.25,-258.75\"/>\n",
       "<polygon fill=\"black\" stroke=\"black\" points=\"275.74,-256.3 266.35,-251.39 270.64,-261.08 275.74,-256.3\"/>\n",
       "</g>\n",
       "<!-- codeGenerator&#45;&gt;declarations -->\n",
       "<g id=\"edge9\" class=\"edge\">\n",
       "<title>codeGenerator&#45;&gt;declarations</title>\n",
       "<path fill=\"none\" stroke=\"black\" d=\"M503.81,-290.01C520.29,-280.68 540.34,-267.51 555,-252 615.51,-187.97 694.09,-139.93 638,-72 611.63,-40.06 498.56,-27.16 425.87,-22.1\"/>\n",
       "<polygon fill=\"black\" stroke=\"black\" points=\"425.66,-18.58 415.45,-21.41 425.2,-25.57 425.66,-18.58\"/>\n",
       "</g>\n",
       "<!-- codeGenerator&#45;&gt;scopeController -->\n",
       "<g id=\"edge12\" class=\"edge\">\n",
       "<title>codeGenerator&#45;&gt;scopeController</title>\n",
       "<path fill=\"none\" stroke=\"black\" d=\"M463.11,-288.05C457.75,-279.71 451.17,-269.49 445.23,-260.25\"/>\n",
       "<polygon fill=\"black\" stroke=\"black\" points=\"448.14,-258.31 439.79,-251.79 442.26,-262.09 448.14,-258.31\"/>\n",
       "</g>\n",
       "<!-- dictionary -->\n",
       "<g id=\"node8\" class=\"node\">\n",
       "<title>dictionary</title>\n",
       "<ellipse fill=\"none\" stroke=\"black\" cx=\"334\" cy=\"-162\" rx=\"46.29\" ry=\"18\"/>\n",
       "<text text-anchor=\"middle\" x=\"334\" y=\"-158.3\" font-family=\"Times,serif\" font-size=\"14.00\">dictionary</text>\n",
       "</g>\n",
       "<!-- codeGenerator&#45;&gt;dictionary -->\n",
       "<g id=\"edge10\" class=\"edge\">\n",
       "<title>codeGenerator&#45;&gt;dictionary</title>\n",
       "<path fill=\"none\" stroke=\"black\" d=\"M425,-294.84C399.92,-287.16 370.97,-274.04 353,-252 338.91,-234.72 334.58,-209.46 333.53,-190.25\"/>\n",
       "<polygon fill=\"black\" stroke=\"black\" points=\"337.02,-189.93 333.25,-180.03 330.03,-190.12 337.02,-189.93\"/>\n",
       "</g>\n",
       "<!-- dictIdxStack -->\n",
       "<g id=\"node9\" class=\"node\">\n",
       "<title>dictIdxStack</title>\n",
       "<ellipse fill=\"none\" stroke=\"black\" cx=\"491\" cy=\"-162\" rx=\"55.49\" ry=\"18\"/>\n",
       "<text text-anchor=\"middle\" x=\"491\" y=\"-158.3\" font-family=\"Times,serif\" font-size=\"14.00\">dictIdxStack</text>\n",
       "</g>\n",
       "<!-- codeGenerator&#45;&gt;dictIdxStack -->\n",
       "<g id=\"edge11\" class=\"edge\">\n",
       "<title>codeGenerator&#45;&gt;dictIdxStack</title>\n",
       "<path fill=\"none\" stroke=\"black\" d=\"M486.82,-288.38C493.68,-278.42 501.43,-265.17 505,-252 510.57,-231.43 506.25,-207.54 500.98,-189.7\"/>\n",
       "<polygon fill=\"black\" stroke=\"black\" points=\"504.24,-188.4 497.84,-179.96 497.58,-190.55 504.24,-188.4\"/>\n",
       "</g>\n",
       "<!-- addrStack -->\n",
       "<g id=\"node10\" class=\"node\">\n",
       "<title>addrStack</title>\n",
       "<ellipse fill=\"none\" stroke=\"black\" cx=\"583\" cy=\"-90\" rx=\"46.29\" ry=\"18\"/>\n",
       "<text text-anchor=\"middle\" x=\"583\" y=\"-86.3\" font-family=\"Times,serif\" font-size=\"14.00\">addrStack</text>\n",
       "</g>\n",
       "<!-- codeGenerator&#45;&gt;addrStack -->\n",
       "<g id=\"edge13\" class=\"edge\">\n",
       "<title>codeGenerator&#45;&gt;addrStack</title>\n",
       "<path fill=\"none\" stroke=\"black\" d=\"M492.39,-288.51C515.62,-266.41 554.67,-224.74 572,-180 579.63,-160.31 582.26,-136.51 583.05,-118.47\"/>\n",
       "<polygon fill=\"black\" stroke=\"black\" points=\"586.55,-118.43 583.33,-108.33 579.56,-118.23 586.55,-118.43\"/>\n",
       "</g>\n",
       "<!-- scanner&#45;&gt;declarations -->\n",
       "<g id=\"edge14\" class=\"edge\">\n",
       "<title>scanner&#45;&gt;declarations</title>\n",
       "<path fill=\"none\" stroke=\"black\" d=\"M693.52,-78.54C686.22,-76.18 678.37,-73.83 671,-72 585.45,-50.77 484.44,-35.14 422.05,-26.56\"/>\n",
       "<polygon fill=\"black\" stroke=\"black\" points=\"422.38,-23.07 412,-25.19 421.43,-30 422.38,-23.07\"/>\n",
       "</g>\n",
       "<!-- scopeController&#45;&gt;declarations -->\n",
       "<g id=\"edge15\" class=\"edge\">\n",
       "<title>scopeController&#45;&gt;declarations</title>\n",
       "<path fill=\"none\" stroke=\"black\" d=\"M484.88,-224.01C510.81,-216.74 539.31,-203.62 555,-180 563.85,-166.67 561.37,-158.68 555,-144 545.67,-122.51 497.44,-85.07 478,-72 456.15,-57.31 429.57,-44.76 407.47,-35.57\"/>\n",
       "<polygon fill=\"black\" stroke=\"black\" points=\"408.57,-32.24 397.99,-31.72 405.93,-38.72 408.57,-32.24\"/>\n",
       "</g>\n",
       "<!-- scopeController&#45;&gt;dictionary -->\n",
       "<g id=\"edge16\" class=\"edge\">\n",
       "<title>scopeController&#45;&gt;dictionary</title>\n",
       "<path fill=\"none\" stroke=\"black\" d=\"M406.97,-216.76C393.89,-207.13 377.17,-194.81 363.03,-184.39\"/>\n",
       "<polygon fill=\"black\" stroke=\"black\" points=\"364.74,-181.3 354.61,-178.19 360.59,-186.94 364.74,-181.3\"/>\n",
       "</g>\n",
       "<!-- scopeController&#45;&gt;dictIdxStack -->\n",
       "<g id=\"edge17\" class=\"edge\">\n",
       "<title>scopeController&#45;&gt;dictIdxStack</title>\n",
       "<path fill=\"none\" stroke=\"black\" d=\"M443.69,-216.41C451.41,-207.69 461.02,-196.85 469.56,-187.21\"/>\n",
       "<polygon fill=\"black\" stroke=\"black\" points=\"472.4,-189.28 476.41,-179.47 467.16,-184.64 472.4,-189.28\"/>\n",
       "</g>\n",
       "<!-- dictStack -->\n",
       "<g id=\"node11\" class=\"node\">\n",
       "<title>dictStack</title>\n",
       "<ellipse fill=\"none\" stroke=\"black\" cx=\"399\" cy=\"-90\" rx=\"43.59\" ry=\"18\"/>\n",
       "<text text-anchor=\"middle\" x=\"399\" y=\"-86.3\" font-family=\"Times,serif\" font-size=\"14.00\">dictStack</text>\n",
       "</g>\n",
       "<!-- scopeController&#45;&gt;dictStack -->\n",
       "<g id=\"edge18\" class=\"edge\">\n",
       "<title>scopeController&#45;&gt;dictStack</title>\n",
       "<path fill=\"none\" stroke=\"black\" d=\"M425.38,-215.87C420.25,-191.56 410.79,-146.82 404.71,-118.01\"/>\n",
       "<polygon fill=\"black\" stroke=\"black\" points=\"408.12,-117.25 402.63,-108.19 401.27,-118.7 408.12,-117.25\"/>\n",
       "</g>\n",
       "<!-- typeChecker&#45;&gt;declarations -->\n",
       "<g id=\"edge19\" class=\"edge\">\n",
       "<title>typeChecker&#45;&gt;declarations</title>\n",
       "<path fill=\"none\" stroke=\"black\" d=\"M248.81,-215.9C247.15,-197.45 246.54,-167.55 256,-144 272.79,-102.2 309.5,-64.47 335.21,-41.65\"/>\n",
       "<polygon fill=\"black\" stroke=\"black\" points=\"337.54,-44.26 342.8,-35.06 332.96,-38.97 337.54,-44.26\"/>\n",
       "</g>\n",
       "<!-- typeChecker&#45;&gt;dictionary -->\n",
       "<g id=\"edge21\" class=\"edge\">\n",
       "<title>typeChecker&#45;&gt;dictionary</title>\n",
       "<path fill=\"none\" stroke=\"black\" d=\"M270.25,-216.76C281.41,-207.36 295.61,-195.38 307.78,-185.12\"/>\n",
       "<polygon fill=\"black\" stroke=\"black\" points=\"310.04,-187.79 315.42,-178.67 305.52,-182.44 310.04,-187.79\"/>\n",
       "</g>\n",
       "<!-- typeChecker&#45;&gt;dictIdxStack -->\n",
       "<g id=\"edge22\" class=\"edge\">\n",
       "<title>typeChecker&#45;&gt;dictIdxStack</title>\n",
       "<path fill=\"none\" stroke=\"black\" d=\"M290.63,-221.44C331.97,-209.38 396.87,-190.46 441.54,-177.43\"/>\n",
       "<polygon fill=\"black\" stroke=\"black\" points=\"442.69,-180.74 451.31,-174.58 440.73,-174.02 442.69,-180.74\"/>\n",
       "</g>\n",
       "<!-- typeChecker&#45;&gt;dictStack -->\n",
       "<g id=\"edge20\" class=\"edge\">\n",
       "<title>typeChecker&#45;&gt;dictStack</title>\n",
       "<path fill=\"none\" stroke=\"black\" d=\"M252.22,-215.87C254.47,-196.27 260.86,-164.28 279,-144 297.9,-122.87 326.79,-109.76 351.49,-101.86\"/>\n",
       "<polygon fill=\"black\" stroke=\"black\" points=\"352.5,-105.22 361.07,-98.99 350.49,-98.51 352.5,-105.22\"/>\n",
       "</g>\n",
       "<!-- typeStack -->\n",
       "<g id=\"node12\" class=\"node\">\n",
       "<title>typeStack</title>\n",
       "<ellipse fill=\"none\" stroke=\"black\" cx=\"111\" cy=\"-162\" rx=\"45.49\" ry=\"18\"/>\n",
       "<text text-anchor=\"middle\" x=\"111\" y=\"-158.3\" font-family=\"Times,serif\" font-size=\"14.00\">typeStack</text>\n",
       "</g>\n",
       "<!-- typeChecker&#45;&gt;typeStack -->\n",
       "<g id=\"edge23\" class=\"edge\">\n",
       "<title>typeChecker&#45;&gt;typeStack</title>\n",
       "<path fill=\"none\" stroke=\"black\" d=\"M221.99,-218.5C200.31,-207.66 170.53,-192.76 147.27,-181.14\"/>\n",
       "<polygon fill=\"black\" stroke=\"black\" points=\"148.58,-177.88 138.07,-176.54 145.45,-184.14 148.58,-177.88\"/>\n",
       "</g>\n",
       "<!-- argCntStack -->\n",
       "<g id=\"node13\" class=\"node\">\n",
       "<title>argCntStack</title>\n",
       "<ellipse fill=\"none\" stroke=\"black\" cx=\"184\" cy=\"-90\" rx=\"53.89\" ry=\"18\"/>\n",
       "<text text-anchor=\"middle\" x=\"184\" y=\"-86.3\" font-family=\"Times,serif\" font-size=\"14.00\">argCntStack</text>\n",
       "</g>\n",
       "<!-- typeChecker&#45;&gt;argCntStack -->\n",
       "<g id=\"edge24\" class=\"edge\">\n",
       "<title>typeChecker&#45;&gt;argCntStack</title>\n",
       "<path fill=\"none\" stroke=\"black\" d=\"M234.68,-216.63C225.65,-206.75 214.9,-193.5 208,-180 198.01,-160.46 191.84,-136.33 188.26,-118.12\"/>\n",
       "<polygon fill=\"black\" stroke=\"black\" points=\"191.68,-117.38 186.44,-108.17 184.8,-118.63 191.68,-117.38\"/>\n",
       "</g>\n",
       "<!-- dictionary&#45;&gt;declarations -->\n",
       "<g id=\"edge25\" class=\"edge\">\n",
       "<title>dictionary&#45;&gt;declarations</title>\n",
       "<path fill=\"none\" stroke=\"black\" d=\"M335.41,-143.78C337.11,-125.73 340.43,-96.64 346,-72 347.97,-63.29 350.73,-53.96 353.46,-45.59\"/>\n",
       "<polygon fill=\"black\" stroke=\"black\" points=\"356.82,-46.57 356.71,-35.97 350.19,-44.33 356.82,-46.57\"/>\n",
       "</g>\n",
       "<!-- dictionary&#45;&gt;dictStack -->\n",
       "<g id=\"edge26\" class=\"edge\">\n",
       "<title>dictionary&#45;&gt;dictStack</title>\n",
       "<path fill=\"none\" stroke=\"black\" d=\"M349.08,-144.76C357.36,-135.84 367.79,-124.61 376.97,-114.72\"/>\n",
       "<polygon fill=\"black\" stroke=\"black\" points=\"379.77,-116.86 384.01,-107.15 374.64,-112.09 379.77,-116.86\"/>\n",
       "</g>\n",
       "<!-- dictIdxStack&#45;&gt;declarations -->\n",
       "<g id=\"edge27\" class=\"edge\">\n",
       "<title>dictIdxStack&#45;&gt;declarations</title>\n",
       "<path fill=\"none\" stroke=\"black\" d=\"M486.9,-143.87C481.56,-124.56 470.65,-93.12 452,-72 439.04,-57.33 421.02,-45.55 404.57,-36.86\"/>\n",
       "<polygon fill=\"black\" stroke=\"black\" points=\"406.15,-33.73 395.64,-32.35 402.99,-39.98 406.15,-33.73\"/>\n",
       "</g>\n",
       "<!-- dictIdxStack&#45;&gt;dictStack -->\n",
       "<g id=\"edge28\" class=\"edge\">\n",
       "<title>dictIdxStack&#45;&gt;dictStack</title>\n",
       "<path fill=\"none\" stroke=\"black\" d=\"M470.12,-145.12C457.39,-135.43 440.96,-122.92 427.09,-112.37\"/>\n",
       "<polygon fill=\"black\" stroke=\"black\" points=\"428.93,-109.37 418.85,-106.1 424.69,-114.94 428.93,-109.37\"/>\n",
       "</g>\n",
       "<!-- addrStack&#45;&gt;declarations -->\n",
       "<g id=\"edge29\" class=\"edge\">\n",
       "<title>addrStack&#45;&gt;declarations</title>\n",
       "<path fill=\"none\" stroke=\"black\" d=\"M548.14,-77.91C510.9,-66.06 451.65,-47.21 410.24,-34.03\"/>\n",
       "<polygon fill=\"black\" stroke=\"black\" points=\"411.23,-30.67 400.64,-30.98 409.11,-37.34 411.23,-30.67\"/>\n",
       "</g>\n",
       "<!-- dictStack&#45;&gt;declarations -->\n",
       "<g id=\"edge30\" class=\"edge\">\n",
       "<title>dictStack&#45;&gt;declarations</title>\n",
       "<path fill=\"none\" stroke=\"black\" d=\"M390.29,-72.05C386.08,-63.89 380.95,-53.91 376.28,-44.82\"/>\n",
       "<polygon fill=\"black\" stroke=\"black\" points=\"379.32,-43.08 371.63,-35.79 373.1,-46.28 379.32,-43.08\"/>\n",
       "</g>\n",
       "<!-- typeStack&#45;&gt;declarations -->\n",
       "<g id=\"edge31\" class=\"edge\">\n",
       "<title>typeStack&#45;&gt;declarations</title>\n",
       "<path fill=\"none\" stroke=\"black\" d=\"M107.58,-143.91C104.68,-124.05 103.41,-91.52 121,-72 144.7,-45.71 237.95,-31.32 301.53,-24.39\"/>\n",
       "<polygon fill=\"black\" stroke=\"black\" points=\"302.28,-27.83 311.86,-23.3 301.54,-20.87 302.28,-27.83\"/>\n",
       "</g>\n",
       "<!-- argCntStack&#45;&gt;declarations -->\n",
       "<g id=\"edge32\" class=\"edge\">\n",
       "<title>argCntStack&#45;&gt;declarations</title>\n",
       "<path fill=\"none\" stroke=\"black\" d=\"M217.67,-75.83C246.67,-64.49 288.7,-48.06 320.1,-35.78\"/>\n",
       "<polygon fill=\"black\" stroke=\"black\" points=\"321.44,-39.01 329.48,-32.11 318.89,-32.49 321.44,-39.01\"/>\n",
       "</g>\n",
       "</g>\n",
       "</svg>\n"
      ],
      "text/plain": [
       "<graphviz.dot.Digraph at 0x11a36e760>"
      ]
     },
     "execution_count": 48,
     "metadata": {},
     "output_type": "execute_result"
    }
   ],
   "source": [
    "from graphviz import Digraph\n",
    "dot = Digraph()\n",
    "\n",
    "for name in module_ids.values():\n",
    "    dot.node(name)\n",
    "for (module1, module2) in connections:\n",
    "    dot.edge(module_ids[module1], module_ids[module2])\n",
    "dot"
   ]
  },
  {
   "cell_type": "markdown",
   "metadata": {},
   "source": [
    "A partition assigns each module to a cluster. As representation, we therefore use a list of length _number of modules_ (`n`), where each entry of the list is a number from 0 to `n`:"
   ]
  },
  {
   "cell_type": "code",
   "execution_count": 49,
   "metadata": {},
   "outputs": [],
   "source": [
    "def get_random_solution():\n",
    "    num_clusters = len(module_ids)\n",
    "    return [random.randint(0, num_clusters-1) for _ in range(num_clusters)]"
   ]
  },
  {
   "cell_type": "markdown",
   "metadata": {},
   "source": [
    "We can define a helper function to visualise the clustering, such that the modules in a cluster are shown in boxes:"
   ]
  },
  {
   "cell_type": "code",
   "execution_count": 50,
   "metadata": {},
   "outputs": [],
   "source": [
    "def plot_clusters(individual):\n",
    "    num_cluster = 1\n",
    "    dot = Digraph()\n",
    "    \n",
    "    for cluster in set(individual):\n",
    "        modules_in_cluster = [position for position in range(len(individual)) if individual[position] == cluster]\n",
    "        s = Digraph(name='cluster{}'.format(num_cluster))\n",
    "        for module in modules_in_cluster:\n",
    "            name = module_ids[module]\n",
    "            s.node(name)\n",
    "        num_cluster += 1\n",
    "        dot.subgraph(s)\n",
    "    for (module1, module2) in connections:\n",
    "        dot.edge(module_ids[module1], module_ids[module2])\n",
    "    return dot"
   ]
  },
  {
   "cell_type": "code",
   "execution_count": 51,
   "metadata": {},
   "outputs": [
    {
     "data": {
      "image/svg+xml": [
       "<?xml version=\"1.0\" encoding=\"UTF-8\" standalone=\"no\"?>\n",
       "<!DOCTYPE svg PUBLIC \"-//W3C//DTD SVG 1.1//EN\"\n",
       " \"http://www.w3.org/Graphics/SVG/1.1/DTD/svg11.dtd\">\n",
       "<!-- Generated by graphviz version 2.44.1 (20200629.0846)\n",
       " -->\n",
       "<!-- Pages: 1 -->\n",
       "<svg width=\"928pt\" height=\"292pt\"\n",
       " viewBox=\"0.00 0.00 927.63 292.00\" xmlns=\"http://www.w3.org/2000/svg\" xmlns:xlink=\"http://www.w3.org/1999/xlink\">\n",
       "<g id=\"graph0\" class=\"graph\" transform=\"scale(1 1) rotate(0) translate(4 288)\">\n",
       "<polygon fill=\"white\" stroke=\"transparent\" points=\"-4,4 -4,-288 923.63,-288 923.63,4 -4,4\"/>\n",
       "<g id=\"clust1\" class=\"cluster\">\n",
       "<title>cluster1</title>\n",
       "<polygon fill=\"none\" stroke=\"black\" points=\"385,-152 385,-204 621,-204 621,-152 385,-152\"/>\n",
       "</g>\n",
       "<g id=\"clust2\" class=\"cluster\">\n",
       "<title>cluster2</title>\n",
       "<polygon fill=\"none\" stroke=\"black\" points=\"8,-80 8,-204 148,-204 148,-80 8,-80\"/>\n",
       "</g>\n",
       "<g id=\"clust3\" class=\"cluster\">\n",
       "<title>cluster3</title>\n",
       "<polygon fill=\"none\" stroke=\"black\" points=\"156,-80 156,-132 428,-132 428,-80 156,-80\"/>\n",
       "</g>\n",
       "<g id=\"clust4\" class=\"cluster\">\n",
       "<title>cluster4</title>\n",
       "<polygon fill=\"none\" stroke=\"black\" points=\"468,-8 468,-132 700,-132 700,-8 468,-8\"/>\n",
       "</g>\n",
       "<g id=\"clust5\" class=\"cluster\">\n",
       "<title>cluster5</title>\n",
       "<polygon fill=\"none\" stroke=\"black\" points=\"365,-224 365,-276 445,-276 445,-224 365,-224\"/>\n",
       "</g>\n",
       "<g id=\"clust6\" class=\"cluster\">\n",
       "<title>cluster6</title>\n",
       "<polygon fill=\"none\" stroke=\"black\" points=\"738,-80 738,-204 888,-204 888,-80 738,-80\"/>\n",
       "</g>\n",
       "<!-- typeChecker -->\n",
       "<g id=\"node1\" class=\"node\">\n",
       "<title>typeChecker</title>\n",
       "<ellipse fill=\"none\" stroke=\"black\" cx=\"448\" cy=\"-178\" rx=\"55.49\" ry=\"18\"/>\n",
       "<text text-anchor=\"middle\" x=\"448\" y=\"-174.3\" font-family=\"Times,serif\" font-size=\"14.00\">typeChecker</text>\n",
       "</g>\n",
       "<!-- dictionary -->\n",
       "<g id=\"node4\" class=\"node\">\n",
       "<title>dictionary</title>\n",
       "<ellipse fill=\"none\" stroke=\"black\" cx=\"94\" cy=\"-106\" rx=\"46.29\" ry=\"18\"/>\n",
       "<text text-anchor=\"middle\" x=\"94\" y=\"-102.3\" font-family=\"Times,serif\" font-size=\"14.00\">dictionary</text>\n",
       "</g>\n",
       "<!-- typeChecker&#45;&gt;dictionary -->\n",
       "<g id=\"edge21\" class=\"edge\">\n",
       "<title>typeChecker&#45;&gt;dictionary</title>\n",
       "<path fill=\"none\" stroke=\"black\" d=\"M394.73,-173.03C334.78,-167.62 234.95,-155.76 152,-132 144.97,-129.99 137.67,-127.33 130.71,-124.49\"/>\n",
       "<polygon fill=\"black\" stroke=\"black\" points=\"132.07,-121.27 121.5,-120.56 129.32,-127.7 132.07,-121.27\"/>\n",
       "</g>\n",
       "<!-- dictStack -->\n",
       "<g id=\"node7\" class=\"node\">\n",
       "<title>dictStack</title>\n",
       "<ellipse fill=\"none\" stroke=\"black\" cx=\"376\" cy=\"-106\" rx=\"43.59\" ry=\"18\"/>\n",
       "<text text-anchor=\"middle\" x=\"376\" y=\"-102.3\" font-family=\"Times,serif\" font-size=\"14.00\">dictStack</text>\n",
       "</g>\n",
       "<!-- typeChecker&#45;&gt;dictStack -->\n",
       "<g id=\"edge20\" class=\"edge\">\n",
       "<title>typeChecker&#45;&gt;dictStack</title>\n",
       "<path fill=\"none\" stroke=\"black\" d=\"M431.3,-160.76C421.94,-151.66 410.11,-140.16 399.79,-130.13\"/>\n",
       "<polygon fill=\"black\" stroke=\"black\" points=\"402.22,-127.61 392.61,-123.15 397.34,-132.63 402.22,-127.61\"/>\n",
       "</g>\n",
       "<!-- declarations -->\n",
       "<g id=\"node8\" class=\"node\">\n",
       "<title>declarations</title>\n",
       "<ellipse fill=\"none\" stroke=\"black\" cx=\"529\" cy=\"-34\" rx=\"53.09\" ry=\"18\"/>\n",
       "<text text-anchor=\"middle\" x=\"529\" y=\"-30.3\" font-family=\"Times,serif\" font-size=\"14.00\">declarations</text>\n",
       "</g>\n",
       "<!-- typeChecker&#45;&gt;declarations -->\n",
       "<g id=\"edge19\" class=\"edge\">\n",
       "<title>typeChecker&#45;&gt;declarations</title>\n",
       "<path fill=\"none\" stroke=\"black\" d=\"M447.68,-159.84C448.07,-139.3 451.3,-104.59 467,-80 473.31,-70.12 482.63,-61.7 492.13,-54.92\"/>\n",
       "<polygon fill=\"black\" stroke=\"black\" points=\"494.07,-57.83 500.47,-49.38 490.2,-52 494.07,-57.83\"/>\n",
       "</g>\n",
       "<!-- typeStack -->\n",
       "<g id=\"node9\" class=\"node\">\n",
       "<title>typeStack</title>\n",
       "<ellipse fill=\"none\" stroke=\"black\" cx=\"647\" cy=\"-106\" rx=\"45.49\" ry=\"18\"/>\n",
       "<text text-anchor=\"middle\" x=\"647\" y=\"-102.3\" font-family=\"Times,serif\" font-size=\"14.00\">typeStack</text>\n",
       "</g>\n",
       "<!-- typeChecker&#45;&gt;typeStack -->\n",
       "<g id=\"edge23\" class=\"edge\">\n",
       "<title>typeChecker&#45;&gt;typeStack</title>\n",
       "<path fill=\"none\" stroke=\"black\" d=\"M480.59,-163.32C490.58,-159.39 501.65,-155.28 512,-152 547.34,-140.79 558.01,-144.29 593,-132 598.95,-129.91 605.13,-127.4 611.1,-124.78\"/>\n",
       "<polygon fill=\"black\" stroke=\"black\" points=\"612.57,-127.95 620.23,-120.63 609.67,-121.58 612.57,-127.95\"/>\n",
       "</g>\n",
       "<!-- argCntStack -->\n",
       "<g id=\"node10\" class=\"node\">\n",
       "<title>argCntStack</title>\n",
       "<ellipse fill=\"none\" stroke=\"black\" cx=\"530\" cy=\"-106\" rx=\"53.89\" ry=\"18\"/>\n",
       "<text text-anchor=\"middle\" x=\"530\" y=\"-102.3\" font-family=\"Times,serif\" font-size=\"14.00\">argCntStack</text>\n",
       "</g>\n",
       "<!-- typeChecker&#45;&gt;argCntStack -->\n",
       "<g id=\"edge24\" class=\"edge\">\n",
       "<title>typeChecker&#45;&gt;argCntStack</title>\n",
       "<path fill=\"none\" stroke=\"black\" d=\"M467.02,-160.76C477.86,-151.51 491.61,-139.77 503.5,-129.63\"/>\n",
       "<polygon fill=\"black\" stroke=\"black\" points=\"506.03,-132.06 511.37,-122.91 501.49,-126.74 506.03,-132.06\"/>\n",
       "</g>\n",
       "<!-- dictIdxStack -->\n",
       "<g id=\"node13\" class=\"node\">\n",
       "<title>dictIdxStack</title>\n",
       "<ellipse fill=\"none\" stroke=\"black\" cx=\"803\" cy=\"-106\" rx=\"55.49\" ry=\"18\"/>\n",
       "<text text-anchor=\"middle\" x=\"803\" y=\"-102.3\" font-family=\"Times,serif\" font-size=\"14.00\">dictIdxStack</text>\n",
       "</g>\n",
       "<!-- typeChecker&#45;&gt;dictIdxStack -->\n",
       "<g id=\"edge22\" class=\"edge\">\n",
       "<title>typeChecker&#45;&gt;dictIdxStack</title>\n",
       "<path fill=\"none\" stroke=\"black\" d=\"M479.03,-162.94C489.33,-158.8 500.99,-154.67 512,-152 595.37,-131.77 619.52,-146.99 704,-132 720.04,-129.16 737.31,-125.13 752.88,-121.14\"/>\n",
       "<polygon fill=\"black\" stroke=\"black\" points=\"754.04,-124.46 762.82,-118.54 752.26,-117.69 754.04,-124.46\"/>\n",
       "</g>\n",
       "<!-- addrStack -->\n",
       "<g id=\"node2\" class=\"node\">\n",
       "<title>addrStack</title>\n",
       "<ellipse fill=\"none\" stroke=\"black\" cx=\"567\" cy=\"-178\" rx=\"46.29\" ry=\"18\"/>\n",
       "<text text-anchor=\"middle\" x=\"567\" y=\"-174.3\" font-family=\"Times,serif\" font-size=\"14.00\">addrStack</text>\n",
       "</g>\n",
       "<!-- addrStack&#45;&gt;declarations -->\n",
       "<g id=\"edge29\" class=\"edge\">\n",
       "<title>addrStack&#45;&gt;declarations</title>\n",
       "<path fill=\"none\" stroke=\"black\" d=\"M612.58,-174.79C643.02,-170.66 681.01,-159.79 701,-132 714.49,-113.24 715.12,-98.29 701,-80 687.13,-62.04 632.45,-49.86 588.41,-42.75\"/>\n",
       "<polygon fill=\"black\" stroke=\"black\" points=\"588.76,-39.27 578.34,-41.18 587.68,-46.18 588.76,-39.27\"/>\n",
       "</g>\n",
       "<!-- codeGenerator -->\n",
       "<g id=\"node3\" class=\"node\">\n",
       "<title>codeGenerator</title>\n",
       "<ellipse fill=\"none\" stroke=\"black\" cx=\"78\" cy=\"-178\" rx=\"62.29\" ry=\"18\"/>\n",
       "<text text-anchor=\"middle\" x=\"78\" y=\"-174.3\" font-family=\"Times,serif\" font-size=\"14.00\">codeGenerator</text>\n",
       "</g>\n",
       "<!-- codeGenerator&#45;&gt;addrStack -->\n",
       "<g id=\"edge13\" class=\"edge\">\n",
       "<title>codeGenerator&#45;&gt;addrStack</title>\n",
       "<path fill=\"none\" stroke=\"black\" d=\"M132.28,-187.13C230.62,-202.91 434.41,-231.97 503,-214 514.64,-210.95 526.39,-205.26 536.59,-199.29\"/>\n",
       "<polygon fill=\"black\" stroke=\"black\" points=\"538.45,-202.26 545.12,-194.03 534.77,-196.3 538.45,-202.26\"/>\n",
       "</g>\n",
       "<!-- codeGenerator&#45;&gt;dictionary -->\n",
       "<g id=\"edge10\" class=\"edge\">\n",
       "<title>codeGenerator&#45;&gt;dictionary</title>\n",
       "<path fill=\"none\" stroke=\"black\" d=\"M81.96,-159.7C83.72,-151.98 85.84,-142.71 87.8,-134.11\"/>\n",
       "<polygon fill=\"black\" stroke=\"black\" points=\"91.27,-134.63 90.09,-124.1 84.45,-133.07 91.27,-134.63\"/>\n",
       "</g>\n",
       "<!-- codeGenerator&#45;&gt;declarations -->\n",
       "<g id=\"edge9\" class=\"edge\">\n",
       "<title>codeGenerator&#45;&gt;declarations</title>\n",
       "<path fill=\"none\" stroke=\"black\" d=\"M58.7,-160.6C51.02,-152.82 43.05,-142.85 39,-132 30.92,-110.35 23.42,-97.07 39,-80 67.21,-49.08 339.43,-39.13 465.5,-36.16\"/>\n",
       "<polygon fill=\"black\" stroke=\"black\" points=\"465.86,-39.65 475.78,-35.93 465.7,-32.66 465.86,-39.65\"/>\n",
       "</g>\n",
       "<!-- scopeController -->\n",
       "<g id=\"node12\" class=\"node\">\n",
       "<title>scopeController</title>\n",
       "<ellipse fill=\"none\" stroke=\"black\" cx=\"813\" cy=\"-178\" rx=\"66.89\" ry=\"18\"/>\n",
       "<text text-anchor=\"middle\" x=\"813\" y=\"-174.3\" font-family=\"Times,serif\" font-size=\"14.00\">scopeController</text>\n",
       "</g>\n",
       "<!-- codeGenerator&#45;&gt;scopeController -->\n",
       "<g id=\"edge12\" class=\"edge\">\n",
       "<title>codeGenerator&#45;&gt;scopeController</title>\n",
       "<path fill=\"none\" stroke=\"black\" d=\"M131.9,-187.21C228.86,-202.52 439.1,-230.03 616,-214 662.09,-209.82 713.51,-200.26 752.25,-192.04\"/>\n",
       "<polygon fill=\"black\" stroke=\"black\" points=\"753.29,-195.39 762.33,-189.87 751.81,-188.55 753.29,-195.39\"/>\n",
       "</g>\n",
       "<!-- codeGenerator&#45;&gt;dictIdxStack -->\n",
       "<g id=\"edge11\" class=\"edge\">\n",
       "<title>codeGenerator&#45;&gt;dictIdxStack</title>\n",
       "<path fill=\"none\" stroke=\"black\" d=\"M136.63,-171.8C197.64,-166.48 295.98,-158.14 381,-152 524.46,-141.64 561.88,-154.15 704,-132 720.24,-129.47 737.69,-125.49 753.36,-121.45\"/>\n",
       "<polygon fill=\"black\" stroke=\"black\" points=\"754.6,-124.74 763.37,-118.8 752.8,-117.98 754.6,-124.74\"/>\n",
       "</g>\n",
       "<!-- dictionary&#45;&gt;dictStack -->\n",
       "<g id=\"edge26\" class=\"edge\">\n",
       "<title>dictionary&#45;&gt;dictStack</title>\n",
       "<path fill=\"none\" stroke=\"black\" d=\"M116.71,-121.84C129.17,-129.57 145.25,-138.04 161,-142 194.19,-150.35 281.99,-151.02 315,-142 326.08,-138.97 337.2,-133.36 346.85,-127.46\"/>\n",
       "<polygon fill=\"black\" stroke=\"black\" points=\"348.76,-130.39 355.25,-122.02 344.96,-124.51 348.76,-130.39\"/>\n",
       "</g>\n",
       "<!-- dictionary&#45;&gt;declarations -->\n",
       "<g id=\"edge25\" class=\"edge\">\n",
       "<title>dictionary&#45;&gt;declarations</title>\n",
       "<path fill=\"none\" stroke=\"black\" d=\"M121.15,-91.38C130.69,-87.11 141.62,-82.79 152,-80 259.75,-51 389.86,-40.68 465.63,-37.01\"/>\n",
       "<polygon fill=\"black\" stroke=\"black\" points=\"466.12,-40.49 475.95,-36.54 465.8,-33.5 466.12,-40.49\"/>\n",
       "</g>\n",
       "<!-- main -->\n",
       "<g id=\"node5\" class=\"node\">\n",
       "<title>main</title>\n",
       "<ellipse fill=\"none\" stroke=\"black\" cx=\"193\" cy=\"-106\" rx=\"28.7\" ry=\"18\"/>\n",
       "<text text-anchor=\"middle\" x=\"193\" y=\"-102.3\" font-family=\"Times,serif\" font-size=\"14.00\">main</text>\n",
       "</g>\n",
       "<!-- main&#45;&gt;codeGenerator -->\n",
       "<g id=\"edge3\" class=\"edge\">\n",
       "<title>main&#45;&gt;codeGenerator</title>\n",
       "<path fill=\"none\" stroke=\"black\" d=\"M172.98,-119.21C166.31,-123.28 158.84,-127.84 152,-132 139.08,-139.87 124.89,-148.5 112.42,-156.08\"/>\n",
       "<polygon fill=\"black\" stroke=\"black\" points=\"110.42,-153.2 103.69,-161.39 114.05,-159.18 110.42,-153.2\"/>\n",
       "</g>\n",
       "<!-- main&#45;&gt;declarations -->\n",
       "<g id=\"edge1\" class=\"edge\">\n",
       "<title>main&#45;&gt;declarations</title>\n",
       "<path fill=\"none\" stroke=\"black\" d=\"M209.8,-91.34C215.84,-87.07 222.92,-82.76 230,-80 307.6,-49.74 403.87,-39.7 465.85,-36.45\"/>\n",
       "<polygon fill=\"black\" stroke=\"black\" points=\"466.06,-39.94 475.88,-35.96 465.72,-32.95 466.06,-39.94\"/>\n",
       "</g>\n",
       "<!-- parser -->\n",
       "<g id=\"node11\" class=\"node\">\n",
       "<title>parser</title>\n",
       "<ellipse fill=\"none\" stroke=\"black\" cx=\"405\" cy=\"-250\" rx=\"32.49\" ry=\"18\"/>\n",
       "<text text-anchor=\"middle\" x=\"405\" y=\"-246.3\" font-family=\"Times,serif\" font-size=\"14.00\">parser</text>\n",
       "</g>\n",
       "<!-- main&#45;&gt;parser -->\n",
       "<g id=\"edge2\" class=\"edge\">\n",
       "<title>main&#45;&gt;parser</title>\n",
       "<path fill=\"none\" stroke=\"black\" d=\"M208.77,-121.31C231.27,-141.32 274.39,-178.1 315,-204 332.77,-215.33 353.78,-225.98 371.03,-234.07\"/>\n",
       "<polygon fill=\"black\" stroke=\"black\" points=\"369.64,-237.28 380.19,-238.29 372.57,-230.92 369.64,-237.28\"/>\n",
       "</g>\n",
       "<!-- scanner -->\n",
       "<g id=\"node6\" class=\"node\">\n",
       "<title>scanner</title>\n",
       "<ellipse fill=\"none\" stroke=\"black\" cx=\"277\" cy=\"-106\" rx=\"37.89\" ry=\"18\"/>\n",
       "<text text-anchor=\"middle\" x=\"277\" y=\"-102.3\" font-family=\"Times,serif\" font-size=\"14.00\">scanner</text>\n",
       "</g>\n",
       "<!-- scanner&#45;&gt;declarations -->\n",
       "<g id=\"edge14\" class=\"edge\">\n",
       "<title>scanner&#45;&gt;declarations</title>\n",
       "<path fill=\"none\" stroke=\"black\" d=\"M299.33,-91.22C306.66,-87.14 314.99,-82.98 323,-80 371.17,-62.06 428.48,-50.26 470.4,-43.27\"/>\n",
       "<polygon fill=\"black\" stroke=\"black\" points=\"471.14,-46.69 480.45,-41.63 470.02,-39.78 471.14,-46.69\"/>\n",
       "</g>\n",
       "<!-- dictStack&#45;&gt;declarations -->\n",
       "<g id=\"edge30\" class=\"edge\">\n",
       "<title>dictStack&#45;&gt;declarations</title>\n",
       "<path fill=\"none\" stroke=\"black\" d=\"M404.06,-92.16C428.06,-81.18 462.87,-65.26 489.65,-53\"/>\n",
       "<polygon fill=\"black\" stroke=\"black\" points=\"491.12,-56.18 498.76,-48.84 488.21,-49.81 491.12,-56.18\"/>\n",
       "</g>\n",
       "<!-- typeStack&#45;&gt;declarations -->\n",
       "<g id=\"edge31\" class=\"edge\">\n",
       "<title>typeStack&#45;&gt;declarations</title>\n",
       "<path fill=\"none\" stroke=\"black\" d=\"M622.84,-90.67C605.61,-80.44 582.2,-66.56 563.08,-55.22\"/>\n",
       "<polygon fill=\"black\" stroke=\"black\" points=\"564.74,-52.13 554.35,-50.04 561.17,-58.15 564.74,-52.13\"/>\n",
       "</g>\n",
       "<!-- argCntStack&#45;&gt;declarations -->\n",
       "<g id=\"edge32\" class=\"edge\">\n",
       "<title>argCntStack&#45;&gt;declarations</title>\n",
       "<path fill=\"none\" stroke=\"black\" d=\"M529.75,-87.7C529.64,-79.98 529.51,-70.71 529.39,-62.11\"/>\n",
       "<polygon fill=\"black\" stroke=\"black\" points=\"532.89,-62.05 529.24,-52.1 525.89,-62.15 532.89,-62.05\"/>\n",
       "</g>\n",
       "<!-- parser&#45;&gt;typeChecker -->\n",
       "<g id=\"edge7\" class=\"edge\">\n",
       "<title>parser&#45;&gt;typeChecker</title>\n",
       "<path fill=\"none\" stroke=\"black\" d=\"M414.97,-232.76C420.09,-224.44 426.44,-214.1 432.2,-204.73\"/>\n",
       "<polygon fill=\"black\" stroke=\"black\" points=\"435.23,-206.48 437.48,-196.12 429.26,-202.81 435.23,-206.48\"/>\n",
       "</g>\n",
       "<!-- parser&#45;&gt;codeGenerator -->\n",
       "<g id=\"edge8\" class=\"edge\">\n",
       "<title>parser&#45;&gt;codeGenerator</title>\n",
       "<path fill=\"none\" stroke=\"black\" d=\"M375.11,-242.6C321.17,-231.05 206.63,-206.53 136.58,-191.54\"/>\n",
       "<polygon fill=\"black\" stroke=\"black\" points=\"137.09,-188.07 126.58,-189.4 135.62,-194.91 137.09,-188.07\"/>\n",
       "</g>\n",
       "<!-- parser&#45;&gt;scanner -->\n",
       "<g id=\"edge5\" class=\"edge\">\n",
       "<title>parser&#45;&gt;scanner</title>\n",
       "<path fill=\"none\" stroke=\"black\" d=\"M391.06,-233.53C368.67,-208.7 324.56,-159.76 298.23,-130.56\"/>\n",
       "<polygon fill=\"black\" stroke=\"black\" points=\"300.61,-127.97 291.32,-122.88 295.41,-132.65 300.61,-127.97\"/>\n",
       "</g>\n",
       "<!-- parser&#45;&gt;declarations -->\n",
       "<g id=\"edge4\" class=\"edge\">\n",
       "<title>parser&#45;&gt;declarations</title>\n",
       "<path fill=\"none\" stroke=\"black\" d=\"M437.55,-248.47C541.65,-246.46 861.39,-237.57 892,-204 929.13,-163.28 928.49,-121.3 892,-80 872.45,-57.88 689.84,-44.16 591.32,-38.3\"/>\n",
       "<polygon fill=\"black\" stroke=\"black\" points=\"591.38,-34.8 581.19,-37.71 590.97,-41.78 591.38,-34.8\"/>\n",
       "</g>\n",
       "<!-- parser&#45;&gt;scopeController -->\n",
       "<g id=\"edge6\" class=\"edge\">\n",
       "<title>parser&#45;&gt;scopeController</title>\n",
       "<path fill=\"none\" stroke=\"black\" d=\"M435.67,-243.74C501.78,-232.4 658.96,-205.43 748.2,-190.12\"/>\n",
       "<polygon fill=\"black\" stroke=\"black\" points=\"748.94,-193.54 758.2,-188.4 747.75,-186.64 748.94,-193.54\"/>\n",
       "</g>\n",
       "<!-- scopeController&#45;&gt;dictionary -->\n",
       "<g id=\"edge16\" class=\"edge\">\n",
       "<title>scopeController&#45;&gt;dictionary</title>\n",
       "<path fill=\"none\" stroke=\"black\" d=\"M756.79,-168.18C719.51,-162.66 669.45,-155.89 625,-152 520.19,-142.83 254.56,-155.43 152,-132 144.65,-130.32 137.07,-127.74 129.9,-124.86\"/>\n",
       "<polygon fill=\"black\" stroke=\"black\" points=\"131.03,-121.54 120.46,-120.82 128.27,-127.97 131.03,-121.54\"/>\n",
       "</g>\n",
       "<!-- scopeController&#45;&gt;dictStack -->\n",
       "<g id=\"edge18\" class=\"edge\">\n",
       "<title>scopeController&#45;&gt;dictStack</title>\n",
       "<path fill=\"none\" stroke=\"black\" d=\"M754.59,-169.1C717.48,-164.12 668.43,-157.59 625,-152 553.48,-142.8 534.67,-146.34 464,-132 449.22,-129 433.3,-124.79 419.11,-120.67\"/>\n",
       "<polygon fill=\"black\" stroke=\"black\" points=\"419.72,-117.2 409.13,-117.71 417.73,-123.91 419.72,-117.2\"/>\n",
       "</g>\n",
       "<!-- scopeController&#45;&gt;declarations -->\n",
       "<g id=\"edge15\" class=\"edge\">\n",
       "<title>scopeController&#45;&gt;declarations</title>\n",
       "<path fill=\"none\" stroke=\"black\" d=\"M840.39,-161.44C850.73,-153.99 861.36,-144.05 867,-132 876.8,-111.07 882.23,-97.39 867,-80 849.14,-59.61 683.86,-45.36 591.22,-38.91\"/>\n",
       "<polygon fill=\"black\" stroke=\"black\" points=\"591.34,-35.41 581.12,-38.21 590.86,-42.39 591.34,-35.41\"/>\n",
       "</g>\n",
       "<!-- scopeController&#45;&gt;dictIdxStack -->\n",
       "<g id=\"edge17\" class=\"edge\">\n",
       "<title>scopeController&#45;&gt;dictIdxStack</title>\n",
       "<path fill=\"none\" stroke=\"black\" d=\"M810.53,-159.7C809.43,-151.98 808.1,-142.71 806.87,-134.11\"/>\n",
       "<polygon fill=\"black\" stroke=\"black\" points=\"810.32,-133.51 805.44,-124.1 803.39,-134.5 810.32,-133.51\"/>\n",
       "</g>\n",
       "<!-- dictIdxStack&#45;&gt;dictStack -->\n",
       "<g id=\"edge28\" class=\"edge\">\n",
       "<title>dictIdxStack&#45;&gt;dictStack</title>\n",
       "<path fill=\"none\" stroke=\"black\" d=\"M776.22,-121.87C761.62,-129.6 742.92,-138.06 725,-142 670.3,-154.01 528.12,-151.9 473,-142 452.86,-138.38 431.44,-130.86 413.86,-123.62\"/>\n",
       "<polygon fill=\"black\" stroke=\"black\" points=\"415.1,-120.34 404.53,-119.65 412.36,-126.78 415.1,-120.34\"/>\n",
       "</g>\n",
       "<!-- dictIdxStack&#45;&gt;declarations -->\n",
       "<g id=\"edge27\" class=\"edge\">\n",
       "<title>dictIdxStack&#45;&gt;declarations</title>\n",
       "<path fill=\"none\" stroke=\"black\" d=\"M768.9,-91.64C757.86,-87.59 745.5,-83.33 734,-80 684.21,-65.58 626.44,-53.29 584.95,-45.22\"/>\n",
       "<polygon fill=\"black\" stroke=\"black\" points=\"585.51,-41.76 575.03,-43.31 584.19,-48.63 585.51,-41.76\"/>\n",
       "</g>\n",
       "</g>\n",
       "</svg>\n"
      ],
      "text/plain": [
       "<graphviz.dot.Digraph at 0x11a36e730>"
      ]
     },
     "execution_count": 51,
     "metadata": {},
     "output_type": "execute_result"
    }
   ],
   "source": [
    "plot_clusters(get_random_solution())"
   ]
  },
  {
   "cell_type": "markdown",
   "metadata": {},
   "source": [
    "The neighbourhood consists of placing each module in a different cluster. We do not need to explore multiple empty clusters; if there are multiple empty cluster IDs available, then placing a module in just one of them is sufficient."
   ]
  },
  {
   "cell_type": "code",
   "execution_count": 52,
   "metadata": {},
   "outputs": [],
   "source": [
    "def get_neighbours(individual):\n",
    "    clusters = list(set(individual))\n",
    "    \n",
    "    # We only need one new cluster, pick the lowest available ID\n",
    "    new_cluster = min(set(range(0,max(clusters)+2)) - set(clusters))\n",
    "\n",
    "    clusters.append(new_cluster)\n",
    "    neighbours = []\n",
    "\n",
    "    for position in range(len(individual)):\n",
    "        for cluster in clusters:\n",
    "            if individual[position] != cluster:\n",
    "                copy = individual[:]\n",
    "                copy[position] = cluster\n",
    "                neighbours.append(copy)\n",
    "\n",
    "    return neighbours"
   ]
  },
  {
   "cell_type": "code",
   "execution_count": 53,
   "metadata": {},
   "outputs": [
    {
     "data": {
      "text/plain": [
       "[2, 7, 8, 9, 9, 12, 11, 12, 10, 11, 8, 9, 9]"
      ]
     },
     "execution_count": 53,
     "metadata": {},
     "output_type": "execute_result"
    }
   ],
   "source": [
    "x = get_random_solution()\n",
    "x"
   ]
  },
  {
   "cell_type": "code",
   "execution_count": 54,
   "metadata": {},
   "outputs": [
    {
     "data": {
      "text/plain": [
       "[[7, 7, 8, 9, 9, 12, 11, 12, 10, 11, 8, 9, 9],\n",
       " [8, 7, 8, 9, 9, 12, 11, 12, 10, 11, 8, 9, 9],\n",
       " [9, 7, 8, 9, 9, 12, 11, 12, 10, 11, 8, 9, 9],\n",
       " [10, 7, 8, 9, 9, 12, 11, 12, 10, 11, 8, 9, 9],\n",
       " [11, 7, 8, 9, 9, 12, 11, 12, 10, 11, 8, 9, 9],\n",
       " [12, 7, 8, 9, 9, 12, 11, 12, 10, 11, 8, 9, 9],\n",
       " [0, 7, 8, 9, 9, 12, 11, 12, 10, 11, 8, 9, 9],\n",
       " [2, 2, 8, 9, 9, 12, 11, 12, 10, 11, 8, 9, 9],\n",
       " [2, 8, 8, 9, 9, 12, 11, 12, 10, 11, 8, 9, 9],\n",
       " [2, 9, 8, 9, 9, 12, 11, 12, 10, 11, 8, 9, 9],\n",
       " [2, 10, 8, 9, 9, 12, 11, 12, 10, 11, 8, 9, 9],\n",
       " [2, 11, 8, 9, 9, 12, 11, 12, 10, 11, 8, 9, 9],\n",
       " [2, 12, 8, 9, 9, 12, 11, 12, 10, 11, 8, 9, 9],\n",
       " [2, 0, 8, 9, 9, 12, 11, 12, 10, 11, 8, 9, 9],\n",
       " [2, 7, 2, 9, 9, 12, 11, 12, 10, 11, 8, 9, 9],\n",
       " [2, 7, 7, 9, 9, 12, 11, 12, 10, 11, 8, 9, 9],\n",
       " [2, 7, 9, 9, 9, 12, 11, 12, 10, 11, 8, 9, 9],\n",
       " [2, 7, 10, 9, 9, 12, 11, 12, 10, 11, 8, 9, 9],\n",
       " [2, 7, 11, 9, 9, 12, 11, 12, 10, 11, 8, 9, 9],\n",
       " [2, 7, 12, 9, 9, 12, 11, 12, 10, 11, 8, 9, 9],\n",
       " [2, 7, 0, 9, 9, 12, 11, 12, 10, 11, 8, 9, 9],\n",
       " [2, 7, 8, 2, 9, 12, 11, 12, 10, 11, 8, 9, 9],\n",
       " [2, 7, 8, 7, 9, 12, 11, 12, 10, 11, 8, 9, 9],\n",
       " [2, 7, 8, 8, 9, 12, 11, 12, 10, 11, 8, 9, 9],\n",
       " [2, 7, 8, 10, 9, 12, 11, 12, 10, 11, 8, 9, 9],\n",
       " [2, 7, 8, 11, 9, 12, 11, 12, 10, 11, 8, 9, 9],\n",
       " [2, 7, 8, 12, 9, 12, 11, 12, 10, 11, 8, 9, 9],\n",
       " [2, 7, 8, 0, 9, 12, 11, 12, 10, 11, 8, 9, 9],\n",
       " [2, 7, 8, 9, 2, 12, 11, 12, 10, 11, 8, 9, 9],\n",
       " [2, 7, 8, 9, 7, 12, 11, 12, 10, 11, 8, 9, 9],\n",
       " [2, 7, 8, 9, 8, 12, 11, 12, 10, 11, 8, 9, 9],\n",
       " [2, 7, 8, 9, 10, 12, 11, 12, 10, 11, 8, 9, 9],\n",
       " [2, 7, 8, 9, 11, 12, 11, 12, 10, 11, 8, 9, 9],\n",
       " [2, 7, 8, 9, 12, 12, 11, 12, 10, 11, 8, 9, 9],\n",
       " [2, 7, 8, 9, 0, 12, 11, 12, 10, 11, 8, 9, 9],\n",
       " [2, 7, 8, 9, 9, 2, 11, 12, 10, 11, 8, 9, 9],\n",
       " [2, 7, 8, 9, 9, 7, 11, 12, 10, 11, 8, 9, 9],\n",
       " [2, 7, 8, 9, 9, 8, 11, 12, 10, 11, 8, 9, 9],\n",
       " [2, 7, 8, 9, 9, 9, 11, 12, 10, 11, 8, 9, 9],\n",
       " [2, 7, 8, 9, 9, 10, 11, 12, 10, 11, 8, 9, 9],\n",
       " [2, 7, 8, 9, 9, 11, 11, 12, 10, 11, 8, 9, 9],\n",
       " [2, 7, 8, 9, 9, 0, 11, 12, 10, 11, 8, 9, 9],\n",
       " [2, 7, 8, 9, 9, 12, 2, 12, 10, 11, 8, 9, 9],\n",
       " [2, 7, 8, 9, 9, 12, 7, 12, 10, 11, 8, 9, 9],\n",
       " [2, 7, 8, 9, 9, 12, 8, 12, 10, 11, 8, 9, 9],\n",
       " [2, 7, 8, 9, 9, 12, 9, 12, 10, 11, 8, 9, 9],\n",
       " [2, 7, 8, 9, 9, 12, 10, 12, 10, 11, 8, 9, 9],\n",
       " [2, 7, 8, 9, 9, 12, 12, 12, 10, 11, 8, 9, 9],\n",
       " [2, 7, 8, 9, 9, 12, 0, 12, 10, 11, 8, 9, 9],\n",
       " [2, 7, 8, 9, 9, 12, 11, 2, 10, 11, 8, 9, 9],\n",
       " [2, 7, 8, 9, 9, 12, 11, 7, 10, 11, 8, 9, 9],\n",
       " [2, 7, 8, 9, 9, 12, 11, 8, 10, 11, 8, 9, 9],\n",
       " [2, 7, 8, 9, 9, 12, 11, 9, 10, 11, 8, 9, 9],\n",
       " [2, 7, 8, 9, 9, 12, 11, 10, 10, 11, 8, 9, 9],\n",
       " [2, 7, 8, 9, 9, 12, 11, 11, 10, 11, 8, 9, 9],\n",
       " [2, 7, 8, 9, 9, 12, 11, 0, 10, 11, 8, 9, 9],\n",
       " [2, 7, 8, 9, 9, 12, 11, 12, 2, 11, 8, 9, 9],\n",
       " [2, 7, 8, 9, 9, 12, 11, 12, 7, 11, 8, 9, 9],\n",
       " [2, 7, 8, 9, 9, 12, 11, 12, 8, 11, 8, 9, 9],\n",
       " [2, 7, 8, 9, 9, 12, 11, 12, 9, 11, 8, 9, 9],\n",
       " [2, 7, 8, 9, 9, 12, 11, 12, 11, 11, 8, 9, 9],\n",
       " [2, 7, 8, 9, 9, 12, 11, 12, 12, 11, 8, 9, 9],\n",
       " [2, 7, 8, 9, 9, 12, 11, 12, 0, 11, 8, 9, 9],\n",
       " [2, 7, 8, 9, 9, 12, 11, 12, 10, 2, 8, 9, 9],\n",
       " [2, 7, 8, 9, 9, 12, 11, 12, 10, 7, 8, 9, 9],\n",
       " [2, 7, 8, 9, 9, 12, 11, 12, 10, 8, 8, 9, 9],\n",
       " [2, 7, 8, 9, 9, 12, 11, 12, 10, 9, 8, 9, 9],\n",
       " [2, 7, 8, 9, 9, 12, 11, 12, 10, 10, 8, 9, 9],\n",
       " [2, 7, 8, 9, 9, 12, 11, 12, 10, 12, 8, 9, 9],\n",
       " [2, 7, 8, 9, 9, 12, 11, 12, 10, 0, 8, 9, 9],\n",
       " [2, 7, 8, 9, 9, 12, 11, 12, 10, 11, 2, 9, 9],\n",
       " [2, 7, 8, 9, 9, 12, 11, 12, 10, 11, 7, 9, 9],\n",
       " [2, 7, 8, 9, 9, 12, 11, 12, 10, 11, 9, 9, 9],\n",
       " [2, 7, 8, 9, 9, 12, 11, 12, 10, 11, 10, 9, 9],\n",
       " [2, 7, 8, 9, 9, 12, 11, 12, 10, 11, 11, 9, 9],\n",
       " [2, 7, 8, 9, 9, 12, 11, 12, 10, 11, 12, 9, 9],\n",
       " [2, 7, 8, 9, 9, 12, 11, 12, 10, 11, 0, 9, 9],\n",
       " [2, 7, 8, 9, 9, 12, 11, 12, 10, 11, 8, 2, 9],\n",
       " [2, 7, 8, 9, 9, 12, 11, 12, 10, 11, 8, 7, 9],\n",
       " [2, 7, 8, 9, 9, 12, 11, 12, 10, 11, 8, 8, 9],\n",
       " [2, 7, 8, 9, 9, 12, 11, 12, 10, 11, 8, 10, 9],\n",
       " [2, 7, 8, 9, 9, 12, 11, 12, 10, 11, 8, 11, 9],\n",
       " [2, 7, 8, 9, 9, 12, 11, 12, 10, 11, 8, 12, 9],\n",
       " [2, 7, 8, 9, 9, 12, 11, 12, 10, 11, 8, 0, 9],\n",
       " [2, 7, 8, 9, 9, 12, 11, 12, 10, 11, 8, 9, 2],\n",
       " [2, 7, 8, 9, 9, 12, 11, 12, 10, 11, 8, 9, 7],\n",
       " [2, 7, 8, 9, 9, 12, 11, 12, 10, 11, 8, 9, 8],\n",
       " [2, 7, 8, 9, 9, 12, 11, 12, 10, 11, 8, 9, 10],\n",
       " [2, 7, 8, 9, 9, 12, 11, 12, 10, 11, 8, 9, 11],\n",
       " [2, 7, 8, 9, 9, 12, 11, 12, 10, 11, 8, 9, 12],\n",
       " [2, 7, 8, 9, 9, 12, 11, 12, 10, 11, 8, 9, 0]]"
      ]
     },
     "execution_count": 54,
     "metadata": {},
     "output_type": "execute_result"
    }
   ],
   "source": [
    "get_neighbours(x)"
   ]
  },
  {
   "cell_type": "markdown",
   "metadata": {},
   "source": [
    "The quality of a partitioning depends on how many interdependent nodes are in the same clusters, and how many independent nodes are in separate clusters. This notion is captured in the _Modularisation Quality (MQ)_ metric. \n",
    "\n",
    "The MQ is calculated as the sum of modularisation factors of all clusters in a partition. \n",
    "\n",
    "$MQ = \\Sigma MF_k$\n",
    "\n",
    "The modularisation factor depends on two factors:\n",
    "- Intra-edges i: Edges that start and end within the same cluster\n",
    "- Inter-edges j: Edges which start and end in different clusters\n",
    "\n",
    "$MF_k = \\frac{i}{i + \\frac{1}{2}j}$ if $i > 0$ else $0$."
   ]
  },
  {
   "cell_type": "code",
   "execution_count": 55,
   "metadata": {},
   "outputs": [],
   "source": [
    "def get_fitness(individual):\n",
    "    mq = 0.0\n",
    "\n",
    "    for cluster in set(individual):\n",
    "        modules_in_cluster = [position for position in range(len(individual)) if individual[position] == cluster]\n",
    "        i = 0.0\n",
    "        for pos1 in range(len(modules_in_cluster) - 1):\n",
    "            for pos2 in range(pos1 + 1, len(modules_in_cluster)):\n",
    "                if (pos1, pos2) in connections or (pos2, pos1) in connections:\n",
    "                    i += 1.0\n",
    "        modules_not_in_cluster = [position for position in range(len(individual)) if individual[position] != cluster]\n",
    "        j = 0.0\n",
    "        for pos1 in range(len(modules_not_in_cluster) - 1):\n",
    "            for pos2 in range(pos1 + 1, len(modules_not_in_cluster)):\n",
    "                if (pos1, pos2) in connections or (pos2, pos1) in connections:\n",
    "                    j += 1.0\n",
    "        mf = 0.0\n",
    "        if i > 0.0:\n",
    "            mf = i/(i + 0.5*j)\n",
    "        mq = mq + mf\n",
    "\n",
    "    return mq"
   ]
  },
  {
   "cell_type": "markdown",
   "metadata": {},
   "source": [
    "The larger MQ, the better the modularisation; that is, we can use MQ as a maximisation fitness function."
   ]
  },
  {
   "cell_type": "markdown",
   "metadata": {},
   "source": [
    "As a baseline, we'll include a simple hillclimber again."
   ]
  },
  {
   "cell_type": "code",
   "execution_count": 56,
   "metadata": {},
   "outputs": [],
   "source": [
    "def hillclimbing():\n",
    "\n",
    "    current = get_random_solution()\n",
    "    fitness = get_fitness(current)\n",
    "    best = current[:]\n",
    "    best_fitness = fitness\n",
    "    print(f\"Starting at fitness {best_fitness}: {current}\")\n",
    "\n",
    "    step = 0\n",
    "    while step < max_steps:\n",
    "\n",
    "        replaced = False\n",
    "        for neighbour in get_neighbours(current):\n",
    "            neighbour_fitness = get_fitness(neighbour)\n",
    "            step += 1\n",
    "            if neighbour_fitness > fitness:\n",
    "                current = neighbour\n",
    "                fitness = neighbour_fitness\n",
    "                replaced = True\n",
    "                if fitness > best_fitness:\n",
    "                    print(f\"Iteration {step}, fitness {best_fitness}: {best}\")\n",
    "                    best = current[:]\n",
    "                    best_fitness = fitness\n",
    "\n",
    "                fitness_values.append(best_fitness)\n",
    "                break\n",
    "            else:\n",
    "                fitness_values.append(best_fitness)\n",
    "\n",
    "        # Random restart if no neighbour is better\n",
    "        if not replaced:\n",
    "            current = get_random_solution()\n",
    "            fitness = get_fitness(current)\n",
    "            step += 1\n",
    "            if fitness > best_fitness:\n",
    "                print(f\"Iteration {step}, fitness {best_fitness}: {best}\")\n",
    "                best = current[:]\n",
    "                best_fitness = fitness\n",
    "                fitness_values.append(best_fitness)\n",
    "\n",
    "\n",
    "    print(f\"Solution fitness {best_fitness}: {best}\")\n",
    "    return best"
   ]
  },
  {
   "cell_type": "markdown",
   "metadata": {},
   "source": [
    "Here's what the hillclimber suggests for our `compiler` example:"
   ]
  },
  {
   "cell_type": "code",
   "execution_count": 57,
   "metadata": {},
   "outputs": [
    {
     "name": "stdout",
     "output_type": "stream",
     "text": [
      "Starting at fitness 0.2: [0, 9, 12, 10, 4, 4, 11, 8, 3, 10, 5, 8, 2]\n",
      "Iteration 1, fitness 0.2: [0, 9, 12, 10, 4, 4, 11, 8, 3, 10, 5, 8, 2]\n",
      "Iteration 3, fitness 0.26666666666666666: [2, 9, 12, 10, 4, 4, 11, 8, 3, 10, 5, 8, 2]\n",
      "Iteration 13, fitness 0.34022988505747126: [4, 9, 12, 10, 4, 4, 11, 8, 3, 10, 5, 8, 2]\n",
      "Iteration 18, fitness 0.4068965517241379: [4, 2, 12, 10, 4, 4, 11, 8, 3, 10, 5, 8, 2]\n",
      "Iteration 28, fitness 0.40689655172413797: [10, 2, 12, 10, 4, 4, 11, 8, 3, 10, 5, 8, 2]\n",
      "Iteration 31, fitness 0.48045977011494256: [10, 4, 12, 10, 4, 4, 11, 8, 3, 10, 5, 8, 2]\n",
      "Iteration 48, fitness 0.49696969696969695: [4, 4, 12, 10, 4, 4, 11, 8, 3, 10, 5, 8, 2]\n",
      "Iteration 64, fitness 0.5636363636363636: [4, 4, 2, 10, 4, 4, 11, 8, 3, 10, 5, 8, 2]\n",
      "Iteration 68, fitness 0.6181818181818182: [4, 4, 4, 10, 4, 4, 11, 8, 3, 10, 5, 8, 2]\n",
      "Iteration 92, fitness 0.6371995820271682: [8, 4, 4, 10, 4, 4, 11, 8, 3, 10, 5, 8, 2]\n",
      "Iteration 95, fitness 0.6917450365726228: [8, 4, 4, 4, 4, 4, 11, 8, 3, 10, 5, 8, 2]\n",
      "Iteration 138, fitness 0.6952380952380952: [4, 4, 4, 4, 4, 4, 11, 8, 3, 10, 5, 8, 2]\n",
      "Iteration 176, fitness 0.7619047619047619: [4, 4, 4, 4, 4, 4, 2, 8, 3, 10, 5, 8, 2]\n",
      "Iteration 180, fitness 0.7693693693693694: [4, 4, 4, 4, 4, 4, 4, 8, 3, 10, 5, 8, 2]\n",
      "Iteration 190, fitness 0.8354679802955665: [8, 4, 4, 4, 4, 4, 4, 8, 3, 10, 5, 8, 2]\n",
      "Iteration 239, fitness 0.8484848484848485: [8, 8, 4, 4, 4, 4, 4, 8, 3, 10, 5, 8, 2]\n",
      "Iteration 250, fitness 0.9151515151515152: [8, 8, 4, 4, 4, 4, 4, 8, 2, 10, 5, 8, 2]\n",
      "Iteration 296, fitness 0.9341692789968652: [8, 8, 2, 4, 4, 4, 4, 8, 2, 10, 5, 8, 2]\n",
      "Iteration 337, fitness 1.0909090909090908: [8, 8, 2, 4, 4, 4, 4, 8, 2, 2, 5, 8, 2]\n",
      "Iteration 556, fitness 1.2121212121212122: [8, 8, 2, 4, 4, 4, 4, 8, 2, 2, 8, 8, 2]\n",
      "Iteration 593, fitness 1.2571428571428571: [11, 11, 11, 11, 1, 1, 1, 1, 11, 11, 1, 1, 12]\n",
      "Solution fitness 1.3312741312741312: [11, 11, 11, 11, 1, 1, 1, 1, 11, 11, 1, 1, 1]\n"
     ]
    },
    {
     "data": {
      "image/svg+xml": [
       "<?xml version=\"1.0\" encoding=\"UTF-8\" standalone=\"no\"?>\n",
       "<!DOCTYPE svg PUBLIC \"-//W3C//DTD SVG 1.1//EN\"\n",
       " \"http://www.w3.org/Graphics/SVG/1.1/DTD/svg11.dtd\">\n",
       "<!-- Generated by graphviz version 2.44.1 (20200629.0846)\n",
       " -->\n",
       "<!-- Pages: 1 -->\n",
       "<svg width=\"818pt\" height=\"364pt\"\n",
       " viewBox=\"0.00 0.00 818.00 364.00\" xmlns=\"http://www.w3.org/2000/svg\" xmlns:xlink=\"http://www.w3.org/1999/xlink\">\n",
       "<g id=\"graph0\" class=\"graph\" transform=\"scale(1 1) rotate(0) translate(4 360)\">\n",
       "<polygon fill=\"white\" stroke=\"transparent\" points=\"-4,4 -4,-360 814,-360 814,4 -4,4\"/>\n",
       "<g id=\"clust1\" class=\"cluster\">\n",
       "<title>cluster1</title>\n",
       "<polygon fill=\"none\" stroke=\"black\" points=\"8,-8 8,-204 390,-204 390,-8 8,-8\"/>\n",
       "</g>\n",
       "<g id=\"clust2\" class=\"cluster\">\n",
       "<title>cluster2</title>\n",
       "<polygon fill=\"none\" stroke=\"black\" points=\"506,-8 506,-348 802,-348 802,-8 506,-8\"/>\n",
       "</g>\n",
       "<!-- scanner -->\n",
       "<g id=\"node1\" class=\"node\">\n",
       "<title>scanner</title>\n",
       "<ellipse fill=\"none\" stroke=\"black\" cx=\"344\" cy=\"-178\" rx=\"37.89\" ry=\"18\"/>\n",
       "<text text-anchor=\"middle\" x=\"344\" y=\"-174.3\" font-family=\"Times,serif\" font-size=\"14.00\">scanner</text>\n",
       "</g>\n",
       "<!-- declarations -->\n",
       "<g id=\"node9\" class=\"node\">\n",
       "<title>declarations</title>\n",
       "<ellipse fill=\"none\" stroke=\"black\" cx=\"567\" cy=\"-34\" rx=\"53.09\" ry=\"18\"/>\n",
       "<text text-anchor=\"middle\" x=\"567\" y=\"-30.3\" font-family=\"Times,serif\" font-size=\"14.00\">declarations</text>\n",
       "</g>\n",
       "<!-- scanner&#45;&gt;declarations -->\n",
       "<g id=\"edge14\" class=\"edge\">\n",
       "<title>scanner&#45;&gt;declarations</title>\n",
       "<path fill=\"none\" stroke=\"black\" d=\"M373.28,-166.51C397.89,-157.08 433.51,-141.97 462,-124 464.16,-122.64 510.14,-83.5 540.54,-57.59\"/>\n",
       "<polygon fill=\"black\" stroke=\"black\" points=\"542.93,-60.14 548.27,-50.99 538.39,-54.82 542.93,-60.14\"/>\n",
       "</g>\n",
       "<!-- scopeController -->\n",
       "<g id=\"node2\" class=\"node\">\n",
       "<title>scopeController</title>\n",
       "<ellipse fill=\"none\" stroke=\"black\" cx=\"221\" cy=\"-178\" rx=\"66.89\" ry=\"18\"/>\n",
       "<text text-anchor=\"middle\" x=\"221\" y=\"-174.3\" font-family=\"Times,serif\" font-size=\"14.00\">scopeController</text>\n",
       "</g>\n",
       "<!-- dictionary -->\n",
       "<g id=\"node4\" class=\"node\">\n",
       "<title>dictionary</title>\n",
       "<ellipse fill=\"none\" stroke=\"black\" cx=\"336\" cy=\"-106\" rx=\"46.29\" ry=\"18\"/>\n",
       "<text text-anchor=\"middle\" x=\"336\" y=\"-102.3\" font-family=\"Times,serif\" font-size=\"14.00\">dictionary</text>\n",
       "</g>\n",
       "<!-- scopeController&#45;&gt;dictionary -->\n",
       "<g id=\"edge16\" class=\"edge\">\n",
       "<title>scopeController&#45;&gt;dictionary</title>\n",
       "<path fill=\"none\" stroke=\"black\" d=\"M246.81,-161.29C263.5,-151.13 285.37,-137.82 303.28,-126.91\"/>\n",
       "<polygon fill=\"black\" stroke=\"black\" points=\"305.52,-129.65 312.24,-121.46 301.88,-123.67 305.52,-129.65\"/>\n",
       "</g>\n",
       "<!-- dictStack -->\n",
       "<g id=\"node5\" class=\"node\">\n",
       "<title>dictStack</title>\n",
       "<ellipse fill=\"none\" stroke=\"black\" cx=\"336\" cy=\"-34\" rx=\"43.59\" ry=\"18\"/>\n",
       "<text text-anchor=\"middle\" x=\"336\" y=\"-30.3\" font-family=\"Times,serif\" font-size=\"14.00\">dictStack</text>\n",
       "</g>\n",
       "<!-- scopeController&#45;&gt;dictStack -->\n",
       "<g id=\"edge18\" class=\"edge\">\n",
       "<title>scopeController&#45;&gt;dictStack</title>\n",
       "<path fill=\"none\" stroke=\"black\" d=\"M234.59,-160.25C242.64,-150.03 252.83,-136.56 261,-124 270.98,-108.66 269.84,-102.51 281,-88 289.42,-77.05 300.09,-66.24 309.79,-57.26\"/>\n",
       "<polygon fill=\"black\" stroke=\"black\" points=\"312.22,-59.79 317.3,-50.49 307.53,-54.59 312.22,-59.79\"/>\n",
       "</g>\n",
       "<!-- scopeController&#45;&gt;declarations -->\n",
       "<g id=\"edge15\" class=\"edge\">\n",
       "<title>scopeController&#45;&gt;declarations</title>\n",
       "<path fill=\"none\" stroke=\"black\" d=\"M269.75,-165.62C325.39,-152.42 410.47,-131.51 424,-124 444.34,-112.71 442.97,-101.38 462,-88 481.61,-74.21 505.32,-61.92 525.24,-52.66\"/>\n",
       "<polygon fill=\"black\" stroke=\"black\" points=\"526.74,-55.82 534.39,-48.49 523.84,-49.45 526.74,-55.82\"/>\n",
       "</g>\n",
       "<!-- dictIdxStack -->\n",
       "<g id=\"node12\" class=\"node\">\n",
       "<title>dictIdxStack</title>\n",
       "<ellipse fill=\"none\" stroke=\"black\" cx=\"569\" cy=\"-106\" rx=\"55.49\" ry=\"18\"/>\n",
       "<text text-anchor=\"middle\" x=\"569\" y=\"-102.3\" font-family=\"Times,serif\" font-size=\"14.00\">dictIdxStack</text>\n",
       "</g>\n",
       "<!-- scopeController&#45;&gt;dictIdxStack -->\n",
       "<g id=\"edge17\" class=\"edge\">\n",
       "<title>scopeController&#45;&gt;dictIdxStack</title>\n",
       "<path fill=\"none\" stroke=\"black\" d=\"M270.42,-165.74C279.26,-163.78 288.4,-161.8 297,-160 371.26,-144.46 457.23,-127.96 512.32,-117.57\"/>\n",
       "<polygon fill=\"black\" stroke=\"black\" points=\"513.05,-121 522.23,-115.71 511.76,-114.12 513.05,-121\"/>\n",
       "</g>\n",
       "<!-- typeChecker -->\n",
       "<g id=\"node3\" class=\"node\">\n",
       "<title>typeChecker</title>\n",
       "<ellipse fill=\"none\" stroke=\"black\" cx=\"81\" cy=\"-178\" rx=\"55.49\" ry=\"18\"/>\n",
       "<text text-anchor=\"middle\" x=\"81\" y=\"-174.3\" font-family=\"Times,serif\" font-size=\"14.00\">typeChecker</text>\n",
       "</g>\n",
       "<!-- typeChecker&#45;&gt;dictionary -->\n",
       "<g id=\"edge21\" class=\"edge\">\n",
       "<title>typeChecker&#45;&gt;dictionary</title>\n",
       "<path fill=\"none\" stroke=\"black\" d=\"M121.97,-165.75C167.71,-153.2 241.58,-132.92 289.47,-119.77\"/>\n",
       "<polygon fill=\"black\" stroke=\"black\" points=\"290.55,-123.11 299.27,-117.08 288.7,-116.35 290.55,-123.11\"/>\n",
       "</g>\n",
       "<!-- typeChecker&#45;&gt;dictStack -->\n",
       "<g id=\"edge20\" class=\"edge\">\n",
       "<title>typeChecker&#45;&gt;dictStack</title>\n",
       "<path fill=\"none\" stroke=\"black\" d=\"M59.71,-161.24C37.15,-142.66 7.31,-111.35 27,-88 59.02,-50.02 202.51,-39.25 282.2,-36.2\"/>\n",
       "<polygon fill=\"black\" stroke=\"black\" points=\"282.66,-39.69 292.53,-35.84 282.41,-32.7 282.66,-39.69\"/>\n",
       "</g>\n",
       "<!-- typeStack -->\n",
       "<g id=\"node6\" class=\"node\">\n",
       "<title>typeStack</title>\n",
       "<ellipse fill=\"none\" stroke=\"black\" cx=\"81\" cy=\"-106\" rx=\"45.49\" ry=\"18\"/>\n",
       "<text text-anchor=\"middle\" x=\"81\" y=\"-102.3\" font-family=\"Times,serif\" font-size=\"14.00\">typeStack</text>\n",
       "</g>\n",
       "<!-- typeChecker&#45;&gt;typeStack -->\n",
       "<g id=\"edge23\" class=\"edge\">\n",
       "<title>typeChecker&#45;&gt;typeStack</title>\n",
       "<path fill=\"none\" stroke=\"black\" d=\"M81,-159.7C81,-151.98 81,-142.71 81,-134.11\"/>\n",
       "<polygon fill=\"black\" stroke=\"black\" points=\"84.5,-134.1 81,-124.1 77.5,-134.1 84.5,-134.1\"/>\n",
       "</g>\n",
       "<!-- argCntStack -->\n",
       "<g id=\"node7\" class=\"node\">\n",
       "<title>argCntStack</title>\n",
       "<ellipse fill=\"none\" stroke=\"black\" cx=\"198\" cy=\"-106\" rx=\"53.89\" ry=\"18\"/>\n",
       "<text text-anchor=\"middle\" x=\"198\" y=\"-102.3\" font-family=\"Times,serif\" font-size=\"14.00\">argCntStack</text>\n",
       "</g>\n",
       "<!-- typeChecker&#45;&gt;argCntStack -->\n",
       "<g id=\"edge24\" class=\"edge\">\n",
       "<title>typeChecker&#45;&gt;argCntStack</title>\n",
       "<path fill=\"none\" stroke=\"black\" d=\"M106.39,-161.81C123.25,-151.72 145.59,-138.36 163.99,-127.35\"/>\n",
       "<polygon fill=\"black\" stroke=\"black\" points=\"165.88,-130.3 172.66,-122.16 162.28,-124.29 165.88,-130.3\"/>\n",
       "</g>\n",
       "<!-- typeChecker&#45;&gt;declarations -->\n",
       "<g id=\"edge19\" class=\"edge\">\n",
       "<title>typeChecker&#45;&gt;declarations</title>\n",
       "<path fill=\"none\" stroke=\"black\" d=\"M121.12,-165.59C129,-163.57 137.23,-161.6 145,-160 253.24,-137.78 293.35,-175.72 391,-124 410.18,-113.84 405.99,-100.11 424,-88 451.52,-69.5 486.33,-56.42 514.72,-47.88\"/>\n",
       "<polygon fill=\"black\" stroke=\"black\" points=\"515.85,-51.2 524.47,-45.05 513.89,-44.47 515.85,-51.2\"/>\n",
       "</g>\n",
       "<!-- typeChecker&#45;&gt;dictIdxStack -->\n",
       "<g id=\"edge22\" class=\"edge\">\n",
       "<title>typeChecker&#45;&gt;dictIdxStack</title>\n",
       "<path fill=\"none\" stroke=\"black\" d=\"M121.09,-165.46C128.97,-163.45 137.21,-161.51 145,-160 179.79,-153.24 398.88,-127.04 507.75,-114.19\"/>\n",
       "<polygon fill=\"black\" stroke=\"black\" points=\"508.41,-117.64 517.93,-112.99 507.59,-110.69 508.41,-117.64\"/>\n",
       "</g>\n",
       "<!-- dictionary&#45;&gt;dictStack -->\n",
       "<g id=\"edge26\" class=\"edge\">\n",
       "<title>dictionary&#45;&gt;dictStack</title>\n",
       "<path fill=\"none\" stroke=\"black\" d=\"M336,-87.7C336,-79.98 336,-70.71 336,-62.11\"/>\n",
       "<polygon fill=\"black\" stroke=\"black\" points=\"339.5,-62.1 336,-52.1 332.5,-62.1 339.5,-62.1\"/>\n",
       "</g>\n",
       "<!-- dictionary&#45;&gt;declarations -->\n",
       "<g id=\"edge25\" class=\"edge\">\n",
       "<title>dictionary&#45;&gt;declarations</title>\n",
       "<path fill=\"none\" stroke=\"black\" d=\"M371.34,-94.29C410.82,-82.33 474.95,-62.89 518.97,-49.56\"/>\n",
       "<polygon fill=\"black\" stroke=\"black\" points=\"520.03,-52.89 528.59,-46.64 518,-46.19 520.03,-52.89\"/>\n",
       "</g>\n",
       "<!-- dictStack&#45;&gt;declarations -->\n",
       "<g id=\"edge30\" class=\"edge\">\n",
       "<title>dictStack&#45;&gt;declarations</title>\n",
       "<path fill=\"none\" stroke=\"black\" d=\"M379.76,-34C420.98,-34 462.2,-34 503.41,-34\"/>\n",
       "<polygon fill=\"black\" stroke=\"black\" points=\"503.61,-37.5 513.61,-34 503.61,-30.5 503.61,-37.5\"/>\n",
       "</g>\n",
       "<!-- typeStack&#45;&gt;declarations -->\n",
       "<g id=\"edge31\" class=\"edge\">\n",
       "<title>typeStack&#45;&gt;declarations</title>\n",
       "<path fill=\"none\" stroke=\"black\" d=\"M114.16,-93.51C120.99,-91.44 128.18,-89.48 135,-88 204.43,-72.94 404.95,-51.41 506.51,-41.04\"/>\n",
       "<polygon fill=\"black\" stroke=\"black\" points=\"507.02,-44.51 516.62,-40.01 506.31,-37.54 507.02,-44.51\"/>\n",
       "</g>\n",
       "<!-- argCntStack&#45;&gt;declarations -->\n",
       "<g id=\"edge32\" class=\"edge\">\n",
       "<title>argCntStack&#45;&gt;declarations</title>\n",
       "<path fill=\"none\" stroke=\"black\" d=\"M242.77,-95.67C255.14,-93.13 268.58,-90.42 281,-88 360.72,-72.45 453.16,-55.52 510.87,-45.08\"/>\n",
       "<polygon fill=\"black\" stroke=\"black\" points=\"511.66,-48.49 520.88,-43.27 510.42,-41.6 511.66,-48.49\"/>\n",
       "</g>\n",
       "<!-- main -->\n",
       "<g id=\"node8\" class=\"node\">\n",
       "<title>main</title>\n",
       "<ellipse fill=\"none\" stroke=\"black\" cx=\"663\" cy=\"-322\" rx=\"28.7\" ry=\"18\"/>\n",
       "<text text-anchor=\"middle\" x=\"663\" y=\"-318.3\" font-family=\"Times,serif\" font-size=\"14.00\">main</text>\n",
       "</g>\n",
       "<!-- main&#45;&gt;declarations -->\n",
       "<g id=\"edge1\" class=\"edge\">\n",
       "<title>main&#45;&gt;declarations</title>\n",
       "<path fill=\"none\" stroke=\"black\" d=\"M680.23,-307.35C725.68,-269.74 841.41,-162.47 783,-88 763.92,-63.67 684.19,-49.04 627.16,-41.5\"/>\n",
       "<polygon fill=\"black\" stroke=\"black\" points=\"627.51,-38.01 617.15,-40.21 626.62,-44.96 627.51,-38.01\"/>\n",
       "</g>\n",
       "<!-- parser -->\n",
       "<g id=\"node10\" class=\"node\">\n",
       "<title>parser</title>\n",
       "<ellipse fill=\"none\" stroke=\"black\" cx=\"564\" cy=\"-250\" rx=\"32.49\" ry=\"18\"/>\n",
       "<text text-anchor=\"middle\" x=\"564\" y=\"-246.3\" font-family=\"Times,serif\" font-size=\"14.00\">parser</text>\n",
       "</g>\n",
       "<!-- main&#45;&gt;parser -->\n",
       "<g id=\"edge2\" class=\"edge\">\n",
       "<title>main&#45;&gt;parser</title>\n",
       "<path fill=\"none\" stroke=\"black\" d=\"M644.38,-307.83C629.5,-297.31 608.42,-282.41 591.58,-270.5\"/>\n",
       "<polygon fill=\"black\" stroke=\"black\" points=\"593.4,-267.5 583.21,-264.58 589.36,-273.22 593.4,-267.5\"/>\n",
       "</g>\n",
       "<!-- codeGenerator -->\n",
       "<g id=\"node11\" class=\"node\">\n",
       "<title>codeGenerator</title>\n",
       "<ellipse fill=\"none\" stroke=\"black\" cx=\"663\" cy=\"-178\" rx=\"62.29\" ry=\"18\"/>\n",
       "<text text-anchor=\"middle\" x=\"663\" y=\"-174.3\" font-family=\"Times,serif\" font-size=\"14.00\">codeGenerator</text>\n",
       "</g>\n",
       "<!-- main&#45;&gt;codeGenerator -->\n",
       "<g id=\"edge3\" class=\"edge\">\n",
       "<title>main&#45;&gt;codeGenerator</title>\n",
       "<path fill=\"none\" stroke=\"black\" d=\"M663,-303.87C663,-279.67 663,-235.21 663,-206.39\"/>\n",
       "<polygon fill=\"black\" stroke=\"black\" points=\"666.5,-206.19 663,-196.19 659.5,-206.19 666.5,-206.19\"/>\n",
       "</g>\n",
       "<!-- parser&#45;&gt;scanner -->\n",
       "<g id=\"edge5\" class=\"edge\">\n",
       "<title>parser&#45;&gt;scanner</title>\n",
       "<path fill=\"none\" stroke=\"black\" d=\"M536.58,-240.28C498.24,-228.08 428.37,-205.85 384.16,-191.78\"/>\n",
       "<polygon fill=\"black\" stroke=\"black\" points=\"385.19,-188.43 374.6,-188.73 383.06,-195.1 385.19,-188.43\"/>\n",
       "</g>\n",
       "<!-- parser&#45;&gt;scopeController -->\n",
       "<g id=\"edge6\" class=\"edge\">\n",
       "<title>parser&#45;&gt;scopeController</title>\n",
       "<path fill=\"none\" stroke=\"black\" d=\"M532.45,-245.25C482.16,-238.92 380.97,-224.76 297,-204 287.89,-201.75 278.29,-198.94 269.11,-196.03\"/>\n",
       "<polygon fill=\"black\" stroke=\"black\" points=\"269.93,-192.62 259.34,-192.86 267.76,-199.28 269.93,-192.62\"/>\n",
       "</g>\n",
       "<!-- parser&#45;&gt;typeChecker -->\n",
       "<g id=\"edge7\" class=\"edge\">\n",
       "<title>parser&#45;&gt;typeChecker</title>\n",
       "<path fill=\"none\" stroke=\"black\" d=\"M531.43,-248.43C460.29,-246.54 286.07,-238.48 145,-204 137.26,-202.11 129.2,-199.5 121.52,-196.68\"/>\n",
       "<polygon fill=\"black\" stroke=\"black\" points=\"122.63,-193.36 112.04,-193.03 120.11,-199.89 122.63,-193.36\"/>\n",
       "</g>\n",
       "<!-- parser&#45;&gt;declarations -->\n",
       "<g id=\"edge4\" class=\"edge\">\n",
       "<title>parser&#45;&gt;declarations</title>\n",
       "<path fill=\"none\" stroke=\"black\" d=\"M566.57,-231.75C569.99,-212.89 577.41,-182.39 592,-160 605.24,-139.68 623,-146.09 633,-124 639.6,-109.42 639.92,-102.43 633,-88 626.61,-74.67 615.05,-63.63 603.37,-55.15\"/>\n",
       "<polygon fill=\"black\" stroke=\"black\" points=\"605.16,-52.13 594.92,-49.42 601.24,-57.93 605.16,-52.13\"/>\n",
       "</g>\n",
       "<!-- parser&#45;&gt;codeGenerator -->\n",
       "<g id=\"edge8\" class=\"edge\">\n",
       "<title>parser&#45;&gt;codeGenerator</title>\n",
       "<path fill=\"none\" stroke=\"black\" d=\"M583.56,-235.17C597.35,-225.42 616.1,-212.16 631.92,-200.97\"/>\n",
       "<polygon fill=\"black\" stroke=\"black\" points=\"634.22,-203.64 640.36,-195.01 630.18,-197.92 634.22,-203.64\"/>\n",
       "</g>\n",
       "<!-- codeGenerator&#45;&gt;scopeController -->\n",
       "<g id=\"edge12\" class=\"edge\">\n",
       "<title>codeGenerator&#45;&gt;scopeController</title>\n",
       "<path fill=\"none\" stroke=\"black\" d=\"M621.29,-191.49C554.16,-211.25 418.3,-243.1 306,-218 289.29,-214.26 271.99,-206.86 257.39,-199.43\"/>\n",
       "<polygon fill=\"black\" stroke=\"black\" points=\"258.7,-196.17 248.22,-194.58 255.42,-202.35 258.7,-196.17\"/>\n",
       "</g>\n",
       "<!-- codeGenerator&#45;&gt;dictionary -->\n",
       "<g id=\"edge10\" class=\"edge\">\n",
       "<title>codeGenerator&#45;&gt;dictionary</title>\n",
       "<path fill=\"none\" stroke=\"black\" d=\"M614.4,-166.6C552.88,-153.43 447.49,-130.87 385.54,-117.6\"/>\n",
       "<polygon fill=\"black\" stroke=\"black\" points=\"386.12,-114.15 375.61,-115.48 384.66,-120.99 386.12,-114.15\"/>\n",
       "</g>\n",
       "<!-- codeGenerator&#45;&gt;declarations -->\n",
       "<g id=\"edge9\" class=\"edge\">\n",
       "<title>codeGenerator&#45;&gt;declarations</title>\n",
       "<path fill=\"none\" stroke=\"black\" d=\"M664.02,-159.81C664.32,-140.73 662.24,-109.77 648,-88 638.4,-73.32 623.17,-61.81 608.49,-53.31\"/>\n",
       "<polygon fill=\"black\" stroke=\"black\" points=\"609.94,-50.11 599.48,-48.41 606.6,-56.26 609.94,-50.11\"/>\n",
       "</g>\n",
       "<!-- codeGenerator&#45;&gt;dictIdxStack -->\n",
       "<g id=\"edge11\" class=\"edge\">\n",
       "<title>codeGenerator&#45;&gt;dictIdxStack</title>\n",
       "<path fill=\"none\" stroke=\"black\" d=\"M641.2,-160.76C628.44,-151.27 612.17,-139.15 598.31,-128.82\"/>\n",
       "<polygon fill=\"black\" stroke=\"black\" points=\"600.15,-125.83 590.04,-122.67 595.97,-131.45 600.15,-125.83\"/>\n",
       "</g>\n",
       "<!-- addrStack -->\n",
       "<g id=\"node13\" class=\"node\">\n",
       "<title>addrStack</title>\n",
       "<ellipse fill=\"none\" stroke=\"black\" cx=\"728\" cy=\"-106\" rx=\"46.29\" ry=\"18\"/>\n",
       "<text text-anchor=\"middle\" x=\"728\" y=\"-102.3\" font-family=\"Times,serif\" font-size=\"14.00\">addrStack</text>\n",
       "</g>\n",
       "<!-- codeGenerator&#45;&gt;addrStack -->\n",
       "<g id=\"edge13\" class=\"edge\">\n",
       "<title>codeGenerator&#45;&gt;addrStack</title>\n",
       "<path fill=\"none\" stroke=\"black\" d=\"M678.4,-160.41C686.58,-151.61 696.77,-140.63 705.79,-130.92\"/>\n",
       "<polygon fill=\"black\" stroke=\"black\" points=\"708.47,-133.18 712.71,-123.47 703.34,-128.42 708.47,-133.18\"/>\n",
       "</g>\n",
       "<!-- dictIdxStack&#45;&gt;dictStack -->\n",
       "<g id=\"edge28\" class=\"edge\">\n",
       "<title>dictIdxStack&#45;&gt;dictStack</title>\n",
       "<path fill=\"none\" stroke=\"black\" d=\"M529.74,-93.2C488.23,-80.73 422.9,-61.11 379.76,-48.15\"/>\n",
       "<polygon fill=\"black\" stroke=\"black\" points=\"380.69,-44.77 370.11,-45.25 378.68,-51.48 380.69,-44.77\"/>\n",
       "</g>\n",
       "<!-- dictIdxStack&#45;&gt;declarations -->\n",
       "<g id=\"edge27\" class=\"edge\">\n",
       "<title>dictIdxStack&#45;&gt;declarations</title>\n",
       "<path fill=\"none\" stroke=\"black\" d=\"M568.51,-87.7C568.29,-79.98 568.02,-70.71 567.77,-62.11\"/>\n",
       "<polygon fill=\"black\" stroke=\"black\" points=\"571.27,-62 567.49,-52.1 564.28,-62.2 571.27,-62\"/>\n",
       "</g>\n",
       "<!-- addrStack&#45;&gt;declarations -->\n",
       "<g id=\"edge29\" class=\"edge\">\n",
       "<title>addrStack&#45;&gt;declarations</title>\n",
       "<path fill=\"none\" stroke=\"black\" d=\"M698.47,-92.16C672.94,-81.06 635.8,-64.91 607.5,-52.61\"/>\n",
       "<polygon fill=\"black\" stroke=\"black\" points=\"608.83,-49.37 598.27,-48.59 606.04,-55.79 608.83,-49.37\"/>\n",
       "</g>\n",
       "</g>\n",
       "</svg>\n"
      ],
      "text/plain": [
       "<graphviz.dot.Digraph at 0x11a557760>"
      ]
     },
     "execution_count": 57,
     "metadata": {},
     "output_type": "execute_result"
    },
    {
     "data": {
      "image/png": "[encoded data removed]",
      "text/plain": [
       "<Figure size 432x288 with 1 Axes>"
      ]
     },
     "metadata": {
      "needs_background": "light"
     },
     "output_type": "display_data"
    }
   ],
   "source": [
    "fitness_values = []\n",
    "solution = hillclimbing()\n",
    "plt.plot(fitness_values)\n",
    "plot_clusters(solution)"
   ]
  },
  {
   "cell_type": "markdown",
   "metadata": {},
   "source": [
    "To apply evolutionary search, we need to define variation operators for the representation. Since the representation is a basic list, we can apply our usual crossover operators, but we need to add a custom mutation operator. To mutate, we will place each of the modules into a different cluster with a certain probability depending on the number of modules:"
   ]
  },
  {
   "cell_type": "code",
   "execution_count": 58,
   "metadata": {},
   "outputs": [],
   "source": [
    "def mutate(individual):\n",
    "    P_mutate = 1/len(individual)\n",
    "    clusters = list(set(individual))\n",
    "    new_cluster = min(set(range(0,max(clusters)+2)) - set(clusters))\n",
    "    clusters.append(new_cluster)\n",
    "\n",
    "    copy = individual[:]\n",
    "    for position in range(len(individual)):\n",
    "        if random.random() < P_mutate:\n",
    "            copy[position] = random.choice(clusters)\n",
    "    return copy"
   ]
  },
  {
   "cell_type": "markdown",
   "metadata": {},
   "source": [
    "That's all we require in order to apply a genetic algorithm on the software module clustering problem:"
   ]
  },
  {
   "cell_type": "code",
   "execution_count": 59,
   "metadata": {},
   "outputs": [
    {
     "name": "stdout",
     "output_type": "stream",
     "text": [
      "Iteration 0, best fitness: 0.7584117032392894\n",
      "Iteration 2, best fitness: 0.8606060606060606\n",
      "Iteration 3, best fitness: 1.058874458874459\n",
      "Iteration 6, best fitness: 1.1134199134199134\n",
      "Iteration 6, best fitness: 1.1991043439319302\n",
      "Iteration 9, best fitness: 1.2943722943722944\n",
      "Iteration 12, best fitness: 1.3312741312741312\n"
     ]
    },
    {
     "data": {
      "image/svg+xml": [
       "<?xml version=\"1.0\" encoding=\"UTF-8\" standalone=\"no\"?>\n",
       "<!DOCTYPE svg PUBLIC \"-//W3C//DTD SVG 1.1//EN\"\n",
       " \"http://www.w3.org/Graphics/SVG/1.1/DTD/svg11.dtd\">\n",
       "<!-- Generated by graphviz version 2.44.1 (20200629.0846)\n",
       " -->\n",
       "<!-- Pages: 1 -->\n",
       "<svg width=\"740pt\" height=\"312pt\"\n",
       " viewBox=\"0.00 0.00 739.89 312.41\" xmlns=\"http://www.w3.org/2000/svg\" xmlns:xlink=\"http://www.w3.org/1999/xlink\">\n",
       "<g id=\"graph0\" class=\"graph\" transform=\"scale(1 1) rotate(0) translate(4 308.41)\">\n",
       "<polygon fill=\"white\" stroke=\"transparent\" points=\"-4,4 -4,-308.41 735.89,-308.41 735.89,4 -4,4\"/>\n",
       "<g id=\"clust1\" class=\"cluster\">\n",
       "<title>cluster1</title>\n",
       "<polygon fill=\"none\" stroke=\"black\" points=\"94.89,-8 94.89,-276 392.89,-276 392.89,-8 94.89,-8\"/>\n",
       "</g>\n",
       "<g id=\"clust2\" class=\"cluster\">\n",
       "<title>cluster2</title>\n",
       "<polygon fill=\"none\" stroke=\"black\" points=\"429.89,-8 429.89,-276 723.89,-276 723.89,-8 429.89,-8\"/>\n",
       "</g>\n",
       "<!-- declarations -->\n",
       "<g id=\"node1\" class=\"node\">\n",
       "<title>declarations</title>\n",
       "<ellipse fill=\"none\" stroke=\"black\" cx=\"181.89\" cy=\"-34\" rx=\"53.09\" ry=\"18\"/>\n",
       "<text text-anchor=\"middle\" x=\"181.89\" y=\"-30.3\" font-family=\"Times,serif\" font-size=\"14.00\">declarations</text>\n",
       "</g>\n",
       "<!-- parser -->\n",
       "<g id=\"node2\" class=\"node\">\n",
       "<title>parser</title>\n",
       "<ellipse fill=\"none\" stroke=\"black\" cx=\"340.89\" cy=\"-250\" rx=\"32.49\" ry=\"18\"/>\n",
       "<text text-anchor=\"middle\" x=\"340.89\" y=\"-246.3\" font-family=\"Times,serif\" font-size=\"14.00\">parser</text>\n",
       "</g>\n",
       "<!-- parser&#45;&gt;declarations -->\n",
       "<g id=\"edge4\" class=\"edge\">\n",
       "<title>parser&#45;&gt;declarations</title>\n",
       "<path fill=\"none\" stroke=\"black\" d=\"M309.07,-246.34C252.45,-240.88 137.91,-226.28 113.89,-196 98.23,-176.26 122.6,-101.43 129.89,-88 135.99,-76.76 145.17,-66.27 154.13,-57.64\"/>\n",
       "<polygon fill=\"black\" stroke=\"black\" points=\"156.53,-60.19 161.53,-50.85 151.8,-55.03 156.53,-60.19\"/>\n",
       "</g>\n",
       "<!-- scopeController -->\n",
       "<g id=\"node3\" class=\"node\">\n",
       "<title>scopeController</title>\n",
       "<ellipse fill=\"none\" stroke=\"black\" cx=\"189.89\" cy=\"-178\" rx=\"66.89\" ry=\"18\"/>\n",
       "<text text-anchor=\"middle\" x=\"189.89\" y=\"-174.3\" font-family=\"Times,serif\" font-size=\"14.00\">scopeController</text>\n",
       "</g>\n",
       "<!-- parser&#45;&gt;scopeController -->\n",
       "<g id=\"edge6\" class=\"edge\">\n",
       "<title>parser&#45;&gt;scopeController</title>\n",
       "<path fill=\"none\" stroke=\"black\" d=\"M316.63,-237.75C293.66,-227.11 258.71,-210.9 231.33,-198.21\"/>\n",
       "<polygon fill=\"black\" stroke=\"black\" points=\"232.53,-194.91 221.99,-193.88 229.59,-201.26 232.53,-194.91\"/>\n",
       "</g>\n",
       "<!-- typeChecker -->\n",
       "<g id=\"node4\" class=\"node\">\n",
       "<title>typeChecker</title>\n",
       "<ellipse fill=\"none\" stroke=\"black\" cx=\"329.89\" cy=\"-178\" rx=\"55.49\" ry=\"18\"/>\n",
       "<text text-anchor=\"middle\" x=\"329.89\" y=\"-174.3\" font-family=\"Times,serif\" font-size=\"14.00\">typeChecker</text>\n",
       "</g>\n",
       "<!-- parser&#45;&gt;typeChecker -->\n",
       "<g id=\"edge7\" class=\"edge\">\n",
       "<title>parser&#45;&gt;typeChecker</title>\n",
       "<path fill=\"none\" stroke=\"black\" d=\"M338.23,-232.05C337.02,-224.35 335.55,-215.03 334.19,-206.36\"/>\n",
       "<polygon fill=\"black\" stroke=\"black\" points=\"337.62,-205.61 332.61,-196.28 330.7,-206.7 337.62,-205.61\"/>\n",
       "</g>\n",
       "<!-- codeGenerator -->\n",
       "<g id=\"node8\" class=\"node\">\n",
       "<title>codeGenerator</title>\n",
       "<ellipse fill=\"none\" stroke=\"black\" cx=\"499.89\" cy=\"-178\" rx=\"62.29\" ry=\"18\"/>\n",
       "<text text-anchor=\"middle\" x=\"499.89\" y=\"-174.3\" font-family=\"Times,serif\" font-size=\"14.00\">codeGenerator</text>\n",
       "</g>\n",
       "<!-- parser&#45;&gt;codeGenerator -->\n",
       "<g id=\"edge8\" class=\"edge\">\n",
       "<title>parser&#45;&gt;codeGenerator</title>\n",
       "<path fill=\"none\" stroke=\"black\" d=\"M365.73,-238.06C390.4,-227.2 428.68,-210.35 458.04,-197.42\"/>\n",
       "<polygon fill=\"black\" stroke=\"black\" points=\"459.49,-200.61 467.23,-193.38 456.67,-194.2 459.49,-200.61\"/>\n",
       "</g>\n",
       "<!-- scanner -->\n",
       "<g id=\"node9\" class=\"node\">\n",
       "<title>scanner</title>\n",
       "<ellipse fill=\"none\" stroke=\"black\" cx=\"475.89\" cy=\"-250\" rx=\"37.89\" ry=\"18\"/>\n",
       "<text text-anchor=\"middle\" x=\"475.89\" y=\"-246.3\" font-family=\"Times,serif\" font-size=\"14.00\">scanner</text>\n",
       "</g>\n",
       "<!-- parser&#45;&gt;scanner -->\n",
       "<g id=\"edge5\" class=\"edge\">\n",
       "<title>parser&#45;&gt;scanner</title>\n",
       "<path fill=\"none\" stroke=\"black\" d=\"M373.59,-250C391.68,-250 409.78,-250 427.87,-250\"/>\n",
       "<polygon fill=\"black\" stroke=\"black\" points=\"427.93,-253.5 437.93,-250 427.93,-246.5 427.93,-253.5\"/>\n",
       "</g>\n",
       "<!-- scopeController&#45;&gt;declarations -->\n",
       "<g id=\"edge15\" class=\"edge\">\n",
       "<title>scopeController&#45;&gt;declarations</title>\n",
       "<path fill=\"none\" stroke=\"black\" d=\"M167.92,-160.97C156.96,-151.58 144.81,-138.69 138.89,-124 132.91,-109.16 133.54,-103.08 138.89,-88 142.67,-77.34 149.61,-67.25 156.83,-58.8\"/>\n",
       "<polygon fill=\"black\" stroke=\"black\" points=\"159.59,-60.98 163.75,-51.24 154.42,-56.26 159.59,-60.98\"/>\n",
       "</g>\n",
       "<!-- dictionary -->\n",
       "<g id=\"node10\" class=\"node\">\n",
       "<title>dictionary</title>\n",
       "<ellipse fill=\"none\" stroke=\"black\" cx=\"541.89\" cy=\"-106\" rx=\"46.29\" ry=\"18\"/>\n",
       "<text text-anchor=\"middle\" x=\"541.89\" y=\"-102.3\" font-family=\"Times,serif\" font-size=\"14.00\">dictionary</text>\n",
       "</g>\n",
       "<!-- scopeController&#45;&gt;dictionary -->\n",
       "<g id=\"edge16\" class=\"edge\">\n",
       "<title>scopeController&#45;&gt;dictionary</title>\n",
       "<path fill=\"none\" stroke=\"black\" d=\"M239.31,-165.72C248.15,-163.76 257.29,-161.79 265.89,-160 344.14,-143.74 435.25,-126.59 490.73,-116.34\"/>\n",
       "<polygon fill=\"black\" stroke=\"black\" points=\"491.46,-119.77 500.66,-114.51 490.2,-112.88 491.46,-119.77\"/>\n",
       "</g>\n",
       "<!-- dictIdxStack -->\n",
       "<g id=\"node11\" class=\"node\">\n",
       "<title>dictIdxStack</title>\n",
       "<ellipse fill=\"none\" stroke=\"black\" cx=\"660.89\" cy=\"-106\" rx=\"55.49\" ry=\"18\"/>\n",
       "<text text-anchor=\"middle\" x=\"660.89\" y=\"-102.3\" font-family=\"Times,serif\" font-size=\"14.00\">dictIdxStack</text>\n",
       "</g>\n",
       "<!-- scopeController&#45;&gt;dictIdxStack -->\n",
       "<g id=\"edge17\" class=\"edge\">\n",
       "<title>scopeController&#45;&gt;dictIdxStack</title>\n",
       "<path fill=\"none\" stroke=\"black\" d=\"M237.98,-165.39C247.21,-163.41 256.82,-161.5 265.89,-160 411.88,-135.81 451.41,-151.07 596.89,-124 601.59,-123.13 606.45,-122.09 611.29,-120.96\"/>\n",
       "<polygon fill=\"black\" stroke=\"black\" points=\"612.28,-124.32 621.16,-118.55 610.61,-117.52 612.28,-124.32\"/>\n",
       "</g>\n",
       "<!-- dictStack -->\n",
       "<g id=\"node12\" class=\"node\">\n",
       "<title>dictStack</title>\n",
       "<ellipse fill=\"none\" stroke=\"black\" cx=\"481.89\" cy=\"-34\" rx=\"43.59\" ry=\"18\"/>\n",
       "<text text-anchor=\"middle\" x=\"481.89\" y=\"-30.3\" font-family=\"Times,serif\" font-size=\"14.00\">dictStack</text>\n",
       "</g>\n",
       "<!-- scopeController&#45;&gt;dictStack -->\n",
       "<g id=\"edge18\" class=\"edge\">\n",
       "<title>scopeController&#45;&gt;dictStack</title>\n",
       "<path fill=\"none\" stroke=\"black\" d=\"M239.61,-165.81C285.77,-154.84 350.62,-137.82 372.89,-124 391.33,-112.56 389.56,-102.29 405.89,-88 419.62,-75.98 436.11,-64.21 450.22,-54.82\"/>\n",
       "<polygon fill=\"black\" stroke=\"black\" points=\"452.19,-57.71 458.64,-49.3 448.36,-51.85 452.19,-57.71\"/>\n",
       "</g>\n",
       "<!-- typeChecker&#45;&gt;declarations -->\n",
       "<g id=\"edge19\" class=\"edge\">\n",
       "<title>typeChecker&#45;&gt;declarations</title>\n",
       "<path fill=\"none\" stroke=\"black\" d=\"M288.56,-165.88C237.85,-152.05 158.03,-129.57 153.89,-124 139.88,-105.15 150.73,-79.09 162.77,-60.04\"/>\n",
       "<polygon fill=\"black\" stroke=\"black\" points=\"165.79,-61.82 168.49,-51.58 159.99,-57.91 165.79,-61.82\"/>\n",
       "</g>\n",
       "<!-- typeStack -->\n",
       "<g id=\"node6\" class=\"node\">\n",
       "<title>typeStack</title>\n",
       "<ellipse fill=\"none\" stroke=\"black\" cx=\"207.89\" cy=\"-106\" rx=\"45.49\" ry=\"18\"/>\n",
       "<text text-anchor=\"middle\" x=\"207.89\" y=\"-102.3\" font-family=\"Times,serif\" font-size=\"14.00\">typeStack</text>\n",
       "</g>\n",
       "<!-- typeChecker&#45;&gt;typeStack -->\n",
       "<g id=\"edge23\" class=\"edge\">\n",
       "<title>typeChecker&#45;&gt;typeStack</title>\n",
       "<path fill=\"none\" stroke=\"black\" d=\"M303.72,-161.98C285.59,-151.58 261.28,-137.63 241.68,-126.39\"/>\n",
       "<polygon fill=\"black\" stroke=\"black\" points=\"243.19,-123.22 232.77,-121.27 239.7,-129.29 243.19,-123.22\"/>\n",
       "</g>\n",
       "<!-- typeChecker&#45;&gt;dictionary -->\n",
       "<g id=\"edge21\" class=\"edge\">\n",
       "<title>typeChecker&#45;&gt;dictionary</title>\n",
       "<path fill=\"none\" stroke=\"black\" d=\"M367.3,-164.65C403.75,-152.61 459.15,-134.32 497.74,-121.58\"/>\n",
       "<polygon fill=\"black\" stroke=\"black\" points=\"499.26,-124.76 507.65,-118.3 497.06,-118.12 499.26,-124.76\"/>\n",
       "</g>\n",
       "<!-- typeChecker&#45;&gt;dictIdxStack -->\n",
       "<g id=\"edge22\" class=\"edge\">\n",
       "<title>typeChecker&#45;&gt;dictIdxStack</title>\n",
       "<path fill=\"none\" stroke=\"black\" d=\"M377.35,-168.52C430.89,-158.74 520.47,-141.72 596.89,-124 601.23,-122.99 605.72,-121.9 610.22,-120.78\"/>\n",
       "<polygon fill=\"black\" stroke=\"black\" points=\"611.2,-124.14 620.02,-118.27 609.46,-117.36 611.2,-124.14\"/>\n",
       "</g>\n",
       "<!-- typeChecker&#45;&gt;dictStack -->\n",
       "<g id=\"edge20\" class=\"edge\">\n",
       "<title>typeChecker&#45;&gt;dictStack</title>\n",
       "<path fill=\"none\" stroke=\"black\" d=\"M355.04,-161.78C370.45,-151.91 390.16,-138.26 405.89,-124 427.69,-104.24 449.15,-78.35 463.67,-59.6\"/>\n",
       "<polygon fill=\"black\" stroke=\"black\" points=\"466.55,-61.6 469.84,-51.53 460.98,-57.35 466.55,-61.6\"/>\n",
       "</g>\n",
       "<!-- argCntStack -->\n",
       "<g id=\"node13\" class=\"node\">\n",
       "<title>argCntStack</title>\n",
       "<ellipse fill=\"none\" stroke=\"black\" cx=\"585.89\" cy=\"-250\" rx=\"53.89\" ry=\"18\"/>\n",
       "<text text-anchor=\"middle\" x=\"585.89\" y=\"-246.3\" font-family=\"Times,serif\" font-size=\"14.00\">argCntStack</text>\n",
       "</g>\n",
       "<!-- typeChecker&#45;&gt;argCntStack -->\n",
       "<g id=\"edge24\" class=\"edge\">\n",
       "<title>typeChecker&#45;&gt;argCntStack</title>\n",
       "<path fill=\"none\" stroke=\"black\" d=\"M370.78,-190.18C415.6,-202.43 487.51,-222.1 535.7,-235.28\"/>\n",
       "<polygon fill=\"black\" stroke=\"black\" points=\"535.04,-238.72 545.61,-237.99 536.89,-231.97 535.04,-238.72\"/>\n",
       "</g>\n",
       "<!-- addrStack -->\n",
       "<g id=\"node5\" class=\"node\">\n",
       "<title>addrStack</title>\n",
       "<ellipse fill=\"none\" stroke=\"black\" cx=\"317.89\" cy=\"-106\" rx=\"46.29\" ry=\"18\"/>\n",
       "<text text-anchor=\"middle\" x=\"317.89\" y=\"-102.3\" font-family=\"Times,serif\" font-size=\"14.00\">addrStack</text>\n",
       "</g>\n",
       "<!-- addrStack&#45;&gt;declarations -->\n",
       "<g id=\"edge29\" class=\"edge\">\n",
       "<title>addrStack&#45;&gt;declarations</title>\n",
       "<path fill=\"none\" stroke=\"black\" d=\"M291.02,-91.17C270.47,-80.59 241.9,-65.89 219.15,-54.18\"/>\n",
       "<polygon fill=\"black\" stroke=\"black\" points=\"220.6,-50.99 210.11,-49.52 217.4,-57.21 220.6,-50.99\"/>\n",
       "</g>\n",
       "<!-- typeStack&#45;&gt;declarations -->\n",
       "<g id=\"edge31\" class=\"edge\">\n",
       "<title>typeStack&#45;&gt;declarations</title>\n",
       "<path fill=\"none\" stroke=\"black\" d=\"M201.6,-88.05C198.67,-80.18 195.12,-70.62 191.84,-61.79\"/>\n",
       "<polygon fill=\"black\" stroke=\"black\" points=\"195.07,-60.43 188.31,-52.28 188.51,-62.87 195.07,-60.43\"/>\n",
       "</g>\n",
       "<!-- main -->\n",
       "<g id=\"node7\" class=\"node\">\n",
       "<title>main</title>\n",
       "<ellipse fill=\"none\" stroke=\"black\" cx=\"686.89\" cy=\"-250\" rx=\"28.7\" ry=\"18\"/>\n",
       "<text text-anchor=\"middle\" x=\"686.89\" y=\"-246.3\" font-family=\"Times,serif\" font-size=\"14.00\">main</text>\n",
       "</g>\n",
       "<!-- main&#45;&gt;declarations -->\n",
       "<g id=\"edge1\" class=\"edge\">\n",
       "<title>main&#45;&gt;declarations</title>\n",
       "<path fill=\"none\" stroke=\"black\" d=\"M665.66,-237.92C660.32,-235.58 654.5,-233.4 648.89,-232 591.08,-217.61 154.58,-239.52 113.89,-196 97.2,-178.15 120.5,-105.31 129.89,-88 135.99,-76.76 145.17,-66.27 154.13,-57.64\"/>\n",
       "<polygon fill=\"black\" stroke=\"black\" points=\"156.53,-60.19 161.53,-50.85 151.8,-55.03 156.53,-60.19\"/>\n",
       "</g>\n",
       "<!-- main&#45;&gt;parser -->\n",
       "<g id=\"edge2\" class=\"edge\">\n",
       "<title>main&#45;&gt;parser</title>\n",
       "<path fill=\"none\" stroke=\"black\" d=\"M674.53,-266.7C666.05,-276.7 653.82,-288.5 639.89,-294 597.52,-310.74 479.36,-303.89 434.89,-294 412.57,-289.04 389.29,-278.18 371.47,-268.5\"/>\n",
       "<polygon fill=\"black\" stroke=\"black\" points=\"373.13,-265.41 362.69,-263.58 369.71,-271.52 373.13,-265.41\"/>\n",
       "</g>\n",
       "<!-- main&#45;&gt;codeGenerator -->\n",
       "<g id=\"edge3\" class=\"edge\">\n",
       "<title>main&#45;&gt;codeGenerator</title>\n",
       "<path fill=\"none\" stroke=\"black\" d=\"M664.51,-238.64C659.41,-236.37 653.99,-234.04 648.89,-232 615.8,-218.74 577.96,-205.3 548.69,-195.27\"/>\n",
       "<polygon fill=\"black\" stroke=\"black\" points=\"549.7,-191.92 539.11,-192 547.44,-198.54 549.7,-191.92\"/>\n",
       "</g>\n",
       "<!-- codeGenerator&#45;&gt;declarations -->\n",
       "<g id=\"edge9\" class=\"edge\">\n",
       "<title>codeGenerator&#45;&gt;declarations</title>\n",
       "<path fill=\"none\" stroke=\"black\" d=\"M480.96,-160.58C457.2,-140.76 414.53,-107.65 372.89,-88 329.61,-67.57 276.99,-53.7 237.94,-45.29\"/>\n",
       "<polygon fill=\"black\" stroke=\"black\" points=\"238.32,-41.79 227.82,-43.16 236.89,-48.64 238.32,-41.79\"/>\n",
       "</g>\n",
       "<!-- codeGenerator&#45;&gt;scopeController -->\n",
       "<g id=\"edge12\" class=\"edge\">\n",
       "<title>codeGenerator&#45;&gt;scopeController</title>\n",
       "<path fill=\"none\" stroke=\"black\" d=\"M463.77,-192.78C442.16,-200.81 413.92,-209.92 387.89,-214 338.27,-221.78 324.11,-223.99 274.89,-214 259.45,-210.87 243.33,-204.83 229.34,-198.58\"/>\n",
       "<polygon fill=\"black\" stroke=\"black\" points=\"230.56,-195.29 220.02,-194.26 227.62,-201.64 230.56,-195.29\"/>\n",
       "</g>\n",
       "<!-- codeGenerator&#45;&gt;addrStack -->\n",
       "<g id=\"edge13\" class=\"edge\">\n",
       "<title>codeGenerator&#45;&gt;addrStack</title>\n",
       "<path fill=\"none\" stroke=\"black\" d=\"M463.93,-163.17C433.7,-151.54 390.49,-134.92 358.92,-122.78\"/>\n",
       "<polygon fill=\"black\" stroke=\"black\" points=\"360.11,-119.49 349.52,-119.16 357.59,-126.02 360.11,-119.49\"/>\n",
       "</g>\n",
       "<!-- codeGenerator&#45;&gt;dictionary -->\n",
       "<g id=\"edge10\" class=\"edge\">\n",
       "<title>codeGenerator&#45;&gt;dictionary</title>\n",
       "<path fill=\"none\" stroke=\"black\" d=\"M510.06,-160.05C515.01,-151.8 521.07,-141.7 526.57,-132.54\"/>\n",
       "<polygon fill=\"black\" stroke=\"black\" points=\"529.67,-134.16 531.82,-123.79 523.67,-130.56 529.67,-134.16\"/>\n",
       "</g>\n",
       "<!-- codeGenerator&#45;&gt;dictIdxStack -->\n",
       "<g id=\"edge11\" class=\"edge\">\n",
       "<title>codeGenerator&#45;&gt;dictIdxStack</title>\n",
       "<path fill=\"none\" stroke=\"black\" d=\"M532.86,-162.67C558.04,-151.72 592.89,-136.56 619.88,-124.83\"/>\n",
       "<polygon fill=\"black\" stroke=\"black\" points=\"621.29,-128.04 629.06,-120.84 618.5,-121.62 621.29,-128.04\"/>\n",
       "</g>\n",
       "<!-- scanner&#45;&gt;declarations -->\n",
       "<g id=\"edge14\" class=\"edge\">\n",
       "<title>scanner&#45;&gt;declarations</title>\n",
       "<path fill=\"none\" stroke=\"black\" d=\"M442.99,-241.03C428.87,-237.84 412.14,-234.37 396.89,-232 355.64,-225.6 50.96,-226.9 22.89,-196 -9.38,-160.47 -5.18,-126.94 22.89,-88 44.8,-57.6 84.91,-44.37 119.36,-38.73\"/>\n",
       "<polygon fill=\"black\" stroke=\"black\" points=\"119.98,-42.18 129.37,-37.28 118.97,-35.25 119.98,-42.18\"/>\n",
       "</g>\n",
       "<!-- dictionary&#45;&gt;declarations -->\n",
       "<g id=\"edge25\" class=\"edge\">\n",
       "<title>dictionary&#45;&gt;declarations</title>\n",
       "<path fill=\"none\" stroke=\"black\" d=\"M501.64,-97.17C436.98,-84.6 309.84,-59.88 236.87,-45.69\"/>\n",
       "<polygon fill=\"black\" stroke=\"black\" points=\"237.43,-42.23 226.94,-43.76 236.09,-49.1 237.43,-42.23\"/>\n",
       "</g>\n",
       "<!-- dictionary&#45;&gt;dictStack -->\n",
       "<g id=\"edge26\" class=\"edge\">\n",
       "<title>dictionary&#45;&gt;dictStack</title>\n",
       "<path fill=\"none\" stroke=\"black\" d=\"M527.97,-88.76C520.4,-79.93 510.89,-68.83 502.47,-59.01\"/>\n",
       "<polygon fill=\"black\" stroke=\"black\" points=\"504.9,-56.46 495.73,-51.15 499.58,-61.02 504.9,-56.46\"/>\n",
       "</g>\n",
       "<!-- dictIdxStack&#45;&gt;declarations -->\n",
       "<g id=\"edge27\" class=\"edge\">\n",
       "<title>dictIdxStack&#45;&gt;declarations</title>\n",
       "<path fill=\"none\" stroke=\"black\" d=\"M620.79,-93.48C612.91,-91.46 604.68,-89.52 596.89,-88 472.31,-63.61 324.4,-47.82 243.09,-40.25\"/>\n",
       "<polygon fill=\"black\" stroke=\"black\" points=\"243.31,-36.76 233.03,-39.33 242.67,-43.73 243.31,-36.76\"/>\n",
       "</g>\n",
       "<!-- dictIdxStack&#45;&gt;dictStack -->\n",
       "<g id=\"edge28\" class=\"edge\">\n",
       "<title>dictIdxStack&#45;&gt;dictStack</title>\n",
       "<path fill=\"none\" stroke=\"black\" d=\"M626.8,-91.67C596.92,-79.99 553.47,-62.99 521.94,-50.66\"/>\n",
       "<polygon fill=\"black\" stroke=\"black\" points=\"523.16,-47.38 512.57,-47 520.61,-53.9 523.16,-47.38\"/>\n",
       "</g>\n",
       "<!-- dictStack&#45;&gt;declarations -->\n",
       "<g id=\"edge30\" class=\"edge\">\n",
       "<title>dictStack&#45;&gt;declarations</title>\n",
       "<path fill=\"none\" stroke=\"black\" d=\"M438.05,-34C373.87,-34 309.69,-34 245.51,-34\"/>\n",
       "<polygon fill=\"black\" stroke=\"black\" points=\"245.21,-30.5 235.21,-34 245.21,-37.5 245.21,-30.5\"/>\n",
       "</g>\n",
       "<!-- argCntStack&#45;&gt;declarations -->\n",
       "<g id=\"edge32\" class=\"edge\">\n",
       "<title>argCntStack&#45;&gt;declarations</title>\n",
       "<path fill=\"none\" stroke=\"black\" d=\"M547.16,-237.34C539.19,-235.28 530.82,-233.37 522.89,-232 472.15,-223.26 95.86,-233.8 60.89,-196 28.29,-160.77 34.63,-128.18 60.89,-88 75.28,-65.98 101.07,-53.06 125.15,-45.49\"/>\n",
       "<polygon fill=\"black\" stroke=\"black\" points=\"126.33,-48.79 134.97,-42.66 124.39,-42.07 126.33,-48.79\"/>\n",
       "</g>\n",
       "</g>\n",
       "</svg>\n"
      ],
      "text/plain": [
       "<graphviz.dot.Digraph at 0x11a0df670>"
      ]
     },
     "execution_count": 59,
     "metadata": {},
     "output_type": "execute_result"
    },
    {
     "data": {
      "image/png": "[encoded data removed]",
      "text/plain": [
       "<Figure size 432x288 with 1 Axes>"
      ]
     },
     "metadata": {
      "needs_background": "light"
     },
     "output_type": "display_data"
    }
   ],
   "source": [
    "fitness_values = []\n",
    "selection = tournament_selection\n",
    "tournament_size = 2\n",
    "crossover = uniform_crossover\n",
    "population_size = 20\n",
    "\n",
    "solution = ga()\n",
    "plt.plot(fitness_values)\n",
    "plot_clusters(solution)"
   ]
  },
  {
   "cell_type": "markdown",
   "metadata": {},
   "source": [
    "Let's have a more systematic look how local search compares to evolutionary search on this problem:"
   ]
  },
  {
   "cell_type": "code",
   "execution_count": 60,
   "metadata": {},
   "outputs": [],
   "source": [
    "from IPython.utils import io\n",
    "\n",
    "def run_times(algorithm, repetitions):\n",
    "    global fitness_values\n",
    "    result = []\n",
    "    for i in range(repetitions):\n",
    "        fitness_values = []\n",
    "        with io.capture_output() as captured: \n",
    "            algorithm()\n",
    "        result.append(fitness_values[-1])\n",
    "    return result"
   ]
  },
  {
   "cell_type": "code",
   "execution_count": 61,
   "metadata": {
    "scrolled": true
   },
   "outputs": [
    {
     "data": {
      "text/plain": [
       "[Text(1, 0, 'GA'), Text(2, 0, 'HC')]"
      ]
     },
     "execution_count": 61,
     "metadata": {},
     "output_type": "execute_result"
    },
    {
     "data": {
      "image/png": "[encoded data removed]",
      "text/plain": [
       "<Figure size 432x288 with 1 Axes>"
      ]
     },
     "metadata": {
      "needs_background": "light"
     },
     "output_type": "display_data"
    }
   ],
   "source": [
    "max_steps  = 1000\n",
    "\n",
    "selection       = tournament_selection\n",
    "tournament_size = 2\n",
    "crossover       = singlepoint_crossover\n",
    "elite_size      = 1\n",
    "population_size = 20\n",
    "\n",
    "results = {\"GA\" : run_times(ga, 10), \n",
    "           \"HC\" : run_times(hillclimbing, 10)}\n",
    "fig, ax = plt.subplots()\n",
    "ax.boxplot(results.values())\n",
    "ax.set_xticklabels(results.keys())"
   ]
  },
  {
   "cell_type": "markdown",
   "metadata": {},
   "source": [
    "There probably isn't much difference (if anything, the GA may perform worse). We can, however, look at more complex problems:"
   ]
  },
  {
   "cell_type": "code",
   "execution_count": 62,
   "metadata": {},
   "outputs": [],
   "source": [
    "module_ids = {}\n",
    "name_to_id = {}\n",
    "connections = []\n",
    "\n",
    "parse_mdg(\"data/mdg/telnet2.mdg\")"
   ]
  },
  {
   "cell_type": "markdown",
   "metadata": {},
   "source": [
    "This is the classic Unix network application `telnet`, which is slightly larger than the compiler example:"
   ]
  },
  {
   "cell_type": "code",
   "execution_count": 63,
   "metadata": {},
   "outputs": [
    {
     "name": "stdout",
     "output_type": "stream",
     "text": [
      "28 modules, 81 connections\n"
     ]
    }
   ],
   "source": [
    "print(f\"{len(module_ids)} modules, {len(connections)} connections\")"
   ]
  },
  {
   "cell_type": "markdown",
   "metadata": {},
   "source": [
    "It's still not really large, but anything beyond that would require a somewhat more efficient implementation to calculate the fitness values, and in particular to cache them to avoid redundant fitness calculations. Be warned, running the next steps might take some time, and so we'll just do a single run:"
   ]
  },
  {
   "cell_type": "code",
   "execution_count": 64,
   "metadata": {},
   "outputs": [
    {
     "name": "stdout",
     "output_type": "stream",
     "text": [
      "Iteration 0, best fitness: 0.5843380500096919\n",
      "Iteration 1, best fitness: 0.6356100656652691\n",
      "Iteration 3, best fitness: 0.6914736051108981\n",
      "Iteration 5, best fitness: 0.7024036842220073\n",
      "Iteration 6, best fitness: 0.7128948744978186\n",
      "Iteration 6, best fitness: 0.7167328275895031\n",
      "Iteration 6, best fitness: 0.7213243513795548\n",
      "Iteration 6, best fitness: 0.7622795115332429\n",
      "Iteration 8, best fitness: 0.7946308600312726\n",
      "Iteration 10, best fitness: 0.8952875127222741\n",
      "Iteration 13, best fitness: 0.9271999723850062\n",
      "Iteration 15, best fitness: 0.9316171614011355\n",
      "Iteration 15, best fitness: 0.983063511830635\n",
      "Iteration 18, best fitness: 0.9980058788073509\n",
      "Iteration 19, best fitness: 1.021956958590248\n",
      "Iteration 21, best fitness: 1.0688117852296959\n",
      "Iteration 22, best fitness: 1.0992417674227974\n",
      "Iteration 24, best fitness: 1.0992417674227977\n",
      "Iteration 25, best fitness: 1.1051414339085572\n",
      "Iteration 29, best fitness: 1.124675324675325\n",
      "Iteration 39, best fitness: 1.1297057373006743\n",
      "Iteration 46, best fitness: 1.169224107167917\n",
      "Iteration 47, best fitness: 1.1750780864704917\n",
      "Starting at fitness 0.34594152525045996: [19, 16, 7, 20, 20, 10, 3, 19, 21, 13, 6, 17, 15, 11, 20, 20, 3, 4, 16, 26, 14, 17, 0, 25, 5, 7, 25, 6]\n",
      "Iteration 2, fitness 0.34594152525045996: [19, 16, 7, 20, 20, 10, 3, 19, 21, 13, 6, 17, 15, 11, 20, 20, 3, 4, 16, 26, 14, 17, 0, 25, 5, 7, 25, 6]\n",
      "Iteration 16, fitness 0.3719543184274323: [3, 16, 7, 20, 20, 10, 3, 19, 21, 13, 6, 17, 15, 11, 20, 20, 3, 4, 16, 26, 14, 17, 0, 25, 5, 7, 25, 6]\n",
      "Iteration 36, fitness 0.38689668540414807: [20, 16, 7, 20, 20, 10, 3, 19, 21, 13, 6, 17, 15, 11, 20, 20, 3, 4, 16, 26, 14, 17, 0, 25, 5, 7, 25, 6]\n",
      "Iteration 74, fitness 0.41290947858112037: [20, 3, 7, 20, 20, 10, 3, 19, 21, 13, 6, 17, 15, 11, 20, 20, 3, 4, 16, 26, 14, 17, 0, 25, 5, 7, 25, 6]\n",
      "Iteration 96, fitness 0.43433074796804094: [20, 3, 3, 20, 20, 10, 3, 19, 21, 13, 6, 17, 15, 11, 20, 20, 3, 4, 16, 26, 14, 17, 0, 25, 5, 7, 25, 6]\n",
      "Iteration 130, fitness 0.4389222717580926: [20, 6, 3, 20, 20, 10, 3, 19, 21, 13, 6, 17, 15, 11, 20, 20, 3, 4, 16, 26, 14, 17, 0, 25, 5, 7, 25, 6]\n",
      "Iteration 221, fitness 0.43892227175809273: [20, 25, 3, 20, 20, 10, 3, 19, 21, 13, 6, 17, 15, 11, 20, 20, 3, 4, 16, 26, 14, 17, 0, 25, 5, 7, 25, 6]\n",
      "Iteration 307, fitness 0.4687730180267494: [20, 25, 3, 20, 20, 0, 3, 19, 21, 13, 6, 17, 15, 11, 20, 20, 3, 4, 16, 26, 14, 17, 0, 25, 5, 7, 25, 6]\n",
      "Iteration 326, fitness 0.49019428741367: [20, 25, 3, 20, 20, 3, 3, 19, 21, 13, 6, 17, 15, 11, 20, 20, 3, 4, 16, 26, 14, 17, 0, 25, 5, 7, 25, 6]\n",
      "Iteration 446, fitness 0.5051366543903858: [20, 3, 3, 20, 20, 3, 3, 19, 21, 13, 6, 17, 15, 11, 20, 20, 3, 4, 16, 26, 14, 17, 0, 25, 5, 7, 25, 6]\n",
      "Iteration 559, fitness 0.5349874006590424: [20, 3, 3, 20, 20, 3, 3, 0, 21, 13, 6, 17, 15, 11, 20, 20, 3, 4, 16, 26, 14, 17, 0, 25, 5, 7, 25, 6]\n",
      "Iteration 579, fitness 0.5505090035602033: [20, 3, 3, 20, 20, 3, 3, 3, 21, 13, 6, 17, 15, 11, 20, 20, 3, 4, 16, 26, 14, 17, 0, 25, 5, 7, 25, 6]\n",
      "Iteration 606, fitness 0.5610001938360146: [20, 6, 3, 20, 20, 3, 3, 3, 21, 13, 6, 17, 15, 11, 20, 20, 3, 4, 16, 26, 14, 17, 0, 25, 5, 7, 25, 6]\n",
      "Iteration 735, fitness 0.5610001938360147: [20, 17, 3, 20, 20, 3, 3, 3, 21, 13, 6, 17, 15, 11, 20, 20, 3, 4, 16, 26, 14, 17, 0, 25, 5, 7, 25, 6]\n",
      "Iteration 856, fitness 0.5908509401046714: [20, 17, 3, 20, 20, 3, 3, 3, 0, 13, 6, 17, 15, 11, 20, 20, 3, 4, 16, 26, 14, 17, 0, 25, 5, 7, 25, 6]\n",
      "Iteration 890, fitness 0.6063725430058323: [20, 17, 3, 20, 20, 3, 3, 3, 3, 13, 6, 17, 15, 11, 20, 20, 3, 4, 16, 26, 14, 17, 0, 25, 5, 7, 25, 6]\n",
      "Iteration 933, fitness 0.6168637332816437: [20, 17, 6, 20, 20, 3, 3, 3, 3, 13, 6, 17, 15, 11, 20, 20, 3, 4, 16, 26, 14, 17, 0, 25, 5, 7, 25, 6]\n",
      "Iteration 1069, fitness 0.6168637332816438: [20, 17, 25, 20, 20, 3, 3, 3, 3, 13, 6, 17, 15, 11, 20, 20, 3, 4, 16, 26, 14, 17, 0, 25, 5, 7, 25, 6]\n",
      "Solution fitness 0.6467144795503005: [20, 17, 25, 20, 20, 3, 3, 3, 3, 0, 6, 17, 15, 11, 20, 20, 3, 4, 16, 26, 14, 17, 0, 25, 5, 7, 25, 6]\n"
     ]
    },
    {
     "data": {
      "text/plain": [
       "<matplotlib.legend.Legend at 0x11a0a0b20>"
      ]
     },
     "execution_count": 64,
     "metadata": {},
     "output_type": "execute_result"
    },
    {
     "data": {
      "image/png": "[encoded data removed]",
      "text/plain": [
       "<Figure size 432x288 with 1 Axes>"
      ]
     },
     "metadata": {
      "needs_background": "light"
     },
     "output_type": "display_data"
    }
   ],
   "source": [
    "fitness_values = []\n",
    "selection = tournament_selection\n",
    "tournament_size = 2\n",
    "population_size = 20\n",
    "max_steps = 1000\n",
    "solution = ga()\n",
    "\n",
    "ga_values = fitness_values\n",
    "\n",
    "fitness_values = []\n",
    "hillclimbing()\n",
    "\n",
    "plt.plot(ga_values, label=\"GA\")\n",
    "plt.plot(fitness_values, label=\"HC\")\n",
    "plt.legend()"
   ]
  },
  {
   "cell_type": "markdown",
   "metadata": {},
   "source": [
    "Even without multiple runs of the algorithms to make a sound comparison, we usually see a clear trend that the GA by far outperforms the hillclimber on this problem. The reason is that the search space with this problem has become so large that the hillclimber spends far too much time exploring the vincinity of the starting point so that it misses much of the search space (at least given the tight constraint of 1000 fitness evaluations)."
   ]
  }
 ],
 "metadata": {
  "kernelspec": {
   "display_name": "3.8.6",
   "language": "python",
   "name": "3.8.6"
  },
  "language_info": {
   "codemirror_mode": {
    "name": "ipython",
    "version": 3
   },
   "file_extension": ".py",
   "mimetype": "text/x-python",
   "name": "python",
   "nbconvert_exporter": "python",
   "pygments_lexer": "ipython3",
   "version": "3.8.6"
  }
 },
 "nbformat": 4,
 "nbformat_minor": 4
}
